{
 "cells": [
  {
   "cell_type": "code",
   "execution_count": 2,
   "id": "ada7d832",
   "metadata": {
    "scrolled": true
   },
   "outputs": [
    {
     "name": "stdout",
     "output_type": "stream",
     "text": [
      "Hello World!\n"
     ]
    }
   ],
   "source": [
    "print('Hello World!')"
   ]
  },
  {
   "cell_type": "markdown",
   "id": "3f5b3201",
   "metadata": {},
   "source": [
    "#마크다운 언어로 글 양식 맞추기\n",
    "* 리스트 가능\n",
    "1. 숫자 가능\n",
    "\n",
    "1) 셀 삭제 단축키 dd\n",
    "2) 셀 병합(merge) 단축키 shift m\n",
    "3) 셀 선택 후 L -> 라인넘버\n",
    "4) 셀 선택 후 a -> 앞에 셀 추가 b -> 뒤에 셀 추가\n",
    "5) 주피터에서 restart하면 파이썬 껐다가 켜짐 "
   ]
  },
  {
   "cell_type": "code",
   "execution_count": 6,
   "id": "f68a70bc",
   "metadata": {},
   "outputs": [
    {
     "name": "stdout",
     "output_type": "stream",
     "text": [
      "helloworld\n"
     ]
    }
   ],
   "source": [
    "print(\"hello\"+\"world\")"
   ]
  },
  {
   "cell_type": "code",
   "execution_count": 12,
   "id": "fb7244d2",
   "metadata": {},
   "outputs": [
    {
     "name": "stdout",
     "output_type": "stream",
     "text": [
      "hellohello\n"
     ]
    }
   ],
   "source": [
    "print(\"hello\"*2)"
   ]
  },
  {
   "cell_type": "markdown",
   "id": "4c66f609",
   "metadata": {},
   "source": [
    "숫자는 모든 연산이 가능하다.\n",
    "하지만 문자나, 리스트와 같이 순서가 있는 것들은 뺄셈 나눗셈 등이 되지않는다.\n",
    "덧셈과 곱셈은 된다.  "
   ]
  },
  {
   "cell_type": "code",
   "execution_count": 15,
   "id": "da8edec2",
   "metadata": {},
   "outputs": [
    {
     "data": {
      "text/plain": [
       "[1, 2, 3, 1, 2, 3]"
      ]
     },
     "execution_count": 15,
     "metadata": {},
     "output_type": "execute_result"
    }
   ],
   "source": [
    "[1,2,3]+[4,5,6]\n"
   ]
  },
  {
   "cell_type": "code",
   "execution_count": 20,
   "id": "0a14c8a9",
   "metadata": {},
   "outputs": [
    {
     "data": {
      "text/plain": [
       "[1, 2, 3, 1, 2, 3]"
      ]
     },
     "execution_count": 20,
     "metadata": {},
     "output_type": "execute_result"
    }
   ],
   "source": [
    "[1,2,3]*2"
   ]
  },
  {
   "cell_type": "code",
   "execution_count": 14,
   "id": "fbd508df",
   "metadata": {},
   "outputs": [
    {
     "data": {
      "text/plain": [
       "(1, 2, 3, 4, 5, 6)"
      ]
     },
     "execution_count": 14,
     "metadata": {},
     "output_type": "execute_result"
    }
   ],
   "source": [
    "(1,2,3)+(4,5,6)"
   ]
  },
  {
   "cell_type": "code",
   "execution_count": 16,
   "id": "563ec787",
   "metadata": {},
   "outputs": [
    {
     "data": {
      "text/plain": [
       "(1, 2, 3, 1, 2, 3)"
      ]
     },
     "execution_count": 16,
     "metadata": {},
     "output_type": "execute_result"
    }
   ],
   "source": [
    "(1,2,3)*2"
   ]
  },
  {
   "cell_type": "code",
   "execution_count": 17,
   "id": "e13d09fa",
   "metadata": {},
   "outputs": [
    {
     "data": {
      "text/plain": [
       "{5}"
      ]
     },
     "execution_count": 17,
     "metadata": {},
     "output_type": "execute_result"
    }
   ],
   "source": [
    "{1,2,3,4,5} - {1,2,3,4}"
   ]
  },
  {
   "cell_type": "code",
   "execution_count": 18,
   "id": "a22ef742",
   "metadata": {},
   "outputs": [
    {
     "data": {
      "text/plain": [
       "{1, 2, 3, 4, 5, 6}"
      ]
     },
     "execution_count": 18,
     "metadata": {},
     "output_type": "execute_result"
    }
   ],
   "source": [
    "{1,2,3} | {4,5,6}"
   ]
  },
  {
   "cell_type": "code",
   "execution_count": 21,
   "id": "b4267da5",
   "metadata": {},
   "outputs": [
    {
     "data": {
      "text/plain": [
       "'hello world'"
      ]
     },
     "execution_count": 21,
     "metadata": {},
     "output_type": "execute_result"
    }
   ],
   "source": [
    "\"hello\" + \" world\""
   ]
  },
  {
   "cell_type": "markdown",
   "id": "4cb3abbc",
   "metadata": {},
   "source": [
    "깊은복사 : 가르키는게 달라서 값이 바뀌면 같이 안바뀜\n",
    "얕은복사 : 가르키는게 똑같아서 값이 바뀌면 같이 바뀜\n",
    "\n",
    "숫자와 같은건 기본이 깊은복사, 리스트와 같이 순서가 있는건 기본이 얕은복사"
   ]
  },
  {
   "cell_type": "code",
   "execution_count": 23,
   "id": "9e5aae54",
   "metadata": {},
   "outputs": [
    {
     "name": "stdout",
     "output_type": "stream",
     "text": [
      "[1, 50, 3]\n",
      "[1, 50, 3]\n",
      "[1, 50, 3]\n",
      "[1, 2, 3]\n"
     ]
    }
   ],
   "source": [
    "#얕은 복사 개념\n",
    "a = [1,2,3]\n",
    "b = a\n",
    "a[1] = 50\n",
    "\n",
    "print(a)\n",
    "print(b)\n",
    "\n",
    "#깊은 복사 개념\n",
    "a = [1,2,3]\n",
    "b = a[:]\n",
    "a[1] = 50\n",
    "print(a)\n",
    "print(b)"
   ]
  },
  {
   "cell_type": "code",
   "execution_count": 30,
   "id": "b42975ba",
   "metadata": {},
   "outputs": [
    {
     "name": "stdout",
     "output_type": "stream",
     "text": [
      "hello world"
     ]
    }
   ],
   "source": [
    "print('hello',end=' world')"
   ]
  },
  {
   "cell_type": "code",
   "execution_count": 28,
   "id": "4f27e4f7",
   "metadata": {},
   "outputs": [
    {
     "name": "stdout",
     "output_type": "stream",
     "text": [
      "h-e-l-l-o\n",
      "hello-world\n"
     ]
    }
   ],
   "source": [
    "print('-'.join(\"hello\"))\n",
    "print('-'.join([\"hello\",\"world\"]))"
   ]
  },
  {
   "cell_type": "code",
   "execution_count": 29,
   "id": "dbb44205",
   "metadata": {},
   "outputs": [
    {
     "name": "stdout",
     "output_type": "stream",
     "text": [
      "['rabbit', 'banana']\n",
      "['rabbit', 'and', 'banana']\n"
     ]
    }
   ],
   "source": [
    "print('rabbit and banana'.split(' and '))\n",
    "print('rabbit and banana'.split(' '))"
   ]
  },
  {
   "cell_type": "code",
   "execution_count": 31,
   "id": "da6071b0",
   "metadata": {},
   "outputs": [
    {
     "name": "stdout",
     "output_type": "stream",
     "text": [
      "HELLO\n",
      "xoxoHELLO\n",
      "HELLOxoxo\n"
     ]
    }
   ],
   "source": [
    "print('xoxoHELLOxoxo'.strip('xo'))\n",
    "print('xoxoHELLOxoxo'.rstrip('xo'))\n",
    "print('xoxoHELLOxoxo'.lstrip('xo'))"
   ]
  },
  {
   "cell_type": "code",
   "execution_count": 32,
   "id": "54bbcc66",
   "metadata": {},
   "outputs": [
    {
     "name": "stdout",
     "output_type": "stream",
     "text": [
      "purple apple\n"
     ]
    }
   ],
   "source": [
    "print('red apple'.replace('red','purple'))"
   ]
  },
  {
   "cell_type": "code",
   "execution_count": 42,
   "id": "baae3e54",
   "metadata": {},
   "outputs": [
    {
     "name": "stdout",
     "output_type": "stream",
     "text": [
      "HELLO\n",
      "HELLO\n",
      "HELLO\n",
      "HELLO\n"
     ]
    }
   ],
   "source": [
    "str1 = 'x10xoxoxoHExoxoxoLLOxoxoxo'\n",
    "\n",
    "print(str1.replace('xo','').replace('x10',''))\n",
    "print(str1.replace('xo','').strip('x10'))\n",
    "print(str1[3:].replace('xo',''))\n",
    "print(str1.replace('xo','')[3:])"
   ]
  },
  {
   "cell_type": "markdown",
   "id": "bbe5f0d6",
   "metadata": {},
   "source": [
    "디버깅 실습"
   ]
  },
  {
   "cell_type": "code",
   "execution_count": 47,
   "id": "6edebbda",
   "metadata": {},
   "outputs": [
    {
     "name": "stdout",
     "output_type": "stream",
     "text": [
      "asdf qwer\n",
      "hello, python\n"
     ]
    }
   ],
   "source": [
    "hello = 'asdf'\n",
    "python = 'qwer'\n",
    "print(hello, python) #문자열로 쳐주던가 변수로 만들어줄 수 있음\n",
    "print('hello, python')\n"
   ]
  },
  {
   "cell_type": "markdown",
   "id": "f135b591",
   "metadata": {},
   "source": [
    "에러의 예외처리 (exception)\n",
    "파이썬의 코드를 실행한 뒤 에러가 발생하면 except 코드를 실행한다.\n",
    "문제가 일어나는 시점에 코드가 정지하지 않도록 처리\n",
    "에러를 의도적으로 일으켜 이를 이용하는 코드를 실행\n",
    "해당 코드 실행 후 무조건 실행되는 finally 구문 추가 기능"
   ]
  },
  {
   "cell_type": "code",
   "execution_count": 55,
   "id": "51bef757",
   "metadata": {},
   "outputs": [
    {
     "name": "stdout",
     "output_type": "stream",
     "text": [
      "python try-except문 실행 : !inf\n",
      "finally문 실행\n"
     ]
    }
   ],
   "source": [
    "try:\n",
    "    print(123/0) #에러 발생했으니 except문으로 \n",
    "except:\n",
    "    print('python try-except문 실행 : !inf') #출력 후 finally문으로 \n",
    "finally:\n",
    "    print('finally문 실행') #출력 후 코드 종료"
   ]
  },
  {
   "cell_type": "markdown",
   "id": "4c6d35da",
   "metadata": {},
   "source": [
    "정규표현식(Regular Expression, RegEx)\n",
    "- 문자열의 일정한 패턴을 표현하는 방법\n",
    "- \\d =[0-9]= 십진 숫자\n",
    "- \\D =[^0-9]= 비 숫자 문자\n",
    "- \\s =[\\t\\n\\r\\f\\v]= 공백문자\n",
    "- \\S =[^ \\t\\n\\r\\f\\v]= 비 공백 문자\n",
    "- \\w =[a-zA-Z0-9_]= 영어 숫자\n",
    "- \\W =[^a-zA-Z0-9_]= 비 영어 숫자\n",
    "- [가-힣] = 한글\n",
    "\n",
    "re 패키지를 이용해서 문자열을 편집 혹은 검색을 할 수 있다."
   ]
  },
  {
   "cell_type": "code",
   "execution_count": 64,
   "id": "158449b8",
   "metadata": {},
   "outputs": [
    {
     "name": "stdout",
     "output_type": "stream",
     "text": [
      "<re.Match object; span=(0, 1), match='H'>\n",
      "<re.Match object; span=(2, 3), match='L'>\n",
      "['&', '&']\n",
      "hELLO123&&*\n",
      "***-****-****\n",
      "***\n"
     ]
    }
   ],
   "source": [
    "import re\n",
    "print(re.match(\"H\",\"HELLO123&&*\")) #문자열의 시작부분 일치 판단\n",
    "print(re.search(\"L\",\"HELLO123&&*\")) #일치하는 문자 검색\n",
    "print(re.findall(\"&\",\"HELLO123&&*\")) # 일치하는 문자를 리스트로 \n",
    "print(re.sub(\"H\",\"h\",\"HELLO123&&*\")) #문자열 교체할 수 있음\n",
    "print(re.sub('\\d','*','010-9428-9468')) #정규식과 sub를 활용한 개인정보 마스킹\n",
    "print(re.sub('[가-힣]','*','박현석'))\n"
   ]
  },
  {
   "cell_type": "code",
   "execution_count": 109,
   "id": "8507a90f",
   "metadata": {},
   "outputs": [
    {
     "name": "stdout",
     "output_type": "stream",
     "text": [
      "hello~ 123456python\n",
      "hello~ 123456python\n",
      "hello~ 123456python\n",
      "hello~ 123456python\n",
      "hello~ 123456python\n",
      "hello~ 123456python\n",
      "['123', '456']\n",
      "['123', '456']\n",
      "['123', '456']\n",
      "['1', '2', '3', '4', '5', '6']\n"
     ]
    }
   ],
   "source": [
    "a = 'hello~ 000000python'\n",
    "print(re.sub('0','',re.sub('\\d','123456',a,1)))\n",
    "print(re.sub('\\d\\d\\d\\d\\d\\d','123456',a))\n",
    "print(re.sub('\\d+','123456',a)) #몇자리가 있는지 모르는데 123456으로 바꿔야할때\n",
    "\n",
    "b = 'hello~ 252525python'\n",
    "print(re.sub('\\d','123456',re.sub('\\d','',b,5)))\n",
    "print(re.sub('\\d\\d\\d\\d\\d\\d','123456',b)) #자릿수 기준으로 할 수 있다. (6자리 기준으로 변경하는 코드)\n",
    "print(re.sub('\\d+','123456',b))\n",
    "c = 'hello~ 123-456python'\n",
    "print(re.sub('[~ a-z]','',c).split('-'))\n",
    "print(re.findall('\\d\\d\\d',c))\n",
    "print(re.findall('\\d\\d+',c)) #숫자가 2개 이상\n"
   ]
  },
  {
   "cell_type": "code",
   "execution_count": null,
   "id": "65e2fab9",
   "metadata": {},
   "outputs": [],
   "source": []
  }
 ],
 "metadata": {
  "kernelspec": {
   "display_name": "Python 3 (ipykernel)",
   "language": "python",
   "name": "python3"
  },
  "language_info": {
   "codemirror_mode": {
    "name": "ipython",
    "version": 3
   },
   "file_extension": ".py",
   "mimetype": "text/x-python",
   "name": "python",
   "nbconvert_exporter": "python",
   "pygments_lexer": "ipython3",
   "version": "3.11.5"
  }
 },
 "nbformat": 4,
 "nbformat_minor": 5
}
