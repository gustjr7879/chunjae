{
 "cells": [
  {
   "cell_type": "markdown",
   "metadata": {},
   "source": [
    "### 상관분석 (Correlation Analysis)\n",
    "1. 공분산 (Covariance)\n",
    "- 두 변수 X와 Y가 함께 변하는 정도를 나타낸다.    \n",
    "$`\\text{Cov}(X, Y) = \\frac{\\sum (X_i - \\bar{X})(Y_i - \\bar{Y})}{n}`$     \n",
    "공분산이 양수인 경우 두 변수가 함께 증가하고 음수인 경우 함께 감소한다.    \n",
    "공분산의 절대값이 클수록 두 변수 간의 관계가 강하다.    \n",
    "단, 두 변수의 단위(scale)가 공분산에 영향을 끼치기 때문에 표준편차로 나누어서 정규화한 상관계수를 사용한다."
   ]
  },
  {
   "cell_type": "markdown",
   "metadata": {},
   "source": [
    "2. 상관계수 (Correlation Coefficient)       \n",
    "- 피어슨 상관계수 (Pearson Correlation Coefficient) : 두 변수 간의 **선형적인 관계**를 측정하고 -1 부터 1까지 범위로 표현된다. 두 변수는 무조건 **연속형**이여야한다.    \n",
    "$` \\gamma =  \\frac{\\sum (X_i - \\bar{X})(Y_i - \\bar{Y})}{\\sqrt{\\sum (X_i - \\bar{X})^2\\sum (Y_i - \\bar{Y})^2}}`$      \n",
    "- + 두 변수 X와 Y의 공분산을 각각의 표준편차 곱으로 나누어 정규화한 것\n",
    "- 스피어만 상관계수 (Spearman's Rank-Order Correlation) : 두 변수간의 **의존성**을 측정함. 비 모수적인 통계량으로 **범주형**데이터에서도 순서가 있는 변수 간 상관관계를 측정하는데 사용한다.       \n",
    "$` \\gamma =  1 - \\frac{6\\sum(d_{i}^2)}{n(n^2-1)}`$\n",
    "- + 명목형(nominal)변수의 상관관계는 카이제곱검정을 이용한다.     \n",
    "\n",
    "- 상관관계는 말 그대로 상관이 있다 정도지, 0.7이라고 1증가 시 0.7이 증가한다는 것은 아니다."
   ]
  },
  {
   "cell_type": "code",
   "execution_count": 1,
   "metadata": {},
   "outputs": [
    {
     "name": "stdout",
     "output_type": "stream",
     "text": [
      "   age          job  marital  education default  balance housing loan  \\\n",
      "0   30   unemployed  married    primary      no     1787      no   no   \n",
      "1   33     services  married  secondary      no     4789     yes  yes   \n",
      "2   35   management   single   tertiary      no     1350     yes   no   \n",
      "3   30   management  married   tertiary      no     1476     yes  yes   \n",
      "4   59  blue-collar  married  secondary      no        0     yes   no   \n",
      "\n",
      "    contact  day month  duration  campaign  pdays  previous poutcome   y  \n",
      "0  cellular   19   oct        79         1     -1         0  unknown  no  \n",
      "1  cellular   11   may       220         1    339         4  failure  no  \n",
      "2  cellular   16   apr       185         1    330         1  failure  no  \n",
      "3   unknown    3   jun       199         4     -1         0  unknown  no  \n",
      "4   unknown    5   may       226         1     -1         0  unknown  no  \n"
     ]
    }
   ],
   "source": [
    "import pandas as pd\n",
    "bank = pd.read_csv('../bank.csv',sep=';')\n",
    "print(bank.head())"
   ]
  },
  {
   "cell_type": "code",
   "execution_count": 2,
   "metadata": {},
   "outputs": [
    {
     "name": "stdout",
     "output_type": "stream",
     "text": [
      "age           int64\n",
      "job          object\n",
      "marital      object\n",
      "education    object\n",
      "default      object\n",
      "balance       int64\n",
      "housing      object\n",
      "loan         object\n",
      "contact      object\n",
      "day           int64\n",
      "month        object\n",
      "duration      int64\n",
      "campaign      int64\n",
      "pdays         int64\n",
      "previous      int64\n",
      "poutcome     object\n",
      "y            object\n",
      "dtype: object\n"
     ]
    }
   ],
   "source": [
    "print(bank.dtypes)"
   ]
  },
  {
   "cell_type": "code",
   "execution_count": 3,
   "metadata": {},
   "outputs": [
    {
     "name": "stdout",
     "output_type": "stream",
     "text": [
      "공분산 :  2668.0427294552665\n"
     ]
    }
   ],
   "source": [
    "#공분산을 구해보자\n",
    "covar = bank['age'].cov(bank['balance']) #나이와 잔고에 대한 공분산\n",
    "print('공분산 : ',covar)\n"
   ]
  },
  {
   "cell_type": "code",
   "execution_count": 4,
   "metadata": {},
   "outputs": [
    {
     "name": "stdout",
     "output_type": "stream",
     "text": [
      "age baland pearson corr 0.0838201422447773\n"
     ]
    }
   ],
   "source": [
    "#피어슨 상관계수 (잔고는 연속형임)\n",
    "corr = covar/(bank['age'].std() * bank['balance'].std())\n",
    "print('age baland pearson corr',corr)"
   ]
  },
  {
   "cell_type": "code",
   "execution_count": 5,
   "metadata": {},
   "outputs": [
    {
     "name": "stdout",
     "output_type": "stream",
     "text": [
      "age balance pearson corr 0.08382014224477764\n",
      "p_val 1.6584808746323235e-08\n",
      "귀무가설 기각. \n",
      "통계적으로 유의미한 수준으로 연관성이 있음.\n"
     ]
    }
   ],
   "source": [
    "#피어슨 상관계수 라이브러리 이용\n",
    "from scipy.stats import pearsonr\n",
    "pearson_corr, p_val = pearsonr(bank['age'],bank['balance'])\n",
    "print('age balance pearson corr',pearson_corr)\n",
    "print('p_val',p_val)\n",
    "\n",
    "alpha = 0.05\n",
    "\n",
    "if p_val < alpha:\n",
    "    print(\"귀무가설 기각. \\n통계적으로 유의미한 수준으로 연관성이 있음.\")\n",
    "else:\n",
    "    print(\"귀무가설 기각할 수 없음. \\n통계적으로 유의미한 수준으로 연관성이 없음.\")\n",
    "\n",
    "#통계적으로 유의미하게 연관/상관성은 있지만 강하지 않다."
   ]
  },
  {
   "cell_type": "code",
   "execution_count": 6,
   "metadata": {},
   "outputs": [
    {
     "data": {
      "text/html": [
       "<div>\n",
       "<style scoped>\n",
       "    .dataframe tbody tr th:only-of-type {\n",
       "        vertical-align: middle;\n",
       "    }\n",
       "\n",
       "    .dataframe tbody tr th {\n",
       "        vertical-align: top;\n",
       "    }\n",
       "\n",
       "    .dataframe thead th {\n",
       "        text-align: right;\n",
       "    }\n",
       "</style>\n",
       "<table border=\"1\" class=\"dataframe\">\n",
       "  <thead>\n",
       "    <tr style=\"text-align: right;\">\n",
       "      <th></th>\n",
       "      <th>age</th>\n",
       "      <th>balance</th>\n",
       "      <th>day</th>\n",
       "      <th>duration</th>\n",
       "      <th>campaign</th>\n",
       "      <th>pdays</th>\n",
       "      <th>previous</th>\n",
       "    </tr>\n",
       "  </thead>\n",
       "  <tbody>\n",
       "    <tr>\n",
       "      <th>age</th>\n",
       "      <td>1.000000</td>\n",
       "      <td>0.083820</td>\n",
       "      <td>-0.017853</td>\n",
       "      <td>-0.002367</td>\n",
       "      <td>-0.005148</td>\n",
       "      <td>-0.008894</td>\n",
       "      <td>-0.003511</td>\n",
       "    </tr>\n",
       "    <tr>\n",
       "      <th>balance</th>\n",
       "      <td>0.083820</td>\n",
       "      <td>1.000000</td>\n",
       "      <td>-0.008677</td>\n",
       "      <td>-0.015950</td>\n",
       "      <td>-0.009976</td>\n",
       "      <td>0.009437</td>\n",
       "      <td>0.026196</td>\n",
       "    </tr>\n",
       "    <tr>\n",
       "      <th>day</th>\n",
       "      <td>-0.017853</td>\n",
       "      <td>-0.008677</td>\n",
       "      <td>1.000000</td>\n",
       "      <td>-0.024629</td>\n",
       "      <td>0.160706</td>\n",
       "      <td>-0.094352</td>\n",
       "      <td>-0.059114</td>\n",
       "    </tr>\n",
       "    <tr>\n",
       "      <th>duration</th>\n",
       "      <td>-0.002367</td>\n",
       "      <td>-0.015950</td>\n",
       "      <td>-0.024629</td>\n",
       "      <td>1.000000</td>\n",
       "      <td>-0.068382</td>\n",
       "      <td>0.010380</td>\n",
       "      <td>0.018080</td>\n",
       "    </tr>\n",
       "    <tr>\n",
       "      <th>campaign</th>\n",
       "      <td>-0.005148</td>\n",
       "      <td>-0.009976</td>\n",
       "      <td>0.160706</td>\n",
       "      <td>-0.068382</td>\n",
       "      <td>1.000000</td>\n",
       "      <td>-0.093137</td>\n",
       "      <td>-0.067833</td>\n",
       "    </tr>\n",
       "    <tr>\n",
       "      <th>pdays</th>\n",
       "      <td>-0.008894</td>\n",
       "      <td>0.009437</td>\n",
       "      <td>-0.094352</td>\n",
       "      <td>0.010380</td>\n",
       "      <td>-0.093137</td>\n",
       "      <td>1.000000</td>\n",
       "      <td>0.577562</td>\n",
       "    </tr>\n",
       "    <tr>\n",
       "      <th>previous</th>\n",
       "      <td>-0.003511</td>\n",
       "      <td>0.026196</td>\n",
       "      <td>-0.059114</td>\n",
       "      <td>0.018080</td>\n",
       "      <td>-0.067833</td>\n",
       "      <td>0.577562</td>\n",
       "      <td>1.000000</td>\n",
       "    </tr>\n",
       "  </tbody>\n",
       "</table>\n",
       "</div>"
      ],
      "text/plain": [
       "               age   balance       day  duration  campaign     pdays  previous\n",
       "age       1.000000  0.083820 -0.017853 -0.002367 -0.005148 -0.008894 -0.003511\n",
       "balance   0.083820  1.000000 -0.008677 -0.015950 -0.009976  0.009437  0.026196\n",
       "day      -0.017853 -0.008677  1.000000 -0.024629  0.160706 -0.094352 -0.059114\n",
       "duration -0.002367 -0.015950 -0.024629  1.000000 -0.068382  0.010380  0.018080\n",
       "campaign -0.005148 -0.009976  0.160706 -0.068382  1.000000 -0.093137 -0.067833\n",
       "pdays    -0.008894  0.009437 -0.094352  0.010380 -0.093137  1.000000  0.577562\n",
       "previous -0.003511  0.026196 -0.059114  0.018080 -0.067833  0.577562  1.000000"
      ]
     },
     "execution_count": 6,
     "metadata": {},
     "output_type": "execute_result"
    }
   ],
   "source": [
    "# .corr 을 사용해서 상관관계 보기\n",
    "bank.select_dtypes(exclude='object').corr() #object는 범주형 데이터일 확률이 높으므로 피어슨을 하려면 빼줘야함"
   ]
  },
  {
   "cell_type": "code",
   "execution_count": 7,
   "metadata": {},
   "outputs": [
    {
     "name": "stdout",
     "output_type": "stream",
     "text": [
      "스피어만 상관계수 -0.9999999999999999\n",
      "p_value 1.4042654220543672e-24\n",
      "귀무가설 기각. \n",
      "통계적으로 유의미한 수준으로 연관성이 있음.\n"
     ]
    }
   ],
   "source": [
    "#스피어만 상관계수 - 순서 정보가 있는 범주형 변수\n",
    "from scipy.stats import spearmanr\n",
    "import numpy as np\n",
    "import pandas as pd\n",
    "\n",
    "X = [1, 2, 3, 4, 5]\n",
    "Y = [5, 4, 3, 2, 1]\n",
    "\n",
    "#스피어만 상관계수 \n",
    "rho,p_val = spearmanr(X,Y)\n",
    "\n",
    "print('스피어만 상관계수',rho)\n",
    "print('p_value',p_val)\n",
    "\n",
    "alpha = 0.05\n",
    "\n",
    "if p_val < alpha:\n",
    "    print(\"귀무가설 기각. \\n통계적으로 유의미한 수준으로 연관성이 있음.\")\n",
    "else:\n",
    "    print(\"귀무가설 기각할 수 없음. \\n통계적으로 유의미한 수준으로 연관성이 없음.\")"
   ]
  },
  {
   "cell_type": "markdown",
   "metadata": {},
   "source": [
    "### 선형회귀 (Linear Regression)\n",
    "1. 변수    \n",
    "- 독립변수(independent variable, x)를 부르는 다양한 이름 (Predictor variable, Features)\n",
    "- 종속변수(dependent variable, y)를 부르는 다양한 이름 (Respense, Label, Target)\n",
    "2. 회귀계수 (Regression Coefficient)\n",
    "- 주어진 데이터로 선형회귀선을 그렸을 때 도출되는 계수\n",
    "- 상관계수와 회귀계수의 차이 : 상관계수는 두 변수간의 선형 관계의 강도와 방향을 측정하는데 사용할 수 있지만 인과관계를 나타내지 않는다. 반면 회귀계수는 한 변수가 다른 변수에 미치는 영향의 크기를 나타낸다. 회귀계수 또한 인과관계를 나타내지 않는다. 한 변수가 다른 변수에 미치는 **영향력**을 파악하는데 활용함\n",
    "3. 선형회귀(Linear Regression)\n",
    "- 선형회귀선 : residual square들의 합인 RSS를 최소화하는 직선. \n",
    "- 예측값 : 만들어진 모델(회귀선)이 추정하는 값.\n",
    "- 잔차(residual): 관측값과 예측값의 차이 (error는 모집단에서 예측값과 관측값의 차이를 말한다.)\n",
    "4. 선형회귀 모델 평가지표  \n",
    "- 결정계수 $R^2$\n",
    "- + 종속 변수의 총 변동량 중 모델에 의해 설명되는 변동의 비율. 즉 모델이 전체 현상을 얼만큼 설명할 수 있는가를 나타낸다. 0.64라면 모델이 64%를 설명할 수 있다 라고 판단한다.    \n",
    "- + $SS_{res}$는 잔차 제곱의 합이다. 모델이 설명하지 못한 정도를 나타낸다.\n",
    "- + MAE (Mean Absolute Error, 평균절대오차) : 예측값과 실제값의 절대적 차이를 측정한다. 이상치에 민감하지 않다.\n",
    "$$Error = (y_i - \\hat{y})$$\n",
    "$$mae = \\frac{1}{n}\\sum_{i=1}^n\\left\\vert Error \\right\\vert$$\n",
    "- + RMSE (Root Mean Square Error) : 예측 오차 제곱의 평균에 루트를 씌운 값이다. 제곱오차를 사용하기 때문에 모델 성능 튜닝에 적합하지만 이상치가 있다면 그만큼 크게 작용한다."
   ]
  },
  {
   "cell_type": "code",
   "execution_count": 8,
   "metadata": {},
   "outputs": [
    {
     "name": "stdout",
     "output_type": "stream",
     "text": [
      "       Suburb           Address  Rooms Type      Price Method SellerG  \\\n",
      "0  Abbotsford      85 Turner St      2    h  1480000.0      S  Biggin   \n",
      "1  Abbotsford   25 Bloomburg St      2    h  1035000.0      S  Biggin   \n",
      "2  Abbotsford      5 Charles St      3    h  1465000.0     SP  Biggin   \n",
      "3  Abbotsford  40 Federation La      3    h   850000.0     PI  Biggin   \n",
      "4  Abbotsford       55a Park St      4    h  1600000.0     VB  Nelson   \n",
      "\n",
      "        Date  Distance  Postcode  ...  Bathroom  Car  Landsize  BuildingArea  \\\n",
      "0  3/12/2016       2.5    3067.0  ...       1.0  1.0     202.0           NaN   \n",
      "1  4/02/2016       2.5    3067.0  ...       1.0  0.0     156.0          79.0   \n",
      "2  4/03/2017       2.5    3067.0  ...       2.0  0.0     134.0         150.0   \n",
      "3  4/03/2017       2.5    3067.0  ...       2.0  1.0      94.0           NaN   \n",
      "4  4/06/2016       2.5    3067.0  ...       1.0  2.0     120.0         142.0   \n",
      "\n",
      "   YearBuilt  CouncilArea Lattitude  Longtitude             Regionname  \\\n",
      "0        NaN        Yarra  -37.7996    144.9984  Northern Metropolitan   \n",
      "1     1900.0        Yarra  -37.8079    144.9934  Northern Metropolitan   \n",
      "2     1900.0        Yarra  -37.8093    144.9944  Northern Metropolitan   \n",
      "3        NaN        Yarra  -37.7969    144.9969  Northern Metropolitan   \n",
      "4     2014.0        Yarra  -37.8072    144.9941  Northern Metropolitan   \n",
      "\n",
      "  Propertycount  \n",
      "0        4019.0  \n",
      "1        4019.0  \n",
      "2        4019.0  \n",
      "3        4019.0  \n",
      "4        4019.0  \n",
      "\n",
      "[5 rows x 21 columns]\n"
     ]
    }
   ],
   "source": [
    "mel_df = pd.read_csv('../melb_data.csv')\n",
    "print(mel_df.head())"
   ]
  },
  {
   "cell_type": "code",
   "execution_count": 9,
   "metadata": {},
   "outputs": [
    {
     "name": "stdout",
     "output_type": "stream",
     "text": [
      "Suburb              0\n",
      "Address             0\n",
      "Rooms               0\n",
      "Type                0\n",
      "Price               0\n",
      "Method              0\n",
      "SellerG             0\n",
      "Date                0\n",
      "Distance            0\n",
      "Postcode            0\n",
      "Bedroom2            0\n",
      "Bathroom            0\n",
      "Car                62\n",
      "Landsize            0\n",
      "BuildingArea     6450\n",
      "YearBuilt        5375\n",
      "CouncilArea      1369\n",
      "Lattitude           0\n",
      "Longtitude          0\n",
      "Regionname          0\n",
      "Propertycount       0\n",
      "dtype: int64\n",
      "float64\n",
      "float64\n",
      "float64\n",
      "object\n"
     ]
    }
   ],
   "source": [
    "#print(mel_df.dtypes)\n",
    "print(mel_df.isna().sum())\n",
    "#na data in Car BuildingArea YearBuilt CouncilArea\n",
    "na_list = ['Car','BuildingArea','YearBuilt','CouncilArea']\n",
    "for i in na_list:\n",
    "    print(mel_df[i].dtypes)\n",
    "# dtypes 확인"
   ]
  },
  {
   "cell_type": "code",
   "execution_count": 10,
   "metadata": {},
   "outputs": [],
   "source": [
    "for i in na_list: #문자열인 곳은 NanArea로 대체\n",
    "    if i != 'CouncilArea':\n",
    "        mel_df[i] = mel_df[i].fillna(mel_df[i].mean())\n",
    "    else:\n",
    "        mel_df[i] = mel_df[i].fillna('NanArea')"
   ]
  },
  {
   "cell_type": "code",
   "execution_count": 11,
   "metadata": {},
   "outputs": [
    {
     "name": "stdout",
     "output_type": "stream",
     "text": [
      "Suburb           0\n",
      "Address          0\n",
      "Rooms            0\n",
      "Type             0\n",
      "Price            0\n",
      "Method           0\n",
      "SellerG          0\n",
      "Date             0\n",
      "Distance         0\n",
      "Postcode         0\n",
      "Bedroom2         0\n",
      "Bathroom         0\n",
      "Car              0\n",
      "Landsize         0\n",
      "BuildingArea     0\n",
      "YearBuilt        0\n",
      "CouncilArea      0\n",
      "Lattitude        0\n",
      "Longtitude       0\n",
      "Regionname       0\n",
      "Propertycount    0\n",
      "dtype: int64\n"
     ]
    }
   ],
   "source": [
    "print(mel_df.isna().sum())"
   ]
  },
  {
   "cell_type": "code",
   "execution_count": 12,
   "metadata": {},
   "outputs": [
    {
     "name": "stdout",
     "output_type": "stream",
     "text": [
      "count    1.358000e+04\n",
      "mean     1.075684e+06\n",
      "std      6.393107e+05\n",
      "min      8.500000e+04\n",
      "25%      6.500000e+05\n",
      "50%      9.030000e+05\n",
      "75%      1.330000e+06\n",
      "max      9.000000e+06\n",
      "Name: Price, dtype: float64\n"
     ]
    },
    {
     "data": {
      "text/plain": [
       "<Axes: xlabel='BuildingArea', ylabel='Price'>"
      ]
     },
     "execution_count": 12,
     "metadata": {},
     "output_type": "execute_result"
    },
    {
     "data": {
      "image/png": "[encoded data removed]",
      "text/plain": [
       "<Figure size 640x480 with 1 Axes>"
      ]
     },
     "metadata": {},
     "output_type": "display_data"
    }
   ],
   "source": [
    "print(mel_df['Price'].describe())\n",
    "import matplotlib.pyplot as plt\n",
    "import seaborn as sns\n",
    "\n",
    "sns.scatterplot(mel_df,x=\"BuildingArea\",y='Price') #빌딩 면적에 따른 가격 추이 빌딩 Area0이 너무 많고 범위가 큼"
   ]
  },
  {
   "cell_type": "code",
   "execution_count": 13,
   "metadata": {},
   "outputs": [
    {
     "name": "stdout",
     "output_type": "stream",
     "text": [
      "151.96764988779805\n"
     ]
    },
    {
     "data": {
      "text/plain": [
       "<Axes: xlabel='BuildingArea', ylabel='Price'>"
      ]
     },
     "execution_count": 13,
     "metadata": {},
     "output_type": "execute_result"
    },
    {
     "data": {
      "image/png": "[encoded data removed]",
      "text/plain": [
       "<Figure size 640x480 with 1 Axes>"
      ]
     },
     "metadata": {},
     "output_type": "display_data"
    }
   ],
   "source": [
    "print(mel_df['BuildingArea'].mean())\n",
    "sns.barplot(mel_df,x=\"BuildingArea\",y='Price')"
   ]
  },
  {
   "cell_type": "markdown",
   "metadata": {},
   "source": [
    "### 단순 선형 회귀"
   ]
  },
  {
   "cell_type": "code",
   "execution_count": 14,
   "metadata": {},
   "outputs": [
    {
     "name": "stdout",
     "output_type": "stream",
     "text": [
      "                            OLS Regression Results                            \n",
      "==============================================================================\n",
      "Dep. Variable:                  Price   R-squared:                       0.247\n",
      "Model:                            OLS   Adj. R-squared:                  0.247\n",
      "Method:                 Least Squares   F-statistic:                     4445.\n",
      "Date:                Wed, 07 Feb 2024   Prob (F-statistic):               0.00\n",
      "Time:                        13:50:33   Log-Likelihood:            -1.9889e+05\n",
      "No. Observations:               13580   AIC:                         3.978e+05\n",
      "Df Residuals:                   13578   BIC:                         3.978e+05\n",
      "Df Model:                           1                                         \n",
      "Covariance Type:            nonrobust                                         \n",
      "==============================================================================\n",
      "                 coef    std err          t      P>|t|      [0.025      0.975]\n",
      "------------------------------------------------------------------------------\n",
      "const       9.967e+04   1.54e+04      6.475      0.000    6.95e+04     1.3e+05\n",
      "Rooms       3.322e+05   4982.537     66.674      0.000    3.22e+05    3.42e+05\n",
      "==============================================================================\n",
      "Omnibus:                     7050.762   Durbin-Watson:                   1.304\n",
      "Prob(Omnibus):                  0.000   Jarque-Bera (JB):            94694.193\n",
      "Skew:                           2.182   Prob(JB):                         0.00\n",
      "Kurtosis:                      15.178   Cond. No.                         10.9\n",
      "==============================================================================\n",
      "\n",
      "Notes:\n",
      "[1] Standard Errors assume that the covariance matrix of the errors is correctly specified.\n",
      "mae 386409.0338736079\n",
      "rmse 554875.8636301233\n",
      "r squared 0.2466450083225472\n"
     ]
    }
   ],
   "source": [
    "import numpy as np\n",
    "import statsmodels.api as sm\n",
    "from sklearn.metrics import mean_absolute_error, mean_squared_error\n",
    "\n",
    "#Rooms(방갯수)와 집값 Price\n",
    "X = mel_df['Rooms']\n",
    "Y = mel_df['Price']\n",
    "\n",
    "#constant 더해주자\n",
    "X = sm.add_constant(X)\n",
    "\n",
    "#Linear model을 만들어주고 fit해주자\n",
    "model = sm.OLS(Y,X).fit()\n",
    "\n",
    "#predict값\n",
    "pred = model.predict(X)\n",
    "\n",
    "#R-squared를 계산해주자\n",
    "r_squared = model.rsquared\n",
    "\n",
    "#MAE\n",
    "mae = mean_absolute_error(Y,pred)\n",
    "\n",
    "#RMSE\n",
    "rmse = np.sqrt(mean_squared_error(Y,pred))\n",
    "\n",
    "#model 요약\n",
    "print(model.summary())\n",
    "\n",
    "print('mae',mae)\n",
    "print('rmse',rmse)\n",
    "print('r squared',r_squared)"
   ]
  },
  {
   "cell_type": "markdown",
   "metadata": {},
   "source": [
    "r squared를 봐서 Rooms와 Price는 24.66% 연관있는 것을 확인할 수 있다.    \n",
    "딱히 연관성이 있는 수치가 아니다. 따라서 다양한 독립변수들을 사용하는 다중 선형회귀를 해보자"
   ]
  },
  {
   "cell_type": "code",
   "execution_count": 15,
   "metadata": {},
   "outputs": [
    {
     "name": "stdout",
     "output_type": "stream",
     "text": [
      "                            OLS Regression Results                            \n",
      "==============================================================================\n",
      "Dep. Variable:                  Price   R-squared:                       0.524\n",
      "Model:                            OLS   Adj. R-squared:                  0.523\n",
      "Method:                 Least Squares   F-statistic:                     1243.\n",
      "Date:                Wed, 07 Feb 2024   Prob (F-statistic):               0.00\n",
      "Time:                        13:50:33   Log-Likelihood:            -1.9577e+05\n",
      "No. Observations:               13580   AIC:                         3.916e+05\n",
      "Df Residuals:                   13567   BIC:                         3.917e+05\n",
      "Df Model:                          12                                         \n",
      "Covariance Type:            nonrobust                                         \n",
      "=================================================================================\n",
      "                    coef    std err          t      P>|t|      [0.025      0.975]\n",
      "---------------------------------------------------------------------------------\n",
      "const          1.076e+06   3787.767    283.989      0.000    1.07e+06    1.08e+06\n",
      "Rooms           2.28e+05   1.17e+04     19.422      0.000    2.05e+05    2.51e+05\n",
      "Distance      -2.601e+05   4681.464    -55.567      0.000   -2.69e+05   -2.51e+05\n",
      "Postcode        7.48e+04   4862.308     15.384      0.000    6.53e+04    8.43e+04\n",
      "Bedroom2       3.795e+04   1.16e+04      3.274      0.001    1.52e+04    6.07e+04\n",
      "Bathroom         1.4e+05   4958.077     28.230      0.000     1.3e+05     1.5e+05\n",
      "Car             6.59e+04   4255.607     15.484      0.000    5.76e+04    7.42e+04\n",
      "Landsize       1.356e+04   3808.125      3.560      0.000    6093.039     2.1e+04\n",
      "BuildingArea   2.348e+04   3836.985      6.120      0.000     1.6e+04     3.1e+04\n",
      "YearBuilt      -1.23e+05   4013.476    -30.648      0.000   -1.31e+05   -1.15e+05\n",
      "Lattitude     -1.012e+05   4301.539    -23.519      0.000    -1.1e+05   -9.27e+04\n",
      "Longtitude     7.618e+04   4375.446     17.411      0.000    6.76e+04    8.48e+04\n",
      "Propertycount -1.439e+04   3845.668     -3.741      0.000   -2.19e+04   -6849.272\n",
      "==============================================================================\n",
      "Omnibus:                     8142.834   Durbin-Watson:                   1.690\n",
      "Prob(Omnibus):                  0.000   Jarque-Bera (JB):           230909.209\n",
      "Skew:                           2.383   Prob(JB):                         0.00\n",
      "Kurtosis:                      22.631   Cond. No.                         7.29\n",
      "==============================================================================\n",
      "\n",
      "Notes:\n",
      "[1] Standard Errors assume that the covariance matrix of the errors is correctly specified.\n",
      "0.5237243460999228\n",
      "297576.2116841638\n",
      "441189.52221491036\n"
     ]
    }
   ],
   "source": [
    "from sklearn.preprocessing import StandardScaler\n",
    "#독립변수를 object가 아니고 Price를 제외한 나머지 사용\n",
    "X = mel_df.select_dtypes(exclude='object').drop(columns=['Price'])\n",
    "y = mel_df['Price']\n",
    "\n",
    "#nan값을 제거하고 y의 index를 맞출 수 있는 코드는 다음과 같다. \n",
    "#X = X.replace([np.inf, -np.inf], np.nan).dropna()  # Remove infinite values\n",
    "#y = y[X.index]  # Adjust y to match the indices of X after removing rows with missing values\n",
    "#하지만 난 위에 EDA를 진행하면서 nan값을 처리해줬으므로 다음에 사용해보도록 한다.\n",
    "\n",
    "#다양한 변수들의 scale을 맞춰주기 위해서 StandarScaler를 사용한다.\n",
    "original_column_names = list(X.columns)\n",
    "original_column_names.insert(0,'const')\n",
    "\n",
    "scaler = StandardScaler()\n",
    "X_scale = scaler.fit_transform(X) #scale맞춰준다.\n",
    "X_scale = sm.add_constant(X_scale)\n",
    "\n",
    "model = sm.OLS(y,X_scale).fit()\n",
    "\n",
    "r_squared = model.rsquared\n",
    "\n",
    "pred = model.predict(X_scale)\n",
    "\n",
    "mae = mean_absolute_error(y,pred)\n",
    "rmse = np.sqrt(mean_squared_error(y,pred))\n",
    "\n",
    "print(model.summary(xname = original_column_names))\n",
    "print(r_squared)\n",
    "print(mae)\n",
    "print(rmse)"
   ]
  },
  {
   "cell_type": "markdown",
   "metadata": {},
   "source": [
    "R-squared 의 값이 0.5237로 꽤나 올라갔다.    \n",
    "더 분석해보도록 하자"
   ]
  },
  {
   "cell_type": "code",
   "execution_count": 16,
   "metadata": {},
   "outputs": [
    {
     "name": "stdout",
     "output_type": "stream",
     "text": [
      "=================================================================================\n",
      "                    coef    std err          t      P>|t|      [0.025      0.975]\n",
      "---------------------------------------------------------------------------------\n",
      "const          1.076e+06   3787.767    283.989      0.000    1.07e+06    1.08e+06\n",
      "Rooms           2.28e+05   1.17e+04     19.422      0.000    2.05e+05    2.51e+05\n",
      "Distance      -2.601e+05   4681.464    -55.567      0.000   -2.69e+05   -2.51e+05\n",
      "Postcode        7.48e+04   4862.308     15.384      0.000    6.53e+04    8.43e+04\n",
      "Bedroom2       3.795e+04   1.16e+04      3.274      0.001    1.52e+04    6.07e+04\n",
      "Bathroom         1.4e+05   4958.077     28.230      0.000     1.3e+05     1.5e+05\n",
      "Car             6.59e+04   4255.607     15.484      0.000    5.76e+04    7.42e+04\n",
      "Landsize       1.356e+04   3808.125      3.560      0.000    6093.039     2.1e+04\n",
      "BuildingArea   2.348e+04   3836.985      6.120      0.000     1.6e+04     3.1e+04\n",
      "YearBuilt      -1.23e+05   4013.476    -30.648      0.000   -1.31e+05   -1.15e+05\n",
      "Lattitude     -1.012e+05   4301.539    -23.519      0.000    -1.1e+05   -9.27e+04\n",
      "Longtitude     7.618e+04   4375.446     17.411      0.000    6.76e+04    8.48e+04\n",
      "Propertycount -1.439e+04   3845.668     -3.741      0.000   -2.19e+04   -6849.272\n",
      "=================================================================================\n"
     ]
    }
   ],
   "source": [
    "#p-value < 0.05 인 컬럼만 추출하자 (연관이 통계적으로 높다고 봐도되는)\n",
    "p_val_table = model.summary(xname=original_column_names).tables[1]\n",
    "print(p_val_table)"
   ]
  },
  {
   "cell_type": "code",
   "execution_count": 17,
   "metadata": {},
   "outputs": [
    {
     "name": "stdout",
     "output_type": "stream",
     "text": [
      "방이 5개인 주택의 예상 가격은 $1760689 입니다.\n"
     ]
    },
    {
     "name": "stderr",
     "output_type": "stream",
     "text": [
      "c:\\ProgramData\\anaconda3\\Lib\\site-packages\\sklearn\\base.py:464: UserWarning: X does not have valid feature names, but LinearRegression was fitted with feature names\n",
      "  warnings.warn(\n"
     ]
    }
   ],
   "source": [
    "## 1. Scikit-Learn 라이브러리에서 사용할 예측모델 클래스를 Import\n",
    "from sklearn.linear_model import LinearRegression\n",
    "## 2. 예측모델 인스턴스를 만듭니다(instantiation)\n",
    "model = LinearRegression()\n",
    "## 3. X 특성들의 테이블과, y 타겟 벡터 생성.\n",
    "features = ['Rooms']\n",
    "target = ['Price']\n",
    "X_train = mel_df[features]\n",
    "y_train = mel_df[target]\n",
    "## 4. 모델 훈련(fit the model)\n",
    "model.fit(X_train, y_train)\n",
    "\n",
    "\n",
    "## 5. 새로운 데이터 한 샘플을 학습한 모델을 통해 예측\n",
    "rooms = 5\n",
    "X_test = [[rooms]]\n",
    "y_pred = model.predict(X_test)\n",
    "\n",
    "print(f'방이 {rooms}개인 주택의 예상 가격은 ${int(y_pred)} 입니다.')"
   ]
  },
  {
   "cell_type": "markdown",
   "metadata": {},
   "source": [
    "### 로지스틱 회귀(Logistic Regression)\n",
    "$$P(z) = \\frac{1}{(1+e^{-z})}$$      \n",
    "결과적으로 관측치가 특정 클래스에 속할 확률 값으로 계산된다.    \n",
    "분류문제에서는 확률값을 사용해서 분류, 역전파 등을 하는데 확률값이 정해진 기준 값 보다 크면 1 아니면 0 이런식으로 예측한다.      \n"
   ]
  },
  {
   "cell_type": "code",
   "execution_count": 18,
   "metadata": {},
   "outputs": [
    {
     "name": "stdout",
     "output_type": "stream",
     "text": [
      "    Gender  Age  Driving_License  Region_Code  Previously_Insured Vehicle_Age  \\\n",
      "id                                                                              \n",
      "1     Male   44                1         28.0                   0   > 2 Years   \n",
      "2     Male   76                1          3.0                   0    1-2 Year   \n",
      "3     Male   47                1         28.0                   0   > 2 Years   \n",
      "4     Male   21                1         11.0                   1    < 1 Year   \n",
      "5   Female   29                1         41.0                   1    < 1 Year   \n",
      "\n",
      "   Vehicle_Damage  Annual_Premium  Policy_Sales_Channel  Vintage  Response  \n",
      "id                                                                          \n",
      "1             Yes         40454.0                  26.0      217         1  \n",
      "2              No         33536.0                  26.0      183         0  \n",
      "3             Yes         38294.0                  26.0       27         1  \n",
      "4              No         28619.0                 152.0      203         0  \n",
      "5              No         27496.0                 152.0       39         0  \n"
     ]
    }
   ],
   "source": [
    "insur = pd.read_csv('../train.csv',index_col='id')\n",
    "print(insur.head())"
   ]
  },
  {
   "cell_type": "code",
   "execution_count": 19,
   "metadata": {},
   "outputs": [
    {
     "data": {
      "text/plain": [
       "<Axes: xlabel='Response', ylabel='count'>"
      ]
     },
     "execution_count": 19,
     "metadata": {},
     "output_type": "execute_result"
    },
    {
     "data": {
      "image/png": "[encoded data removed]",
      "text/plain": [
       "<Figure size 640x480 with 1 Axes>"
      ]
     },
     "metadata": {},
     "output_type": "display_data"
    }
   ],
   "source": [
    "sns.countplot(insur,x='Response')"
   ]
  },
  {
   "cell_type": "code",
   "execution_count": 21,
   "metadata": {},
   "outputs": [
    {
     "name": "stdout",
     "output_type": "stream",
     "text": [
      "Optimization terminated successfully.\n",
      "         Current function value: 0.290076\n",
      "         Iterations 11\n",
      "                           Logit Regression Results                           \n",
      "==============================================================================\n",
      "Dep. Variable:               Response   No. Observations:               381109\n",
      "Model:                          Logit   Df Residuals:                   381101\n",
      "Method:                           MLE   Df Model:                            7\n",
      "Date:                Wed, 07 Feb 2024   Pseudo R-squ.:                  0.2202\n",
      "Time:                        13:54:32   Log-Likelihood:            -1.1055e+05\n",
      "converged:                       True   LL-Null:                   -1.4177e+05\n",
      "Covariance Type:            nonrobust   LLR p-value:                     0.000\n",
      "========================================================================================\n",
      "                           coef    std err          z      P>|z|      [0.025      0.975]\n",
      "----------------------------------------------------------------------------------------\n",
      "const                   -3.8952      0.037   -106.452      0.000      -3.967      -3.823\n",
      "Age                     -0.0175      0.006     -2.783      0.005      -0.030      -0.005\n",
      "Driving_License          0.0676      0.007      9.019      0.000       0.053       0.082\n",
      "Region_Code              0.0011      0.006      0.202      0.840      -0.010       0.012\n",
      "Previously_Insured      -2.8391      0.040    -71.394      0.000      -2.917      -2.761\n",
      "Annual_Premium           0.0423      0.005      8.562      0.000       0.033       0.052\n",
      "Policy_Sales_Channel    -0.2047      0.006    -35.753      0.000      -0.216      -0.193\n",
      "Vintage                 -0.0007      0.005     -0.137      0.891      -0.011       0.010\n",
      "========================================================================================\n",
      "==============================================================================\n",
      "                 coef    std err          z      P>|z|      [0.025      0.975]\n",
      "------------------------------------------------------------------------------\n",
      "const         -3.8952      0.037   -106.452      0.000      -3.967      -3.823\n",
      "x1            -0.0175      0.006     -2.783      0.005      -0.030      -0.005\n",
      "x2             0.0676      0.007      9.019      0.000       0.053       0.082\n",
      "x3             0.0011      0.006      0.202      0.840      -0.010       0.012\n",
      "x4            -2.8391      0.040    -71.394      0.000      -2.917      -2.761\n",
      "x5             0.0423      0.005      8.562      0.000       0.033       0.052\n",
      "x6            -0.2047      0.006    -35.753      0.000      -0.216      -0.193\n",
      "x7            -0.0007      0.005     -0.137      0.891      -0.011       0.010\n",
      "==============================================================================\n"
     ]
    }
   ],
   "source": [
    "X = insur.select_dtypes(exclude='object').drop(['Response'],axis=1)\n",
    "y = insur['Response']\n",
    "\n",
    "original_column_names = list(X.columns)\n",
    "original_column_names.insert(0,'const')\n",
    "\n",
    "scaler = StandardScaler()\n",
    "X_scale = scaler.fit_transform(X)\n",
    "X = sm.add_constant(X_scale)\n",
    "logits = sm.Logit(y,X).fit()\n",
    "\n",
    "summary = logits.summary(xname = original_column_names)\n",
    "print(summary)\n",
    "print(logits.summary().tables[1])"
   ]
  },
  {
   "cell_type": "markdown",
   "metadata": {},
   "source": [
    "### 로지스틱 회귀와 선형회귀의 차이\n",
    "- 로지스틱 회귀분석은 종속변수가 이진 분류 문제일때 사용한다.\n",
    "- 선형 회귀분석은 종속변수가 간격 비율 등일 때 사용한다."
   ]
  },
  {
   "cell_type": "code",
   "execution_count": null,
   "metadata": {},
   "outputs": [],
   "source": []
  }
 ],
 "metadata": {
  "kernelspec": {
   "display_name": "base",
   "language": "python",
   "name": "python3"
  },
  "language_info": {
   "codemirror_mode": {
    "name": "ipython",
    "version": 3
   },
   "file_extension": ".py",
   "mimetype": "text/x-python",
   "name": "python",
   "nbconvert_exporter": "python",
   "pygments_lexer": "ipython3",
   "version": "0.0.0"
  }
 },
 "nbformat": 4,
 "nbformat_minor": 2
}
