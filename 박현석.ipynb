{
 "cells": [
  {
   "cell_type": "code",
   "execution_count": 1,
   "metadata": {},
   "outputs": [
    {
     "name": "stdout",
     "output_type": "stream",
     "text": [
      "빗변의 길이는 160.11246047700348입니다.\n"
     ]
    }
   ],
   "source": [
    "#박현석 테스트 문제는 주석으로 표시\n",
    "\n",
    "#1. 가로 70 높이 144 직각삼각형 빗변의 길이\n",
    "x = 70\n",
    "h = 144\n",
    "import math\n",
    "print(f'빗변의 길이는 {math.sqrt(x**2 + h**2)}입니다.')"
   ]
  },
  {
   "cell_type": "code",
   "execution_count": 2,
   "metadata": {},
   "outputs": [
    {
     "name": "stdout",
     "output_type": "stream",
     "text": [
      "b 절대값이 더 큼 75\n"
     ]
    }
   ],
   "source": [
    "#2. a=55.994 b=-75 a를 1의 자릿수까지 반올림, b의 절대값 둘 중 큰것\n",
    "a = 55.994\n",
    "b = -75\n",
    "if round(a,1) > abs(b):\n",
    "    print('a 반올림이 더 큼',round(a,1))\n",
    "else:\n",
    "    print('b 절대값이 더 큼',abs(b))"
   ]
  },
  {
   "cell_type": "code",
   "execution_count": 3,
   "metadata": {},
   "outputs": [
    {
     "name": "stdout",
     "output_type": "stream",
     "text": [
      "p\n",
      "te sdrow citsiretcarahc-non ro ,ruomuh detcejni ,noititeper morf eerf syawla erofereht si muspI m\n",
      "O\n",
      "TherearemanyvariationsOofpassagesofLoremIpsumavailable,butthemajorityhavesufferedalterationinsomeform,byinjectedhumour,orrandomisedwordswhichdon'tlookevenslightlybelievable.IfyouaregoingtouseapassageofLoremIpsum,youneedtobesurethereisn'tanythingembarrassinghiddeninthemiddleoftext.AlltheLoremIpsumgeneratorsontheInternettendtorepeatpredefinedchunksasnecessary,makingthisthefirsttruegeneratorontheInternet.Itusesadictionaryofover200Latinwords,combinedwithahandfulofmodelsentencestructures,togenerateLoremIpsumwhichlooksreasonable.ThegeneratedLoremIpsumisthereforealwaysfreefromrepetition,injectedhumour,ornon-characteristicwordsetc.\n",
      "There-are-many-variations-Oof-passages-of-Lorem-Ipsum-available,-but-the-majority-have-suffered-alteration-in-some-form,-by-injected-humour,-or-randomised-words-which-don't-look-even-slightly-believable.-If-you-are-going-to-use-a-passage-of-Lorem-Ipsum,-you-need-to-be-sure-there-isn't-anything-embarrassing-hidden-in-the-middle-of-text.-All-the-Lorem-Ipsum-generators-on-the-Internet-tend-to-repeat-predefined-chunks-as-necessary,-making-this-the-first-true-generator-on-the-Internet.-It-uses-a-dictionary-of-over-200-Latin-words,-combined-with-a-handful-of-model-sentence-structures,-to-generate-Lorem-Ipsum-which-looks-reasonable.-The-generated-Lorem-Ipsum-is-therefore-always-free-from-repetition,-injected-humour,-or-non-characteristic-words-etc.\n"
     ]
    }
   ],
   "source": [
    "lorem = '''There are many variations of passages of Lorem Ipsum available, but the majority have suffered alteration in some form, by injected humour, or randomised words which don't look even slightly believable. If you are going to use a passage of Lorem Ipsum, you need to be sure there isn't anything embarrassing hidden in the middle of text. All the Lorem Ipsum generators on the Internet tend to repeat predefined chunks as necessary, making this the first true generator on the Internet. It uses a dictionary of over 200 Latin words, combined with a handful of model sentence structures, to generate Lorem Ipsum which looks reasonable. The generated Lorem Ipsum is therefore always free from repetition, injected humour, or non-characteristic words etc.'''\n",
    "#3 lorem의 400번째 자리 글자 출력 1부터 센다고 했으니까 \n",
    "for idx,v in enumerate(lorem,start=1):\n",
    "    if idx == 400:\n",
    "        print(v)\n",
    "#4 lorem의 뒤에서 3번째 부터 뒤에서 99번째 까지의 글자를 출력\n",
    "print(lorem[-99:-2][::-1])\n",
    "#5 lorem의 글자 중 27번째 글자를 대문자로 \n",
    "for idx2,v in enumerate(lorem):\n",
    "    if idx2 == 26:\n",
    "        lorem[idx2].upper()\n",
    "        lorem = lorem[:idx2]+lorem[idx2].upper()+lorem[idx2:]\n",
    "        print(lorem[idx2])\n",
    "\n",
    "#6 lorem의 모든 띄어쓰기 제거 lorem2로 저장\n",
    "lorem2 = ''.join(lorem.split(' '))\n",
    "print(lorem2)\n",
    "#7 lorem의 값을 -으로\n",
    "print('-'.join(lorem.split(' ')))"
   ]
  },
  {
   "cell_type": "code",
   "execution_count": 4,
   "metadata": {},
   "outputs": [
    {
     "name": "stdout",
     "output_type": "stream",
     "text": [
      "159909\n"
     ]
    }
   ],
   "source": [
    "#8 100<x<806 범위 안에서 x가 홀수일 때 x의 합\n",
    "resul = 0\n",
    "for i in range(101,806):\n",
    "    if i % 2 != 0:\n",
    "        resul += i\n",
    "print(resul) #합"
   ]
  },
  {
   "cell_type": "code",
   "execution_count": 5,
   "metadata": {},
   "outputs": [
    {
     "name": "stdout",
     "output_type": "stream",
     "text": [
      "It has roots in a piece of classical Latin literature from 45 BC, \n",
      "professor at Hampden-Sydney College in Virginia, looked up one of \n",
      "passage, and going through the cites of the word in classical \n",
      "omes from sections 1.10.32 and 1.10.33 of \"de Finibus Bonorum \n",
      "This book is a treatise on the theory of ethics, very popular during \n",
      "amet..\", comes from a line in section 1.10.32.\n"
     ]
    }
   ],
   "source": [
    "lorem2 = '''Contrary to popular belief, Lorem Ipsum is not simply random text. \n",
    "It has roots in a piece of classical Latin literature from 45 BC, \n",
    "making it over 2000 years old. Richard McClintock, a Latin \n",
    "professor at Hampden-Sydney College in Virginia, looked up one of \n",
    "the more obscure Latin words, consectetur, from a Lorem Ipsum \n",
    "passage, and going through the cites of the word in classical \n",
    "literature, discovered the undoubtable source. Lorem Ipsum \n",
    "omes from sections 1.10.32 and 1.10.33 of \"de Finibus Bonorum \n",
    "et Malorum\" (The Extremes of Good and Evil) by Cicero, written in 45 BC. \n",
    "This book is a treatise on the theory of ethics, very popular during \n",
    "the Renaissance. The first line of Lorem Ipsum, \"Lorem ipsum dolor sit \n",
    "amet..\", comes from a line in section 1.10.32.'''\n",
    "\n",
    "#9 lorem2를 짝수 줄만 출력하라\n",
    "lorem3 = lorem2.split('\\n')\n",
    "#print(len(lorem3))\n",
    "for i in range(1,len(lorem3)+1):\n",
    "    if i % 2 == 0:\n",
    "        print(lorem3[i-1])\n"
   ]
  },
  {
   "cell_type": "code",
   "execution_count": 6,
   "metadata": {},
   "outputs": [
    {
     "name": "stdout",
     "output_type": "stream",
     "text": [
      "{'통계사업번호': '2015140319032', '사업명': '캄보디아 노인자조모임 지원 및 연합회 설립을 통한 캄보디아 노인의 빈곤퇴치와 건강증진 (2015-20171,037백만원CPP한국헬프에이지Phase2)', 'PDM수직단계': 'summary', 'PDM목차번호': '0', 'PDM목차세부번호': '1', 'PDM성과지표': '개요', '연차': '', '내용': '※대표 수혜자 지표(지표명\\\\/측정 성과): 현재 자조모임 회원 가입 수\\\\/ 총 4,279명'}\n",
      "{'통계사업번호': '20230116', '사업명': '캄보디아 노인자조모임 지원 및 연합회 설립을 통한 캄보디아 노인의 빈곤퇴치와 건강증진 (2015-20171,037백만원CPP한국헬프에이지Phase2)', 'PDM수직단계': 'summary', 'PDM목차번호': '0', 'PDM목차세부번호': '1', 'PDM성과지표': '개요', '연차': '', '내용': '※대표 수혜자 지표(지표명\\\\/측정 성과): 현재 자조모임 회원 가입 수\\\\/ 총 4,279명'}\n"
     ]
    }
   ],
   "source": [
    "pdm = {\"통계사업번호\" : \"2015140319032\",\n",
    "\t\t\"사업명\" : \"캄보디아 노인자조모임 지원 및 연합회 설립을 통한 캄보디아 노인의 빈곤퇴치와 건강증진 (2015-20171,037백만원CPP한국헬프에이지Phase2)\",\n",
    "\t\t\"PDM수직단계\" : \"summary\",\n",
    "\t\t\"PDM목차번호\" : \"0\",\n",
    "\t\t\"PDM목차세부번호\" : \"1\",\n",
    "\t\t\"PDM성과지표\" : \"개요\",\n",
    "\t\t\"연차\" : \"\",\n",
    "\t\t\"내용\" : \"※대표 수혜자 지표(지표명\\/측정 성과): 현재 자조모임 회원 가입 수\\/ 총 4,279명\"}\n",
    "\n",
    "# 10 pdm에서 통계사업번호 20230116으로 번경해 pdm2로 저장\n",
    "pdm2 = pdm.copy()\n",
    "pdm2.update({'통계사업번호':'20230116'})\n",
    "print(pdm)\n",
    "print(pdm2) #pdm값 안변하고 업데이트"
   ]
  },
  {
   "cell_type": "code",
   "execution_count": 7,
   "metadata": {},
   "outputs": [
    {
     "name": "stdout",
     "output_type": "stream",
     "text": [
      "2015140319032\n",
      "캄보디아 노인자조모임 지원 및 연합회 설립을 통한 캄보디아 노인의 빈곤퇴치와 건강증진 (2015-20171,037백만원CPP한국헬프에이지Phase2)\n",
      "summary\n",
      "0\n",
      "1\n",
      "개요\n",
      "\n",
      "※대표 수혜자 지표(지표명\\/측정 성과): 현재 자조모임 회원 가입 수\\/ 총 4,279명\n"
     ]
    }
   ],
   "source": [
    "#11 pdm value 차례대로 출력\n",
    "for i in pdm.values():\n",
    "    print(i)"
   ]
  },
  {
   "cell_type": "code",
   "execution_count": 8,
   "metadata": {},
   "outputs": [
    {
     "name": "stdout",
     "output_type": "stream",
     "text": [
      "10\n",
      "3\n"
     ]
    }
   ],
   "source": [
    "#12 gene에서 A개수 출력\n",
    "gene = 'ACAACTATGCATACTATCGGGAACTATCCT'\n",
    "cnt = 0\n",
    "for i in gene:\n",
    "    if i == 'A':\n",
    "        cnt += 1\n",
    "print(cnt)\n",
    "#13 gene에서 ACTAT 패턴 개수 출력\n",
    "import re\n",
    "re_gene = re.sub(\"ACTAT\",'Z',gene)\n",
    "re_cnt = 0\n",
    "for i in re_gene:\n",
    "    if i == 'Z':\n",
    "        re_cnt += 1\n",
    "print(re_cnt)"
   ]
  },
  {
   "cell_type": "code",
   "execution_count": 9,
   "metadata": {},
   "outputs": [
    {
     "name": "stdout",
     "output_type": "stream",
     "text": [
      "   PassengerId  Pclass                                          Name     Sex  \\\n",
      "0          892       3                              Kelly, Mr. James    male   \n",
      "1          893       3              Wilkes, Mrs. James (Ellen Needs)  female   \n",
      "2          894       2                     Myles, Mr. Thomas Francis    male   \n",
      "3          895       3                              Wirz, Mr. Albert    male   \n",
      "4          896       3  Hirvonen, Mrs. Alexander (Helga E Lindqvist)  female   \n",
      "\n",
      "    Age  SibSp  Parch   Ticket     Fare Cabin Embarked  \n",
      "0  34.5      0      0   330911   7.8292   NaN        Q  \n",
      "1  47.0      1      0   363272   7.0000   NaN        S  \n",
      "2  62.0      0      0   240276   9.6875   NaN        Q  \n",
      "3  27.0      0      0   315154   8.6625   NaN        S  \n",
      "4  22.0      1      1  3101298  12.2875   NaN        S  \n"
     ]
    }
   ],
   "source": [
    "import pandas as pd\n",
    "\n",
    "read_f = pd.read_csv('./test.csv')\n",
    "print(read_f.head(5))"
   ]
  },
  {
   "cell_type": "code",
   "execution_count": 10,
   "metadata": {},
   "outputs": [
    {
     "name": "stdout",
     "output_type": "stream",
     "text": [
      "     PassengerId  Pclass                                          Name  \\\n",
      "0            892       3                              Kelly, Mr. James   \n",
      "1            893       3              Wilkes, Mrs. James (Ellen Needs)   \n",
      "2            894       2                     Myles, Mr. Thomas Francis   \n",
      "3            895       3                              Wirz, Mr. Albert   \n",
      "4            896       3  Hirvonen, Mrs. Alexander (Helga E Lindqvist)   \n",
      "..           ...     ...                                           ...   \n",
      "413         1305       3                            Spector, Mr. Woolf   \n",
      "414         1306       1                  Oliva y Ocana, Dona. Fermina   \n",
      "415         1307       3                  Saether, Mr. Simon Sivertsen   \n",
      "416         1308       3                           Ware, Mr. Frederick   \n",
      "417         1309       3                      Peter, Master. Michael J   \n",
      "\n",
      "        Sex    Age  SibSp  Parch              Ticket      Fare Cabin Embarked  \n",
      "0      male  136.5      0      0              330911    7.8292   NaN        Q  \n",
      "1    female  149.0      1      0              363272    7.0000   NaN        S  \n",
      "2      male  164.0      0      0              240276    9.6875   NaN        Q  \n",
      "3      male  129.0      0      0              315154    8.6625   NaN        S  \n",
      "4    female  124.0      1      1             3101298   12.2875   NaN        S  \n",
      "..      ...    ...    ...    ...                 ...       ...   ...      ...  \n",
      "413    male  102.0      0      0           A.5. 3236    8.0500   NaN        S  \n",
      "414  female  141.0      0      0            PC 17758  108.9000  C105        C  \n",
      "415    male  140.5      0      0  SOTON/O.Q. 3101262    7.2500   NaN        S  \n",
      "416    male  102.0      0      0              359309    8.0500   NaN        S  \n",
      "417    male  102.0      1      1                2668   22.3583   NaN        C  \n",
      "\n",
      "[418 rows x 11 columns]\n"
     ]
    }
   ],
   "source": [
    "#14 test.csv파일 Age에 102 더해서 저장\n",
    "#NaN 값 0으로 변경\n",
    "read_f['Age']=read_f['Age'].fillna(0)\n",
    "read_f['Age'] =read_f['Age'].apply(lambda x : x + 102)\n",
    "#파일 저장\n",
    "read_f.to_csv('./test2.csv')\n",
    "print(read_f)"
   ]
  },
  {
   "cell_type": "code",
   "execution_count": 11,
   "metadata": {},
   "outputs": [
    {
     "name": "stdout",
     "output_type": "stream",
     "text": [
      "     PassengerId  Pclass                                          Name  Sex  \\\n",
      "0            892       3                              Kelly, Mr. James    0   \n",
      "1            893       3              Wilkes, Mrs. James (Ellen Needs)    1   \n",
      "2            894       2                     Myles, Mr. Thomas Francis    0   \n",
      "3            895       3                              Wirz, Mr. Albert    0   \n",
      "4            896       3  Hirvonen, Mrs. Alexander (Helga E Lindqvist)    1   \n",
      "..           ...     ...                                           ...  ...   \n",
      "413         1305       3                            Spector, Mr. Woolf    0   \n",
      "414         1306       1                  Oliva y Ocana, Dona. Fermina    1   \n",
      "415         1307       3                  Saether, Mr. Simon Sivertsen    0   \n",
      "416         1308       3                           Ware, Mr. Frederick    0   \n",
      "417         1309       3                      Peter, Master. Michael J    0   \n",
      "\n",
      "       Age  SibSp  Parch              Ticket      Fare Cabin Embarked  \n",
      "0    136.5      0      0              330911    7.8292   NaN        Q  \n",
      "1    149.0      1      0              363272    7.0000   NaN        S  \n",
      "2    164.0      0      0              240276    9.6875   NaN        Q  \n",
      "3    129.0      0      0              315154    8.6625   NaN        S  \n",
      "4    124.0      1      1             3101298   12.2875   NaN        S  \n",
      "..     ...    ...    ...                 ...       ...   ...      ...  \n",
      "413  102.0      0      0           A.5. 3236    8.0500   NaN        S  \n",
      "414  141.0      0      0            PC 17758  108.9000  C105        C  \n",
      "415  140.5      0      0  SOTON/O.Q. 3101262    7.2500   NaN        S  \n",
      "416  102.0      0      0              359309    8.0500   NaN        S  \n",
      "417  102.0      1      1                2668   22.3583   NaN        C  \n",
      "\n",
      "[418 rows x 11 columns]\n"
     ]
    }
   ],
   "source": [
    "#15 test.csv파일의 sex를 아래와 같이 분류해서 저장 남 0 여 1\n",
    "def chk_man(x):\n",
    "    if x == 'male':\n",
    "        return 0\n",
    "    return 1\n",
    "read_f['Sex'] =read_f['Sex'].apply(lambda x : chk_man(x))\n",
    "#파일 저장\n",
    "print(read_f)\n",
    "read_f.to_csv('./test2.csv')\n"
   ]
  },
  {
   "cell_type": "code",
   "execution_count": 12,
   "metadata": {},
   "outputs": [
    {
     "name": "stdout",
     "output_type": "stream",
     "text": [
      "     PassengerId  Pclass                                          Name  Sex  \\\n",
      "0            892       3                              Kelly, Mr. James    0   \n",
      "1            893       3              Wilkes, Mrs. James (Ellen Needs)    1   \n",
      "2            894       2                     Myles, Mr. Thomas Francis    0   \n",
      "3            895       3                              Wirz, Mr. Albert    0   \n",
      "4            896       3  Hirvonen, Mrs. Alexander (Helga E Lindqvist)    1   \n",
      "..           ...     ...                                           ...  ...   \n",
      "413         1305       3                            Spector, Mr. Woolf    0   \n",
      "414         1306       1                  Oliva y Ocana, Dona. Fermina    1   \n",
      "415         1307       3                  Saether, Mr. Simon Sivertsen    0   \n",
      "416         1308       3                           Ware, Mr. Frederick    0   \n",
      "417         1309       3                      Peter, Master. Michael J    0   \n",
      "\n",
      "       Age  SibSp  Parch              Ticket      Fare Cabin Embarked  \\\n",
      "0    136.5      0      0              330911    7.8292   NaN        Q   \n",
      "1    149.0      1      0              363272    7.0000   NaN        S   \n",
      "2    164.0      0      0              240276    9.6875   NaN        Q   \n",
      "3    129.0      0      0              315154    8.6625   NaN        S   \n",
      "4    124.0      1      1             3101298   12.2875   NaN        S   \n",
      "..     ...    ...    ...                 ...       ...   ...      ...   \n",
      "413  102.0      0      0           A.5. 3236    8.0500   NaN        S   \n",
      "414  141.0      0      0            PC 17758  108.9000  C105        C   \n",
      "415  140.5      0      0  SOTON/O.Q. 3101262    7.2500   NaN        S   \n",
      "416  102.0      0      0              359309    8.0500   NaN        S   \n",
      "417  102.0      1      1                2668   22.3583   NaN        C   \n",
      "\n",
      "     fare_high  \n",
      "0        False  \n",
      "1        False  \n",
      "2        False  \n",
      "3        False  \n",
      "4        False  \n",
      "..         ...  \n",
      "413      False  \n",
      "414       True  \n",
      "415      False  \n",
      "416      False  \n",
      "417      False  \n",
      "\n",
      "[418 rows x 12 columns]\n"
     ]
    }
   ],
   "source": [
    "#16 test.cvs에서 Fare 평균값, 평균 이상인 그룹을 확인할 수 있도록 fare_high column구해라\n",
    "mean_fare = read_f['Fare'].mean()\n",
    "def chk_mean(x):\n",
    "    if x > mean_fare:\n",
    "        return True\n",
    "    return False\n",
    "read_f['fare_high'] = read_f['Fare'].apply(lambda x : chk_mean(x))\n",
    "print(read_f)"
   ]
  },
  {
   "cell_type": "code",
   "execution_count": 13,
   "metadata": {},
   "outputs": [
    {
     "name": "stdout",
     "output_type": "stream",
     "text": [
      "Davies, Mr. John Samuel\n",
      "Johnston, Mrs. Andrew G (Elizabeth Lily\" Watson)\"\n",
      "Davison, Mr. Thomas Henry\n",
      "Chaudanson, Miss. Victorine\n",
      "Dika, Mr. Mirko\n",
      "Dintcheff, Mr. Valtcho\n",
      "Zakarian, Mr. Mapriededer\n",
      "Davies, Mr. Evan\n",
      "Crafton, Mr. John Bertram\n",
      "Andersson, Miss. Ida Augusta Margareta\n"
     ]
    }
   ],
   "source": [
    "#17 Passengerid가 [901, 925, 950, 951, 952, 1026, 1028, 1039, 1040, 1106] 에 있으면 출력\n",
    "id_list = [901, 925, 950, 951, 952, 1026, 1028, 1039, 1040, 1106]\n",
    "\n",
    "for i in range(len(read_f.values)):\n",
    "    if read_f.iloc[i]['PassengerId'] in id_list:\n",
    "        print(read_f.iloc[i]['Name'])"
   ]
  },
  {
   "cell_type": "code",
   "execution_count": 14,
   "metadata": {},
   "outputs": [
    {
     "name": "stdout",
     "output_type": "stream",
     "text": [
      "            mean\n",
      "SibSp           \n",
      "0      25.986732\n",
      "1      55.765032\n"
     ]
    }
   ],
   "source": [
    "#18 Sibsp가 0인 그룹과 1이상인 그룹 사이에 Fare차이 통계적 확인\n",
    "\n",
    "def chk_zero(x):\n",
    "    if x == 0:\n",
    "        return 0\n",
    "    return 1\n",
    "read_f['SibSp'] = read_f['SibSp'].apply(lambda x : chk_zero(x))\n",
    "\n",
    "grouped_date = read_f.groupby(['SibSp'])\n",
    "fare_mean = grouped_date['Fare'].agg(['mean'])\n",
    "print(fare_mean)\n",
    "#평균을 통해서 Fare에 2배 이상 차이가 존재하는 것을 확인할 수 있다."
   ]
  },
  {
   "cell_type": "code",
   "execution_count": 15,
   "metadata": {},
   "outputs": [
    {
     "name": "stdout",
     "output_type": "stream",
     "text": [
      "    PassengerId  Pclass    Name     Sex     Age   SibSp   Parch  Ticket  \\\n",
      "0        숫자 데이터  숫자 데이터  문자 데이터  숫자 데이터  숫자 데이터  숫자 데이터  숫자 데이터  문자 데이터   \n",
      "1        숫자 데이터  숫자 데이터  문자 데이터  숫자 데이터  숫자 데이터  숫자 데이터  숫자 데이터  문자 데이터   \n",
      "2        숫자 데이터  숫자 데이터  문자 데이터  숫자 데이터  숫자 데이터  숫자 데이터  숫자 데이터  문자 데이터   \n",
      "3        숫자 데이터  숫자 데이터  문자 데이터  숫자 데이터  숫자 데이터  숫자 데이터  숫자 데이터  문자 데이터   \n",
      "4        숫자 데이터  숫자 데이터  문자 데이터  숫자 데이터  숫자 데이터  숫자 데이터  숫자 데이터  문자 데이터   \n",
      "..          ...     ...     ...     ...     ...     ...     ...     ...   \n",
      "413      숫자 데이터  숫자 데이터  문자 데이터  숫자 데이터  숫자 데이터  숫자 데이터  숫자 데이터  문자 데이터   \n",
      "414      숫자 데이터  숫자 데이터  문자 데이터  숫자 데이터  숫자 데이터  숫자 데이터  숫자 데이터  문자 데이터   \n",
      "415      숫자 데이터  숫자 데이터  문자 데이터  숫자 데이터  숫자 데이터  숫자 데이터  숫자 데이터  문자 데이터   \n",
      "416      숫자 데이터  숫자 데이터  문자 데이터  숫자 데이터  숫자 데이터  숫자 데이터  숫자 데이터  문자 데이터   \n",
      "417      숫자 데이터  숫자 데이터  문자 데이터  숫자 데이터  숫자 데이터  숫자 데이터  숫자 데이터  문자 데이터   \n",
      "\n",
      "       Fare   Cabin Embarked fare_high  \n",
      "0    숫자 데이터  숫자 데이터   문자 데이터    문자 데이터  \n",
      "1    숫자 데이터  숫자 데이터   문자 데이터    문자 데이터  \n",
      "2    숫자 데이터  숫자 데이터   문자 데이터    문자 데이터  \n",
      "3    숫자 데이터  숫자 데이터   문자 데이터    문자 데이터  \n",
      "4    숫자 데이터  숫자 데이터   문자 데이터    문자 데이터  \n",
      "..      ...     ...      ...       ...  \n",
      "413  숫자 데이터  숫자 데이터   문자 데이터    문자 데이터  \n",
      "414  숫자 데이터  문자 데이터   문자 데이터    문자 데이터  \n",
      "415  숫자 데이터  숫자 데이터   문자 데이터    문자 데이터  \n",
      "416  숫자 데이터  숫자 데이터   문자 데이터    문자 데이터  \n",
      "417  숫자 데이터  숫자 데이터   문자 데이터    문자 데이터  \n",
      "\n",
      "[418 rows x 12 columns]\n"
     ]
    }
   ],
   "source": [
    "#19 test.csv에서 숫자(int,float)로 이루어진 column과 문자로 이루어진 column을 구별할 수 있는 함수\n",
    "def chk_int(x): #구분지어줄 수 있는 함수\n",
    "    if type(x) == int or type(x) == float:\n",
    "        return '숫자 데이터'\n",
    "    else:\n",
    "        return '문자 데이터'\n",
    "read_f2 = read_f.copy()\n",
    "for i in read_f:\n",
    "    read_f2[i] = read_f[i].apply(lambda x : chk_int(x))\n",
    "print(read_f2) #구분 지어주는 함수로 적용했을 때를 보여줌"
   ]
  },
  {
   "cell_type": "code",
   "execution_count": 16,
   "metadata": {},
   "outputs": [
    {
     "name": "stdout",
     "output_type": "stream",
     "text": [
      "     PassengerId  Pclass                                          Name  Sex  \\\n",
      "0            892       3                              Kelly, Mr. James    0   \n",
      "1            893       3              Wilkes, Mrs. James (Ellen Needs)    1   \n",
      "2            894       2                     Myles, Mr. Thomas Francis    0   \n",
      "3            895       3                              Wirz, Mr. Albert    0   \n",
      "4            896       3  Hirvonen, Mrs. Alexander (Helga E Lindqvist)    1   \n",
      "..           ...     ...                                           ...  ...   \n",
      "413         1305       3                            Spector, Mr. Woolf    0   \n",
      "414         1306       1                  Oliva y Ocana, Dona. Fermina    1   \n",
      "415         1307       3                  Saether, Mr. Simon Sivertsen    0   \n",
      "416         1308       3                           Ware, Mr. Frederick    0   \n",
      "417         1309       3                      Peter, Master. Michael J    0   \n",
      "\n",
      "    Age  SibSp  Parch              Ticket      Fare Cabin Embarked  fare_high  \n",
      "0    짝수      0      0              330911    7.8292   NaN        Q      False  \n",
      "1    홀수      1      0              363272    7.0000   NaN        S      False  \n",
      "2    짝수      0      0              240276    9.6875   NaN        Q      False  \n",
      "3    홀수      0      0              315154    8.6625   NaN        S      False  \n",
      "4    짝수      1      1             3101298   12.2875   NaN        S      False  \n",
      "..   ..    ...    ...                 ...       ...   ...      ...        ...  \n",
      "413  짝수      0      0           A.5. 3236    8.0500   NaN        S      False  \n",
      "414  홀수      0      0            PC 17758  108.9000  C105        C       True  \n",
      "415  짝수      0      0  SOTON/O.Q. 3101262    7.2500   NaN        S      False  \n",
      "416  짝수      0      0              359309    8.0500   NaN        S      False  \n",
      "417  짝수      1      1                2668   22.3583   NaN        C      False  \n",
      "\n",
      "[418 rows x 12 columns]\n"
     ]
    }
   ],
   "source": [
    "#20\n",
    "read_f['Age'] = read_f['Age'].apply(lambda x: int(x))\n",
    "\n",
    "def chk_dou(x):#짝수인지 판별해주는 코드\n",
    "    if x %2== 0:\n",
    "        return '짝수'\n",
    "    return '홀수'\n",
    "read_f3 = read_f.copy()\n",
    "\n",
    "read_f3['Age'] = read_f3['Age'].apply(lambda x : chk_dou(x))\n",
    "print(read_f3) #변환된 값"
   ]
  },
  {
   "cell_type": "code",
   "execution_count": null,
   "metadata": {},
   "outputs": [],
   "source": []
  }
 ],
 "metadata": {
  "kernelspec": {
   "display_name": "base",
   "language": "python",
   "name": "python3"
  },
  "language_info": {
   "codemirror_mode": {
    "name": "ipython",
    "version": 3
   },
   "file_extension": ".py",
   "mimetype": "text/x-python",
   "name": "python",
   "nbconvert_exporter": "python",
   "pygments_lexer": "ipython3",
   "version": "3.11.5"
  }
 },
 "nbformat": 4,
 "nbformat_minor": 2
}
