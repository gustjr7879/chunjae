{
 "cells": [
  {
   "cell_type": "markdown",
   "metadata": {},
   "source": [
    "### 가설검정(hypothesis)의 개념과 가설검정 방법의 선택\n",
    "- 통계적 가설 검정: 통계적 추론 방법의 하나로서 표본의 특정 통계치(평균 등)가 모집단의 통계치를 대표할 경우, 혹은 두 표본 집단이 통계적으로 차이가 있는지 등을 검증하는 방법론이다.\n",
    "- 데이터 형태에 따른 가설검정 방법 도식 : Statistical-Test-Flow-Chart\n",
    "- 1. 연속형 데이터(continuous data)\n",
    "- + (1-1) 변수들간의 관계 확인:\n",
    "- + - 회귀분석(regression analysis)\n",
    "- + - 상관분석(correlation analysis)\n",
    "- + (1-2) 변수들간의 차이 확인:\n",
    "- + - 등분산성(EqualVriances)검정(F-max test, Brown&Smyth test, Barlett test)\n",
    "- + - 평균검정(비대응 t-test)\n",
    "- + - 대응 t-test\n",
    "- 2. 범주형 데이터(discrete categorical data)\n",
    "- + 두 변수들의 차이 확인:\n",
    "- + - 카이제곱겁정(chi-square test)"
   ]
  },
  {
   "cell_type": "markdown",
   "metadata": {},
   "source": [
    "오늘 배울 내용은   \n",
    "1. one-sample t-test\n",
    "2. two-sample t-test\n",
    "3. chi-square t-test\n",
    "4. 상관분석(수치적으로 관련이 있는지 분석하는 것, 아이스크림이 잘팔린다고 해서 에어컨이 잘팔리는것은 상관관계가 높은것이다.)\n",
    "5. 회귀분석(인과적으로 관련이 있는지 분석하는 것, 위의 예시는 상관성은 높지만 인과관계가 아니다.)    \n",
    "\n",
    "이다."
   ]
  },
  {
   "cell_type": "markdown",
   "metadata": {},
   "source": [
    "핵심 용어 개념정리:    \n",
    "\n",
    "1. 가설검정(hypothesis test): 주어진 상황에 대한 어떤 가설을 통계적으로 검정하는 방법이다.\n",
    "2. 귀무가설(Null-hypothesis): 통계학에서 처음부터 버릴 것을 예상하는 가설(틀렸다고 가정하는 것)\n",
    "3. 대립가설(Alternative Hypothesis): 귀무가설과 반대되는 가설(맞을거라고 예측하는 것)\n",
    "4. 유의수준(Significance Level): 통계적 가설 검정에서 사용되는 기준값으로, 일반적으로 95% 신뢰도 기준을 사용할 때 유의수준은 0.05이다.\n",
    "5. 유의확률(Significance Probability or P-value): 귀무가설을 지지하는 정도, 일반적으로 0.05미만이면 귀무가설을 기각하고 대립가설을 채택한다. (낮은 p-value가 나오길 원해야한다. 0.05면 귀무가설을 기각했을 때, 이 기각 결정이 잘못될 확률이 5%라는 것.)\n",
    "6. 신뢰구간(Confidence Interval): \n",
    "- 모평균이 어느 범위 안에 있는지 확률적으로 보여준다.\n",
    "- 95% 신뢰구간 : 모평균이 표본 평균 -2SEM 과 표본 평균 +2SEM(표준오차) 구간 안에 있다는 의미.\n",
    "- 오차범위: 95% 신뢰수준에서 오차범위는 1.96*SEM를 의미한다. 1.96을 2로 근사하는 경우도 있다.\n",
    "- 유의확률과 신뢰구간의 차이 :\n",
    "- + 유의확률은 표본 데이터에서 귀무가설이 참이라는 가정하게 나온 통계랑이 얼마나 극단적인지(우연적인지)를 나타내는 확률로 **가설 검정**에 사용된다.\n",
    "- + 신뢰구간은 표본 데이터의 통계량을 설명할 때, 모평균이 어느 범위 안에 있을지 확률적으로 나타냄.\n",
    "7. 중심극한정리(CLT:Central Limit Theorem):\n",
    "- 중심극한정리는 동일한 확률분포를 가진 독립 확률 변수 n개의 평균의 분포는 n이 적당히 크다면 정규분포에 가까워진다는 정리이다.\n",
    "8. 모수적(parametric):\n",
    "- 중심극한정리에 의해 표본 통계량을 활용해 모집단을 추정한다. 정규성 등분산성 독립성 선형성 등을 충족하는 데이터를 다룰때 해당한다.\n",
    "- 정규성: 데이터가 정규분포를 따르는지 여부를 확인한다.\n",
    "- 등분산성: 2개의 모집단에서 추출된 각 샘플간의 분산이 같다.\n",
    "- 독립성: 두 변수 간의 관계가 독립적인지\n",
    "- 선형성: 독립변수와 종속변수간의 선형적 관계가 충족되는지\n",
    "9. 비모수적(non-parametric): 정규성, 등분산성, 선형성을 충족하지 않는 데이터의 경우, 비모수적 통계방법론을 사용한다.\n",
    "10. 이분산성: 2개의 모집단에서 추출된 각 샘플간의 분산이 다르다.\n",
    "11. 비선형(non-linearity): 독립변수와 종속변수간에 비선형적 관계(non-constant)가 있다는 의미.\n",
    "- 다항회귀, 지수로그 모델, 뉴럴네트워크 ..."
   ]
  },
  {
   "cell_type": "markdown",
   "metadata": {},
   "source": []
  },
  {
   "cell_type": "code",
   "execution_count": 1,
   "metadata": {},
   "outputs": [
    {
     "name": "stdout",
     "output_type": "stream",
     "text": [
      "  school sex  age address famsize Pstatus  Medu  Fedu     Mjob      Fjob  ...  \\\n",
      "0     GP   F   18       U     GT3       A     4     4  at_home   teacher  ...   \n",
      "1     GP   F   17       U     GT3       T     1     1  at_home     other  ...   \n",
      "2     GP   F   15       U     LE3       T     1     1  at_home     other  ...   \n",
      "3     GP   F   15       U     GT3       T     4     2   health  services  ...   \n",
      "4     GP   F   16       U     GT3       T     3     3    other     other  ...   \n",
      "\n",
      "  famrel freetime  goout  Dalc  Walc health absences  G1  G2  G3  \n",
      "0      4        3      4     1     1      3        6   5   6   6  \n",
      "1      5        3      3     1     1      3        4   5   5   6  \n",
      "2      4        3      2     2     3      3       10   7   8  10  \n",
      "3      3        2      2     1     1      5        2  15  14  15  \n",
      "4      4        3      2     1     2      5        4   6  10  10  \n",
      "\n",
      "[5 rows x 33 columns]\n",
      "Index(['school', 'sex', 'age', 'address', 'famsize', 'Pstatus', 'Medu', 'Fedu',\n",
      "       'Mjob', 'Fjob', 'reason', 'guardian', 'traveltime', 'studytime',\n",
      "       'failures', 'schoolsup', 'famsup', 'paid', 'activities', 'nursery',\n",
      "       'higher', 'internet', 'romantic', 'famrel', 'freetime', 'goout', 'Dalc',\n",
      "       'Walc', 'health', 'absences', 'G1', 'G2', 'G3'],\n",
      "      dtype='object')\n"
     ]
    }
   ],
   "source": [
    "import pandas as pd\n",
    "import zipfile\n",
    "from io import BytesIO\n",
    "import requests\n",
    "\n",
    "#load data\n",
    "url = \"https://archive.ics.uci.edu/ml/machine-learning-databases/00320/student.zip\"\n",
    "file_to_read = \"student-mat.csv\"\n",
    "\n",
    "response = requests.get(url)\n",
    "zip_f = zipfile.ZipFile(BytesIO(response.content))\n",
    "\n",
    "with zip_f.open(file_to_read) as file:\n",
    "    student_data = pd.read_csv(file,sep=';')\n",
    "\n",
    "print(student_data.head())\n",
    "print(student_data.columns)"
   ]
  },
  {
   "cell_type": "code",
   "execution_count": 2,
   "metadata": {},
   "outputs": [
    {
     "name": "stdout",
     "output_type": "stream",
     "text": [
      "            count       mean       std   min   25%   50%   75%   max\n",
      "age         395.0  16.696203  1.276043  15.0  16.0  17.0  18.0  22.0\n",
      "Medu        395.0   2.749367  1.094735   0.0   2.0   3.0   4.0   4.0\n",
      "Fedu        395.0   2.521519  1.088201   0.0   2.0   2.0   3.0   4.0\n",
      "traveltime  395.0   1.448101  0.697505   1.0   1.0   1.0   2.0   4.0\n",
      "studytime   395.0   2.035443  0.839240   1.0   1.0   2.0   2.0   4.0\n",
      "failures    395.0   0.334177  0.743651   0.0   0.0   0.0   0.0   3.0\n",
      "famrel      395.0   3.944304  0.896659   1.0   4.0   4.0   5.0   5.0\n",
      "freetime    395.0   3.235443  0.998862   1.0   3.0   3.0   4.0   5.0\n",
      "goout       395.0   3.108861  1.113278   1.0   2.0   3.0   4.0   5.0\n",
      "Dalc        395.0   1.481013  0.890741   1.0   1.0   1.0   2.0   5.0\n",
      "Walc        395.0   2.291139  1.287897   1.0   1.0   2.0   3.0   5.0\n",
      "health      395.0   3.554430  1.390303   1.0   3.0   4.0   5.0   5.0\n",
      "absences    395.0   5.708861  8.003096   0.0   0.0   4.0   8.0  75.0\n",
      "G1          395.0  10.908861  3.319195   3.0   8.0  11.0  13.0  19.0\n",
      "G2          395.0  10.713924  3.761505   0.0   9.0  11.0  13.0  19.0\n",
      "G3          395.0  10.415190  4.581443   0.0   8.0  11.0  14.0  20.0\n"
     ]
    }
   ],
   "source": [
    "print(student_data.describe().T)"
   ]
  },
  {
   "cell_type": "code",
   "execution_count": 3,
   "metadata": {},
   "outputs": [
    {
     "name": "stdout",
     "output_type": "stream",
     "text": [
      "1.8011216618076253\n",
      "0.07244819813279511\n",
      "Critical value 1.9659878660672252\n",
      "귀무가설 기각할 수 없음. 통계적으로 유의미한 수준에서 차이가 없음.\n"
     ]
    }
   ],
   "source": [
    "#one-sample t-test 귀무가설 예시\n",
    "#귀무가설 : G3(final grade)의 평균과 가설의 평균이 통계적으로 유의미한 수준에서 '같다'고 볼 수 있다.\n",
    "#대립가설 : G3(final grade)의 평균과 가설의 평균이 통계적으로 유의미한 수준에서 '다르다'고 볼 수 있다.\n",
    "from scipy.stats import ttest_1samp\n",
    "import scipy.stats as stats\n",
    "\n",
    "hypothesized_mean = 10 #G3의 평균값\n",
    "#1sample ttest\n",
    "t_statistic,p_value = ttest_1samp(student_data['G3'],hypothesized_mean)\n",
    "print(t_statistic)\n",
    "print(p_value) #샘플의 p_value\n",
    "\n",
    "alpha = 0.05 #설정 된 p-value\n",
    "\n",
    "df = len(student_data['G3']-1)\n",
    "\n",
    "critical_value = stats.t.ppf(1-alpha/2,df)\n",
    "print('Critical value',critical_value) #critical value가 계산된 p_value의 절대값보다 작다면 귀무가설 기각 가능\n",
    "#하지만 지금은 크기때문에 기각 불가 \n",
    "\n",
    "if p_value < alpha:\n",
    "    print(\"귀무가설 기각. 통계적으로 유의미한 수준에서 차이가 있음.\")\n",
    "else:\n",
    "    print(\"귀무가설 기각할 수 없음. 통계적으로 유의미한 수준에서 차이가 없음.\")"
   ]
  },
  {
   "cell_type": "code",
   "execution_count": 4,
   "metadata": {},
   "outputs": [
    {
     "name": "stdout",
     "output_type": "stream",
     "text": [
      "-41.57955250977843\n",
      "3.6101839736648555e-146\n",
      "Critical value 1.9659878660672252\n",
      "귀무가설 기각. 통계적으로 유의미한 수준에서 차이가 있음.\n"
     ]
    }
   ],
   "source": [
    "hypothesized_mean = 20 #G3의 평균값(수정된)\n",
    "#1sample ttest\n",
    "t_statistic,p_value = ttest_1samp(student_data['G3'],hypothesized_mean)\n",
    "print(t_statistic)\n",
    "print(p_value)\n",
    "\n",
    "alpha = 0.05 #p-value\n",
    "\n",
    "df = len(student_data['G3']-1)\n",
    "\n",
    "critical_value = stats.t.ppf(1-alpha/2,df)\n",
    "print('Critical value',critical_value)\n",
    "\n",
    "if p_value < alpha:\n",
    "    print(\"귀무가설 기각. 통계적으로 유의미한 수준에서 차이가 있음.\")\n",
    "else:\n",
    "    print(\"귀무가설 기각할 수 없음. 통계적으로 유의미한 수준에서 차이가 없음.\")"
   ]
  },
  {
   "cell_type": "markdown",
   "metadata": {},
   "source": [
    "p-value의 한계점 : 표본 데이터의 크기가 클 수록 p-value가 작아지기 때문에 데이터가 얼마나 효과적인지에 대한 지표인 효과 크기에 대한 정보를 알려주지 못함     \n",
    "stats.t.ppf 코드는 검증할 구간을 설정해주는 것이고 1-유의구간/2 는 0.975 사이에서 검증한다는 것이다. 또한 다음 인자로 자유도가 들어가는데 one sample t-test에서는 보통 샘플 수 -1개를 쓴다.     \n",
    "two-sample t-test에서는 두 표본의 크기를 이용해서 자유도를 계산한다."
   ]
  },
  {
   "cell_type": "code",
   "execution_count": 5,
   "metadata": {},
   "outputs": [
    {
     "name": "stdout",
     "output_type": "stream",
     "text": [
      "            count       mean       std   min   25%   50%   75%   max\n",
      "age         395.0  16.696203  1.276043  15.0  16.0  17.0  18.0  22.0\n",
      "Medu        395.0   2.749367  1.094735   0.0   2.0   3.0   4.0   4.0\n",
      "Fedu        395.0   2.521519  1.088201   0.0   2.0   2.0   3.0   4.0\n",
      "traveltime  395.0   1.448101  0.697505   1.0   1.0   1.0   2.0   4.0\n",
      "studytime   395.0   2.035443  0.839240   1.0   1.0   2.0   2.0   4.0\n",
      "failures    395.0   0.334177  0.743651   0.0   0.0   0.0   0.0   3.0\n",
      "famrel      395.0   3.944304  0.896659   1.0   4.0   4.0   5.0   5.0\n",
      "freetime    395.0   3.235443  0.998862   1.0   3.0   3.0   4.0   5.0\n",
      "goout       395.0   3.108861  1.113278   1.0   2.0   3.0   4.0   5.0\n",
      "Dalc        395.0   1.481013  0.890741   1.0   1.0   1.0   2.0   5.0\n",
      "Walc        395.0   2.291139  1.287897   1.0   1.0   2.0   3.0   5.0\n",
      "health      395.0   3.554430  1.390303   1.0   3.0   4.0   5.0   5.0\n",
      "absences    395.0   5.708861  8.003096   0.0   0.0   4.0   8.0  75.0\n",
      "G1          395.0  10.908861  3.319195   3.0   8.0  11.0  13.0  19.0\n",
      "G2          395.0  10.713924  3.761505   0.0   9.0  11.0  13.0  19.0\n",
      "G3          395.0  10.415190  4.581443   0.0   8.0  11.0  14.0  20.0\n"
     ]
    }
   ],
   "source": [
    "print(student_data.describe().T)"
   ]
  },
  {
   "cell_type": "code",
   "execution_count": 6,
   "metadata": {},
   "outputs": [
    {
     "name": "stdout",
     "output_type": "stream",
     "text": [
      "t_statistic 3.0558915597920038\n",
      "계산된 p-value 0.002396681081910589\n",
      "critical value 1.9659878660672252\n",
      "귀무가설 기각. 통계적으로 유의미한 수준에서 차이가 있음.\n"
     ]
    }
   ],
   "source": [
    "#가설로 세운 나이의 평균이 같다\n",
    "#다르다\n",
    "test_age = 16.5\n",
    "t_statistic,p_value = ttest_1samp(student_data['age'],test_age)\n",
    "print('t_statistic',t_statistic)\n",
    "print('계산된 p-value',p_value)\n",
    "\n",
    "df = len(student_data['age']-1)\n",
    "\n",
    "critical_value = stats.t.ppf(1-alpha/2,df)\n",
    "print('critical value',critical_value)\n",
    "alpha = 0.05\n",
    "if p_value < alpha:\n",
    "    print(\"귀무가설 기각. 통계적으로 유의미한 수준에서 차이가 있음.\")\n",
    "else:\n",
    "    print(\"귀무가설 기각할 수 없음. 통계적으로 유의미한 수준에서 차이가 없음.\")"
   ]
  },
  {
   "cell_type": "markdown",
   "metadata": {},
   "source": [
    "위의 코드는 one-sample 즉 하나의 표본집단에서의 t-test를 진행해서 가설을 검증한 것이다.    \n",
    "다음은 two_sample t-test이다"
   ]
  },
  {
   "cell_type": "code",
   "execution_count": 7,
   "metadata": {},
   "outputs": [
    {
     "name": "stdout",
     "output_type": "stream",
     "text": [
      "T-statistic 2.0650572003629564\n",
      "p_val 0.03957700303089975\n",
      "critical_v 1.9660186149089718\n",
      "귀무가설 기각. \n",
      "두 그룹의 평균이 통계적으로 유의미한 차이가 있다.\n"
     ]
    }
   ],
   "source": [
    "#귀무가설 : 여성그룹의 G3 평균과 남성그룹의 G3평균이 통계적으로 같다.\n",
    "#대립가설 : 두 그룹의 평균이 통계적으로 다르다.\n",
    "\n",
    "from scipy.stats import ttest_ind\n",
    "male_grades = student_data[student_data['sex']=='M']['G3']\n",
    "female_grades = student_data[student_data['sex']=='F']['G3']\n",
    "\n",
    "t_statistic,p_value = ttest_ind(male_grades,female_grades,equal_var=False)\n",
    "\n",
    "print('T-statistic',t_statistic)\n",
    "print('p_val',p_value)\n",
    "df = len(male_grades) + len(female_grades) -2\n",
    "\n",
    "critical_value = stats.t.ppf(1-alpha/2,df)\n",
    "print('critical_v',critical_value)\n",
    "if p_value < alpha:\n",
    "    print(\"귀무가설 기각. \\n두 그룹의 평균이 통계적으로 유의미한 차이가 있다.\")\n",
    "else:\n",
    "    print(\"귀무가설 기각 할 수 없음. \\n두 그룹의 평균이 통계적으로 유의미한 차이가 없음. \")"
   ]
  },
  {
   "cell_type": "markdown",
   "metadata": {},
   "source": [
    "p-value를 통해서 확인하는 것은 데이터의 양이 많아지면 통계적으로 유의하다고 하기 때문에 효과크기의 값도 함께 제시하는 것이 좋다.    \n",
    "\n",
    "효과크기(effect size) : 관찰된 데이터의 효과를 측정하는 방법이다. 일반적인 cohen's 방법론 사용. 일반적으로 two-sample t-test에서 사용된다.    \n",
    "효과크기의 값이 크다면 두 집단은 많이 다른 것이고, 작다면 두 집단이 겹치는 부분이 많다는 것이다.    \n",
    "일반적으로 0.2 < < 0.8 로 구분해서 적은지 큰지 본다. "
   ]
  },
  {
   "cell_type": "code",
   "execution_count": 8,
   "metadata": {},
   "outputs": [
    {
     "name": "stdout",
     "output_type": "stream",
     "text": [
      "male mean 10.914438502673796\n",
      "female mean 9.966346153846153\n",
      "Cohen's d: 0.20847790599965854\n",
      "Cohen's d 효과 크기가 중간 정도로 두 그룹의 차이가 적지 않다고 볼 수 있음.\n"
     ]
    }
   ],
   "source": [
    "import numpy as np\n",
    "def cohens_d(group1,group2):\n",
    "    mean_diff = np.mean(group1)-np.mean(group2)\n",
    "    pooled_std = np.sqrt((np.var(group1)+np.var(group2))/2)\n",
    "    return mean_diff/pooled_std\n",
    "cohen_d = cohens_d(male_grades,female_grades)\n",
    "print('male mean',male_grades.mean())\n",
    "print('female mean',female_grades.mean())\n",
    "\n",
    "if cohen_d <= 0.2: \n",
    "    print(\"Cohen's d:\", cohen_d)\n",
    "    print(\"Cohen's d 효과 크기가 작으므로 두 그룹의 차이가 크지 않다고 볼 수 있음.\")\n",
    "    \n",
    "elif cohen_d < 0.8:\n",
    "    print(\"Cohen's d:\", cohen_d)\n",
    "    print(\"Cohen's d 효과 크기가 중간 정도로 두 그룹의 차이가 적지 않다고 볼 수 있음.\")\n",
    "    \n",
    "elif cohen_d >= 0.8:\n",
    "    print(\"Cohen's d:\", cohen_d)\n",
    "    print(\"Cohen's d 효과 크기가 크므로 두 그룹의 차이가 크다고 볼 수 있음.\")"
   ]
  },
  {
   "cell_type": "markdown",
   "metadata": {},
   "source": [
    "불연속성 데이터들 간의 관계 확인    \n",
    "1. 카이제곱 검정(chi-square test)    \n",
    "카이제곱 검정 예시는 다음과 같다.    \n",
    "- 귀무가설 : 두 변수간의 연관성이 없다.    \n",
    "- 대립가설 : 두 변수간의 연관성이 있다."
   ]
  },
  {
   "cell_type": "code",
   "execution_count": 9,
   "metadata": {},
   "outputs": [
    {
     "name": "stdout",
     "output_type": "stream",
     "text": [
      "Index(['school', 'sex', 'age', 'address', 'famsize', 'Pstatus', 'Medu', 'Fedu',\n",
      "       'Mjob', 'Fjob', 'reason', 'guardian', 'traveltime', 'studytime',\n",
      "       'failures', 'schoolsup', 'famsup', 'paid', 'activities', 'nursery',\n",
      "       'higher', 'internet', 'romantic', 'famrel', 'freetime', 'goout', 'Dalc',\n",
      "       'Walc', 'health', 'absences', 'G1', 'G2', 'G3'],\n",
      "      dtype='object')\n",
      "school        object\n",
      "sex           object\n",
      "age            int64\n",
      "address       object\n",
      "famsize       object\n",
      "Pstatus       object\n",
      "Medu           int64\n",
      "Fedu           int64\n",
      "Mjob          object\n",
      "Fjob          object\n",
      "reason        object\n",
      "guardian      object\n",
      "traveltime     int64\n",
      "studytime      int64\n",
      "failures       int64\n",
      "schoolsup     object\n",
      "famsup        object\n",
      "paid          object\n",
      "activities    object\n",
      "nursery       object\n",
      "higher        object\n",
      "internet      object\n",
      "romantic      object\n",
      "famrel         int64\n",
      "freetime       int64\n",
      "goout          int64\n",
      "Dalc           int64\n",
      "Walc           int64\n",
      "health         int64\n",
      "absences       int64\n",
      "G1             int64\n",
      "G2             int64\n",
      "G3             int64\n",
      "dtype: object\n"
     ]
    }
   ],
   "source": [
    "print(student_data.columns)\n",
    "print(student_data.dtypes)"
   ]
  },
  {
   "cell_type": "code",
   "execution_count": 10,
   "metadata": {},
   "outputs": [
    {
     "name": "stdout",
     "output_type": "stream",
     "text": [
      "Mjob  at_home  health  other  services  teacher\n",
      "sex                                            \n",
      "F          42      19     74        54       19\n",
      "M          17      15     67        49       39\n",
      "chi-square 17.483557532214064\n",
      "p-value 0.0015564385627536573\n",
      "귀무가설 기각 : 통계적으로 유의미한 연관성 존재\n"
     ]
    }
   ],
   "source": [
    "#성별과 Mother job간의 관계를 봐보자\n",
    "import pandas as pd\n",
    "from scipy.stats import chi2_contingency\n",
    "\n",
    "contingency_table = pd.crosstab(student_data['sex'],student_data['Mjob']) #설정된 두 변수들의 테이블을 만들어줌\n",
    "print(contingency_table.head())\n",
    "\n",
    "chi2,p_value,_,_ = chi2_contingency(contingency_table)\n",
    "print('chi-square',chi2)\n",
    "print('p-value',p_value)\n",
    "\n",
    "alpha = 0.05\n",
    "if p_value<alpha:\n",
    "    print('귀무가설 기각 : 통계적으로 유의미한 연관성 존재')\n",
    "else:\n",
    "    print('귀무가설 기각 불가 : 통계적으로 무의미한 연관성')"
   ]
  },
  {
   "cell_type": "markdown",
   "metadata": {},
   "source": [
    "카이제곱 검정은 데이터 수집 방법과 가설에 따라 적합도 검정(goodness of fit), 동질성 검정(test of homogeneity), 독립성 검정(test of independence) 세 종류가 있다.    \n",
    "카이제곱 검정은 두 범주형 변수에 대한 분석 방법이다. 성별에 따른 정당 지지율 비교 문제가 이에 해당한다.   \n",
    "한 범주형 변수의 각 그룹 별 비율과 특정 상수비가 같은지 검정하는 적합도 검정 (기존에 알려진 기준이 존재 : 교배실험 완두콩 비율이 멘델의 법칙을 따르는가?)  \n",
    "각 집단이 서로 유사한 성향을 갖는지 분석하는 동질성 검성 (성별에 따른 음료 선호가 다른지 검정)    \n",
    "두 범주형 변수가 서로 독립적인지 검정하는 독립성 검정이 있다. (성별과 전공선택이 관계가 있는지 검정)    \n"
   ]
  },
  {
   "cell_type": "code",
   "execution_count": 11,
   "metadata": {},
   "outputs": [
    {
     "name": "stdout",
     "output_type": "stream",
     "text": [
      "0       6\n",
      "1       4\n",
      "2      10\n",
      "3       2\n",
      "4       4\n",
      "       ..\n",
      "390    11\n",
      "391     3\n",
      "392     3\n",
      "393     0\n",
      "394     5\n",
      "Name: absences, Length: 395, dtype: int64\n"
     ]
    }
   ],
   "source": [
    "print(student_data['absences'])"
   ]
  },
  {
   "cell_type": "code",
   "execution_count": null,
   "metadata": {},
   "outputs": [],
   "source": []
  }
 ],
 "metadata": {
  "kernelspec": {
   "display_name": "base",
   "language": "python",
   "name": "python3"
  },
  "language_info": {
   "codemirror_mode": {
    "name": "ipython",
    "version": 3
   },
   "file_extension": ".py",
   "mimetype": "text/x-python",
   "name": "python",
   "nbconvert_exporter": "python",
   "pygments_lexer": "ipython3",
   "version": "0.0.0"
  }
 },
 "nbformat": 4,
 "nbformat_minor": 2
}
