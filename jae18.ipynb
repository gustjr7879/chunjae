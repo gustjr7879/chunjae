{
 "cells": [
  {
   "cell_type": "code",
   "execution_count": 90,
   "metadata": {},
   "outputs": [],
   "source": [
    "from sklearn.datasets import load_iris\n",
    "import pandas as pd\n",
    "\n",
    "iris = load_iris()\n",
    "iris_df = pd.DataFrame(data=iris.data,columns=iris.feature_names)"
   ]
  },
  {
   "cell_type": "code",
   "execution_count": 91,
   "metadata": {},
   "outputs": [
    {
     "name": "stdout",
     "output_type": "stream",
     "text": [
      "   sepal length (cm)  sepal width (cm)  petal length (cm)  petal width (cm)\n",
      "0                5.1               3.5                1.4               0.2\n",
      "1                4.9               3.0                1.4               0.2\n",
      "2                4.7               3.2                1.3               0.2\n",
      "3                4.6               3.1                1.5               0.2\n",
      "4                5.0               3.6                1.4               0.2\n"
     ]
    }
   ],
   "source": [
    "print(iris_df.head())"
   ]
  },
  {
   "cell_type": "markdown",
   "metadata": {},
   "source": [
    "### Feature Scaling\n",
    "데이터를 전처리해서 모델이 학습을 잘 할 수 있게 해준다. feature의 범위를 조절해주는 작업. 이것을 안하면 모델이 큰 값을 보이는 feature에 민감하게 반응해서 학습하기 때문에 정확도가 떨어질 수 밖에 없다.       \n",
    "\n",
    "### 표준화 \n",
    "표준화의 경우는 데이터가 정규분포를 따라간다. 하지만 범위 제한이 없다 sklearn.preprocessing.StandardScaler 를 사용한다.\n",
    "\n",
    "### 정규화\n",
    "정규화의 경우 데이터를 일정한 범위 내로 만들어줘서 모델에서 지나친 영향력을 보이는 것을 방지할 수 있다. sklearn.preprocessing.MinMaxScaler가 있다. 하지만 분포를 조절해야되는 경우에는 적합하지 않다. (분포가 동일하기 때문에)"
   ]
  },
  {
   "cell_type": "code",
   "execution_count": 95,
   "metadata": {},
   "outputs": [
    {
     "name": "stdout",
     "output_type": "stream",
     "text": [
      "     sepal length (cm)  sepal width (cm)  petal length (cm)  petal width (cm)\n",
      "0            -0.900681          1.019004          -1.340227         -1.315444\n",
      "1            -1.143017         -0.131979          -1.340227         -1.315444\n",
      "2            -1.385353          0.328414          -1.397064         -1.315444\n",
      "3            -1.506521          0.098217          -1.283389         -1.315444\n",
      "4            -1.021849          1.249201          -1.340227         -1.315444\n",
      "..                 ...               ...                ...               ...\n",
      "145           1.038005         -0.131979           0.819596          1.448832\n",
      "146           0.553333         -1.282963           0.705921          0.922303\n",
      "147           0.795669         -0.131979           0.819596          1.053935\n",
      "148           0.432165          0.788808           0.933271          1.448832\n",
      "149           0.068662         -0.131979           0.762758          0.790671\n",
      "\n",
      "[150 rows x 4 columns]\n",
      "       sepal length (cm)  sepal width (cm)  petal length (cm)  \\\n",
      "count       1.500000e+02      1.500000e+02       1.500000e+02   \n",
      "mean       -1.468455e-15     -1.823726e-15      -1.610564e-15   \n",
      "std         1.003350e+00      1.003350e+00       1.003350e+00   \n",
      "min        -1.870024e+00     -2.433947e+00      -1.567576e+00   \n",
      "25%        -9.006812e-01     -5.923730e-01      -1.226552e+00   \n",
      "50%        -5.250608e-02     -1.319795e-01       3.364776e-01   \n",
      "75%         6.745011e-01      5.586108e-01       7.627583e-01   \n",
      "max         2.492019e+00      3.090775e+00       1.785832e+00   \n",
      "\n",
      "       petal width (cm)  \n",
      "count      1.500000e+02  \n",
      "mean      -9.473903e-16  \n",
      "std        1.003350e+00  \n",
      "min       -1.447076e+00  \n",
      "25%       -1.183812e+00  \n",
      "50%        1.325097e-01  \n",
      "75%        7.906707e-01  \n",
      "max        1.712096e+00  \n"
     ]
    }
   ],
   "source": [
    "from sklearn.preprocessing import StandardScaler #표준화\n",
    "scaler = StandardScaler()\n",
    "standard = scaler.fit_transform(iris_df)\n",
    "print(pd.DataFrame(data=standard,columns=iris.feature_names))\n",
    "print(pd.DataFrame(data=standard,columns=iris.feature_names).describe())"
   ]
  },
  {
   "cell_type": "code",
   "execution_count": 96,
   "metadata": {},
   "outputs": [
    {
     "name": "stdout",
     "output_type": "stream",
     "text": [
      "     sepal length (cm)  sepal width (cm)  petal length (cm)  petal width (cm)\n",
      "0             0.222222          0.625000           0.067797          0.041667\n",
      "1             0.166667          0.416667           0.067797          0.041667\n",
      "2             0.111111          0.500000           0.050847          0.041667\n",
      "3             0.083333          0.458333           0.084746          0.041667\n",
      "4             0.194444          0.666667           0.067797          0.041667\n",
      "..                 ...               ...                ...               ...\n",
      "145           0.666667          0.416667           0.711864          0.916667\n",
      "146           0.555556          0.208333           0.677966          0.750000\n",
      "147           0.611111          0.416667           0.711864          0.791667\n",
      "148           0.527778          0.583333           0.745763          0.916667\n",
      "149           0.444444          0.416667           0.694915          0.708333\n",
      "\n",
      "[150 rows x 4 columns]\n",
      "       sepal length (cm)  sepal width (cm)  petal length (cm)  \\\n",
      "count         150.000000        150.000000         150.000000   \n",
      "mean            0.428704          0.440556           0.467458   \n",
      "std             0.230018          0.181611           0.299203   \n",
      "min             0.000000          0.000000           0.000000   \n",
      "25%             0.222222          0.333333           0.101695   \n",
      "50%             0.416667          0.416667           0.567797   \n",
      "75%             0.583333          0.541667           0.694915   \n",
      "max             1.000000          1.000000           1.000000   \n",
      "\n",
      "       petal width (cm)  \n",
      "count        150.000000  \n",
      "mean           0.458056  \n",
      "std            0.317599  \n",
      "min            0.000000  \n",
      "25%            0.083333  \n",
      "50%            0.500000  \n",
      "75%            0.708333  \n",
      "max            1.000000  \n"
     ]
    }
   ],
   "source": [
    "from sklearn.preprocessing import MinMaxScaler #정규화\n",
    "mn_sclaer = MinMaxScaler()\n",
    "mn = mn_sclaer.fit_transform(iris_df)\n",
    "print(pd.DataFrame(data=mn,columns=iris.feature_names))\n",
    "print(pd.DataFrame(data=mn,columns=iris.feature_names).describe())"
   ]
  },
  {
   "cell_type": "markdown",
   "metadata": {},
   "source": [
    "### 의사결정나무 (Decision Tree)\n",
    "트리 모델 중 가장 유명한 의사결정 나무이다. 여러번 사용해봤다.      \n",
    "\n",
    "#### 장점\n",
    "사람이 이해할 수 있으며 모델을 시각화할 수 있어서 white box알고리즘이다.      \n",
    "데이터 전처리를 거의 요구하지 않습니다.       \n",
    "모델의 복잡도는 데이터의 복잡도에 비례한다. 즉 학습에 사용되는 자원을 쉽게 예측할 수 있다.       \n",
    "숫자형 및 범주형 데이터를 가리지 않는다. 즉 편하게 사용 가능하다.     \n",
    "\n",
    "#### 단점\n",
    "과적합에 취약하다      \n",
    "입력데이터의 차이가 조금만 나도 트리가 많이 변화할 수 있다.     \n",
    "입력값의 범위 바깥에서 나타나는 데이터를 예측하기에 적합한 모델은 아니다.     \n",
    "최적의 의사결정 나무 모델을 학습시키는 것은 사실 구할 수 없다. 최적의 알고리즘을 찾아낼 수 없다. (증명 불가)"
   ]
  },
  {
   "cell_type": "code",
   "execution_count": 105,
   "metadata": {},
   "outputs": [
    {
     "name": "stdout",
     "output_type": "stream",
     "text": [
      "Decision tree acc : 0.9666666666666667\n",
      "confusion matrix : \n",
      " [[23  0  0]\n",
      " [ 0 18  1]\n",
      " [ 0  1 17]]\n"
     ]
    }
   ],
   "source": [
    "from sklearn.tree import DecisionTreeClassifier, plot_tree\n",
    "from sklearn.model_selection import train_test_split\n",
    "from sklearn import metrics\n",
    "import matplotlib.pyplot as plt\n",
    "import seaborn as sns\n",
    "import numpy as np\n",
    "\n",
    "X_train, X_test, y_train, y_test = train_test_split(iris.data,iris.target,test_size=0.4, random_state=42)\n",
    "\n",
    "d_tree = DecisionTreeClassifier(random_state=42)\n",
    "d_tree.fit(X_train,y_train)\n",
    "\n",
    "y_pred = d_tree.predict(X_test)\n",
    "acc = metrics.accuracy_score(y_test,y_pred)\n",
    "confusion_mat = metrics.confusion_matrix(y_test,y_pred)\n",
    "\n",
    "print('Decision tree acc :',acc)\n",
    "print('confusion matrix : \\n',confusion_mat)"
   ]
  },
  {
   "cell_type": "code",
   "execution_count": 106,
   "metadata": {},
   "outputs": [
    {
     "data": {
      "image/png": "[encoded data removed]",
      "text/plain": [
       "<Figure size 640x480 with 1 Axes>"
      ]
     },
     "metadata": {},
     "output_type": "display_data"
    }
   ],
   "source": [
    "# decision tree 시각화\n",
    "plot_tree(d_tree)\n",
    "plt.show()"
   ]
  },
  {
   "cell_type": "markdown",
   "metadata": {},
   "source": [
    "### 특성 중요도 (Feature Importance)\n",
    "기계학습 모델의 학습이 끝나고, 이상한 기준으로 분류하는 경우에 모델을 조정하거나 feature engineering에 기반한 feature selection 과정이 뒤따른다.    \n",
    "이를 통해서 불필요한 feature를 제거하고 모델의 성능을 좀 더 상승시킬 수 있다.      \n",
    "사이킷런에서는 이를 위해서 model.feature_importances_를 통해서 구할 수 있다. "
   ]
  },
  {
   "cell_type": "code",
   "execution_count": 112,
   "metadata": {},
   "outputs": [
    {
     "name": "stdout",
     "output_type": "stream",
     "text": [
      "[0.01364649 0.05458596 0.53904595 0.39272159]\n"
     ]
    },
    {
     "data": {
      "image/png": "[encoded data removed]",
      "text/plain": [
       "<Figure size 640x480 with 1 Axes>"
      ]
     },
     "metadata": {},
     "output_type": "display_data"
    }
   ],
   "source": [
    "print(d_tree.feature_importances_)\n",
    "ax = sns.barplot(x=d_tree.feature_importances_,y=iris_df.columns)"
   ]
  },
  {
   "cell_type": "markdown",
   "metadata": {},
   "source": [
    "### 교차검증(Cross Validation)\n",
    "교차검증이란, 학습중인 모델의 성능을 평가하는 방법으로 고정된 검증 데이터셋을 보통 사용하는데, 이 경우 validation set에 과적합하게 될 수 있기 때문에 다양한 검증 데이터를 가지고 평가한다.\n",
    "따라서 학습데이터셋을 K개로 나눠놓고 하나씩 검증 데이터셋으로 변경해가면서 학습을 하고 검증을 한다. 최종 평가는 K번 평가 결과의 평균값을 사용한다.(앙상블 아닌가?)     \n",
    "sklearn.model_selection에서 사용할 수 있다.     \n",
    "\n",
    "#### 장점\n",
    "학습을 좀 더 정밀하게 할 수 있다.\n",
    "\n",
    "#### 단점\n",
    "K만큼 시간이 증가한다. 한번마다 모델을 한번씩 초기화하고 학습하고 평균을 내기 때문이다.      \n",
    "      \n",
    "### Stratified K-Fold Cross Validation\n",
    "학습 데이터를 만들 때 라벨 분포가 조금씩 몰려있거나 하는 경우로 인해서 학습이 잘 안될 수 있다.      \n",
    "이를 방지하기 위한 방법으로 클래스마다 비율을 설정해줘서 k-fold를 해주는 방법이 있다.     \n",
    "하지만 그냥 shuffle을 잘 하면 어느정도 해결되는 문제이기 때문에 그닥 잘 쓰이진 않을 수 있다. 알고 있으면 좋을것 같은 내용     \n"
   ]
  },
  {
   "cell_type": "code",
   "execution_count": 102,
   "metadata": {},
   "outputs": [
    {
     "name": "stdout",
     "output_type": "stream",
     "text": [
      "1번째 fold acc : 1.0\n",
      "1번째 fold acc : 0.9666666666666667\n",
      "1번째 fold acc : 0.9333333333333333\n",
      "1번째 fold acc : 0.9333333333333333\n",
      "1번째 fold acc : 0.9333333333333333\n",
      "mean accuracy : 0.9533333333333335\n"
     ]
    }
   ],
   "source": [
    "from sklearn.tree import DecisionTreeClassifier\n",
    "from sklearn.metrics import accuracy_score\n",
    "from sklearn.model_selection import KFold\n",
    "import numpy as np\n",
    "X = iris.data\n",
    "y = iris.target\n",
    "tree = DecisionTreeClassifier(random_state=42)\n",
    "\n",
    "kfold = KFold(n_splits=5,shuffle=True,random_state=42)\n",
    "cv_index = kfold.split(X) # Train set split해줌 K개로\n",
    "all_acc = []\n",
    "\n",
    "k = 1\n",
    "for train_idx, test_idx in cv_index:\n",
    "    X_train, X_test = X[train_idx], X[test_idx]\n",
    "    y_train, y_test = y[train_idx], y[test_idx]\n",
    "    tree.fit(X_train,y_train)\n",
    "    acc = tree.score(X_test,y_test)\n",
    "    print(f'{k}번째 fold acc : {acc}')\n",
    "    all_acc.append(acc)\n",
    "\n",
    "print(f'mean accuracy : {np.mean(all_acc)}')"
   ]
  },
  {
   "cell_type": "code",
   "execution_count": 114,
   "metadata": {},
   "outputs": [
    {
     "name": "stdout",
     "output_type": "stream",
     "text": [
      "1번째 Cross Validation 정확도: 100.00%\n",
      "2번째 Cross Validation 정확도: 96.67%\n",
      "3번째 Cross Validation 정확도: 93.33%\n",
      "4번째 Cross Validation 정확도: 96.67%\n",
      "5번째 Cross Validation 정확도: 90.00%\n",
      "-------------------------------------------\n",
      "Cross Validation 정확도 평균: 95.33%\n"
     ]
    }
   ],
   "source": [
    "from sklearn.model_selection import StratifiedKFold\n",
    "\n",
    "dt_clf = DecisionTreeClassifier(random_state=42)\n",
    "\n",
    "# Stratified 5-fold CV\n",
    "skfold = StratifiedKFold(n_splits=5, shuffle=True,random_state=42)\n",
    "cv_index = skfold.split(X, y)\n",
    "\n",
    "cv_accuracy = []\n",
    "ind = 1\n",
    "\n",
    "for train_index, test_index in cv_index:\n",
    "    X_train, X_test = X[train_index], X[test_index]\n",
    "    y_train, y_test = y[train_index], y[test_index]\n",
    "\n",
    "    dt_clf.fit(X_train , y_train)\n",
    "    accuracy = dt_clf.score(X_test, y_test)\n",
    "\n",
    "    print(f'{ind}번째 Cross Validation 정확도: {accuracy:.2%}')\n",
    "    cv_accuracy.append(accuracy)\n",
    "\n",
    "    ind += 1\n",
    "\n",
    "print(f'''-------------------------------------------\n",
    "Cross Validation 정확도 평균: {np.mean(cv_accuracy):.2%}''')"
   ]
  },
  {
   "cell_type": "markdown",
   "metadata": {},
   "source": [
    "### 하이퍼파라미터 탐색\n",
    "기계학습과 딥러닝은 hyperparameter라는 것이 존재한다. 이는 모델의 학습과정에 사용되지 않아서 업데이트 되지 않고 사람이 직접 설정해주는 값이다.     \n",
    "하지만 모델의 성능에 이 값이 영향을 끼쳐서 최적의 하이퍼파라미터를 설정해줘야한다. 보통 최적 파라미터를 탐색하는데 많은 시간이 소요된다.     \n",
    "GridSearch, RandomSearch Cross Validation 등의 방법이 있고 역시 사이킷런 sklearn.model_selection에서 사용할 수 있다.    \n",
    "\n",
    "### 최적화 (Optimization)\n",
    "하이퍼파라미터 튜닝을 하는 과정이다. 하지만 보통 어떻게 설정해줘야하는지 모르기 때문에 GridSearch 와 같은 방법들을 사용한다.\n",
    "\n",
    "### GridSearch Cross Validation\n",
    "GridSearchCV는 가능한 모든 하이퍼 파라미터의 조합 중 최적의 조합을 찾는다. 하지만 모든 경우의 수를 찾아보기 때문에 컴퓨팅 파워가 많이 든다."
   ]
  },
  {
   "cell_type": "code",
   "execution_count": 120,
   "metadata": {},
   "outputs": [
    {
     "data": {
      "text/html": [
       "<div>\n",
       "<style scoped>\n",
       "    .dataframe tbody tr th:only-of-type {\n",
       "        vertical-align: middle;\n",
       "    }\n",
       "\n",
       "    .dataframe tbody tr th {\n",
       "        vertical-align: top;\n",
       "    }\n",
       "\n",
       "    .dataframe thead th {\n",
       "        text-align: right;\n",
       "    }\n",
       "</style>\n",
       "<table border=\"1\" class=\"dataframe\">\n",
       "  <thead>\n",
       "    <tr style=\"text-align: right;\">\n",
       "      <th></th>\n",
       "      <th>params</th>\n",
       "      <th>mean_test_score</th>\n",
       "      <th>rank_test_score</th>\n",
       "      <th>split0_test_score</th>\n",
       "      <th>split1_test_score</th>\n",
       "      <th>split2_test_score</th>\n",
       "    </tr>\n",
       "  </thead>\n",
       "  <tbody>\n",
       "    <tr>\n",
       "      <th>0</th>\n",
       "      <td>{'max_depth': 1, 'min_samples_leaf': 1, 'min_s...</td>\n",
       "      <td>0.675</td>\n",
       "      <td>97</td>\n",
       "      <td>0.675</td>\n",
       "      <td>0.675</td>\n",
       "      <td>0.675</td>\n",
       "    </tr>\n",
       "    <tr>\n",
       "      <th>1</th>\n",
       "      <td>{'max_depth': 1, 'min_samples_leaf': 1, 'min_s...</td>\n",
       "      <td>0.675</td>\n",
       "      <td>97</td>\n",
       "      <td>0.675</td>\n",
       "      <td>0.675</td>\n",
       "      <td>0.675</td>\n",
       "    </tr>\n",
       "    <tr>\n",
       "      <th>2</th>\n",
       "      <td>{'max_depth': 1, 'min_samples_leaf': 1, 'min_s...</td>\n",
       "      <td>0.675</td>\n",
       "      <td>97</td>\n",
       "      <td>0.675</td>\n",
       "      <td>0.675</td>\n",
       "      <td>0.675</td>\n",
       "    </tr>\n",
       "    <tr>\n",
       "      <th>3</th>\n",
       "      <td>{'max_depth': 1, 'min_samples_leaf': 2, 'min_s...</td>\n",
       "      <td>0.675</td>\n",
       "      <td>97</td>\n",
       "      <td>0.675</td>\n",
       "      <td>0.675</td>\n",
       "      <td>0.675</td>\n",
       "    </tr>\n",
       "    <tr>\n",
       "      <th>4</th>\n",
       "      <td>{'max_depth': 1, 'min_samples_leaf': 2, 'min_s...</td>\n",
       "      <td>0.675</td>\n",
       "      <td>97</td>\n",
       "      <td>0.675</td>\n",
       "      <td>0.675</td>\n",
       "      <td>0.675</td>\n",
       "    </tr>\n",
       "    <tr>\n",
       "      <th>...</th>\n",
       "      <td>...</td>\n",
       "      <td>...</td>\n",
       "      <td>...</td>\n",
       "      <td>...</td>\n",
       "      <td>...</td>\n",
       "      <td>...</td>\n",
       "    </tr>\n",
       "    <tr>\n",
       "      <th>103</th>\n",
       "      <td>{'max_depth': 9, 'min_samples_leaf': 3, 'min_s...</td>\n",
       "      <td>0.950</td>\n",
       "      <td>1</td>\n",
       "      <td>1.000</td>\n",
       "      <td>0.900</td>\n",
       "      <td>0.950</td>\n",
       "    </tr>\n",
       "    <tr>\n",
       "      <th>104</th>\n",
       "      <td>{'max_depth': 9, 'min_samples_leaf': 3, 'min_s...</td>\n",
       "      <td>0.950</td>\n",
       "      <td>1</td>\n",
       "      <td>1.000</td>\n",
       "      <td>0.900</td>\n",
       "      <td>0.950</td>\n",
       "    </tr>\n",
       "    <tr>\n",
       "      <th>105</th>\n",
       "      <td>{'max_depth': 9, 'min_samples_leaf': 4, 'min_s...</td>\n",
       "      <td>0.950</td>\n",
       "      <td>1</td>\n",
       "      <td>1.000</td>\n",
       "      <td>0.900</td>\n",
       "      <td>0.950</td>\n",
       "    </tr>\n",
       "    <tr>\n",
       "      <th>106</th>\n",
       "      <td>{'max_depth': 9, 'min_samples_leaf': 4, 'min_s...</td>\n",
       "      <td>0.950</td>\n",
       "      <td>1</td>\n",
       "      <td>1.000</td>\n",
       "      <td>0.900</td>\n",
       "      <td>0.950</td>\n",
       "    </tr>\n",
       "    <tr>\n",
       "      <th>107</th>\n",
       "      <td>{'max_depth': 9, 'min_samples_leaf': 4, 'min_s...</td>\n",
       "      <td>0.950</td>\n",
       "      <td>1</td>\n",
       "      <td>1.000</td>\n",
       "      <td>0.900</td>\n",
       "      <td>0.950</td>\n",
       "    </tr>\n",
       "  </tbody>\n",
       "</table>\n",
       "<p>108 rows × 6 columns</p>\n",
       "</div>"
      ],
      "text/plain": [
       "                                                params  mean_test_score  \\\n",
       "0    {'max_depth': 1, 'min_samples_leaf': 1, 'min_s...            0.675   \n",
       "1    {'max_depth': 1, 'min_samples_leaf': 1, 'min_s...            0.675   \n",
       "2    {'max_depth': 1, 'min_samples_leaf': 1, 'min_s...            0.675   \n",
       "3    {'max_depth': 1, 'min_samples_leaf': 2, 'min_s...            0.675   \n",
       "4    {'max_depth': 1, 'min_samples_leaf': 2, 'min_s...            0.675   \n",
       "..                                                 ...              ...   \n",
       "103  {'max_depth': 9, 'min_samples_leaf': 3, 'min_s...            0.950   \n",
       "104  {'max_depth': 9, 'min_samples_leaf': 3, 'min_s...            0.950   \n",
       "105  {'max_depth': 9, 'min_samples_leaf': 4, 'min_s...            0.950   \n",
       "106  {'max_depth': 9, 'min_samples_leaf': 4, 'min_s...            0.950   \n",
       "107  {'max_depth': 9, 'min_samples_leaf': 4, 'min_s...            0.950   \n",
       "\n",
       "     rank_test_score  split0_test_score  split1_test_score  split2_test_score  \n",
       "0                 97              0.675              0.675              0.675  \n",
       "1                 97              0.675              0.675              0.675  \n",
       "2                 97              0.675              0.675              0.675  \n",
       "3                 97              0.675              0.675              0.675  \n",
       "4                 97              0.675              0.675              0.675  \n",
       "..               ...                ...                ...                ...  \n",
       "103                1              1.000              0.900              0.950  \n",
       "104                1              1.000              0.900              0.950  \n",
       "105                1              1.000              0.900              0.950  \n",
       "106                1              1.000              0.900              0.950  \n",
       "107                1              1.000              0.900              0.950  \n",
       "\n",
       "[108 rows x 6 columns]"
      ]
     },
     "execution_count": 120,
     "metadata": {},
     "output_type": "execute_result"
    }
   ],
   "source": [
    "#GridSearch CV\n",
    "from sklearn.model_selection import GridSearchCV\n",
    "X_train, X_test, y_train, y_test = train_test_split(iris.data,iris.target,test_size=0.2,random_state=42)\n",
    "d_tree_ = DecisionTreeClassifier(random_state=42)\n",
    "parameters = {'max_depth':range(1,10),'min_samples_split':range(2,5),'min_samples_leaf':range(1,5)} #이와 같이 하이퍼파라미터의 범위를 설정해준다. key-value로\n",
    "\n",
    "grid = GridSearchCV(d_tree_,param_grid=parameters,cv=3,refit=True,return_train_score=True) #3fold cv로 최적의 결과를 탐색한다. 이는 cv_results_로 저장되고 조회해서 조합을 찾아볼 수 있다.\n",
    "#만약 정확도가 가장 높게 나오는 조합을 자동으로 확정하고 싶다면 GridSearchCV의 refit을 True로 설정해주면 된다.\n",
    "grid.fit(X_train,y_train)\n",
    "\n",
    "score_df = pd.DataFrame(grid.cv_results_)\n",
    "score_df[['params', 'mean_test_score', 'rank_test_score',\n",
    "           'split0_test_score', 'split1_test_score', 'split2_test_score']]"
   ]
  },
  {
   "cell_type": "code",
   "execution_count": 121,
   "metadata": {},
   "outputs": [
    {
     "name": "stdout",
     "output_type": "stream",
     "text": [
      "Best parameters {'max_depth': 3, 'min_samples_leaf': 1, 'min_samples_split': 2}\n",
      "Best Score 0.9499999999999998\n"
     ]
    }
   ],
   "source": [
    "print('Best parameters', grid.best_params_)\n",
    "print('Best Score', grid.best_score_)"
   ]
  },
  {
   "cell_type": "markdown",
   "metadata": {},
   "source": [
    "### RandomSearch CV\n",
    "하지만 GridSearch는 너무 오래걸린다. 단순하게 3개의 파라미터만 해도 107개의 조합이 나왔다. 거기에 cv가 3이니 3배가 된다.     \n",
    "데이터셋이 좀 작고 파라미터의 탐색 범위가 단순하고 적다면 문제가 되지 않겠지만 딥러닝으로 들어가게 된다면 진짜 몇 일을 돌려야할 수 있다.     \n",
    "따라서 Random하게 찾는 방법 또한 존재한다. 이 경우 최적의 파라미터를 찾지는 못하지만 적은 컴퓨팅 파워로 만족스러운 결과를 얻을 수 있다.    \n",
    "하지만 예전에 학교 수업에 강의오신 선배님 말로는 실무에서는 시간이 오래걸려도 좋은 결과가 있는 것이 좋으므로 gridsearch를 사용한다는 말을 했던 것 같다."
   ]
  },
  {
   "cell_type": "code",
   "execution_count": 122,
   "metadata": {},
   "outputs": [
    {
     "data": {
      "text/html": [
       "<div>\n",
       "<style scoped>\n",
       "    .dataframe tbody tr th:only-of-type {\n",
       "        vertical-align: middle;\n",
       "    }\n",
       "\n",
       "    .dataframe tbody tr th {\n",
       "        vertical-align: top;\n",
       "    }\n",
       "\n",
       "    .dataframe thead th {\n",
       "        text-align: right;\n",
       "    }\n",
       "</style>\n",
       "<table border=\"1\" class=\"dataframe\">\n",
       "  <thead>\n",
       "    <tr style=\"text-align: right;\">\n",
       "      <th></th>\n",
       "      <th>params</th>\n",
       "      <th>mean_test_score</th>\n",
       "      <th>rank_test_score</th>\n",
       "      <th>split0_test_score</th>\n",
       "      <th>split1_test_score</th>\n",
       "      <th>split2_test_score</th>\n",
       "    </tr>\n",
       "  </thead>\n",
       "  <tbody>\n",
       "    <tr>\n",
       "      <th>0</th>\n",
       "      <td>{'min_samples_split': 4, 'min_samples_leaf': 2...</td>\n",
       "      <td>0.933333</td>\n",
       "      <td>7</td>\n",
       "      <td>0.975</td>\n",
       "      <td>0.900</td>\n",
       "      <td>0.925</td>\n",
       "    </tr>\n",
       "    <tr>\n",
       "      <th>1</th>\n",
       "      <td>{'min_samples_split': 3, 'min_samples_leaf': 4...</td>\n",
       "      <td>0.675000</td>\n",
       "      <td>8</td>\n",
       "      <td>0.675</td>\n",
       "      <td>0.675</td>\n",
       "      <td>0.675</td>\n",
       "    </tr>\n",
       "    <tr>\n",
       "      <th>2</th>\n",
       "      <td>{'min_samples_split': 3, 'min_samples_leaf': 2...</td>\n",
       "      <td>0.675000</td>\n",
       "      <td>8</td>\n",
       "      <td>0.675</td>\n",
       "      <td>0.675</td>\n",
       "      <td>0.675</td>\n",
       "    </tr>\n",
       "    <tr>\n",
       "      <th>3</th>\n",
       "      <td>{'min_samples_split': 4, 'min_samples_leaf': 4...</td>\n",
       "      <td>0.950000</td>\n",
       "      <td>1</td>\n",
       "      <td>1.000</td>\n",
       "      <td>0.900</td>\n",
       "      <td>0.950</td>\n",
       "    </tr>\n",
       "    <tr>\n",
       "      <th>4</th>\n",
       "      <td>{'min_samples_split': 4, 'min_samples_leaf': 1...</td>\n",
       "      <td>0.941667</td>\n",
       "      <td>6</td>\n",
       "      <td>0.975</td>\n",
       "      <td>0.900</td>\n",
       "      <td>0.950</td>\n",
       "    </tr>\n",
       "    <tr>\n",
       "      <th>5</th>\n",
       "      <td>{'min_samples_split': 3, 'min_samples_leaf': 3...</td>\n",
       "      <td>0.950000</td>\n",
       "      <td>1</td>\n",
       "      <td>1.000</td>\n",
       "      <td>0.900</td>\n",
       "      <td>0.950</td>\n",
       "    </tr>\n",
       "    <tr>\n",
       "      <th>6</th>\n",
       "      <td>{'min_samples_split': 2, 'min_samples_leaf': 3...</td>\n",
       "      <td>0.950000</td>\n",
       "      <td>1</td>\n",
       "      <td>1.000</td>\n",
       "      <td>0.900</td>\n",
       "      <td>0.950</td>\n",
       "    </tr>\n",
       "    <tr>\n",
       "      <th>7</th>\n",
       "      <td>{'min_samples_split': 2, 'min_samples_leaf': 4...</td>\n",
       "      <td>0.950000</td>\n",
       "      <td>1</td>\n",
       "      <td>1.000</td>\n",
       "      <td>0.900</td>\n",
       "      <td>0.950</td>\n",
       "    </tr>\n",
       "    <tr>\n",
       "      <th>8</th>\n",
       "      <td>{'min_samples_split': 4, 'min_samples_leaf': 4...</td>\n",
       "      <td>0.950000</td>\n",
       "      <td>1</td>\n",
       "      <td>1.000</td>\n",
       "      <td>0.900</td>\n",
       "      <td>0.950</td>\n",
       "    </tr>\n",
       "    <tr>\n",
       "      <th>9</th>\n",
       "      <td>{'min_samples_split': 4, 'min_samples_leaf': 4...</td>\n",
       "      <td>0.675000</td>\n",
       "      <td>8</td>\n",
       "      <td>0.675</td>\n",
       "      <td>0.675</td>\n",
       "      <td>0.675</td>\n",
       "    </tr>\n",
       "  </tbody>\n",
       "</table>\n",
       "</div>"
      ],
      "text/plain": [
       "                                              params  mean_test_score  \\\n",
       "0  {'min_samples_split': 4, 'min_samples_leaf': 2...         0.933333   \n",
       "1  {'min_samples_split': 3, 'min_samples_leaf': 4...         0.675000   \n",
       "2  {'min_samples_split': 3, 'min_samples_leaf': 2...         0.675000   \n",
       "3  {'min_samples_split': 4, 'min_samples_leaf': 4...         0.950000   \n",
       "4  {'min_samples_split': 4, 'min_samples_leaf': 1...         0.941667   \n",
       "5  {'min_samples_split': 3, 'min_samples_leaf': 3...         0.950000   \n",
       "6  {'min_samples_split': 2, 'min_samples_leaf': 3...         0.950000   \n",
       "7  {'min_samples_split': 2, 'min_samples_leaf': 4...         0.950000   \n",
       "8  {'min_samples_split': 4, 'min_samples_leaf': 4...         0.950000   \n",
       "9  {'min_samples_split': 4, 'min_samples_leaf': 4...         0.675000   \n",
       "\n",
       "   rank_test_score  split0_test_score  split1_test_score  split2_test_score  \n",
       "0                7              0.975              0.900              0.925  \n",
       "1                8              0.675              0.675              0.675  \n",
       "2                8              0.675              0.675              0.675  \n",
       "3                1              1.000              0.900              0.950  \n",
       "4                6              0.975              0.900              0.950  \n",
       "5                1              1.000              0.900              0.950  \n",
       "6                1              1.000              0.900              0.950  \n",
       "7                1              1.000              0.900              0.950  \n",
       "8                1              1.000              0.900              0.950  \n",
       "9                8              0.675              0.675              0.675  "
      ]
     },
     "execution_count": 122,
     "metadata": {},
     "output_type": "execute_result"
    }
   ],
   "source": [
    "from sklearn.model_selection import RandomizedSearchCV\n",
    "random_search = RandomizedSearchCV(estimator=d_tree_,param_distributions=parameters,n_iter=10,cv=3,random_state=42,n_jobs=1)\n",
    "random_search.fit(X_train,y_train)\n",
    "\n",
    "scored_df = pd.DataFrame(random_search.cv_results_)\n",
    "scored_df[['params', 'mean_test_score', 'rank_test_score',\n",
    "           'split0_test_score', 'split1_test_score', 'split2_test_score']]"
   ]
  },
  {
   "cell_type": "code",
   "execution_count": 123,
   "metadata": {},
   "outputs": [
    {
     "name": "stdout",
     "output_type": "stream",
     "text": [
      "best params: {'min_samples_split': 4, 'min_samples_leaf': 4, 'max_depth': 7}\n",
      "best score 95.00%\n"
     ]
    }
   ],
   "source": [
    "print(f'best params:', random_search.best_params_)\n",
    "print(f'best score {random_search.best_score_:.2%}')"
   ]
  }
 ],
 "metadata": {
  "kernelspec": {
   "display_name": "base",
   "language": "python",
   "name": "python3"
  },
  "language_info": {
   "codemirror_mode": {
    "name": "ipython",
    "version": 3
   },
   "file_extension": ".py",
   "mimetype": "text/x-python",
   "name": "python",
   "nbconvert_exporter": "python",
   "pygments_lexer": "ipython3",
   "version": "3.11.5"
  }
 },
 "nbformat": 4,
 "nbformat_minor": 2
}
