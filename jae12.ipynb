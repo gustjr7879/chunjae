{
 "cells": [
  {
   "cell_type": "markdown",
   "metadata": {},
   "source": [
    "### 셀레니움을 사용한 동적크롤링(카카오맵)"
   ]
  },
  {
   "cell_type": "code",
   "execution_count": 6,
   "metadata": {},
   "outputs": [],
   "source": [
    "from selenium import webdriver\n",
    "import pandas as pd\n"
   ]
  },
  {
   "cell_type": "code",
   "execution_count": 7,
   "metadata": {},
   "outputs": [],
   "source": [
    "driver = webdriver.Chrome()"
   ]
  },
  {
   "cell_type": "code",
   "execution_count": 8,
   "metadata": {},
   "outputs": [],
   "source": [
    "keyword = \"노원역 카페\"\n",
    "url = f\"https://map.kakao.com/?q={keyword}\"\n",
    "driver.get(url)\n",
    "driver.get(url) #오버레이 제거"
   ]
  },
  {
   "cell_type": "code",
   "execution_count": 9,
   "metadata": {},
   "outputs": [],
   "source": [
    "ind = 1  # 현재 복사한 순서\n",
    "no = 1  # 1~5페이지 중 위치한 곳\n",
    "page = 1  # 현재 페이지 번호\n",
    "list1 = []  # 결과물이 저장되는 리스트\n",
    "\n",
    "while 1:\n",
    "    try:\n",
    "        # 업체명, 주소\n",
    "        title = driver.find_element(by='xpath',value = f'//*[@id=\"info.search.place.list\"]/li[{ind}]/div[3]/strong/a[2]').text\n",
    "        addr = driver.find_element(by='xpath',value = f'//*[@id=\"info.search.place.list\"]/li[{ind}]/div[5]/div[2]/p[1]').text\n",
    "        list1.append([title, addr])\n",
    "        \n",
    "        ind += 1\n",
    "        \n",
    "    except:\n",
    "        # 더보기 버튼 찾기\n",
    "        if driver.find_element(by='xpath',value = f'//*[@id=\"info.search.place.more\"]').is_displayed():\n",
    "            driver.find_element(by='xpath',value = f'//*[@id=\"info.search.place.more\"]').click()\n",
    "            no += 1\n",
    "            ind = 1\n",
    "            page += 1\n",
    "            continue\n",
    "\n",
    "        # 다음 페이지로 이동\n",
    "        elif no >= 5:\n",
    "            driver.find_element(by='xpath',value = f'//*[@id=\"info.search.page.next\"]').click()\n",
    "            no = 1\n",
    "            ind = 1\n",
    "            page += 1\n",
    "            continue\n",
    "            \n",
    "        # 5페이지 단위마다 다음 페이지 버튼 누르기\n",
    "        elif driver.find_element(by='xpath',value = f'//*[@id=\"info.search.page.no{no+1}\"]').is_displayed():\n",
    "            no += 1\n",
    "            driver.find_element(by='xpath',value = f'//*[@id=\"info.search.page.no{no}\"]').click()\n",
    "            ind = 1\n",
    "            page += 1\n",
    "            continue\n",
    "        \n",
    "        # 더이상 이동할수 없을 경우 종료\n",
    "        else:\n",
    "            break"
   ]
  },
  {
   "cell_type": "code",
   "execution_count": 10,
   "metadata": {},
   "outputs": [
    {
     "name": "stdout",
     "output_type": "stream",
     "text": [
      "                  0                            1\n",
      "0                감각             서울 노원구 상계로 77 1층\n",
      "1         시드누아 노원본점                서울 노원구 상계로 84\n",
      "2           설빙 노원역점        서울 노원구 상계로 65 현성빌딩 2층\n",
      "3                더숲  서울 노원구 노해로 480 조광빌딩 지하 1,2층\n",
      "4         커피나무 노원역점           서울 노원구 상계로1길 14-11\n",
      "..              ...                          ...\n",
      "244            카페벤트         서울 노원구 한글비석로46나길 2-4\n",
      "245  더카페 중계2001아울렛점        서울 노원구 동일로204가길 46 1층\n",
      "246         아트카페아르떼  서울 노원구 동일로 1238 북서울미술관 1~2층\n",
      "247               달           서울 노원구 한글비석로20길 66\n",
      "248            행복하자               서울 노원구 덕릉로 730\n",
      "\n",
      "[249 rows x 2 columns]\n"
     ]
    }
   ],
   "source": [
    "df = pd.DataFrame(list1)\n",
    "print(df)"
   ]
  },
  {
   "cell_type": "code",
   "execution_count": null,
   "metadata": {},
   "outputs": [],
   "source": []
  }
 ],
 "metadata": {
  "kernelspec": {
   "display_name": "base",
   "language": "python",
   "name": "python3"
  },
  "language_info": {
   "codemirror_mode": {
    "name": "ipython",
    "version": 3
   },
   "file_extension": ".py",
   "mimetype": "text/x-python",
   "name": "python",
   "nbconvert_exporter": "python",
   "pygments_lexer": "ipython3",
   "version": "0.0.0"
  }
 },
 "nbformat": 4,
 "nbformat_minor": 2
}
