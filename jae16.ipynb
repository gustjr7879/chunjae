{
 "cells": [
  {
   "cell_type": "code",
   "execution_count": 205,
   "metadata": {},
   "outputs": [],
   "source": [
    "import pandas as pd"
   ]
  },
  {
   "cell_type": "code",
   "execution_count": 206,
   "metadata": {},
   "outputs": [],
   "source": [
    "des = pd.read_excel('./테이블명세서_초등이탈.xlsx')"
   ]
  },
  {
   "cell_type": "code",
   "execution_count": 207,
   "metadata": {},
   "outputs": [
    {
     "name": "stdout",
     "output_type": "stream",
     "text": [
      "0                    proc_ymd\n",
      "1                      userid\n",
      "2                       mcode\n",
      "3                completed_yn\n",
      "4         completed_yn_origin\n",
      "5     assessment_completed_yn\n",
      "6          media_completed_yn\n",
      "7        system_learning_time\n",
      "8       caliper_learning_time\n",
      "9               subcontent_nm\n",
      "10                restart_cnt\n",
      "11               playtime_sum\n",
      "12                      score\n",
      "13                   item_cnt\n",
      "14               quizcode_cnt\n",
      "15                correct_cnt\n",
      "16            solved_time_sum\n",
      "17            solved_time_avg\n",
      "18               media_action\n",
      "19             non_video_view\n",
      "20                video_start\n",
      "21              video_restart\n",
      "22                video_pause\n",
      "23                 video_jump\n",
      "24               video_resume\n",
      "25                video_speed\n",
      "26               video_volume\n",
      "27                  video_end\n",
      "28                    sect_cd\n",
      "29                  gender_cd\n",
      "30                    step_cd\n",
      "31                   grade_cd\n",
      "32                      grade\n",
      "33               prod_type_nm\n",
      "34                    l_title\n",
      "35                    u_title\n",
      "36                  l_type_nm\n",
      "37                    subject\n",
      "38                 subject_nm\n",
      "39              content_grade\n",
      "40           content_grade_nm\n",
      "41                     Target\n",
      "42                   re_purch\n",
      "Name: 변수명, dtype: object\n"
     ]
    }
   ],
   "source": [
    "print(des['변수명'])"
   ]
  },
  {
   "cell_type": "code",
   "execution_count": 208,
   "metadata": {},
   "outputs": [
    {
     "name": "stdout",
     "output_type": "stream",
     "text": [
      "0     varchar\n",
      "1     varchar\n",
      "2     varchar\n",
      "3     varchar\n",
      "4     varchar\n",
      "5     varchar\n",
      "6     varchar\n",
      "7      bigint\n",
      "8      bigint\n",
      "9     varchar\n",
      "10     bigint\n",
      "11     bigint\n",
      "12     bigint\n",
      "13     bigint\n",
      "14     bigint\n",
      "15     bigint\n",
      "16     bigint\n",
      "17     double\n",
      "18     bigint\n",
      "19     bigint\n",
      "20     bigint\n",
      "21     bigint\n",
      "22     bigint\n",
      "23     bigint\n",
      "24     bigint\n",
      "25     bigint\n",
      "26     bigint\n",
      "27     bigint\n",
      "28    varchar\n",
      "29    varchar\n",
      "30    varchar\n",
      "31    varchar\n",
      "32    varchar\n",
      "33    varchar\n",
      "34    varchar\n",
      "35    varchar\n",
      "36    varchar\n",
      "37    varchar\n",
      "38    varchar\n",
      "39     bigint\n",
      "40    varchar\n",
      "41     bigint\n",
      "42    varchar\n",
      "Name: 타입, dtype: object\n"
     ]
    }
   ],
   "source": [
    "print(des['타입'])"
   ]
  },
  {
   "cell_type": "code",
   "execution_count": 209,
   "metadata": {},
   "outputs": [
    {
     "name": "stdout",
     "output_type": "stream",
     "text": [
      "0                        년월일\n",
      "1                     회원고유ID\n",
      "2            콘텐츠고유ID (mcode)\n",
      "3                      완료 여부\n",
      "4                  완료 여부(원천)\n",
      "5                  완료 여부(평가)\n",
      "6                 완료 여부(미디어)\n",
      "7                 학습 시간(시스템)\n",
      "8                 학습 시간(캘리퍼)\n",
      "9                 마지막 콘텐츠 단계\n",
      "10                 학습 재시작 횟수\n",
      "11         차시 학습 내 콘텐츠 사용 시간\n",
      "12                     평가 점수\n",
      "13                  풀이 문항 개수\n",
      "14                  퀴즈 코드 개수\n",
      "15                  정답 문항 개수\n",
      "16               문항 풀이 시간 합계\n",
      "17            문항 풀이 시간 계산 평균\n",
      "18                 미디어 학습 횟수\n",
      "19                비미디어 활동 횟수\n",
      "20                 비디오 시작 횟수\n",
      "21                비디오 재시작 횟수\n",
      "22               비디오 일시정지 횟수\n",
      "23                 비디오 점프 횟수\n",
      "24         비디오 재개(일시정지 후) 횟수\n",
      "25              비디오 속도 조절 횟수\n",
      "26              비디오 볼륨 조절 횟수\n",
      "27                 비디오 종료 횟수\n",
      "28                      사업구분\n",
      "29                     학습생성별\n",
      "30                     학습생단계\n",
      "31    학년구분코드; 회원(고객)의 학년구분코드\n",
      "32                      학년구분\n",
      "33                    상품유형코드\n",
      "34                     강의 제목\n",
      "35         단원 제목 (unit_name)\n",
      "36                    강의 타입명\n",
      "37                      과목코드\n",
      "38                        과목\n",
      "39                 콘텐츠 학년 코드\n",
      "40                    콘텐츠 학년\n",
      "41                     학생 상태\n",
      "42                    재구매 상태\n",
      "Name: 변수설명, dtype: object\n"
     ]
    }
   ],
   "source": [
    "print(des['변수설명'])"
   ]
  },
  {
   "cell_type": "code",
   "execution_count": 210,
   "metadata": {},
   "outputs": [
    {
     "name": "stdout",
     "output_type": "stream",
     "text": [
      "0                                 20221019\n",
      "1     0015ba98-7e03-4b9c-8ca5-45d7bd58f2f9\n",
      "2                             T0KE42U04004\n",
      "3                                        Y\n",
      "4                                        Y\n",
      "5                                        Y\n",
      "6                                        Y\n",
      "7                                      277\n",
      "8                                      321\n",
      "9                                     기본문제\n",
      "10                                       1\n",
      "11                                     262\n",
      "12                                      40\n",
      "13                                       5\n",
      "14                                       5\n",
      "15                                       2\n",
      "16                                      78\n",
      "17                                    15.6\n",
      "18                                      16\n",
      "19                                       8\n",
      "20                                       2\n",
      "21                                       0\n",
      "22                                       1\n",
      "23                                       2\n",
      "24                                       1\n",
      "25                                       0\n",
      "26                                       0\n",
      "27                                       2\n",
      "28                                      초등\n",
      "29                                       여\n",
      "30                                   유료학습생\n",
      "31                                    G014\n",
      "32                                    초4학년\n",
      "33                                      표준\n",
      "34                     인물의 성격을 짐작하며 이야기 읽기\n",
      "35                             4. 이야기 속 세상\n",
      "36                              기)교과서 진도학습\n",
      "37                                       K\n",
      "38                                      국어\n",
      "39                                       4\n",
      "40                                     4학년\n",
      "41                        10 (정상) / 30(이탈)\n",
      "42                 True (재구매) / False (신규)\n",
      "Name: sample, dtype: object\n"
     ]
    }
   ],
   "source": [
    "print(des['sample'])"
   ]
  },
  {
   "cell_type": "code",
   "execution_count": 211,
   "metadata": {},
   "outputs": [],
   "source": [
    "df1 = pd.read_csv('./member.csv',encoding='cp949').drop('Unnamed: 0',axis=1)\n",
    "df2 = pd.read_csv('./learning_time.csv',encoding='cp949').drop('Unnamed: 0',axis=1)\n",
    "df3 = pd.read_csv('./learning_action.csv',encoding='cp949').drop('Unnamed: 0',axis=1)"
   ]
  },
  {
   "cell_type": "code",
   "execution_count": 212,
   "metadata": {},
   "outputs": [
    {
     "name": "stdout",
     "output_type": "stream",
     "text": [
      "                                 userid sect_cd gender_cd step_cd grade  \\\n",
      "0  777f81e8-c221-4771-9d77-f053e9252ed8      초등         남   유료학습생  초3학년   \n",
      "1  91745902-cd00-4e9d-910e-d4f3101adf21      초등         남   유료학습생  초6학년   \n",
      "2  88efda5e-cd2e-4b7b-8a06-7b0acb67a884      초등         여   유료학습생  초2학년   \n",
      "3  b1d5bfed-00a5-4f9f-b3e5-d7a07f272850      초등         남   유료학습생  초5학년   \n",
      "4  2eb9a149-90e1-4ef3-85f7-90553d15d125      초등         남   유료학습생  초4학년   \n",
      "\n",
      "  grade_cd  Target  re_purch  \n",
      "0     G013      10     False  \n",
      "1     G016      10      True  \n",
      "2     G012      30     False  \n",
      "3     G015      10      True  \n",
      "4     G014      10     False  \n",
      "   proc_ymd                                userid mcode completed_yn  \\\n",
      "0  20230526  1382f041-8f81-49ec-ae87-f5bc95423f0e    미술            Y   \n",
      "1  20230523  0eef2d1b-2b02-41f7-aa54-7a90a686f090    국사            Y   \n",
      "2  20230508  135c9268-c57e-47d9-8780-4f7eb3a945e4    사회            Y   \n",
      "3  20230508  0bd59bfd-53aa-4b73-bcdf-07e718521cc9    체육            Y   \n",
      "4  20230506  06d15e6f-f007-41be-9f97-a4cea10d3ae1   일본어            Y   \n",
      "\n",
      "  assessment_completed_yn media_completed_yn  system_learning_time  \\\n",
      "0                       Y                  Y                 119.0   \n",
      "1                       Y                  Y                1647.0   \n",
      "2                       N                  Y                 604.0   \n",
      "3                       Y                  Y                 300.0   \n",
      "4                       Y                  Y                 421.0   \n",
      "\n",
      "   restart_cnt  playtime_sum  score  item_cnt  quizcode_cnt  correct_cnt  \\\n",
      "0         12.0           NaN   20.0       5.0           5.0          1.0   \n",
      "1          0.0           NaN   80.0       5.0           5.0          4.0   \n",
      "2          0.0           NaN   76.0       1.0          54.0          5.0   \n",
      "3          0.0           NaN   67.0       3.0           3.0          2.0   \n",
      "4          0.0           NaN  100.0       3.0           3.0          3.0   \n",
      "\n",
      "   solved_time_sum  solved_time_avg  \n",
      "0             47.0            9.400  \n",
      "1            169.0           33.800  \n",
      "2            222.0          123.000  \n",
      "3            223.0           74.333  \n",
      "4              9.0            3.000  \n",
      "   proc_ymd                                userid  media_action  \\\n",
      "0  20230526  1382f041-8f81-49ec-ae87-f5bc95423f0e            15   \n",
      "1  20230523  0eef2d1b-2b02-41f7-aa54-7a90a686f090            14   \n",
      "2  20230508  135c9268-c57e-47d9-8780-4f7eb3a945e4             2   \n",
      "3  20230508  0bd59bfd-53aa-4b73-bcdf-07e718521cc9             9   \n",
      "4  20230506  06d15e6f-f007-41be-9f97-a4cea10d3ae1            10   \n",
      "\n",
      "   non_video_view  video_start  video_restart  video_pause  video_jump  \\\n",
      "0               8            1              2            0           1   \n",
      "1               8            3              0            0           0   \n",
      "2               2            0              0            0           0   \n",
      "3               5            1              0            0           2   \n",
      "4               5            1              0            0           3   \n",
      "\n",
      "   video_resume  video_speed  video_volume  video_end  \n",
      "0             0            0             0          3  \n",
      "1             0            0             0          3  \n",
      "2             0            0             0          0  \n",
      "3             0            0             0          1  \n",
      "4             0            0             0          1  \n"
     ]
    }
   ],
   "source": [
    "print(df1.head()) # id 순서대로 안되어있음 \n",
    "print(df2.head())\n",
    "print(df3.head())"
   ]
  },
  {
   "cell_type": "code",
   "execution_count": 213,
   "metadata": {},
   "outputs": [
    {
     "name": "stdout",
     "output_type": "stream",
     "text": [
      "500\n",
      "503\n"
     ]
    }
   ],
   "source": [
    "print(len(df1))\n",
    "print(len(pd.DataFrame.merge(df1,df2,on='userid',how='inner')))"
   ]
  },
  {
   "cell_type": "code",
   "execution_count": 214,
   "metadata": {},
   "outputs": [],
   "source": [
    "new_df = pd.DataFrame.merge(df1,df2,on='userid',how='left')\n",
    "import numpy as np\n",
    "\n",
    "dupli = np.where(new_df.duplicated(subset=['userid']))\n",
    "new_df = new_df.drop(index=dupli[0])"
   ]
  },
  {
   "cell_type": "code",
   "execution_count": 215,
   "metadata": {},
   "outputs": [],
   "source": [
    "new_df = new_df.reset_index().drop('index',axis=1)"
   ]
  },
  {
   "cell_type": "code",
   "execution_count": 216,
   "metadata": {},
   "outputs": [
    {
     "name": "stdout",
     "output_type": "stream",
     "text": [
      "500\n"
     ]
    }
   ],
   "source": [
    "#print(new_df)\n",
    "result_df = pd.DataFrame.merge(new_df,df3,on='userid',how='left')\n",
    "print(len(result_df))"
   ]
  },
  {
   "cell_type": "code",
   "execution_count": 217,
   "metadata": {},
   "outputs": [
    {
     "name": "stdout",
     "output_type": "stream",
     "text": [
      "userid                       0\n",
      "sect_cd                      0\n",
      "gender_cd                    0\n",
      "step_cd                      0\n",
      "grade                        0\n",
      "grade_cd                     0\n",
      "Target                       0\n",
      "re_purch                     0\n",
      "proc_ymd_x                   0\n",
      "mcode                        0\n",
      "completed_yn                14\n",
      "assessment_completed_yn      5\n",
      "media_completed_yn           8\n",
      "system_learning_time        48\n",
      "restart_cnt                 30\n",
      "playtime_sum               500\n",
      "score                        6\n",
      "item_cnt                    24\n",
      "quizcode_cnt                44\n",
      "correct_cnt                 44\n",
      "solved_time_sum             79\n",
      "solved_time_avg             80\n",
      "proc_ymd_y                   0\n",
      "media_action                 0\n",
      "non_video_view               0\n",
      "video_start                  0\n",
      "video_restart                0\n",
      "video_pause                  0\n",
      "video_jump                   0\n",
      "video_resume                 0\n",
      "video_speed                  0\n",
      "video_volume                 0\n",
      "video_end                    0\n",
      "dtype: int64\n"
     ]
    }
   ],
   "source": [
    "def change_target(data):\n",
    "    if data == 10:\n",
    "        data = 0\n",
    "    else:\n",
    "        data = 1\n",
    "    return data\n",
    "result_df['Target'] = result_df['Target'].apply(lambda x : change_target(x))\n",
    "print(result_df.isna().sum())\n",
    "result_df['system_learning_time'] = result_df['system_learning_time'].fillna(result_df['system_learning_time'].mean())\n",
    "result_df['restart_cnt'] = result_df['restart_cnt'].fillna(result_df['restart_cnt'].value_counts().argmax())\n",
    "result_df['score'] = result_df['score'].fillna(result_df['score'].mean())\n",
    "result_df['item_cnt'] = result_df['item_cnt'].fillna(result_df['item_cnt'].value_counts().argmax())\n",
    "result_df['quizcode_cnt'] = result_df['quizcode_cnt'].fillna(result_df['quizcode_cnt'].value_counts().argmax())\n",
    "result_df['correct_cnt'] = result_df['correct_cnt'].fillna(result_df['correct_cnt'].value_counts().argmax())\n",
    "result_df['solved_time_avg'] = result_df['solved_time_avg'].fillna(result_df['solved_time_avg'].mean())\n",
    "\n",
    "from sklearn.model_selection import train_test_split\n",
    "result_df,test_df = train_test_split(result_df,test_size=0.3,random_state=42,shuffle=True)"
   ]
  },
  {
   "cell_type": "code",
   "execution_count": 218,
   "metadata": {},
   "outputs": [
    {
     "name": "stdout",
     "output_type": "stream",
     "text": [
      "5      0\n",
      "116    0\n",
      "45     0\n",
      "16     0\n",
      "462    0\n",
      "      ..\n",
      "106    0\n",
      "270    0\n",
      "348    0\n",
      "435    0\n",
      "102    0\n",
      "Name: Target, Length: 350, dtype: int64\n"
     ]
    },
    {
     "data": {
      "text/plain": [
       "<Axes: xlabel='Target', ylabel='count'>"
      ]
     },
     "execution_count": 218,
     "metadata": {},
     "output_type": "execute_result"
    },
    {
     "data": {
      "image/png": "[encoded data removed]",
      "text/plain": [
       "<Figure size 640x480 with 1 Axes>"
      ]
     },
     "metadata": {},
     "output_type": "display_data"
    }
   ],
   "source": [
    "print(result_df['Target'])\n",
    "import seaborn as sns\n",
    "\n",
    "sns.countplot(result_df,x='Target')"
   ]
  },
  {
   "cell_type": "code",
   "execution_count": 219,
   "metadata": {},
   "outputs": [],
   "source": [
    "# 맞춰주기 전에 전처리/ 다른 값 EDA\n",
    "\n",
    "def changeyn(data):\n",
    "    if data == 'Y':\n",
    "        data = 1\n",
    "    else:\n",
    "        data = 0\n",
    "    return data\n",
    "yn_list = ['completed_yn','assessment_completed_yn','media_completed_yn']\n",
    "for i in yn_list:\n",
    "    result_df[i] = result_df[i].apply(lambda x : changeyn(x))\n",
    "    test_df[i] = test_df[i].apply(lambda x : changeyn(x))"
   ]
  },
  {
   "cell_type": "code",
   "execution_count": 220,
   "metadata": {},
   "outputs": [
    {
     "name": "stdout",
     "output_type": "stream",
     "text": [
      "userid                      object\n",
      "sect_cd                     object\n",
      "gender_cd                   object\n",
      "step_cd                     object\n",
      "grade                       object\n",
      "grade_cd                    object\n",
      "Target                       int64\n",
      "re_purch                      bool\n",
      "proc_ymd_x                   int64\n",
      "mcode                       object\n",
      "completed_yn                 int64\n",
      "assessment_completed_yn      int64\n",
      "media_completed_yn           int64\n",
      "system_learning_time       float64\n",
      "restart_cnt                float64\n",
      "playtime_sum               float64\n",
      "score                      float64\n",
      "item_cnt                   float64\n",
      "quizcode_cnt               float64\n",
      "correct_cnt                float64\n",
      "solved_time_sum            float64\n",
      "solved_time_avg            float64\n",
      "proc_ymd_y                   int64\n",
      "media_action                 int64\n",
      "non_video_view               int64\n",
      "video_start                  int64\n",
      "video_restart                int64\n",
      "video_pause                  int64\n",
      "video_jump                   int64\n",
      "video_resume                 int64\n",
      "video_speed                  int64\n",
      "video_volume                 int64\n",
      "video_end                    int64\n",
      "dtype: object\n"
     ]
    }
   ],
   "source": [
    "print(result_df.dtypes)\n",
    "#sect_cd -> 초등하나만 존재함 drop\n",
    "#gender_cd -> 남/여/정보없음\n",
    "#step_cd -> 유료/만료\n",
    "#grade -> 1학년,,, 6학년 굳이 할거면 원핫인코딩\n",
    "#grade_cd -> 위와 동일 drop\n",
    "#re_purch -> T/F \n",
    "#proc_ymd_x -> 년월일 모든 데이터 5월 흠~\n",
    "#mcode -> 콘텐츠 고유아이디 국사 과학 .... 확인필요\n",
    "#system_learning_time -> 학습시간 전부 다 다름\n",
    "#restart_cnt -> 학습 재시작 횟수 -> 다양함\n",
    "#playtime_sum -> all nan drop\n",
    "#score -> 평가 점수\n",
    "#item_cnt -> 문제 푼 숫자\n",
    "#quizcode_cnt -> 퀴즈 코드 갯수\n",
    "#correct_cnt -> 정답 갯수\n",
    "#문제풀이시간 합계 drop (평균만 사용)\n",
    "#proc_ymd_y drop\n",
    "#media_action -> media 학습횟수\n",
    "#non_video_view -> 비미디어 학습횟수\n",
    "#video_start -> 비디오 시작횟수\n",
    "#video_restart -> 비미어 재시작 횟수\n",
    "#video_pause -> 비디오 정지횟수\n",
    "#video_jump -> 비디오 점프\n",
    "#video_resume -> 비디오 시작\n",
    "#video_spped -> 속도 조절\n",
    "#video_volumn -> 비디오 볼륨조절"
   ]
  },
  {
   "cell_type": "code",
   "execution_count": 221,
   "metadata": {},
   "outputs": [
    {
     "name": "stdout",
     "output_type": "stream",
     "text": [
      "[3 2 0 1 4 6 5]\n"
     ]
    },
    {
     "data": {
      "text/plain": [
       "<Axes: xlabel='non_video_view', ylabel='count'>"
      ]
     },
     "execution_count": 221,
     "metadata": {},
     "output_type": "execute_result"
    },
    {
     "data": {
      "image/png": "[encoded data removed]",
      "text/plain": [
       "<Figure size 640x480 with 1 Axes>"
      ]
     },
     "metadata": {},
     "output_type": "display_data"
    }
   ],
   "source": [
    "print(result_df['video_start'].unique())\n",
    "sns.countplot(result_df,x='non_video_view') #video start를 보면 가장 많은 숫자가 0인 것을 알 수 있음, video ~ 데이터는 사용하지 않고 모델링\n",
    "#video를 시청한 학생들만 빼서 video 데이터 가지고 모델링"
   ]
  },
  {
   "cell_type": "code",
   "execution_count": 222,
   "metadata": {},
   "outputs": [],
   "source": [
    "drop_list = ['sect_cd','grade_cd','proc_ymd_x','playtime_sum','solved_time_sum','proc_ymd_y']\n",
    "non_video_data = result_df.drop(drop_list,axis=1)\n",
    "test_df = test_df.drop(drop_list,axis=1)"
   ]
  },
  {
   "cell_type": "code",
   "execution_count": 223,
   "metadata": {},
   "outputs": [
    {
     "name": "stdout",
     "output_type": "stream",
     "text": [
      "Index(['userid', 'gender_cd', 'step_cd', 'grade', 'Target', 're_purch',\n",
      "       'mcode', 'completed_yn', 'assessment_completed_yn',\n",
      "       'media_completed_yn', 'system_learning_time', 'restart_cnt', 'score',\n",
      "       'item_cnt', 'quizcode_cnt', 'correct_cnt', 'solved_time_avg',\n",
      "       'media_action', 'non_video_view', 'video_start', 'video_restart',\n",
      "       'video_pause', 'video_jump', 'video_resume', 'video_speed',\n",
      "       'video_volume', 'video_end'],\n",
      "      dtype='object')\n"
     ]
    },
    {
     "data": {
      "text/plain": [
       "<Axes: xlabel='step_cd', ylabel='count'>"
      ]
     },
     "execution_count": 223,
     "metadata": {},
     "output_type": "execute_result"
    },
    {
     "name": "stderr",
     "output_type": "stream",
     "text": [
      "c:\\ProgramData\\anaconda3\\Lib\\site-packages\\IPython\\core\\events.py:93: UserWarning: Glyph 50976 (\\N{HANGUL SYLLABLE YU}) missing from current font.\n",
      "  func(*args, **kwargs)\n",
      "c:\\ProgramData\\anaconda3\\Lib\\site-packages\\IPython\\core\\events.py:93: UserWarning: Glyph 47308 (\\N{HANGUL SYLLABLE RYO}) missing from current font.\n",
      "  func(*args, **kwargs)\n",
      "c:\\ProgramData\\anaconda3\\Lib\\site-packages\\IPython\\core\\events.py:93: UserWarning: Glyph 54617 (\\N{HANGUL SYLLABLE HAG}) missing from current font.\n",
      "  func(*args, **kwargs)\n",
      "c:\\ProgramData\\anaconda3\\Lib\\site-packages\\IPython\\core\\events.py:93: UserWarning: Glyph 49845 (\\N{HANGUL SYLLABLE SEUB}) missing from current font.\n",
      "  func(*args, **kwargs)\n",
      "c:\\ProgramData\\anaconda3\\Lib\\site-packages\\IPython\\core\\events.py:93: UserWarning: Glyph 49373 (\\N{HANGUL SYLLABLE SAENG}) missing from current font.\n",
      "  func(*args, **kwargs)\n",
      "c:\\ProgramData\\anaconda3\\Lib\\site-packages\\IPython\\core\\pylabtools.py:152: UserWarning: Glyph 50976 (\\N{HANGUL SYLLABLE YU}) missing from current font.\n",
      "  fig.canvas.print_figure(bytes_io, **kw)\n",
      "c:\\ProgramData\\anaconda3\\Lib\\site-packages\\IPython\\core\\pylabtools.py:152: UserWarning: Glyph 47308 (\\N{HANGUL SYLLABLE RYO}) missing from current font.\n",
      "  fig.canvas.print_figure(bytes_io, **kw)\n",
      "c:\\ProgramData\\anaconda3\\Lib\\site-packages\\IPython\\core\\pylabtools.py:152: UserWarning: Glyph 54617 (\\N{HANGUL SYLLABLE HAG}) missing from current font.\n",
      "  fig.canvas.print_figure(bytes_io, **kw)\n",
      "c:\\ProgramData\\anaconda3\\Lib\\site-packages\\IPython\\core\\pylabtools.py:152: UserWarning: Glyph 49845 (\\N{HANGUL SYLLABLE SEUB}) missing from current font.\n",
      "  fig.canvas.print_figure(bytes_io, **kw)\n",
      "c:\\ProgramData\\anaconda3\\Lib\\site-packages\\IPython\\core\\pylabtools.py:152: UserWarning: Glyph 49373 (\\N{HANGUL SYLLABLE SAENG}) missing from current font.\n",
      "  fig.canvas.print_figure(bytes_io, **kw)\n"
     ]
    },
    {
     "data": {
      "image/png": "[encoded data removed]",
      "text/plain": [
       "<Figure size 640x480 with 1 Axes>"
      ]
     },
     "metadata": {},
     "output_type": "display_data"
    }
   ],
   "source": [
    "print(non_video_data.columns)\n",
    "#gender_cd -> 남/여/정보없음\n",
    "#step_cd -> 유료/만료 \n",
    "#grade -> 1학년,,, 6학년 굳이 할거면 원핫인코딩\n",
    "#re_purch -> T/F \n",
    "#mcode -> 콘텐츠 고유아이디 국사 과학 .... 확인필요\n",
    "#system_learning_time -> 학습시간 전부 다 다름\n",
    "#restart_cnt -> 학습 재시작 횟수 -> 다양함\n",
    "#score -> 평가 점수\n",
    "#item_cnt -> 문제 푼 숫자\n",
    "#quizcode_cnt -> 퀴즈 코드 갯수\n",
    "#correct_cnt -> 정답 갯수\n",
    "#media_action -> media 학습횟수\n",
    "#non_video_view -> 비미디어 학습횟수\n",
    "\n",
    "sns.countplot(non_video_data,x='step_cd') # 비율 완전 망 -> drop\n"
   ]
  },
  {
   "cell_type": "code",
   "execution_count": 224,
   "metadata": {},
   "outputs": [
    {
     "data": {
      "image/png": "[encoded data removed]",
      "text/plain": [
       "<Figure size 640x480 with 1 Axes>"
      ]
     },
     "metadata": {},
     "output_type": "display_data"
    },
    {
     "name": "stderr",
     "output_type": "stream",
     "text": [
      "c:\\ProgramData\\anaconda3\\Lib\\site-packages\\IPython\\core\\pylabtools.py:152: UserWarning: Glyph 50668 (\\N{HANGUL SYLLABLE YEO}) missing from current font.\n",
      "  fig.canvas.print_figure(bytes_io, **kw)\n",
      "c:\\ProgramData\\anaconda3\\Lib\\site-packages\\IPython\\core\\pylabtools.py:152: UserWarning: Glyph 45224 (\\N{HANGUL SYLLABLE NAM}) missing from current font.\n",
      "  fig.canvas.print_figure(bytes_io, **kw)\n",
      "c:\\ProgramData\\anaconda3\\Lib\\site-packages\\IPython\\core\\pylabtools.py:152: UserWarning: Glyph 51221 (\\N{HANGUL SYLLABLE JEONG}) missing from current font.\n",
      "  fig.canvas.print_figure(bytes_io, **kw)\n",
      "c:\\ProgramData\\anaconda3\\Lib\\site-packages\\IPython\\core\\pylabtools.py:152: UserWarning: Glyph 48372 (\\N{HANGUL SYLLABLE BO}) missing from current font.\n",
      "  fig.canvas.print_figure(bytes_io, **kw)\n",
      "c:\\ProgramData\\anaconda3\\Lib\\site-packages\\IPython\\core\\pylabtools.py:152: UserWarning: Glyph 50630 (\\N{HANGUL SYLLABLE EOBS}) missing from current font.\n",
      "  fig.canvas.print_figure(bytes_io, **kw)\n",
      "c:\\ProgramData\\anaconda3\\Lib\\site-packages\\IPython\\core\\pylabtools.py:152: UserWarning: Glyph 51020 (\\N{HANGUL SYLLABLE EUM}) missing from current font.\n",
      "  fig.canvas.print_figure(bytes_io, **kw)\n"
     ]
    },
    {
     "data": {
      "image/png": "[encoded data removed]",
      "text/plain": [
       "<Figure size 640x480 with 1 Axes>"
      ]
     },
     "metadata": {},
     "output_type": "display_data"
    },
    {
     "name": "stderr",
     "output_type": "stream",
     "text": [
      "c:\\ProgramData\\anaconda3\\Lib\\site-packages\\IPython\\core\\pylabtools.py:152: UserWarning: Glyph 50976 (\\N{HANGUL SYLLABLE YU}) missing from current font.\n",
      "  fig.canvas.print_figure(bytes_io, **kw)\n",
      "c:\\ProgramData\\anaconda3\\Lib\\site-packages\\IPython\\core\\pylabtools.py:152: UserWarning: Glyph 47308 (\\N{HANGUL SYLLABLE RYO}) missing from current font.\n",
      "  fig.canvas.print_figure(bytes_io, **kw)\n",
      "c:\\ProgramData\\anaconda3\\Lib\\site-packages\\IPython\\core\\pylabtools.py:152: UserWarning: Glyph 54617 (\\N{HANGUL SYLLABLE HAG}) missing from current font.\n",
      "  fig.canvas.print_figure(bytes_io, **kw)\n",
      "c:\\ProgramData\\anaconda3\\Lib\\site-packages\\IPython\\core\\pylabtools.py:152: UserWarning: Glyph 49845 (\\N{HANGUL SYLLABLE SEUB}) missing from current font.\n",
      "  fig.canvas.print_figure(bytes_io, **kw)\n",
      "c:\\ProgramData\\anaconda3\\Lib\\site-packages\\IPython\\core\\pylabtools.py:152: UserWarning: Glyph 49373 (\\N{HANGUL SYLLABLE SAENG}) missing from current font.\n",
      "  fig.canvas.print_figure(bytes_io, **kw)\n"
     ]
    },
    {
     "data": {
      "image/png": "[encoded data removed]",
      "text/plain": [
       "<Figure size 640x480 with 1 Axes>"
      ]
     },
     "metadata": {},
     "output_type": "display_data"
    },
    {
     "name": "stderr",
     "output_type": "stream",
     "text": [
      "c:\\ProgramData\\anaconda3\\Lib\\site-packages\\IPython\\core\\pylabtools.py:152: UserWarning: Glyph 52488 (\\N{HANGUL SYLLABLE CO}) missing from current font.\n",
      "  fig.canvas.print_figure(bytes_io, **kw)\n",
      "c:\\ProgramData\\anaconda3\\Lib\\site-packages\\IPython\\core\\pylabtools.py:152: UserWarning: Glyph 54617 (\\N{HANGUL SYLLABLE HAG}) missing from current font.\n",
      "  fig.canvas.print_figure(bytes_io, **kw)\n",
      "c:\\ProgramData\\anaconda3\\Lib\\site-packages\\IPython\\core\\pylabtools.py:152: UserWarning: Glyph 45380 (\\N{HANGUL SYLLABLE NYEON}) missing from current font.\n",
      "  fig.canvas.print_figure(bytes_io, **kw)\n"
     ]
    },
    {
     "data": {
      "image/png": "[encoded data removed]",
      "text/plain": [
       "<Figure size 640x480 with 1 Axes>"
      ]
     },
     "metadata": {},
     "output_type": "display_data"
    },
    {
     "data": {
      "image/png": "[encoded data removed]",
      "text/plain": [
       "<Figure size 640x480 with 1 Axes>"
      ]
     },
     "metadata": {},
     "output_type": "display_data"
    },
    {
     "data": {
      "image/png": "[encoded data removed]",
      "text/plain": [
       "<Figure size 640x480 with 1 Axes>"
      ]
     },
     "metadata": {},
     "output_type": "display_data"
    },
    {
     "name": "stderr",
     "output_type": "stream",
     "text": [
      "c:\\ProgramData\\anaconda3\\Lib\\site-packages\\IPython\\core\\pylabtools.py:152: UserWarning: Glyph 44284 (\\N{HANGUL SYLLABLE GWA}) missing from current font.\n",
      "  fig.canvas.print_figure(bytes_io, **kw)\n",
      "c:\\ProgramData\\anaconda3\\Lib\\site-packages\\IPython\\core\\pylabtools.py:152: UserWarning: Glyph 54617 (\\N{HANGUL SYLLABLE HAG}) missing from current font.\n",
      "  fig.canvas.print_figure(bytes_io, **kw)\n",
      "c:\\ProgramData\\anaconda3\\Lib\\site-packages\\IPython\\core\\pylabtools.py:152: UserWarning: Glyph 51473 (\\N{HANGUL SYLLABLE JUNG}) missing from current font.\n",
      "  fig.canvas.print_figure(bytes_io, **kw)\n",
      "c:\\ProgramData\\anaconda3\\Lib\\site-packages\\IPython\\core\\pylabtools.py:152: UserWarning: Glyph 44397 (\\N{HANGUL SYLLABLE GUG}) missing from current font.\n",
      "  fig.canvas.print_figure(bytes_io, **kw)\n",
      "c:\\ProgramData\\anaconda3\\Lib\\site-packages\\IPython\\core\\pylabtools.py:152: UserWarning: Glyph 50612 (\\N{HANGUL SYLLABLE EO}) missing from current font.\n",
      "  fig.canvas.print_figure(bytes_io, **kw)\n",
      "c:\\ProgramData\\anaconda3\\Lib\\site-packages\\IPython\\core\\pylabtools.py:152: UserWarning: Glyph 51068 (\\N{HANGUL SYLLABLE IL}) missing from current font.\n",
      "  fig.canvas.print_figure(bytes_io, **kw)\n",
      "c:\\ProgramData\\anaconda3\\Lib\\site-packages\\IPython\\core\\pylabtools.py:152: UserWarning: Glyph 48376 (\\N{HANGUL SYLLABLE BON}) missing from current font.\n",
      "  fig.canvas.print_figure(bytes_io, **kw)\n",
      "c:\\ProgramData\\anaconda3\\Lib\\site-packages\\IPython\\core\\pylabtools.py:152: UserWarning: Glyph 52404 (\\N{HANGUL SYLLABLE CE}) missing from current font.\n",
      "  fig.canvas.print_figure(bytes_io, **kw)\n",
      "c:\\ProgramData\\anaconda3\\Lib\\site-packages\\IPython\\core\\pylabtools.py:152: UserWarning: Glyph 50977 (\\N{HANGUL SYLLABLE YUG}) missing from current font.\n",
      "  fig.canvas.print_figure(bytes_io, **kw)\n",
      "c:\\ProgramData\\anaconda3\\Lib\\site-packages\\IPython\\core\\pylabtools.py:152: UserWarning: Glyph 44592 (\\N{HANGUL SYLLABLE GI}) missing from current font.\n",
      "  fig.canvas.print_figure(bytes_io, **kw)\n",
      "c:\\ProgramData\\anaconda3\\Lib\\site-packages\\IPython\\core\\pylabtools.py:152: UserWarning: Glyph 49696 (\\N{HANGUL SYLLABLE SUL}) missing from current font.\n",
      "  fig.canvas.print_figure(bytes_io, **kw)\n",
      "c:\\ProgramData\\anaconda3\\Lib\\site-packages\\IPython\\core\\pylabtools.py:152: UserWarning: Glyph 44032 (\\N{HANGUL SYLLABLE GA}) missing from current font.\n",
      "  fig.canvas.print_figure(bytes_io, **kw)\n",
      "c:\\ProgramData\\anaconda3\\Lib\\site-packages\\IPython\\core\\pylabtools.py:152: UserWarning: Glyph 51221 (\\N{HANGUL SYLLABLE JEONG}) missing from current font.\n",
      "  fig.canvas.print_figure(bytes_io, **kw)\n",
      "c:\\ProgramData\\anaconda3\\Lib\\site-packages\\IPython\\core\\pylabtools.py:152: UserWarning: Glyph 49324 (\\N{HANGUL SYLLABLE SA}) missing from current font.\n",
      "  fig.canvas.print_figure(bytes_io, **kw)\n",
      "c:\\ProgramData\\anaconda3\\Lib\\site-packages\\IPython\\core\\pylabtools.py:152: UserWarning: Glyph 49688 (\\N{HANGUL SYLLABLE SU}) missing from current font.\n",
      "  fig.canvas.print_figure(bytes_io, **kw)\n",
      "c:\\ProgramData\\anaconda3\\Lib\\site-packages\\IPython\\core\\pylabtools.py:152: UserWarning: Glyph 48120 (\\N{HANGUL SYLLABLE MI}) missing from current font.\n",
      "  fig.canvas.print_figure(bytes_io, **kw)\n",
      "c:\\ProgramData\\anaconda3\\Lib\\site-packages\\IPython\\core\\pylabtools.py:152: UserWarning: Glyph 46020 (\\N{HANGUL SYLLABLE DO}) missing from current font.\n",
      "  fig.canvas.print_figure(bytes_io, **kw)\n",
      "c:\\ProgramData\\anaconda3\\Lib\\site-packages\\IPython\\core\\pylabtools.py:152: UserWarning: Glyph 45909 (\\N{HANGUL SYLLABLE DEOG}) missing from current font.\n",
      "  fig.canvas.print_figure(bytes_io, **kw)\n",
      "c:\\ProgramData\\anaconda3\\Lib\\site-packages\\IPython\\core\\pylabtools.py:152: UserWarning: Glyph 54924 (\\N{HANGUL SYLLABLE HOE}) missing from current font.\n",
      "  fig.canvas.print_figure(bytes_io, **kw)\n"
     ]
    },
    {
     "data": {
      "image/png": "[encoded data removed]",
      "text/plain": [
       "<Figure size 640x480 with 1 Axes>"
      ]
     },
     "metadata": {},
     "output_type": "display_data"
    },
    {
     "data": {
      "image/png": "[encoded data removed]",
      "text/plain": [
       "<Figure size 640x480 with 1 Axes>"
      ]
     },
     "metadata": {},
     "output_type": "display_data"
    },
    {
     "data": {
      "image/png": "[encoded data removed]",
      "text/plain": [
       "<Figure size 640x480 with 1 Axes>"
      ]
     },
     "metadata": {},
     "output_type": "display_data"
    },
    {
     "data": {
      "image/png": "[encoded data removed]",
      "text/plain": [
       "<Figure size 640x480 with 1 Axes>"
      ]
     },
     "metadata": {},
     "output_type": "display_data"
    },
    {
     "data": {
      "image/png": "[encoded data removed]",
      "text/plain": [
       "<Figure size 640x480 with 1 Axes>"
      ]
     },
     "metadata": {},
     "output_type": "display_data"
    },
    {
     "data": {
      "image/png": "[encoded data removed]",
      "text/plain": [
       "<Figure size 640x480 with 1 Axes>"
      ]
     },
     "metadata": {},
     "output_type": "display_data"
    },
    {
     "data": {
      "image/png": "[encoded data removed]",
      "text/plain": [
       "<Figure size 640x480 with 1 Axes>"
      ]
     },
     "metadata": {},
     "output_type": "display_data"
    },
    {
     "data": {
      "image/png": "[encoded data removed]",
      "text/plain": [
       "<Figure size 640x480 with 1 Axes>"
      ]
     },
     "metadata": {},
     "output_type": "display_data"
    },
    {
     "data": {
      "image/png": "[encoded data removed]",
      "text/plain": [
       "<Figure size 640x480 with 1 Axes>"
      ]
     },
     "metadata": {},
     "output_type": "display_data"
    },
    {
     "data": {
      "image/png": "[encoded data removed]",
      "text/plain": [
       "<Figure size 640x480 with 1 Axes>"
      ]
     },
     "metadata": {},
     "output_type": "display_data"
    },
    {
     "data": {
      "image/png": "[encoded data removed]",
      "text/plain": [
       "<Figure size 640x480 with 1 Axes>"
      ]
     },
     "metadata": {},
     "output_type": "display_data"
    },
    {
     "data": {
      "image/png": "[encoded data removed]",
      "text/plain": [
       "<Figure size 640x480 with 1 Axes>"
      ]
     },
     "metadata": {},
     "output_type": "display_data"
    },
    {
     "data": {
      "image/png": "[encoded data removed]",
      "text/plain": [
       "<Figure size 640x480 with 1 Axes>"
      ]
     },
     "metadata": {},
     "output_type": "display_data"
    },
    {
     "data": {
      "image/png": "[encoded data removed]",
      "text/plain": [
       "<Figure size 640x480 with 1 Axes>"
      ]
     },
     "metadata": {},
     "output_type": "display_data"
    },
    {
     "data": {
      "image/png": "[encoded data removed]",
      "text/plain": [
       "<Figure size 640x480 with 1 Axes>"
      ]
     },
     "metadata": {},
     "output_type": "display_data"
    },
    {
     "data": {
      "image/png": "[encoded data removed]",
      "text/plain": [
       "<Figure size 640x480 with 1 Axes>"
      ]
     },
     "metadata": {},
     "output_type": "display_data"
    },
    {
     "data": {
      "image/png": "[encoded data removed]",
      "text/plain": [
       "<Figure size 640x480 with 1 Axes>"
      ]
     },
     "metadata": {},
     "output_type": "display_data"
    },
    {
     "data": {
      "image/png": "[encoded data removed]",
      "text/plain": [
       "<Figure size 640x480 with 1 Axes>"
      ]
     },
     "metadata": {},
     "output_type": "display_data"
    },
    {
     "data": {
      "image/png": "[encoded data removed]",
      "text/plain": [
       "<Figure size 640x480 with 1 Axes>"
      ]
     },
     "metadata": {},
     "output_type": "display_data"
    },
    {
     "data": {
      "image/png": "[encoded data removed]",
      "text/plain": [
       "<Figure size 640x480 with 1 Axes>"
      ]
     },
     "metadata": {},
     "output_type": "display_data"
    },
    {
     "data": {
      "image/png": "[encoded data removed]",
      "text/plain": [
       "<Figure size 640x480 with 1 Axes>"
      ]
     },
     "metadata": {},
     "output_type": "display_data"
    }
   ],
   "source": [
    "#gender_cd -> 남/여/정보없음\n",
    "#grade -> 1학년,,, 6학년 굳이 할거면 원핫인코딩\n",
    "#re_purch -> T/F \n",
    "#mcode -> 콘텐츠 고유아이디 국사 과학 .... 확인필요\n",
    "#system_learning_time -> 학습시간 전부 다 다름\n",
    "#restart_cnt -> 학습 재시작 횟수 -> 다양함\n",
    "#score -> 평가 점수\n",
    "#item_cnt -> 문제 푼 숫자\n",
    "#quizcode_cnt -> 퀴즈 코드 갯수\n",
    "#correct_cnt -> 정답 갯수\n",
    "#media_action -> media 학습횟수\n",
    "#non_video_view -> 비미디어 학습횟수\n",
    "import matplotlib.pyplot as plt\n",
    "col_list = non_video_data.columns\n",
    "for i in col_list:\n",
    "    sns.countplot(non_video_data,x=i) \n",
    "    plt.show()"
   ]
  },
  {
   "cell_type": "code",
   "execution_count": 225,
   "metadata": {},
   "outputs": [],
   "source": [
    "#gender_cd -> 남/여/정보없음\n",
    "#grade -> 1학년,,, 6학년 굳이 할거면 원핫인코딩\n",
    "#re_purch -> T/F \n",
    "#mcode -> 콘텐츠 고유아이디 국사 과학 .... 확인필요\n",
    "#system_learning_time -> 학습시간 전부 다 다름\n",
    "#restart_cnt -> 학습 재시작 횟수 -> 다양함\n",
    "#score -> 평가 점수\n",
    "#item_cnt -> 문제 푼 숫자\n",
    "#quizcode_cnt -> 퀴즈 코드 갯수\n",
    "#correct_cnt -> 정답 갯수\n",
    "#media_action -> media 학습횟수\n",
    "#non_video_view -> 비미디어 학습횟수\n",
    "non_video_data = non_video_data.drop(['completed_yn','video_restart','video_pause','video_jump','video_resume','video_volume'],axis=1)\n",
    "test_df = test_df.drop(['completed_yn','video_restart','video_pause','video_jump','video_resume','video_volume'],axis=1)"
   ]
  },
  {
   "cell_type": "code",
   "execution_count": 226,
   "metadata": {},
   "outputs": [
    {
     "name": "stdout",
     "output_type": "stream",
     "text": [
      "Index(['userid', 'gender_cd', 'step_cd', 'grade', 'Target', 're_purch',\n",
      "       'mcode', 'assessment_completed_yn', 'media_completed_yn',\n",
      "       'system_learning_time', 'restart_cnt', 'score', 'item_cnt',\n",
      "       'quizcode_cnt', 'correct_cnt', 'solved_time_avg', 'media_action',\n",
      "       'non_video_view', 'video_start', 'video_speed', 'video_end'],\n",
      "      dtype='object')\n",
      "gender_cd\n",
      "남       203\n",
      "여       130\n",
      "정보없음     17\n",
      "Name: count, dtype: int64\n"
     ]
    }
   ],
   "source": [
    "print(non_video_data.columns)\n",
    "print(non_video_data['gender_cd'].value_counts())\n",
    "def gender(data):\n",
    "    if data == '정보없음':\n",
    "        data = '여'\n",
    "    return data\n",
    "non_video_data['gender_cd'] = non_video_data['gender_cd'].apply(lambda x : gender(x))\n",
    "test_df['gender_cd'] = test_df['gender_cd'].apply(lambda x : gender(x))"
   ]
  },
  {
   "cell_type": "code",
   "execution_count": 227,
   "metadata": {},
   "outputs": [
    {
     "name": "stdout",
     "output_type": "stream",
     "text": [
      "     남  여\n",
      "5    0  1\n",
      "116  0  1\n",
      "45   0  1\n",
      "16   1  0\n",
      "462  1  0\n",
      "..  .. ..\n",
      "106  0  1\n",
      "270  1  0\n",
      "348  1  0\n",
      "435  0  1\n",
      "102  1  0\n",
      "\n",
      "[350 rows x 2 columns]\n",
      "     False  True \n",
      "5        0      1\n",
      "116      1      0\n",
      "45       1      0\n",
      "16       1      0\n",
      "462      1      0\n",
      "..     ...    ...\n",
      "106      1      0\n",
      "270      1      0\n",
      "348      0      1\n",
      "435      1      0\n",
      "102      0      1\n",
      "\n",
      "[350 rows x 2 columns]\n"
     ]
    }
   ],
   "source": [
    "one_hot = pd.get_dummies(non_video_data['gender_cd'],dtype=int)\n",
    "tone_hot =pd.get_dummies(test_df['gender_cd'],dtype=int)\n",
    "print(one_hot)\n",
    "one_hot2 = pd.get_dummies(non_video_data['re_purch'],dtype=int)\n",
    "tone_hot2 = pd.get_dummies(test_df['re_purch'],dtype=int)\n",
    "print(one_hot2)\n",
    "preprocess_df = pd.concat([non_video_data,pd.concat([one_hot,one_hot2],axis=1)],axis=1)\n",
    "test_df = pd.concat([test_df,pd.concat([tone_hot,tone_hot2],axis=1)],axis=1)\n"
   ]
  },
  {
   "cell_type": "code",
   "execution_count": 228,
   "metadata": {},
   "outputs": [
    {
     "name": "stdout",
     "output_type": "stream",
     "text": [
      "['초6학년' '초2학년' '초3학년' '초1학년' '초5학년' '초4학년']\n",
      "['과학' '중국어' '일본어' '체육' '기술가정' '국사' '수학' '미술' '국어' '도덕' '사회']\n"
     ]
    }
   ],
   "source": [
    "print(preprocess_df['grade'].unique()) # Ordinary encoding\n",
    "print(preprocess_df['mcode'].unique()) # one-hot encoding\n",
    "preprocess_df['grade'] = preprocess_df['grade'].apply(lambda x : int(x[1]))\n",
    "test_df['grade'] = test_df['grade'].apply(lambda x : int(x[1]))\n",
    "\n",
    "one_hot = pd.get_dummies(preprocess_df['mcode'],dtype=int)\n",
    "tone_hot = pd.get_dummies(test_df['mcode'],dtype=int)\n",
    "preprocess_df = pd.concat([preprocess_df,one_hot],axis=1)\n",
    "\n",
    "test_df = pd.concat([test_df,tone_hot],axis=1)"
   ]
  },
  {
   "cell_type": "code",
   "execution_count": 229,
   "metadata": {},
   "outputs": [
    {
     "name": "stdout",
     "output_type": "stream",
     "text": [
      "Index([                 'userid',                 'step_cd',\n",
      "                         'grade',                  'Target',\n",
      "       'assessment_completed_yn',      'media_completed_yn',\n",
      "          'system_learning_time',             'restart_cnt',\n",
      "                         'score',                'item_cnt',\n",
      "                  'quizcode_cnt',             'correct_cnt',\n",
      "               'solved_time_avg',            'media_action',\n",
      "                'non_video_view',             'video_start',\n",
      "                   'video_speed',               'video_end',\n",
      "                             '남',                       '여',\n",
      "                           False,                      True,\n",
      "                            '과학',                      '국사',\n",
      "                            '국어',                    '기술가정',\n",
      "                            '도덕',                      '미술',\n",
      "                            '사회',                      '수학',\n",
      "                           '일본어',                     '중국어',\n",
      "                            '체육'],\n",
      "      dtype='object')\n"
     ]
    }
   ],
   "source": [
    "\n",
    "drop_list = ['gender_cd','mcode','re_purch']\n",
    "preprocess_df = preprocess_df.drop(drop_list,axis=1)\n",
    "test_df = test_df.drop(drop_list,axis=1)\n",
    "print(preprocess_df.columns)"
   ]
  },
  {
   "cell_type": "code",
   "execution_count": 230,
   "metadata": {},
   "outputs": [],
   "source": [
    "preprocess_df = preprocess_df.drop(['step_cd','userid'],axis=1)\n",
    "test_df = test_df.drop(['step_cd','userid'],axis=1)"
   ]
  },
  {
   "cell_type": "code",
   "execution_count": 231,
   "metadata": {},
   "outputs": [
    {
     "name": "stdout",
     "output_type": "stream",
     "text": [
      "grade                        int64\n",
      "Target                       int64\n",
      "assessment_completed_yn      int64\n",
      "media_completed_yn           int64\n",
      "system_learning_time       float64\n",
      "restart_cnt                float64\n",
      "score                      float64\n",
      "item_cnt                   float64\n",
      "quizcode_cnt               float64\n",
      "correct_cnt                float64\n",
      "solved_time_avg            float64\n",
      "media_action                 int64\n",
      "non_video_view               int64\n",
      "video_start                  int64\n",
      "video_speed                  int64\n",
      "video_end                    int64\n",
      "남                            int32\n",
      "여                            int32\n",
      "False                        int32\n",
      "True                         int32\n",
      "과학                           int32\n",
      "국사                           int32\n",
      "국어                           int32\n",
      "기술가정                         int32\n",
      "도덕                           int32\n",
      "미술                           int32\n",
      "사회                           int32\n",
      "수학                           int32\n",
      "일본어                          int32\n",
      "중국어                          int32\n",
      "체육                           int32\n",
      "dtype: object\n"
     ]
    }
   ],
   "source": [
    "print(preprocess_df.dtypes)"
   ]
  },
  {
   "cell_type": "code",
   "execution_count": 232,
   "metadata": {},
   "outputs": [
    {
     "name": "stdout",
     "output_type": "stream",
     "text": [
      "Index([                  'grade',                  'Target',\n",
      "       'assessment_completed_yn',      'media_completed_yn',\n",
      "          'system_learning_time',             'restart_cnt',\n",
      "                         'score',                'item_cnt',\n",
      "                  'quizcode_cnt',             'correct_cnt',\n",
      "               'solved_time_avg',            'media_action',\n",
      "                'non_video_view',             'video_start',\n",
      "                   'video_speed',               'video_end',\n",
      "                             '남',                       '여',\n",
      "                           False,                      True,\n",
      "                            '과학',                      '국사',\n",
      "                            '국어',                    '기술가정',\n",
      "                            '도덕',                      '미술',\n",
      "                            '사회',                      '수학',\n",
      "                           '일본어',                     '중국어',\n",
      "                            '체육'],\n",
      "      dtype='object')\n",
      "['grade', 'Target', 'assessment_completed_yn', 'media_completed_yn', 'system_learning_time', 'restart_cnt', 'score', 'item_cnt', 'quizcode_cnt', 'correct_cnt', 'solved_time_avg', 'media_action', 'non_video_view', 'video_start', 'video_speed', 'video_end']\n"
     ]
    }
   ],
   "source": [
    "from sklearn.preprocessing import MinMaxScaler\n",
    "from sklearn.compose import make_column_transformer, make_column_selector\n",
    "scaler = MinMaxScaler()\n",
    "\n",
    "print(preprocess_df.columns)\n",
    "scale_list = []\n",
    "for i in preprocess_df.columns:\n",
    "    if i == '남':\n",
    "        break\n",
    "    \n",
    "    scale_list.append(i)\n",
    "print(scale_list)"
   ]
  },
  {
   "cell_type": "code",
   "execution_count": 233,
   "metadata": {},
   "outputs": [],
   "source": [
    "preprocess_df[scale_list] = scaler.fit_transform(preprocess_df[scale_list])\n",
    "test_df[scale_list] = scaler.transform(test_df[scale_list])"
   ]
  },
  {
   "cell_type": "code",
   "execution_count": 234,
   "metadata": {},
   "outputs": [
    {
     "name": "stdout",
     "output_type": "stream",
     "text": [
      "5      1.0\n",
      "116    0.2\n",
      "45     0.4\n",
      "16     0.0\n",
      "462    0.8\n",
      "      ... \n",
      "106    0.8\n",
      "270    0.6\n",
      "348    0.8\n",
      "435    0.0\n",
      "102    1.0\n",
      "Name: grade, Length: 350, dtype: float64\n"
     ]
    }
   ],
   "source": [
    "print(preprocess_df['grade'])"
   ]
  },
  {
   "cell_type": "code",
   "execution_count": 235,
   "metadata": {},
   "outputs": [
    {
     "name": "stdout",
     "output_type": "stream",
     "text": [
      "grade                      0\n",
      "assessment_completed_yn    0\n",
      "media_completed_yn         0\n",
      "system_learning_time       0\n",
      "restart_cnt                0\n",
      "score                      0\n",
      "item_cnt                   0\n",
      "quizcode_cnt               0\n",
      "correct_cnt                0\n",
      "solved_time_avg            0\n",
      "media_action               0\n",
      "non_video_view             0\n",
      "video_start                0\n",
      "video_speed                0\n",
      "video_end                  0\n",
      "남                          0\n",
      "여                          0\n",
      "과학                         0\n",
      "국사                         0\n",
      "국어                         0\n",
      "기술가정                       0\n",
      "도덕                         0\n",
      "미술                         0\n",
      "사회                         0\n",
      "수학                         0\n",
      "일본어                        0\n",
      "중국어                        0\n",
      "체육                         0\n",
      "tt                         0\n",
      "ff                         0\n",
      "dtype: int64\n"
     ]
    }
   ],
   "source": [
    "#너무 격차가 크고 적으니 smote를 사용해보자\n",
    "from imblearn.over_sampling import SMOTE\n",
    "train_target = preprocess_df['Target']\n",
    "train_df = preprocess_df.drop('Target',axis=1)\n",
    "train_df['tt'] = train_df[True]\n",
    "train_df['ff'] = train_df[False]\n",
    "train_df = train_df.drop([True,False],axis=1)\n",
    "print(train_df.isna().sum())"
   ]
  },
  {
   "cell_type": "code",
   "execution_count": 236,
   "metadata": {},
   "outputs": [],
   "source": [
    "smote = SMOTE(random_state=42)\n",
    "X_train_over,y_train_over = smote.fit_resample(train_df,train_target)\n"
   ]
  },
  {
   "cell_type": "code",
   "execution_count": 283,
   "metadata": {},
   "outputs": [
    {
     "name": "stdout",
     "output_type": "stream",
     "text": [
      "1.0\n"
     ]
    }
   ],
   "source": [
    "from sklearn.ensemble import RandomForestClassifier\n",
    "randomforest = RandomForestClassifier(random_state=42,max_depth=10)\n",
    "\n",
    "randomforest.fit(X_train_over,y_train_over)\n",
    "acc = randomforest.score(X_train_over,y_train_over)\n",
    "print(acc) #학습데이터 96%"
   ]
  },
  {
   "cell_type": "code",
   "execution_count": 284,
   "metadata": {},
   "outputs": [],
   "source": [
    "#test_df['tt'] = test_df[True]\n",
    "#test_df['ff'] = test_df[False]\n",
    "#test_df = test_df.drop([True,False],axis=1)\n"
   ]
  },
  {
   "cell_type": "code",
   "execution_count": 285,
   "metadata": {},
   "outputs": [],
   "source": [
    "test_target = test_df['Target']\n",
    "test_feat = test_df.drop('Target',axis=1)\n",
    "\n",
    "\n"
   ]
  },
  {
   "cell_type": "code",
   "execution_count": 286,
   "metadata": {},
   "outputs": [
    {
     "name": "stdout",
     "output_type": "stream",
     "text": [
      "Target\n",
      "0.0    138\n",
      "1.0     12\n",
      "Name: count, dtype: int64\n"
     ]
    }
   ],
   "source": [
    "print(test_target.value_counts())\n",
    "test_acc = randomforest.score(test_feat,test_target)"
   ]
  },
  {
   "cell_type": "code",
   "execution_count": 287,
   "metadata": {},
   "outputs": [
    {
     "name": "stdout",
     "output_type": "stream",
     "text": [
      "0.9\n",
      "0.16666666666666666\n",
      "0.2857142857142857\n",
      "0.2105263157894737\n"
     ]
    }
   ],
   "source": [
    "from sklearn.metrics import accuracy_score\n",
    "from sklearn.metrics import recall_score \n",
    "from sklearn.metrics import precision_score \n",
    "from sklearn.metrics import f1_score \n",
    "\n",
    "pred_rfc = randomforest.predict(test_feat)\n",
    "\n",
    "accuracy_rfc = accuracy_score(test_target,pred_rfc)\n",
    "print(accuracy_rfc)\n",
    "\n",
    "recall = recall_score(test_target,pred_rfc)\n",
    "print(recall)\n",
    "\n",
    "precision = precision_score(test_target,pred_rfc)\n",
    "print(precision)\n",
    "\n",
    "f1 = f1_score(test_target,pred_rfc)\n",
    "print(f1)\n",
    "\n"
   ]
  },
  {
   "cell_type": "code",
   "execution_count": 288,
   "metadata": {},
   "outputs": [
    {
     "name": "stdout",
     "output_type": "stream",
     "text": [
      "[0. 0. 0. 0. 1. 0. 0. 0. 0. 0. 0. 0. 0. 0. 0. 0. 0. 0. 0. 0. 0. 0. 0. 0.\n",
      " 0. 0. 0. 0. 0. 0. 0. 0. 0. 1. 0. 1. 0. 0. 0. 1. 0. 0. 0. 0. 0. 0. 0. 0.\n",
      " 0. 0. 0. 0. 0. 0. 0. 1. 0. 0. 0. 0. 0. 0. 0. 0. 0. 0. 0. 0. 0. 0. 0. 0.\n",
      " 0. 0. 0. 0. 0. 0. 0. 0. 0. 0. 0. 0. 0. 0. 0. 0. 0. 0. 0. 0. 0. 0. 0. 0.\n",
      " 0. 0. 0. 0. 0. 0. 0. 0. 0. 0. 0. 0. 0. 0. 0. 0. 0. 0. 0. 0. 0. 0. 0. 0.\n",
      " 0. 0. 0. 0. 0. 0. 1. 0. 0. 0. 0. 0. 0. 0. 0. 0. 1. 0. 0. 0. 0. 0. 0. 0.\n",
      " 0. 0. 0. 0. 0. 0.]\n"
     ]
    }
   ],
   "source": [
    "print(pred_rfc) #거의다 0으로 때려맞추는 것 확인\n"
   ]
  },
  {
   "cell_type": "code",
   "execution_count": 290,
   "metadata": {},
   "outputs": [
    {
     "data": {
      "application/vnd.plotly.v1+json": {
       "config": {
        "plotlyServerURL": "https://plot.ly"
       },
       "data": [
        {
         "hovertemplate": "x=%{x}<br>y=%{y}<br>color=%{marker.color}<extra></extra>",
         "legendgroup": "",
         "marker": {
          "color": [
           0,
           0,
           0,
           0,
           0,
           0,
           0,
           0,
           0,
           0,
           0,
           1,
           0,
           0,
           0,
           0,
           0,
           0,
           0,
           0,
           0,
           0,
           0,
           0,
           0,
           0,
           0,
           0,
           0,
           0,
           0,
           0,
           0,
           0,
           1,
           1,
           0,
           0,
           0,
           0,
           0,
           1,
           0,
           0,
           0,
           0,
           0,
           0,
           0,
           0,
           0,
           0,
           0,
           0,
           0,
           0,
           0,
           0,
           0,
           0,
           0,
           0,
           0,
           0,
           0,
           0,
           0,
           0,
           0,
           0,
           0,
           1,
           0,
           0,
           1,
           0,
           0,
           0,
           0,
           0,
           0,
           0,
           0,
           0,
           0,
           0,
           0,
           0,
           0,
           0,
           0,
           0,
           0,
           0,
           0,
           0,
           0,
           1,
           0,
           1,
           0,
           0,
           0,
           0,
           0,
           0,
           0,
           0,
           0,
           0,
           0,
           0,
           0,
           0,
           0,
           0,
           0,
           0,
           0,
           0,
           0,
           0,
           1,
           0,
           0,
           1,
           0,
           0,
           0,
           0,
           0,
           0,
           0,
           0,
           0,
           0,
           1,
           0,
           0,
           0,
           0,
           0,
           0,
           0,
           0,
           1,
           0,
           0,
           0,
           0
          ],
          "coloraxis": "coloraxis",
          "symbol": "circle"
         },
         "mode": "markers",
         "name": "",
         "orientation": "v",
         "showlegend": false,
         "type": "scatter",
         "x": [
          -2.9018313884735107,
          -4.094674587249756,
          -1.0661340951919556,
          6.1352152824401855,
          7.549081802368164,
          -2.990429401397705,
          0.43240785598754883,
          -1.2281289100646973,
          -5.593961715698242,
          -3.218902349472046,
          -5.545842170715332,
          7.839183330535889,
          1.104944109916687,
          5.734794616699219,
          -8.544318199157715,
          0.3481638431549072,
          5.096719741821289,
          0.7132496237754822,
          -0.772158145904541,
          -0.7909277081489563,
          8.54439926147461,
          0.5351225137710571,
          0.42052367329597473,
          -4.847837924957275,
          -6.483593940734863,
          -1.571675419807434,
          -1.9742674827575684,
          -5.954464435577393,
          8.44513988494873,
          -7.423787593841553,
          9.390519142150879,
          2.6843438148498535,
          1.5397268533706665,
          5.617843151092529,
          4.826175212860107,
          -0.5864317417144775,
          -4.6157708168029785,
          1.35767662525177,
          8.93359661102295,
          -0.5743107199668884,
          -4.499591827392578,
          -8.787803649902344,
          -0.07316537946462631,
          -0.6111040711402893,
          4.379425048828125,
          -2.794752597808838,
          1.0033258199691772,
          3.9467811584472656,
          6.467932224273682,
          -6.081250190734863,
          -7.41426944732666,
          -6.950684547424316,
          7.892638683319092,
          -2.6466422080993652,
          4.828924179077148,
          6.548737049102783,
          7.7124409675598145,
          -3.5744545459747314,
          -3.7009036540985107,
          -6.882925033569336,
          2.3735804557800293,
          -0.0679488480091095,
          3.522601842880249,
          2.156309127807617,
          5.709747314453125,
          4.986536979675293,
          6.3651933670043945,
          -2.930971622467041,
          0.38794615864753723,
          7.94793176651001,
          -2.1029515266418457,
          -1.3423402309417725,
          6.139714241027832,
          -0.523908793926239,
          -0.7668793201446533,
          -6.050248146057129,
          -5.562477111816406,
          9.205469131469727,
          2.5268607139587402,
          6.294842720031738,
          -0.5293294787406921,
          1.0868041515350342,
          -1.7157471179962158,
          -2.9549624919891357,
          -5.8757476806640625,
          2.037945508956909,
          -0.6120634078979492,
          2.328338623046875,
          -3.19805645942688,
          -5.540312767028809,
          -1.4611001014709473,
          -1.3139166831970215,
          -7.482094764709473,
          -3.9100868701934814,
          -2.383150815963745,
          8.149043083190918,
          0.7284402847290039,
          6.376834392547607,
          3.483804225921631,
          -5.265824317932129,
          6.342499256134033,
          -3.7046637535095215,
          -0.5256307721138,
          -1.738265037536621,
          8.302474021911621,
          -2.2088468074798584,
          -3.04472279548645,
          0.3406831920146942,
          -3.493786334991455,
          -1.6006213426589966,
          -1.0045615434646606,
          6.193033218383789,
          -1.186158537864685,
          0.2834721505641937,
          6.651978492736816,
          -2.0913288593292236,
          -4.471684455871582,
          3.4531381130218506,
          -0.3282840847969055,
          -0.41537708044052124,
          8.941498756408691,
          -6.926098346710205,
          -3.287022590637207,
          -7.889037132263184,
          -3.261932611465454,
          -8.389592170715332,
          -2.14400315284729,
          4.021730422973633,
          -4.564938545227051,
          3.9207401275634766,
          -7.830356121063232,
          7.712904930114746,
          -1.1525590419769287,
          1.3205006122589111,
          -0.47493085265159607,
          -2.3497045040130615,
          -1.2522705793380737,
          -1.368277907371521,
          5.459335803985596,
          3.9371819496154785,
          -2.9369449615478516,
          6.569340229034424,
          0.7721143364906311,
          -4.068850517272949,
          5.929642677307129,
          -0.47901174426078796,
          0.11063701659440994,
          6.456425666809082,
          7.386848449707031,
          -4.445021152496338
         ],
         "xaxis": "x",
         "y": [
          -6.496714115142822,
          -1.88064444065094,
          1.5432833433151245,
          -3.8376269340515137,
          -4.141363620758057,
          3.097574472427368,
          5.372618198394775,
          -6.71858549118042,
          -1.424752950668335,
          6.081849575042725,
          -0.9529885649681091,
          -2.5648045539855957,
          7.904830455780029,
          -2.521237373352051,
          -1.3360782861709595,
          5.403657913208008,
          -1.739372730255127,
          -5.658270359039307,
          2.3009307384490967,
          -7.6580729484558105,
          -3.092564821243286,
          7.06419563293457,
          5.425050735473633,
          -1.2169731855392456,
          -0.698763370513916,
          -6.781860828399658,
          5.7444586753845215,
          -2.920511484146118,
          -2.620065927505493,
          -2.310638666152954,
          -4.231597423553467,
          -3.4050326347351074,
          6.735857963562012,
          -0.31667062640190125,
          -1.8001477718353271,
          1.9848833084106445,
          -1.9849988222122192,
          3.5438952445983887,
          -1.2545883655548096,
          2.0427091121673584,
          -1.977839708328247,
          -2.9155983924865723,
          -6.878302097320557,
          5.165411472320557,
          -3.0452933311462402,
          7.384090900421143,
          2.7580246925354004,
          -3.9027185440063477,
          0.32643598318099976,
          -2.9502246379852295,
          -0.985149085521698,
          -3.0038301944732666,
          -3.0857834815979004,
          6.357476234436035,
          -1.6963406801223755,
          -1.0674147605895996,
          -2.608614206314087,
          -2.984616994857788,
          -6.550411224365234,
          -1.7439448833465576,
          -2.2279763221740723,
          6.128730297088623,
          -2.4530088901519775,
          7.587510585784912,
          -0.34451723098754883,
          -4.209747314453125,
          -5.238121032714844,
          7.34547233581543,
          3.408158302307129,
          -4.887731552124023,
          -5.521848678588867,
          -5.1761674880981445,
          -2.3564651012420654,
          -6.898432731628418,
          7.156120300292969,
          -1.7998626232147217,
          -3.7673990726470947,
          -3.3524980545043945,
          5.5393900871276855,
          -2.3297746181488037,
          5.078146457672119,
          3.92767071723938,
          2.327244281768799,
          -7.170960426330566,
          -2.85640025138855,
          -2.628458023071289,
          5.296355247497559,
          4.213474750518799,
          -1.6648954153060913,
          -2.0895352363586426,
          -7.881256103515625,
          3.0404295921325684,
          -3.7771079540252686,
          4.812843322753906,
          -6.1438446044921875,
          -3.079355239868164,
          3.269932985305786,
          -3.722813367843628,
          -2.562603235244751,
          -4.016244411468506,
          -5.174215316772461,
          -6.5665602684021,
          -4.937153339385986,
          -5.944688320159912,
          -1.4845205545425415,
          4.451322555541992,
          2.659329652786255,
          3.5394458770751953,
          3.389094114303589,
          6.059817314147949,
          1.4110029935836792,
          -3.9288010597229004,
          7.246863842010498,
          8.168546676635742,
          -1.1543937921524048,
          4.526514053344727,
          -2.2425572872161865,
          -2.675166130065918,
          -6.737638473510742,
          -5.983504295349121,
          -1.2452181577682495,
          -3.009659767150879,
          4.794755935668945,
          -0.824084997177124,
          -7.233569145202637,
          -1.7291749715805054,
          6.104867935180664,
          -0.5548540949821472,
          -0.6908049583435059,
          -4.369611740112305,
          -1.9717832803726196,
          -2.6092209815979004,
          4.289605617523193,
          5.096681118011475,
          -4.9913458824157715,
          4.468615531921387,
          2.9098734855651855,
          -6.693331718444824,
          -5.097703456878662,
          -1.5432119369506836,
          3.1810648441314697,
          -4.044963359832764,
          7.0736403465271,
          6.445108413696289,
          0.06849106401205063,
          -4.983636379241943,
          3.737895965576172,
          -1.2171961069107056,
          -4.624747276306152,
          -3.3781704902648926
         ],
         "yaxis": "y"
        }
       ],
       "layout": {
        "coloraxis": {
         "colorbar": {
          "title": {
           "text": "color"
          }
         },
         "colorscale": [
          [
           0,
           "#0d0887"
          ],
          [
           0.1111111111111111,
           "#46039f"
          ],
          [
           0.2222222222222222,
           "#7201a8"
          ],
          [
           0.3333333333333333,
           "#9c179e"
          ],
          [
           0.4444444444444444,
           "#bd3786"
          ],
          [
           0.5555555555555556,
           "#d8576b"
          ],
          [
           0.6666666666666666,
           "#ed7953"
          ],
          [
           0.7777777777777778,
           "#fb9f3a"
          ],
          [
           0.8888888888888888,
           "#fdca26"
          ],
          [
           1,
           "#f0f921"
          ]
         ]
        },
        "height": 1200,
        "legend": {
         "tracegroupgap": 0
        },
        "margin": {
         "t": 60
        },
        "template": {
         "data": {
          "bar": [
           {
            "error_x": {
             "color": "#2a3f5f"
            },
            "error_y": {
             "color": "#2a3f5f"
            },
            "marker": {
             "line": {
              "color": "#E5ECF6",
              "width": 0.5
             },
             "pattern": {
              "fillmode": "overlay",
              "size": 10,
              "solidity": 0.2
             }
            },
            "type": "bar"
           }
          ],
          "barpolar": [
           {
            "marker": {
             "line": {
              "color": "#E5ECF6",
              "width": 0.5
             },
             "pattern": {
              "fillmode": "overlay",
              "size": 10,
              "solidity": 0.2
             }
            },
            "type": "barpolar"
           }
          ],
          "carpet": [
           {
            "aaxis": {
             "endlinecolor": "#2a3f5f",
             "gridcolor": "white",
             "linecolor": "white",
             "minorgridcolor": "white",
             "startlinecolor": "#2a3f5f"
            },
            "baxis": {
             "endlinecolor": "#2a3f5f",
             "gridcolor": "white",
             "linecolor": "white",
             "minorgridcolor": "white",
             "startlinecolor": "#2a3f5f"
            },
            "type": "carpet"
           }
          ],
          "choropleth": [
           {
            "colorbar": {
             "outlinewidth": 0,
             "ticks": ""
            },
            "type": "choropleth"
           }
          ],
          "contour": [
           {
            "colorbar": {
             "outlinewidth": 0,
             "ticks": ""
            },
            "colorscale": [
             [
              0,
              "#0d0887"
             ],
             [
              0.1111111111111111,
              "#46039f"
             ],
             [
              0.2222222222222222,
              "#7201a8"
             ],
             [
              0.3333333333333333,
              "#9c179e"
             ],
             [
              0.4444444444444444,
              "#bd3786"
             ],
             [
              0.5555555555555556,
              "#d8576b"
             ],
             [
              0.6666666666666666,
              "#ed7953"
             ],
             [
              0.7777777777777778,
              "#fb9f3a"
             ],
             [
              0.8888888888888888,
              "#fdca26"
             ],
             [
              1,
              "#f0f921"
             ]
            ],
            "type": "contour"
           }
          ],
          "contourcarpet": [
           {
            "colorbar": {
             "outlinewidth": 0,
             "ticks": ""
            },
            "type": "contourcarpet"
           }
          ],
          "heatmap": [
           {
            "colorbar": {
             "outlinewidth": 0,
             "ticks": ""
            },
            "colorscale": [
             [
              0,
              "#0d0887"
             ],
             [
              0.1111111111111111,
              "#46039f"
             ],
             [
              0.2222222222222222,
              "#7201a8"
             ],
             [
              0.3333333333333333,
              "#9c179e"
             ],
             [
              0.4444444444444444,
              "#bd3786"
             ],
             [
              0.5555555555555556,
              "#d8576b"
             ],
             [
              0.6666666666666666,
              "#ed7953"
             ],
             [
              0.7777777777777778,
              "#fb9f3a"
             ],
             [
              0.8888888888888888,
              "#fdca26"
             ],
             [
              1,
              "#f0f921"
             ]
            ],
            "type": "heatmap"
           }
          ],
          "heatmapgl": [
           {
            "colorbar": {
             "outlinewidth": 0,
             "ticks": ""
            },
            "colorscale": [
             [
              0,
              "#0d0887"
             ],
             [
              0.1111111111111111,
              "#46039f"
             ],
             [
              0.2222222222222222,
              "#7201a8"
             ],
             [
              0.3333333333333333,
              "#9c179e"
             ],
             [
              0.4444444444444444,
              "#bd3786"
             ],
             [
              0.5555555555555556,
              "#d8576b"
             ],
             [
              0.6666666666666666,
              "#ed7953"
             ],
             [
              0.7777777777777778,
              "#fb9f3a"
             ],
             [
              0.8888888888888888,
              "#fdca26"
             ],
             [
              1,
              "#f0f921"
             ]
            ],
            "type": "heatmapgl"
           }
          ],
          "histogram": [
           {
            "marker": {
             "pattern": {
              "fillmode": "overlay",
              "size": 10,
              "solidity": 0.2
             }
            },
            "type": "histogram"
           }
          ],
          "histogram2d": [
           {
            "colorbar": {
             "outlinewidth": 0,
             "ticks": ""
            },
            "colorscale": [
             [
              0,
              "#0d0887"
             ],
             [
              0.1111111111111111,
              "#46039f"
             ],
             [
              0.2222222222222222,
              "#7201a8"
             ],
             [
              0.3333333333333333,
              "#9c179e"
             ],
             [
              0.4444444444444444,
              "#bd3786"
             ],
             [
              0.5555555555555556,
              "#d8576b"
             ],
             [
              0.6666666666666666,
              "#ed7953"
             ],
             [
              0.7777777777777778,
              "#fb9f3a"
             ],
             [
              0.8888888888888888,
              "#fdca26"
             ],
             [
              1,
              "#f0f921"
             ]
            ],
            "type": "histogram2d"
           }
          ],
          "histogram2dcontour": [
           {
            "colorbar": {
             "outlinewidth": 0,
             "ticks": ""
            },
            "colorscale": [
             [
              0,
              "#0d0887"
             ],
             [
              0.1111111111111111,
              "#46039f"
             ],
             [
              0.2222222222222222,
              "#7201a8"
             ],
             [
              0.3333333333333333,
              "#9c179e"
             ],
             [
              0.4444444444444444,
              "#bd3786"
             ],
             [
              0.5555555555555556,
              "#d8576b"
             ],
             [
              0.6666666666666666,
              "#ed7953"
             ],
             [
              0.7777777777777778,
              "#fb9f3a"
             ],
             [
              0.8888888888888888,
              "#fdca26"
             ],
             [
              1,
              "#f0f921"
             ]
            ],
            "type": "histogram2dcontour"
           }
          ],
          "mesh3d": [
           {
            "colorbar": {
             "outlinewidth": 0,
             "ticks": ""
            },
            "type": "mesh3d"
           }
          ],
          "parcoords": [
           {
            "line": {
             "colorbar": {
              "outlinewidth": 0,
              "ticks": ""
             }
            },
            "type": "parcoords"
           }
          ],
          "pie": [
           {
            "automargin": true,
            "type": "pie"
           }
          ],
          "scatter": [
           {
            "fillpattern": {
             "fillmode": "overlay",
             "size": 10,
             "solidity": 0.2
            },
            "type": "scatter"
           }
          ],
          "scatter3d": [
           {
            "line": {
             "colorbar": {
              "outlinewidth": 0,
              "ticks": ""
             }
            },
            "marker": {
             "colorbar": {
              "outlinewidth": 0,
              "ticks": ""
             }
            },
            "type": "scatter3d"
           }
          ],
          "scattercarpet": [
           {
            "marker": {
             "colorbar": {
              "outlinewidth": 0,
              "ticks": ""
             }
            },
            "type": "scattercarpet"
           }
          ],
          "scattergeo": [
           {
            "marker": {
             "colorbar": {
              "outlinewidth": 0,
              "ticks": ""
             }
            },
            "type": "scattergeo"
           }
          ],
          "scattergl": [
           {
            "marker": {
             "colorbar": {
              "outlinewidth": 0,
              "ticks": ""
             }
            },
            "type": "scattergl"
           }
          ],
          "scattermapbox": [
           {
            "marker": {
             "colorbar": {
              "outlinewidth": 0,
              "ticks": ""
             }
            },
            "type": "scattermapbox"
           }
          ],
          "scatterpolar": [
           {
            "marker": {
             "colorbar": {
              "outlinewidth": 0,
              "ticks": ""
             }
            },
            "type": "scatterpolar"
           }
          ],
          "scatterpolargl": [
           {
            "marker": {
             "colorbar": {
              "outlinewidth": 0,
              "ticks": ""
             }
            },
            "type": "scatterpolargl"
           }
          ],
          "scatterternary": [
           {
            "marker": {
             "colorbar": {
              "outlinewidth": 0,
              "ticks": ""
             }
            },
            "type": "scatterternary"
           }
          ],
          "surface": [
           {
            "colorbar": {
             "outlinewidth": 0,
             "ticks": ""
            },
            "colorscale": [
             [
              0,
              "#0d0887"
             ],
             [
              0.1111111111111111,
              "#46039f"
             ],
             [
              0.2222222222222222,
              "#7201a8"
             ],
             [
              0.3333333333333333,
              "#9c179e"
             ],
             [
              0.4444444444444444,
              "#bd3786"
             ],
             [
              0.5555555555555556,
              "#d8576b"
             ],
             [
              0.6666666666666666,
              "#ed7953"
             ],
             [
              0.7777777777777778,
              "#fb9f3a"
             ],
             [
              0.8888888888888888,
              "#fdca26"
             ],
             [
              1,
              "#f0f921"
             ]
            ],
            "type": "surface"
           }
          ],
          "table": [
           {
            "cells": {
             "fill": {
              "color": "#EBF0F8"
             },
             "line": {
              "color": "white"
             }
            },
            "header": {
             "fill": {
              "color": "#C8D4E3"
             },
             "line": {
              "color": "white"
             }
            },
            "type": "table"
           }
          ]
         },
         "layout": {
          "annotationdefaults": {
           "arrowcolor": "#2a3f5f",
           "arrowhead": 0,
           "arrowwidth": 1
          },
          "autotypenumbers": "strict",
          "coloraxis": {
           "colorbar": {
            "outlinewidth": 0,
            "ticks": ""
           }
          },
          "colorscale": {
           "diverging": [
            [
             0,
             "#8e0152"
            ],
            [
             0.1,
             "#c51b7d"
            ],
            [
             0.2,
             "#de77ae"
            ],
            [
             0.3,
             "#f1b6da"
            ],
            [
             0.4,
             "#fde0ef"
            ],
            [
             0.5,
             "#f7f7f7"
            ],
            [
             0.6,
             "#e6f5d0"
            ],
            [
             0.7,
             "#b8e186"
            ],
            [
             0.8,
             "#7fbc41"
            ],
            [
             0.9,
             "#4d9221"
            ],
            [
             1,
             "#276419"
            ]
           ],
           "sequential": [
            [
             0,
             "#0d0887"
            ],
            [
             0.1111111111111111,
             "#46039f"
            ],
            [
             0.2222222222222222,
             "#7201a8"
            ],
            [
             0.3333333333333333,
             "#9c179e"
            ],
            [
             0.4444444444444444,
             "#bd3786"
            ],
            [
             0.5555555555555556,
             "#d8576b"
            ],
            [
             0.6666666666666666,
             "#ed7953"
            ],
            [
             0.7777777777777778,
             "#fb9f3a"
            ],
            [
             0.8888888888888888,
             "#fdca26"
            ],
            [
             1,
             "#f0f921"
            ]
           ],
           "sequentialminus": [
            [
             0,
             "#0d0887"
            ],
            [
             0.1111111111111111,
             "#46039f"
            ],
            [
             0.2222222222222222,
             "#7201a8"
            ],
            [
             0.3333333333333333,
             "#9c179e"
            ],
            [
             0.4444444444444444,
             "#bd3786"
            ],
            [
             0.5555555555555556,
             "#d8576b"
            ],
            [
             0.6666666666666666,
             "#ed7953"
            ],
            [
             0.7777777777777778,
             "#fb9f3a"
            ],
            [
             0.8888888888888888,
             "#fdca26"
            ],
            [
             1,
             "#f0f921"
            ]
           ]
          },
          "colorway": [
           "#636efa",
           "#EF553B",
           "#00cc96",
           "#ab63fa",
           "#FFA15A",
           "#19d3f3",
           "#FF6692",
           "#B6E880",
           "#FF97FF",
           "#FECB52"
          ],
          "font": {
           "color": "#2a3f5f"
          },
          "geo": {
           "bgcolor": "white",
           "lakecolor": "white",
           "landcolor": "#E5ECF6",
           "showlakes": true,
           "showland": true,
           "subunitcolor": "white"
          },
          "hoverlabel": {
           "align": "left"
          },
          "hovermode": "closest",
          "mapbox": {
           "style": "light"
          },
          "paper_bgcolor": "white",
          "plot_bgcolor": "#E5ECF6",
          "polar": {
           "angularaxis": {
            "gridcolor": "white",
            "linecolor": "white",
            "ticks": ""
           },
           "bgcolor": "#E5ECF6",
           "radialaxis": {
            "gridcolor": "white",
            "linecolor": "white",
            "ticks": ""
           }
          },
          "scene": {
           "xaxis": {
            "backgroundcolor": "#E5ECF6",
            "gridcolor": "white",
            "gridwidth": 2,
            "linecolor": "white",
            "showbackground": true,
            "ticks": "",
            "zerolinecolor": "white"
           },
           "yaxis": {
            "backgroundcolor": "#E5ECF6",
            "gridcolor": "white",
            "gridwidth": 2,
            "linecolor": "white",
            "showbackground": true,
            "ticks": "",
            "zerolinecolor": "white"
           },
           "zaxis": {
            "backgroundcolor": "#E5ECF6",
            "gridcolor": "white",
            "gridwidth": 2,
            "linecolor": "white",
            "showbackground": true,
            "ticks": "",
            "zerolinecolor": "white"
           }
          },
          "shapedefaults": {
           "line": {
            "color": "#2a3f5f"
           }
          },
          "ternary": {
           "aaxis": {
            "gridcolor": "white",
            "linecolor": "white",
            "ticks": ""
           },
           "baxis": {
            "gridcolor": "white",
            "linecolor": "white",
            "ticks": ""
           },
           "bgcolor": "#E5ECF6",
           "caxis": {
            "gridcolor": "white",
            "linecolor": "white",
            "ticks": ""
           }
          },
          "title": {
           "x": 0.05
          },
          "xaxis": {
           "automargin": true,
           "gridcolor": "white",
           "linecolor": "white",
           "ticks": "",
           "title": {
            "standoff": 15
           },
           "zerolinecolor": "white",
           "zerolinewidth": 2
          },
          "yaxis": {
           "automargin": true,
           "gridcolor": "white",
           "linecolor": "white",
           "ticks": "",
           "title": {
            "standoff": 15
           },
           "zerolinecolor": "white",
           "zerolinewidth": 2
          }
         }
        },
        "width": 1200,
        "xaxis": {
         "anchor": "y",
         "domain": [
          0,
          1
         ],
         "title": {
          "text": "x"
         }
        },
        "yaxis": {
         "anchor": "x",
         "domain": [
          0,
          1
         ],
         "title": {
          "text": "y"
         }
        }
       }
      }
     },
     "metadata": {},
     "output_type": "display_data"
    }
   ],
   "source": [
    "from sklearn.manifold import TSNE\n",
    "import numpy as np\n",
    "import plotly.express as px\n",
    "tsne = TSNE(n_components=2,metric='cosine',random_state=42)\n",
    "\n",
    "feat = tsne.fit_transform(np.array(test_feat))\n",
    "fig = px.scatter(x = feat[:,0],y = feat[:,1],color=test_target,width=1200, height=1200) #tsne 그려줌\n",
    "fig.show()"
   ]
  },
  {
   "cell_type": "code",
   "execution_count": 291,
   "metadata": {},
   "outputs": [
    {
     "data": {
      "application/vnd.plotly.v1+json": {
       "config": {
        "plotlyServerURL": "https://plot.ly"
       },
       "data": [
        {
         "hovertemplate": "x=%{x}<br>y=%{y}<br>color=%{marker.color}<extra></extra>",
         "legendgroup": "",
         "marker": {
          "color": [
           0,
           0,
           0,
           0,
           1,
           0,
           0,
           0,
           0,
           0,
           0,
           0,
           0,
           0,
           0,
           0,
           0,
           0,
           0,
           0,
           0,
           0,
           0,
           0,
           0,
           0,
           0,
           0,
           0,
           0,
           0,
           0,
           0,
           1,
           0,
           1,
           0,
           0,
           0,
           1,
           0,
           0,
           0,
           0,
           0,
           0,
           0,
           0,
           0,
           0,
           0,
           0,
           0,
           0,
           0,
           1,
           0,
           0,
           0,
           0,
           0,
           0,
           0,
           0,
           0,
           0,
           0,
           0,
           0,
           0,
           0,
           0,
           0,
           0,
           0,
           0,
           0,
           0,
           0,
           0,
           0,
           0,
           0,
           0,
           0,
           0,
           0,
           0,
           0,
           0,
           0,
           0,
           0,
           0,
           0,
           0,
           0,
           0,
           0,
           0,
           0,
           0,
           0,
           0,
           0,
           0,
           0,
           0,
           0,
           0,
           0,
           0,
           0,
           0,
           0,
           0,
           0,
           0,
           0,
           0,
           0,
           0,
           0,
           0,
           0,
           0,
           1,
           0,
           0,
           0,
           0,
           0,
           0,
           0,
           0,
           0,
           1,
           0,
           0,
           0,
           0,
           0,
           0,
           0,
           0,
           0,
           0,
           0,
           0,
           0
          ],
          "coloraxis": "coloraxis",
          "symbol": "circle"
         },
         "mode": "markers",
         "name": "",
         "orientation": "v",
         "showlegend": false,
         "type": "scatter",
         "x": [
          -2.9018313884735107,
          -4.094674587249756,
          -1.0661340951919556,
          6.1352152824401855,
          7.549081802368164,
          -2.990429401397705,
          0.43240785598754883,
          -1.2281289100646973,
          -5.593961715698242,
          -3.218902349472046,
          -5.545842170715332,
          7.839183330535889,
          1.104944109916687,
          5.734794616699219,
          -8.544318199157715,
          0.3481638431549072,
          5.096719741821289,
          0.7132496237754822,
          -0.772158145904541,
          -0.7909277081489563,
          8.54439926147461,
          0.5351225137710571,
          0.42052367329597473,
          -4.847837924957275,
          -6.483593940734863,
          -1.571675419807434,
          -1.9742674827575684,
          -5.954464435577393,
          8.44513988494873,
          -7.423787593841553,
          9.390519142150879,
          2.6843438148498535,
          1.5397268533706665,
          5.617843151092529,
          4.826175212860107,
          -0.5864317417144775,
          -4.6157708168029785,
          1.35767662525177,
          8.93359661102295,
          -0.5743107199668884,
          -4.499591827392578,
          -8.787803649902344,
          -0.07316537946462631,
          -0.6111040711402893,
          4.379425048828125,
          -2.794752597808838,
          1.0033258199691772,
          3.9467811584472656,
          6.467932224273682,
          -6.081250190734863,
          -7.41426944732666,
          -6.950684547424316,
          7.892638683319092,
          -2.6466422080993652,
          4.828924179077148,
          6.548737049102783,
          7.7124409675598145,
          -3.5744545459747314,
          -3.7009036540985107,
          -6.882925033569336,
          2.3735804557800293,
          -0.0679488480091095,
          3.522601842880249,
          2.156309127807617,
          5.709747314453125,
          4.986536979675293,
          6.3651933670043945,
          -2.930971622467041,
          0.38794615864753723,
          7.94793176651001,
          -2.1029515266418457,
          -1.3423402309417725,
          6.139714241027832,
          -0.523908793926239,
          -0.7668793201446533,
          -6.050248146057129,
          -5.562477111816406,
          9.205469131469727,
          2.5268607139587402,
          6.294842720031738,
          -0.5293294787406921,
          1.0868041515350342,
          -1.7157471179962158,
          -2.9549624919891357,
          -5.8757476806640625,
          2.037945508956909,
          -0.6120634078979492,
          2.328338623046875,
          -3.19805645942688,
          -5.540312767028809,
          -1.4611001014709473,
          -1.3139166831970215,
          -7.482094764709473,
          -3.9100868701934814,
          -2.383150815963745,
          8.149043083190918,
          0.7284402847290039,
          6.376834392547607,
          3.483804225921631,
          -5.265824317932129,
          6.342499256134033,
          -3.7046637535095215,
          -0.5256307721138,
          -1.738265037536621,
          8.302474021911621,
          -2.2088468074798584,
          -3.04472279548645,
          0.3406831920146942,
          -3.493786334991455,
          -1.6006213426589966,
          -1.0045615434646606,
          6.193033218383789,
          -1.186158537864685,
          0.2834721505641937,
          6.651978492736816,
          -2.0913288593292236,
          -4.471684455871582,
          3.4531381130218506,
          -0.3282840847969055,
          -0.41537708044052124,
          8.941498756408691,
          -6.926098346710205,
          -3.287022590637207,
          -7.889037132263184,
          -3.261932611465454,
          -8.389592170715332,
          -2.14400315284729,
          4.021730422973633,
          -4.564938545227051,
          3.9207401275634766,
          -7.830356121063232,
          7.712904930114746,
          -1.1525590419769287,
          1.3205006122589111,
          -0.47493085265159607,
          -2.3497045040130615,
          -1.2522705793380737,
          -1.368277907371521,
          5.459335803985596,
          3.9371819496154785,
          -2.9369449615478516,
          6.569340229034424,
          0.7721143364906311,
          -4.068850517272949,
          5.929642677307129,
          -0.47901174426078796,
          0.11063701659440994,
          6.456425666809082,
          7.386848449707031,
          -4.445021152496338
         ],
         "xaxis": "x",
         "y": [
          -6.496714115142822,
          -1.88064444065094,
          1.5432833433151245,
          -3.8376269340515137,
          -4.141363620758057,
          3.097574472427368,
          5.372618198394775,
          -6.71858549118042,
          -1.424752950668335,
          6.081849575042725,
          -0.9529885649681091,
          -2.5648045539855957,
          7.904830455780029,
          -2.521237373352051,
          -1.3360782861709595,
          5.403657913208008,
          -1.739372730255127,
          -5.658270359039307,
          2.3009307384490967,
          -7.6580729484558105,
          -3.092564821243286,
          7.06419563293457,
          5.425050735473633,
          -1.2169731855392456,
          -0.698763370513916,
          -6.781860828399658,
          5.7444586753845215,
          -2.920511484146118,
          -2.620065927505493,
          -2.310638666152954,
          -4.231597423553467,
          -3.4050326347351074,
          6.735857963562012,
          -0.31667062640190125,
          -1.8001477718353271,
          1.9848833084106445,
          -1.9849988222122192,
          3.5438952445983887,
          -1.2545883655548096,
          2.0427091121673584,
          -1.977839708328247,
          -2.9155983924865723,
          -6.878302097320557,
          5.165411472320557,
          -3.0452933311462402,
          7.384090900421143,
          2.7580246925354004,
          -3.9027185440063477,
          0.32643598318099976,
          -2.9502246379852295,
          -0.985149085521698,
          -3.0038301944732666,
          -3.0857834815979004,
          6.357476234436035,
          -1.6963406801223755,
          -1.0674147605895996,
          -2.608614206314087,
          -2.984616994857788,
          -6.550411224365234,
          -1.7439448833465576,
          -2.2279763221740723,
          6.128730297088623,
          -2.4530088901519775,
          7.587510585784912,
          -0.34451723098754883,
          -4.209747314453125,
          -5.238121032714844,
          7.34547233581543,
          3.408158302307129,
          -4.887731552124023,
          -5.521848678588867,
          -5.1761674880981445,
          -2.3564651012420654,
          -6.898432731628418,
          7.156120300292969,
          -1.7998626232147217,
          -3.7673990726470947,
          -3.3524980545043945,
          5.5393900871276855,
          -2.3297746181488037,
          5.078146457672119,
          3.92767071723938,
          2.327244281768799,
          -7.170960426330566,
          -2.85640025138855,
          -2.628458023071289,
          5.296355247497559,
          4.213474750518799,
          -1.6648954153060913,
          -2.0895352363586426,
          -7.881256103515625,
          3.0404295921325684,
          -3.7771079540252686,
          4.812843322753906,
          -6.1438446044921875,
          -3.079355239868164,
          3.269932985305786,
          -3.722813367843628,
          -2.562603235244751,
          -4.016244411468506,
          -5.174215316772461,
          -6.5665602684021,
          -4.937153339385986,
          -5.944688320159912,
          -1.4845205545425415,
          4.451322555541992,
          2.659329652786255,
          3.5394458770751953,
          3.389094114303589,
          6.059817314147949,
          1.4110029935836792,
          -3.9288010597229004,
          7.246863842010498,
          8.168546676635742,
          -1.1543937921524048,
          4.526514053344727,
          -2.2425572872161865,
          -2.675166130065918,
          -6.737638473510742,
          -5.983504295349121,
          -1.2452181577682495,
          -3.009659767150879,
          4.794755935668945,
          -0.824084997177124,
          -7.233569145202637,
          -1.7291749715805054,
          6.104867935180664,
          -0.5548540949821472,
          -0.6908049583435059,
          -4.369611740112305,
          -1.9717832803726196,
          -2.6092209815979004,
          4.289605617523193,
          5.096681118011475,
          -4.9913458824157715,
          4.468615531921387,
          2.9098734855651855,
          -6.693331718444824,
          -5.097703456878662,
          -1.5432119369506836,
          3.1810648441314697,
          -4.044963359832764,
          7.0736403465271,
          6.445108413696289,
          0.06849106401205063,
          -4.983636379241943,
          3.737895965576172,
          -1.2171961069107056,
          -4.624747276306152,
          -3.3781704902648926
         ],
         "yaxis": "y"
        }
       ],
       "layout": {
        "coloraxis": {
         "colorbar": {
          "title": {
           "text": "color"
          }
         },
         "colorscale": [
          [
           0,
           "#0d0887"
          ],
          [
           0.1111111111111111,
           "#46039f"
          ],
          [
           0.2222222222222222,
           "#7201a8"
          ],
          [
           0.3333333333333333,
           "#9c179e"
          ],
          [
           0.4444444444444444,
           "#bd3786"
          ],
          [
           0.5555555555555556,
           "#d8576b"
          ],
          [
           0.6666666666666666,
           "#ed7953"
          ],
          [
           0.7777777777777778,
           "#fb9f3a"
          ],
          [
           0.8888888888888888,
           "#fdca26"
          ],
          [
           1,
           "#f0f921"
          ]
         ]
        },
        "height": 1200,
        "legend": {
         "tracegroupgap": 0
        },
        "margin": {
         "t": 60
        },
        "template": {
         "data": {
          "bar": [
           {
            "error_x": {
             "color": "#2a3f5f"
            },
            "error_y": {
             "color": "#2a3f5f"
            },
            "marker": {
             "line": {
              "color": "#E5ECF6",
              "width": 0.5
             },
             "pattern": {
              "fillmode": "overlay",
              "size": 10,
              "solidity": 0.2
             }
            },
            "type": "bar"
           }
          ],
          "barpolar": [
           {
            "marker": {
             "line": {
              "color": "#E5ECF6",
              "width": 0.5
             },
             "pattern": {
              "fillmode": "overlay",
              "size": 10,
              "solidity": 0.2
             }
            },
            "type": "barpolar"
           }
          ],
          "carpet": [
           {
            "aaxis": {
             "endlinecolor": "#2a3f5f",
             "gridcolor": "white",
             "linecolor": "white",
             "minorgridcolor": "white",
             "startlinecolor": "#2a3f5f"
            },
            "baxis": {
             "endlinecolor": "#2a3f5f",
             "gridcolor": "white",
             "linecolor": "white",
             "minorgridcolor": "white",
             "startlinecolor": "#2a3f5f"
            },
            "type": "carpet"
           }
          ],
          "choropleth": [
           {
            "colorbar": {
             "outlinewidth": 0,
             "ticks": ""
            },
            "type": "choropleth"
           }
          ],
          "contour": [
           {
            "colorbar": {
             "outlinewidth": 0,
             "ticks": ""
            },
            "colorscale": [
             [
              0,
              "#0d0887"
             ],
             [
              0.1111111111111111,
              "#46039f"
             ],
             [
              0.2222222222222222,
              "#7201a8"
             ],
             [
              0.3333333333333333,
              "#9c179e"
             ],
             [
              0.4444444444444444,
              "#bd3786"
             ],
             [
              0.5555555555555556,
              "#d8576b"
             ],
             [
              0.6666666666666666,
              "#ed7953"
             ],
             [
              0.7777777777777778,
              "#fb9f3a"
             ],
             [
              0.8888888888888888,
              "#fdca26"
             ],
             [
              1,
              "#f0f921"
             ]
            ],
            "type": "contour"
           }
          ],
          "contourcarpet": [
           {
            "colorbar": {
             "outlinewidth": 0,
             "ticks": ""
            },
            "type": "contourcarpet"
           }
          ],
          "heatmap": [
           {
            "colorbar": {
             "outlinewidth": 0,
             "ticks": ""
            },
            "colorscale": [
             [
              0,
              "#0d0887"
             ],
             [
              0.1111111111111111,
              "#46039f"
             ],
             [
              0.2222222222222222,
              "#7201a8"
             ],
             [
              0.3333333333333333,
              "#9c179e"
             ],
             [
              0.4444444444444444,
              "#bd3786"
             ],
             [
              0.5555555555555556,
              "#d8576b"
             ],
             [
              0.6666666666666666,
              "#ed7953"
             ],
             [
              0.7777777777777778,
              "#fb9f3a"
             ],
             [
              0.8888888888888888,
              "#fdca26"
             ],
             [
              1,
              "#f0f921"
             ]
            ],
            "type": "heatmap"
           }
          ],
          "heatmapgl": [
           {
            "colorbar": {
             "outlinewidth": 0,
             "ticks": ""
            },
            "colorscale": [
             [
              0,
              "#0d0887"
             ],
             [
              0.1111111111111111,
              "#46039f"
             ],
             [
              0.2222222222222222,
              "#7201a8"
             ],
             [
              0.3333333333333333,
              "#9c179e"
             ],
             [
              0.4444444444444444,
              "#bd3786"
             ],
             [
              0.5555555555555556,
              "#d8576b"
             ],
             [
              0.6666666666666666,
              "#ed7953"
             ],
             [
              0.7777777777777778,
              "#fb9f3a"
             ],
             [
              0.8888888888888888,
              "#fdca26"
             ],
             [
              1,
              "#f0f921"
             ]
            ],
            "type": "heatmapgl"
           }
          ],
          "histogram": [
           {
            "marker": {
             "pattern": {
              "fillmode": "overlay",
              "size": 10,
              "solidity": 0.2
             }
            },
            "type": "histogram"
           }
          ],
          "histogram2d": [
           {
            "colorbar": {
             "outlinewidth": 0,
             "ticks": ""
            },
            "colorscale": [
             [
              0,
              "#0d0887"
             ],
             [
              0.1111111111111111,
              "#46039f"
             ],
             [
              0.2222222222222222,
              "#7201a8"
             ],
             [
              0.3333333333333333,
              "#9c179e"
             ],
             [
              0.4444444444444444,
              "#bd3786"
             ],
             [
              0.5555555555555556,
              "#d8576b"
             ],
             [
              0.6666666666666666,
              "#ed7953"
             ],
             [
              0.7777777777777778,
              "#fb9f3a"
             ],
             [
              0.8888888888888888,
              "#fdca26"
             ],
             [
              1,
              "#f0f921"
             ]
            ],
            "type": "histogram2d"
           }
          ],
          "histogram2dcontour": [
           {
            "colorbar": {
             "outlinewidth": 0,
             "ticks": ""
            },
            "colorscale": [
             [
              0,
              "#0d0887"
             ],
             [
              0.1111111111111111,
              "#46039f"
             ],
             [
              0.2222222222222222,
              "#7201a8"
             ],
             [
              0.3333333333333333,
              "#9c179e"
             ],
             [
              0.4444444444444444,
              "#bd3786"
             ],
             [
              0.5555555555555556,
              "#d8576b"
             ],
             [
              0.6666666666666666,
              "#ed7953"
             ],
             [
              0.7777777777777778,
              "#fb9f3a"
             ],
             [
              0.8888888888888888,
              "#fdca26"
             ],
             [
              1,
              "#f0f921"
             ]
            ],
            "type": "histogram2dcontour"
           }
          ],
          "mesh3d": [
           {
            "colorbar": {
             "outlinewidth": 0,
             "ticks": ""
            },
            "type": "mesh3d"
           }
          ],
          "parcoords": [
           {
            "line": {
             "colorbar": {
              "outlinewidth": 0,
              "ticks": ""
             }
            },
            "type": "parcoords"
           }
          ],
          "pie": [
           {
            "automargin": true,
            "type": "pie"
           }
          ],
          "scatter": [
           {
            "fillpattern": {
             "fillmode": "overlay",
             "size": 10,
             "solidity": 0.2
            },
            "type": "scatter"
           }
          ],
          "scatter3d": [
           {
            "line": {
             "colorbar": {
              "outlinewidth": 0,
              "ticks": ""
             }
            },
            "marker": {
             "colorbar": {
              "outlinewidth": 0,
              "ticks": ""
             }
            },
            "type": "scatter3d"
           }
          ],
          "scattercarpet": [
           {
            "marker": {
             "colorbar": {
              "outlinewidth": 0,
              "ticks": ""
             }
            },
            "type": "scattercarpet"
           }
          ],
          "scattergeo": [
           {
            "marker": {
             "colorbar": {
              "outlinewidth": 0,
              "ticks": ""
             }
            },
            "type": "scattergeo"
           }
          ],
          "scattergl": [
           {
            "marker": {
             "colorbar": {
              "outlinewidth": 0,
              "ticks": ""
             }
            },
            "type": "scattergl"
           }
          ],
          "scattermapbox": [
           {
            "marker": {
             "colorbar": {
              "outlinewidth": 0,
              "ticks": ""
             }
            },
            "type": "scattermapbox"
           }
          ],
          "scatterpolar": [
           {
            "marker": {
             "colorbar": {
              "outlinewidth": 0,
              "ticks": ""
             }
            },
            "type": "scatterpolar"
           }
          ],
          "scatterpolargl": [
           {
            "marker": {
             "colorbar": {
              "outlinewidth": 0,
              "ticks": ""
             }
            },
            "type": "scatterpolargl"
           }
          ],
          "scatterternary": [
           {
            "marker": {
             "colorbar": {
              "outlinewidth": 0,
              "ticks": ""
             }
            },
            "type": "scatterternary"
           }
          ],
          "surface": [
           {
            "colorbar": {
             "outlinewidth": 0,
             "ticks": ""
            },
            "colorscale": [
             [
              0,
              "#0d0887"
             ],
             [
              0.1111111111111111,
              "#46039f"
             ],
             [
              0.2222222222222222,
              "#7201a8"
             ],
             [
              0.3333333333333333,
              "#9c179e"
             ],
             [
              0.4444444444444444,
              "#bd3786"
             ],
             [
              0.5555555555555556,
              "#d8576b"
             ],
             [
              0.6666666666666666,
              "#ed7953"
             ],
             [
              0.7777777777777778,
              "#fb9f3a"
             ],
             [
              0.8888888888888888,
              "#fdca26"
             ],
             [
              1,
              "#f0f921"
             ]
            ],
            "type": "surface"
           }
          ],
          "table": [
           {
            "cells": {
             "fill": {
              "color": "#EBF0F8"
             },
             "line": {
              "color": "white"
             }
            },
            "header": {
             "fill": {
              "color": "#C8D4E3"
             },
             "line": {
              "color": "white"
             }
            },
            "type": "table"
           }
          ]
         },
         "layout": {
          "annotationdefaults": {
           "arrowcolor": "#2a3f5f",
           "arrowhead": 0,
           "arrowwidth": 1
          },
          "autotypenumbers": "strict",
          "coloraxis": {
           "colorbar": {
            "outlinewidth": 0,
            "ticks": ""
           }
          },
          "colorscale": {
           "diverging": [
            [
             0,
             "#8e0152"
            ],
            [
             0.1,
             "#c51b7d"
            ],
            [
             0.2,
             "#de77ae"
            ],
            [
             0.3,
             "#f1b6da"
            ],
            [
             0.4,
             "#fde0ef"
            ],
            [
             0.5,
             "#f7f7f7"
            ],
            [
             0.6,
             "#e6f5d0"
            ],
            [
             0.7,
             "#b8e186"
            ],
            [
             0.8,
             "#7fbc41"
            ],
            [
             0.9,
             "#4d9221"
            ],
            [
             1,
             "#276419"
            ]
           ],
           "sequential": [
            [
             0,
             "#0d0887"
            ],
            [
             0.1111111111111111,
             "#46039f"
            ],
            [
             0.2222222222222222,
             "#7201a8"
            ],
            [
             0.3333333333333333,
             "#9c179e"
            ],
            [
             0.4444444444444444,
             "#bd3786"
            ],
            [
             0.5555555555555556,
             "#d8576b"
            ],
            [
             0.6666666666666666,
             "#ed7953"
            ],
            [
             0.7777777777777778,
             "#fb9f3a"
            ],
            [
             0.8888888888888888,
             "#fdca26"
            ],
            [
             1,
             "#f0f921"
            ]
           ],
           "sequentialminus": [
            [
             0,
             "#0d0887"
            ],
            [
             0.1111111111111111,
             "#46039f"
            ],
            [
             0.2222222222222222,
             "#7201a8"
            ],
            [
             0.3333333333333333,
             "#9c179e"
            ],
            [
             0.4444444444444444,
             "#bd3786"
            ],
            [
             0.5555555555555556,
             "#d8576b"
            ],
            [
             0.6666666666666666,
             "#ed7953"
            ],
            [
             0.7777777777777778,
             "#fb9f3a"
            ],
            [
             0.8888888888888888,
             "#fdca26"
            ],
            [
             1,
             "#f0f921"
            ]
           ]
          },
          "colorway": [
           "#636efa",
           "#EF553B",
           "#00cc96",
           "#ab63fa",
           "#FFA15A",
           "#19d3f3",
           "#FF6692",
           "#B6E880",
           "#FF97FF",
           "#FECB52"
          ],
          "font": {
           "color": "#2a3f5f"
          },
          "geo": {
           "bgcolor": "white",
           "lakecolor": "white",
           "landcolor": "#E5ECF6",
           "showlakes": true,
           "showland": true,
           "subunitcolor": "white"
          },
          "hoverlabel": {
           "align": "left"
          },
          "hovermode": "closest",
          "mapbox": {
           "style": "light"
          },
          "paper_bgcolor": "white",
          "plot_bgcolor": "#E5ECF6",
          "polar": {
           "angularaxis": {
            "gridcolor": "white",
            "linecolor": "white",
            "ticks": ""
           },
           "bgcolor": "#E5ECF6",
           "radialaxis": {
            "gridcolor": "white",
            "linecolor": "white",
            "ticks": ""
           }
          },
          "scene": {
           "xaxis": {
            "backgroundcolor": "#E5ECF6",
            "gridcolor": "white",
            "gridwidth": 2,
            "linecolor": "white",
            "showbackground": true,
            "ticks": "",
            "zerolinecolor": "white"
           },
           "yaxis": {
            "backgroundcolor": "#E5ECF6",
            "gridcolor": "white",
            "gridwidth": 2,
            "linecolor": "white",
            "showbackground": true,
            "ticks": "",
            "zerolinecolor": "white"
           },
           "zaxis": {
            "backgroundcolor": "#E5ECF6",
            "gridcolor": "white",
            "gridwidth": 2,
            "linecolor": "white",
            "showbackground": true,
            "ticks": "",
            "zerolinecolor": "white"
           }
          },
          "shapedefaults": {
           "line": {
            "color": "#2a3f5f"
           }
          },
          "ternary": {
           "aaxis": {
            "gridcolor": "white",
            "linecolor": "white",
            "ticks": ""
           },
           "baxis": {
            "gridcolor": "white",
            "linecolor": "white",
            "ticks": ""
           },
           "bgcolor": "#E5ECF6",
           "caxis": {
            "gridcolor": "white",
            "linecolor": "white",
            "ticks": ""
           }
          },
          "title": {
           "x": 0.05
          },
          "xaxis": {
           "automargin": true,
           "gridcolor": "white",
           "linecolor": "white",
           "ticks": "",
           "title": {
            "standoff": 15
           },
           "zerolinecolor": "white",
           "zerolinewidth": 2
          },
          "yaxis": {
           "automargin": true,
           "gridcolor": "white",
           "linecolor": "white",
           "ticks": "",
           "title": {
            "standoff": 15
           },
           "zerolinecolor": "white",
           "zerolinewidth": 2
          }
         }
        },
        "width": 1200,
        "xaxis": {
         "anchor": "y",
         "domain": [
          0,
          1
         ],
         "title": {
          "text": "x"
         }
        },
        "yaxis": {
         "anchor": "x",
         "domain": [
          0,
          1
         ],
         "title": {
          "text": "y"
         }
        }
       }
      }
     },
     "metadata": {},
     "output_type": "display_data"
    }
   ],
   "source": [
    "from sklearn.manifold import TSNE\n",
    "import numpy as np\n",
    "import plotly.express as px\n",
    "tsne = TSNE(n_components=2,metric='cosine',random_state=42)\n",
    "\n",
    "feat = tsne.fit_transform(np.array(test_feat))\n",
    "fig = px.scatter(x = feat[:,0],y = feat[:,1],color=pred_rfc,width=1200, height=1200) #tsne 그려줌\n",
    "fig.show()"
   ]
  },
  {
   "cell_type": "code",
   "execution_count": 460,
   "metadata": {},
   "outputs": [
    {
     "name": "stdout",
     "output_type": "stream",
     "text": [
      "1.0\n"
     ]
    }
   ],
   "source": [
    "weights = {0:1.0, 1:2.5}\n",
    "rand = RandomForestClassifier(random_state=42,class_weight=weights,max_depth=20)\n",
    "rand.fit(X_train_over,y_train_over)\n",
    "print(rand.score(X_train_over,y_train_over))\n",
    "pred = rand.predict(test_feat)\n"
   ]
  },
  {
   "cell_type": "code",
   "execution_count": 461,
   "metadata": {},
   "outputs": [
    {
     "name": "stdout",
     "output_type": "stream",
     "text": [
      "0.9133333333333333\n",
      "0.16666666666666666\n",
      "0.4\n",
      "0.23529411764705882\n"
     ]
    }
   ],
   "source": [
    "from sklearn.metrics import accuracy_score\n",
    "from sklearn.metrics import recall_score \n",
    "from sklearn.metrics import precision_score \n",
    "from sklearn.metrics import f1_score \n",
    "\n",
    "\n",
    "accuracy_rfc = accuracy_score(test_target,pred)\n",
    "print(accuracy_rfc)\n",
    "\n",
    "recall = recall_score(test_target,pred)\n",
    "print(recall)\n",
    "\n",
    "precision = precision_score(test_target,pred)\n",
    "print(precision)\n",
    "\n",
    "f1 = f1_score(test_target,pred)\n",
    "print(f1)\n",
    "\n"
   ]
  },
  {
   "cell_type": "code",
   "execution_count": 505,
   "metadata": {},
   "outputs": [
    {
     "name": "stdout",
     "output_type": "stream",
     "text": [
      "[0, 3, 4, 5, 6, 7, 9, 13, 16, 17, 21, 22, 23, 24, 27, 30, 33, 35, 37, 38, 39, 40, 44, 45, 46, 48, 49, 50, 51, 52, 53, 54, 55, 57, 58, 59, 62, 63, 64, 65, 68, 69, 70, 72, 76, 77, 78, 81, 82, 83, 84, 86, 89, 90, 91, 92, 93, 97, 100, 102, 103, 107, 108, 109, 110, 111, 114, 116, 118, 119, 120, 122, 123, 124, 125, 127, 128, 129, 132, 140, 141, 145, 147, 148, 153, 154, 155, 159, 162, 164, 169, 171, 173, 174, 175, 178, 179, 180, 182, 183, 186, 187, 189, 190, 192, 194, 195, 196, 198, 199, 200, 201, 202, 203, 204, 205, 209, 210, 212, 218, 221, 222, 224, 229, 230, 231, 236, 240, 244, 246, 249, 250, 252, 253, 259, 260, 262, 263, 264, 267, 268, 269, 271, 276, 278, 283, 288, 289, 290, 293, 294, 296, 297, 298, 299, 300, 305, 309, 311, 312, 315, 316, 319, 320, 321, 322, 323, 325, 326, 328, 330, 331, 332, 333, 334, 336, 337, 345, 346, 348]\n"
     ]
    }
   ],
   "source": [
    "import random\n",
    "train_df2 = train_df.copy()\n",
    "train_target2 = train_target.copy()\n",
    "train_df2 = train_df2.reset_index().drop('index',axis=1)\n",
    "train_target2 = train_target2.reset_index().drop('index',axis=1)\n",
    "del_list = []\n",
    "for i in range(len(train_target)):\n",
    "    ran = random.randrange(1,3)\n",
    "    if ran == 1:\n",
    "        del_list.append(i)\n",
    "\n",
    "print(del_list)"
   ]
  },
  {
   "cell_type": "code",
   "execution_count": 506,
   "metadata": {},
   "outputs": [
    {
     "name": "stdout",
     "output_type": "stream",
     "text": [
      "180\n"
     ]
    }
   ],
   "source": [
    "print(len(del_list))"
   ]
  },
  {
   "cell_type": "code",
   "execution_count": 507,
   "metadata": {},
   "outputs": [
    {
     "name": "stdout",
     "output_type": "stream",
     "text": [
      "     grade  assessment_completed_yn  media_completed_yn  system_learning_time  \\\n",
      "5      1.0                      0.0                 1.0              0.002698   \n",
      "116    0.2                      0.0                 1.0              0.000163   \n",
      "45     0.4                      1.0                 1.0              0.001651   \n",
      "16     0.0                      0.0                 1.0              0.000191   \n",
      "462    0.8                      1.0                 1.0              0.002283   \n",
      "..     ...                      ...                 ...                   ...   \n",
      "106    0.8                      1.0                 1.0              0.000675   \n",
      "270    0.6                      0.0                 1.0              0.000000   \n",
      "348    0.8                      0.0                 0.0              0.004071   \n",
      "435    0.0                      0.0                 0.0              0.000315   \n",
      "102    1.0                      0.0                 1.0              0.000387   \n",
      "\n",
      "     restart_cnt  score  item_cnt  quizcode_cnt  correct_cnt  solved_time_avg  \\\n",
      "5       0.000000   0.70  0.363636      0.370370     0.142857         0.005538   \n",
      "116     0.000000   1.00  0.400000      0.018519     0.040816         0.152919   \n",
      "45      0.333333   0.33  0.054545      0.055556     0.010204         0.001699   \n",
      "16      0.000000   0.56  0.072727      0.092593     0.051020         0.002363   \n",
      "462     0.000000   1.00  0.090909      0.092593     0.051020         0.033735   \n",
      "..           ...    ...       ...           ...          ...              ...   \n",
      "106     0.000000   0.67  0.054545      0.055556     0.020408         0.002935   \n",
      "270     0.333333   0.23  0.090909      0.055556     0.122449         0.000463   \n",
      "348     0.000000   0.00  0.090909      0.222222     0.051020         0.014365   \n",
      "435     0.083333   0.98  0.127273      0.018519     0.081633         0.000000   \n",
      "102     0.416667   0.86  0.018182      0.222222     0.030612         0.158943   \n",
      "\n",
      "     ...  기술가정  도덕  미술  사회  수학  일본어  중국어  체육  tt  ff  \n",
      "5    ...     0   0   0   0   0    0    0   0   1   0  \n",
      "116  ...     0   0   0   0   0    0    1   0   0   1  \n",
      "45   ...     0   0   0   0   0    1    0   0   0   1  \n",
      "16   ...     0   0   0   0   0    0    0   1   0   1  \n",
      "462  ...     1   0   0   0   0    0    0   0   0   1  \n",
      "..   ...   ...  ..  ..  ..  ..  ...  ...  ..  ..  ..  \n",
      "106  ...     0   0   0   0   0    0    0   0   0   1  \n",
      "270  ...     0   0   0   0   1    0    0   0   0   1  \n",
      "348  ...     0   0   0   0   0    0    1   0   1   0  \n",
      "435  ...     0   0   0   0   0    0    1   0   0   1  \n",
      "102  ...     0   0   0   0   0    1    0   0   1   0  \n",
      "\n",
      "[350 rows x 30 columns]\n"
     ]
    }
   ],
   "source": [
    "print(train_df)\n",
    "drop_train_df = train_df2.drop(index=del_list)\n",
    "drop_train_target = train_target2.drop(index=del_list)"
   ]
  },
  {
   "cell_type": "code",
   "execution_count": 510,
   "metadata": {},
   "outputs": [
    {
     "name": "stdout",
     "output_type": "stream",
     "text": [
      "     grade  assessment_completed_yn  media_completed_yn  system_learning_time  \\\n",
      "1      0.2                      0.0                 1.0              0.000163   \n",
      "2      0.4                      1.0                 1.0              0.001651   \n",
      "8      0.6                      1.0                 1.0              0.001174   \n",
      "10     0.6                      0.0                 1.0              0.000471   \n",
      "11     0.4                      0.0                 1.0              0.000160   \n",
      "..     ...                      ...                 ...                   ...   \n",
      "342    0.6                      1.0                 1.0              0.000127   \n",
      "343    0.6                      1.0                 1.0              0.000944   \n",
      "344    0.4                      1.0                 1.0              0.000504   \n",
      "347    0.8                      0.0                 0.0              0.004071   \n",
      "349    1.0                      0.0                 1.0              0.000387   \n",
      "\n",
      "     restart_cnt  score  item_cnt  quizcode_cnt  correct_cnt  solved_time_avg  \\\n",
      "1       0.000000   1.00  0.400000      0.018519     0.040816         0.152919   \n",
      "2       0.333333   0.33  0.054545      0.055556     0.010204         0.001699   \n",
      "8       0.000000   1.00  0.090909      0.092593     0.051020         0.006951   \n",
      "10      0.000000   0.99  0.018182      0.000000     0.061224         0.000927   \n",
      "11      0.000000   0.99  0.018182      0.037037     0.673469         0.053985   \n",
      "..           ...    ...       ...           ...          ...              ...   \n",
      "342     0.000000   1.00  0.090909      0.092593     0.051020         0.001668   \n",
      "343     0.250000   0.95  0.363636      0.370370     0.193878         0.027716   \n",
      "344     0.333333   0.60  0.090909      0.092593     0.030612         0.002919   \n",
      "347     0.000000   0.00  0.090909      0.222222     0.051020         0.014365   \n",
      "349     0.416667   0.86  0.018182      0.222222     0.030612         0.158943   \n",
      "\n",
      "     ...  기술가정  도덕  미술  사회  수학  일본어  중국어  체육  tt  ff  \n",
      "1    ...     0   0   0   0   0    0    1   0   0   1  \n",
      "2    ...     0   0   0   0   0    1    0   0   0   1  \n",
      "8    ...     0   0   0   0   0    0    0   0   0   1  \n",
      "10   ...     0   0   0   0   0    0    0   0   1   0  \n",
      "11   ...     1   0   0   0   0    0    0   0   0   1  \n",
      "..   ...   ...  ..  ..  ..  ..  ...  ...  ..  ..  ..  \n",
      "342  ...     0   0   0   0   0    0    0   1   1   0  \n",
      "343  ...     0   0   0   0   0    0    0   0   1   0  \n",
      "344  ...     0   0   0   0   0    1    0   0   0   1  \n",
      "347  ...     0   0   0   0   0    0    1   0   1   0  \n",
      "349  ...     0   0   0   0   0    1    0   0   1   0  \n",
      "\n",
      "[170 rows x 30 columns]\n",
      "     Target\n",
      "1       0.0\n",
      "2       0.0\n",
      "8       0.0\n",
      "10      0.0\n",
      "11      0.0\n",
      "..      ...\n",
      "342     0.0\n",
      "343     0.0\n",
      "344     0.0\n",
      "347     0.0\n",
      "349     0.0\n",
      "\n",
      "[170 rows x 1 columns]\n"
     ]
    }
   ],
   "source": [
    "print(drop_train_df)\n",
    "print(drop_train_target)"
   ]
  },
  {
   "cell_type": "code",
   "execution_count": 602,
   "metadata": {},
   "outputs": [
    {
     "name": "stdout",
     "output_type": "stream",
     "text": [
      "0.95625\n"
     ]
    }
   ],
   "source": [
    "weights = {0:1.0, 1:2.0}\n",
    "from sklearn.tree import DecisionTreeClassifier\n",
    "\n",
    "rand2 = DecisionTreeClassifier(random_state=42,max_depth=8,class_weight=weights)#,class_weight=weights)\n",
    "smote = SMOTE(random_state=42)\n",
    "X_train_over,y_train_over = smote.fit_resample(drop_train_df,drop_train_target)\n",
    "rand2.fit(X_train_over,y_train_over)\n",
    "\n",
    "print(rand2.score(X_train_over,y_train_over))"
   ]
  },
  {
   "cell_type": "code",
   "execution_count": 603,
   "metadata": {},
   "outputs": [
    {
     "name": "stdout",
     "output_type": "stream",
     "text": [
      "0.7866666666666666\n",
      "0.08333333333333333\n",
      "0.045454545454545456\n",
      "0.05882352941176471\n"
     ]
    }
   ],
   "source": [
    "\n",
    "\n",
    "\n",
    "from sklearn.metrics import accuracy_score\n",
    "from sklearn.metrics import recall_score \n",
    "from sklearn.metrics import precision_score \n",
    "from sklearn.metrics import f1_score \n",
    "\n",
    "pred_rfc = rand2.predict(test_feat)\n",
    "\n",
    "accuracy_rfc = accuracy_score(test_target,pred_rfc)\n",
    "print(accuracy_rfc)\n",
    "\n",
    "recall = recall_score(test_target,pred_rfc)\n",
    "print(recall)\n",
    "\n",
    "precision = precision_score(test_target,pred_rfc)\n",
    "print(precision)\n",
    "\n",
    "f1 = f1_score(test_target,pred_rfc)\n",
    "print(f1)\n"
   ]
  },
  {
   "cell_type": "code",
   "execution_count": null,
   "metadata": {},
   "outputs": [],
   "source": []
  }
 ],
 "metadata": {
  "kernelspec": {
   "display_name": "base",
   "language": "python",
   "name": "python3"
  },
  "language_info": {
   "codemirror_mode": {
    "name": "ipython",
    "version": 3
   },
   "file_extension": ".py",
   "mimetype": "text/x-python",
   "name": "python",
   "nbconvert_exporter": "python",
   "pygments_lexer": "ipython3",
   "version": "3.11.5"
  }
 },
 "nbformat": 4,
 "nbformat_minor": 2
}
