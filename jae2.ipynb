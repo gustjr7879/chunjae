{
 "cells": [
  {
   "cell_type": "markdown",
   "metadata": {},
   "source": [
    "### 반복문 (loop)\n",
    "- 파이썬의 제어문에서 반복되는 코드를 실행하는 명령어이다. \n",
    "- 너무 코드를 하드코딩하게 된다면 코드를 읽기도 피곤하고 오류가 날 확률이 높아지기 때문에 반복문을 사용한다.\n",
    "+ 만약 1~5까지 숫자를 출력한다면?\n",
    "- print(1) ~ print(5)까지 하면된다.\n",
    "+ 만약 1~2048까지 숫자를 출력한다면?\n",
    "- 이 경우 하드코딩이 어렵다.\n",
    "    ```python3\n",
    "    for i in range(1,2049):\n",
    "        print(i)\n",
    "    ```\n",
    "- 와 같이 사용한다.\n",
    "- 들여쓰기가 하나의 블록으로 묶여서 함께 실행되며 들여쓰기가 중요하다"
   ]
  },
  {
   "cell_type": "markdown",
   "metadata": {},
   "source": []
  },
  {
   "cell_type": "code",
   "execution_count": 1,
   "metadata": {},
   "outputs": [
    {
     "name": "stdout",
     "output_type": "stream",
     "text": [
      "0번째 hello!\n",
      "1번째 hello!\n",
      "2번째 hello!\n",
      "3번째 hello!\n",
      "4번째 hello!\n"
     ]
    }
   ],
   "source": [
    "for i in range(5):\n",
    "    print('{}번째 hello!'.format(i))\n"
   ]
  },
  {
   "cell_type": "markdown",
   "metadata": {},
   "source": [
    "### Range함수\n",
    "- 범위를 표현하는 파이썬 함수이다.\n",
    "- for문의 필수요소가 범위라서 range와 같이 사용되는 경우가 많다.\n",
    "- 범위는 인덱싱 가능한 객체 또는 range로 표현한다.\n",
    "``` python3 \n",
    "range(start, stop, step)\n",
    "```\n",
    "- 으로 사용되고, step은 start와 stop사이에서 특정 숫자가 증가하도록 설정할 수 있다.\n"
   ]
  },
  {
   "cell_type": "code",
   "execution_count": 2,
   "metadata": {},
   "outputs": [
    {
     "name": "stdout",
     "output_type": "stream",
     "text": [
      "[1, 2, 3, 4, 5, 6, 7, 8, 9, 10]\n",
      "[1, 3, 5, 7, 9]\n",
      "[1, 4, 7, 10]\n"
     ]
    }
   ],
   "source": [
    "print(list(range(1,11)))\n",
    "print(list(range(1,11,2))) #step에 따라서 저장되는게 다른 것을 확인할 수 있다.\n",
    "print(list(range(1,11,3)))"
   ]
  },
  {
   "cell_type": "markdown",
   "metadata": {},
   "source": [
    "- 반복문 실습 \n",
    "- 제작조건\n",
    "- 1. 숫자를 하나 입력받는다.\n",
    "- 2. 1부터 입력받은 숫자까지의 범위에서 짝수를 출력한다."
   ]
  },
  {
   "cell_type": "code",
   "execution_count": 3,
   "metadata": {},
   "outputs": [
    {
     "name": "stdout",
     "output_type": "stream",
     "text": [
      "2\n",
      "4\n",
      "6\n"
     ]
    }
   ],
   "source": [
    "def function1(num1):\n",
    "    for i in range(2,num1+1,2): #1은 홀수가 아니니까 2부터로\n",
    "        print(i)\n",
    "a = int(input())\n",
    "function1(a)\n"
   ]
  },
  {
   "cell_type": "markdown",
   "metadata": {},
   "source": [
    "- 25이하의 자연수에서 2의배수 출력\n",
    "- -8에서 -13범위의 정수 출력\n",
    "- 30미만의 3의 배수 출력\n",
    "- 0.1 0.2 0.3 0.4 0.5순서로 숫자 출력"
   ]
  },
  {
   "cell_type": "code",
   "execution_count": 4,
   "metadata": {},
   "outputs": [
    {
     "name": "stdout",
     "output_type": "stream",
     "text": [
      "func1\n",
      "2\n",
      "4\n",
      "6\n",
      "8\n",
      "10\n",
      "12\n",
      "14\n",
      "16\n",
      "18\n",
      "20\n",
      "22\n",
      "24\n",
      "func2\n",
      "-8\n",
      "-9\n",
      "-10\n",
      "-11\n",
      "-12\n",
      "-13\n",
      "func3\n",
      "3\n",
      "6\n",
      "9\n",
      "12\n",
      "15\n",
      "18\n",
      "21\n",
      "24\n",
      "27\n",
      "func4\n",
      "0.1\n",
      "0.2\n",
      "0.3\n",
      "0.4\n",
      "0.5\n"
     ]
    }
   ],
   "source": [
    "def func1(max):\n",
    "    print('func1')\n",
    "    for i in range(2,max+1,2):\n",
    "        print(i)\n",
    "first = 25\n",
    "func1(first)\n",
    "def func2(start,end):\n",
    "    print('func2')\n",
    "    for i in range(end,start-1,-1): # step을 -1로하면 거꾸로도 보낼 수 있다.\n",
    "        print(i)\n",
    "func2(-13,-8)\n",
    "def func3(max):\n",
    "    print('func3')\n",
    "    for i in range(1,max):\n",
    "        if i %3 == 0:\n",
    "            print(i)\n",
    "func3(30)\n",
    "\n",
    "def func4(num):\n",
    "    print('func4')\n",
    "    for i in range(1,num+1):\n",
    "        print(i/10)\n",
    "func4(5)"
   ]
  },
  {
   "cell_type": "code",
   "execution_count": 5,
   "metadata": {},
   "outputs": [
    {
     "name": "stdout",
     "output_type": "stream",
     "text": [
      "Help on class range in module builtins:\n",
      "\n",
      "class range(object)\n",
      " |  range(stop) -> range object\n",
      " |  range(start, stop[, step]) -> range object\n",
      " |  \n",
      " |  Return an object that produces a sequence of integers from start (inclusive)\n",
      " |  to stop (exclusive) by step.  range(i, j) produces i, i+1, i+2, ..., j-1.\n",
      " |  start defaults to 0, and stop is omitted!  range(4) produces 0, 1, 2, 3.\n",
      " |  These are exactly the valid indices for a list of 4 elements.\n",
      " |  When step is given, it specifies the increment (or decrement).\n",
      " |  \n",
      " |  Methods defined here:\n",
      " |  \n",
      " |  __bool__(self, /)\n",
      " |      True if self else False\n",
      " |  \n",
      " |  __contains__(self, key, /)\n",
      " |      Return key in self.\n",
      " |  \n",
      " |  __eq__(self, value, /)\n",
      " |      Return self==value.\n",
      " |  \n",
      " |  __ge__(self, value, /)\n",
      " |      Return self>=value.\n",
      " |  \n",
      " |  __getattribute__(self, name, /)\n",
      " |      Return getattr(self, name).\n",
      " |  \n",
      " |  __getitem__(self, key, /)\n",
      " |      Return self[key].\n",
      " |  \n",
      " |  __gt__(self, value, /)\n",
      " |      Return self>value.\n",
      " |  \n",
      " |  __hash__(self, /)\n",
      " |      Return hash(self).\n",
      " |  \n",
      " |  __iter__(self, /)\n",
      " |      Implement iter(self).\n",
      " |  \n",
      " |  __le__(self, value, /)\n",
      " |      Return self<=value.\n",
      " |  \n",
      " |  __len__(self, /)\n",
      " |      Return len(self).\n",
      " |  \n",
      " |  __lt__(self, value, /)\n",
      " |      Return self<value.\n",
      " |  \n",
      " |  __ne__(self, value, /)\n",
      " |      Return self!=value.\n",
      " |  \n",
      " |  __reduce__(...)\n",
      " |      Helper for pickle.\n",
      " |  \n",
      " |  __repr__(self, /)\n",
      " |      Return repr(self).\n",
      " |  \n",
      " |  __reversed__(...)\n",
      " |      Return a reverse iterator.\n",
      " |  \n",
      " |  count(...)\n",
      " |      rangeobject.count(value) -> integer -- return number of occurrences of value\n",
      " |  \n",
      " |  index(...)\n",
      " |      rangeobject.index(value) -> integer -- return index of value.\n",
      " |      Raise ValueError if the value is not present.\n",
      " |  \n",
      " |  ----------------------------------------------------------------------\n",
      " |  Static methods defined here:\n",
      " |  \n",
      " |  __new__(*args, **kwargs) from builtins.type\n",
      " |      Create and return a new object.  See help(type) for accurate signature.\n",
      " |  \n",
      " |  ----------------------------------------------------------------------\n",
      " |  Data descriptors defined here:\n",
      " |  \n",
      " |  start\n",
      " |  \n",
      " |  step\n",
      " |  \n",
      " |  stop\n",
      "\n",
      "None\n"
     ]
    }
   ],
   "source": [
    "print(help(range)) #자기가 모르는 함수의 사용법을 알 수 있는 방법은 help를 사용하면된다"
   ]
  },
  {
   "cell_type": "markdown",
   "metadata": {},
   "source": [
    "### while 반복문\n",
    "- for 반복문은 특정 범위 내에서 반복을 진행하는 것이고, while 반복문은 특정 조건 내에서 반복해주는 것이다.\n",
    "```python\n",
    "ind = 0\n",
    "while ind <10:\n",
    "    ind += 1\n",
    "    print(ind)\n",
    "```\n",
    "- 과 같이 사용한다. 즉 while 뒤에 조건이 True인 경우에 계속 실행되는 것이다. \n",
    "- 주피터에서 무한반복이 실행되면 컨트롤이 어렵다. 주피터에서 무한반복일 때 처리하는 방법은 정지버튼을 눌러서 종료하는 방법이 있다."
   ]
  },
  {
   "cell_type": "code",
   "execution_count": 6,
   "metadata": {},
   "outputs": [
    {
     "name": "stdout",
     "output_type": "stream",
     "text": [
      "0번째 while문 실행\n",
      "1번째 while문 실행\n",
      "2번째 while문 실행\n",
      "3번째 while문 실행\n",
      "4번째 while문 실행\n",
      "5번째 while문 실행\n",
      "6번째 while문 실행\n",
      "7번째 while문 실행\n",
      "8번째 while문 실행\n",
      "9번째 while문 실행\n"
     ]
    }
   ],
   "source": [
    "ind = 0\n",
    "while ind <10:\n",
    "    print('{}번째 while문 실행'.format(ind))\n",
    "    ind += 1"
   ]
  },
  {
   "cell_type": "markdown",
   "metadata": {},
   "source": [
    "- 숫자 하나 입력받는다.\n",
    "- 1부터 입력받은 숫자까지의 범위에서 짝수를 출력한다."
   ]
  },
  {
   "cell_type": "code",
   "execution_count": 7,
   "metadata": {},
   "outputs": [
    {
     "name": "stdout",
     "output_type": "stream",
     "text": [
      "2\n",
      "4\n",
      "6\n"
     ]
    }
   ],
   "source": [
    "num = int(input())\n",
    "i = 2\n",
    "while i <= num:\n",
    "    print(i)\n",
    "    i += 2\n"
   ]
  },
  {
   "cell_type": "markdown",
   "metadata": {},
   "source": [
    "- continue : 다음 루프로 이동 (현재 루프 종료)\n",
    "- break : 반복문 종료\n",
    "- pass : 아무 영향 없음 그냥 말 그대로 pass"
   ]
  },
  {
   "cell_type": "code",
   "execution_count": 8,
   "metadata": {},
   "outputs": [
    {
     "name": "stdout",
     "output_type": "stream",
     "text": [
      "1\n",
      "2\n",
      "3\n",
      "4\n",
      "5\n",
      "6\n",
      "7\n",
      "8\n",
      "9\n",
      "10\n",
      "1\n",
      "1\n",
      "실행 안됨\n",
      "2\n",
      "실행 안됨\n",
      "3\n",
      "실행 안됨\n",
      "4\n",
      "실행 안됨\n",
      "5\n",
      "실행 안됨\n",
      "6\n",
      "실행 안됨\n",
      "7\n",
      "실행 안됨\n",
      "8\n",
      "실행 안됨\n",
      "9\n",
      "실행 안됨\n",
      "10\n",
      "실행 안됨\n"
     ]
    }
   ],
   "source": [
    "for i in range(1,11):\n",
    "    print(i)\n",
    "    continue\n",
    "    print('실행 안됨')\n",
    "for i in range(1,11):\n",
    "    print(i)\n",
    "    break\n",
    "    print('반복문 즉시 종료')\n",
    "for i in range(1,11):\n",
    "    print(i)\n",
    "    pass\n",
    "    print('실행 안됨') #아무것도 안하고 그냥 다 출력해줌"
   ]
  },
  {
   "cell_type": "markdown",
   "metadata": {},
   "source": [
    "- pass를 사용하는 이유 : 코드블록을 채우기 위해서, 아무것도 안한다는 것을 명시적으로 보여주기 위해서\n",
    "- 이중 반복문은 사용하는 경우가 종종있지만, 파이썬에서 반복문은 느린 코드에 속하기 때문에 최대한 지양하는 편이 좋다.\n",
    "\n",
    "- 다중 루프 실습\n",
    "- 아래 데이터를 이용해 예시대로 출력해보자\n",
    "```python\n",
    "list1 = [[1,2,3],[4,5,6],[7,8,9]]\n",
    "```\n",
    "1. 예시 1 \n",
    "- 1 2 3\n",
    "- 4 5 6\n",
    "- 7 8 9\n",
    "2. 예시 2\n",
    "- 1 2 3 4 5 6 7 8 9 \n"
   ]
  },
  {
   "cell_type": "code",
   "execution_count": 9,
   "metadata": {},
   "outputs": [
    {
     "name": "stdout",
     "output_type": "stream",
     "text": [
      "예시 1\n",
      "1 2 3\n",
      "4 5 6\n",
      "7 8 9\n",
      "예시 1-1\n",
      "1 2 3 \n",
      "4 5 6 \n",
      "7 8 9 \n",
      "예시 2\n",
      "1 2 3 4 5 6 7 8 9 \n",
      "예시 3 대각선으로 쭉 출력하기\n",
      " 1\n",
      "  2\n",
      "   3\n",
      "    4\n",
      "     5\n",
      "      6\n",
      "       7\n",
      "        8\n",
      "         9\n"
     ]
    }
   ],
   "source": [
    "list1 = [[1,2,3],[4,5,6],[7,8,9]]\n",
    "\n",
    "def sol1(list1):\n",
    "    print('예시 1')\n",
    "    for i in list1:\n",
    "        print(' '.join(list(map(str,i))))\n",
    "    \n",
    "    \n",
    "\n",
    "sol1(list1)\n",
    "def sol1_1(list1):\n",
    "    print('예시 1-1')\n",
    "    for i in list1: \n",
    "        for j in i:\n",
    "            print(j,end=' ')\n",
    "        print() #중간에 그냥 print를 해줘서 한줄 넘기기를 통해서 더 간단하게 처리할 수 있다.\n",
    "sol1_1(list1)\n",
    "def sol2(list1):\n",
    "    print('예시 2')\n",
    "    for i in list1:\n",
    "        for j in i:\n",
    "            print(j,end=' ') #end default값은 \\n임(다음 줄) 이것을 ' '으로 변경해주는 것임\n",
    "    \n",
    "sol2(list1)\n",
    "def sol3(list1):\n",
    "    print('\\n예시 3 대각선으로 쭉 출력하기')\n",
    "    count = 0\n",
    "    for i in list1:\n",
    "        for j in i:\n",
    "            print(' '*count,j)\n",
    "            count += 1\n",
    "\n",
    "sol3(list1)"
   ]
  },
  {
   "cell_type": "markdown",
   "metadata": {},
   "source": [
    "- join 함수는 str에만 사용되기 때문에 숫자로 입력받는 것을 list(map(str,리스트)) 로 매핑을 str로 해줘야지 제대로 진행된다.\n",
    "- print에 end를 공백으로 설정해주면 프린트가 될 때 엔터가 아닌 띄어쓰기로 설정된다."
   ]
  },
  {
   "cell_type": "markdown",
   "metadata": {},
   "source": [
    "- 아래 조건을 고려해 프로그램을 만들자.\n",
    "1. 숫자 하나를 입력받는다\n",
    "2. 1부터 입력받은 숫자까지의 범위에서 짝수만 선택한다.\n",
    "3. (b)의 숫자 각각 팩토리얼 연산 결과를 구해 출력한다."
   ]
  },
  {
   "cell_type": "code",
   "execution_count": 15,
   "metadata": {},
   "outputs": [
    {
     "name": "stdout",
     "output_type": "stream",
     "text": [
      "2 24 720\n",
      "2의 팩토리얼 값은 2입니다.\n",
      "4의 팩토리얼 값은 24입니다.\n",
      "6의 팩토리얼 값은 720입니다.\n"
     ]
    }
   ],
   "source": [
    "num = int(input()) \n",
    "#num = 6\n",
    "def sol4(num):\n",
    "    result_list = []\n",
    "    for i in range(1,num+1):\n",
    "        \n",
    "        if i %2 == 0:\n",
    "            sum = 1\n",
    "            for j in range(1,i+1):\n",
    "                sum *= j\n",
    "            result_list.append(sum)\n",
    "        else:\n",
    "            pass\n",
    "    return result_list\n",
    "\n",
    "result_list = sol4(num)\n",
    "print(' '.join(list(map(str,result_list))))\n",
    "\n",
    "def sol5(num):#이와 같이 더 간단하게 작성할 수 있다.\n",
    "    \n",
    "    for i in range(2,num+1,2):\n",
    "        sum = 1\n",
    "        for j in range(1,i+1):\n",
    "            sum*=j\n",
    "        print('{}의 팩토리얼 값은 {}입니다.'.format(i,sum))\n",
    "sol5(6)\n"
   ]
  },
  {
   "cell_type": "markdown",
   "metadata": {},
   "source": [
    "- 0을 어떠한 숫자로 나누게 되면 파이썬에서는 0이 나오게 되므로 항상 범위에 유의하도록 하자\n",
    "### 포매팅(formatting) 은 문자열을 입력할 때 사용되는 편리한 기법\n",
    "```python\n",
    "x = 123\n",
    "y = 456\n",
    "z = 789\n",
    "print('x는 123, y는 456, z는 789이다')\n",
    "```\n",
    "- 위와 같은 상황에서 값이 변할때 자동으로 적용시키기 위한 방법이다."
   ]
  },
  {
   "cell_type": "code",
   "execution_count": 22,
   "metadata": {},
   "outputs": [
    {
     "name": "stdout",
     "output_type": "stream",
     "text": [
      "x는 123이고, y는 45.6, z는 [7, 8, 9]이다.\n",
      "x는 123, y는 45.6, z는 [7, 8, 9]이다.\n",
      "x는 123, y는 45.6, z는 [7, 8, 9]이다.\n"
     ]
    }
   ],
   "source": [
    "x = 123\n",
    "y = 45.6\n",
    "z = [7,8,9]\n",
    "print('x는 %d이고, y는 %0.1f, z는 %s이다.'%(x,y,z)) #f는 float, s는 sentence이다.\n",
    "#혹은 다음과 같이 사용할 수 있다.\n",
    "print('x는 {}, y는 {}, z는 {}이다.'.format(x,y,z)) #이 방법은 자료형을 안따져도 된다.\n",
    "# 혹은 다음과 같이 사용할 수 있다.\n",
    "print(f'x는 {x}, y는 {y}, z는 {z}이다.') #문자열 앞에 f를 붙이고 중괄호로 묶어서 바로 처리할 수 있다."
   ]
  },
  {
   "cell_type": "code",
   "execution_count": 48,
   "metadata": {},
   "outputs": [
    {
     "name": "stdout",
     "output_type": "stream",
     "text": [
      "[0, 1, 2, 3, 4, 5, 6, 7, 8, 9]\n",
      "[0, 1, 2]\n",
      "[2, 3, 4, 5, 6, 7, 8, 9]\n",
      "[0, 2, 4, 6, 8]\n",
      "[9, 8, 7, 6, 5, 4, 3, 2, 1, 0]\n",
      "[9, 7, 5, 3, 1]\n",
      "[8, 6, 4, 2, 0]\n"
     ]
    }
   ],
   "source": [
    "#인덱싱과 슬라이싱\n",
    "lista = [i for i in range(10)]\n",
    "print(lista)\n",
    "print(lista[:3])\n",
    "print(lista[2:])\n",
    "print(lista[::2]) #처음부터 끝까지 step은 2씩 건너뛰면서\n",
    "print(lista[::-1]) #처음부터 끝까진데 뒤에서부터 쭈욱\n",
    "print(lista[::-2]) #뒤에서부터 2개씩 건너뛰면서\n",
    "print(lista[-2::-2])"
   ]
  },
  {
   "cell_type": "markdown",
   "metadata": {},
   "source": [
    "### 매트릭스(Matrix)는 행렬이나 표를 나타내는 데이터 형식이다.\n",
    "- 행렬데이터는 파이썬에서 기본적으로는 지원하지 않는다. array가 있지만 노력대비 가성비가 안나오니 numpy를 사용한다.\n",
    "- numpy는 파이썬에서 배열연산, ndarray 자료형을 제공해준다.\n",
    "- 구성요소의 자료형이 통일되어있다. 다른 언어에서 배열을 나타냄\n",
    "- 브로드캐스팅이라는 연산을 지원한다.(일괄 연산)\n",
    "```python\n",
    "lista = [1,2,3,4,5]#의 원소를 4씩 곱하고 싶다.\n",
    "``` \n",
    "- 위와 같은 경우에 numpy array를 사용하면 일괄적으로 한번에 구할 수 있다.\n",
    "- 사용하는 이유 \n",
    "1. 넘파이는 배열연산을 할 때 파이썬에서 가장 많이 사용된다.\n",
    "2. 수학적인 행렬에 완벽하게 대응한다. (기본 함수로는 부족하다)\n",
    "3. 브로드캐스팅 때문에 속도가 빠르기 때문에 사용한다. (또한 외부 구조가 c언어로 이루어져있어서 빠르다.)"
   ]
  },
  {
   "cell_type": "code",
   "execution_count": 51,
   "metadata": {},
   "outputs": [
    {
     "name": "stdout",
     "output_type": "stream",
     "text": [
      "[1 2 3 4 5]\n",
      "<class 'numpy.ndarray'>\n",
      "3\n",
      "[1 2 3]\n",
      "[2 3 4 5 6]\n",
      "[ 4  8 12 16 20]\n",
      "(5,)\n",
      "(3, 3)\n",
      "(3, 1)\n",
      "[[ 32]\n",
      " [ 77]\n",
      " [122]] (3, 1)\n",
      "[55]\n"
     ]
    }
   ],
   "source": [
    "import numpy as np\n",
    "arr1 = np.array([1,2,3,4,5])\n",
    "print(arr1)\n",
    "print(type(arr1))\n",
    "print(arr1[2]) #index 가능\n",
    "print(arr1[:3]) #slice 가능\n",
    "print(arr1+1) #브로드캐스팅 가능\n",
    "print(arr1*4) #각각의 값이 4배가 되는 것 확인 가능\n",
    "print(arr1.shape)\n",
    "arr2 = np.array([[1,2,3],[4,5,6],[7,8,9]])\n",
    "arr3 = np.array([[4],[5],[6]])\n",
    "print(arr2.shape)\n",
    "print(arr3.shape)\n",
    "print(arr2.dot(arr3),arr2.dot(arr3).shape) #행렬곱 가능\n",
    "arr4 = np.array([[1],[2],[3],[4],[5]])\n",
    "print(arr1.dot(arr4))"
   ]
  },
  {
   "cell_type": "markdown",
   "metadata": {},
   "source": [
    "- 파이썬에서 파일을 저장하거나 불러올때가 있는데 txt의 경우에는 파이썬 문자열 처리를 통하면 되지만, 데이터 타입이 행렬이나 다른 형식이라면 저장하기가 까다롭다. \n",
    "- 그래서 numpy와 같은 특수한 형태의 데이터를 저장하는 경우엔 np.save / np.savez / np.load 와 같이 저장하고 불러올 수 있다.\n",
    "- npy는 numpy array 확장자이다.\n",
    "- npz는 행렬의 집합과 같은 느낌이다. \n",
    "- 아래 예제들은 절대경로(실제로 저장되어있는 경로)와 상대경로(현재 폴더 위치 기준으로 상대적인 파일 저장 경로)로 저장하는 것을 보여준다."
   ]
  },
  {
   "cell_type": "code",
   "execution_count": 74,
   "metadata": {},
   "outputs": [
    {
     "name": "stdout",
     "output_type": "stream",
     "text": [
      "[[1 2 3]\n",
      " [4 5 6]\n",
      " [7 8 9]]\n",
      "[[1 2 3]\n",
      " [4 5 6]\n",
      " [7 8 9]]\n",
      "[[1 2 3]\n",
      " [4 5 6]\n",
      " [7 8 9]]\n",
      "[[1 2 3]\n",
      " [4 5 6]\n",
      " [7 8 9]]\n"
     ]
    }
   ],
   "source": [
    "np.save('/Users/BIG3-09/Desktop/codezip/savetest.npy',arr2)\n",
    "load_test_arr = np.load('/Users/BIG3-09/Desktop/codezip/savetest.npy')\n",
    "print(arr2)\n",
    "print(load_test_arr)\n",
    "\n",
    "np.savez('/Users/BIG3-09/Desktop/codezip/savetest2.npz',A=arr2,B=load_test_arr) #A 와 B를 압축해서 저장\n",
    "load_test_arr2 = np.load('/Users/BIG3-09/Desktop/codezip/savetest2.npz')['A'] #A에 해당하는거 가져옴\n",
    "load_test_arr3 = np.load('/Users/BIG3-09/Desktop/codezip/savetest2.npz')['B'] #B에 해당하는거 가져옴\n",
    "print(load_test_arr2)\n",
    "print(load_test_arr3)"
   ]
  },
  {
   "cell_type": "code",
   "execution_count": 75,
   "metadata": {},
   "outputs": [
    {
     "name": "stdout",
     "output_type": "stream",
     "text": [
      "[[1 2 3]\n",
      " [4 5 6]\n",
      " [7 8 9]]\n",
      "[[1 2 3]\n",
      " [4 5 6]\n",
      " [7 8 9]]\n",
      "[[1 2 3]\n",
      " [4 5 6]\n",
      " [7 8 9]]\n",
      "[[1 2 3]\n",
      " [4 5 6]\n",
      " [7 8 9]]\n"
     ]
    }
   ],
   "source": [
    "np.save('../savetest.npy',arr2)\n",
    "load_test_arr = np.load('../savetest.npy')\n",
    "print(arr2)\n",
    "print(load_test_arr)\n",
    "\n",
    "np.savez('../savetest2.npz',A=arr2,B=load_test_arr) #A 와 B를 압축해서 저장\n",
    "load_test_arr2 = np.load('../savetest2.npz')['A'] #A에 해당하는거 가져옴\n",
    "load_test_arr3 = np.load('../savetest2.npz')['B'] #B에 해당하는거 가져옴\n",
    "print(load_test_arr2)\n",
    "print(load_test_arr3)"
   ]
  },
  {
   "cell_type": "markdown",
   "metadata": {},
   "source": [
    "자소서에 운동관련 이야기를 적으면 \n",
    "1. 건강관리하는 이미지\n",
    "2. 일할때 하는 이미지를 줄 수 있다. "
   ]
  },
  {
   "cell_type": "markdown",
   "metadata": {},
   "source": [
    "### 판다스 (Pandas)\n",
    "- 표 형식 데이터 패키지\n",
    "- DataFrame, Series(dictionary같이 key value) 객체 지원\n",
    "- column - row 구조의 표 지원 (column name : header / row name : index)\n",
    "- 엑셀 파일 호환\n",
    "- 브로드캐스팅 지원 (numpy보다 느림, 자료형이 통일되어있지 않다)"
   ]
  },
  {
   "cell_type": "code",
   "execution_count": 89,
   "metadata": {},
   "outputs": [
    {
     "name": "stdout",
     "output_type": "stream",
     "text": [
      "   0  1  2  3  4\n",
      "0  1  2  3  4  5\n",
      "1  4  5  6  7  8\n",
      "2  5  6  7  8  9\n",
      "column index \n",
      "0    2\n",
      "1    5\n",
      "2    6\n",
      "Name: 1, dtype: int64\n",
      "column index \n",
      "5\n",
      "row index \n",
      "0    4\n",
      "1    5\n",
      "2    6\n",
      "3    7\n",
      "4    8\n",
      "Name: 1, dtype: int64\n",
      "row index \n",
      "5\n"
     ]
    }
   ],
   "source": [
    "import pandas as pd\n",
    "\n",
    "df = pd.DataFrame([[1,2,3,4,5],[4,5,6,7,8],[5,6,7,8,9]])\n",
    "print(df)\n",
    "\n",
    "print('column index \\n{}'.format(df[1]))\n",
    "print('column index \\n{}'.format(df[1][1]))\n",
    "\n",
    "print('row index \\n{}'.format(df.loc[1]))\n",
    "print('row index \\n{}'.format(df.loc[1][1]))"
   ]
  },
  {
   "cell_type": "code",
   "execution_count": 104,
   "metadata": {},
   "outputs": [
    {
     "name": "stdout",
     "output_type": "stream",
     "text": [
      "row slice \n",
      "   0  1  2  3  4\n",
      "0  1  2  3  4  5\n",
      "1  4  5  6  7  8\n",
      "2  5  6  7  8  9\n",
      "row slice \n",
      "   0  1  2  3  4\n",
      "0  1  2  3  4  5\n",
      "1  4  5  6  7  8\n",
      "2  5  6  7  8  9\n",
      "column slice \n",
      "   0  1\n",
      "0  1  2\n",
      "1  4  5\n",
      "2  5  6\n"
     ]
    }
   ],
   "source": [
    "print('row slice \\n{}'.format(df[:3]))\n",
    "print('row slice \\n{}'.format(df.loc[:3]))\n",
    "print('복합 슬라이싱 \\n{}'.format(df.loc[:3,:1])) # loc으로 해서 row 몇번째 ',' column 몇번째\n",
    "#loc를 사용하게 되면 순서가 row, column으로 설정이 되기 때문에 사용해주는 것이 매우매우매우 좋다. 또한 loc함수를 사용하면 범위가 아닌 이름 기반으로 적용된다.\n"
   ]
  },
  {
   "cell_type": "code",
   "execution_count": 106,
   "metadata": {},
   "outputs": [
    {
     "name": "stdout",
     "output_type": "stream",
     "text": [
      "iloc test \n",
      "   0  1\n",
      "0  1  2\n",
      "iloc test \n",
      "   0  1  2  3\n",
      "0  1  2  3  4\n",
      "1  4  5  6  7\n"
     ]
    }
   ],
   "source": [
    "print('iloc test \\n{}'.format(df.iloc[:1,:2]))\n",
    "print('iloc test \\n{}'.format(df.iloc[:2,:4]))"
   ]
  },
  {
   "cell_type": "markdown",
   "metadata": {},
   "source": [
    "- pandas에서 loc를 쓰면 이름 기반 index, slice이다. \n",
    "- iloc를 사용하면 숫자 기반 index, slice이다 (코딩할 때 자주 사용되는 것)"
   ]
  },
  {
   "cell_type": "code",
   "execution_count": 110,
   "metadata": {},
   "outputs": [
    {
     "name": "stdout",
     "output_type": "stream",
     "text": [
      "0     4\n",
      "1    16\n",
      "2    20\n",
      "Name: 0, dtype: int64\n",
      "0    3\n",
      "1    6\n",
      "2    7\n",
      "Name: 1, dtype: int64\n"
     ]
    }
   ],
   "source": [
    "print(df[0]*4) #브로드캐스팅 지원\n",
    "print(df[1] + 1)"
   ]
  },
  {
   "cell_type": "code",
   "execution_count": 135,
   "metadata": {},
   "outputs": [
    {
     "name": "stdout",
     "output_type": "stream",
     "text": [
      "저장 전 \n",
      "    0  1  2  3  4\n",
      "0  1  2  3  4  5\n",
      "1  4  5  6  7  8\n",
      "2  5  6  7  8  9\n",
      "   Unnamed: 0  0  1  2  3  4\n",
      "0           0  1  2  3  4  5\n",
      "1           1  4  5  6  7  8\n",
      "2           2  5  6  7  8  9\n",
      "   Unnamed: 0  0  1  2  3  4\n",
      "0           0  1  2  3  4  5\n",
      "1           1  4  5  6  7  8\n",
      "2           2  5  6  7  8  9\n",
      "   0  1  2  3  4\n",
      "0  1  2  3  4  5\n",
      "1  4  5  6  7  8\n",
      "2  5  6  7  8  9\n"
     ]
    }
   ],
   "source": [
    "df.to_csv('../df.csv')\n",
    "df.to_excel('../df.xlsx')\n",
    "print('저장 전 \\n',df)\n",
    "load_df = pd.read_csv('../df.csv')\n",
    "load_df2 = pd.read_excel('../df.xlsx')\n",
    "print(load_df)\n",
    "print(load_df2) #저장하고 불러오니까 Unamed가 생겼다.\n",
    "load_df = pd.read_csv('../df.csv',index_col=0) #이렇게 처리하면 Unnamed가 사라진다. header를 설정해줄 수 있고, 저장할 때 index = False를 하면 index를 빼고 저장할 수 있다.\n",
    "print(load_df)"
   ]
  },
  {
   "cell_type": "code",
   "execution_count": 170,
   "metadata": {},
   "outputs": [
    {
     "name": "stdout",
     "output_type": "stream",
     "text": [
      "    0   1   2   3   4\n",
      "0   1   2   3   4   5\n",
      "1   4   5   6   7   8\n",
      "2   5   6   7   8   9\n",
      "3  10  11  12  13  14\n",
      "   calc_0  calc_1  calc_2  calc_3  calc_4\n",
      "0       4       6       8      10      12\n",
      "1      10      12      14      16      18\n",
      "2      12      14      16      18      20\n",
      "3      22      24      26      28      30\n"
     ]
    }
   ],
   "source": [
    "test_df = pd.DataFrame([[1,2,3,4,5],[4,5,6,7,8],[5,6,7,8,9],[10,11,12,13,14]]) # 4*5 생성\n",
    "len_col = test_df.shape[1]\n",
    "print(test_df)\n",
    "for i in range(len_col):\n",
    "    test_df[i] = (test_df[i]+1)*2\n",
    "    test_df = test_df.rename({i:f'calc_{i}'},axis=1)\n",
    "import time\n",
    "test_df.to_csv(f'../{time.localtime().tm_year}_{time.localtime().tm_mon}_{time.localtime().tm_mday}_testdf.csv',encoding='cp949')\n",
    "print(test_df)"
   ]
  },
  {
   "cell_type": "markdown",
   "metadata": {},
   "source": [
    "- 한국어를 지원하는 파일인지 확인할 수 있는 방법\n",
    "```python\n",
    "pd.read_csv('파일 이름',encoding='cp949') # or utf-8\n",
    "```\n",
    "- 이를 통해서 한국어를 지원하는 파일인지 확인할 수 있다."
   ]
  },
  {
   "cell_type": "markdown",
   "metadata": {},
   "source": [
    "### 함수 (function)\n",
    "- 일정한 동작을 수행하는 코드의 집합\n",
    "- 기능을 손쉽게 여러번 사용가능 , 패키지 제작 가능\n",
    "```python\n",
    "def 함수이름(파라미터):\n",
    "    함수에서 실행될 코드\n",
    "    return 리턴값\n",
    "```\n",
    "- return은 정보 조회, 편집의 권한이 컴퓨터한테 있다.\n",
    "- print는 정보 조회, 편집의 권한이 사람에게 있다.\n",
    "- 이 두가지의 차이로 인해서 return에 print를 하면 컴퓨터는 접근할 수 없다.(사람은 볼 수 있다)"
   ]
  },
  {
   "cell_type": "code",
   "execution_count": 183,
   "metadata": {},
   "outputs": [
    {
     "name": "stdout",
     "output_type": "stream",
     "text": [
      "4\n",
      "func2 : hello?\n",
      "func1 : hello?\n",
      "None\n"
     ]
    }
   ],
   "source": [
    "def testfunction(input):\n",
    "    return input + 1\n",
    "    return input + 2 #이와 같이 return은 값 반환을 하고 함수를 즉시 종료해준다.\n",
    "\n",
    "returninput = testfunction(3)\n",
    "print(returninput)\n",
    "\n",
    "def testfunc1():\n",
    "    return 'func1 : hello?'\n",
    "\n",
    "def testfunc2():\n",
    "    return print('func2 : hello?') #return값에 print가 있으면 선언만 사용해서 프린트를 사용할 수 있다.\n",
    "\n",
    "a = testfunc1()#선언 시 출력 안됨 - 프린트 안해서 사람에게 보이지 않음\n",
    "b = testfunc2()#선언 시 바로 출력\n",
    "print(a)\n",
    "print(b) #print로 출력하고 output이 None값으로 되어있음\n"
   ]
  },
  {
   "cell_type": "code",
   "execution_count": 182,
   "metadata": {},
   "outputs": [
    {
     "name": "stdout",
     "output_type": "stream",
     "text": [
      "Type ||\n",
      "Type |\n"
     ]
    }
   ],
   "source": [
    "def func1(x,y):\n",
    "    if x/y > x-y:\n",
    "        return 'Type |'\n",
    "    else:\n",
    "        return 'Type ||'\n",
    "    \n",
    "result = func1(7,5)\n",
    "result2 = func1(6,5)\n",
    "\n",
    "print(result)\n",
    "print(result2)"
   ]
  },
  {
   "cell_type": "code",
   "execution_count": 185,
   "metadata": {},
   "outputs": [
    {
     "name": "stdout",
     "output_type": "stream",
     "text": [
      "20\n",
      "111\n",
      "20 110\n"
     ]
    }
   ],
   "source": [
    "def func3(x):\n",
    "    if x % 2 == 0:\n",
    "        return x+10\n",
    "    return x+100 #return의 특성을 사용해서 if-else를 대체할 수 있다.\n",
    "a = func3(10)\n",
    "print(a)\n",
    "b = func3(11)\n",
    "print(b)\n",
    "\n",
    "def func4(x):\n",
    "    return x+10, x+100 #이런식으로 다양하게 리턴해줄수있다.\n",
    "\n",
    "a,b = func4(10)\n",
    "print(a,b)"
   ]
  }
 ],
 "metadata": {
  "kernelspec": {
   "display_name": "base",
   "language": "python",
   "name": "python3"
  },
  "language_info": {
   "codemirror_mode": {
    "name": "ipython",
    "version": 3
   },
   "file_extension": ".py",
   "mimetype": "text/x-python",
   "name": "python",
   "nbconvert_exporter": "python",
   "pygments_lexer": "ipython3",
   "version": "3.11.5"
  }
 },
 "nbformat": 4,
 "nbformat_minor": 2
}
