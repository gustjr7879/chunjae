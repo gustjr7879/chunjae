{
 "cells": [
  {
   "cell_type": "markdown",
   "metadata": {},
   "source": [
    "- 반복문 (loop)\n",
    "- 파이썬의 제어문에서 반복되는 코드를 실행하는 명령어이다. \n",
    "- 너무 코드를 하드코딩하게 된다면 코드를 읽기도 피곤하고 오류가 날 확률이 높아지기 때문에 반복문을 사용한다.\n",
    "+ 만약 1~5까지 숫자를 출력한다면?\n",
    "- print(1) ~ print(5)까지 하면된다.\n",
    "+ 만약 1~2048까지 숫자를 출력한다면?\n",
    "- 이 경우 하드코딩이 어렵다.\n",
    "    ```python3\n",
    "    for i in range(1,2049):\n",
    "        print(i)\n",
    "    ```\n",
    "- 와 같이 사용한다.\n",
    "- 들여쓰기가 하나의 블록으로 묶여서 함께 실행되며 들여쓰기가 중요하다"
   ]
  },
  {
   "cell_type": "markdown",
   "metadata": {},
   "source": []
  },
  {
   "cell_type": "code",
   "execution_count": 1,
   "metadata": {},
   "outputs": [
    {
     "name": "stdout",
     "output_type": "stream",
     "text": [
      "0번째 hello!\n",
      "1번째 hello!\n",
      "2번째 hello!\n",
      "3번째 hello!\n",
      "4번째 hello!\n"
     ]
    }
   ],
   "source": [
    "for i in range(5):\n",
    "    print('{}번째 hello!'.format(i))\n"
   ]
  },
  {
   "cell_type": "markdown",
   "metadata": {},
   "source": [
    "- Range함수\n",
    "- 범위를 표현하는 파이썬 함수이다.\n",
    "- for문의 필수요소가 범위라서 range와 같이 사용되는 경우가 많다.\n",
    "- 범위는 인덱싱 가능한 객체 또는 range로 표현한다.\n",
    "``` python3 \n",
    "range(start, stop, step)\n",
    "```\n",
    "- 으로 사용되고, step은 start와 stop사이에서 특정 숫자가 증가하도록 설정할 수 있다.\n"
   ]
  },
  {
   "cell_type": "code",
   "execution_count": 2,
   "metadata": {},
   "outputs": [
    {
     "name": "stdout",
     "output_type": "stream",
     "text": [
      "[1, 2, 3, 4, 5, 6, 7, 8, 9, 10]\n",
      "[1, 3, 5, 7, 9]\n",
      "[1, 4, 7, 10]\n"
     ]
    }
   ],
   "source": [
    "print(list(range(1,11)))\n",
    "print(list(range(1,11,2))) #step에 따라서 저장되는게 다른 것을 확인할 수 있다.\n",
    "print(list(range(1,11,3)))"
   ]
  },
  {
   "cell_type": "markdown",
   "metadata": {},
   "source": [
    "- 반복문 실습 \n",
    "- 제작조건\n",
    "- 1. 숫자를 하나 입력받는다.\n",
    "- 2. 1부터 입력받은 숫자까지의 범위에서 짝수를 출력한다."
   ]
  },
  {
   "cell_type": "code",
   "execution_count": 12,
   "metadata": {},
   "outputs": [
    {
     "name": "stdout",
     "output_type": "stream",
     "text": [
      "2\n",
      "4\n",
      "6\n",
      "8\n",
      "10\n",
      "12\n",
      "14\n",
      "16\n",
      "18\n",
      "20\n"
     ]
    }
   ],
   "source": [
    "def function1(num1):\n",
    "    for i in range(2,num1+1,2): #1은 홀수가 아니니까 2부터로\n",
    "        print(i)\n",
    "a = int(input())\n",
    "function1(a)\n"
   ]
  },
  {
   "cell_type": "markdown",
   "metadata": {},
   "source": [
    "- 25이하의 자연수에서 2의배수 출력\n",
    "- -8에서 -13범위의 정수 출력\n",
    "- 30미만의 3의 배수 출력\n",
    "- 0.1 0.2 0.3 0.4 0.5순서로 숫자 출력"
   ]
  },
  {
   "cell_type": "code",
   "execution_count": 13,
   "metadata": {},
   "outputs": [
    {
     "name": "stdout",
     "output_type": "stream",
     "text": [
      "func1\n",
      "2\n",
      "4\n",
      "6\n",
      "8\n",
      "10\n",
      "12\n",
      "14\n",
      "16\n",
      "18\n",
      "20\n",
      "22\n",
      "24\n",
      "func2\n",
      "-8\n",
      "-9\n",
      "-10\n",
      "-11\n",
      "-12\n",
      "-13\n",
      "func3\n",
      "3\n",
      "6\n",
      "9\n",
      "12\n",
      "15\n",
      "18\n",
      "21\n",
      "24\n",
      "27\n",
      "func4\n",
      "0.1\n",
      "0.2\n",
      "0.3\n",
      "0.4\n",
      "0.5\n"
     ]
    }
   ],
   "source": [
    "def func1(max):\n",
    "    print('func1')\n",
    "    for i in range(2,max+1,2):\n",
    "        print(i)\n",
    "first = 25\n",
    "func1(first)\n",
    "def func2(start,end):\n",
    "    print('func2')\n",
    "    for i in range(end,start-1,-1): # step을 -1로하면 거꾸로도 보낼 수 있다.\n",
    "        print(i)\n",
    "func2(-13,-8)\n",
    "def func3(max):\n",
    "    print('func3')\n",
    "    for i in range(1,max):\n",
    "        if i %3 == 0:\n",
    "            print(i)\n",
    "func3(30)\n",
    "\n",
    "def func4(num):\n",
    "    print('func4')\n",
    "    for i in range(1,num+1):\n",
    "        print(i/10)\n",
    "func4(5)"
   ]
  },
  {
   "cell_type": "code",
   "execution_count": 14,
   "metadata": {},
   "outputs": [
    {
     "name": "stdout",
     "output_type": "stream",
     "text": [
      "Help on class range in module builtins:\n",
      "\n",
      "class range(object)\n",
      " |  range(stop) -> range object\n",
      " |  range(start, stop[, step]) -> range object\n",
      " |  \n",
      " |  Return an object that produces a sequence of integers from start (inclusive)\n",
      " |  to stop (exclusive) by step.  range(i, j) produces i, i+1, i+2, ..., j-1.\n",
      " |  start defaults to 0, and stop is omitted!  range(4) produces 0, 1, 2, 3.\n",
      " |  These are exactly the valid indices for a list of 4 elements.\n",
      " |  When step is given, it specifies the increment (or decrement).\n",
      " |  \n",
      " |  Methods defined here:\n",
      " |  \n",
      " |  __bool__(self, /)\n",
      " |      True if self else False\n",
      " |  \n",
      " |  __contains__(self, key, /)\n",
      " |      Return key in self.\n",
      " |  \n",
      " |  __eq__(self, value, /)\n",
      " |      Return self==value.\n",
      " |  \n",
      " |  __ge__(self, value, /)\n",
      " |      Return self>=value.\n",
      " |  \n",
      " |  __getattribute__(self, name, /)\n",
      " |      Return getattr(self, name).\n",
      " |  \n",
      " |  __getitem__(self, key, /)\n",
      " |      Return self[key].\n",
      " |  \n",
      " |  __gt__(self, value, /)\n",
      " |      Return self>value.\n",
      " |  \n",
      " |  __hash__(self, /)\n",
      " |      Return hash(self).\n",
      " |  \n",
      " |  __iter__(self, /)\n",
      " |      Implement iter(self).\n",
      " |  \n",
      " |  __le__(self, value, /)\n",
      " |      Return self<=value.\n",
      " |  \n",
      " |  __len__(self, /)\n",
      " |      Return len(self).\n",
      " |  \n",
      " |  __lt__(self, value, /)\n",
      " |      Return self<value.\n",
      " |  \n",
      " |  __ne__(self, value, /)\n",
      " |      Return self!=value.\n",
      " |  \n",
      " |  __reduce__(...)\n",
      " |      Helper for pickle.\n",
      " |  \n",
      " |  __repr__(self, /)\n",
      " |      Return repr(self).\n",
      " |  \n",
      " |  __reversed__(...)\n",
      " |      Return a reverse iterator.\n",
      " |  \n",
      " |  count(...)\n",
      " |      rangeobject.count(value) -> integer -- return number of occurrences of value\n",
      " |  \n",
      " |  index(...)\n",
      " |      rangeobject.index(value) -> integer -- return index of value.\n",
      " |      Raise ValueError if the value is not present.\n",
      " |  \n",
      " |  ----------------------------------------------------------------------\n",
      " |  Static methods defined here:\n",
      " |  \n",
      " |  __new__(*args, **kwargs) from builtins.type\n",
      " |      Create and return a new object.  See help(type) for accurate signature.\n",
      " |  \n",
      " |  ----------------------------------------------------------------------\n",
      " |  Data descriptors defined here:\n",
      " |  \n",
      " |  start\n",
      " |  \n",
      " |  step\n",
      " |  \n",
      " |  stop\n",
      "\n",
      "None\n"
     ]
    }
   ],
   "source": [
    "print(help(range)) #자기가 모르는 함수의 사용법을 알 수 있는 방법은 help를 사용하면된다"
   ]
  },
  {
   "cell_type": "markdown",
   "metadata": {},
   "source": [
    "- while 반복문\n",
    "- for 반복문은 특정 범위 내에서 반복을 진행하는 것이고, while 반복문은 특정 조건 내에서 반복해주는 것이다.\n",
    "```python\n",
    "ind = 0\n",
    "while ind <10:\n",
    "    ind += 1\n",
    "    print(ind)\n",
    "```\n",
    "- 과 같이 사용한다. 즉 while 뒤에 조건이 True인 경우에 계속 실행되는 것이다. \n",
    "- 주피터에서 무한반복이 실행되면 컨트롤이 어렵다. 주피터에서 무한반복일 때 처리하는 방법은 정지버튼을 눌러서 종료하는 방법이 있다."
   ]
  },
  {
   "cell_type": "code",
   "execution_count": 16,
   "metadata": {},
   "outputs": [
    {
     "name": "stdout",
     "output_type": "stream",
     "text": [
      "0번째 while문 실행\n",
      "1번째 while문 실행\n",
      "2번째 while문 실행\n",
      "3번째 while문 실행\n",
      "4번째 while문 실행\n",
      "5번째 while문 실행\n",
      "6번째 while문 실행\n",
      "7번째 while문 실행\n",
      "8번째 while문 실행\n",
      "9번째 while문 실행\n"
     ]
    }
   ],
   "source": [
    "ind = 0\n",
    "while ind <10:\n",
    "    print('{}번째 while문 실행'.format(ind))\n",
    "    ind += 1"
   ]
  },
  {
   "cell_type": "markdown",
   "metadata": {},
   "source": [
    "- 숫자 하나 입력받는다.\n",
    "- 1부터 입력받은 숫자까지의 범위에서 짝수를 출력한다."
   ]
  },
  {
   "cell_type": "code",
   "execution_count": 17,
   "metadata": {},
   "outputs": [
    {
     "name": "stdout",
     "output_type": "stream",
     "text": [
      "2\n",
      "4\n",
      "6\n",
      "8\n",
      "10\n",
      "12\n",
      "14\n",
      "16\n",
      "18\n",
      "20\n"
     ]
    }
   ],
   "source": [
    "num = int(input())\n",
    "i = 2\n",
    "while i <= num:\n",
    "    print(i)\n",
    "    i += 2\n"
   ]
  },
  {
   "cell_type": "markdown",
   "metadata": {},
   "source": [
    "- continue : 다음 루프로 이동 (현재 루프 종료)\n",
    "- break : 반복문 종료\n",
    "- pass : 아무 영향 없음 그냥 말 그대로 pass"
   ]
  },
  {
   "cell_type": "code",
   "execution_count": 21,
   "metadata": {},
   "outputs": [
    {
     "name": "stdout",
     "output_type": "stream",
     "text": [
      "1\n",
      "2\n",
      "3\n",
      "4\n",
      "5\n",
      "6\n",
      "7\n",
      "8\n",
      "9\n",
      "10\n",
      "1\n",
      "1\n",
      "실행 안됨\n",
      "2\n",
      "실행 안됨\n",
      "3\n",
      "실행 안됨\n",
      "4\n",
      "실행 안됨\n",
      "5\n",
      "실행 안됨\n",
      "6\n",
      "실행 안됨\n",
      "7\n",
      "실행 안됨\n",
      "8\n",
      "실행 안됨\n",
      "9\n",
      "실행 안됨\n",
      "10\n",
      "실행 안됨\n"
     ]
    }
   ],
   "source": [
    "for i in range(1,11):\n",
    "    print(i)\n",
    "    continue\n",
    "    print('실행 안됨')\n",
    "for i in range(1,11):\n",
    "    print(i)\n",
    "    break\n",
    "    print('반복문 즉시 종료')\n",
    "for i in range(1,11):\n",
    "    print(i)\n",
    "    pass\n",
    "    print('실행 안됨') #아무것도 안하고 그냥 다 출력해줌"
   ]
  },
  {
   "cell_type": "code",
   "execution_count": null,
   "metadata": {},
   "outputs": [],
   "source": []
  }
 ],
 "metadata": {
  "kernelspec": {
   "display_name": "base",
   "language": "python",
   "name": "python3"
  },
  "language_info": {
   "codemirror_mode": {
    "name": "ipython",
    "version": 3
   },
   "file_extension": ".py",
   "mimetype": "text/x-python",
   "name": "python",
   "nbconvert_exporter": "python",
   "pygments_lexer": "ipython3",
   "version": "3.11.5"
  }
 },
 "nbformat": 4,
 "nbformat_minor": 2
}
