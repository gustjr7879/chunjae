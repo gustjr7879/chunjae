{
  "nbformat": 4,
  "nbformat_minor": 0,
  "metadata": {
    "colab": {
      "provenance": [],
      "toc_visible": true,
      "gpuType": "T4"
    },
    "kernelspec": {
      "name": "python3",
      "display_name": "Python 3"
    },
    "language_info": {
      "name": "python"
    },
    "accelerator": "GPU"
  },
  "cells": [
    {
      "cell_type": "markdown",
      "source": [
        "# KDT_DeepLearning_Day3_Assignment\n",
        "---\n"
      ],
      "metadata": {
        "id": "0STTi3q-4NTR"
      }
    },
    {
      "cell_type": "markdown",
      "source": [
        "## 1. 자동 완성 문장 데이터 RNN, LSTM, GRU 모델 구현하기\n",
        "- 번호가 매겨진 부분의 코드를 완성하시면 됩니다."
      ],
      "metadata": {
        "id": "zcRCIaWwzFvz"
      }
    },
    {
      "cell_type": "code",
      "source": [
        "import numpy as np\n",
        "import tensorflow as tf\n",
        "\n",
        "# 자동완성을 위한 문장 데이터\n",
        "sentences = [\n",
        "    \"나는 영어 공부를 좋아한다\",\n",
        "    \"그는 만화책을 보며 웃었다\",\n",
        "    \"그녀는 여행 계획을 짜고 있었다\"\n",
        "]\n",
        "# === 아래 코드를 완성하세요 ===\n",
        "# 번호가 매겨진 부분의 코드를 완성하시면 됩니다.\n",
        "\n",
        "# 1. 문장을 단어로 분할하고 단어를 정수로 변환\n",
        "tokenizer = tf.keras.preprocessing.text.Tokenizer()\n",
        "tokenizer.fit_on_texts(sentences) #단순 토크나이저\n",
        "sequences = tokenizer.texts_to_sequences(sentences)\n",
        "\n",
        "\n",
        "# 2. 입력 시퀀스와 그에 상응하는 타겟 단어 생성\n",
        "def generate_data(sequences):\n",
        "    max_length = max(len(seq) for seq in sequences)\n",
        "    X = []\n",
        "    y = []\n",
        "    for seq in sequences:\n",
        "        for i in range(1, len(seq)):\n",
        "            padded_seq = seq[:i] + [0] * (max_length - i)  # 패딩 추가, 모든 입력 시퀀스가 동일한 길이가 되도록 만드는 과정.\n",
        "            X.append(padded_seq)\n",
        "            y.append(seq[i])\n",
        "    return np.array(X), np.array(y)\n",
        "\n",
        "# 3. 데이터 생성\n",
        "X_train, y_train = generate_data(sequences)\n",
        "\n",
        "# 4. 모델 정의 함수\n",
        "def build_model(cell_type):\n",
        "    model = tf.keras.Sequential([\n",
        "        tf.keras.layers.Embedding(input_dim=len(tokenizer.word_index)+1, output_dim=10), # 임베딩 : 시퀀스 데이터를 타임스텝으로 나누는 과정. 이 코드는 단어 단위로 나눔.\n",
        "        tf.keras.layers.Dropout(0.2),  # 드롭아웃 추가\n",
        "        cell_type(units=16),\n",
        "        tf.keras.layers.Dense(units=len(tokenizer.word_index)+1, activation='softmax')\n",
        "    ])\n",
        "    return model\n",
        "\n",
        "# 5. 모델 컴파일 함수\n",
        "def compile_and_train_model(model, X_train, y_train):\n",
        "    model.compile(optimizer='adam', loss='sparse_categorical_crossentropy', metrics=['accuracy'])\n",
        "    history = model.fit(X_train, y_train, epochs=50, batch_size=8, verbose=0)\n",
        "    return history\n",
        "\n",
        "# 6. SimpleRNN 모델 생성 및 학습\n",
        "print(\"Training SimpleRNN model...\")\n",
        "rnn_model = build_model(tf.keras.layers.SimpleRNN)\n",
        "rnn_history = compile_and_train_model(rnn_model, X_train, y_train)\n",
        "\n",
        "# 7. LSTM 모델 생성 및 학습\n",
        "print(\"Training LSTM model...\")\n",
        "lstm_model = build_model(tf.keras.layers.LSTM)\n",
        "lstm_history = compile_and_train_model(lstm_model, X_train, y_train)\n",
        "\n",
        "# 8. GRU 모델 생성 및 학습\n",
        "print(\"Training GRU model...\")\n",
        "gru_model = build_model(tf.keras.layers.GRU)\n",
        "gru_history = compile_and_train_model(gru_model, X_train, y_train)\n",
        "\n",
        "# 출력할 epoch 설정\n",
        "print_interval = 10\n",
        "\n",
        "# epoch 마다 결과 출력\n",
        "for epoch in range(1, 51):\n",
        "    if epoch % print_interval == 0:\n",
        "        print(f\"\\nEpoch {epoch} Results:\")\n",
        "        print(\"SimpleRNN - Loss:\", rnn_history.history['loss'][epoch-1], \"- Accuracy:\", rnn_history.history['accuracy'][epoch-1])\n",
        "        print(\"LSTM - Loss:\", lstm_history.history['loss'][epoch-1], \"- Accuracy:\", lstm_history.history['accuracy'][epoch-1])\n",
        "        print(\"GRU - Loss:\", gru_history.history['loss'][epoch-1], \"- Accuracy:\", gru_history.history['accuracy'][epoch-1])\n",
        "\n",
        "# 예측 결과 출력\n",
        "print(\"\\nPrediction Results:\")\n",
        "\n",
        "# 자동완성을 위한 입력 문장\n",
        "input_sentence = \"나는\"\n",
        "\n",
        "# 9. 입력 문장을 정수 시퀀스로 변환\n",
        "input_seq = tokenizer.texts_to_sequences([input_sentence])[0]\n",
        "max_length = max(len(seq) for seq in sequences)\n",
        "input_seq = [0] * ( - len(input_seq)) + input_seq\n",
        "\n",
        "# SimpleRNN 모델 예측\n",
        "predicted_index_rnn = np.argmax(rnn_model.predict(np.array([input_seq])))\n",
        "predicted_word_rnn = tokenizer.index_word[predicted_index_rnn]\n",
        "\n",
        "# LSTM 모델 예측\n",
        "predicted_index_lstm = np.argmax(lstm_model.predict(np.array([input_seq])))\n",
        "predicted_word_lstm = tokenizer.index_word[predicted_index_lstm]\n",
        "\n",
        "# GRU 모델 예측\n",
        "predicted_index_gru = np.argmax(gru_model.predict(np.array([input_seq])))\n",
        "predicted_word_gru = tokenizer.index_word[predicted_index_gru]\n",
        "\n",
        "# 예측된 단어 출력\n",
        "print(\"SimpleRNN Prediction:\", predicted_word_rnn)\n",
        "print(\"LSTM Prediction:\", predicted_word_lstm)\n",
        "print(\"GRU Prediction:\", predicted_word_gru)\n"
      ],
      "metadata": {
        "id": "6zJJuF_C-HOy",
        "colab": {
          "base_uri": "https://localhost:8080/"
        },
        "outputId": "dccf759e-f46a-441a-bcb1-e88b7a5166ff"
      },
      "execution_count": 1,
      "outputs": [
        {
          "output_type": "stream",
          "name": "stdout",
          "text": [
            "Training SimpleRNN model...\n",
            "Training LSTM model...\n",
            "Training GRU model...\n",
            "\n",
            "Epoch 10 Results:\n",
            "SimpleRNN - Loss: 2.5494179725646973 - Accuracy: 0.20000000298023224\n",
            "LSTM - Loss: 2.629819631576538 - Accuracy: 0.10000000149011612\n",
            "GRU - Loss: 2.624474048614502 - Accuracy: 0.10000000149011612\n",
            "\n",
            "Epoch 20 Results:\n",
            "SimpleRNN - Loss: 2.4487128257751465 - Accuracy: 0.4000000059604645\n",
            "LSTM - Loss: 2.611917495727539 - Accuracy: 0.20000000298023224\n",
            "GRU - Loss: 2.605255603790283 - Accuracy: 0.10000000149011612\n",
            "\n",
            "Epoch 30 Results:\n",
            "SimpleRNN - Loss: 2.317711353302002 - Accuracy: 0.30000001192092896\n",
            "LSTM - Loss: 2.5954396724700928 - Accuracy: 0.30000001192092896\n",
            "GRU - Loss: 2.5740809440612793 - Accuracy: 0.20000000298023224\n",
            "\n",
            "Epoch 40 Results:\n",
            "SimpleRNN - Loss: 2.1217947006225586 - Accuracy: 0.6000000238418579\n",
            "LSTM - Loss: 2.5596985816955566 - Accuracy: 0.30000001192092896\n",
            "GRU - Loss: 2.541351795196533 - Accuracy: 0.20000000298023224\n",
            "\n",
            "Epoch 50 Results:\n",
            "SimpleRNN - Loss: 1.9028546810150146 - Accuracy: 0.6000000238418579\n",
            "LSTM - Loss: 2.5104613304138184 - Accuracy: 0.4000000059604645\n",
            "GRU - Loss: 2.4852569103240967 - Accuracy: 0.10000000149011612\n",
            "\n",
            "Prediction Results:\n",
            "1/1 [==============================] - 1s 734ms/step\n",
            "1/1 [==============================] - 1s 980ms/step\n",
            "1/1 [==============================] - 1s 943ms/step\n",
            "SimpleRNN Prediction: 계획을\n",
            "LSTM Prediction: 영어\n",
            "GRU Prediction: 있었다\n"
          ]
        }
      ]
    },
    {
      "cell_type": "code",
      "source": [
        "import numpy as np\n",
        "import tensorflow as tf\n",
        "\n",
        "# 더 긴 문장 데이터\n",
        "\n",
        "sentences = [\n",
        "    \"나는 오늘 카페에서 새로운 책을 읽었다. 책을 읽는 동안 향긋한 커피 향에 취해 버렸다. 그리고 카페에서 우연히 예전에 못 만난 친구를 만나게 되었다. 오랜만에 만나서 정말 반가웠다.\",\n",
        "    \"어제는 비가 내려서 집에서 영화를 보는 시간을 가졌어요. 좋아하는 영화를 즐기며 편안한 시간을 보냈습니다. 그리고 나서는 집에서 파스타를 만들어 먹었어요. 집 안의 포근한 분위기가 정말 좋았어요.\",\n",
        "    \"저는 엊그제 박물관에 방문하여 전시회를 관람했습니다. 예술작품들을 감상하면서 시간이 어떻게 지나갔는지 모르겠었어요. 그 후에는 근처 카페에서 차 한 잔 마시며 여유를 즐겼습니다.\"\n",
        "]\n",
        "\n",
        "# === 아래 코드를 완성하세요 ===\n",
        "# 번호가 매겨진 부분의 코드를 완성하시면 됩니다.\n",
        "\n",
        "# 1. 문장을 단어로 분할하고 단어를 정수로 변환\n",
        "tokenizer = tf.keras.preprocessing.text.Tokenizer()\n",
        "tokenizer.fit_on_texts(sentences)\n",
        "sequences =tokenizer.texts_to_sequences(sentences)\n",
        "\n",
        "# 2. 입력 시퀀스와 그에 상응하는 타겟 단어 생성\n",
        "def generate_data(sequences):\n",
        "    max_length = max(len(seq) for seq in sequences)\n",
        "    X = []\n",
        "    y = []\n",
        "    for seq in sequences:\n",
        "        for i in range(1, len(seq)):\n",
        "            padded_seq = seq[:i] + [0] * (max_length - i)  # 패딩 추가\n",
        "            X.append(padded_seq)\n",
        "            y.append(seq[i])\n",
        "    return np.array(X), np.array(y)\n",
        "\n",
        "# 3. 데이터 생성\n",
        "X_train, y_train = generate_data(sequences)\n",
        "\n",
        "# 4. 모델 정의 함수\n",
        "def build_rnn_model(cell_type):\n",
        "    model = tf.keras.Sequential([\n",
        "        tf.keras.layers.Embedding(input_dim=len(tokenizer.word_index)+1, output_dim=10),\n",
        "        tf.keras.layers.Dropout(0.2),  # 드롭아웃 추가\n",
        "        cell_type(units=16),\n",
        "        tf.keras.layers.Dense(units=len(tokenizer.word_index)+1, activation='softmax')\n",
        "    ])\n",
        "    return model\n",
        "\n",
        "# 5. LSTM 모델 정의 함수\n",
        "def build_lstm_model(cell_type):\n",
        "    model = tf.keras.Sequential([\n",
        "        tf.keras.layers.Embedding(input_dim=len(tokenizer.word_index)+1, output_dim=10),\n",
        "        tf.keras.layers.Dropout(0.2),  # 드롭아웃 추가\n",
        "        tf.keras.layers.LSTM(units=32, return_sequences=True),  # 첫 번째 LSTM 층\n",
        "        tf.keras.layers.LSTM(units=32, return_sequences=False),  # 두 번째 LSTM 층\n",
        "        tf.keras.layers.Dense(units=len(tokenizer.word_index)+1, activation='softmax')\n",
        "    ])\n",
        "    return model\n",
        "\n",
        "# 6. GRU 모델 정의 함수\n",
        "def build_gru_model(cell_type):\n",
        "    model = tf.keras.Sequential([\n",
        "        tf.keras.layers.Embedding(input_dim=len(tokenizer.word_index)+1, output_dim=10),\n",
        "        tf.keras.layers.Dropout(0.2),  # 드롭아웃 추가\n",
        "        tf.keras.layers.GRU(units=32, return_sequences=True),  # GRU 층 추가\n",
        "        tf.keras.layers.GRU(units=32),  # 추가된 GRU 층\n",
        "        tf.keras.layers.Dense(units=len(tokenizer.word_index)+1, activation='softmax')\n",
        "    ])\n",
        "    return model\n",
        "\n",
        "epochs = 10\n",
        "# 7. 모델 컴파일 함수 (Adam 옵티마이저 사용)\n",
        "def compile_and_train_model(model, X_train, y_train, learning_rate, epochs):\n",
        "    optimizer = tf.keras.optimizers.Adam(learning_rate=learning_rate)\n",
        "    model.compile(optimizer=optimizer, loss='sparse_categorical_crossentropy', metrics=['accuracy'])\n",
        "    history = model.fit(X_train, y_train, epochs=epochs, batch_size=8, verbose=0)\n",
        "    return history\n",
        "\n",
        "# 8. SimpleRNN 모델 생성 및 학습\n",
        "print(\"Training SimpleRNN model...\")\n",
        "rnn_model = build_rnn_model(tf.keras.layers.SimpleRNN)\n",
        "rnn_history = compile_and_train_model(rnn_model, X_train, y_train, 0.01, epochs)\n",
        "\n",
        "# 9. LSTM 모델 생성 및 학습 (learning_rate = 0.001 사용)\n",
        "print(\"Training LSTM model...\")\n",
        "lstm_model = build_lstm_model(tf.keras.layers.LSTM)\n",
        "lstm_history = compile_and_train_model(lstm_model, X_train, y_train, 0.001, epochs)\n",
        "\n",
        "# 10. GRU 모델 생성 및 학습 (learning_rate = 0.001 사용)\n",
        "print(\"Training GRU model...\")\n",
        "gru_model = build_gru_model(tf.keras.layers.GRU)\n",
        "gru_history = compile_and_train_model(gru_model, X_train, y_train, 0.001, epochs)\n",
        "\n",
        "# 출력할 epoch 설정\n",
        "print_interval = 200\n",
        "\n",
        "# epoch 마다 결과 출력\n",
        "for epoch in range(1, epochs+1):\n",
        "    if epoch % print_interval == 0:\n",
        "        print(f\"\\nEpoch {epoch} Results:\")\n",
        "        print(\"SimpleRNN - Loss:\", rnn_history.history['loss'][epoch-1], \"- Accuracy:\", rnn_history.history['accuracy'][epoch-1])\n",
        "        print(\"LSTM - Loss:\", lstm_history.history['loss'][epoch-1], \"- Accuracy:\", lstm_history.history['accuracy'][epoch-1])\n",
        "        print(\"GRU - Loss:\", gru_history.history['loss'][epoch-1], \"- Accuracy:\", gru_history.history['accuracy'][epoch-1])\n",
        "\n",
        "# 예측 결과 출력\n",
        "print(\"\\nPrediction Results:\")\n",
        "\n",
        "# 자동완성을 위한 입력 문장\n",
        "input_list = [\"나는\", \"저는\", \"어제는\"]\n",
        "for input_sentence in input_list:\n",
        "  # 입력 문장을 정수 시퀀스로 변환\n",
        "  input_seq = tokenizer.texts_to_sequences([input_sentence])[0]\n",
        "  max_length = max(len(seq) for seq in sequences)\n",
        "  input_seq = [0] * (max_length - len(input_seq)) + input_seq\n",
        "\n",
        "  # SimpleRNN 모델 예측\n",
        "  predicted_index_rnn = np.argmax(rnn_model.predict(np.array([input_seq])))\n",
        "  predicted_word_rnn = tokenizer.index_word[predicted_index_rnn]\n",
        "\n",
        "  # LSTM 모델 예측\n",
        "  predicted_index_lstm = np.argmax(lstm_model.predict(np.array([input_seq])))\n",
        "  predicted_word_lstm = tokenizer.index_word[predicted_index_lstm]\n",
        "\n",
        "  # GRU 모델 예측\n",
        "  predicted_index_gru = np.argmax(gru_model.predict(np.array([input_seq])))\n",
        "  predicted_word_gru = tokenizer.index_word[predicted_index_gru]\n",
        "\n",
        "  print(\"input_sentence:\", input_sentence)\n",
        "  # 예측된 단어 출력\n",
        "  print(\"SimpleRNN Prediction:\", predicted_word_rnn)\n",
        "  print(\"LSTM Prediction:\", predicted_word_lstm)\n",
        "  print(\"GRU Prediction:\", predicted_word_gru)\n"
      ],
      "metadata": {
        "id": "_ZAlxXIc1Qyr",
        "colab": {
          "base_uri": "https://localhost:8080/"
        },
        "outputId": "2465b680-fa49-4581-e3e8-07e66dfbf2a1"
      },
      "execution_count": 2,
      "outputs": [
        {
          "output_type": "stream",
          "name": "stdout",
          "text": [
            "Training SimpleRNN model...\n",
            "Training LSTM model...\n",
            "Training GRU model...\n",
            "\n",
            "Prediction Results:\n",
            "1/1 [==============================] - 1s 557ms/step\n"
          ]
        },
        {
          "output_type": "stream",
          "name": "stderr",
          "text": [
            "WARNING:tensorflow:5 out of the last 5 calls to <function Model.make_predict_function.<locals>.predict_function at 0x7a0083a48e50> triggered tf.function retracing. Tracing is expensive and the excessive number of tracings could be due to (1) creating @tf.function repeatedly in a loop, (2) passing tensors with different shapes, (3) passing Python objects instead of tensors. For (1), please define your @tf.function outside of the loop. For (2), @tf.function has reduce_retracing=True option that can avoid unnecessary retracing. For (3), please refer to https://www.tensorflow.org/guide/function#controlling_retracing and https://www.tensorflow.org/api_docs/python/tf/function for  more details.\n"
          ]
        },
        {
          "output_type": "stream",
          "name": "stdout",
          "text": [
            "1/1 [==============================] - 2s 2s/step\n"
          ]
        },
        {
          "output_type": "stream",
          "name": "stderr",
          "text": [
            "WARNING:tensorflow:6 out of the last 6 calls to <function Model.make_predict_function.<locals>.predict_function at 0x7a0091106c20> triggered tf.function retracing. Tracing is expensive and the excessive number of tracings could be due to (1) creating @tf.function repeatedly in a loop, (2) passing tensors with different shapes, (3) passing Python objects instead of tensors. For (1), please define your @tf.function outside of the loop. For (2), @tf.function has reduce_retracing=True option that can avoid unnecessary retracing. For (3), please refer to https://www.tensorflow.org/guide/function#controlling_retracing and https://www.tensorflow.org/api_docs/python/tf/function for  more details.\n"
          ]
        },
        {
          "output_type": "stream",
          "name": "stdout",
          "text": [
            "1/1 [==============================] - 1s 1s/step\n",
            "input_sentence: 나는\n",
            "SimpleRNN Prediction: 영화를\n",
            "LSTM Prediction: 카페에서\n",
            "GRU Prediction: 카페에서\n",
            "1/1 [==============================] - 0s 40ms/step\n",
            "1/1 [==============================] - 0s 64ms/step\n",
            "1/1 [==============================] - 0s 41ms/step\n",
            "input_sentence: 저는\n",
            "SimpleRNN Prediction: 영화를\n",
            "LSTM Prediction: 카페에서\n",
            "GRU Prediction: 카페에서\n",
            "1/1 [==============================] - 0s 42ms/step\n",
            "1/1 [==============================] - 0s 52ms/step\n",
            "1/1 [==============================] - 0s 43ms/step\n",
            "input_sentence: 어제는\n",
            "SimpleRNN Prediction: 영화를\n",
            "LSTM Prediction: 카페에서\n",
            "GRU Prediction: 카페에서\n"
          ]
        }
      ]
    },
    {
      "cell_type": "markdown",
      "source": [
        "## 주가 예측 LSTM 모델 구현하기\n",
        "- 번호가 매겨진 부분의 코드를 완성하시면 됩니다."
      ],
      "metadata": {
        "id": "j39tWB0Z2Ia7"
      }
    },
    {
      "cell_type": "code",
      "source": [
        "!pip install finance-datareader\n",
        "\n",
        "import FinanceDataReader as fdr\n",
        "import numpy as np\n",
        "import matplotlib.pyplot as plt\n",
        "\n",
        "from sklearn.preprocessing import MinMaxScaler\n",
        "\n",
        "from tensorflow.keras import Sequential\n",
        "from tensorflow.keras.layers import Dense, LSTM, Dropout\n",
        "\n",
        "df = fdr.DataReader('005930', '2018-05-04', '2020-01-22')\n",
        "df.head()\n",
        "\n",
        "dfx = df[['Open','High','Low','Volume', 'Close']]\n",
        "\n",
        "for col in dfx.columns:\n",
        "    scaler = MinMaxScaler()\n",
        "    dfx[col] = scaler.fit_transform(dfx[[col]])\n",
        "dfy = dfx[['Close']]    # 주식 종가\n",
        "dfx = dfx[['Open','High','Low','Volume']]\n",
        "\n",
        "x = dfx.values.tolist()\n",
        "y = dfy.values.tolist()\n",
        "\n",
        "# 5일동안의 종가로 다음날 종가 예측\n",
        "window_size = 5\n",
        "data_x, data_y = [], []\n",
        "\n",
        "for i in range(len(y) - window_size):\n",
        "    _x = x[i:i+window_size]\n",
        "    _y = y[i+window_size]\n",
        "    data_x.append(_x)\n",
        "    data_y.append(_y)\n",
        "\n",
        "train_size = int(len(data_y) * 0.8)\n",
        "train_x = np.array(data_x[0 : train_size])\n",
        "train_y = np.array(data_y[0 : train_size])\n",
        "\n",
        "test_size = len(data_y) - train_size\n",
        "test_x = np.array(data_x[train_size : len(data_x)])\n",
        "test_y = np.array(data_y[train_size : len(data_y)])\n",
        "\n",
        "print('훈련 데이터의 크기 :', train_x.shape, train_y.shape)\n",
        "print('테스트 데이터의 크기 :', test_x.shape, test_y.shape)"
      ],
      "metadata": {
        "id": "E9QvEwfT075j",
        "colab": {
          "base_uri": "https://localhost:8080/"
        },
        "outputId": "f6b49a7a-556f-4cff-db0a-d249b43475af"
      },
      "execution_count": 3,
      "outputs": [
        {
          "output_type": "stream",
          "name": "stdout",
          "text": [
            "Requirement already satisfied: finance-datareader in /usr/local/lib/python3.10/dist-packages (0.9.90)\n",
            "Requirement already satisfied: pandas>=0.19.2 in /usr/local/lib/python3.10/dist-packages (from finance-datareader) (2.0.3)\n",
            "Requirement already satisfied: requests>=2.3.0 in /usr/local/lib/python3.10/dist-packages (from finance-datareader) (2.31.0)\n",
            "Requirement already satisfied: requests-file in /usr/local/lib/python3.10/dist-packages (from finance-datareader) (2.0.0)\n",
            "Requirement already satisfied: lxml in /usr/local/lib/python3.10/dist-packages (from finance-datareader) (4.9.4)\n",
            "Requirement already satisfied: tqdm in /usr/local/lib/python3.10/dist-packages (from finance-datareader) (4.66.2)\n",
            "Requirement already satisfied: python-dateutil>=2.8.2 in /usr/local/lib/python3.10/dist-packages (from pandas>=0.19.2->finance-datareader) (2.8.2)\n",
            "Requirement already satisfied: pytz>=2020.1 in /usr/local/lib/python3.10/dist-packages (from pandas>=0.19.2->finance-datareader) (2023.4)\n",
            "Requirement already satisfied: tzdata>=2022.1 in /usr/local/lib/python3.10/dist-packages (from pandas>=0.19.2->finance-datareader) (2024.1)\n",
            "Requirement already satisfied: numpy>=1.21.0 in /usr/local/lib/python3.10/dist-packages (from pandas>=0.19.2->finance-datareader) (1.25.2)\n",
            "Requirement already satisfied: charset-normalizer<4,>=2 in /usr/local/lib/python3.10/dist-packages (from requests>=2.3.0->finance-datareader) (3.3.2)\n",
            "Requirement already satisfied: idna<4,>=2.5 in /usr/local/lib/python3.10/dist-packages (from requests>=2.3.0->finance-datareader) (3.6)\n",
            "Requirement already satisfied: urllib3<3,>=1.21.1 in /usr/local/lib/python3.10/dist-packages (from requests>=2.3.0->finance-datareader) (2.0.7)\n",
            "Requirement already satisfied: certifi>=2017.4.17 in /usr/local/lib/python3.10/dist-packages (from requests>=2.3.0->finance-datareader) (2024.2.2)\n",
            "Requirement already satisfied: six>=1.5 in /usr/local/lib/python3.10/dist-packages (from python-dateutil>=2.8.2->pandas>=0.19.2->finance-datareader) (1.16.0)\n",
            "훈련 데이터의 크기 : (332, 5, 4) (332, 1)\n",
            "테스트 데이터의 크기 : (84, 5, 4) (84, 1)\n"
          ]
        },
        {
          "output_type": "stream",
          "name": "stderr",
          "text": [
            "<ipython-input-3-932201bcfb1c>:19: SettingWithCopyWarning: \n",
            "A value is trying to be set on a copy of a slice from a DataFrame.\n",
            "Try using .loc[row_indexer,col_indexer] = value instead\n",
            "\n",
            "See the caveats in the documentation: https://pandas.pydata.org/pandas-docs/stable/user_guide/indexing.html#returning-a-view-versus-a-copy\n",
            "  dfx[col] = scaler.fit_transform(dfx[[col]])\n",
            "<ipython-input-3-932201bcfb1c>:19: SettingWithCopyWarning: \n",
            "A value is trying to be set on a copy of a slice from a DataFrame.\n",
            "Try using .loc[row_indexer,col_indexer] = value instead\n",
            "\n",
            "See the caveats in the documentation: https://pandas.pydata.org/pandas-docs/stable/user_guide/indexing.html#returning-a-view-versus-a-copy\n",
            "  dfx[col] = scaler.fit_transform(dfx[[col]])\n",
            "<ipython-input-3-932201bcfb1c>:19: SettingWithCopyWarning: \n",
            "A value is trying to be set on a copy of a slice from a DataFrame.\n",
            "Try using .loc[row_indexer,col_indexer] = value instead\n",
            "\n",
            "See the caveats in the documentation: https://pandas.pydata.org/pandas-docs/stable/user_guide/indexing.html#returning-a-view-versus-a-copy\n",
            "  dfx[col] = scaler.fit_transform(dfx[[col]])\n",
            "<ipython-input-3-932201bcfb1c>:19: SettingWithCopyWarning: \n",
            "A value is trying to be set on a copy of a slice from a DataFrame.\n",
            "Try using .loc[row_indexer,col_indexer] = value instead\n",
            "\n",
            "See the caveats in the documentation: https://pandas.pydata.org/pandas-docs/stable/user_guide/indexing.html#returning-a-view-versus-a-copy\n",
            "  dfx[col] = scaler.fit_transform(dfx[[col]])\n",
            "<ipython-input-3-932201bcfb1c>:19: SettingWithCopyWarning: \n",
            "A value is trying to be set on a copy of a slice from a DataFrame.\n",
            "Try using .loc[row_indexer,col_indexer] = value instead\n",
            "\n",
            "See the caveats in the documentation: https://pandas.pydata.org/pandas-docs/stable/user_guide/indexing.html#returning-a-view-versus-a-copy\n",
            "  dfx[col] = scaler.fit_transform(dfx[[col]])\n"
          ]
        }
      ]
    },
    {
      "cell_type": "code",
      "source": [
        "# === 아래 코드를 구현하세요 ===\n",
        "# 1. LSTM 모델을 사용하고, unit = 20, tanh 활성화 함수 사용, 적절한 input_shape을 지정합니다.\n",
        "# 2. 출력층을 정의합니다.\n",
        "# 3. SGD 옵티마이저를 사용하고 mse 손실함수를 사용합니다.\n",
        "from tensorflow.keras.layers import Dense, LSTM, Dropout\n",
        "\n",
        "model = Sequential()\n",
        "model.add(LSTM(units=20,activation='tanh',input_shape=(5,4)))\n",
        "model.add(Dense(1))\n",
        "\n",
        "model.compile(optimizer='SGD', loss='mean_squared_error')"
      ],
      "metadata": {
        "id": "q0bkwv8e2eGu"
      },
      "execution_count": 4,
      "outputs": []
    },
    {
      "cell_type": "code",
      "source": [
        "# 학습\n",
        "model.fit(train_x, train_y, epochs=100)\n",
        "\n",
        "# 예측 결과 시각화\n",
        "pred_y = model.predict(test_x)\n",
        "plt.figure()\n",
        "plt.plot(test_y, color='red', label='real target y')\n",
        "plt.plot(pred_y, color='blue', label='predict y')\n",
        "plt.legend()\n",
        "plt.show()"
      ],
      "metadata": {
        "id": "WAbHyeI421QB",
        "colab": {
          "base_uri": "https://localhost:8080/",
          "height": 1000
        },
        "outputId": "fbfd98ff-2682-4cd2-eae6-d72a5274c573"
      },
      "execution_count": 5,
      "outputs": [
        {
          "output_type": "stream",
          "name": "stdout",
          "text": [
            "Epoch 1/100\n",
            "11/11 [==============================] - 13s 10ms/step - loss: 0.1631\n",
            "Epoch 2/100\n",
            "11/11 [==============================] - 0s 11ms/step - loss: 0.0710\n",
            "Epoch 3/100\n",
            "11/11 [==============================] - 0s 10ms/step - loss: 0.0371\n",
            "Epoch 4/100\n",
            "11/11 [==============================] - 0s 12ms/step - loss: 0.0247\n",
            "Epoch 5/100\n",
            "11/11 [==============================] - 0s 16ms/step - loss: 0.0202\n",
            "Epoch 6/100\n",
            "11/11 [==============================] - 0s 16ms/step - loss: 0.0184\n",
            "Epoch 7/100\n",
            "11/11 [==============================] - 0s 13ms/step - loss: 0.0175\n",
            "Epoch 8/100\n",
            "11/11 [==============================] - 0s 13ms/step - loss: 0.0170\n",
            "Epoch 9/100\n",
            "11/11 [==============================] - 0s 16ms/step - loss: 0.0167\n",
            "Epoch 10/100\n",
            "11/11 [==============================] - 0s 14ms/step - loss: 0.0165\n",
            "Epoch 11/100\n",
            "11/11 [==============================] - 0s 22ms/step - loss: 0.0162\n",
            "Epoch 12/100\n",
            "11/11 [==============================] - 0s 14ms/step - loss: 0.0160\n",
            "Epoch 13/100\n",
            "11/11 [==============================] - 0s 10ms/step - loss: 0.0158\n",
            "Epoch 14/100\n",
            "11/11 [==============================] - 0s 16ms/step - loss: 0.0156\n",
            "Epoch 15/100\n",
            "11/11 [==============================] - 0s 18ms/step - loss: 0.0153\n",
            "Epoch 16/100\n",
            "11/11 [==============================] - 0s 13ms/step - loss: 0.0151\n",
            "Epoch 17/100\n",
            "11/11 [==============================] - 0s 13ms/step - loss: 0.0149\n",
            "Epoch 18/100\n",
            "11/11 [==============================] - 0s 11ms/step - loss: 0.0147\n",
            "Epoch 19/100\n",
            "11/11 [==============================] - 0s 13ms/step - loss: 0.0145\n",
            "Epoch 20/100\n",
            "11/11 [==============================] - 0s 15ms/step - loss: 0.0143\n",
            "Epoch 21/100\n",
            "11/11 [==============================] - 0s 13ms/step - loss: 0.0142\n",
            "Epoch 22/100\n",
            "11/11 [==============================] - 0s 12ms/step - loss: 0.0140\n",
            "Epoch 23/100\n",
            "11/11 [==============================] - 0s 10ms/step - loss: 0.0138\n",
            "Epoch 24/100\n",
            "11/11 [==============================] - 0s 14ms/step - loss: 0.0136\n",
            "Epoch 25/100\n",
            "11/11 [==============================] - 0s 9ms/step - loss: 0.0134\n",
            "Epoch 26/100\n",
            "11/11 [==============================] - 0s 8ms/step - loss: 0.0133\n",
            "Epoch 27/100\n",
            "11/11 [==============================] - 0s 15ms/step - loss: 0.0131\n",
            "Epoch 28/100\n",
            "11/11 [==============================] - 0s 12ms/step - loss: 0.0129\n",
            "Epoch 29/100\n",
            "11/11 [==============================] - 0s 11ms/step - loss: 0.0128\n",
            "Epoch 30/100\n",
            "11/11 [==============================] - 0s 11ms/step - loss: 0.0126\n",
            "Epoch 31/100\n",
            "11/11 [==============================] - 0s 13ms/step - loss: 0.0124\n",
            "Epoch 32/100\n",
            "11/11 [==============================] - 0s 13ms/step - loss: 0.0123\n",
            "Epoch 33/100\n",
            "11/11 [==============================] - 0s 16ms/step - loss: 0.0121\n",
            "Epoch 34/100\n",
            "11/11 [==============================] - 0s 12ms/step - loss: 0.0120\n",
            "Epoch 35/100\n",
            "11/11 [==============================] - 0s 23ms/step - loss: 0.0118\n",
            "Epoch 36/100\n",
            "11/11 [==============================] - 0s 14ms/step - loss: 0.0116\n",
            "Epoch 37/100\n",
            "11/11 [==============================] - 0s 15ms/step - loss: 0.0115\n",
            "Epoch 38/100\n",
            "11/11 [==============================] - 0s 13ms/step - loss: 0.0114\n",
            "Epoch 39/100\n",
            "11/11 [==============================] - 0s 10ms/step - loss: 0.0112\n",
            "Epoch 40/100\n",
            "11/11 [==============================] - 0s 12ms/step - loss: 0.0111\n",
            "Epoch 41/100\n",
            "11/11 [==============================] - 0s 12ms/step - loss: 0.0109\n",
            "Epoch 42/100\n",
            "11/11 [==============================] - 0s 10ms/step - loss: 0.0108\n",
            "Epoch 43/100\n",
            "11/11 [==============================] - 0s 8ms/step - loss: 0.0107\n",
            "Epoch 44/100\n",
            "11/11 [==============================] - 0s 11ms/step - loss: 0.0105\n",
            "Epoch 45/100\n",
            "11/11 [==============================] - 0s 9ms/step - loss: 0.0104\n",
            "Epoch 46/100\n",
            "11/11 [==============================] - 0s 8ms/step - loss: 0.0103\n",
            "Epoch 47/100\n",
            "11/11 [==============================] - 0s 11ms/step - loss: 0.0102\n",
            "Epoch 48/100\n",
            "11/11 [==============================] - 0s 13ms/step - loss: 0.0100\n",
            "Epoch 49/100\n",
            "11/11 [==============================] - 0s 16ms/step - loss: 0.0099\n",
            "Epoch 50/100\n",
            "11/11 [==============================] - 0s 19ms/step - loss: 0.0098\n",
            "Epoch 51/100\n",
            "11/11 [==============================] - 0s 18ms/step - loss: 0.0096\n",
            "Epoch 52/100\n",
            "11/11 [==============================] - 0s 18ms/step - loss: 0.0095\n",
            "Epoch 53/100\n",
            "11/11 [==============================] - 0s 29ms/step - loss: 0.0094\n",
            "Epoch 54/100\n",
            "11/11 [==============================] - 0s 25ms/step - loss: 0.0093\n",
            "Epoch 55/100\n",
            "11/11 [==============================] - 0s 36ms/step - loss: 0.0092\n",
            "Epoch 56/100\n",
            "11/11 [==============================] - 0s 38ms/step - loss: 0.0091\n",
            "Epoch 57/100\n",
            "11/11 [==============================] - 0s 31ms/step - loss: 0.0090\n",
            "Epoch 58/100\n",
            "11/11 [==============================] - 0s 33ms/step - loss: 0.0089\n",
            "Epoch 59/100\n",
            "11/11 [==============================] - 0s 28ms/step - loss: 0.0088\n",
            "Epoch 60/100\n",
            "11/11 [==============================] - 0s 27ms/step - loss: 0.0087\n",
            "Epoch 61/100\n",
            "11/11 [==============================] - 0s 19ms/step - loss: 0.0085\n",
            "Epoch 62/100\n",
            "11/11 [==============================] - 0s 14ms/step - loss: 0.0084\n",
            "Epoch 63/100\n",
            "11/11 [==============================] - 0s 10ms/step - loss: 0.0084\n",
            "Epoch 64/100\n",
            "11/11 [==============================] - 0s 10ms/step - loss: 0.0082\n",
            "Epoch 65/100\n",
            "11/11 [==============================] - 0s 12ms/step - loss: 0.0082\n",
            "Epoch 66/100\n",
            "11/11 [==============================] - 0s 10ms/step - loss: 0.0081\n",
            "Epoch 67/100\n",
            "11/11 [==============================] - 0s 13ms/step - loss: 0.0080\n",
            "Epoch 68/100\n",
            "11/11 [==============================] - 0s 11ms/step - loss: 0.0079\n",
            "Epoch 69/100\n",
            "11/11 [==============================] - 0s 12ms/step - loss: 0.0078\n",
            "Epoch 70/100\n",
            "11/11 [==============================] - 0s 11ms/step - loss: 0.0077\n",
            "Epoch 71/100\n",
            "11/11 [==============================] - 0s 14ms/step - loss: 0.0076\n",
            "Epoch 72/100\n",
            "11/11 [==============================] - 0s 9ms/step - loss: 0.0075\n",
            "Epoch 73/100\n",
            "11/11 [==============================] - 0s 14ms/step - loss: 0.0074\n",
            "Epoch 74/100\n",
            "11/11 [==============================] - 0s 10ms/step - loss: 0.0073\n",
            "Epoch 75/100\n",
            "11/11 [==============================] - 0s 14ms/step - loss: 0.0073\n",
            "Epoch 76/100\n",
            "11/11 [==============================] - 0s 13ms/step - loss: 0.0072\n",
            "Epoch 77/100\n",
            "11/11 [==============================] - 0s 13ms/step - loss: 0.0071\n",
            "Epoch 78/100\n",
            "11/11 [==============================] - 0s 13ms/step - loss: 0.0070\n",
            "Epoch 79/100\n",
            "11/11 [==============================] - 0s 7ms/step - loss: 0.0069\n",
            "Epoch 80/100\n",
            "11/11 [==============================] - 0s 8ms/step - loss: 0.0068\n",
            "Epoch 81/100\n",
            "11/11 [==============================] - 0s 9ms/step - loss: 0.0068\n",
            "Epoch 82/100\n",
            "11/11 [==============================] - 0s 9ms/step - loss: 0.0067\n",
            "Epoch 83/100\n",
            "11/11 [==============================] - 0s 13ms/step - loss: 0.0066\n",
            "Epoch 84/100\n",
            "11/11 [==============================] - 0s 17ms/step - loss: 0.0065\n",
            "Epoch 85/100\n",
            "11/11 [==============================] - 0s 8ms/step - loss: 0.0065\n",
            "Epoch 86/100\n",
            "11/11 [==============================] - 0s 9ms/step - loss: 0.0064\n",
            "Epoch 87/100\n",
            "11/11 [==============================] - 0s 8ms/step - loss: 0.0063\n",
            "Epoch 88/100\n",
            "11/11 [==============================] - 0s 7ms/step - loss: 0.0062\n",
            "Epoch 89/100\n",
            "11/11 [==============================] - 0s 7ms/step - loss: 0.0062\n",
            "Epoch 90/100\n",
            "11/11 [==============================] - 0s 7ms/step - loss: 0.0061\n",
            "Epoch 91/100\n",
            "11/11 [==============================] - 0s 7ms/step - loss: 0.0061\n",
            "Epoch 92/100\n",
            "11/11 [==============================] - 0s 7ms/step - loss: 0.0060\n",
            "Epoch 93/100\n",
            "11/11 [==============================] - 0s 10ms/step - loss: 0.0059\n",
            "Epoch 94/100\n",
            "11/11 [==============================] - 0s 7ms/step - loss: 0.0058\n",
            "Epoch 95/100\n",
            "11/11 [==============================] - 0s 7ms/step - loss: 0.0058\n",
            "Epoch 96/100\n",
            "11/11 [==============================] - 0s 7ms/step - loss: 0.0057\n",
            "Epoch 97/100\n",
            "11/11 [==============================] - 0s 8ms/step - loss: 0.0057\n",
            "Epoch 98/100\n",
            "11/11 [==============================] - 0s 9ms/step - loss: 0.0056\n",
            "Epoch 99/100\n",
            "11/11 [==============================] - 0s 13ms/step - loss: 0.0055\n",
            "Epoch 100/100\n",
            "11/11 [==============================] - 0s 10ms/step - loss: 0.0055\n",
            "3/3 [==============================] - 1s 6ms/step\n"
          ]
        },
        {
          "output_type": "display_data",
          "data": {
            "text/plain": [
              "<Figure size 640x480 with 1 Axes>"
            ],
            "image/png": "[encoded data removed]"
          },
          "metadata": {}
        }
      ]
    },
    {
      "cell_type": "code",
      "source": [
        "# === 아래 코드를 구현하세요 ===\n",
        "# 1. LSTM 첫번째 층은 unit 20, relu 함수 사용, return_sequences를 활용해 시퀀스의 모든 요소의 값을 반환하도록 설정, input_shape을 적절히 설정합니다.\n",
        "# 2. LSTM 두번째 층은 unit 40, relu 함수 사용, return_sequences를 활용해 시퀀스의 모든 요소의 값을 반환하도록 설정 합니다.\n",
        "# 3. LSTM 세번째 층은 unit 20, relu 함수 사용, return_sequences를 활용해 시퀀스의 마지막 타임스템프의 결과값만 반환 합니다.\n",
        "# 4. 출력층을 정의합니다.\n",
        "# 5. adam 옵티마이저 사용, mse 손실함수 사용.\n",
        "\n",
        "model2 = Sequential()\n",
        "model2.add(LSTM(units=20,activation='relu',return_sequences=True,input_shape=(5,4)))\n",
        "model2.add(LSTM(units=40,activation='relu',return_sequences = True))\n",
        "model2.add(LSTM(units=20, activation='relu', return_sequences = False)) # return_sequences : 기본값(false) 시퀀스의 마지막 타임스템프 결과값만 반환. (true인 경우 모든 타임스템프 결과값 반환)\n",
        "model2.add(Dense(1))\n",
        "\n",
        "model2.compile(optimizer='adam', loss='mean_squared_error')"
      ],
      "metadata": {
        "id": "v1fpJgsi2_4h"
      },
      "execution_count": 6,
      "outputs": []
    },
    {
      "cell_type": "code",
      "source": [
        "# 모델 확인하기\n",
        "model2.summary()"
      ],
      "metadata": {
        "id": "aZp4Ebvl3zJJ",
        "colab": {
          "base_uri": "https://localhost:8080/"
        },
        "outputId": "501f913c-d000-48ea-da00-30c0f14f91f7"
      },
      "execution_count": 7,
      "outputs": [
        {
          "output_type": "stream",
          "name": "stdout",
          "text": [
            "Model: \"sequential_7\"\n",
            "_________________________________________________________________\n",
            " Layer (type)                Output Shape              Param #   \n",
            "=================================================================\n",
            " lstm_4 (LSTM)               (None, 5, 20)             2000      \n",
            "                                                                 \n",
            " lstm_5 (LSTM)               (None, 5, 40)             9760      \n",
            "                                                                 \n",
            " lstm_6 (LSTM)               (None, 20)                4880      \n",
            "                                                                 \n",
            " dense_7 (Dense)             (None, 1)                 21        \n",
            "                                                                 \n",
            "=================================================================\n",
            "Total params: 16661 (65.08 KB)\n",
            "Trainable params: 16661 (65.08 KB)\n",
            "Non-trainable params: 0 (0.00 Byte)\n",
            "_________________________________________________________________\n"
          ]
        }
      ]
    },
    {
      "cell_type": "code",
      "source": [
        "# 모델 훈련\n",
        "model2.fit(train_x, train_y, epochs=100)\n",
        "\n",
        "# 예측 결과 시각화\n",
        "pred_y = model2.predict(test_x)\n",
        "\n",
        "plt.figure()\n",
        "plt.plot(test_y, color='red', label='real target y')\n",
        "plt.plot(pred_y, color='blue', label='predict y')\n",
        "plt.legend()\n",
        "plt.show()"
      ],
      "metadata": {
        "id": "cPFpIkic31cd",
        "colab": {
          "base_uri": "https://localhost:8080/",
          "height": 1000
        },
        "outputId": "5410ae83-8d83-4625-c710-b425aed26210"
      },
      "execution_count": 8,
      "outputs": [
        {
          "output_type": "stream",
          "name": "stdout",
          "text": [
            "Epoch 1/100\n",
            "11/11 [==============================] - 10s 21ms/step - loss: 0.0914\n",
            "Epoch 2/100\n",
            "11/11 [==============================] - 0s 20ms/step - loss: 0.0656\n",
            "Epoch 3/100\n",
            "11/11 [==============================] - 0s 24ms/step - loss: 0.0333\n",
            "Epoch 4/100\n",
            "11/11 [==============================] - 0s 22ms/step - loss: 0.0089\n",
            "Epoch 5/100\n",
            "11/11 [==============================] - 0s 23ms/step - loss: 0.0083\n",
            "Epoch 6/100\n",
            "11/11 [==============================] - 0s 17ms/step - loss: 0.0066\n",
            "Epoch 7/100\n",
            "11/11 [==============================] - 0s 21ms/step - loss: 0.0056\n",
            "Epoch 8/100\n",
            "11/11 [==============================] - 0s 17ms/step - loss: 0.0049\n",
            "Epoch 9/100\n",
            "11/11 [==============================] - 0s 16ms/step - loss: 0.0040\n",
            "Epoch 10/100\n",
            "11/11 [==============================] - 0s 15ms/step - loss: 0.0033\n",
            "Epoch 11/100\n",
            "11/11 [==============================] - 0s 21ms/step - loss: 0.0030\n",
            "Epoch 12/100\n",
            "11/11 [==============================] - 0s 26ms/step - loss: 0.0028\n",
            "Epoch 13/100\n",
            "11/11 [==============================] - 0s 32ms/step - loss: 0.0028\n",
            "Epoch 14/100\n",
            "11/11 [==============================] - 0s 26ms/step - loss: 0.0026\n",
            "Epoch 15/100\n",
            "11/11 [==============================] - 0s 29ms/step - loss: 0.0026\n",
            "Epoch 16/100\n",
            "11/11 [==============================] - 0s 29ms/step - loss: 0.0026\n",
            "Epoch 17/100\n",
            "11/11 [==============================] - 0s 20ms/step - loss: 0.0025\n",
            "Epoch 18/100\n",
            "11/11 [==============================] - 0s 16ms/step - loss: 0.0024\n",
            "Epoch 19/100\n",
            "11/11 [==============================] - 0s 20ms/step - loss: 0.0025\n",
            "Epoch 20/100\n",
            "11/11 [==============================] - 0s 27ms/step - loss: 0.0025\n",
            "Epoch 21/100\n",
            "11/11 [==============================] - 0s 19ms/step - loss: 0.0025\n",
            "Epoch 22/100\n",
            "11/11 [==============================] - 0s 15ms/step - loss: 0.0024\n",
            "Epoch 23/100\n",
            "11/11 [==============================] - 0s 17ms/step - loss: 0.0025\n",
            "Epoch 24/100\n",
            "11/11 [==============================] - 0s 19ms/step - loss: 0.0023\n",
            "Epoch 25/100\n",
            "11/11 [==============================] - 0s 19ms/step - loss: 0.0023\n",
            "Epoch 26/100\n",
            "11/11 [==============================] - 0s 18ms/step - loss: 0.0023\n",
            "Epoch 27/100\n",
            "11/11 [==============================] - 0s 22ms/step - loss: 0.0023\n",
            "Epoch 28/100\n",
            "11/11 [==============================] - 0s 17ms/step - loss: 0.0023\n",
            "Epoch 29/100\n",
            "11/11 [==============================] - 0s 16ms/step - loss: 0.0023\n",
            "Epoch 30/100\n",
            "11/11 [==============================] - 0s 25ms/step - loss: 0.0022\n",
            "Epoch 31/100\n",
            "11/11 [==============================] - 0s 18ms/step - loss: 0.0023\n",
            "Epoch 32/100\n",
            "11/11 [==============================] - 0s 20ms/step - loss: 0.0023\n",
            "Epoch 33/100\n",
            "11/11 [==============================] - 0s 16ms/step - loss: 0.0024\n",
            "Epoch 34/100\n",
            "11/11 [==============================] - 0s 18ms/step - loss: 0.0023\n",
            "Epoch 35/100\n",
            "11/11 [==============================] - 0s 25ms/step - loss: 0.0024\n",
            "Epoch 36/100\n",
            "11/11 [==============================] - 0s 20ms/step - loss: 0.0024\n",
            "Epoch 37/100\n",
            "11/11 [==============================] - 0s 18ms/step - loss: 0.0023\n",
            "Epoch 38/100\n",
            "11/11 [==============================] - 0s 21ms/step - loss: 0.0022\n",
            "Epoch 39/100\n",
            "11/11 [==============================] - 0s 22ms/step - loss: 0.0022\n",
            "Epoch 40/100\n",
            "11/11 [==============================] - 0s 19ms/step - loss: 0.0022\n",
            "Epoch 41/100\n",
            "11/11 [==============================] - 0s 23ms/step - loss: 0.0022\n",
            "Epoch 42/100\n",
            "11/11 [==============================] - 0s 20ms/step - loss: 0.0021\n",
            "Epoch 43/100\n",
            "11/11 [==============================] - 0s 26ms/step - loss: 0.0020\n",
            "Epoch 44/100\n",
            "11/11 [==============================] - 0s 21ms/step - loss: 0.0020\n",
            "Epoch 45/100\n",
            "11/11 [==============================] - 0s 22ms/step - loss: 0.0020\n",
            "Epoch 46/100\n",
            "11/11 [==============================] - 0s 22ms/step - loss: 0.0020\n",
            "Epoch 47/100\n",
            "11/11 [==============================] - 0s 26ms/step - loss: 0.0020\n",
            "Epoch 48/100\n",
            "11/11 [==============================] - 0s 24ms/step - loss: 0.0019\n",
            "Epoch 49/100\n",
            "11/11 [==============================] - 0s 23ms/step - loss: 0.0019\n",
            "Epoch 50/100\n",
            "11/11 [==============================] - 0s 27ms/step - loss: 0.0020\n",
            "Epoch 51/100\n",
            "11/11 [==============================] - 0s 29ms/step - loss: 0.0018\n",
            "Epoch 52/100\n",
            "11/11 [==============================] - 0s 26ms/step - loss: 0.0018\n",
            "Epoch 53/100\n",
            "11/11 [==============================] - 0s 26ms/step - loss: 0.0017\n",
            "Epoch 54/100\n",
            "11/11 [==============================] - 0s 22ms/step - loss: 0.0020\n",
            "Epoch 55/100\n",
            "11/11 [==============================] - 0s 20ms/step - loss: 0.0018\n",
            "Epoch 56/100\n",
            "11/11 [==============================] - 0s 25ms/step - loss: 0.0017\n",
            "Epoch 57/100\n",
            "11/11 [==============================] - 0s 27ms/step - loss: 0.0016\n",
            "Epoch 58/100\n",
            "11/11 [==============================] - 0s 20ms/step - loss: 0.0016\n",
            "Epoch 59/100\n",
            "11/11 [==============================] - 0s 20ms/step - loss: 0.0018\n",
            "Epoch 60/100\n",
            "11/11 [==============================] - 0s 19ms/step - loss: 0.0017\n",
            "Epoch 61/100\n",
            "11/11 [==============================] - 0s 19ms/step - loss: 0.0016\n",
            "Epoch 62/100\n",
            "11/11 [==============================] - 0s 20ms/step - loss: 0.0016\n",
            "Epoch 63/100\n",
            "11/11 [==============================] - 0s 22ms/step - loss: 0.0015\n",
            "Epoch 64/100\n",
            "11/11 [==============================] - 0s 22ms/step - loss: 0.0015\n",
            "Epoch 65/100\n",
            "11/11 [==============================] - 0s 16ms/step - loss: 0.0015\n",
            "Epoch 66/100\n",
            "11/11 [==============================] - 0s 18ms/step - loss: 0.0014\n",
            "Epoch 67/100\n",
            "11/11 [==============================] - 0s 16ms/step - loss: 0.0016\n",
            "Epoch 68/100\n",
            "11/11 [==============================] - 0s 17ms/step - loss: 0.0015\n",
            "Epoch 69/100\n",
            "11/11 [==============================] - 0s 21ms/step - loss: 0.0015\n",
            "Epoch 70/100\n",
            "11/11 [==============================] - 0s 22ms/step - loss: 0.0014\n",
            "Epoch 71/100\n",
            "11/11 [==============================] - 0s 20ms/step - loss: 0.0013\n",
            "Epoch 72/100\n",
            "11/11 [==============================] - 0s 21ms/step - loss: 0.0013\n",
            "Epoch 73/100\n",
            "11/11 [==============================] - 0s 24ms/step - loss: 0.0014\n",
            "Epoch 74/100\n",
            "11/11 [==============================] - 0s 19ms/step - loss: 0.0013\n",
            "Epoch 75/100\n",
            "11/11 [==============================] - 0s 19ms/step - loss: 0.0013\n",
            "Epoch 76/100\n",
            "11/11 [==============================] - 0s 18ms/step - loss: 0.0013\n",
            "Epoch 77/100\n",
            "11/11 [==============================] - 0s 23ms/step - loss: 0.0012\n",
            "Epoch 78/100\n",
            "11/11 [==============================] - 0s 23ms/step - loss: 0.0013\n",
            "Epoch 79/100\n",
            "11/11 [==============================] - 0s 25ms/step - loss: 0.0015\n",
            "Epoch 80/100\n",
            "11/11 [==============================] - 0s 19ms/step - loss: 0.0014\n",
            "Epoch 81/100\n",
            "11/11 [==============================] - 0s 21ms/step - loss: 0.0014\n",
            "Epoch 82/100\n",
            "11/11 [==============================] - 0s 30ms/step - loss: 0.0012\n",
            "Epoch 83/100\n",
            "11/11 [==============================] - 0s 29ms/step - loss: 0.0012\n",
            "Epoch 84/100\n",
            "11/11 [==============================] - 0s 28ms/step - loss: 0.0013\n",
            "Epoch 85/100\n",
            "11/11 [==============================] - 0s 28ms/step - loss: 0.0011\n",
            "Epoch 86/100\n",
            "11/11 [==============================] - 0s 25ms/step - loss: 0.0014\n",
            "Epoch 87/100\n",
            "11/11 [==============================] - 0s 23ms/step - loss: 0.0013\n",
            "Epoch 88/100\n",
            "11/11 [==============================] - 0s 22ms/step - loss: 0.0012\n",
            "Epoch 89/100\n",
            "11/11 [==============================] - 0s 21ms/step - loss: 0.0012\n",
            "Epoch 90/100\n",
            "11/11 [==============================] - 0s 27ms/step - loss: 0.0012\n",
            "Epoch 91/100\n",
            "11/11 [==============================] - 0s 23ms/step - loss: 0.0012\n",
            "Epoch 92/100\n",
            "11/11 [==============================] - 0s 23ms/step - loss: 0.0013\n",
            "Epoch 93/100\n",
            "11/11 [==============================] - 0s 20ms/step - loss: 0.0013\n",
            "Epoch 94/100\n",
            "11/11 [==============================] - 0s 18ms/step - loss: 0.0013\n",
            "Epoch 95/100\n",
            "11/11 [==============================] - 0s 19ms/step - loss: 0.0012\n",
            "Epoch 96/100\n",
            "11/11 [==============================] - 0s 26ms/step - loss: 0.0013\n",
            "Epoch 97/100\n",
            "11/11 [==============================] - 0s 23ms/step - loss: 0.0011\n",
            "Epoch 98/100\n",
            "11/11 [==============================] - 0s 22ms/step - loss: 0.0011\n",
            "Epoch 99/100\n",
            "11/11 [==============================] - 0s 25ms/step - loss: 0.0012\n",
            "Epoch 100/100\n",
            "11/11 [==============================] - 0s 24ms/step - loss: 0.0011\n",
            "3/3 [==============================] - 1s 9ms/step\n"
          ]
        },
        {
          "output_type": "display_data",
          "data": {
            "text/plain": [
              "<Figure size 640x480 with 1 Axes>"
            ],
            "image/png": "[encoded data removed]"
          },
          "metadata": {}
        }
      ]
    },
    {
      "cell_type": "markdown",
      "source": [
        "## 심화 과제 ) 아래 3가지 선택지 중 하나를 선택해서 시도해보기\n",
        "\n",
        "1. 한국어 -> 영어 간단한 번역 모델 만들어보기, 리서치를 충분히 해보고, 아주 간단한 데이터라도 테스트한 과정이 있으면 실패해도 괜찮음.\n",
        "2. 간단한 문장 분류 모델(긍정or부정, 감정분류 등) 만들어보기, 리서치를 충분히 해보고, 아주 간단한 데이터라도 테스트한 과정이 있으면 실패해도 괜찮음.\n",
        "\n",
        "3. 아래 데이터를 활용해 주가예측 모델 만들기\n",
        "- 데이터 : https://www.kaggle.com/competitions/jpx-tokyo-stock-exchange-prediction/data"
      ],
      "metadata": {
        "id": "CpvntKP19lbi"
      }
    },
    {
      "cell_type": "code",
      "source": [
        "from google.colab import drive\n",
        "drive.mount('/gdrive',force_remount=True)"
      ],
      "metadata": {
        "id": "5C-r5y-W4Jaf",
        "colab": {
          "base_uri": "https://localhost:8080/"
        },
        "outputId": "1d2a10d3-5909-4796-fd99-3432553ece0f"
      },
      "execution_count": 9,
      "outputs": [
        {
          "output_type": "stream",
          "name": "stdout",
          "text": [
            "Mounted at /gdrive\n"
          ]
        }
      ]
    },
    {
      "cell_type": "code",
      "source": [
        "!pip install ratsnlp"
      ],
      "metadata": {
        "colab": {
          "base_uri": "https://localhost:8080/"
        },
        "id": "ROhuqAsvBxJy",
        "outputId": "c3a5425e-0c20-4fb7-fa4e-c6a76348ad71"
      },
      "execution_count": 10,
      "outputs": [
        {
          "output_type": "stream",
          "name": "stdout",
          "text": [
            "Requirement already satisfied: ratsnlp in /usr/local/lib/python3.10/dist-packages (1.0.53)\n",
            "Requirement already satisfied: pytorch-lightning==1.6.1 in /usr/local/lib/python3.10/dist-packages (from ratsnlp) (1.6.1)\n",
            "Requirement already satisfied: transformers==4.28.1 in /usr/local/lib/python3.10/dist-packages (from ratsnlp) (4.28.1)\n",
            "Requirement already satisfied: Korpora>=0.2.0 in /usr/local/lib/python3.10/dist-packages (from ratsnlp) (0.2.0)\n",
            "Requirement already satisfied: flask>=1.1.4 in /usr/local/lib/python3.10/dist-packages (from ratsnlp) (2.2.5)\n",
            "Requirement already satisfied: flask-ngrok>=0.0.25 in /usr/local/lib/python3.10/dist-packages (from ratsnlp) (0.0.25)\n",
            "Requirement already satisfied: flask-cors>=3.0.10 in /usr/local/lib/python3.10/dist-packages (from ratsnlp) (4.0.0)\n",
            "Requirement already satisfied: numpy>=1.17.2 in /usr/local/lib/python3.10/dist-packages (from pytorch-lightning==1.6.1->ratsnlp) (1.25.2)\n",
            "Requirement already satisfied: torch>=1.8.* in /usr/local/lib/python3.10/dist-packages (from pytorch-lightning==1.6.1->ratsnlp) (2.2.1+cu121)\n",
            "Requirement already satisfied: tqdm>=4.41.0 in /usr/local/lib/python3.10/dist-packages (from pytorch-lightning==1.6.1->ratsnlp) (4.66.2)\n",
            "Requirement already satisfied: PyYAML>=5.4 in /usr/local/lib/python3.10/dist-packages (from pytorch-lightning==1.6.1->ratsnlp) (6.0.1)\n",
            "Requirement already satisfied: fsspec[http]!=2021.06.0,>=2021.05.0 in /usr/local/lib/python3.10/dist-packages (from pytorch-lightning==1.6.1->ratsnlp) (2023.6.0)\n",
            "Requirement already satisfied: tensorboard>=2.2.0 in /usr/local/lib/python3.10/dist-packages (from pytorch-lightning==1.6.1->ratsnlp) (2.15.2)\n",
            "Requirement already satisfied: torchmetrics>=0.4.1 in /usr/local/lib/python3.10/dist-packages (from pytorch-lightning==1.6.1->ratsnlp) (1.3.2)\n",
            "Requirement already satisfied: pyDeprecate<0.4.0,>=0.3.1 in /usr/local/lib/python3.10/dist-packages (from pytorch-lightning==1.6.1->ratsnlp) (0.3.2)\n",
            "Requirement already satisfied: packaging>=17.0 in /usr/local/lib/python3.10/dist-packages (from pytorch-lightning==1.6.1->ratsnlp) (24.0)\n",
            "Requirement already satisfied: typing-extensions>=4.0.0 in /usr/local/lib/python3.10/dist-packages (from pytorch-lightning==1.6.1->ratsnlp) (4.11.0)\n",
            "Requirement already satisfied: filelock in /usr/local/lib/python3.10/dist-packages (from transformers==4.28.1->ratsnlp) (3.13.4)\n",
            "Requirement already satisfied: huggingface-hub<1.0,>=0.11.0 in /usr/local/lib/python3.10/dist-packages (from transformers==4.28.1->ratsnlp) (0.20.3)\n",
            "Requirement already satisfied: regex!=2019.12.17 in /usr/local/lib/python3.10/dist-packages (from transformers==4.28.1->ratsnlp) (2023.12.25)\n",
            "Requirement already satisfied: requests in /usr/local/lib/python3.10/dist-packages (from transformers==4.28.1->ratsnlp) (2.31.0)\n",
            "Requirement already satisfied: tokenizers!=0.11.3,<0.14,>=0.11.1 in /usr/local/lib/python3.10/dist-packages (from transformers==4.28.1->ratsnlp) (0.13.3)\n",
            "Requirement already satisfied: Werkzeug>=2.2.2 in /usr/local/lib/python3.10/dist-packages (from flask>=1.1.4->ratsnlp) (3.0.2)\n",
            "Requirement already satisfied: Jinja2>=3.0 in /usr/local/lib/python3.10/dist-packages (from flask>=1.1.4->ratsnlp) (3.1.3)\n",
            "Requirement already satisfied: itsdangerous>=2.0 in /usr/local/lib/python3.10/dist-packages (from flask>=1.1.4->ratsnlp) (2.1.2)\n",
            "Requirement already satisfied: click>=8.0 in /usr/local/lib/python3.10/dist-packages (from flask>=1.1.4->ratsnlp) (8.1.7)\n",
            "Requirement already satisfied: dataclasses>=0.6 in /usr/local/lib/python3.10/dist-packages (from Korpora>=0.2.0->ratsnlp) (0.6)\n",
            "Requirement already satisfied: xlrd>=1.2.0 in /usr/local/lib/python3.10/dist-packages (from Korpora>=0.2.0->ratsnlp) (2.0.1)\n",
            "Requirement already satisfied: aiohttp!=4.0.0a0,!=4.0.0a1 in /usr/local/lib/python3.10/dist-packages (from fsspec[http]!=2021.06.0,>=2021.05.0->pytorch-lightning==1.6.1->ratsnlp) (3.9.3)\n",
            "Requirement already satisfied: MarkupSafe>=2.0 in /usr/local/lib/python3.10/dist-packages (from Jinja2>=3.0->flask>=1.1.4->ratsnlp) (2.1.5)\n",
            "Requirement already satisfied: charset-normalizer<4,>=2 in /usr/local/lib/python3.10/dist-packages (from requests->transformers==4.28.1->ratsnlp) (3.3.2)\n",
            "Requirement already satisfied: idna<4,>=2.5 in /usr/local/lib/python3.10/dist-packages (from requests->transformers==4.28.1->ratsnlp) (3.6)\n",
            "Requirement already satisfied: urllib3<3,>=1.21.1 in /usr/local/lib/python3.10/dist-packages (from requests->transformers==4.28.1->ratsnlp) (2.0.7)\n",
            "Requirement already satisfied: certifi>=2017.4.17 in /usr/local/lib/python3.10/dist-packages (from requests->transformers==4.28.1->ratsnlp) (2024.2.2)\n",
            "Requirement already satisfied: absl-py>=0.4 in /usr/local/lib/python3.10/dist-packages (from tensorboard>=2.2.0->pytorch-lightning==1.6.1->ratsnlp) (1.4.0)\n",
            "Requirement already satisfied: grpcio>=1.48.2 in /usr/local/lib/python3.10/dist-packages (from tensorboard>=2.2.0->pytorch-lightning==1.6.1->ratsnlp) (1.62.1)\n",
            "Requirement already satisfied: google-auth<3,>=1.6.3 in /usr/local/lib/python3.10/dist-packages (from tensorboard>=2.2.0->pytorch-lightning==1.6.1->ratsnlp) (2.27.0)\n",
            "Requirement already satisfied: google-auth-oauthlib<2,>=0.5 in /usr/local/lib/python3.10/dist-packages (from tensorboard>=2.2.0->pytorch-lightning==1.6.1->ratsnlp) (1.2.0)\n",
            "Requirement already satisfied: markdown>=2.6.8 in /usr/local/lib/python3.10/dist-packages (from tensorboard>=2.2.0->pytorch-lightning==1.6.1->ratsnlp) (3.6)\n",
            "Requirement already satisfied: protobuf!=4.24.0,>=3.19.6 in /usr/local/lib/python3.10/dist-packages (from tensorboard>=2.2.0->pytorch-lightning==1.6.1->ratsnlp) (3.20.3)\n",
            "Requirement already satisfied: setuptools>=41.0.0 in /usr/local/lib/python3.10/dist-packages (from tensorboard>=2.2.0->pytorch-lightning==1.6.1->ratsnlp) (67.7.2)\n",
            "Requirement already satisfied: six>1.9 in /usr/local/lib/python3.10/dist-packages (from tensorboard>=2.2.0->pytorch-lightning==1.6.1->ratsnlp) (1.16.0)\n",
            "Requirement already satisfied: tensorboard-data-server<0.8.0,>=0.7.0 in /usr/local/lib/python3.10/dist-packages (from tensorboard>=2.2.0->pytorch-lightning==1.6.1->ratsnlp) (0.7.2)\n",
            "Requirement already satisfied: sympy in /usr/local/lib/python3.10/dist-packages (from torch>=1.8.*->pytorch-lightning==1.6.1->ratsnlp) (1.12)\n",
            "Requirement already satisfied: networkx in /usr/local/lib/python3.10/dist-packages (from torch>=1.8.*->pytorch-lightning==1.6.1->ratsnlp) (3.3)\n",
            "Requirement already satisfied: nvidia-cuda-nvrtc-cu12==12.1.105 in /usr/local/lib/python3.10/dist-packages (from torch>=1.8.*->pytorch-lightning==1.6.1->ratsnlp) (12.1.105)\n",
            "Requirement already satisfied: nvidia-cuda-runtime-cu12==12.1.105 in /usr/local/lib/python3.10/dist-packages (from torch>=1.8.*->pytorch-lightning==1.6.1->ratsnlp) (12.1.105)\n",
            "Requirement already satisfied: nvidia-cuda-cupti-cu12==12.1.105 in /usr/local/lib/python3.10/dist-packages (from torch>=1.8.*->pytorch-lightning==1.6.1->ratsnlp) (12.1.105)\n",
            "Requirement already satisfied: nvidia-cudnn-cu12==8.9.2.26 in /usr/local/lib/python3.10/dist-packages (from torch>=1.8.*->pytorch-lightning==1.6.1->ratsnlp) (8.9.2.26)\n",
            "Requirement already satisfied: nvidia-cublas-cu12==12.1.3.1 in /usr/local/lib/python3.10/dist-packages (from torch>=1.8.*->pytorch-lightning==1.6.1->ratsnlp) (12.1.3.1)\n",
            "Requirement already satisfied: nvidia-cufft-cu12==11.0.2.54 in /usr/local/lib/python3.10/dist-packages (from torch>=1.8.*->pytorch-lightning==1.6.1->ratsnlp) (11.0.2.54)\n",
            "Requirement already satisfied: nvidia-curand-cu12==10.3.2.106 in /usr/local/lib/python3.10/dist-packages (from torch>=1.8.*->pytorch-lightning==1.6.1->ratsnlp) (10.3.2.106)\n",
            "Requirement already satisfied: nvidia-cusolver-cu12==11.4.5.107 in /usr/local/lib/python3.10/dist-packages (from torch>=1.8.*->pytorch-lightning==1.6.1->ratsnlp) (11.4.5.107)\n",
            "Requirement already satisfied: nvidia-cusparse-cu12==12.1.0.106 in /usr/local/lib/python3.10/dist-packages (from torch>=1.8.*->pytorch-lightning==1.6.1->ratsnlp) (12.1.0.106)\n",
            "Requirement already satisfied: nvidia-nccl-cu12==2.19.3 in /usr/local/lib/python3.10/dist-packages (from torch>=1.8.*->pytorch-lightning==1.6.1->ratsnlp) (2.19.3)\n",
            "Requirement already satisfied: nvidia-nvtx-cu12==12.1.105 in /usr/local/lib/python3.10/dist-packages (from torch>=1.8.*->pytorch-lightning==1.6.1->ratsnlp) (12.1.105)\n",
            "Requirement already satisfied: triton==2.2.0 in /usr/local/lib/python3.10/dist-packages (from torch>=1.8.*->pytorch-lightning==1.6.1->ratsnlp) (2.2.0)\n",
            "Requirement already satisfied: nvidia-nvjitlink-cu12 in /usr/local/lib/python3.10/dist-packages (from nvidia-cusolver-cu12==11.4.5.107->torch>=1.8.*->pytorch-lightning==1.6.1->ratsnlp) (12.4.127)\n",
            "Requirement already satisfied: lightning-utilities>=0.8.0 in /usr/local/lib/python3.10/dist-packages (from torchmetrics>=0.4.1->pytorch-lightning==1.6.1->ratsnlp) (0.11.2)\n",
            "Requirement already satisfied: aiosignal>=1.1.2 in /usr/local/lib/python3.10/dist-packages (from aiohttp!=4.0.0a0,!=4.0.0a1->fsspec[http]!=2021.06.0,>=2021.05.0->pytorch-lightning==1.6.1->ratsnlp) (1.3.1)\n",
            "Requirement already satisfied: attrs>=17.3.0 in /usr/local/lib/python3.10/dist-packages (from aiohttp!=4.0.0a0,!=4.0.0a1->fsspec[http]!=2021.06.0,>=2021.05.0->pytorch-lightning==1.6.1->ratsnlp) (23.2.0)\n",
            "Requirement already satisfied: frozenlist>=1.1.1 in /usr/local/lib/python3.10/dist-packages (from aiohttp!=4.0.0a0,!=4.0.0a1->fsspec[http]!=2021.06.0,>=2021.05.0->pytorch-lightning==1.6.1->ratsnlp) (1.4.1)\n",
            "Requirement already satisfied: multidict<7.0,>=4.5 in /usr/local/lib/python3.10/dist-packages (from aiohttp!=4.0.0a0,!=4.0.0a1->fsspec[http]!=2021.06.0,>=2021.05.0->pytorch-lightning==1.6.1->ratsnlp) (6.0.5)\n",
            "Requirement already satisfied: yarl<2.0,>=1.0 in /usr/local/lib/python3.10/dist-packages (from aiohttp!=4.0.0a0,!=4.0.0a1->fsspec[http]!=2021.06.0,>=2021.05.0->pytorch-lightning==1.6.1->ratsnlp) (1.9.4)\n",
            "Requirement already satisfied: async-timeout<5.0,>=4.0 in /usr/local/lib/python3.10/dist-packages (from aiohttp!=4.0.0a0,!=4.0.0a1->fsspec[http]!=2021.06.0,>=2021.05.0->pytorch-lightning==1.6.1->ratsnlp) (4.0.3)\n",
            "Requirement already satisfied: cachetools<6.0,>=2.0.0 in /usr/local/lib/python3.10/dist-packages (from google-auth<3,>=1.6.3->tensorboard>=2.2.0->pytorch-lightning==1.6.1->ratsnlp) (5.3.3)\n",
            "Requirement already satisfied: pyasn1-modules>=0.2.1 in /usr/local/lib/python3.10/dist-packages (from google-auth<3,>=1.6.3->tensorboard>=2.2.0->pytorch-lightning==1.6.1->ratsnlp) (0.4.0)\n",
            "Requirement already satisfied: rsa<5,>=3.1.4 in /usr/local/lib/python3.10/dist-packages (from google-auth<3,>=1.6.3->tensorboard>=2.2.0->pytorch-lightning==1.6.1->ratsnlp) (4.9)\n",
            "Requirement already satisfied: requests-oauthlib>=0.7.0 in /usr/local/lib/python3.10/dist-packages (from google-auth-oauthlib<2,>=0.5->tensorboard>=2.2.0->pytorch-lightning==1.6.1->ratsnlp) (1.3.1)\n",
            "Requirement already satisfied: mpmath>=0.19 in /usr/local/lib/python3.10/dist-packages (from sympy->torch>=1.8.*->pytorch-lightning==1.6.1->ratsnlp) (1.3.0)\n",
            "Requirement already satisfied: pyasn1<0.7.0,>=0.4.6 in /usr/local/lib/python3.10/dist-packages (from pyasn1-modules>=0.2.1->google-auth<3,>=1.6.3->tensorboard>=2.2.0->pytorch-lightning==1.6.1->ratsnlp) (0.6.0)\n",
            "Requirement already satisfied: oauthlib>=3.0.0 in /usr/local/lib/python3.10/dist-packages (from requests-oauthlib>=0.7.0->google-auth-oauthlib<2,>=0.5->tensorboard>=2.2.0->pytorch-lightning==1.6.1->ratsnlp) (3.2.2)\n"
          ]
        }
      ]
    },
    {
      "cell_type": "code",
      "source": [
        "from Korpora import Korpora\n",
        "nsmc = Korpora.load('nsmc',force_download=True) #네이버 영화 리뷰 NSMC"
      ],
      "metadata": {
        "colab": {
          "base_uri": "https://localhost:8080/"
        },
        "id": "1I2iMBusCikp",
        "outputId": "7c99aaf9-4a61-4e1f-97a3-8255539dd8af"
      },
      "execution_count": 15,
      "outputs": [
        {
          "output_type": "stream",
          "name": "stdout",
          "text": [
            "\n",
            "    Korpora 는 다른 분들이 연구 목적으로 공유해주신 말뭉치들을\n",
            "    손쉽게 다운로드, 사용할 수 있는 기능만을 제공합니다.\n",
            "\n",
            "    말뭉치들을 공유해 주신 분들에게 감사드리며, 각 말뭉치 별 설명과 라이센스를 공유 드립니다.\n",
            "    해당 말뭉치에 대해 자세히 알고 싶으신 분은 아래의 description 을 참고,\n",
            "    해당 말뭉치를 연구/상용의 목적으로 이용하실 때에는 아래의 라이센스를 참고해 주시기 바랍니다.\n",
            "\n",
            "    # Description\n",
            "    Author : e9t@github\n",
            "    Repository : https://github.com/e9t/nsmc\n",
            "    References : www.lucypark.kr/docs/2015-pyconkr/#39\n",
            "\n",
            "    Naver sentiment movie corpus v1.0\n",
            "    This is a movie review dataset in the Korean language.\n",
            "    Reviews were scraped from Naver Movies.\n",
            "\n",
            "    The dataset construction is based on the method noted in\n",
            "    [Large movie review dataset][^1] from Maas et al., 2011.\n",
            "\n",
            "    [^1]: http://ai.stanford.edu/~amaas/data/sentiment/\n",
            "\n",
            "    # License\n",
            "    CC0 1.0 Universal (CC0 1.0) Public Domain Dedication\n",
            "    Details in https://creativecommons.org/publicdomain/zero/1.0/\n",
            "\n"
          ]
        },
        {
          "output_type": "stream",
          "name": "stderr",
          "text": [
            "[nsmc] download ratings_train.txt: 14.6MB [00:00, 76.7MB/s]                           \n",
            "[nsmc] download ratings_test.txt: 4.90MB [00:00, 37.2MB/s]                           \n"
          ]
        }
      ]
    },
    {
      "cell_type": "code",
      "source": [
        "print(nsmc.train) #texts와 labels로 되어있음\n",
        "t_size = 1000\n",
        "train_feat = nsmc.train.texts[:t_size]\n",
        "train_label = nsmc.train.labels[:t_size]\n",
        "tokenizer = tf.keras.preprocessing.text.Tokenizer()\n",
        "tokenizer.fit_on_texts(train_feat)\n",
        "sequences = tokenizer.texts_to_sequences(train_feat)"
      ],
      "metadata": {
        "colab": {
          "base_uri": "https://localhost:8080/"
        },
        "id": "ZL4Wu-s-DvHJ",
        "outputId": "78be51c4-535a-47be-cb6f-6921605a9e59"
      },
      "execution_count": 210,
      "outputs": [
        {
          "output_type": "stream",
          "name": "stdout",
          "text": [
            "NSMC.train: size=150000\n",
            "  - NSMC.train.texts : list[str]\n",
            "  - NSMC.train.labels : list[int]\n",
            "\n"
          ]
        }
      ]
    },
    {
      "cell_type": "code",
      "source": [
        "max_length = max(len(seq) for seq in sequences)\n",
        "print(max_length)\n",
        "print(tokenizer.word_index)"
      ],
      "metadata": {
        "colab": {
          "base_uri": "https://localhost:8080/"
        },
        "id": "0e-dt1DPIspZ",
        "outputId": "f827d1c3-64c7-4d60-f534-2ad071b8469a"
      },
      "execution_count": 211,
      "outputs": [
        {
          "output_type": "stream",
          "name": "stdout",
          "text": [
            "38\n",
            "{'영화': 1, '정말': 2, '진짜': 3, '너무': 4, '이': 5, '그냥': 6, '다': 7, '왜': 8, '더': 9, '보고': 10, '없다': 11, '없는': 12, '본': 13, '잘': 14, '영화가': 15, '완전': 16, '그': 17, '최고의': 18, 'ㅋㅋ': 19, '아': 20, '좀': 21, '연기': 22, '수': 23, '또': 24, '하는': 25, '솔직히': 26, '있는': 27, '이건': 28, 'ㅠㅠ': 29, '이런': 30, '영화는': 31, '내가': 32, '하고': 33, '역시': 34, '아깝다': 35, '참': 36, '최고': 37, '난': 38, '작품': 39, '영화를': 40, '이거': 41, 'ㅋㅋㅋ': 42, '스토리도': 43, '무슨': 44, '그리고': 45, '하나': 46, '평점': 47, '넘': 48, '다시': 49, '없고': 50, '영화다': 51, '재밌게': 52, '시간이': 53, '내': 54, '좋은': 55, '평점이': 56, '듯': 57, '보는': 58, '근데': 59, '쓰레기': 60, '이게': 61, '많이': 62, '어떻게': 63, 'ㅎㅎ': 64, '봤는데': 65, '재미도': 66, '재미': 67, '나름': 68, 'ㅡㅡ': 69, '하나도': 70, '재미있게': 71, '전혀': 72, '드라마': 73, '건': 74, '재미없다': 75, '아닌': 76, '재밌는데': 77, '이렇게': 78, '내용도': 79, '제일': 80, '줄': 81, '느낌': 82, '한': 83, '진심': 84, '아주': 85, '요즘': 86, '와': 87, '액션': 88, '개': 89, '스토리': 90, '보면': 91, '가장': 92, '절대': 93, '않는': 94, '있고': 95, '별로': 96, '좋았어요': 97, '모르겠다': 98, '10점': 99, 'ㅋ': 100, '싶다': 101, '2': 102, '생각이': 103, '보는내내': 104, '그런': 105, '그래도': 106, '감독이': 107, '재밌음': 108, '봤습니다': 109, '봐도': 110, '여운이': 111, '봤던': 112, 'ㅠ': 113, '말이': 114, '굿': 115, '내내': 116, '연기도': 117, '싶은': 118, '중': 119, '것': 120, '마지막에': 121, '영화의': 122, '끝까지': 123, '연기가': 124, '별': 125, '꽤': 126, '사람들': 127, '갈수록': 128, '보면서': 129, '지루하고': 130, '같은': 131, '그래서': 132, '한번': 133, '1': 134, '아직도': 135, '대한': 136, '조금': 137, '딱': 138, '있을까': 139, 'ㅜㅜ': 140, '내용은': 141, '안': 142, '실망': 143, '뭘': 144, '연기를': 145, '볼': 146, '봤다': 147, '아니': 148, '사랑에': 149, '그만': 150, '남는': 151, '연기는': 152, '하지만': 153, '아름다운': 154, '감동적인': 155, '지금': 156, '할': 157, '결국': 158, 'ㅎ': 159, '만드는': 160, '아니라': 161, '연출': 162, '♡': 163, '재미는': 164, '너무나도': 165, '막': 166, '위한': 167, '있는데': 168, '꼭': 169, '대체': 170, '나도': 171, '영화에': 172, '감동': 173, '그저': 174, '나와서': 175, '사람들이': 176, '대해': 177, '일본영화': 178, '봤어요': 179, '내용': 180, '자체는': 181, '갈등': 182, '뭐냐': 183, '재밌고': 184, '시청률': 185, '소재는': 186, '특유의': 187, '현실감': 188, '따뜻한': 189, '인생': 190, '충분히': 191, '영화입니다': 192, '오랜만에': 193, '않고': 194, '주인공이': 195, '감독의': 196, '최악': 197, '것도': 198, '아니다': 199, '또한': 200, '다른': 201, '사람들의': 202, '그때': 203, '장면': 204, '없었다': 205, '기대': 206, '제발': 207, '감독': 208, '배우들의': 209, '명작': 210, '재밌다': 211, '그러나': 212, '주인공': 213, '모든': 214, '좋고': 215, '못한': 216, '있지만': 217, '최악의': 218, '아쉬운': 219, '배우들': 220, '아까운': 221, '인간의': 222, '당시': 223, '같다': 224, '뭔가': 225, '모두': 226, '안되는': 227, '마지막': 228, 'ㅡ': 229, '기분': 230, '쓰레기영화': 231, '444': 232, '초등학교': 233, '아까움': 234, '좋다': 235, '보다': 236, '극장에서': 237, '♥': 238, '지루하다': 239, '캐스팅': 240, '없음': 241, '방법이': 242, '멋진': 243, '합니다': 244, '주고': 245, '싶은데': 246, '웃음': 247, '했음': 248, '사람의': 249, '잠시': 250, 'oo': 251, '혼자': 252, '전': 253, '완전히': 254, '무거운': 255, '든다': 256, '그대로': 257, '많은': 258, '우리나라': 259, '바로': 260, '에피소드': 261, '차': 262, '졸작': 263, '전개': 264, '결말': 265, '아햏햏': 266, '진정': 267, '내일이': 268, '설정이': 269, '재미없음': 270, '생각보다': 271, 'ㅎㅎㅎ': 272, '되는': 273, '내용이': 274, '너무나': 275, '이야기': 276, '도대체': 277, '이렇게까지': 278, '전부': 279, '어느': 280, '마세요': 281, '만들어': 282, '질': 283, '배우들은': 284, '잘봤어요': 285, '같음': 286, '저예산': 287, '꽤나': 288, '시종일관': 289, '상당히': 290, '별점': 291, '밖에': 292, '사람': 293, '보지': 294, '좋았지만': 295, '전에': 296, '아니면': 297, '시리즈': 298, '일본': 299, '봐라': 300, '평점은': 301, '어떤': 302, '지루한': 303, '보니까': 304, '재밌네요': 305, '보고싶은': 306, '색다른': 307, '연기력': 308, '더빙이': 309, '말': 310, '기억이': 311, '웃겨': 312, '가슴이': 313, '재미없다고': 314, '겁나': 315, '느낌이': 316, '이런영화가': 317, '남을': 318, '슬픔': 319, '나오는': 320, '느낀다': 321, '감동을': 322, '있음': 323, '영상이': 324, '둘': 325, '기억에': 326, '0점은': 327, '건지': 328, '떠나': 329, '최고다': 330, '뭔지': 331, '감정을': 332, '인간이': 333, '재미가': 334, '않은': 335, '망작': 336, '도움이': 337, '소재가': 338, '좋았다': 339, '별로고': 340, '영활': 341, '감사합니다': 342, '화이팅': 343, '참고': 344, '배우들이': 345, '수작': 346, '아오': 347, '것이': 348, '5점': 349, '싶네요': 350, '있지': 351, '만든': 352, '때문에': 353, '부족한': 354, '처음': 355, '라는': 356, '차라리': 357, '살면서': 358, '미친': 359, '막장': 360, '지들끼리': 361, '특히': 362, '원작': 363, '알았다': 364, '좋지만': 365, '더빙': 366, '흠': 367, '커스틴': 368, '제대로': 369, '반개도': 370, '볼때마다': 371, '울면서': 372, '자꾸': 373, '것을': 374, '취향은': 375, '영화중': 376, '감동도': 377, '어거지': 378, '이기면': 379, '뒤로': 380, '아님': 381, '음식': 382, '바베트의': 383, '이야기도': 384, '안나오고': 385, '안나옴': 386, '평범한': 387, '좋은데': 388, '발연기': 389, '연출력': 390, '남': 391, '시간아까워': 392, '왜이리': 393, '죄인입니다': 394, '포스터는': 395, '맘에': 396, '잔잔한': 397, '음악은': 398, '8점': 399, '한데': 400, '물건': 401, '신선했는데': 402, '정신상태': 403, 'ㅉㅉ': 404, '이런거': 405, '돈': 406, '소설': 407, '감독님': 408, '다크': 409, '야': 410, '세르게이': 411, '매운맛을': 412, '보여주마': 413, '저': 414, '어쩌라고': 415, '좋아요': 416, '중간에': 417, '전개도': 418, '주인공인': 419, '슬픈': 420, '위해': 421, '이정도': 422, '일': 423, '줄이야': 424, '예전': 425, '캐릭터': 426, '시청률은': 427, '이제': 428, '초반': 429, '하면': 430, '안이': 431, '아무나': 432, '재밌었어요': 433, '어설픈': 434, '어이없는': 435, '매우': 436, '뭐': 437, '나왔다': 438, '보며': 439, '단연': 440, '모르겠고': 441, '인상적인': 442, '슬펐던': 443, '새로운': 444, '메인': 445, '볼만한': 446, '영화인거': 447, '무섭지도': 448, '영화속': 449, '했으면': 450, '어땠을까': 451, \"'\": 452, '음악에': 453, '있었던': 454, '쫌': 455, '하던데': 456, '태어나서': 457, '처음으로': 458, '영화보다': 459, '나왔습니다': 460, '불륜이': 461, '대박': 462, '내용전개가': 463, '흥미를': 464, '몰입이': 465, '보지마라': 466, '허풍': 467, '쓴': 468, '설정': 469, '본지': 470, '재미있었음': 471, '10년이': 472, '다시봐도': 473, '봤음': 474, '헐': 475, '스토리가': 476, '따로': 477, '보여줬다면': 478, '케이블에서': 479, '뭐하는건지': 480, '살짝': 481, '이제서야': 482, '감히': 483, '나를': 484, '하게': 485, '시간': 486, '나이가': 487, '여전히': 488, '조금만': 489, '왠만한': 490, '그만좀': 491, '드니로의': 492, '괜찮은': 493, '작품입니다': 494, '이런영화': 495, '그리': 496, '의': 497, '왠지': 498, '한마디': 499, '소재를': 500, 'cg': 501, '주인공들': 502, '안됨': 503, '모르고': 504, '눈을': 505, '힘든': 506, '뻑': 507, '굉장히': 508, '최고네요': 509, '얼마나': 510, '나': 511, '우웩': 512, '유치하고': 513, '판타지': 514, '기존': 515, '말밖에': 516, '가볍게': 517, '단순한': 518, '중에서': 519, '아직까지도': 520, '시노가': 521, '하려고': 522, '하': 523, '쓰고': 524, '필요': 525, '너무너무': 526, 'ㅋㅋㅋㅋ': 527, '구성이': 528, '네이버': 529, '오우삼': 530, '대사': 531, '더럽게': 532, '닿지': 533, '잘하는': 534, '잘하고': 535, '현실': 536, '오늘': 537, 'trash': 538, 'of': 539, '좋았는데': 540, '우리': 541, '음': 542, '일단': 543, '서스펜스': 544, '죽기직전에': 545, '모순인가': 546, '대단하다': 547, '두': 548, '있다': 549, '바라보는': 550, '느낌의': 551, '이해': 552, '이영화는': 553, '드럽게': 554, '재미없네': 555, '느낄': 556, '있었다': 557, '이상하다': 558, '정도로': 559, '부터': 560, '콩은': 561, '까야': 562, '제맛': 563, '범죄': 564, '느와르': 565, 'ooo기': 566, '이걸': 567, '아놔': 568, '어디서': 569, '적당히': 570, '오글거리고': 571, '좋은영화': 572, '이상해요': 573, '2편이': 574, '씩': 575, '봐서': 576, '연인': 577, '해서': 578, '레알': 579, '볼만함': 580, '없어도': 581, '몰입도': 582, '뛰어나다': 583, '여주인공': 584, '스릴러': 585, '하지': 586, '손에서': 587, '뭐지': 588, '안되고': 589, '휴': 590, '아까워': 591, '않았다': 592, '쓸데없이': 593, '조연들의': 594, '그런가': 595, '나는': 596, '넘어가는데': 597, '얘기': 598, '지루함의': 599, '개연성도': 600, '못하고': 601, '결말이': 602, '딱히': 603, '없네요': 604, '송강호는': 605, '우리는': 606, '비디오': 607, '그립다': 608, '재밌을': 609, '본다': 610, '멋졌다': 611, '돈내고': 612, '좋아': 613, '준': 614, '언제': 615, '작품이': 616, '있었지만': 617, '세상을': 618, '멋지다': 619, '이야기를': 620, '보기': 621, '군더더기': 622, '없이': 623, '봣는데': 624, '죽는줄': 625, '애니메이션': 626, '재미없고': 627, '하는데': 628, '못': 629, '보겠다': 630, '안습': 631, '탄탄한': 632, '점점': 633, '지존파': 634, '매칭이': 635, '실제': 636, '알고': 637, '싸우는': 638, '충분한': 639, 'c급': 640, '했는데': 641, '못함': 642, '음악': 643, '것은': 644, '알아': 645, '들었을': 646, '같은데': 647, '왜이렇게': 648, '해놓고': 649, '나옴': 650, '진': 651, '가지고': 652, '중에서도': 653, '때': 654, '나중에': 655, '우연히': 656, '다시보니': 657, '그렇게': 658, '깊은': 659, '누가': 660, '아직': 661, '봤네요': 662, '자신을': 663, '삶의': 664, '흘러도': 665, '여운을': 666, '주는': 667, '이야기는': 668, '이유는': 669, '실제로': 670, '멜로는': 671, '정말로': 672, '계속': 673, '그런지': 674, '레전드': 675, '인생에': 676, '인생을': 677, '키아누': 678, '리브스': 679, '남자의': 680, '말하고': 681, '아니지만': 682, '밥은': 683, '먹고': 684, '보낸다': 685, '엄청': 686, '한국': 687, '이상': 688, '사람도': 689, '확실히': 690, '공부': 691, '걍': 692, '둘다': 693, '찰나의': 694, '보다가': 695, '최고였어요': 696, '몇': 697, '몬초가': 698, '갑자기': 699, '전쟁을': 700, '약간': 701, '신선한': 702, '묘사': 703, '마음은': 704, '완벽했다': 705, '만으로도': 706, '시나리오': 707, '눈이': 708, '없어서': 709, '예쁘고': 710, '귀여운': 711, '친구': 712, '곳곳에': 713, 'a': 714, '싸구려': 715, '없어': 716, '함부로': 717, '맞는': 718, '보는데': 719, '명작은': 720, '명작이다': 721, '깊이있는': 722, '내용을': 723, '44': 724, '진심으로': 725, '점수': 726, '안봐도': 727, '영화중에': 728, '스토리에': 729, '이름만': 730, '안보는게': 731, '마음에': 732, '나와라': 733, '자막제작자가': 734, '1점': 735, '영화네요': 736, '100': 737, '이영화': 738, '친구랑': 739, '싫어하는': 740, '제': 741, '마음을': 742, '한국영화는': 743, '울었다': 744, '안타까울뿐': 745, '극장가서': 746, '묻어나는': 747, '에서': 748, '감정': 749, '있어': 750, '혹은': 751, '티': 752, '이딴': 753, '누구나': 754, '반전': 755, '4': 756, '그게': 757, '액션은': 758, '최루성': 759, '걸작': 760, '포스터가': 761, '재밌는': 762, '단순': 763, '끝남': 764, '자체가': 765, '도': 766, '한번쯤': 767, '생각을': 768, '초반에': 769, '철학적인': 770, '본게': 771, '모르겠음': 772, '찝찝하고': 773, '나서도': 774, '조금은': 775, '정신': 776, '게': 777, '감동이다': 778, '애니': 779, '인상적이다': 780, '영상미': 781, '공포영화는': 782, '작': 783, '영화였음': 784, '남자': 785, '여자': 786, '어린이의': 787, '좋아하는': 788, '전작이': 789, '멋있는': 790, '참고로': 791, '1점도': 792, '궁금하다': 793, '이후로': 794, '쓰래기': 795, '지루해': 796, '개인적으로는': 797, '작은': 798, '독립영화': 799, '장난하나': 800, '지나서': 801, '봐야': 802, '우리와': 803, '좋습니다': 804, '보기엔': 805, '흠잡을': 806, '전형적인': 807, '역겨운': 808, '분위기나': 809, '당신이': 810, '지나도': 811, '볼거없어서': 812, '귀엽다': 813, '재미있다': 814, '재미있었다': 815, '두고': 816, '그렇고': 817, '코미디': 818, 'sunday': 819, '살다': 820, '외계인이': 821, '제목': 822, '늑대': 823, '짜증나네요': 824, '목소리': 825, '포스터보고': 826, '초딩영화줄': 827, '오버연기조차': 828, '가볍지': 829, '않구나': 830, '너무재밓었다그래서보는것을추천한다': 831, '교도소': 832, '이야기구먼': 833, '조정': 834, '사이몬페그의': 835, '익살스런': 836, '돋보였던': 837, '스파이더맨에서': 838, '늙어보이기만': 839, '했던': 840, '던스트가': 841, '이뻐보였다': 842, '걸음마': 843, '뗀': 844, '3세부터': 845, '1학년생인': 846, '8살용영화': 847, '별반개도': 848, '원작의': 849, '긴장감을': 850, '살려내지못했다': 851, '욕나온다': 852, '이응경': 853, '길용우': 854, '연기생활이몇년인지': 855, '발로해도': 856, '그것보단': 857, '낫겟다': 858, '납치': 859, '감금만반복반복': 860, '이드라마는': 861, '가족도없다': 862, '연기못하는사람만모엿네': 863, '액션이': 864, '없는데도': 865, '몇안되는': 866, '왜케': 867, '낮은건데': 868, '볼만한데': 869, '헐리우드식': 870, '화려함에만': 871, '길들여져': 872, '있나': 873, '걍인피니트가짱이다': 874, '진짜짱이다♥': 875, '눈물나서': 876, '죽겠다90년대의': 877, '향수자극': 878, '허진호는': 879, '감성절제멜로의': 880, '달인이다': 881, '손들고': 882, '횡단보도': 883, '건널때': 884, '뛰쳐나올뻔': 885, '이범수': 886, '드럽게못해': 887, '담백하고': 888, '깔끔해서': 889, '신문기사로만': 890, '잊어버린다': 891, '그들도': 892, '사람이었다는': 893, '존중한다지만': 894, '내생에': 895, '노잼': 896, '노감동임': 897, '어거지고': 898, 'ㄱ냥': 899, '매번': 900, '긴장되고': 901, '재밋음ㅠㅠ': 902, '웃긴게': 903, '바스코가': 904, '락스코라고': 905, '까고바비가': 906, '아이돌이라고': 907, '깐다': 908, '까고싶어서': 909, '안달난것처럼': 910, '보인다': 911, '굿바이': 912, '레닌': 913, '표절인것은': 914, '이해하는데': 915, '재미없어지냐': 916, '깨알': 917, '캐스팅과': 918, '질퍽하지않은': 919, '산뜻한': 920, '내용구성이': 921, '버무러진': 922, '깨알일드': 923, '약탈자를': 924, '변명': 925, '이라': 926, '저놈들은': 927, '착한놈들': 928, '아닌걸요': 929, '심오한': 930, '뜻도': 931, '학생이': 932, '선생과': 933, '놀아나는': 934, '웃지': 935, '불가능하다': 936, '영화인데도': 937, '만찬하고': 938, '차이남': 939, '만찬은': 940, '보는재미도': 941, '볼게없다': 942, '음식도': 943, '핀란드': 944, '풍경이라도': 945, '구경할랫는데': 946, '그것도': 947, '수작이라는걸': 948, '말씀드립니다': 949, '주제는': 950, '중반부터': 951, '짤랐을꺼야': 952, '납득할': 953, '없었던거야': 954, '그럴꺼야': 955, '그랬던걸꺼야': 956, 'kl2g': 957, '고추를': 958, '털어버려야': 959, '할텐데': 960, '카밀라벨': 961, '재밋는뎅': 962, '센스있는': 963, '탁월한': 964, '90년대의': 965, '향수': 966, '9점': 967, '엄포스의': 968, '위력을': 969, '깨닫게': 970, '해준': 971, '적': 972, '꽃검사님도': 973, '명품드라마': 974, '졸쓰레기': 975, '진부하고말도안됌ㅋㅋ': 976, '별점이': 977, '낮은고': 978, '라도': 979, '기대했던': 980, '드라마는': 981, '내인생의': 982, '패션에': 983, '열정': 984, '안나': 985, '윈투어': 986, '키이라': 987, '나이틀리가': 988, '연기하고자': 989, '했던건': 990, '정신장애일까': 991, '틱장애일까': 992, '허허': 993, '원작가': 994, '정신나간': 995, '유령이라': 996, '재미있겠네요': 997, '있어보이는데': 998, '관객은': 999, '114명이네': 1000, '저평가': 1001, '받는지': 1002, '단순하면서': 1003, '은은한': 1004, '매력의': 1005, \"'다\": 1006, '알바생인가': 1007, '무서운거도': 1008, '웃긴거도': 1009, '별싱거운': 1010, 'ㅇ': 1011, 'ㅇ내ㅇ시간': 1012, '낚임': 1013, '오게두어라': 1014, '서리한이': 1015, '굶주렸다': 1016, '들어요': 1017, '보고싶은데': 1018, '없네': 1019, 'ㅜㅡ': 1020, '윤제문이라는': 1021, '배우를': 1022, '발견하게': 1023, '됐어요': 1024, '소소한': 1025, '일탈이': 1026, '미소를': 1027, '머금게': 1028, '아쉽네요ㅠㅠ': 1029, '올리고': 1030, '싶어': 1031, '줄게요': 1032, '평점에속지마시길시간낭비': 1033, '돈낭비임': 1034, '리얼리티가': 1035, '뛰어나긴': 1036, '큰': 1037, '공감은': 1038, '안간다': 1039, '이민기캐릭터는': 1040, '정신의학상': 1041, '분노조절장애': 1042, '초기': 1043, '증상일거다': 1044, '툭하면': 1045, '사람패고': 1046, '욕하고': 1047, '파손하고': 1048, '오바였음': 1049, '극': 1050, '초반엔': 1051, '가면': 1052, '이민기': 1053, '공감불가': 1054, '마이너스는': 1055, '왜없냐': 1056, '뮤비': 1057, '영화수준': 1058, '알만하더군': 1059, '북한에서': 1060, '만들라고': 1061, '대주던': 1062, '우리영화를': 1063, '사랑합니다': 1064, '데너리스': 1065, '타르': 1066, '가르엔': 1067, '용의주인이': 1068, '되고': 1069, '누이랑': 1070, '근친상간이나': 1071, '다닐지라도': 1072, '속에선': 1073, '놈이': 1074, '자이메': 1075, '라니스터였는데': 1076, '드라마속에선': 1077, '드래곤': 1078, '용': 1079, '멋지네': 1080, '토르': 1081, '월드는': 1082, '말아': 1083, '잡수셨을지라도': 1084, '기본': 1085, '선방은': 1086, '영혼을': 1087, '어루만져': 1088, '수도': 1089, '있군요': 1090, '거친': 1091, '세상사를': 1092, '잊고': 1093, '동화같은': 1094, '행복했네요': 1095, '작은고추의': 1096, '포퐁저그': 1097, '콩진호가': 1098, '간다': 1099, '가슴시리게': 1100, '드라마가': 1101, '자체': 1102, '난또': 1103, '꼬마애가': 1104, '원한이': 1105, '깊길래': 1106, '했더니': 1107, '나대다': 1108, 'oo걸': 1109, '재미있어요': 1110, '충격적이엇다': 1111, '기분을': 1112, '푹': 1113, '꺼지게': 1114, '활력이라고는': 1115, '지독하고': 1116, '차갑고': 1117, '무자비하다': 1118, '일본인들의': 1119, '상상력은': 1120, '대단한거': 1121, '같다는': 1122, '심심한영화': 1123, '백봉기': 1124, '언제나오나요': 1125, '들어맞는': 1126, '예측': 1127, '카리스마': 1128, '악역': 1129, '불알이': 1130, '당황': 1131, '아무튼': 1132, '끝나는': 1133, '평범함속에': 1134, '녹아든': 1135, '일상': 1136, '밋밋한게': 1137, '보던거라': 1138, '계속보고있는데': 1139, '느리고': 1140, '은희는': 1141, '한두컷': 1142, '나오면서': 1143, '소극적인모습에': 1144, '짜증이': 1145, '맨날': 1146, '언제끝나나': 1147, '기대만하고있어요': 1148, '전개좀': 1149, '빨리빨리': 1150, '사랑하고싶게하는': 1151, '가슴속온감정을헤집어놓는영화예요정말최고': 1152, '다큐를': 1153, '현대사의': 1154, '단면에': 1155, '깊이': 1156, '생각하고': 1157, '사죄하고': 1158, '잡기': 1159, '노력했으면': 1160, '말로만': 1161, '듣던': 1162, '보도연맹': 1163, '민간인': 1164, '학살이': 1165, '명백한': 1166, '살인입니다': 1167, '살인자들은': 1168, '어디있나요': 1169, '재탕': 1170, '삼탕': 1171, '사골우려먹듯': 1172, '우리고': 1173, '산으로': 1174, '가고': 1175, '아예안나오고': 1176, '70회중반인데': 1177, '120부작이라니': 1178, '김남길의': 1179, '백점짜리': 1180, '연기력과': 1181, '몰입도에도': 1182, '불구하고': 1183, '손예진': 1184, 'ㅈㅈ': 1185, '재밌네': 1186, '비슷한': 1187, '안보신': 1188, '분들한테는': 1189, '재미있을': 1190, '노래실력으로뽑는게': 1191, '맞냐': 1192, '박시환이': 1193, 'mama나가면': 1194, '망신이다': 1195, '다이런건가': 1196, '유치하다': 1197, '이틀만에': 1198, '재밌어요': 1199, '안에': 1200, '넣어': 1201, '조작하려고': 1202, '열려있다던지': 1203, '집': 1204, '활짝': 1205, '열려서': 1206, '들어간다던가': 1207, '문자를': 1208, '조작하려고하면': 1209, '비번이': 1210, '걸려있고': 1211, '억지스러웠는데': 1212, '재밋네요': 1213, '달팽이가': 1214, '빨라서': 1215, '부패한': 1216, '로마노프': 1217, '왕조를': 1218, '기리는': 1219, '뭣같은': 1220, '온몸으로': 1221, '항거했던': 1222, '러시아': 1223, '민중들이': 1224, '폭도냐': 1225, '내용전개는': 1226, '무난한': 1227, '편이였구': 1228, '보았습니다': 1229, '한국영화': 1230, '흥행코드': 1231, '계': 1232, '에속': 1233, '화해': 1234, '남발': 1235, '흥행': 1236, '뻔하지': 1237, '시작하고': 1238, '3분만에': 1239, '리플릿': 1240, '사진': 1241, '불안하더니만': 1242, '최고라고': 1243, '할수있지': 1244, '럼먹고': 1245, '만들었나보다': 1246, '관객에게': 1247, '말하는지도': 1248, '엉망진창': 1249, '개진창이다': 1250, '우뢰매냐': 1251, '정말쓰레기영화입니다': 1252, '위대한': 1253, '최고임': 1254, '별루': 1255, '였다': 1256, '기대되는': 1257, '조미가': 1258, '막문위': 1259, '좋아한건가요': 1260, '골깜': 1261, '눈': 1262, '부라릴때': 1263, '쓰러짐': 1264, '성룡영화중': 1265, '최악인듯': 1266, '골때리네ㅋㅋㅋㅋ': 1267, '걸스데이': 1268, '이혜리': 1269, '되라': 1270, '서기가이뻐서': 1271, '재밌어요ㅋㅋㅋㅋㅋ백인공주귀여움ㅋㅋㅋㅋㅋㅋ': 1272, '영화였다': 1273, '어내스트와': 1274, '셀레스틴': 1275, '강추에요': 1276, '재밌습니다': 1277, '재미있는영화입니다': 1278, '클라라볼라고화신본거아닌데': 1279, '내에서': 1280, '차차': 1281, '나오는게': 1282, '신카이': 1283, '마코토의': 1284, '작화와': 1285, '미유와': 1286, '하나카나가': 1287, '잘해줘서': 1288, '더대박이였다': 1289, '1이훨나': 1290, '캐스팅두못한듯': 1291, '잔잔한게': 1292, '같습니다': 1293, '감독님들': 1294, '고은님': 1295, '쓰면': 1296, '영화안봅니다': 1297, '않았고': 1298, '억지스럽고': 1299, '노골적인': 1300, '술광고를': 1301, '은은하고': 1302, '센스있게': 1303, '킬링타임': 1304, '크리스마스하면': 1305, '떠오르는영화': 1306, '매력적인': 1307, '행복이네요': 1308, '빠져서': 1309, '산만하긴': 1310, '로맨스냐': 1311, '왕짜증': 1312, '전개를': 1313, '짬뽕으로': 1314, '믹스했구나': 1315, '음향만': 1316, '무섭게하네': 1317, '하아': 1318, '별루더라': 1319, '시간낭비느낌': 1320, '기준이': 1321, '패널가구들': 1322, '머하는거지': 1323, '명작드라마': 1324, '망치네': 1325, '서운하다': 1326, '이상해': 1327, '몬스터': 1328, '주식회사': 1329, '3d': 1330, '느리다': 1331, '끌지만': 1332, '전개가': 1333, '투박해서': 1334, '안되는군': 1335, '중국인': 1336, '과장': 1337, '있어보이려고': 1338, '안간힘': 1339, '노력은': 1340, '가상하나': 1341, '고증과': 1342, '떨어지는': 1343, '거북스럽다': 1344, '그들은': 1345, '스스로를': 1346, '과대포장하는': 1347, '것인지': 1348, '불법체류자': 1349, '때려잡는': 1350, '영화면': 1351, '좋았을텐데': 1352, '우상화를': 1353, '만든다고': 1354, '미국의': 1355, '뭥미': 1356, '2년의': 1357, '삶속에': 1358, '주인공의': 1359, '생애가': 1360, '드러난': 1361, '하다': 1362, '별점10점가자': 1363, '별로다': 1364, '지난': 1365, '후에': 1366, '남기지만': 1367, '9점대': 1368, '일까': 1369, '지나': 1370, '보게된': 1371, '순수한': 1372, '숀펜의': 1373, '연기또한': 1374, '甲': 1375, '올레에': 1376, '공짜로있길래': 1377, '문제가아니라': 1378, '연기자들이': 1379, '배역이랑': 1380, '어울리지않음': 1381, '상대배우들하고': 1382, '노는거같음': 1383, '연기자들도': 1384, '문제있음': 1385, '보아는': 1386, '별로임': 1387, '라미란하고': 1388, '아들이': 1389, '젤': 1390, '볼만했음': 1391, '욕심이': 1392, '많았던': 1393, '쪽만이라도': 1394, '빵점': 1395, '베댓이': 1396, '말을': 1397, '잘써놨네': 1398, '모자라진': 1399, '않다': 1400, '도둑들이나': 1401, '뫼비우스': 1402, '나라에서': 1403, '만들어졌다는게': 1404, '믿어지냐': 1405, '온몸이': 1406, '찌릿': 1407, '짜릿': 1408, '나두': 1409, '용기를': 1410, '가져야지': 1411, '정말재미있고': 1412, '교훈적인': 1413, '영화이네요': 1414, '당시의': 1415, '상황과': 1416, '주제를': 1417, '주입식이': 1418, '긴장감있고': 1419, '전하는': 1420, '나와줬으면': 1421, '다르덴': 1422, '이냐리투': 1423, '차이밍량이': 1424, '안섞인채': 1425, '짬뽕': 1426, '그릇에': 1427, '담겨있다': 1428, '여군': 1429, '잼없음': 1430, 'ㅡㅡ잼없음': 1431, '엠비씨': 1432, '다잼없음': 1433, '질린다이제': 1434, '좋구나': 1435, '한석규': 1436, '김혜수': 1437, '연기만': 1438, '돋보인': 1439, '어딘지': 1440, '모르게': 1441, '에볼라바이러스가': 1442, '떠들석해서': 1443, '보게된영화인데': 1444, '작품성이나': 1445, '어떤면에서도': 1446, '20여년전': 1447, '영화라고보기엔': 1448, '믿기힘들정도로': 1449, '잘만들었다고본다': 1450, '마지막후반부가': 1451, '아쉽긴하지만': 1452, '이정도면': 1453, '수작이라고본다': 1454, '아깝지않은영화': 1455, '볼만해': 1456, '재미있다고': 1457, '떨지': 1458, '용가리': 1459, '진짜짱짱맨이다ㅋ': 1460, '보다니': 1461, '하나로': 1462, '꼽을': 1463, '있을만한': 1464, '살아야할지': 1465, '고민을': 1466, '모건': 1467, '프리먼은': 1468, '들어도': 1469, '섹시하다': 1470, '작가가별로다': 1471, '내용이진짜별로임': 1472, '맨날그냥기대하고': 1473, '재방송하면': 1474, '혹시나하고봐줘도': 1475, '답없다진짜': 1476, '명작도': 1477, '명작이': 1478, '손': 1479, '상업': 1480, '못지': 1481, '않게': 1482, '퀄리티': 1483, '쩔게': 1484, '있었는데': 1485, '아쉽네요': 1486, '재미있었습니다': 1487, '개인적으로': 1488, '잔인하게': 1489, '자극적으로': 1490, '노출씬도': 1491, '화끈하게': 1492, '했더라면': 1493, '국산영화라': 1494, '아낀': 1495, '보임': 1496, '끌고': 1497, '끝내라': 1498, '지겹다': 1499, '지겨워': 1500, '일품': 1501, '맥스가': 1502, '샘을': 1503, '죽이길': 1504, '바랬다': 1505, '스러웟음': 1506, '지네들': 1507, '안뜨니까': 1508, '찍을껀데': 1509, '안뜨는지': 1510, '모르는거야': 1511, '면상': 1512, '알겠구만': 1513, '지네': 1514, '자신들은': 1515, '모를까': 1516, '어린이가': 1517, '좋아할듯': 1518, '내어릴적': 1519, '동심은': 1520, '멀리': 1521, '떠낫나보다': 1522, '무술인이': 1523, '총을드나': 1524, '크리스토퍼왈츠와': 1525, '타란티노의': 1526, '조합이란': 1527, '한국에선유명한편은아니지만': 1528, '외국에선': 1529, '상상초월한': 1530, '유명한': 1531, '재밋는영화봤네요': 1532, '종방되어': 1533, '아쉬워요': 1534, '오늘막방도': 1535, '방송대본이': 1536, '완성도있다는': 1537, '느낌받았고요': 1538, '드라마들의': 1539, '막장에': 1540, '지쳐있었는데': 1541, '수백향은': 1542, '바른드라마였던듯해요': 1543, '악역들도': 1544, '심하게': 1545, '어이없지도': 1546, '않았고요': 1547, 'mbc화이팅': 1548, '평점조절위원회에서': 1549, '김혜선은': 1550, '오면': 1551, '김순정': 1552, '순정이': 1553, '역할이': 1554, '제일이다': 1555, '팜므파탈로써': 1556, '정도까지': 1557, '잘해낼': 1558, '줄은': 1559, '의외였어': 1560, '연기20년': 1561, '한사람에게': 1562, '사극에서': 1563, '벌어지고': 1564, '그녀에': 1565, '연기논란은': 1566, '코미디의한장면': 1567, '끝나갈때쯤에': 1568, '멍하다가': 1569, '다보고나면': 1570, '나올거임': 1571, 'ㅈ같다': 1572, '공유': 1573, '존잘': 1574, '상쾌발랄한': 1575, '말하기': 1576, '껄끄런': 1577, '성이란': 1578, '유쾌하게': 1579, '해설했다': 1580, '소파에': 1581, '죽': 1582, '치고': 1583, '앉아': 1584, '지켜': 1585, '이유가': 1586, '로큰롤': 1587, '주된': 1588, '타겟이': 1589, '어린이니': 1590, '일반적인': 1591, '논리가': 1592, '통하지': 1593, '알겠다': 1594, '게임은': 1595, '흥미롭지': 1596, '요원이라는': 1597, '무능력해서': 1598, '배경도': 1599, '거슬린다': 1600, '뮤지컬': 1601, '영화인데': 1602, '사운드': 1603, '녹음': 1604, '엉망': 1605, '남주는': 1606, '춤도': 1607, '못추고': 1608, '뻔할뻔': 1609, '목소리도': 1610, '안어울리고': 1611, '어제': 1612, 'cgv에서': 1613, '뛰어': 1614, '나가려다': 1615, '참았습니다': 1616, '말리고': 1617, '싶습니다': 1618, '영국의': 1619, 'dvd용': 1620, '영화뮤지컬영화': 1621, '아닙니다': 1622, '맘마미아': 1623, '10도': 1624, '어린나이에': 1625, '봤음에도': 1626, '좋아했던': 1627, '로맨틱코미디': 1628, '게이물인줄': 1629, '봤네': 1630, '알바는꺼저라': 1631, '머임': 1632, '받아': 1633, '봤을까': 1634, '그것이': 1635, '알고싶다': 1636, '배우들과': 1637, '스텝들이': 1638, '꼭두각시였음': 1639, '4대2라니': 1640, '입니다': 1641, '자극적인': 1642, '것에': 1643, '익숙해진': 1644, '현대인이': 1645, '떼기': 1646, '읽어볼걸': 1647, '당했음': 1648, '짜증의': 1649, '극치를': 1650, '보여주는영화': 1651, '언밸러스한': 1652, '뚱뚱하고': 1653, '못생긴': 1654, '남자애의': 1655, '발연기를': 1656, '봐야하는게': 1657, '고역인듯': 1658, '간간히': 1659, '흘러나오는': 1660, '클래식풍의': 1661, '음악조차도': 1662, '듣기싫어': 1663, '짜증날정도로': 1664, '싫은영화': 1665, '감동감동ㅜㅜ': 1666, '주기도': 1667, '아깝네요': 1668, '진부한지': 1669, '욕': 1670, '안나오네요보고': 1671, '재밌다고': 1672, '초딩들인가요': 1673, '죄송해요': 1674, '화가나서': 1675, '아무': 1676, '볼게': 1677, '없습니다': 1678, '티비판짜집기': 1679, '한거': 1680, '같네요': 1681, '왠만해서': 1682, '짜증안내는데': 1683, '돼지피먹고': 1684, '닭목따는': 1685, '장면에선': 1686, '무당은': 1687, '하는게': 1688, '버려': 1689, '잠이': 1690, '왔다': 1691, '3류풍': 1692, '3점만': 1693, '가져가': 1694, '윤종신': 1695, '복귀는': 1696, '이하늘은': 1697, '뽑혔는지': 1698, '알수가없다': 1699, '참가자': 1700, '실력을': 1701, '따지기': 1702, '심사위원': 1703, '인격과': 1704, '실력부터': 1705, '쌓고': 1706, '오시길': 1707, '어하어허': 1708, '하고요': 1709, '광장한': 1710, '옛날것도': 1711, '생의': 1712, '어린시절': 1713, '무섭고': 1714, '추억의': 1715, '판타지영화': 1716, '나쁜짓은': 1717, '금물': 1718, '지옥가요': 1719, '멜로영화': 1720, '형식을': 1721, '탈피하려고': 1722, '하였으나': 1723, '감정의': 1724, '절제가': 1725, '지나쳐': 1726, '담백한': 1727, '사랑비': 1728, '서준에게': 1729, '쏙': 1730, '빠져버렸네': 1731, '3초만에': 1732, '쏙ㅋㅋ난': 1733, '절대잊지도않고후회도안할거야': 1734, '이영화를보니까': 1735, '교훈을': 1736, '주네요': 1737, '남은인생을': 1738, '화려하게': 1739, '살아야겟다': 1740, '안나오네요': 1741, '추억에': 1742, '젖어들고': 1743, '좋았음ㅋㅋ아무생각없이': 1744, '보고오기': 1745, '추천요': 1746, '싸이코물을': 1747, '벗어난': 1748, '14년도에': 1749, '만들어진건가요': 1750, '예전에': 1751, '만든거': 1752, '다시개봉한건가요': 1753, 'ㅠ너무': 1754, '허접해요': 1755, '사랑스러운': 1756, '1보고': 1757, '연이어': 1758, '귀여워': 1759, 'ㅠㅠ♥♥': 1760, '청춘': 1761, '영화만이': 1762, '감성이': 1763, '넘쳐난다': 1764, '순간': 1765, '지나가면': 1766, '돌아오지': 1767, '않을테지만': 1768, '순간만큼은': 1769, '무한할': 1770, '젊음이': 1771, '감성': 1772, 'tv용': 1773, '건담': 1774, '최고봉': 1775, '개콘은': 1776, '코너들이': 1777, '다노잼이고': 1778, '웃음이안난다': 1779, '사다코의': 1780, '한이': 1781, '서린': 1782, '우물펀치ㅜㅜ': 1783, '후세와': 1784, '사랑하게된': 1785, '결정적': 1786, '계기': 1787, '그시간이': 1788, '표현되지': 1789, '않았으며': 1790, '시람의': 1791, '생명을': 1792, '빼앗아야만하는이유등을': 1793, '출현하는': 1794, '연극으': 1795, '로': 1796, '알려주었으면': 1797, '생각이든다': 1798, '본능을절제히면서': 1799, '시랑을': 1800, '노력하는지를': 1801, '좋았을뻔했다': 1802, '새벽시간에': 1803, '영화들은': 1804, '개졸작이다': 1805, '일본영화원래': 1806, '다이래': 1807, '강수연의': 1808, '나가있어': 1809, '최정원의': 1810, '신음신': 1811, '김혜성': 1812, '예쁘네요': 1813, '이현진도': 1814, '웃는': 1815, '거': 1816, '가발': 1817, '화려한여정이인상깊어요ㅋㅋ재밋어요ㅋㅋ배두나연기정말잘해요ㅋ': 1818, '10대들을': 1819, '성적': 1820, '호기심': 1821, '닥치고': 1822, '각기': 1823, '사랑영화': 1824, '미국드라마의': 1825, '파워': 1826, '알수없는': 1827, '미묘함까지': 1828, '사로잡아버렸다': 1829, '훈훈하네요': 1830, '응답하라에서': 1831, '은지원원도': 1832, '스스로': 1833, '욕하지': 1834, '않앗나': 1835, '웃기고': 1836, '배꼽': 1837, '빠질뻔했네': 1838, '컴에': 1839, '부실한': 1840, '믿을수': 1841, '장끌로드의': 1842, '몰락을': 1843, '가져온': 1844, '헐리우드': 1845, '작품중': 1846, '재미없었던': 1847, '언제적': 1848, '영웅본색': 1849, '연출인지': 1850, '현실성': 1851, '제로인': 1852, '작은거': 1853, '하나에도': 1854, '설레어했던': 1855, '학창시절': 1856, '그느낌을': 1857, '느껴볼수있는시간이었다': 1858, '배경음악': 1859, '버릴게': 1860, '없는데': 1861, '높아서': 1862, '화남': 1863, '형태로도': 1864, '허무하고': 1865, '완벽히': 1866, '영화고': 1867, '영양가': 1868, '이승기': 1869, '조연들도': 1870, '현실은': 1871, '꿈': 1872, '꿈은': 1873, '현충일특집프로로': 1874, '보게되었습니다': 1875, '1963년도의': 1876, '훌륭한': 1877, '판의미로와': 1878, '동급': 1879, 'the': 1880, '제대하고': 1881, '보는것만으로도': 1882, '마음의': 1883, '휴가를': 1884, '다녀온': 1885, '소박하지고': 1886, '잔잔하지만': 1887, '지루하지않은': 1888, '햇살가득한': 1889, '비이의': 1890, '부엌과': 1891, '요리도': 1892, '인상적': 1893, '코믹한건': 1894, '짜임새가': 1895, '허술하다': 1896, '1996년': 1897, '당시에는': 1898, '나라에': 1899, '로맨스가': 1900, '신현준의': 1901, '황장군': 1902, '괜찮네': 1903, '한석규의': 1904, '전성시대가': 1905, '열린': 1906, '이때': 1907, '한석규한테': 1908, '뿅': 1909, '갔었다': 1910, '재생하면': 1911, '괴물같은': 1912, '귀신같은': 1913, '흡입력': 1914, '댓글보고': 1915, '한번쯤볼만한': 1916, '영화인거같아서봤지만': 1917, '기가찬다': 1918, '이게무슨버킷리스트인가': 1919, '소원들어주기': 1920, '내가보기엔': 1921, '살자': 1922, '인거같다': 1923, '감동도없고': 1924, \"'버킷리스트'\": 1925, '란': 1926, '발톱에': 1927, '때만큼도': 1928, '못따라가는쓰레기영화': 1929, '완존실망': 1930, '이시간좀': 1931, '밝고긍정적인드라마보고싶어서': 1932, '보긴보는데': 1933, '오버하는연기들이거슬리네요': 1934, '연기인게너무표나요': 1935, '홍혜정역이그나마도후련기도하고시원하고': 1936, '나머진다들답답하네요': 1937, '낼월요일인데': 1938, '해피한것만보고싶네요': 1939, '정치인의': 1940, '정치범의': 1941, '상상을': 1942, '어렵기도': 1943, '전쟁에': 1944, '묘사가': 1945, '일본에서10주년': 1946, '극장판만드는데': 1947, '우리나라에선': 1948, '10주년으로': 1949, '재개봉하니이건': 1950, 'ㅄ': 1951, '한대희가': 1952, '개그콘서트본다고': 1953, '내전화끊음개그콘서트': 1954, '없애주세요': 1955, '한물': 1956, '간': 1957, '동서양': 1958, '배우의': 1959, '싸움판': 1960, '푸하하하': 1961, '안했지만': 1962, '역시나': 1963, '구만': 1964, '세계최초의': 1965, '반공': 1966, '애니매이션이라는': 1967, '역사적': 1968, '가치가': 1969, '감각적인': 1970, '시각으로': 1971, '사랑': 1972, '문학적이': 1973, '엄마는': 1974, '무고한': 1975, '지': 1976, '딸을': 1977, '감옥살이': 1978, '시켜시켜': 1979, '안돼요': 1980, '책을보세여': 1981, '미친겁니다': 1982, '이따위로': 1983, '만들어놓고': 1984, '화가': 1985, '날정도': 1986, '신나는': 1987, '흑인음악과': 1988, '아이스': 1989, '큐브': 1990, '뿐': 1991, '남는게': 1992, '돈이다': 1993, '시간은': 1994, '어쩔건데': 1995, '한마디뿐': 1996, \"'알리시아'\": 1997, '생생하게': 1998, '싶을': 1999, '낮다': 2000, '옥소리': 2001, '프로필': 2002, '사진에': 2003, '1점남기고': 2004, '갑니다': 2005, 'ㅋㅋㅋㅋㅋㅋㅋㅋㅋㅋㅋㅋㅋㅋ완전': 2006, '대박이다': 2007, '아우': 2008, '짜증나': 2009, '재밓당': 2010, '아진짜너무좋아요ㅜㅜ짱짱': 2011, '다시는': 2012, '안나오겠지': 2013, '시절을': 2014, '잘나타내주었던거같아요': 2015, '중간정도': 2016, '봤는데도': 2017, '대단하군요': 2018, '이적의': 2019, '액션영화가': 2020, '허나': 2021, '영화로서도': 2022, '실패작': 2023, '뭔가알수없는매력에빠져드는': 2024, '모녀를': 2025, '토막살해한': 2026, '살인자가': 2027, '부성애라니': 2028, '말이되나': 2029, '감동받은': 2030, '본인들이': 2031, '피해자가': 2032, '되도': 2033, '감동받았다고': 2034, '할수있을까': 2035, '묻고싶습니다': 2036, '구리지': 2037, '내눈이': 2038, 'ooo기명작이네요': 2039, '필름값이': 2040, '더럽게없다': 2041, '2점부터': 2042, '점수준것들': 2043, '매미': 2044, '또보고': 2045, '보죠': 2046, '재미있드만': 2047, '남주인공': 2048, '안습이네요': 2049, '혀짧은': 2050, '소리': 2051, '듣기도': 2052, '힘들었네요': 2053, '매니저역활분이': 2054, '남주인공하는게': 2055, '훨': 2056, '좋았겠다는': 2057, '들정도': 2058, '만': 2059, '3점이': 2060, '스릴러인데': 2061, '액션과': 2062, '스릴이': 2063, '엉망이구': 2064, '비추': 2065, 'ㅜ': 2066, 'ooo영화': 2067, '뭘전달하려는지모르겠네': 2068, '할머니는': 2069, '월래익숙한': 2070, 'ㄷㅔ': 2071, '나왔어': 2072, '모든게': 2073, '부족했다': 2074, '50': 2075, \"'쇼'하는\": 2076, '12년': 2077, '나질': 2078, '않지만': 2079, '진개가': 2080, '천카이거': 2081, '이름': 2082, '세': 2083, '자는': 2084, '기억해': 2085, '두었던': 2086, '정은지': 2087, '언니': 2088, '잘하구': 2089, '노래도': 2090, '잘부르시고': 2091, '마지막회': 2092, '웃으면서': 2093, '즐겁게': 2094, '트로트의': 2095, '망함': 2096, '아이의': 2097, '시선으로': 2098, '전쟁': 2099, '먹먹했다는': 2100, '안했는데': 2101, '여자애랑': 2102, '복순이랑': 2103, '다투는': 2104, '그건': 2105, '굳이': 2106, '됐다고': 2107, '생각함': 2108, '없애고': 2109, '어색해보였음': 2110, '연속극같은': 2111, '인터뷰할때': 2112, '지루해죽는줄알았음': 2113, '그냥저냥': 2114, '킬링타임용': 2115, '전미': 2116, '박스': 2117, '오피스1위': 2118, '몰아주기': 2119, '하는건가': 2120, '1위를': 2121, '옛날': 2122, '80': 2123, '90년대': 2124, '우뢰매수준의': 2125, '물폭탄싸움이네': 2126, '빔나가나': 2127, '물폭탄': 2128, '나가나': 2129, '다를게': 2130, '여자다보니': 2131, '기량이': 2132, '딸리네': 2133, '울': 2134, '었': 2135, '하나의': 2136, '개연성만': 2137, '허무하게': 2138, '버린다': 2139, '조디포스터의': 2140, '이쁜': 2141, '모습만': 2142, '굳굳': 2143, '개막장': 2144, '사랑이야기도': 2145, '아니예요': 2146, '이걸보고계신다면': 2147, '당신의': 2148, '시간과돈을': 2149, '아낀거예요': 2150, '본다면': 2151, '호구': 2152, '네놈을': 2153, '살려두기엔': 2154, '쌀이': 2155, '세기의': 2156, '명대사': 2157, '높다': 2158, '재미있지': 2159, '말만': 2160, '많음': 2161, '류의': 2162, '뒷받침이': 2163, '중요한데': 2164, '내용자체가': 2165, '여배우도': 2166, '매력': 2167, '이틀전에': 2168, '저스트고위드잇의': 2169, '애니스톤을': 2170, '실망했음': 2171, '맛깔': 2172, '시베리아인가': 2173, '거기가서': 2174, '훈련할때나오는': 2175, 'ost': 2176, '개작살': 2177, '질왜': 2178, '제목이': 2179, '야경꾼': 2180, '일지냐고': 2181, '10회가': 2182, '즉': 2183, '2달이': 2184, '앞에서': 2185, '누군가가': 2186, '하더만': 2187, '100부작이냐고': 2188, '그러다': 2189, '순간에': 2190, '모든걸': 2191, '훅진짜': 2192, '지존': 2193, '나이들수록': 2194, '이해가': 2195, '가는': 2196, '아역은': 2197, '추노에': 2198, '민폐언년': 2199, '외국판인줄': 2200, '초반만': 2201, '그럴싸한': 2202, '저급영화': 2203, '별루예요': 2204, '킁': 2205, '하기위해': 2206, '태어났고': 2207, '그로인해': 2208, '즐거움을': 2209, '연기파다': 2210, '수입': 2211, '금지': 2212, '시절에도': 2213, '테이프로': 2214, '돌려봤던': 2215, '불후의': 2216, '살인을': 2217, '소재로': 2218, '이토록': 2219, '살인에': 2220, '해석이': 2221, '재치있다': 2222, '대': 2223, '배우님들의': 2224, '10여년전': 2225, '모습도': 2226, '새롭웠고': 2227, '유쾌하고': 2228, '누미': 2229, '라파스': 2230, '신봉선': 2231, '닮아서': 2232, '재탕해라': 2233, '정말이지': 2234, '멋지다는': 2235, '이외엔': 2236, '98년에': 2237, '만들어졌는지': 2238, '의문': 2239, '당대': 2240, '지금봐도': 2241, '퀄에서': 2242, '결코': 2243, '떨어지지': 2244, '않아요': 2245, '티비로': 2246, '보고있는': 2247, '내가한심하다': 2248, '연예인': 2249, '재기의': 2250, '장': 2251, '드라마이다': 2252, '발로만든영화': 2253, '지진나서': 2254, '넘어지는데': 2255, '유유히': 2256, '걸어다니고': 2257, '발cg': 2258, '발시나리오': 2259, '뭐같음': 2260, '해야지': 2261, '끝나는것인가': 2262, '잊을': 2263, '안개낀': 2264, '워터루': 2265, '다리와': 2266, '마스코트': 2267, '곤사토시': 2268, '2010년': 2269, '안타깝게': 2270, '돌아가셔서': 2271, '먹먹합니다': 2272, '천재적인': 2273, '감독인데': 2274, '암으로': 2275, '가시다니': 2276, '이제와서': 2277, '대작': 2278, '많은생각을': 2279, '됐습니다': 2280, '예뼈지고': 2281, '맘은': 2282, '과하면': 2283, '독이겠네요': 2284, '츠무구만': 2285, '없어지면': 2286, '5개줄게': 2287, '어릴땐': 2288, '조폭영화로': 2289, '알다가': 2290, '나이가들수록': 2291, '인생이구나': 2292, '뭉클해지는': 2293, '살아가면': 2294, '와닿는게': 2295, '많아지네요': 2296, '세상은': 2297, '비정하지만': 2298, '비정함마져도': 2299, '따뜻해지는게': 2300, '친구라고': 2301, '비디오가': 2302, '있어서': 2303, '1997년도인줄모를정도로': 2304, '잘만들었습니다': 2305, '긴장감도있고': 2306, '처ㅝ주': 2307, '2009년에': 2308, '만들어진것치곤': 2309, '길어서': 2310, '다듬었으면': 2311, '소재도': 2312, '몰입감도': 2313, '기대이상': 2314, '매끄럽지': 2315, '부분도': 2316, '잘한듯': 2317, '철지난': 2318, '조폭': 2319, '코미디와': 2320, '뼈대': 2321, '가문의': 2322, '섞었지만': 2323, '박정아를': 2324, '비롯해': 2325, '민망한': 2326, '펼치고': 2327, '진행되는데': 2328, '없는게': 2329, '문제': 2330, '심심해서봤는데': 2331, '탑연기': 2332, '못할줄알았는데배우포스나고': 2333, '잘하군요': 2334, '고다미': 2335, '괜찮음': 2336, '지대짜증': 2337, '아빠랑': 2338, '민망해': 2339, '못주냐': 2340, '빠순이': 2341, 'ㅋㅋㅋㅋㅋㅋㅋ': 2342, '훈훈하긔': 2343, '재밋쎠': 2344, '스토리마저': 2345, '진부하다': 2346, '의도와는': 2347, '다르게': 2348, '불쾌한': 2349, '표현법': 2350, '줄리아로버츠': 2351, '귀여운연인은': 2352, '이거보다': 2353, '5년전꺼다': 2354, '신선하네': 2355, '예술가로써의': 2356, '인생과당시': 2357, '시대적': 2358, '상황을': 2359, '관객수가': 2360, '베테랑보다도': 2361, '류승완감독의': 2362, '역작이고': 2363, '강한악역이다': 2364, '한창': 2365, '핵펭귄이': 2366, '남북': 2367, '거짓평화로': 2368, '전국민을': 2369, '속이던때': 2370, '만들어진': 2371, '티비에서': 2372, '여자애': 2373, '한명이잘': 2374, '못해서몇명이죽는거야ㅋㅋ답도없다ㅋ': 2375, '성룡의': 2376, '헐리웃작': 2377, '최고지': 2378, '의도를': 2379, '알아차리지': 2380, '못했다': 2381, '하나님이가정을온전히만든다': 2382, '진리이신분이만든영화': 2383, '눈으로만보지말고마음으로봐라': 2384, '2편도': 2385, '흥미진진한데': 2386, '핀헤드가': 2387, '죽은게': 2388, '점이랄까': 2389, '국산': 2390, '코미디영화중에서': 2391, '신라의달밤이': 2392, '제일좋았음뭔가': 2393, '푸근하고': 2394, '따뜻함': 2395, '최악이다': 2396, '영화보다가': 2397, '잠오긴첨임': 2398, '지루해둑을뻔': 2399, '될고': 2400, '머하는': 2401, '끝을': 2402, '달려갈수록': 2403, '몰입도가': 2404, '높아진': 2405, '이번이': 2406, '처음이네요': 2407, '자신이': 2408, '의견을': 2409, '핑계삼아': 2410, '한듯': 2411, '살인은': 2412, '정당화하고': 2413, '정부탓이': 2414, '였다는': 2415, '사회탓이라는': 2416, '사실여부를': 2417, '알고왔던': 2418, '아더와': 2419, '안돼더라': 2420, '원탁기사중': 2421, '검술': 2422, '최고수는': 2423, '랜슬롯으로': 2424, '트리스탄보다': 2425, '검술은': 2426, '마치': 2427, '중국검술': 2428, '흉내낸거': 2429, '같은게': 2430, '란슬롯이': 2431, '실제는': 2432, '쌍검였나': 2433, '안대': 2434, '하튼': 2435, 'ㅋ기네비어역도': 2436, '미스': 2437, '대한민국': 2438, '수준의': 2439, '평균치를': 2440, '하락시키기에': 2441, '영상물': 2442, '없나': 2443, '종착역': 2444, '인생의': 2445, '대유': 2446, '트레비스는': 2447, '단지': 2448, '흘러간다': 2449, '돈과': 2450, '네러티브는': 2451, '예쁜': 2452, '동영상': 2453, '취미로': 2454, '영화만드는': 2455, '이걸로': 2456, '끝나길': 2457, '올인하길': 2458, '하려는': 2459, '학위위조성범죄자': 2460, '문제자들만': 2461, '모아서': 2462, '영화찍음': 2463, '왜그랬으까': 2464, '제작비': 2465, '아끼려구': 2466, '패자부활전': 2467, '하냐': 2468, '완전재미있어요': 2469, '애들도보기에알맞는듯': 2470, '잔인하기도': 2471, '무서웠어요ㅠ탑은': 2472, '멋있더라구요': 2473, '기분만': 2474, '나쁘고': 2475, '쩝': 2476, '깔끔한': 2477, '강한': 2478, '메세지': 2479, '전달': 2480, '뜻밖의': 2481, '참좋은': 2482, '최고야': 2483, '그랜드': 2484, '부다페스트': 2485, '호텔과': 2486, '같네': 2487, '캐스팅이': 2488, '빨리감기해서': 2489, '투자비는': 2490, '영화사': 2491, '망했네': 2492, '뭐가': 2493, '재밌다는건지': 2494, '모르겠네요': 2495, '아이언맨': 2496, '시리즈의': 2497, '개그도': 2498, '뛰어넘는다': 2499, '웃어야할지도': 2500, '뜬금없는': 2501, '히어로놀이는': 2502, '높은지': 2503, '모르겠습니다': 2504, '극을': 2505, '끌어가는': 2506, '중심있는': 2507, '캐릭터가': 2508, '있어야': 2509, '하는지': 2510, '알게': 2511, '된영화': 2512, '살인마와': 2513, '대적하는': 2514, '사건을': 2515, '해결하는': 2516, '인물이': 2517, '탈출': 2518, '나서': 2519, '잡히고': 2520, '죽임을': 2521, '당하는지': 2522, '이해할수가': 2523, '조달환': 2524, '정유미는': 2525, '짜': 2526, '리얼': 2527, '나면': 2528, '찝찝해지는': 2529, '절대보지마': 2530, '비록': 2531, '로봇이지만': 2532, '점차': 2533, '자신에': 2534, '고민하면서': 2535, '되어': 2536, '죽는': 2537, '앤드류의': 2538, '모습내가': 2539, '선사한': 2540, '영구와땡칠이시리즈는': 2541, '레전드영화다': 2542, '초딩': 2543, '친척형이': 2544, '비디오로': 2545, '빌려와서': 2546, '난다': 2547, '재밌더라': 2548, '땐': 2549, '없었을까': 2550, '98년이면': 2551, '2학년': 2552, '때니까': 2553, '사촌형이': 2554, '최신': 2555, '비디오를': 2556, '빌려온거': 2557, '지루할만큼': 2558, '고요하고': 2559, '서글픈': 2560, '시선속에': 2561, '머문': 2562, '성찰과': 2563, '사색': 2564, '펑펑울었습니다': 2565, '너무슬픈거같아요': 2566, 'ㅜㅜㅜ': 2567, '혀짧은가': 2568, '내기하면': 2569, '박빙일것같다': 2570, '애': 2571, '딸린': 2572, '심은하의': 2573, '눈부신': 2574, '미모': 2575, '영상': 2576, '주제가': 2577, '3기': 2578, '나오겠죠': 2579, '안풀린': 2580, '이야기들이': 2581, '많은데': 2582, '극장판은': 2583, '시간가는줄도': 2584, '싸패': 2585, '개노잼': 2586, '부족하고': 2587, '다이상함': 2588, '답없네': 2589, '절망과': 2590, '속에서도': 2591, '챙겨야만하는': 2592, '잔인함을': 2593, '거부한': 2594, '비참함에': 2595, '대하여': 2596, '페이스': 2597, '허거': 2598, '같음ㅋㅋㅋㅋㅋ': 2599, '퇴색되지': 2600, '맛이': 2601, '어마어마한': 2602, '멜로': 2603, '영화에요': 2604, '소피마르소와의': 2605, '말같지도': 2606, '망침': 2607, '물론': 2608, '역사에는': 2609, '똥같은': 2610, '없었음': 2611, '죽을때': 2612, '공주는': 2613, '10살이었음': 2614, '만약': 2615, '미국인과': 2616, '맞서': 2617, '아메리칸': 2618, '원주민의': 2619, '자유': 2620, '투쟁기였으면': 2621, '아카데미상': 2622, '받았음': 2623, '훈훈하고': 2624, '부정을': 2625, '느낄수잇엇음': 2626, '잼': 2627, '어딘가에서': 2628, '일어나고': 2629, '일일것같은': 2630, '강하다': 2631, '우베볼이': 2632, '누군가': 2633, '따라': 2634, '바라는것': 2635, '정장': 2636, '월가': 2637, '애들이': 2638, '웃겠지': 2639, '림프비즈킷의': 2640, 'ost만': 2641, '개봉': 2642, '영화내내': 2643, '쥑이고': 2644, '싶었던ㅋㅋ': 2645, '견자단': 2646, '엽문': 2647, '시리즈는': 2648, '계속된다': 2649, '오월의': 2650, '보고보고': 2651, '또봐도': 2652, '영화순위': 2653, '1순위다하': 2654, '늦은': 2655, '밤이라': 2656, '야릇한': 2657, '들었다': 2658, '흥미롭게': 2659, '여배우들': 2660, '이쁘네요': 2661, '반했음': 2662, '그래픽': 2663, '머': 2664, '건질게': 2665, '게임으로나': 2666, '즐기셔': 2667, '레전드다': 2668, '평론가': 2669, '명치를': 2670, '때리고': 2671, '재미없을거라': 2672, '생각했는데': 2673, '가장큰': 2674, '본인이': 2675, '깨달고': 2676, '싶으면': 2677, '보세요': 2678, '바꿔줄겁니다': 2679, '다소': 2680, '부분들이': 2681, '영화스러운': 2682, '극적': 2683, '로맨스보단': 2684, '사실적으로': 2685, '마음과': 2686, '시선을': 2687, '싶었기': 2688, '때문': 2689, '아닐까': 2690, '영화평론가는': 2691, '한번보고마는': 2692, '울림이있는영화': 2693, '효느': 2694, '재밌다ㅋㅋㅋ': 2695, '재탕중': 2696, '4대강': 2697, '간첩색휘들': 2698, '애쓴다': 2699, '다니냐': 2700, '검증된': 2701, '애들좀': 2702, '출현시켜라이탈리아': 2703, '특집': 2704, '장난하냐': 2705, '정말짜증나네': 2706, '절때보지말껄욕나옴': 2707, '슬프다': 2708, '환경속에서': 2709, '만화라도': 2710, '만든사람들에게': 2711, '경의를': 2712, 'what': 2713, 'is': 2714, 'this': 2715, 'movie': 2716, 'for': 2717, '길게': 2718, '남는영화': 2719, '이이경을': 2720, '사랑하게하는': 2721, '이딴게': 2722, '영화라니': 2723, '짜가인가': 2724, '이게뭐여': 2725, '뭔': 2726, '10자': 2727, '가나다라': 2728, '짱이다ㅎ': 2729, '혼자자식키우며살아온엄마': 2730, '그의아들': 2731, '힘들게살아오면서': 2732, '서로예민해지고날카로워질때도잇엇지만': 2733, '가족ㅎ': 2734, '아빠라는': 2735, '생각보다최악이아니고': 2736, '여자는': 2737, '요구하면도와준다는': 2738, '그말이': 2739, '왠지짠하게와닿는다ㅎ': 2740, '나혼자괜히끙끙거리지말자ㅡ이런단순한생각이든다': 2741, 'cg도': 2742, '한마디로': 2743, '번지수': 2744, '잃고': 2745, '갈팡질팡': 2746, 'yesterday': 2747, 'when': 2748, 'i': 2749, 'was': 2750, 'young': 2751, '사랑스럽고': 2752, '좋앗어요': 2753, '최고의영화': 2754, '13년전': 2755, '공효진': 2756, '코평수줄이고': 2757, '콧대높였네': 2758, '못생겼어': 2759, 'ㅎㅎ호': 2760, '권상우는': 2761, '화산고때': 2762, '왼쪽': 2763, '팔자': 2764, '심하더니': 2765, '사라지고': 2766, '잘생겨졌고': 2767, '장혁은': 2768, '멋지게': 2769, '늙었네': 2770, 'ㅋㅋㅋ다시보니': 2771, '말랑말랑': 2772, '열심히': 2773, '합시다': 2774, '안하면': 2775, '저런': 2776, 'oo인생': 2777, '삽니다': 2778, '전쟁이후의': 2779, '아픔을': 2780, '그린영화마지막': 2781, '장면이': 2782, '압권유대인줄': 2783, '여기나': 2784, '필요하니동행했던': 2785, '토마스에게': 2786, '더러운유태인이라고': 2787, '말한장면': 2788, '유대인인척한': 2789, '사실': 2790, '유대인가족사진을': 2791, '미묘한': 2792, '감정들을': 2793, '사슴인형을': 2794, '밟아까며': 2795, '대변한다므찐영화': 2796, '동화다운': 2797, '동화를': 2798, '기분이다': 2799, '변태': 2800, '샤넬의': 2801, '인생과': 2802, '성공': 2803, '샤넬과': 2804, '그의': 2805, '남자들': 2806, '십수년의': 2807, '세월을': 2808, '순간처럼': 2809, '순간을': 2810, '영원한': 2811, '기억으로': 2812, '남기는': 2813, '시간의': 2814, '상대성': 2815, '이론에': 2816, '관하여': 2817, '니노의': 2818, '이중인격연기': 2819, '두근거리네요♥': 2820, '울컥핫': 2821, '먼가': 2822, '감동적임': 2823, '열정만으로': 2824, '돌진하고': 2825, '싶게': 2826, '연기력에서': 2827, '유혹하지': 2828, '못한다': 2829, '난감하다': 2830, '깜짝': 2831, '놀라게': 2832, '센세이션도': 2833, '아무리': 2834, '노력했어도': 2835, \"'차이나타운'을\": 2836, '대놓고': 2837, '베낀': 2838, '용서가': 2839, '됨': 2840, '신화': 2841, '에릭': 2842, '힘내요': 2843, '엔딩이': 2844, '슬퍼요': 2845, '영화관에': 2846, '가서': 2847, '좋았을걸': 2848, '어린시절로': 2849, '돌아간': 2850, '느낌이들어': 2851, '만감이': 2852, '이민정씨와': 2853, '신하균씨': 2854, '교양시간에': 2855, '충격먹은': 2856, '슬펐다': 2857, '빨갱이라': 2858, '소리지르던': 2859, '단어를': 2860, '말한건': 2861, '선생님에대한': 2862, '그리움': 2863, '미안함': 2864, '슬픔이었을까': 2865, '울먹인거': 2866, '같기도': 2867, '잘봤습니다': 2868, '안무서워': 2869, '귀신이': 2870, '애기라': 2871, '그런건지': 2872, '깜놀하기만할뿐이야': 2873, '뭐하자는건쥐': 2874, '모든것이': 2875, '어설프고': 2876, '일상의': 2877, '힘겨움을': 2878, '그리는': 2879, '현실감도': 2880, '남자배우들': 2881, '미스캐스팅': 2882, '조은숙': 2883, '김유미': 2884, '연기땜에': 2885, '1차': 2886, '세계대전': 2887, '中': 2888, '피고': 2889, '청춘들': 2890, '무기와': 2891, '기술력은': 2892, '20t세기': 2893, '일으킨': 2894, '정치인들과': 2895, '지휘하는': 2896, '고위': 2897, '장교들의': 2898, '생각은': 2899, '19세기': 2900, '책과는': 2901, '분명히': 2902, '다른시선': 2903, '괜찮네요': 2904, '봤지': 2905, '한예슬이랑': 2906, '김태희': 2907, '적월도': 2908, '쌤': 2909, '6점때가': 2910, '더러운': 2911, '장면만빼면': 2912, '7': 2913, '5정도다': 2914, '이연서님': 2915, '신인답지': 2916, '다음': 2917, '작품에서': 2918, '뵙길': 2919, '바랍니다': 2920, '반전이': 2921, '전부가': 2922, '아닌영화': 2923, '번을': 2924, '피해자만': 2925, '피의자는': 2926, '개답답': 2927, '먼주인공이': 2928, '지혼자': 2929, '복수도': 2930, '주변에서': 2931, '해주길바라는': 2932, '민폐녀': 2933, '끌려다니고ㅡㅡ': 2934, '소재': 2935, '화끈한': 2936, '스피디한': 2937, '3박자는': 2938, '디테일이었다': 2939, '시가전의': 2940, '퀄리티는': 2941, '완벽했고': 2942, '작중에': 2943, '한석규는': 2944, '누군가를': 2945, '사랑하는': 2946, '디테일이': 2947, '대단했다': 2948, '얘기의': 2949, '완급조절이': 2950, '탕웨이찡': 2951, '그녀': 2952, '10점주기에': 2953, '충분하다': 2954, '대박쳤던': 2955, '괜찮다': 2956, '억지스러운': 2957, '1편': 2958, '구성등': 2959, '2편은': 2960, '안나오는게': 2961, '나았다': 2962, '영화보는': 2963, '안타깝다': 2964, 'ㅋㅋㅋㅋㅋㅋㅋㅋ': 2965, '반도': 2966, '높은': 2967, '이유를': 2968, '모르겠어': 2969, '평생': 2970, '기억할만한': 2971, '정상적인': 2972, '상황': 2973, '생각났다': 2974, '많을': 2975, '생각하게': 2976, '짐승으로': 2977, '보이고': 2978, '아수라가': 2979, '사람같아': 2980, '보였습니다': 2981, '공통점': 2982, '스포츠영화': 2983, '군대영화': 2984, '자막': 2985, '로버트': 2986, '광기의': 2987, '복수': 2988, '만끽할수': 2989, '스릴러물': 2990, '감동감동감동의': 2991, '도가니탕': 2992, '세계': 2993, '어디서나': 2994, '정치': 2995, '경제': 2996, '문화': 2997, '사회': 2998, '전반에': 2999, '걸쳐': 3000, '변화가': 3001, '절실한': 3002, '상황이지만': 3003, '변화를': 3004, '가져올': 3005, '없다는게': 3006, '함정인': 3007, '귀여운벤지': 3008, '똑똑한': 3009, '벤지': 3010, '압삘럽': 3011, '개봉날': 3012, '돈아까워서': 3013, '잔잔하게': 3014, '숨막히는': 3015, '연출이': 3016, '숨어있는': 3017, '복선': 3018, '치밀하다': 3019, '싶을정도로': 3020, '섬세한': 3021, '감정표현': 3022, '거기에': 3023, '김영애의': 3024, '연기까지': 3025, 'once': 3026, 'upon': 3027, 'dream': 3028, '어느것': 3029, '갖추지': 3030, '억지': 3031, '중국': 3032, '신파': 3033, '경극': 3034, '거부하는': 3035, '몸짓으로': 3036, '하늘을': 3037, '그만빙빙돌리고': 3038, '밝혀지게하면안되나요': 3039, '보려다아직도질질끌어짜증나': 3040, '안봄': 3041, '여기서또사고터져': 3042, '또질질끌면진짜짜증날듯': 3043, '빨리빨리밝혀질건밝혀지면서반전이있든지': 3044, '작가님': 3045, '이드라마사랑하고잼있는데': 3046, '넘끌어짜증나요': 3047, '졸면서': 3048, '평정이': 3049, '높은겨': 3050, '별거': 3051, '감수성': 3052, '영화냐': 3053, '기대하지': 3054, '않았던': 3055, '아름다움이': 3056, '밀려온다': 3057, '괜찮다았던': 3058, '한번만더': 3059, '상영하면': 3060, '용서하지': 3061, '않는다지금': 3062, '영화보면서': 3063, '카톡하고잇음': 3064, '살아는': 3065, '생동감을': 3066, '잃은': 3067, '박물관': 3068, '노땅들의': 3069, '한심한': 3070, '추억미화': 3071, '어릴적에': 3072, '눈물흘리며': 3073, '웃던기억에': 3074, '간신히': 3075, '찾아': 3076, '인종차별과': 3077, '유괴라는': 3078, '두주제의': 3079, '불협화음': 3080, '고명환이': 3081, '쩌냐': 3082, '돈이': 3083, '쓴거냐': 3084, '후자라면': 3085, '볼가치가': 3086, '없는영화': 3087, '속편에서는주인공이전작처럼앨빈의밴드였으면좋았을것같다': 3088, '캐릭터추가로더이상해진듯': 3089, '보긴': 3090, '2004년': 3091, '올해의': 3092, '결투씬': 3093, '폭풍눈물에': 3094, '팝핀현준': 3095, '할아버지': 3096, 'ㄵ': 3097, '5점대asfgsdlgkbjsjvb': 3098, '상술최고': 3099, '선거술': 3100, '버리지': 3101, '맙시다': 3102, '글쎄': 3103, '나와는': 3104, '성향의': 3105, 'ost는': 3106, '들을': 3107, '만함': 3108, '즐': 3109, '막장도': 3110, '재미가있어야': 3111, '짜증만': 3112, '남남녀주인공이': 3113, '어울리면': 3114, '참고보겠는데': 3115, '안어울리고웬만하면': 3116, '내가본것중': 3117, '최악이였음': 3118, '무튼': 3119, '주인공들부터시작해서': 3120, '성격': 3121, '이상함': 3122, '조기종영이': 3123, '답이다': 3124, '줄리델피는': 3125, '들수록': 3126, '일드': 3127, '쵝오': 3128, '0': 3129, '글쎄요': 3130, '뭐랄까': 3131, '제목을': 3132, '잘못': 3133, '착각한': 3134, '잘못이랄까': 3135, '기독교영화네요': 3136, '기대했는데': 3137, '실망입니다': 3138, '영화도': 3139, '엉성해요': 3140, '책으로': 3141, '읽는게': 3142, '절절하게': 3143, '다가온다': 3144, '비약하고': 3145, '삭제해서': 3146, '행간을': 3147, '잃어버렸다': 3148, '책에서': 3149, '꽉': 3150, '찼었던': 3151, '느낌과': 3152, '반대로': 3153, '엉성하다': 3154, '스킨헤드성님들이': 3155, '싫어합니다': 3156, '자동차': 3157, '매니아인': 3158, '나의': 3159, '이하': 3160, '속았다': 3161, '인형': 3162, '절대안삼': 3163, '정체성은': 3164, '사치인가': 3165, '나이먹은아저씨들이': 3166, '일찐놀이하는영화': 3167, '개역겹다': 3168, '알바풀었냐': 3169, '개진짜': 3170, '개제로': 3171, '남극은': 3172, '왔는데': 3173, '길을': 3174, '잃었다': 3175, '오르지': 3176, '못할': 3177, '곳은': 3178, '오르는': 3179, '귀엽고': 3180, '신남': 3181, '개쩐다': 3182, '엑소시스트를': 3183, '능가하는': 3184, '공포물': 3185, '같지만': 3186, '실상은': 3187, '처키보다': 3188, '못한영화': 3189, '는': 3190, '개뿔': 3191, '존11나': 3192, '재미없어': 3193, '이제보니': 3194, 'mbc가': 3195, '사극너무못만드네': 3196, '재방보는데': 3197, '저조했을까': 3198, '귀요미': 3199, '저예산영화인': 3200, '관계로': 3201, '스펙타클은': 3202, '부족하지만': 3203, '한국영화계에': 3204, '바람': 3205, '희망': 3206, '다크호스가': 3207, '될것임을': 3208, '믿습니다': 3209, '응원부탁드리고': 3210, '벌써부터': 3211, '일찍': 3212, '관람해주신분들': 3213, 'new': 3214, 'hope': 3215, '평점이왜이렇게낮지': 3216, '또다운받고있다': 3217, '3번째': 3218, '정말잼있던데': 3219, '끝에': 3220, '견자단하고': 3221, '대빵하고싸울땐': 3222, '가슴이뜨거워졌다': 3223, '난정말로': 3224, '잼있게봤다': 3225, '최근댓글이니': 3226, '알바아닌줄은': 3227, '알거다': 3228, '낮을수가': 3229, '블랙코미디': 3230, '조롱': 3231, '대상이': 3232, '우린데': 3233, '드러워서': 3234, '주겠냐': 3235, '성기': 3236, '노출': 3237, '등으로': 3238, '어그로나': 3239, '끌고서는': 3240, '촌동네': 3241, '조폭삼류영화': 3242, '가끔씩': 3243, '툭툭들이미는': 3244, '유머도': 3245, '영쌩뚱맞구': 3246, '촌스럽기까지하다': 3247, '만들기': 3248, '스타뎀': 3249, '형님의': 3250, '얼굴에': 3251, '먹칠을': 3252, '한영화': 3253, '남자몸매보면': 3254, '좋나': 3255, '한개': 3256, '주고싶은': 3257, '10류': 3258, 'ㅋㅋ심형래': 3259, '아저씨와': 3260, '동급감독인듯': 3261, '꼽히는': 3262, '조잡하고': 3263, '유치한': 3264, '3류': 3265, 'b급': 3266, '깊이감도': 3267, '전체적으로': 3268, '루즈하다': 3269, '민국이나': 3270, '지아는': 3271, '더이상시키면안되겠네': 3272, '얼마나중요한데': 3273, '이런애들을시켜데뷔도안한애들을': 3274, '연예인이해도': 3275, '뭐라고하는판에': 3276, '없어요': 3277, '쇼를해라': 3278, '쇼': 3279, '중심이': 3280, '약하니': 3281, '언저리': 3282, '무리한': 3283, '승부수를': 3284, '띄운다': 3285, '주연배우들의': 3286, '이득': 3287, '키기키기키기키기키기': 3288, '박얘쁜': 3289, '빠수니': 3290, '죄다': 3291, '없어져버려': 3292, '짜증나는': 3293, '불은': 3294, '보이지도': 3295, '죽어나갈': 3296, '때는': 3297, '엄청난': 3298, '웅장한': 3299, '음악만': 3300, '나오고': 3301, '설정들': 3302, '내코끼리내놔가': 3303, '더재밌음ㅋ': 3304, '코믹은': 3305, '코믹으로': 3306, '패러디하고': 3307, '카메오들보는': 3308, '유치짬뽕이네': 3309, '초등3학년': 3310, '자녀': 3311, '가족분께': 3312, '추천함': 3313, '후속': 3314, '지금이라도': 3315, '한국애니': 3316, '살려보자': 3317, 'ebs를': 3318, '통해': 3319, '요': 3320, '근래': 3321, '최고인듯': 3322, '기대않고': 3323, '찰지게': 3324, '토종느와르네': 3325, '흥미진진하다': 3326, '성인영화를': 3327, '가족영화로': 3328, '만드려하는': 3329, '멍청한': 3330, '안들어서': 3331, '일본인': 3332, '어색한': 3333, '못해': 3334, '전반적으로': 3335, '가비의향과맛처럼': 3336, '씁쓸함이': 3337, '느껴집니다': 3338, '장윤현감독님께서': 3339, '커피부분에관해': 3340, '신경을': 3341, '쓰시다보니': 3342, '연출부분에있어서': 3343, '미흡하지않았나싶고': 3344, '배우들연기력은': 3345, '괜찮았습니다': 3346, '전작보다': 3347, '배우': 3348, '세련됨': 3349, '진지하고': 3350, '경쾌하고': 3351, '만들었다': 3352, '유럽작품상': 3353, '탈만한': 3354, '유럽에': 3355, '중요한': 3356, '픽션': 3357, '풍정정은': 3358, '어케된거지ㅋㅋㅋ과도한': 3359, '압축으로': 3360, '개연성없지만': 3361, '호화로워서': 3362, '구성좋다는분들': 3363, 'ㅋㅋ아마': 3364, '같이영화보고': 3365, '님들이': 3366, '좋다고': 3367, '재밌다하면': 3368, '같이본': 3369, '친구들은': 3370, '이해하지': 3371, '못할겁니다': 3372, 'ㅋㅋ진짜': 3373, '최저': 3374, '행동': 3375, '개연성없음캐릭간의': 3376, '이해관계': 3377, 'ㅋㅋㅋcia갘ㅋㅋ이렇게': 3378, '허접하게': 3379, '표현된': 3380, '간만이라능ㅋ': 3381, '이젠': 3382, '막돼먹은': 3383, '스토리텔링': 3384, '로맨스': 3385, '봤을때': 3386, '기절할': 3387, '같았어': 3388, 'ㅜㅜㅜㅜ': 3389, '취향적': 3390, '이고': 3391, '우울한': 3392, '날려버리고': 3393, '슬픈내용을': 3394, '본뒤': 3395, '정화시켜주네요': 3396, '영상미가': 3397, '끙': 3398, '보지말아야돼': 3399, '좋아서': 3400, '삼점준다': 3401, '제작된': 3402, '공포도': 3403, '스릴러도': 3404, '본분을': 3405, '잊은': 3406, '드라마아닌': 3407, '드라마같은': 3408, '느낌이다': 3409, '연출은': 3410, '괜찮았다': 3411, '다만': 3412, '시작부터': 3413, '지루할': 3414, '뿐이다': 3415, '장면들은': 3416, '유치했다': 3417, '남자인데': 3418, '딸': 3419, '낳으면': 3420, '잘해줘야지': 3421, '영웅은': 3422, '원하기': 3423, '만들어지는': 3424, '또다른': 3425, '희생자다': 3426, '평작': 3427, '욕까진안나오고': 3428, '안본': 3429, '내머리를': 3430, '깨버리고싶네요': 3431, '제인생': 3432, '영홥니다': 3433, '키이라작품': 3434, '최고일듯': 3435, '알럽키이라♡♡': 3436, '중고생들의': 3437, '마마추어': 3438, '포르노': 3439, '물이냐': 3440, '동시상영물이냐': 3441, '넌': 3442, '정체가': 3443, '모냐': 3444, '말로': 3445, '설명할': 3446, '유치함이다': 3447, '필름이': 3448, '이승연의': 3449, '강렬함이': 3450, '홍경인은': 3451, '불쌍하게': 3452, \"'드릴브라'\": 3453, '뿜었다': 3454, '영화가아닌': 3455, '98': 3456, '영화감동이': 3457, '있다길래': 3458, '다봤는데': 3459, '느끼는건': 3460, '계몽영화의': 3461, '한계를': 3462, '고스란이': 3463, '답습한다': 3464, '우와': 3465, '통쾌하게': 3466, '웃었네요': 3467, '기대됩니다': 3468, '청춘에는': 3469, '마침표가': 3470, '세얼간이': 3471, '아줌마': 3472, '본건데': 3473, '반전을': 3474, '주고싶었나': 3475, '본데': 3476, '없구': 3477, '뭐이런': 3478, '소재에': 3479, '만족할': 3480, '심혜진이': 3481, '겨우': 3482, '저정도라니': 3483, '실망이다': 3484, '아들놈은': 3485, '아빠한테': 3486, '미안한': 3487, '메시지도': 3488, '모호하고': 3489, '짜임새': 3490, '창업을': 3491, '꿈꾸는가': 3492, '아이템이': 3493, '사업을': 3494, '하려하는가': 3495, '그렇다면': 3496, '기를': 3497, '보기바란다': 3498, '멀고': 3499, '험한': 3500, '여정에': 3501, '스승이': 3502, '될것이요': 3503, '지침서가': 3504, '될것이다': 3505, '단념에': 3506, '될지도': 3507, '박장대소하며': 3508, '독립영활세': 3509, '★': 3510, '슬픈액션영화치고는실망이크다부자간의배신과원망으로끝나는것이너무허무하다': 3511, 'ebs': 3512, '명화에서': 3513, '이거보고': 3514, '움': 3515, '진짜감동적': 3516, '낰였다': 3517, '프리미엄ㅡㅡ': 3518, '인간적인': 3519, '면이': 3520, '들어서': 3521, '2점줬다': 3522, '이선균': 3523, '정재영': 3524, '김상중': 3525, '연기파배우들': 3526, '불러노코': 3527, '찍냐ㅡㅡ': 3528, '영화보는데': 3529, '계쇠': 3530, '괴로웠다ㅡㅡ': 3531, '따뜻하고': 3532, 'c급영화도': 3533, '일점도': 3534, '네이버는': 3535, '마이너스': 3536, '점수도': 3537, '달라': 3538, '스토리의': 3539, '부진은': 3540, '액션의': 3541, '재미까지': 3542, '반감시킨다': 3543, 'ㅡ낄수ㅣㅆ느덕을': 3544, '영화화함': 3545, '오락가락': 3546, '말하고자하는게': 3547, '감독자기만의': 3548, '세계에': 3549, '빠져': 3550, '만든것같은': 3551, '왠지모를': 3552, '주는영화이다': 3553, '전주영화제에서봤었는데넘늦게개봉한듯': 3554, '종교와업에대해한번더생각할수있게만든영화': 3555, '저예산으로만들었으나감독의노력이느껴져큰박수를보내고싶다': 3556, '웃었습니다': 3557, '상처받으면': 3558, '치유될수': 3559, '드는': 3560, '본영화중': 3561, '쓰디쓴아픔을': 3562, '느끼게해준': 3563, '퍼스트': 3564, '무슨평가가': 3565, '필요한가': 3566, '탑': 3567, '자신의삶에대해': 3568, '다시한번': 3569, '생각하게하는영화': 3570, '알바놈들': 3571, '양심도': 3572, '없냐': 3573, '멀보고': 3574, '십점주는거냐': 3575, '90년도로': 3576, '돌아가게': 3577, '해준다는': 3578, '끼워': 3579, '맞추기': 3580, '개쩔던데': 3581, '인간들': 3582, '불가': 3583, '개랑': 3584, '무슨짓을': 3585, '했길래': 3586, '후세가': 3587, '태어나': 3588, '일본놈들': 3589, '이상하네': 3590, '보고나면': 3591, '흐뭇해진다': 3592, '한국이': 3593, '잘만든다는': 3594, '걸': 3595, '느끼게': 3596, '되니까': 3597, '지들이': 3598, '뭔데': 3599, '대우를': 3600, '까냐': 3601, '짠하고': 3602, '매력입니다': 3603, '내머릿속지우개': 3604, '이후에': 3605, '슬픈영화였어요': 3606, '눈물폭발': 3607, '오늘이후에도': 3608, '또보고싶네요': 3609, '월요커플': 3610, '짱짱': 3611, '덕분에': 3612, '있습니당': 3613, '007': 3614, '터키특집': 3615, '스키추격이': 3616, '남고': 3617, '소피의': 3618, '소피에': 3619, '의한': 3620, '소피를': 3621, '로저무어': 3622, '시절보다': 3623, '떨어진다': 3624, '수많은': 3625, '여기에서': 3626, '내평생': 3627, '건너편': 3628, '세계를': 3629, '엿본듯한': 3630, '추천해요': 3631, '사기': 3632, '현실적이어서': 3633, '심각한데': 3634, '빵빵': 3635, '터지는': 3636, '화성남': 3637, '금성녀': 3638, '슈발': 3639, '지는': 3640, '내리면서': 3641, '본전생각에': 3642, '담배': 3643, '피는': 3644, '남편': 3645, '머가마술이라는거야': 3646, '나죽기전에외계인만나볼수나있을지': 3647, '빨리좀': 3648, '끝나라': 3649, '으이그': 3650, '처음엔재밌는줄알았는데이게뭐야': 3651, '이리재미없다': 3652, '극에': 3653, '몰입안되는': 3654, '이어붙이기식': 3655, '진행': 3656, '연출력이': 3657, '형편없음': 3658, '써놨듯이': 3659, '막장임': 3660, '무서운': 3661, '수도승이': 3662, '물에': 3663, '쉽게': 3664, '떠내려가네': 3665, '이게왜': 3666, '주온보다': 3667, '평점이높은지': 3668, '이해가안간다': 3669, '맨처음': 3670, '여배우가': 3671, '물대포쏠때부터': 3672, '웃겻다': 3673, '더무섭다': 3674, '영화상영시간내내': 3675, '포스터만보여줘도': 3676, '충분히지린다': 3677, '신기하다': 3678, '안나와': 3679, '배우들을': 3680, '데리고': 3681, '작품의': 3682, '부족함': 3683, '5점대라니': 3684, '근래에': 3685, '히어로무비': 3686, '고스트라이더에게': 3687, '걸리면': 3688, '스치면': 3689, '사망인거에요': 3690, '묵직하게': 3691, '시작해서': 3692, '우습게': 3693, '전개가엉성하고지루할정도로': 3694, '재미가없슴': 3695, '돈뭉치로': 3696, '싸대기': 3697, '명장면이다ㅋㅋ': 3698, '2고고하자': 3699, '너무일찍슬픔을알게된제제가안쓰럽다': 3700, '책으로읽고도눈물이났는데': 3701, '영화도마찬가지다': 3702, '어린나이의제제는슬픔을너무일찍알아버렸다': 3703, '비디오마저': 3704, '돈주고': 3705, '말그대로': 3706, '뚝방에서': 3707, '볼영화': 3708, '다되가는데': 3709, '아련하고': 3710, '애틋한': 3711, '기억': 3712, '감독ㅡㅡ다신영화찍지마라': 3713, '육감적인': 3714, '섹시한': 3715, '여인들의': 3716, '존재': 3717, '첫': 3718, '도입부': 3719, '카메라': 3720, '각도라든지': 3721, '화질이라든지': 3722, '구림': 3723, '아닌줄': 3724, '알았음': 3725, '영화란': 3726, '볼때당시': 3727, '잼있다': 3728, '두고두고': 3729, '기억나고생각나고': 3730, '아닐런지요': 3731, '박사아들': 3732, '정시현': 3733, '멋져요': 3734, '1편이': 3735, '너무좋아서': 3736, '너무묻힌다': 3737, '별로던데': 3738, '번뜩이는': 3739, '아이디어': 3740, '아기자기한': 3741, '돋보이는': 3742, '우아': 3743, '새벽에보니까': 3744, '무섭네': 3745, '미스터리와에로스와': 3746, '스릴러를': 3747, '겸비한': 3748, '짧지만': 3749, '윤계상': 3750, '능청연기': 3751, '좋구': 3752, '잘됬으면': 3753, '했네요': 3754, '에린이': 3755, '타던차': 3756, '현대자동차': 3757, '프레스토': 3758, '네요': 3759, '추억이세록세록': 3760, '남들이': 3761, '영화라고도': 3762, '액션용으로': 3763, '정도': 3764, '점수는': 3765, '나와야된다': 3766, '효과음이': 3767, '기가막혔던': 3768, '이상은': 3769, '되야되는거같다': 3770, '난강혜정이': 3771, '일본가서': 3772, '찍은건가': 3773, '했네ㅋㅋ닮은것같다는': 3774, '뿐이고': 3775, '좋아한다면': 3776, '봐야할': 3777, '아님ㅋㅋㅋㅋㅋ액션영화좋아해서': 3778, '액션영화만': 3779, '다운받아서': 3780, '꾸준히': 3781, '벌써': 3782, '몇년인': 3783, '사람임': 3784, '진짴ㅋㅋㅋㅋㅋㅋ아무리': 3785, '줘도': 3786, '100점': 3787, '만점에': 3788, 'ㅡㅡ돈주고봤는데너무아깝다진짜ㅜㅜ그리고대체': 3789, '13구역': 3790, '타이틀을': 3791, '달고나왔는지': 3792, '먹먹하다': 3793, '뷰욕을': 3794, '알게됐을까': 3795, '좋겠다': 3796, '끝나고': 3797, '불쾌했다': 3798, '중년의': 3799, '남성이': 3800, '추잡해보일': 3801, '수가': 3802, '퀵이유로': 3803, '어이없고': 3804, '재미없는영화는': 3805, '처음입니다': 3806, '돈아까운적은': 3807, '두번째라': 3808, '진짜재미없다': 3809, '영화관에삼십분정도늦게들어갔는데사람이한명도없고': 3810, '그이유를왠지알것같네': 3811, '완전비추요': 3812, '2012년에': 3813, '본영화인대': 3814, '솜이랑': 3815, '키작은남자': 3816, '살아서': 3817, '나감': 3818, '유치했지만': 3819, '왕조현': 3820, '주윤발': 3821, '이것만으로도': 3822, '볼만했다': 3823, '재미없었어': 3824, '코믹요소가': 3825, '왜색': 3826, '키작고': 3827, '교활한': 3828, '일본원숭이들의': 3829, '망상': 3830, '사무라이': 3831, '토나온다': 3832, '재미있게봄': 3833, '감동적이고': 3834, '찍어놓고': 3835, '모니터링': 3836, '안하나': 3837, '염치': 3838, '업이': 3839, '이런걸': 3840, '극장에': 3841, '걸수가': 3842, \"영화'산업'이라고\": 3843, '하잖는가': 3844, '이딴식으로': 3845, '홍보': 3846, '속여서': 3847, '팔았다는': 3848, '소비자': 3849, '입장에서는': 3850, '짜증난다': 3851, '그나마': 3852, '다행은': 3853, '싸구려를': 3854, '상급품으로': 3855, '속여판': 3856, '아니라는': 3857, '점': 3858, '연상호': 3859, '처럼': 3860, '홍보가': 3861, '됐다면': 3862, '비슷하게': 3863, '만이라도': 3864, '박신혜': 3865, '짱이뻐요': 3866, '절망속에서': 3867, '빠져나온': 3868, '눈물겨운': 3869, '실화': 3870, '국민학교': 3871, '다닐때': 3872, '동생이랑': 3873, '눈물이': 3874, '욕망이라는': 3875, '이름의': 3876, '전차': 3877, \"'디\": 3878, \"워'랑\": 3879, '부류': 3880, '저렴한': 3881, '마구잡이연출': 3882, '무기여': 3883, '잘있거라는': 3884, '손에': 3885, '땀을': 3886, '쥐고본': 3887, '첫번째': 3888, '연기력이': 3889, '개도': 3890, '90년대코미디영화': 3891, '어릴때': 3892, '봤음ㅋㅋㅋㅋ': 3893, '정말최고의영화고': 3894, '아이들의': 3895, '노래와': 3896, '비행기가': 3897, '잊을수': 3898, '남긴다': 3899, '이제알게된것자체가': 3900, '후회될정도로': 3901, '잔잔하고': 3902, '어이없어서': 3903, '헛웃음만': 3904, '나던': 3905, '악역인': 3906, '금단비가': 3907, '주목받았다는것은': 3908, '주연여배우들의': 3909, '미스캐스팅을': 3910, '의미한다': 3911, 'general': 3912, '절대로': 3913, '후회한다': 3914, '이걸영화라고': 3915, '만든거냐': 3916, '볼사람은': 3917, '뇌를': 3918, '놓고보아라': 3919, '내용인지': 3920, '도통': 3921, '특별해': 3922, '보이려는': 3923, '시도에만': 3924, '열중이었던': 3925, '기쁨': 3926, '생명': 3927, '죽음': 3928, '역사속에': 3929, '거대한': 3930, '하나님의': 3931, '우주적': 3932, '섭리가': 3933, '느껴지는': 3934, '특별히': 3935, '어머니의': 3936, '역을': 3937, '맡은': 3938, '여배우의': 3939, '여성미와': 3940, '자애로움이': 3941, '존재가': 3942, '된다면': 3943, '예술이다': 3944, '이게뭔가요내용도없고': 3945, '어마어마하게': 3946, '높네': 3947, '빨리': 3948, '낮춰야': 3949, '할듯': 3950, '5점이': 3951, '적당한': 3952, '이야기도보통재미있고': 3953, '10점정도는아니라고봐요': 3954, '5점6점정도인데': 3955, '고릴라제작한거도': 3956, '잘했긴했고': 3957, '감동은': 3958, '보통': 3959, '아쉬운결말': 3960, '웬만한': 3961, '섭렵할만큼': 3962, '매니아인데': 3963, '주온은': 3964, '무서웠었다': 3965, '샤워하면서': 3966, '머리감을때': 3967, '공포를': 3968, '쳐다보고': 3969, '느낌이라서': 3970, '나말고도': 3971, '겪어본사람': 3972, '있을거야': 3973, '그만큼': 3974, '당시에': 3975, '대단했던': 3976, '영화였어요': 3977, '광해와': 3978, '비슷한가': 3979, '조쉬': 3980, '하트넷': 3981, '여성들을': 3982, '자극하는': 3983, '나약한듯하면서도': 3984, '남성적인': 3985, '이미지를': 3986, '부각한듯': 3987, '속은느낌이다': 3988, '몸매': 3989, '베드신': 3990, '보기좋다고': 3991, '한사람은': 3992, '안본사람': 3993, '외모뿐만이': 3994, '여러가지들을': 3995, '따지며': 3996, '빠지는것이': 3997, \"'하려고'\": 3998, '사람들에게': 3999, '같아요': 4000, '어설프려고': 4001, '노력했다': 4002, '콜린파렐': 4003, '123412341234': 4004, '난이게': 4005, '재밌었는데': 4006, '좋았는데요': 4007, '괜찮았어요': 4008, '댓글이': 4009, '재밌어': 4010, '에라이': 4011, '사이코': 4012, '드라마야': 4013, '일본문화가': 4014, '들어가': 4015, '있다고': 4016, '사극': 4017, '엄청나게': 4018, '기대를': 4019, '괜찮았던듯': 4020, '똥이야': 4021, '안타깝네': 4022, '이해를': 4023, '못하는사람들': 4024, '속출': 4025, '불교적이고': 4026, '씨': 4027, '1바ㄹ': 4028, 'ooo': 4029, '시간낭비': 4030, '의미도없고': 4031, '무섭지도않고': 4032, '왠만하면': 4033, '즐겨보는데': 4034, 'oooo같다': 4035, '색다르고': 4036, '실제로도': 4037, '일이': 4038, '있다면': 4039, '어캐봐여': 4040, '꼬옥': 4041, '보고싶내여': 4042, '식상하다못해': 4043, '촌스럽기까지': 4044, '종교적': 4045, '분위기': 4046, '물씬': 4047, '풍기는': 4048, '가족영화': 4049, '살지': 4050, '그랬어': 4051, '이성재만': 4052, '멋짐': 4053, '음악영화라': 4054, '나에겐': 4055, '취향저격이지만': 4056, '비긴어게인처럼': 4057, '대중적으로': 4058, '흥행하긴': 4059, '힘들': 4060, '여주가': 4061, '매력적이에요': 4062, '0개': 4063, '선택': 4064, '왜없어요': 4065, '돈에': 4066, '남편과': 4067, '아기에': 4068, '그속에서': 4069, '18': 4070, '시점에서만': 4071, '볼만하겠지': 4072, '오로지': 4073, '시점': 4074, '잠을': 4075, '청할': 4076, '뇌가': 4077, '아니던가': 4078, '난해함': 4079, '왕실망임': 4080, '전작에': 4081, '비해서': 4082, '허탈하다': 4083, '카이사르도': 4084, '김민종': 4085, '잘되시요': 4086, '공격적인': 4087, '유순한': 4088, '여성성': 4089, '일기토': 4090, '지략': 4091, '삼국지의': 4092, '그것과': 4093, '맞짱': 4094, '점수를': 4095, '2003년에': 4096, '못만들었다는게': 4097, '충격': 4098, '비디오테잎으로': 4099, '좍좍': 4100, '감아가며': 4101, '도입부를': 4102, '제외하고는': 4103, '따분': 4104, '헬기에서': 4105, '민간인을': 4106, '마구': 4107, '쏴': 4108, '죽이는': 4109, '미군': 4110, '베트공': 4111, '여성': 4112, '스나이퍼': 4113, '등': 4114, '극단적인': 4115, '라이언': 4116, '일병에서의': 4117, '업햄': 4118, '조커': 4119, '착한척': 4120, '하면서': 4121, '주위에': 4122, '피해를': 4123, '넘들': 4124, '나만': 4125, '까거나': 4126, '하는건': 4127, '소설쓰고': 4128, '자위하고': 4129, '자위대도': 4130, '등장하는데': 4131, '그사람들도': 4132, '자위나': 4133, '떠나서': 4134, '과학도로써': 4135, '과학적으로': 4136, '신선함': 4137, '아니네요': 4138, '조절': 4139, '일편에': 4140, '비해': 4141, '삽질하는': 4142, '브리짓이': 4143, '쪼': 4144, '끔': 4145, '짜증날': 4146, '때도': 4147, '사랑스럽다ㅎ': 4148, '콜린': 4149, '퍼스와': 4150, '그랜트를': 4151, '한자리에': 4152, '모아놓은': 4153, '10점줘야함': 4154, '지금까지본': 4155, '아이리스': 4156, '시리즈중': 4157, '최악이다ㅠㅠ': 4158, '이거해도': 4159, '너무하는거아닌가': 4160, '수치스럽다': 4161, '연기고자시고': 4162, '너무도허접합': 4163, '연기력때문에': 4164, '할말이': 4165, '정우성과': 4166, '고소영이': 4167, '왜그토록': 4168, '흥행작이': 4169, '없는지': 4170, '알고싶으면': 4171, '비트에서': 4172, '연기하는거': 4173, '전라도': 4174, '노예': 4175, '업주': 4176, '처벌': 4177, '안받았나요': 4178, '이슈가안됐네요': 4179, '그러고보니': 4180, '배우가': 4181, '볼만': 4182, '결말의': 4183, '의미공자가': 4184, '자연에': 4185, '숨어사는': 4186, '노자에게': 4187, '말했지': 4188, '짐승도': 4189, '끼리끼리': 4190, '사는데': 4191, '사람이라고': 4192, '사냐고': 4193, '순수함은': 4194, '더러운것사이에서도': 4195, '빛을': 4196, '유지하는것': 4197, '·': 4198, '크리스': 4199, '터커': 4200, '짱이삼': 4201, '믿고보는': 4202, '덴젤와싱턴': 4203, '모레쯔는': 4204, '후덕하지': 4205, '나오코': 4206, '집중안된다': 4207, '다니는지': 4208, '배틀로얄2': 4209, '아까워요': 4210, '잼있던데': 4211, '상류층의': 4212, '속물근성을': 4213, '정당화시키면서미화시킨지': 4214, '국회의원이나': 4215, '사회적': 4216, '강자한테': 4217, '아부하고': 4218, '가봐요': 4219, '얼굴만': 4220, '예쁘다고': 4221, '왕되는것은': 4222, '맞지만': 4223, '드라마라도': 4224, '도덕적으로': 4225, '표현좀': 4226, '해야되는게': 4227, '아닌가요': 4228, '정신차리세요': 4229, '가만히': 4230, '보고만': 4231, '있어도': 4232, '씨익': 4233, '웃음나는': 4234, '행복한': 4235, '가족의': 4236, '사고': 4237, '후': 4238, '정상인이': 4239, '되었던': 4240, '일탈': 4241, '이거예전에나온거같은데': 4242, '재미네': 4243, '샬라샬라': 4244, '나오다즁자쥬아': 4245, '옹졸함과': 4246, '치졸함이': 4247, '팔빠다': 4248, '생각으로': 4249, '만든걸까': 4250, '흥미롭고': 4251, '볼만하다': 4252, '미드': 4253, \"'사랑하고\": 4254, \"싶다'\": 4255, '했습니다': 4256, '청소년': 4257, '관람불가임에도': 4258, '선정적인': 4259, '장면은': 4260, '나오지': 4261, '않았습니다': 4262, '솔로이신': 4263, '분들에게': 4264, '추천합니다': 4265, '일본공포영화는': 4266, '링': 4267, '주온': 4268, '망했음': 4269, '625를': 4270, '직접': 4271, '겪은': 4272, '어르신들': 4273, '얘길': 4274, '들어보면': 4275, '그당시': 4276, '잔인한': 4277, '학살은': 4278, '대부분': 4279, '주민들': 4280, '서로간에': 4281, '주로': 4282, '하층민들의': 4283, '복수심에서': 4284, '비롯된': 4285, '또는': 4286, '군': 4287, '경이': 4288, '빨치산': 4289, '학살한다며': 4290, '벌인': 4291, '살인이었지': 4292, '정작': 4293, '북한군은': 4294, '민간인들한테는': 4295, '잘해줬다고': 4296, '다큐일뿐': 4297, '10점짜리': 4298, '영화는아닌데': 4299, '평균평점': 4300, '7점정도의': 4301, '가치는': 4302, '한다고': 4303, '스타일리쉬한': 4304, '질질끌고': 4305, '작가님제발좀': 4306, '적당히하시죠은희수역맡은': 4307, '나쁘게': 4308, '만들지아침드라마가': 4309, '막장이네': 4310, '으이구': 4311, '괴물': 4312, '그래픽이나': 4313, '다듬지': 4314, '머니': 4315, '티나게': 4316, '공포영화보다': 4317, '웃은': 4318, '첨이다': 4319, '대표적인': 4320, '김치드라마': 4321, '신뢰도가': 4322, '높네요': 4323, '이하는': 4324, '좋을듯': 4325, '남주': 4326, '헤어스타일': 4327, '저래': 4328, '가게분신노찌쯔': 4329, '이런영화는': 4330, '두번봐야지': 4331, '안다': 4332, '일에도': 4333, '크게': 4334, '화를만드는': 4335, '저나라의': 4336, '국민이': 4337, '인상깊다': 4338, '김명민이': 4339, '약': 4340, '구해서': 4341, '탔을': 4342, '설마설마': 4343, '보지말아라': 4344, '재미있든': 4345, '재미없든': 4346, '드러운': 4347, '영화공포영화': 4348, '싸이코': 4349, '짝퉁쓰래기': 4350, '시청률이': 4351, '너무낮은대': 4352, '명작이고만': 4353, '제로지만': 4354, '다니엘헤니를': 4355, '남자지만': 4356, '게이는': 4357, '아닙니당': 4358, '다니엘헤니': 4359, '설경구': 4360, '씨두': 4361, '프레디가': 4362, '나에게': 4363, '모욕감을': 4364, '줬다': 4365, '프레디라서4점준다': 4366, '잼없네요넘': 4367, '높군요': 4368, '원작으로': 4369, '보심이': 4370, '나을듯': 4371, '짧은': 4372, '러닝타임에': 4373, '감사하다고': 4374, '해야하나': 4375, '썰매를': 4376, '타고': 4377, '목적지에': 4378, '가니': 4379, '돌아온다는': 4380, '황당한': 4381, '설정이고': 4382, '통제한다는건': 4383, '데몰리션맨': 4384, '이퀄리브리엄에서': 4385, '봤기때문에': 4386, '신선함도': 4387, '드라마의': 4388, '원조격인': 4389, '로즈번이': 4390, '살린듯': 4391, '해군': 4392, '출신이라': 4393, '관심있게': 4394, '파란색': 4395, '슬픔이': 4396, '유오성이': 4397, '챔프를': 4398, '폭풍오열ㅠㅜㅠㅍ퓨ㅠ': 4399, '착한영화': 4400, '재미없습니다': 4401, '사소한': 4402, '이야기조차': 4403, '뗄수': 4404, '없게': 4405, '만들던': 4406, '거장의': 4407, '솜씨': 4408, '장이모우': 4409, '내가본영화중': 4410, '베스트5안에': 4411, '듬': 4412, '진짜꼭보세요': 4413, '지금까지': 4414, '페이크다큐영화중': 4415, '공감도되는': 4416, '즐길수있는': 4417, '시미즈레이코의': 4418, '만화책': 4419, '비밀': 4420, '영향받은거': 4421, '아냐': 4422, '똑같애': 4423, '영화에서': 4424, '느끼지': 4425, '느낌상업적이기': 4426, '보다는': 4427, '새로움에': 4428, '도전한듯한': 4429, '반전같은거': 4430, '있을': 4431, '예고편을': 4432, '하는건지': 4433, '예고편에': 4434, '나오는건': 4435, '예고편은': 4436, '대판': 4437, '쌈질': 4438, '하는것마냥': 4439, '나오더니': 4440, '하하호호': 4441, '예고편이': 4442, '뜻인지를': 4443, '모르는건지': 4444, '시청자들을': 4445, '호구로': 4446, '보는건지': 4447, '낚시질좀': 4448, '그만하시고': 4449, '걱정되면': 4450, '폐지해': 4451, '프랑스': 4452, '이래서': 4453, '쓰레기쓰레기쓰레기쓰레기쓰레기쓰레기쓰레기쓰레기': 4454, '지미': 4455, '가슴애린': 4456, '사촌동생들': 4457, '같이': 4458, '보긴했는데': 4459, '사촌동생들도': 4460, '하네요': 4461, '설득력없는': 4462, '꼴통페미니즘': 4463, '페미나치적인': 4464, '마인드': 4465, 'b급을': 4466, '지향하는': 4467, '소녀': 4468, '이야기인가': 4469, '틀리다고': 4470, '생각했던': 4471, '장애인이': 4472, '틀리지않단것을': 4473, '알려주었다': 4474, '10403': 4475, '감각있고': 4476, '쿨한': 4477, '영화였는데': 4478, '아쉽지만': 4479, '보던거니까': 4480, '마저봐야지': 4481, '이랬는데': 4482, '원주민생활하는건': 4483, '어처구니가': 4484, '없었음이건': 4485, '90분이': 4486, '지나갔는지': 4487, '모를정도로': 4488, '몰입해서보고': 4489, '봄': 4490, '아련해서': 4491, '평': 4492, '남겨봄': 4493, '나이에': 4494, '애니를': 4495, '밤중에': 4496, '울줄이야': 4497, '에몽아ㅠㅠ': 4498, '사과해요': 4499, '나한테': 4500, '골목상권에': 4501, '들어온': 4502, '대형슈퍼마켓이': 4503, '생각난다': 4504, '조절이': 4505, '필요하다': 4506, '무협': 4507, '멜로의': 4508, '말해': 4509, '모해': 4510, '너무재미있게': 4511, '보았는데요': 4512, '볼수없을까요': 4513, '완전최악이었음': 4514, '절대비추': 4515, '한국껀줄알앗는데': 4516, '일본꺼엿네': 4517, '꽃': 4518, '한송이': 4519, '놓고': 4520, '갑니다ㅋㅋ': 4521, '의미있는': 4522, '하나라면': 4523, '봤다는': 4524, '것이다': 4525, '죽기': 4526, '볼만했음ㅋ여주인공이': 4527, '좋네여': 4528, '설득할려하고': 4529, '설교할려고하는게': 4530, '보기거북하다': 4531, '그리고결혼반지를': 4532, '범죄가담하다니': 4533, '개역지설정이냐': 4534, '전문성우를': 4535, '써주세요': 4536, '접해본': 4537, '장르라서': 4538, '당황스럽다': 4539, '자신의': 4540, '색깔에': 4541, '충실했고': 4542, '완성도': 4543, '뛰어난': 4544, '편이지만': 4545, '좋아하지도': 4546, '이해하지도': 4547, '못하겠다ㅋ': 4548, '아이데리고': 4549, '아이는': 4550, '좋아하데요': 4551, '미취학': 4552, '초등': 4553, '어린이에게': 4554, '추천': 4555, '이것을': 4556, '자랑스럽습니다': 4557, '존내재밋습네다': 4558, '망쳤네요': 4559, '주는거다': 4560, '5점은': 4561, '나쁘지': 4562, '않으나': 4563, '지루했다는': 4564, '어의없는': 4565, '여자죽을때': 4566, '웃음나옴': 4567, '로맨스영화냐': 4568, '순수함이': 4569, '두근거려': 4570, '감독님은': 4571, '관객들이': 4572, '뭘원하는지': 4573, '잘아는듯': 4574, '남는다': 4575, '기방난동사건이후': 4576, '재밌다는': 4577, '믿고': 4578, '봤더니': 4579, '알바생인듯': 4580, '로맨스와': 4581, '짬뽕놔서': 4582, '싶은건지': 4583, '허황된': 4584, '이건좀': 4585, '아니잖아': 4586, '윤아은': 4587, '원작자님': 4588, '캐스팅에': 4589, '참여해주세요작품': 4590, '망치면': 4591, '안되잖아요': 4592, '지금생각해도': 4593, '내가본영화중에': 4594, '내생애': 4595, '최고의영화였던것같다': 4596, '천녀유혼1': 4597, '2에': 4598, '비하면': 4599, '뭐라': 4600, '표현하기': 4601, '퀭한': 4602, '불륜을': 4603, '미화한': 4604, '남은사람들은': 4605, '돈걱정': 4606, '따위': 4607, '안하는': 4608, '공감하라고': 4609, '강요하는': 4610, '음악이랑': 4611, '영상미로': 4612, '3점': 4613, 'walk': 4614, 'like': 4615, 'man': 4616, '이란': 4617, '노래는': 4618, '원곡보다': 4619, '노래가': 4620, '훠': 4621, '얼씬': 4622, '신선했다': 4623, '내사랑': 4624, '두말할': 4625, '나위없이': 4626, '대해서': 4627, '생각해보게': 4628, '출연진과': 4629, '제작진에게': 4630, '큰박수를': 4631, '산만': 4632, '하기만했다': 4633, '말이필요없지': 4634, '성룡영화에선': 4635, '무언가를다른것을느낄수있다': 4636, '화학을': 4637, '잼잇게': 4638, '봣습니닼ㅋ': 4639, '옆에': 4640, '중간중간': 4641, '노이해': 4642, '해석': 4643, '잼잇엇숩니다': 4644, '준비되지': 4645, '젊은영화인들여': 4646, '장편에': 4647, '손대지': 4648, '마라천천히': 4649, '공부하고': 4650, '으엉': 4651, '간만에': 4652, '추억돋아서': 4653, '봤는데사실': 4654, '자체도': 4655, '두서없이': 4656, '전개되는데영화감독은': 4657, '내용앞뒤도없이': 4658, '잘라서정신없음ㅇ배우들은': 4659, '책읽고': 4660, '살린거': 4661, '오그리오그링ㅋㅋㅋ간만에': 4662, '소설로': 4663, '읽어야지': 4664, '쓰레기같은': 4665, '것들아': 4666, '파라노말엑티비티를': 4667, '팔아먹냐': 4668, '기억은': 4669, '조작되기': 4670, '마련': 4671, '그사람이': 4672, '아니고서는': 4673, '함부러': 4674, '말하지': 4675, '말자': 4676, '문헌에': 4677, '적힌': 4678, '문란한': 4679, '사도세자가': 4680, '정조의': 4681, '아버지로서': 4682, '그릇이': 4683, '정도였는지': 4684, '보여준': 4685, '아니었나': 4686, '시나리오도': 4687, '시나리오지만': 4688, '일품이었습니다': 4689, '휴일낮에': 4690, '침대에누워서': 4691, '티비보다가': 4692, '영화채널에서': 4693, '틀어주길래': 4694, '어쩔수': 4695, '나중에는': 4696, '벌떡': 4697, '앉아서': 4698, '몰입되고': 4699, '치밀하고': 4700, '해리슨': 4701, '포드다운': 4702, '저는': 4703, '영화광도': 4704, '평론가도': 4705, '아니고': 4706, '자주보는': 4707, '일반': 4708, '남자사람임': 4709, '절제의': 4710, '미학이아니라': 4711, '극치가': 4712, '되버린': 4713, '안타갑다': 4714, '영화관에서': 4715, '돈아까웠다': 4716, '재미없었다': 4717, '솔직함을': 4718, '보여': 4719, '싶었는가': 4720, '방법말고도': 4721, '충분이': 4722, '있을텐데': 4723, '다시생각한거같습니다': 4724, '감동이에요': 4725, '교육적이나': 4726, '정말지루해서요ㅜ': 4727, '꿀잼': 4728, '소유랑': 4729, '서인영ㅋㅋㅋㅋ매력터져': 4730, '재미없었음': 4731, '화면을': 4732, '흑백으로': 4733, '바꾸기만': 4734, '50년대': 4735, '쇼핑몰': 4736, '안에서만': 4737, '찍어서': 4738, '답답한': 4739, '돈아까워': 4740, '여러분': 4741, '와아오': 4742, '두근두근': 4743, '익스트림자체': 4744, '폭력영화': 4745, '자극적이고': 4746, '실험적이라고': 4747, '예술인가': 4748, '일본영화랑': 4749, '비슷한건': 4750, '저만': 4751, '느끼는건가요': 4752, '수트입으면': 4753, '미남으루': 4754, '변하구': 4755, '평생입으라구': 4756, '권유받구': 4757, '창조가': 4758, '중복될수': 4759, '있눈건지': 4760, '모르겠네여': 4761, '처음이네특히나': 4762, '박사고': 4763, '나발이고': 4764, '모든인물들이': 4765, '컴퓨터': 4766, '할때': 4767, '손찍는데키보드': 4768, '누르지도': 4769, 'ㅋㅋㅋ컴퓨터': 4770, '화면들은': 4771, '똑같은': 4772, '파트만': 4773, '무한': 4774, '반복되고허접해도': 4775, '허접하네': 4776, '개떡이고': 4777, '농촌드라마': 4778, '실력자들의': 4779, '스타': 4780, '리그': 4781, '옴니버스라는': 4782, '피로감이': 4783, '극복되는': 4784, '수준이다': 4785, \"'얼음강'은\": 4786, '단독': 4787, '장편으로': 4788, '만들었어도': 4789, '좋았을': 4790, '혹여': 4791, '평소라면': 4792, '공감': 4793, '여호와의': 4794, '증인이라도': 4795, '납득이': 4796, '될': 4797, '설득하는': 4798, '솜씨가': 4799, '탁월하다': 4800, '좀비좀비': 4801, '그러는데': 4802, '좀비아닙니다': 4803, '우주의': 4804, '아름다움에': 4805, '미쳐버린': 4806, '인간일뿐': 4807, '가능한': 4808, '일이죠': 4809, '개재미없음': 4810, '막장스토리': 4811, '뭐하나': 4812, 'ost가': 4813, '탁재훈나오믄재밌는데와이라지스토리중반부터너무쳐짐약해약해약해': 4814, '지겨워뒈지는줄알': 4815, '서스펜스도': 4816, '스릴도': 4817, '정서하고': 4818, '안맞다': 4819, '어디선가': 4820, '흔한': 4821, '모두는': 4822, '누군가에게': 4823, '섬머였다': 4824, '힘알이': 4825, '맥이': 4826, '빠진다': 4827, '너무너무귀여운영화': 4828, '일본식': 4829, '엽기': 4830, '괴짜': 4831, '코메디': 4832, '특이함에': 4833, '끌리는건': 4834, '왜지': 4835, '사람들은': 4836, '나루토': 4837, '극장판': 4838, '중에': 4839, '정당한': 4840, '노력이란': 4841, '보상받게': 4842, '마련이다': 4843, '일정': 4844, '성취가': 4845, '결실을': 4846, '거둔': 4847, '아씨': 4848, '기적은': 4849, '이미': 4850, '일어났다': 4851, '아이들과': 4852, '함께': 4853, '그래요': 4854, '전율을': 4855, '느꼈다': 4856, '여기저기': 4857, '지저분한내용에': 4858, '이기적인': 4859, '연애사': 4860, '마지막으로': 4861, '안나오니까': 4862, '갈겨쓴내용': 4863, '완전별로': 4864, '마지막빼고': 4865, '유치하고재미없고': 4866, '세월이': 4867, '보니': 4868, '먹먹함이': 4869, '다르더군요': 4870, '공감하는': 4871, '사람이라면': 4872, '가슴속에': 4873, '명작으로': 4874, '아이들이': 4875, '좋을지도': 4876, '선정성이': 4877, '15세': 4878, '좋음': 4879, '카타르시스를': 4880, '느끼기에': 4881, '값진영화였다': 4882, '여주': 4883, '린제이': 4884, '로한': 4885, '닮았다': 4886, '전체적인': 4887, '배경은': 4888, '지루했다': 4889, '솔로가': 4890, '보지마세요': 4891, '남이': 4892, '차안에서': 4893, '전화통화': 4894, '하는걸': 4895, '90분': 4896, '가까이': 4897, '구경하고': 4898, '있으라고': 4899, '폰부스는': 4900, '명작이라': 4901, '생각하지만': 4902, '저질영화': 4903, '답을': 4904, '알려고': 4905, '하지마라': 4906, '재미잇음매우': 4907, '2좀': 4908, '찍어주세요': 4909, '현기증': 4910, '난단': 4911, '말이에요': 4912, '마음이': 4913, '따뜻해지는': 4914, '되돌아보게': 4915, '조금씩': 4916, '놀래킬려면': 4917, '확': 4918, '놀래키던지': 4919, '어정쩡한': 4920, '개판': 4921, '사람수도': 4922, '많고': 4923, '총도': 4924, '그걸': 4925, '서로': 4926, '흩어져서': 4927, '일방적으로': 4928, '밀리네': 4929, '거기다': 4930, '식인종이라면서': 4931, '표현을': 4932, '좀비로': 4933, '해놓으면': 4934, '어쩌잔거야': 4935, '식인으로': 4936, '인해': 4937, '인성이': 4938, '말살되고': 4939, '짐승화': 4940, '되었다는': 4941, '표현이라도': 4942, '있던가': 4943, '포스터만': 4944, '그럴싸하다': 4945, '13구역이라는': 4946, '가져다': 4947, '졸작이다': 4948, '신도': 4949, '개허술하고': 4950, '재미없다는거지': 4951, '존나재밌던데': 4952, '늑대들의': 4953, '여정이': 4954, '낭만적이었던': 4955, '애니중에': 4956, '탑으로': 4957, '미국': 4958, '흑인': 4959, '민권운동사를': 4960, '완벽하게': 4961, '요약했다': 4962, '그가': 4963, '뛰어내리지': 4964, '않았다면': 4965, '되었을까': 4966, '8점대는': 4967, '나와야지': 4968, '액션공포물이': 4969, '아닌데도': 4970, '긴장감': 4971, '공포감': 4972, '쩔고': 4973, '음악도': 4974, '몇년이': 4975, '기억나는': 4976, '좀비물인데': 4977, '짜서': 4978, '10줌': 4979, '아역': 4980, '좋았으나': 4981, '스릴러라길래봤는데ㅋㅋㅋㅋㅋㅋㅋㅋㅋ웃음밖에안나온다': 4982, '혹시나해서라도': 4983, '절대보지마라진짜제발': 4984, '믿지마셈': 4985, '좋다는': 4986, '놈들은': 4987, '뭐하는': 4988, '것들이야': 4989, '21c영화냐': 4990, '90년도영화냐': 4991, '쓰래기들아': 4992, 'ufo를': 4993, '믿으려는': 4994, '자들': 4995, '구식으로': 4996, '웃길려고': 4997, '함': 4998, '지겨움': 4999, '세계가': 5000, '연예계의': 5001, '현실을': 5002, '알리고자': 5003, '알겠지만': 5004, '죽을뻔': 5005, '재미있고': 5006, '책으로봐도': 5007, '정말재미있다': 5008, '끝내주게': 5009, '유투브동영상을': 5010, '보는게': 5011, '낫다는': 5012, '들게한': 5013, '점도': 5014, '배경': 5015, '지하철기관사의': 5016, '삶': 5017, '등을': 5018, '스타워즈': 5019, '1편과': 5020, '맞아떨어지도록': 5021, '만든영화': 5022, '다스베이더의': 5023, '탄생과': 5024, '루크': 5025, '레이어의': 5026, '운명을': 5027, '알수있는': 5028, '소희가': 5029, '졸귀': 5030, '소문난': 5031, '잔치': 5032, '호화': 5033, '에': 5034, '먹을': 5035, '주성치': 5036, '구우우웃': 5037, '두근거릴': 5038, '교과서적': 5039, '플레이': 5040, '중심은': 5041, '스토리인것을': 5042, '반전의': 5043, '8': 5044, '3이': 5045, '9': 5046, '3': 5047, '아닌가': 5048, '발로': 5049, '삼류배우들': 5050, '얼굴보면서': 5051, '재밌군': 5052, '이것도': 5053, '평쓰는': 5054, '귀찮다': 5055, '오글거려서': 5056, '손발사라지는': 5057, '안하고': 5058, '몰입해서': 5059, '유쾌함과': 5060, '스릴러적인': 5061, '요소가': 5062, '어울려진': 5063, '후속작': 5064, '훨씬': 5065, '매력있음': 5066, '간직해두면서': 5067, '꺼내보고': 5068, '좋네': 5069, '괜찮고': 5070, '좋았던': 5071, '완벽했던': 5072, '괜찮은영화': 5073, '영화도괜찮았지만': 5074, '나영언니완전머싯고예뻤음ㅠㅠ': 5075, '고래': 5076, '몇마리로': 5077, '국가적으로': 5078, '호들갑떠는게': 5079, '오버스럽겠지만': 5080, '모습이': 5081, '모두가': 5082, '도와가며': 5083, '살아야하는': 5084, '지구의': 5085, '생명이란': 5086, '메세지는': 5087, '참으로': 5088, '감동적이다': 5089, '첨봤는데': 5090, '1회만': 5091, '봐볼까하고': 5092, '봤다가': 5093, '주말': 5094, '밤새완주하였다': 5095, '뮬란이': 5096, '아쉽다': 5097, '전쟁씬도': 5098, '그렇고그저': 5099, '그래': 5100, '기대않': 5101, '있네요': 5102, '맑음': 5103, '파문에': 5104, '주목하라': 5105, '김윤진': 5106, '좋아하니깐': 5107, '재밌따': 5108, '무리수가': 5109, '되어버린': 5110, '기획상품': 5111, '나홀로집에와더불어': 5112, '나의최고의영화': 5113, '떠올랐다': 5114, '그옛날': 5115, '국산애니': 5116, '아마겟돈': 5117, '악몽이': 5118, '기술적': 5119, '수준을': 5120, '각본이': 5121, '무개념': 5122, 'booldy': 5123, '고결한': 5124, '신사들께서': 5125, '짓을': 5126, '하셧을까': 5127, '캬': 5128, '개안음': 5129, 'ㅎㅎㅎㅎ': 5130, '김소현': 5131, '팬됬습니다': 5132, '삐에로와': 5133, '흑인남자와싸웠을때': 5134, 'ㅋㅋㅋ아웃겨': 5135, '유럽영화가': 5136, '이번정부에': 5137, '들어와': 5138, '즐겁긴하다만': 5139, '내용들이': 5140, '이리': 5141, '진부한걸까': 5142, '유럽영화를': 5143, '욕되게': 5144, '하고있단': 5145, '소리다': 5146, '허접영화도': 5147, '재미있게보는데': 5148, '도를': 5149, '넘어섰다': 5150, '누구도': 5151, '이의': 5152, '삶과': 5153, '죽음에': 5154, '왈가왈부': 5155, '순': 5156, '굿굿굿': 5157, '또해라또해라': 5158, '주님께서': 5159, '부르셔서': 5160, '제가': 5161, '여기': 5162, '있나이다': 5163, '미성년자가': 5164, '돈많은': 5165, '아저씨에게': 5166, '순결을': 5167, '바치고': 5168, '데인후': 5169, '정신차리고': 5170, '공부해거': 5171, '명문대가는': 5172, '진부한': 5173, '봤고': 5174, '빈센트도': 5175, '꼬마도': 5176, '잘하네요': 5177, '원작보다': 5178, '훨씬낫다': 5179, '말도못하게설정해놨어': 5180, '필요없음': 5181, '개재밌다ㅠㅠ': 5182, '이양반이': 5183, '다세포소녀': 5184, '감독이네': 5185, '잡': 5186, '재미진짜': 5187, '흥하네': 5188, 'yang': 5189, '이새끼': 5190, '관종인가': 5191, '야경꾼보다': 5192, '엉망지루함': 5193, '예원찡': 5194, '그만울어': 5195, '근': 5196, '5년동안': 5197, '모든영화': 5198, '통틀어서': 5199, '최악의영화': 5200, '남아돌때': 5201, '역대급': 5202, '보신분들': 5203, '마지막엔딩부분에': 5204, '자막으로나오는부분잇죠': 5205, '영화상에서': 5206, '실화라는거지': 5207, '현재': 5208, '실화라는말이아니에요': 5209, '전지현이': 5210, '피디잔아요': 5211, '다큐찍는거': 5212, '다큐에서엔딩장면이지': 5213, '실제가아니에여': 5214, '쨋든': 5215, '달기지': 5216, '미니어쳐': 5217, '팍팍': 5218, '나던데': 5219, '우뢔매': 5220, '보는줄': 5221, '혹시': 5222, '특수효과': 5223, '심형래': 5224, '없다ㅋㅋㅋ': 5225, '고추의': 5226, '정여립과': 5227, '정철': 5228, '기축옥사까지': 5229, '탄탄해서': 5230, '배우들도': 5231, '남녀주인공들': 5232, '케미도': 5233, '챙겨': 5234, '드라마ㅠㅠㅠㅠ': 5235, '개oo영화네요': 5236, '내용도없고': 5237, '그냥심심해서만든영화가': 5238, '두개는': 5239, '줄려고': 5240, '알바가': 5241, '많아서': 5242, '아후': 5243, '채널': 5244, '돌려도': 5245, '다른데로': 5246, '돌리게만드는구나': 5247, '없나요': 5248, '영화사에': 5249, '실험영화의': 5250, '완성본': 5251, '자식을': 5252, '때리냐': 5253, '내용이야': 5254, 'ㅋㅋㅋㅋㅋㅋㅋㅋㅋㅋㅋㅋㅋ옛다': 5255, '1점이나': 5256, '처먹어랔ㅋㅋㅋㅋㅋㅋㅋㅋ이게': 5257, '7점급': 5258, '1점짜리': 5259, '결말도': 5260, '감동적이였고': 5261, '좋았습니다': 5262, '개재미없었는데': 5263, '볼수록': 5264, '재밌어짐': 5265, '알던': 5266, '에일리언에': 5267, '나오던': 5268, '아니야': 5269, '쇼핑백': 5270, '잊혀지지': 5271, '않는다': 5272, '의도는': 5273, '안되는걸': 5274, '어떡해': 5275, '유치하지만': 5276, '화려한': 5277, '색채때문에': 5278, '아프지만': 5279, '나름대로': 5280, '화려연예계여자욕망에대해': 5281, '표현해냈던거같다': 5282, '리리코심정가진': 5283, '연옌들도': 5284, '있을거같고': 5285, '나를한번도보지못하고알지못하는사람들이날어떻게사랑하냐그런대사': 5286, '나왔을때': 5287, '소름돋더라': 5288, '연예인들은': 5289, '많은사랑받으면서도': 5290, '허전할듯': 5291, '수oo이': 5292, '생생함': 5293, '고양이': 5294, '귀신의': 5295, '복수가': 5296, '무서웠지': 5297, '대학교': 5298, '졸업작품같아서': 5299, '그렇지': 5300, '많은걸': 5301, '담아놓은': 5302, '영화임에는': 5303, '분명하다': 5304, '최강': 5305, '전차부대': 5306, 'ㅇㅇ': 5307, '소재라고': 5308, '생각하며': 5309, '남자로서는': 5310, '부러울수도': 5311, 'tv': 5312, '전기세가': 5313, '아까웠다': 5314, '초등학교때': 5315, '선생님이': 5316, '보여주신': 5317, '흘러서': 5318, '기억나는건': 5319, '에이즈에': 5320, '걸렸던': 5321, '남자아이와': 5322, '운동화였고': 5323, '뭐였을까': 5324, '궁금했었는데': 5325, '굿바이마이프렌드였다': 5326, '12년전이나': 5327, '12년후나': 5328, 'ㅅ': 5329, '설리': 5330, '94년생인데': 5331, '93년도': 5332, '나오져': 5333, '샷의': 5334, '연결이': 5335, '충돌만큼이나': 5336, '거룩한': 5337, '인상적이구려': 5338, '오오': 5339, '여태까지': 5340, '맷데이먼의': 5341, '최고의영화는': 5342, '얼티메이텀': 5343, '라이언일병구하기': 5344, '뿐인줄알았음ㅠ': 5345, '굿윌헌팅도쩐당': 5346, '끌지': 5347, '못하는군': 5348, '날': 5349, '로그인하게': 5350, '만들다니': 5351, '청춘이여': 5352, '영원하라': 5353, '현정언니': 5354, '짱이죠': 5355, '잼잇어요': 5356, '러닝타임이': 5357, '2시간이': 5358, '넘는데': 5359, '30분에': 5360, '줄거리': 5361, '나갔고': 5362, '화보집': 5363, '이해못할': 5364, '희한함이': 5365, '연결': 5366, '편집해서': 5367, '끼워맞춘': 5368, '말아먹은': 5369, '예뻐서': 5370, '지구를': 5371, '지켜라': 5372, '혹': 5373, '작품을': 5374, '아닌지': 5375, '저렇게': 5376, '힘들게': 5377, '만드는데': 5378, '쓰레기냐': 5379, '케릭터가': 5380, '살아있었으며': 5381, '미장센이': 5382, '훌륭했다': 5383, '있었고': 5384, '불필요한': 5385, '샷은': 5386, '존재하지': 5387, '노인을': 5388, '위한나라는': 5389, '먼저': 5390, '봤지만': 5391, '코엔감독': 5392, '매력적인영화를': 5393, '마지막이': 5394, '좀황당했지만': 5395, 'tv를': 5396, '돌려보다가': 5397, '사로잡혔다': 5398, '최근': 5399, '10년간': 5400, '연': 5401, '기': 5402, '화이팅해요누나': 5403, '마이클베이': 5404, '최근작을': 5405, '블록버스터': 5406, '액션장르라도': 5407, '시나리오는': 5408, '필수라는것을': 5409, '기대하던': 5410, '메간폭스는': 5411, '늙었다': 5412, '0점은없나': 5413, '1점은': 5414, '후하네': 5415, '미달이는': 5416, '연예계를': 5417, '태도를': 5418, '고쳐야': 5419, '한다': 5420, '파괴된': 5421, '관객들': 5422, '알콜중독자들': 5423, '덕에': 5424, '낮은가': 5425, '중견배우들이': 5426, '만들어놓은': 5427, '긴장감이': 5428, '긴장감있게': 5429, '싸워보려했던': 5430, '도술사들에': 5431, '의해': 5432, '헛웃음나온다': 5433, '인간으로': 5434, '변하고': 5435, '끝나네유': 5436, '볼까': 5437, '하다가': 5438, '봤는디': 5439, '재밌네유': 5440, 'cg보다': 5441, '실물': 5442, '특수': 5443, '효과가': 5444, '있어유': 5445, '웃기기까지': 5446, '하네유': 5447, '근디': 5448, '번역은': 5449, '바보가': 5450, '한거여': 5451, '아니잖여': 5452}\n"
          ]
        }
      ]
    },
    {
      "cell_type": "code",
      "source": [],
      "metadata": {
        "id": "nKfpKhjOS-V2"
      },
      "execution_count": 211,
      "outputs": []
    },
    {
      "cell_type": "code",
      "source": [
        "from tensorflow import keras\n",
        "\n",
        "train_labels = train_label\n",
        "from tensorflow.keras.layers import SimpleRNN,Dense\n",
        "\n",
        "# LSTM 모델 정의 함수\n",
        "def build_lstm_model():\n",
        "    model = Sequential()\n",
        "\n",
        "    model.add(SimpleRNN(16, input_shape=(max_length,1), activation='relu'))\n",
        "\n",
        "    model.add(Dense(8, activation='relu'))\n",
        "\n",
        "    model.add(Dense(1, activation='sigmoid'))\n",
        "    return model\n",
        "\n",
        "epochs = 100\n",
        "# 모델 컴파일 함수\n",
        "def compile_and_train_model(model, X_train, y_train, learning_rate, epochs):\n",
        "    optimizer = tf.keras.optimizers.Adam(learning_rate=learning_rate)\n",
        "    model.compile(optimizer=optimizer, loss=losses.BinaryCrossentropy(), metrics=['accuracy'])\n",
        "    print('pass')\n",
        "    history = model.fit(X_train, y_train, epochs=epochs, batch_size=8, verbose=0)\n",
        "    return history\n",
        "def generate_data(sequences):\n",
        "    max_length = max(len(seq) for seq in sequences)\n",
        "    X = []\n",
        "    y = []\n",
        "    for seq in sequences:\n",
        "        for i in range(1, len(seq)):\n",
        "            padded_seq = seq[:i] + [0] * (max_length - i)  # 패딩 추가\n",
        "            y.append(seq[i])\n",
        "        X.append(padded_seq)\n",
        "\n",
        "    return np.array(X), np.array(y)\n",
        "train_feats, train_labels = generate_data(sequences)\n"
      ],
      "metadata": {
        "id": "5LFtMGS1B9MU"
      },
      "execution_count": 212,
      "outputs": []
    },
    {
      "cell_type": "code",
      "source": [
        "print(train_feats.shape)\n",
        "print(train_labels.shape)"
      ],
      "metadata": {
        "colab": {
          "base_uri": "https://localhost:8080/"
        },
        "id": "-R4Bj6MdFmlp",
        "outputId": "053044d2-aad0-411f-a66c-9cd868b1e166"
      },
      "execution_count": 213,
      "outputs": [
        {
          "output_type": "stream",
          "name": "stdout",
          "text": [
            "(1000, 38)\n",
            "(6950,)\n"
          ]
        }
      ]
    },
    {
      "cell_type": "code",
      "source": [
        "t_labels = nsmc.train.labels[:t_size]"
      ],
      "metadata": {
        "id": "uqHJGB6zQmCh"
      },
      "execution_count": 214,
      "outputs": []
    },
    {
      "cell_type": "code",
      "source": [
        "print(\"Training LSTM model...\")\n",
        "lstm_model = build_lstm_model()\n",
        "train_feats = train_feats.reshape(train_feats.shape[0],train_feats.shape[1],1)\n",
        "lstm_history = compile_and_train_model(lstm_model, train_feats, np.array(t_labels), 0.001, epochs)"
      ],
      "metadata": {
        "colab": {
          "base_uri": "https://localhost:8080/"
        },
        "id": "Wt2rUswzFVVb",
        "outputId": "2f817d2d-0952-4d16-9096-e2611204d57f"
      },
      "execution_count": 215,
      "outputs": [
        {
          "output_type": "stream",
          "name": "stdout",
          "text": [
            "Training LSTM model...\n",
            "pass\n"
          ]
        }
      ]
    },
    {
      "cell_type": "code",
      "source": [
        "print(lstm_history)"
      ],
      "metadata": {
        "colab": {
          "base_uri": "https://localhost:8080/"
        },
        "id": "frFy2Bb_Fiaa",
        "outputId": "97e1eabb-1525-440e-df45-fe0c3307c502"
      },
      "execution_count": 216,
      "outputs": [
        {
          "output_type": "stream",
          "name": "stdout",
          "text": [
            "<keras.src.callbacks.History object at 0x79ffa9aa1fc0>\n"
          ]
        }
      ]
    },
    {
      "cell_type": "code",
      "source": [
        "input_list = [\"좋아!\", \"그냥 그래\", \"싫어\", \"개별로\"]\n",
        "for input_sentence in input_list:\n",
        "  # 입력 문장을 정수 시퀀스로 변환\n",
        "  input_seq = tokenizer.texts_to_sequences([input_sentence])[0]\n",
        "  max_length = max(len(seq) for seq in sequences)\n",
        "  input_seq = [0] * (max_length - len(input_seq)) + input_seq\n",
        "  print(lstm_model.predict(np.array([input_seq])))\n",
        "  if lstm_model.predict(np.array([input_seq])) >= 0.4:\n",
        "    predicted_word_lstm = '부정'\n",
        "  else:\n",
        "    predicted_word_lstm = '긍정'\n",
        "\n",
        "  print(\"input_sentence:\", input_sentence)\n",
        "  # 예측된 단어 출력\n",
        "  print(\"LSTM Prediction:\", predicted_word_lstm)\n"
      ],
      "metadata": {
        "colab": {
          "base_uri": "https://localhost:8080/"
        },
        "id": "FNMW26-vT5eh",
        "outputId": "30c68258-77d3-4a96-daaf-607a2f5bca45"
      },
      "execution_count": 220,
      "outputs": [
        {
          "output_type": "stream",
          "name": "stdout",
          "text": [
            "1/1 [==============================] - 0s 39ms/step\n",
            "[[0.00231509]]\n",
            "1/1 [==============================] - 0s 40ms/step\n",
            "input_sentence: 좋아!\n",
            "LSTM Prediction: 긍정\n",
            "1/1 [==============================] - 0s 41ms/step\n",
            "[[4.7634034e-23]]\n",
            "1/1 [==============================] - 0s 36ms/step\n",
            "input_sentence: 그냥 그래\n",
            "LSTM Prediction: 긍정\n",
            "1/1 [==============================] - 0s 79ms/step\n",
            "[[0.48926404]]\n",
            "1/1 [==============================] - 0s 46ms/step\n",
            "input_sentence: 싫어\n",
            "LSTM Prediction: 부정\n",
            "1/1 [==============================] - 0s 26ms/step\n",
            "[[0.48926404]]\n",
            "1/1 [==============================] - 0s 25ms/step\n",
            "input_sentence: 개별로\n",
            "LSTM Prediction: 부정\n"
          ]
        }
      ]
    },
    {
      "cell_type": "code",
      "source": [
        "input_list = [\"재미있다\", \"별론데?\", \"도대체 이딴걸 왜 만듬?\", \"안졸리고 재미있게 봤음\"]\n",
        "\n",
        "\n",
        "for input_sentence in input_list:\n",
        "  # 입력 문장을 정수 시퀀스로 변환\n",
        "  input_seq = tokenizer.texts_to_sequences([input_sentence])[0]\n",
        "  max_length = max(len(seq) for seq in sequences)\n",
        "  input_seq = [0] * (max_length - len(input_seq)) + input_seq\n",
        "  print(lstm_model.predict(np.array([input_seq])))\n",
        "  if lstm_model.predict(np.array([input_seq])) >= 0.4:\n",
        "    predicted_word_lstm = '부정'\n",
        "  else:\n",
        "    predicted_word_lstm = '긍정'\n",
        "\n",
        "  print(\"input_sentence:\", input_sentence)\n",
        "  # 예측된 단어 출력\n",
        "  print(\"LSTM Prediction:\", predicted_word_lstm)\n"
      ],
      "metadata": {
        "colab": {
          "base_uri": "https://localhost:8080/"
        },
        "id": "m6wT57mxWSXB",
        "outputId": "03f19d29-6a3e-41fb-de5c-1b246ac8fa0b"
      },
      "execution_count": 227,
      "outputs": [
        {
          "output_type": "stream",
          "name": "stdout",
          "text": [
            "1/1 [==============================] - 0s 104ms/step\n",
            "[[0.00030928]]\n",
            "1/1 [==============================] - 0s 84ms/step\n",
            "input_sentence: 재미있다\n",
            "LSTM Prediction: 긍정\n",
            "1/1 [==============================] - 0s 90ms/step\n",
            "[[0.48926404]]\n",
            "1/1 [==============================] - 0s 112ms/step\n",
            "input_sentence: 별론데?\n",
            "LSTM Prediction: 부정\n",
            "1/1 [==============================] - 0s 41ms/step\n",
            "[[0.691629]]\n",
            "1/1 [==============================] - 0s 26ms/step\n",
            "input_sentence: 도대체 이딴걸 왜 만듬?\n",
            "LSTM Prediction: 부정\n",
            "1/1 [==============================] - 0s 29ms/step\n",
            "[[0.00020534]]\n",
            "1/1 [==============================] - 0s 32ms/step\n",
            "input_sentence: 안졸리고 재미있게 봤음\n",
            "LSTM Prediction: 긍정\n"
          ]
        }
      ]
    },
    {
      "cell_type": "code",
      "source": [
        "input_list = [\"간만에 볼만한 거 봤음\", \"누구 머리에서 나온거냐\", \"하나도 이해 안되고 졸리기만함\", \"나름 노력한거 같음\"]\n",
        "\n",
        "\n",
        "for input_sentence in input_list:\n",
        "  # 입력 문장을 정수 시퀀스로 변환\n",
        "  input_seq = tokenizer.texts_to_sequences([input_sentence])[0]\n",
        "  max_length = max(len(seq) for seq in sequences)\n",
        "  input_seq = [0] * (max_length - len(input_seq)) + input_seq\n",
        "  print(lstm_model.predict(np.array([input_seq])))\n",
        "  if lstm_model.predict(np.array([input_seq])) >= 0.4:\n",
        "    predicted_word_lstm = '부정'\n",
        "  else:\n",
        "    predicted_word_lstm = '긍정'\n",
        "\n",
        "  print(\"input_sentence:\", input_sentence)\n",
        "  # 예측된 단어 출력\n",
        "  print(\"LSTM Prediction:\", predicted_word_lstm)"
      ],
      "metadata": {
        "colab": {
          "base_uri": "https://localhost:8080/"
        },
        "id": "K3UnNw73ZB61",
        "outputId": "765f6579-6a63-42dd-828a-556cc2791693"
      },
      "execution_count": 231,
      "outputs": [
        {
          "output_type": "stream",
          "name": "stdout",
          "text": [
            "1/1 [==============================] - 0s 32ms/step\n",
            "[[0.]]\n",
            "1/1 [==============================] - 0s 41ms/step\n",
            "input_sentence: 간만에 볼만한 거 봤음\n",
            "LSTM Prediction: 긍정\n",
            "1/1 [==============================] - 0s 40ms/step\n",
            "[[0.48926404]]\n",
            "1/1 [==============================] - 0s 39ms/step\n",
            "input_sentence: 누구 머리에서 나온거냐\n",
            "LSTM Prediction: 부정\n",
            "1/1 [==============================] - 0s 47ms/step\n",
            "[[0.80860704]]\n",
            "1/1 [==============================] - 0s 51ms/step\n",
            "input_sentence: 하나도 이해 안되고 졸리기만함\n",
            "LSTM Prediction: 부정\n",
            "1/1 [==============================] - 0s 48ms/step\n",
            "[[0.00095124]]\n",
            "1/1 [==============================] - 0s 51ms/step\n",
            "input_sentence: 나름 노력한거 같음\n",
            "LSTM Prediction: 긍정\n"
          ]
        }
      ]
    },
    {
      "cell_type": "code",
      "source": [],
      "metadata": {
        "id": "ytxlx2wcZbSs"
      },
      "execution_count": null,
      "outputs": []
    }
  ]
}