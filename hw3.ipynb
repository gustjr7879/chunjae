{
 "cells": [
  {
   "cell_type": "markdown",
   "metadata": {},
   "source": [
    "1. 상관 분석 (Correlation Analysis)"
   ]
  },
  {
   "cell_type": "code",
   "execution_count": 1,
   "metadata": {},
   "outputs": [
    {
     "name": "stdout",
     "output_type": "stream",
     "text": [
      "   age          job  marital  education default  balance housing loan  \\\n",
      "0   30   unemployed  married    primary      no     1787      no   no   \n",
      "1   33     services  married  secondary      no     4789     yes  yes   \n",
      "2   35   management   single   tertiary      no     1350     yes   no   \n",
      "3   30   management  married   tertiary      no     1476     yes  yes   \n",
      "4   59  blue-collar  married  secondary      no        0     yes   no   \n",
      "\n",
      "    contact  day month  duration  campaign  pdays  previous poutcome   y  \n",
      "0  cellular   19   oct        79         1     -1         0  unknown  no  \n",
      "1  cellular   11   may       220         1    339         4  failure  no  \n",
      "2  cellular   16   apr       185         1    330         1  failure  no  \n",
      "3   unknown    3   jun       199         4     -1         0  unknown  no  \n",
      "4   unknown    5   may       226         1     -1         0  unknown  no  \n"
     ]
    }
   ],
   "source": [
    "import pandas as pd\n",
    "bank = pd.read_csv('../bank.csv',sep=';')\n",
    "print(bank.head())"
   ]
  },
  {
   "cell_type": "code",
   "execution_count": 2,
   "metadata": {},
   "outputs": [
    {
     "name": "stdout",
     "output_type": "stream",
     "text": [
      "2843.538052901605\n"
     ]
    }
   ],
   "source": [
    "#1. pdays와 balance의 공분산\n",
    "covar = bank['pdays'].cov(bank['balance'])\n",
    "print(covar)"
   ]
  },
  {
   "cell_type": "code",
   "execution_count": 3,
   "metadata": {},
   "outputs": [
    {
     "name": "stdout",
     "output_type": "stream",
     "text": [
      "pearson coef 0.009436675990853845\n",
      "pval 0.5258553742278886\n"
     ]
    }
   ],
   "source": [
    "#2. pday와 balance의 피어슨, p-val\n",
    "from scipy.stats import pearsonr\n",
    "pear,p_val = pearsonr(bank['pdays'],bank['balance'])\n",
    "print('pearson coef',pear)\n",
    "print('pval',p_val) #연관이 없음을 확인함"
   ]
  },
  {
   "cell_type": "code",
   "execution_count": 4,
   "metadata": {},
   "outputs": [
    {
     "name": "stdout",
     "output_type": "stream",
     "text": [
      "스피어만 상관계수: -0.9999999999999999\n",
      "p-value: 0.000000000000000\n",
      "귀무가설 기각. \n",
      "통계적으로 유의미한 수준으로 연관성이 있음.\n"
     ]
    }
   ],
   "source": [
    "#3 아래 코드를 완성하시고 결과를 출력하세요\n",
    "# 상관분석2 - 스피어만 상관계수 - 순서 정보가 있는 ordinal한 범주형 변수간의 관계 \n",
    "from scipy.stats import spearmanr\n",
    "import numpy as np\n",
    "import pandas as pd\n",
    "\n",
    "X = [1, 2, 3, 4, 5]\n",
    "Y = [5, 4, 3, 2, 1]\n",
    "\n",
    "# 스피어만 상관계수 계산\n",
    "rho, p_value = spearmanr(X, Y) # 적합한 변수를 넣으세요.\n",
    "\n",
    "print(\"스피어만 상관계수:\", rho)\n",
    "print(\"p-value:\", f\"{p_value:.15f}\")\n",
    "\n",
    "alpha = 0.05\n",
    "\n",
    "if p_value < alpha:\n",
    "    print(\"귀무가설 기각. \\n통계적으로 유의미한 수준으로 연관성이 있음.\")\n",
    "else:\n",
    "    print(\"귀무가설 기각할 수 없음. \\n통계적으로 유의미한 수준으로 연관성이 없음.\")"
   ]
  },
  {
   "cell_type": "code",
   "execution_count": 5,
   "metadata": {},
   "outputs": [
    {
     "name": "stdout",
     "output_type": "stream",
     "text": [
      "                  Date                  Day  High Temp (°F)  Low Temp (°F)  \\\n",
      "0  2016-04-01 00:00:00  2016-04-01 00:00:00            78.1           66.0   \n",
      "1  2016-04-02 00:00:00  2016-04-02 00:00:00            55.0           48.9   \n",
      "2  2016-04-03 00:00:00  2016-04-03 00:00:00            39.9           34.0   \n",
      "3  2016-04-04 00:00:00  2016-04-04 00:00:00            44.1           33.1   \n",
      "4  2016-04-05 00:00:00  2016-04-05 00:00:00            42.1           26.1   \n",
      "\n",
      "  Precipitation  Brooklyn Bridge  Manhattan Bridge  Williamsburg Bridge  \\\n",
      "0          0.01           1704.0              3126               4115.0   \n",
      "1          0.15            827.0              1646               2565.0   \n",
      "2          0.09            526.0              1232               1695.0   \n",
      "3      0.47 (S)            521.0              1067               1440.0   \n",
      "4             0           1416.0              2617               3081.0   \n",
      "\n",
      "   Queensboro Bridge  Total  \n",
      "0             2552.0  11497  \n",
      "1             1884.0   6922  \n",
      "2             1306.0   4759  \n",
      "3             1307.0   4335  \n",
      "4             2357.0   9471  \n"
     ]
    }
   ],
   "source": [
    "# 새로운 데이터\n",
    "bicycle = pd.read_csv('../nyc-east-river-bicycle-counts.csv',index_col=0) #파일 불러올 때 index_col = 0 을 사용해서 첫번째 컬럼을 인덱스로 사용해버릴 수 있다.\n",
    "print(bicycle.head())"
   ]
  },
  {
   "cell_type": "markdown",
   "metadata": {},
   "source": [
    "2. 단순 선형 회귀(Simple Linear Regression)\n",
    "- 종속 변수 Brooklyn Bridge, 독립변수 High Temp의 선형회귀모델을 구현하고 요약리포트 사용, 요약테이블 출력, 결과를 해석한 코멘트 3줄"
   ]
  },
  {
   "cell_type": "code",
   "execution_count": 6,
   "metadata": {},
   "outputs": [
    {
     "name": "stdout",
     "output_type": "stream",
     "text": [
      "0.5466776174435135\n",
      "mae 560.478806694349\n",
      "rmse 659.0848680766909\n",
      "                            OLS Regression Results                            \n",
      "==============================================================================\n",
      "Dep. Variable:        Brooklyn Bridge   R-squared:                       0.547\n",
      "Model:                            OLS   Adj. R-squared:                  0.544\n",
      "Method:                 Least Squares   F-statistic:                     250.8\n",
      "Date:                Wed, 07 Feb 2024   Prob (F-statistic):           1.37e-37\n",
      "Time:                        13:21:11   Log-Likelihood:                -1661.1\n",
      "No. Observations:                 210   AIC:                             3326.\n",
      "Df Residuals:                     208   BIC:                             3333.\n",
      "Df Model:                           1                                         \n",
      "Covariance Type:            nonrobust                                         \n",
      "==================================================================================\n",
      "                     coef    std err          t      P>|t|      [0.025      0.975]\n",
      "----------------------------------------------------------------------------------\n",
      "const          -1660.4539    252.320     -6.581      0.000   -2157.886   -1163.022\n",
      "High Temp (°F)    64.8743      4.096     15.838      0.000      56.799      72.950\n",
      "==============================================================================\n",
      "Omnibus:                       13.913   Durbin-Watson:                   1.713\n",
      "Prob(Omnibus):                  0.001   Jarque-Bera (JB):               14.700\n",
      "Skew:                          -0.616   Prob(JB):                     0.000643\n",
      "Kurtosis:                       2.599   Cond. No.                         340.\n",
      "==============================================================================\n",
      "\n",
      "Notes:\n",
      "[1] Standard Errors assume that the covariance matrix of the errors is correctly specified.\n",
      "==================================================================================\n",
      "                     coef    std err          t      P>|t|      [0.025      0.975]\n",
      "----------------------------------------------------------------------------------\n",
      "const          -1660.4539    252.320     -6.581      0.000   -2157.886   -1163.022\n",
      "High Temp (°F)    64.8743      4.096     15.838      0.000      56.799      72.950\n",
      "==================================================================================\n"
     ]
    }
   ],
   "source": [
    "X = bicycle['High Temp (°F)']\n",
    "y = bicycle['Brooklyn Bridge']\n",
    "import statsmodels.api as sm\n",
    "from sklearn.metrics import mean_absolute_error, mean_squared_error\n",
    "\n",
    "X = sm.add_constant(X) #상수 더해줌\n",
    "\n",
    "model = sm.OLS(y,X).fit() #모델 선언후 바로 fit\n",
    "\n",
    "pred = model.predict(X)\n",
    "\n",
    "r_squared = model.rsquared\n",
    "print(r_squared)\n",
    "mae = mean_absolute_error(y,pred)\n",
    "print('mae',mae)\n",
    "rmse = np.sqrt(mean_squared_error(y,pred))\n",
    "print('rmse',rmse)\n",
    "\n",
    "summary = model.summary()\n",
    "\n",
    "p_val_table = model.summary().tables[1]\n",
    "\n",
    "print(summary)\n",
    "print(p_val_table)"
   ]
  },
  {
   "cell_type": "markdown",
   "metadata": {},
   "source": [
    "수치 및 리포트 결과 해석\n",
    "1. r-squred의 값이 약 54%이상으로 절반정도 설명할 수 있다. \n",
    "2. coeffience의 방향성이 양의 영향관계를 띈다.\n",
    "3. p-value의 값이 0에 수렴하기 때문에 영향을 준다고 볼 수 있다."
   ]
  },
  {
   "cell_type": "markdown",
   "metadata": {},
   "source": [
    "3. 다중 선형 회귀 모델 구현     \n",
    "- 종속변수 brookly bridge, 독립변수 hightemp lowtemp 위와 동일함."
   ]
  },
  {
   "cell_type": "code",
   "execution_count": 8,
   "metadata": {},
   "outputs": [
    {
     "name": "stdout",
     "output_type": "stream",
     "text": [
      "   High Temp (°F)  Low Temp (°F)  Brooklyn Bridge\n",
      "0            78.1           66.0           1704.0\n",
      "1            55.0           48.9            827.0\n",
      "2            39.9           34.0            526.0\n",
      "3            44.1           33.1            521.0\n",
      "4            42.1           26.1           1416.0\n",
      "                            OLS Regression Results                            \n",
      "==============================================================================\n",
      "Dep. Variable:        Brooklyn Bridge   R-squared:                       0.612\n",
      "Model:                            OLS   Adj. R-squared:                  0.608\n",
      "Method:                 Least Squares   F-statistic:                     163.1\n",
      "Date:                Wed, 07 Feb 2024   Prob (F-statistic):           2.97e-43\n",
      "Time:                        13:42:31   Log-Likelihood:                -1644.8\n",
      "No. Observations:                 210   AIC:                             3296.\n",
      "Df Residuals:                     207   BIC:                             3306.\n",
      "Df Model:                           2                                         \n",
      "Covariance Type:            nonrobust                                         \n",
      "==============================================================================\n",
      "                 coef    std err          t      P>|t|      [0.025      0.975]\n",
      "------------------------------------------------------------------------------\n",
      "const       2269.6333     42.394     53.536      0.000    2186.053    2353.213\n",
      "x1          1086.7316     74.796     14.529      0.000     939.273    1234.190\n",
      "x2          -440.5601     74.796     -5.890      0.000    -588.019    -293.101\n",
      "==============================================================================\n",
      "Omnibus:                       14.616   Durbin-Watson:                   1.624\n",
      "Prob(Omnibus):                  0.001   Jarque-Bera (JB):                5.663\n",
      "Skew:                          -0.047   Prob(JB):                       0.0589\n",
      "Kurtosis:                       2.201   Cond. No.                         3.22\n",
      "==============================================================================\n",
      "\n",
      "Notes:\n",
      "[1] Standard Errors assume that the covariance matrix of the errors is correctly specified.\n",
      "==============================================================================\n",
      "                 coef    std err          t      P>|t|      [0.025      0.975]\n",
      "------------------------------------------------------------------------------\n",
      "const       2269.6333     42.394     53.536      0.000    2186.053    2353.213\n",
      "x1          1086.7316     74.796     14.529      0.000     939.273    1234.190\n",
      "x2          -440.5601     74.796     -5.890      0.000    -588.019    -293.101\n",
      "==============================================================================\n"
     ]
    }
   ],
   "source": [
    "new_X = bicycle.copy()\n",
    "col_list = ['High Temp (°F)','Low Temp (°F)','Brooklyn Bridge']\n",
    "for i in new_X:\n",
    "    if i not in col_list:\n",
    "        new_X = new_X.drop(i,axis=1)\n",
    "    else:\n",
    "        pass\n",
    "\n",
    "print(new_X.head())\n",
    "\n",
    "y = new_X['Brooklyn Bridge']\n",
    "new_X = new_X.drop('Brooklyn Bridge',axis=1)\n",
    "from sklearn.preprocessing import StandardScaler\n",
    "scale = StandardScaler()\n",
    "new_X = scale.fit_transform(new_X)\n",
    "new_X = sm.add_constant(new_X)\n",
    "model = sm.OLS(y,new_X).fit()\n",
    "\n",
    "pred = model.predict(new_X)\n",
    "\n",
    "mae = mean_absolute_error(y,pred)\n",
    "rmse = np.sqrt(mean_squared_error(y,pred))\n",
    "\n",
    "print(model.summary())\n",
    "print(model.summary().tables[1])"
   ]
  },
  {
   "cell_type": "markdown",
   "metadata": {},
   "source": [
    "1. R squared의 값은 0.612로 이 두가지 변수로 brooklyn bridge를 약 61.2% 설명 가능하다.\n",
    "2. 두 변수 다 p-value의 값이 적으므로 연관이 있다고 볼 수 있다.\n",
    "3. High temp는 뚜렷한 양의 영향관계를, Low Temp는 음의 영향관계를 가진다."
   ]
  },
  {
   "cell_type": "markdown",
   "metadata": {},
   "source": [
    "Logistic Regression(bank)"
   ]
  },
  {
   "cell_type": "code",
   "execution_count": 19,
   "metadata": {},
   "outputs": [
    {
     "name": "stdout",
     "output_type": "stream",
     "text": [
      "   age          job  marital  education default  balance housing loan  \\\n",
      "0   30   unemployed  married    primary      no     1787      no   no   \n",
      "1   33     services  married  secondary      no     4789     yes  yes   \n",
      "2   35   management   single   tertiary      no     1350     yes   no   \n",
      "3   30   management  married   tertiary      no     1476     yes  yes   \n",
      "4   59  blue-collar  married  secondary      no        0     yes   no   \n",
      "\n",
      "    contact  day month  duration  campaign  pdays  previous poutcome   y  \n",
      "0  cellular   19   oct        79         1     -1         0  unknown  no  \n",
      "1  cellular   11   may       220         1    339         4  failure  no  \n",
      "2  cellular   16   apr       185         1    330         1  failure  no  \n",
      "3   unknown    3   jun       199         4     -1         0  unknown  no  \n",
      "4   unknown    5   may       226         1     -1         0  unknown  no  \n",
      "Optimization terminated successfully.\n",
      "         Current function value: 0.289092\n",
      "         Iterations 7\n"
     ]
    }
   ],
   "source": [
    "bank_data = pd.read_csv('../bank.csv',sep=';')\n",
    "print(bank_data.head())\n",
    "X = bank_data.select_dtypes(exclude='object').drop(['day'],axis=1)\n",
    "y = bank_data['y'].apply(lambda x: 0 if x =='no' else 1)\n",
    "col_list = list(X.columns)\n",
    "col_list.insert(0,'const')\n",
    "scale_X = StandardScaler().fit_transform(X)\n",
    "X = sm.add_constant(scale_X)\n",
    "\n",
    "model = sm.Logit(y,X).fit()\n",
    "pred = model.predict()"
   ]
  },
  {
   "cell_type": "markdown",
   "metadata": {},
   "source": [
    "학습 점검 체크리스트\n",
    "- 공분산을 설명할 수 있는가? -> 두 변수간 변화하는 정도\n",
    "- 피어슨 상관계수와 스피어만 상관계수의 차이를 설명할 수 있는가? -> 연속 / 범주형\n",
    "- 피어슨 상관계수를 코드로 구현할 수 있는가? -> yes\n",
    "- 데이터의 선형성을 설명할 수 있는가? -> yes\n",
    "- 두 변수의 관계를 설명하는 상관계수를 그릴 수 있는가? -> yes\n",
    "- 회귀계수와 상관계수의 차이를 설명할 수 있고 회귀 계수 결과를 설명할 수 있는가? -> 상관계수 : 선형관계의 강도 방향 / 회귀계수 : 변수의 영향관계\n",
    "- 단순선형회귀와 다중선형회귀 결과 요약 리포트와 p-value 테이블을 출력할 수 있는가? -> yes\n",
    "- 로지스틱 회귀분석은 이진 분류 문제에 사용되는 분석 방법이다."
   ]
  },
  {
   "cell_type": "code",
   "execution_count": 24,
   "metadata": {},
   "outputs": [
    {
     "name": "stdout",
     "output_type": "stream",
     "text": [
      "                           Logit Regression Results                           \n",
      "==============================================================================\n",
      "Dep. Variable:                      y   No. Observations:                 4521\n",
      "Model:                          Logit   Df Residuals:                     4514\n",
      "Method:                           MLE   Df Model:                            6\n",
      "Date:                Wed, 07 Feb 2024   Pseudo R-squ.:                  0.1910\n",
      "Time:                        14:12:10   Log-Likelihood:                -1307.0\n",
      "converged:                       True   LL-Null:                       -1615.5\n",
      "Covariance Type:            nonrobust   LLR p-value:                4.947e-130\n",
      "==============================================================================\n",
      "                 coef    std err          z      P>|z|      [0.025      0.975]\n",
      "------------------------------------------------------------------------------\n",
      "const         -2.4134      0.060    -40.174      0.000      -2.531      -2.296\n",
      "age            0.1427      0.049      2.887      0.004       0.046       0.240\n",
      "balance        0.0741      0.045      1.663      0.096      -0.013       0.162\n",
      "duration       0.9469      0.046     20.726      0.000       0.857       1.036\n",
      "campaign      -0.2750      0.080     -3.428      0.001      -0.432      -0.118\n",
      "pdays          0.1852      0.050      3.667      0.000       0.086       0.284\n",
      "previous       0.1767      0.044      3.972      0.000       0.089       0.264\n",
      "==============================================================================\n",
      "==============================================================================\n",
      "                 coef    std err          z      P>|z|      [0.025      0.975]\n",
      "------------------------------------------------------------------------------\n",
      "const         -2.4134      0.060    -40.174      0.000      -2.531      -2.296\n",
      "age            0.1427      0.049      2.887      0.004       0.046       0.240\n",
      "balance        0.0741      0.045      1.663      0.096      -0.013       0.162\n",
      "duration       0.9469      0.046     20.726      0.000       0.857       1.036\n",
      "campaign      -0.2750      0.080     -3.428      0.001      -0.432      -0.118\n",
      "pdays          0.1852      0.050      3.667      0.000       0.086       0.284\n",
      "previous       0.1767      0.044      3.972      0.000       0.089       0.264\n",
      "==============================================================================\n",
      "0.16714647339726885\n"
     ]
    }
   ],
   "source": [
    "mae = mean_absolute_error(y,pred)\n",
    "summary = model.summary(xname=col_list)\n",
    "print(summary)\n",
    "print(summary.tables[1])\n",
    "print(mae)\n"
   ]
  },
  {
   "cell_type": "markdown",
   "metadata": {},
   "source": [
    "1. balance는 종속변수 y에 큰 영향력을 가지지 못한다, p-value 또한 높아서 balance를 제외하고 확인해도 무관하다.\n",
    "2. duration이 영향관계가 가장 크다는 것을 알 수 있다. \n",
    "3. campaign을 제외하고 대부분 변수는 양의 영황관계를 가지고 있다. \n",
    "4. mae의 결과를 통해서 회귀선이 잘 예측하고 있음을 나타낸다."
   ]
  },
  {
   "cell_type": "code",
   "execution_count": null,
   "metadata": {},
   "outputs": [],
   "source": []
  }
 ],
 "metadata": {
  "kernelspec": {
   "display_name": "base",
   "language": "python",
   "name": "python3"
  },
  "language_info": {
   "codemirror_mode": {
    "name": "ipython",
    "version": 3
   },
   "file_extension": ".py",
   "mimetype": "text/x-python",
   "name": "python",
   "nbconvert_exporter": "python",
   "pygments_lexer": "ipython3",
   "version": "3.11.5"
  }
 },
 "nbformat": 4,
 "nbformat_minor": 2
}
