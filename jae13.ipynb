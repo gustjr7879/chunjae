{
 "cells": [
  {
   "cell_type": "markdown",
   "metadata": {},
   "source": [
    "사람인, 잡코리아, 원티드를 크롤링하는데      \n",
    "aws / 공인교육기관 / 교육기획\n",
    "타사의 교육내용, 수요, 직무, 기업, 키워드,       \n",
    "\n",
    "\n",
    "회사 이름 / 공고 이름 / 경력 유무 / 주요업무 / 자격요건 / 우대사항 / 지역?     \n",
    "\n"
   ]
  },
  {
   "cell_type": "code",
   "execution_count": 1,
   "metadata": {},
   "outputs": [],
   "source": [
    "from selenium import webdriver\n",
    "import requests\n",
    "import pandas as pd\n",
    "import re\n",
    "from selenium.webdriver.common.by import By\n",
    "from selenium.webdriver.common.keys import Keys"
   ]
  },
  {
   "cell_type": "code",
   "execution_count": 2,
   "metadata": {},
   "outputs": [],
   "source": [
    "url = 'https://www.wanted.co.kr/search?query=aws&tab=position'\n"
   ]
  },
  {
   "cell_type": "code",
   "execution_count": 3,
   "metadata": {},
   "outputs": [],
   "source": [
    "#req = requests.get(url)"
   ]
  },
  {
   "cell_type": "code",
   "execution_count": 4,
   "metadata": {},
   "outputs": [],
   "source": [
    "driver = webdriver.Chrome()\n",
    "driver.get(url)"
   ]
  },
  {
   "cell_type": "code",
   "execution_count": 5,
   "metadata": {},
   "outputs": [],
   "source": [
    "import time\n",
    "time.sleep(3)\n",
    "actions = driver.find_element(By.CSS_SELECTOR, 'body')\n",
    "all_ = int(driver.find_element(By.XPATH,'//*[@id=\"search_tabpanel_position\"]/div/div[1]/h2/span').text) #모든 공고 숫자\n",
    "tcnt = len(driver.find_elements(By.CLASS_NAME,\"JobCard_container__FqChn.JobCard_container--variant-card__znjV9\"))\n",
    "while tcnt < all_:\n",
    "    actions.send_keys(Keys.END)\n",
    "    tcnt = len(driver.find_elements(By.CLASS_NAME,\"JobCard_container__FqChn.JobCard_container--variant-card__znjV9\"))\n",
    "    time.sleep(2)\n",
    "    print(tcnt)\n",
    "#//*[@id=\"search_tabpanel_position\"]/div/div[4]\n",
    "time.sleep(1)\n",
    "actions.send_keys(Keys.HOME)\n",
    "time.sleep(3)\n",
    "import pandas as pd\n",
    "wanted_df = pd.DataFrame(columns= ['시,군','회사이름','주요업무','자격요건','우대사항'])\n",
    "\n",
    "loca_list = []\n",
    "name_list = []\n",
    "main_list = []\n",
    "must_list = []\n",
    "prefer_list = []\n",
    "for j in range(1,2):#all_+1):\n",
    "    driver.find_element(By.XPATH,f'//*[@id=\"search_tabpanel_position\"]/div/div[4]/div[{j}]/a/div[2]/strong').click()\n",
    "    #세번째 div 숫자 바뀜\n",
    "    #클릭했으니 스크래핑 이후에 뒤로가기 눌러줘야함\n",
    "    time.sleep(3)\n",
    "    company_name = driver.find_element(By.XPATH,'//*[@id=\"__next\"]/main/div[1]/div/section/header/div/div[1]/a').text\n",
    "    location = driver.find_element(By.XPATH,'//*[@id=\"__next\"]/main/div[1]/div/section/header/div/div[1]/span[2]').text\n",
    "    loca_list.append(location)\n",
    "    name_list.append(company_name)\n",
    "    driver.find_element(By.XPATH,'//*[@id=\"__next\"]/main/div[1]/div/section/section/article[1]/div/button/span[2]').click()\n",
    "    time.sleep(3)\n",
    "    for i in range(1,4):\n",
    "\n",
    "        if i == 1:\n",
    "            main_work = re.sub('•','',driver.find_element(By.XPATH,f'//*[@id=\"__next\"]/main/div[1]/div/section/section/article[1]/div/div[{i}]').text).split('\\n')[1:]\n",
    "            #print(main_work)\n",
    "        elif i == 2:\n",
    "            must = re.sub('•','',driver.find_element(By.XPATH,f'//*[@id=\"__next\"]/main/div[1]/div/section/section/article[1]/div/div[{i}]').text).split('\\n')[1:]\n",
    "        elif i == 3:\n",
    "            prefer = re.sub('•','',driver.find_element(By.XPATH,f'//*[@id=\"__next\"]/main/div[1]/div/section/section/article[1]/div/div[{i}]').text).split('\\n')[1:]\n",
    "    main_list.append(main_work)\n",
    "    must_list.append(must)\n",
    "    prefer_list.append(prefer)\n",
    "    driver.back()\n",
    "#추가해야할 기능 : 스크롤 끝까지, 포지션 갯수에 맞게끔 뒤로가기 클릭"
   ]
  },
  {
   "cell_type": "code",
   "execution_count": 6,
   "metadata": {},
   "outputs": [],
   "source": [
    "wanted_df['시,군'] = loca_list\n",
    "wanted_df['회사이름'] = name_list\n",
    "wanted_df['주요업무'] = main_list\n",
    "wanted_df['자격요건'] = must_list\n",
    "wanted_df['우대사항'] = prefer_list"
   ]
  },
  {
   "cell_type": "code",
   "execution_count": 7,
   "metadata": {},
   "outputs": [
    {
     "name": "stdout",
     "output_type": "stream",
     "text": [
      "      시,군     회사이름                                               주요업무  \\\n",
      "0  서울 관악구  한국미용데이터  [ 뷰카앱(뷰티업종 고객관리) 서비스 백엔드 유지보수/ 개발,  뷰카마켓(뷰티업종 ...   \n",
      "\n",
      "                                                자격요건  \\\n",
      "0  [ 백엔드개발 1년 이상 경력 혹은 프로젝트 수행 경험,  Python, Fast-...   \n",
      "\n",
      "                                                우대사항  \n",
      "0  [ AWS 환경에서 서버 운영 및 구축 가능,  CI/CD, 코드디플로이 등 배포 ...  \n"
     ]
    }
   ],
   "source": [
    "print(wanted_df)"
   ]
  },
  {
   "cell_type": "code",
   "execution_count": 8,
   "metadata": {},
   "outputs": [],
   "source": [
    "wanted_df.to_csv('./wanted.csv',encoding='cp949',index=False)"
   ]
  },
  {
   "cell_type": "code",
   "execution_count": 9,
   "metadata": {},
   "outputs": [
    {
     "name": "stdout",
     "output_type": "stream",
     "text": [
      "      시,군     회사이름                                               주요업무  \\\n",
      "0  서울 관악구  한국미용데이터  [' 뷰카앱(뷰티업종 고객관리) 서비스 백엔드 유지보수/ 개발', ' 뷰카마켓(뷰티...   \n",
      "\n",
      "                                                자격요건  \\\n",
      "0  [' 백엔드개발 1년 이상 경력 혹은 프로젝트 수행 경험', ' Python, Fa...   \n",
      "\n",
      "                                                우대사항  \n",
      "0  [' AWS 환경에서 서버 운영 및 구축 가능', ' CI/CD, 코드디플로이 등 ...  \n"
     ]
    }
   ],
   "source": [
    "w = pd.read_csv('./wanted.csv',encoding='cp949')\n",
    "print(w)"
   ]
  },
  {
   "cell_type": "code",
   "execution_count": 5,
   "metadata": {},
   "outputs": [],
   "source": [
    "from konlpy.tag import Okt\n",
    "import os\n",
    "os.environ['JAVA_HOME'] = \"C:\\\\Program Files\\\\Java\\\\jdk-17\\\\bin\\\\server\""
   ]
  },
  {
   "cell_type": "code",
   "execution_count": 6,
   "metadata": {},
   "outputs": [
    {
     "ename": "NameError",
     "evalue": "name 'w' is not defined",
     "output_type": "error",
     "traceback": [
      "\u001b[1;31m---------------------------------------------------------------------------\u001b[0m",
      "\u001b[1;31mNameError\u001b[0m                                 Traceback (most recent call last)",
      "Cell \u001b[1;32mIn[6], line 2\u001b[0m\n\u001b[0;32m      1\u001b[0m tokenizer \u001b[38;5;241m=\u001b[39m Okt()\n\u001b[1;32m----> 2\u001b[0m \u001b[38;5;28mprint\u001b[39m(tokenizer\u001b[38;5;241m.\u001b[39mnouns(w[\u001b[38;5;124m'\u001b[39m\u001b[38;5;124m우대사항\u001b[39m\u001b[38;5;124m'\u001b[39m]))\n",
      "\u001b[1;31mNameError\u001b[0m: name 'w' is not defined"
     ]
    }
   ],
   "source": [
    "tokenizer = Okt()\n",
    "print(tokenizer.nouns(w['우대사항']))"
   ]
  },
  {
   "cell_type": "code",
   "execution_count": null,
   "metadata": {},
   "outputs": [],
   "source": []
  }
 ],
 "metadata": {
  "kernelspec": {
   "display_name": "base",
   "language": "python",
   "name": "python3"
  },
  "language_info": {
   "codemirror_mode": {
    "name": "ipython",
    "version": 3
   },
   "file_extension": ".py",
   "mimetype": "text/x-python",
   "name": "python",
   "nbconvert_exporter": "python",
   "pygments_lexer": "ipython3",
   "version": "3.11.5"
  }
 },
 "nbformat": 4,
 "nbformat_minor": 2
}
