{
 "cells": [
  {
   "cell_type": "markdown",
   "metadata": {},
   "source": [
    "##### 부동산 데이터"
   ]
  },
  {
   "cell_type": "code",
   "execution_count": 120,
   "metadata": {},
   "outputs": [
    {
     "name": "stdout",
     "output_type": "stream",
     "text": [
      "        연도구분     지역구분                       소재지명 재산구분 공부지목  대장면적(제곱미터)  \\\n",
      "0       2014    서울특별시      서울특별시 종로구 창성동  117-10   토지    대           4   \n",
      "1       2014    서울특별시      서울특별시 종로구 옥인동  47-255   토지    대          10   \n",
      "2       2014    서울특별시        서울특별시 종로구 사직동  1-31   토지    대           5   \n",
      "3       2014    서울특별시        서울특별시 종로구 세종로  86-2   토지    대          11   \n",
      "4       2014    서울특별시        서울특별시 종로구 세종로  89-2   토지    대           1   \n",
      "...      ...      ...                        ...  ...  ...         ...   \n",
      "161746  2023  전북특별자치도   전북특별자치도 부안군 줄포면 신리 867-2   토지   구거         220   \n",
      "161747  2023  전북특별자치도   전북특별자치도 부안군 줄포면 신리 867-3   토지   구거          30   \n",
      "161748  2023  전북특별자치도     전북특별자치도 부안군 줄포면 신리 901   토지   구거         680   \n",
      "161749  2023  전북특별자치도    전북특별자치도 부안군 줄포면 파산리 620   토지    대         274   \n",
      "161750  2023  전북특별자치도  전북특별자치도 부안군 위도면 진리 525-10   토지    대          67   \n",
      "\n",
      "          대장금액(원)       처분구분명        계약일자        부서         팀  \n",
      "0         7372000    처분(매각수의)  2014-04-07  서울서부지역본부    국유재산1팀  \n",
      "1        31482000    처분(매각수의)  2014-11-10  서울서부지역본부    국유재산1팀  \n",
      "2        16836000    처분(매각수의)  2014-02-27  서울서부지역본부    국유재산1팀  \n",
      "3       338767000  처분(무상관리전환)  2014-03-03  서울서부지역본부    국유재산1팀  \n",
      "4        33787000  처분(무상관리전환)  2014-03-03  서울서부지역본부    국유재산1팀  \n",
      "...           ...         ...         ...       ...       ...  \n",
      "161746   16469200    처분(매각수의)  2023-08-30    전북지역본부  국유재산관리2팀  \n",
      "161747    2245800    처분(매각수의)  2023-08-30    전북지역본부  국유재산관리2팀  \n",
      "161748   50904800    처분(매각수의)  2023-08-30    전북지역본부  국유재산관리2팀  \n",
      "161749    4795000    처분(매각수의)  2023-11-03    전북지역본부  국유재산관리2팀  \n",
      "161750    2642480    처분(매각수의)  2023-10-04    전북지역본부  국유재산관리2팀  \n",
      "\n",
      "[161751 rows x 11 columns]\n"
     ]
    }
   ],
   "source": [
    "import pandas as pd\n",
    "\n",
    "land_data = pd.read_csv('../한국자산관리공사_국유부동산 매각현황_20231231.csv',encoding='cp949')\n",
    "print(land_data)"
   ]
  },
  {
   "cell_type": "markdown",
   "metadata": {},
   "source": [
    "- 필수분석\n",
    "1. 매각금액이 가장 많은 팀과 하위팀의 차이 확인하기\n",
    "2. 연도별 매각금액 추이 확인하기\n",
    "3. 상위 5개 지역별 매격 면적 확인하기\n",
    "4. 계약 일자 정보 기준으로 매각이 많은 때의 특징 알아보기"
   ]
  },
  {
   "cell_type": "markdown",
   "metadata": {},
   "source": [
    "1. 가장 많은 팀과 하위팀 차이 확인"
   ]
  },
  {
   "cell_type": "code",
   "execution_count": 121,
   "metadata": {},
   "outputs": [
    {
     "name": "stdout",
     "output_type": "stream",
     "text": [
      "['처분(매각수의)' '처분(무상관리전환)' '처분(매각입찰)' '처분(유상관리전환)' '처분(무상양여)' '처분(무상귀속)'\n",
      " '처분(유상양여)' '처분(사용승인)']\n",
      "['처분(매각수의)' '처분(매각입찰)']\n"
     ]
    }
   ],
   "source": [
    "print(land_data['처분구분명'].unique())\n",
    "maegak_land_data = land_data.copy()\n",
    "maegak_land_data.query(\"처분구분명 == '처분(매각수의)' or 처분구분명 == '처분(매각입찰)'\",inplace=True)\n",
    "print(maegak_land_data['처분구분명'].unique())"
   ]
  },
  {
   "cell_type": "code",
   "execution_count": 122,
   "metadata": {},
   "outputs": [
    {
     "name": "stdout",
     "output_type": "stream",
     "text": [
      "1703642957752 25217099875\n",
      "sum    1703642957752\n",
      "Name: 국유재산3팀, dtype: int64 sum    25217099875\n",
      "Name: 국유세종팀, dtype: int64\n",
      "Index(['국유재산3팀', '국유재산2팀', '국유재산1팀', '국유재산관리3팀', '국유재산관리2팀', '국유재산관리1팀',\n",
      "       '국유재산관리4팀', '내포지사', '울산지사', '평택지사', '의정부지사', '국유재산관리5팀', '국유1팀', '포항지사',\n",
      "       '국유진주지사', '춘천지사', '원주지사', '국유통영지사', '군산지사', '충주지사', '국유목포지사', '국유제주지사',\n",
      "       '국유2팀', '안동지사', '국유여수지사', '국유세종팀'],\n",
      "      dtype='object', name='팀')\n"
     ]
    },
    {
     "data": {
      "application/vnd.plotly.v1+json": {
       "config": {
        "plotlyServerURL": "https://plot.ly"
       },
       "data": [
        {
         "alignmentgroup": "True",
         "hovertemplate": "팀=%{x}<br>금액합계=%{y}<extra></extra>",
         "legendgroup": "",
         "marker": {
          "color": "#636efa",
          "pattern": {
           "shape": ""
          }
         },
         "name": "",
         "offsetgroup": "",
         "orientation": "v",
         "showlegend": false,
         "textposition": "auto",
         "type": "bar",
         "x": [
          "국유재산3팀",
          "국유재산2팀",
          "국유재산1팀",
          "국유재산관리3팀",
          "국유재산관리2팀",
          "국유재산관리1팀",
          "국유재산관리4팀",
          "내포지사",
          "울산지사",
          "평택지사",
          "의정부지사",
          "국유재산관리5팀",
          "국유1팀",
          "포항지사",
          "국유진주지사",
          "춘천지사",
          "원주지사",
          "국유통영지사",
          "군산지사",
          "충주지사",
          "국유목포지사",
          "국유제주지사",
          "국유2팀",
          "안동지사",
          "국유여수지사",
          "국유세종팀"
         ],
         "xaxis": "x",
         "y": [
          1703642957752,
          1063331161350,
          1018462488362,
          568039437422,
          391634282503,
          358657693864,
          304939665817,
          221789646911,
          166973387947,
          155075704973,
          145711688956,
          136042336841,
          110616109020,
          97638869895,
          52525053895,
          52437687363,
          50430515124,
          43118092363,
          38920948189,
          37973085362,
          37577476029,
          35750394164,
          35477646175,
          32096625821,
          31956863333,
          25217099875
         ],
         "yaxis": "y"
        }
       ],
       "layout": {
        "barmode": "relative",
        "legend": {
         "tracegroupgap": 0
        },
        "margin": {
         "t": 60
        },
        "template": {
         "data": {
          "bar": [
           {
            "error_x": {
             "color": "#2a3f5f"
            },
            "error_y": {
             "color": "#2a3f5f"
            },
            "marker": {
             "line": {
              "color": "#E5ECF6",
              "width": 0.5
             },
             "pattern": {
              "fillmode": "overlay",
              "size": 10,
              "solidity": 0.2
             }
            },
            "type": "bar"
           }
          ],
          "barpolar": [
           {
            "marker": {
             "line": {
              "color": "#E5ECF6",
              "width": 0.5
             },
             "pattern": {
              "fillmode": "overlay",
              "size": 10,
              "solidity": 0.2
             }
            },
            "type": "barpolar"
           }
          ],
          "carpet": [
           {
            "aaxis": {
             "endlinecolor": "#2a3f5f",
             "gridcolor": "white",
             "linecolor": "white",
             "minorgridcolor": "white",
             "startlinecolor": "#2a3f5f"
            },
            "baxis": {
             "endlinecolor": "#2a3f5f",
             "gridcolor": "white",
             "linecolor": "white",
             "minorgridcolor": "white",
             "startlinecolor": "#2a3f5f"
            },
            "type": "carpet"
           }
          ],
          "choropleth": [
           {
            "colorbar": {
             "outlinewidth": 0,
             "ticks": ""
            },
            "type": "choropleth"
           }
          ],
          "contour": [
           {
            "colorbar": {
             "outlinewidth": 0,
             "ticks": ""
            },
            "colorscale": [
             [
              0,
              "#0d0887"
             ],
             [
              0.1111111111111111,
              "#46039f"
             ],
             [
              0.2222222222222222,
              "#7201a8"
             ],
             [
              0.3333333333333333,
              "#9c179e"
             ],
             [
              0.4444444444444444,
              "#bd3786"
             ],
             [
              0.5555555555555556,
              "#d8576b"
             ],
             [
              0.6666666666666666,
              "#ed7953"
             ],
             [
              0.7777777777777778,
              "#fb9f3a"
             ],
             [
              0.8888888888888888,
              "#fdca26"
             ],
             [
              1,
              "#f0f921"
             ]
            ],
            "type": "contour"
           }
          ],
          "contourcarpet": [
           {
            "colorbar": {
             "outlinewidth": 0,
             "ticks": ""
            },
            "type": "contourcarpet"
           }
          ],
          "heatmap": [
           {
            "colorbar": {
             "outlinewidth": 0,
             "ticks": ""
            },
            "colorscale": [
             [
              0,
              "#0d0887"
             ],
             [
              0.1111111111111111,
              "#46039f"
             ],
             [
              0.2222222222222222,
              "#7201a8"
             ],
             [
              0.3333333333333333,
              "#9c179e"
             ],
             [
              0.4444444444444444,
              "#bd3786"
             ],
             [
              0.5555555555555556,
              "#d8576b"
             ],
             [
              0.6666666666666666,
              "#ed7953"
             ],
             [
              0.7777777777777778,
              "#fb9f3a"
             ],
             [
              0.8888888888888888,
              "#fdca26"
             ],
             [
              1,
              "#f0f921"
             ]
            ],
            "type": "heatmap"
           }
          ],
          "heatmapgl": [
           {
            "colorbar": {
             "outlinewidth": 0,
             "ticks": ""
            },
            "colorscale": [
             [
              0,
              "#0d0887"
             ],
             [
              0.1111111111111111,
              "#46039f"
             ],
             [
              0.2222222222222222,
              "#7201a8"
             ],
             [
              0.3333333333333333,
              "#9c179e"
             ],
             [
              0.4444444444444444,
              "#bd3786"
             ],
             [
              0.5555555555555556,
              "#d8576b"
             ],
             [
              0.6666666666666666,
              "#ed7953"
             ],
             [
              0.7777777777777778,
              "#fb9f3a"
             ],
             [
              0.8888888888888888,
              "#fdca26"
             ],
             [
              1,
              "#f0f921"
             ]
            ],
            "type": "heatmapgl"
           }
          ],
          "histogram": [
           {
            "marker": {
             "pattern": {
              "fillmode": "overlay",
              "size": 10,
              "solidity": 0.2
             }
            },
            "type": "histogram"
           }
          ],
          "histogram2d": [
           {
            "colorbar": {
             "outlinewidth": 0,
             "ticks": ""
            },
            "colorscale": [
             [
              0,
              "#0d0887"
             ],
             [
              0.1111111111111111,
              "#46039f"
             ],
             [
              0.2222222222222222,
              "#7201a8"
             ],
             [
              0.3333333333333333,
              "#9c179e"
             ],
             [
              0.4444444444444444,
              "#bd3786"
             ],
             [
              0.5555555555555556,
              "#d8576b"
             ],
             [
              0.6666666666666666,
              "#ed7953"
             ],
             [
              0.7777777777777778,
              "#fb9f3a"
             ],
             [
              0.8888888888888888,
              "#fdca26"
             ],
             [
              1,
              "#f0f921"
             ]
            ],
            "type": "histogram2d"
           }
          ],
          "histogram2dcontour": [
           {
            "colorbar": {
             "outlinewidth": 0,
             "ticks": ""
            },
            "colorscale": [
             [
              0,
              "#0d0887"
             ],
             [
              0.1111111111111111,
              "#46039f"
             ],
             [
              0.2222222222222222,
              "#7201a8"
             ],
             [
              0.3333333333333333,
              "#9c179e"
             ],
             [
              0.4444444444444444,
              "#bd3786"
             ],
             [
              0.5555555555555556,
              "#d8576b"
             ],
             [
              0.6666666666666666,
              "#ed7953"
             ],
             [
              0.7777777777777778,
              "#fb9f3a"
             ],
             [
              0.8888888888888888,
              "#fdca26"
             ],
             [
              1,
              "#f0f921"
             ]
            ],
            "type": "histogram2dcontour"
           }
          ],
          "mesh3d": [
           {
            "colorbar": {
             "outlinewidth": 0,
             "ticks": ""
            },
            "type": "mesh3d"
           }
          ],
          "parcoords": [
           {
            "line": {
             "colorbar": {
              "outlinewidth": 0,
              "ticks": ""
             }
            },
            "type": "parcoords"
           }
          ],
          "pie": [
           {
            "automargin": true,
            "type": "pie"
           }
          ],
          "scatter": [
           {
            "fillpattern": {
             "fillmode": "overlay",
             "size": 10,
             "solidity": 0.2
            },
            "type": "scatter"
           }
          ],
          "scatter3d": [
           {
            "line": {
             "colorbar": {
              "outlinewidth": 0,
              "ticks": ""
             }
            },
            "marker": {
             "colorbar": {
              "outlinewidth": 0,
              "ticks": ""
             }
            },
            "type": "scatter3d"
           }
          ],
          "scattercarpet": [
           {
            "marker": {
             "colorbar": {
              "outlinewidth": 0,
              "ticks": ""
             }
            },
            "type": "scattercarpet"
           }
          ],
          "scattergeo": [
           {
            "marker": {
             "colorbar": {
              "outlinewidth": 0,
              "ticks": ""
             }
            },
            "type": "scattergeo"
           }
          ],
          "scattergl": [
           {
            "marker": {
             "colorbar": {
              "outlinewidth": 0,
              "ticks": ""
             }
            },
            "type": "scattergl"
           }
          ],
          "scattermapbox": [
           {
            "marker": {
             "colorbar": {
              "outlinewidth": 0,
              "ticks": ""
             }
            },
            "type": "scattermapbox"
           }
          ],
          "scatterpolar": [
           {
            "marker": {
             "colorbar": {
              "outlinewidth": 0,
              "ticks": ""
             }
            },
            "type": "scatterpolar"
           }
          ],
          "scatterpolargl": [
           {
            "marker": {
             "colorbar": {
              "outlinewidth": 0,
              "ticks": ""
             }
            },
            "type": "scatterpolargl"
           }
          ],
          "scatterternary": [
           {
            "marker": {
             "colorbar": {
              "outlinewidth": 0,
              "ticks": ""
             }
            },
            "type": "scatterternary"
           }
          ],
          "surface": [
           {
            "colorbar": {
             "outlinewidth": 0,
             "ticks": ""
            },
            "colorscale": [
             [
              0,
              "#0d0887"
             ],
             [
              0.1111111111111111,
              "#46039f"
             ],
             [
              0.2222222222222222,
              "#7201a8"
             ],
             [
              0.3333333333333333,
              "#9c179e"
             ],
             [
              0.4444444444444444,
              "#bd3786"
             ],
             [
              0.5555555555555556,
              "#d8576b"
             ],
             [
              0.6666666666666666,
              "#ed7953"
             ],
             [
              0.7777777777777778,
              "#fb9f3a"
             ],
             [
              0.8888888888888888,
              "#fdca26"
             ],
             [
              1,
              "#f0f921"
             ]
            ],
            "type": "surface"
           }
          ],
          "table": [
           {
            "cells": {
             "fill": {
              "color": "#EBF0F8"
             },
             "line": {
              "color": "white"
             }
            },
            "header": {
             "fill": {
              "color": "#C8D4E3"
             },
             "line": {
              "color": "white"
             }
            },
            "type": "table"
           }
          ]
         },
         "layout": {
          "annotationdefaults": {
           "arrowcolor": "#2a3f5f",
           "arrowhead": 0,
           "arrowwidth": 1
          },
          "autotypenumbers": "strict",
          "coloraxis": {
           "colorbar": {
            "outlinewidth": 0,
            "ticks": ""
           }
          },
          "colorscale": {
           "diverging": [
            [
             0,
             "#8e0152"
            ],
            [
             0.1,
             "#c51b7d"
            ],
            [
             0.2,
             "#de77ae"
            ],
            [
             0.3,
             "#f1b6da"
            ],
            [
             0.4,
             "#fde0ef"
            ],
            [
             0.5,
             "#f7f7f7"
            ],
            [
             0.6,
             "#e6f5d0"
            ],
            [
             0.7,
             "#b8e186"
            ],
            [
             0.8,
             "#7fbc41"
            ],
            [
             0.9,
             "#4d9221"
            ],
            [
             1,
             "#276419"
            ]
           ],
           "sequential": [
            [
             0,
             "#0d0887"
            ],
            [
             0.1111111111111111,
             "#46039f"
            ],
            [
             0.2222222222222222,
             "#7201a8"
            ],
            [
             0.3333333333333333,
             "#9c179e"
            ],
            [
             0.4444444444444444,
             "#bd3786"
            ],
            [
             0.5555555555555556,
             "#d8576b"
            ],
            [
             0.6666666666666666,
             "#ed7953"
            ],
            [
             0.7777777777777778,
             "#fb9f3a"
            ],
            [
             0.8888888888888888,
             "#fdca26"
            ],
            [
             1,
             "#f0f921"
            ]
           ],
           "sequentialminus": [
            [
             0,
             "#0d0887"
            ],
            [
             0.1111111111111111,
             "#46039f"
            ],
            [
             0.2222222222222222,
             "#7201a8"
            ],
            [
             0.3333333333333333,
             "#9c179e"
            ],
            [
             0.4444444444444444,
             "#bd3786"
            ],
            [
             0.5555555555555556,
             "#d8576b"
            ],
            [
             0.6666666666666666,
             "#ed7953"
            ],
            [
             0.7777777777777778,
             "#fb9f3a"
            ],
            [
             0.8888888888888888,
             "#fdca26"
            ],
            [
             1,
             "#f0f921"
            ]
           ]
          },
          "colorway": [
           "#636efa",
           "#EF553B",
           "#00cc96",
           "#ab63fa",
           "#FFA15A",
           "#19d3f3",
           "#FF6692",
           "#B6E880",
           "#FF97FF",
           "#FECB52"
          ],
          "font": {
           "color": "#2a3f5f"
          },
          "geo": {
           "bgcolor": "white",
           "lakecolor": "white",
           "landcolor": "#E5ECF6",
           "showlakes": true,
           "showland": true,
           "subunitcolor": "white"
          },
          "hoverlabel": {
           "align": "left"
          },
          "hovermode": "closest",
          "mapbox": {
           "style": "light"
          },
          "paper_bgcolor": "white",
          "plot_bgcolor": "#E5ECF6",
          "polar": {
           "angularaxis": {
            "gridcolor": "white",
            "linecolor": "white",
            "ticks": ""
           },
           "bgcolor": "#E5ECF6",
           "radialaxis": {
            "gridcolor": "white",
            "linecolor": "white",
            "ticks": ""
           }
          },
          "scene": {
           "xaxis": {
            "backgroundcolor": "#E5ECF6",
            "gridcolor": "white",
            "gridwidth": 2,
            "linecolor": "white",
            "showbackground": true,
            "ticks": "",
            "zerolinecolor": "white"
           },
           "yaxis": {
            "backgroundcolor": "#E5ECF6",
            "gridcolor": "white",
            "gridwidth": 2,
            "linecolor": "white",
            "showbackground": true,
            "ticks": "",
            "zerolinecolor": "white"
           },
           "zaxis": {
            "backgroundcolor": "#E5ECF6",
            "gridcolor": "white",
            "gridwidth": 2,
            "linecolor": "white",
            "showbackground": true,
            "ticks": "",
            "zerolinecolor": "white"
           }
          },
          "shapedefaults": {
           "line": {
            "color": "#2a3f5f"
           }
          },
          "ternary": {
           "aaxis": {
            "gridcolor": "white",
            "linecolor": "white",
            "ticks": ""
           },
           "baxis": {
            "gridcolor": "white",
            "linecolor": "white",
            "ticks": ""
           },
           "bgcolor": "#E5ECF6",
           "caxis": {
            "gridcolor": "white",
            "linecolor": "white",
            "ticks": ""
           }
          },
          "title": {
           "x": 0.05
          },
          "xaxis": {
           "automargin": true,
           "gridcolor": "white",
           "linecolor": "white",
           "ticks": "",
           "title": {
            "standoff": 15
           },
           "zerolinecolor": "white",
           "zerolinewidth": 2
          },
          "yaxis": {
           "automargin": true,
           "gridcolor": "white",
           "linecolor": "white",
           "ticks": "",
           "title": {
            "standoff": 15
           },
           "zerolinecolor": "white",
           "zerolinewidth": 2
          }
         }
        },
        "xaxis": {
         "anchor": "y",
         "domain": [
          0,
          1
         ],
         "title": {
          "text": "팀"
         }
        },
        "yaxis": {
         "anchor": "x",
         "domain": [
          0,
          1
         ],
         "title": {
          "text": "금액합계"
         }
        }
       }
      }
     },
     "metadata": {},
     "output_type": "display_data"
    }
   ],
   "source": [
    "grouped = maegak_land_data.groupby('팀')\n",
    "grouped_sum = grouped['대장금액(원)'].agg(['sum']).sort_values(['sum'],ascending=False) #만들어진 것에서 groupby로 팀별로 묶고\n",
    "#대장금액 sum을 하고 가장 정렬을함\n",
    "print(grouped_sum.iloc[0][0],grouped_sum.iloc[-1][0])\n",
    "print(grouped_sum.iloc[0],grouped_sum.iloc[-1])\n",
    "grouped_sum = grouped_sum.rename(columns={'sum':'금액합계'})\n",
    "import plotly.express as px\n",
    "print(grouped_sum.index)\n",
    "\n",
    "fig = px.bar(grouped_sum,grouped_sum.index,y=grouped_sum['금액합계'])\n",
    "fig.show()"
   ]
  },
  {
   "cell_type": "markdown",
   "metadata": {},
   "source": [
    "- 연도별 매각금액 추이"
   ]
  },
  {
   "cell_type": "code",
   "execution_count": 123,
   "metadata": {},
   "outputs": [
    {
     "name": "stdout",
     "output_type": "stream",
     "text": [
      "              금액합계\n",
      "연도구분              \n",
      "2014  572278010750\n",
      "2015  853814820630\n",
      "2016  569395066078\n",
      "2017  634070723300\n",
      "2018  366830186839\n",
      "2019  518050454426\n",
      "2020  797249353487\n",
      "2021  876799619786\n",
      "2022  844311996474\n",
      "2023  899469836614\n"
     ]
    },
    {
     "data": {
      "application/vnd.plotly.v1+json": {
       "config": {
        "plotlyServerURL": "https://plot.ly"
       },
       "data": [
        {
         "hovertemplate": "연도구분=%{x}<br>금액합계=%{y}<extra></extra>",
         "legendgroup": "",
         "line": {
          "color": "#636efa",
          "dash": "solid"
         },
         "marker": {
          "symbol": "circle"
         },
         "mode": "lines",
         "name": "",
         "orientation": "v",
         "showlegend": false,
         "type": "scatter",
         "x": [
          2014,
          2015,
          2016,
          2017,
          2018,
          2019,
          2020,
          2021,
          2022,
          2023
         ],
         "xaxis": "x",
         "y": [
          572278010750,
          853814820630,
          569395066078,
          634070723300,
          366830186839,
          518050454426,
          797249353487,
          876799619786,
          844311996474,
          899469836614
         ],
         "yaxis": "y"
        }
       ],
       "layout": {
        "legend": {
         "tracegroupgap": 0
        },
        "margin": {
         "t": 60
        },
        "template": {
         "data": {
          "bar": [
           {
            "error_x": {
             "color": "#2a3f5f"
            },
            "error_y": {
             "color": "#2a3f5f"
            },
            "marker": {
             "line": {
              "color": "#E5ECF6",
              "width": 0.5
             },
             "pattern": {
              "fillmode": "overlay",
              "size": 10,
              "solidity": 0.2
             }
            },
            "type": "bar"
           }
          ],
          "barpolar": [
           {
            "marker": {
             "line": {
              "color": "#E5ECF6",
              "width": 0.5
             },
             "pattern": {
              "fillmode": "overlay",
              "size": 10,
              "solidity": 0.2
             }
            },
            "type": "barpolar"
           }
          ],
          "carpet": [
           {
            "aaxis": {
             "endlinecolor": "#2a3f5f",
             "gridcolor": "white",
             "linecolor": "white",
             "minorgridcolor": "white",
             "startlinecolor": "#2a3f5f"
            },
            "baxis": {
             "endlinecolor": "#2a3f5f",
             "gridcolor": "white",
             "linecolor": "white",
             "minorgridcolor": "white",
             "startlinecolor": "#2a3f5f"
            },
            "type": "carpet"
           }
          ],
          "choropleth": [
           {
            "colorbar": {
             "outlinewidth": 0,
             "ticks": ""
            },
            "type": "choropleth"
           }
          ],
          "contour": [
           {
            "colorbar": {
             "outlinewidth": 0,
             "ticks": ""
            },
            "colorscale": [
             [
              0,
              "#0d0887"
             ],
             [
              0.1111111111111111,
              "#46039f"
             ],
             [
              0.2222222222222222,
              "#7201a8"
             ],
             [
              0.3333333333333333,
              "#9c179e"
             ],
             [
              0.4444444444444444,
              "#bd3786"
             ],
             [
              0.5555555555555556,
              "#d8576b"
             ],
             [
              0.6666666666666666,
              "#ed7953"
             ],
             [
              0.7777777777777778,
              "#fb9f3a"
             ],
             [
              0.8888888888888888,
              "#fdca26"
             ],
             [
              1,
              "#f0f921"
             ]
            ],
            "type": "contour"
           }
          ],
          "contourcarpet": [
           {
            "colorbar": {
             "outlinewidth": 0,
             "ticks": ""
            },
            "type": "contourcarpet"
           }
          ],
          "heatmap": [
           {
            "colorbar": {
             "outlinewidth": 0,
             "ticks": ""
            },
            "colorscale": [
             [
              0,
              "#0d0887"
             ],
             [
              0.1111111111111111,
              "#46039f"
             ],
             [
              0.2222222222222222,
              "#7201a8"
             ],
             [
              0.3333333333333333,
              "#9c179e"
             ],
             [
              0.4444444444444444,
              "#bd3786"
             ],
             [
              0.5555555555555556,
              "#d8576b"
             ],
             [
              0.6666666666666666,
              "#ed7953"
             ],
             [
              0.7777777777777778,
              "#fb9f3a"
             ],
             [
              0.8888888888888888,
              "#fdca26"
             ],
             [
              1,
              "#f0f921"
             ]
            ],
            "type": "heatmap"
           }
          ],
          "heatmapgl": [
           {
            "colorbar": {
             "outlinewidth": 0,
             "ticks": ""
            },
            "colorscale": [
             [
              0,
              "#0d0887"
             ],
             [
              0.1111111111111111,
              "#46039f"
             ],
             [
              0.2222222222222222,
              "#7201a8"
             ],
             [
              0.3333333333333333,
              "#9c179e"
             ],
             [
              0.4444444444444444,
              "#bd3786"
             ],
             [
              0.5555555555555556,
              "#d8576b"
             ],
             [
              0.6666666666666666,
              "#ed7953"
             ],
             [
              0.7777777777777778,
              "#fb9f3a"
             ],
             [
              0.8888888888888888,
              "#fdca26"
             ],
             [
              1,
              "#f0f921"
             ]
            ],
            "type": "heatmapgl"
           }
          ],
          "histogram": [
           {
            "marker": {
             "pattern": {
              "fillmode": "overlay",
              "size": 10,
              "solidity": 0.2
             }
            },
            "type": "histogram"
           }
          ],
          "histogram2d": [
           {
            "colorbar": {
             "outlinewidth": 0,
             "ticks": ""
            },
            "colorscale": [
             [
              0,
              "#0d0887"
             ],
             [
              0.1111111111111111,
              "#46039f"
             ],
             [
              0.2222222222222222,
              "#7201a8"
             ],
             [
              0.3333333333333333,
              "#9c179e"
             ],
             [
              0.4444444444444444,
              "#bd3786"
             ],
             [
              0.5555555555555556,
              "#d8576b"
             ],
             [
              0.6666666666666666,
              "#ed7953"
             ],
             [
              0.7777777777777778,
              "#fb9f3a"
             ],
             [
              0.8888888888888888,
              "#fdca26"
             ],
             [
              1,
              "#f0f921"
             ]
            ],
            "type": "histogram2d"
           }
          ],
          "histogram2dcontour": [
           {
            "colorbar": {
             "outlinewidth": 0,
             "ticks": ""
            },
            "colorscale": [
             [
              0,
              "#0d0887"
             ],
             [
              0.1111111111111111,
              "#46039f"
             ],
             [
              0.2222222222222222,
              "#7201a8"
             ],
             [
              0.3333333333333333,
              "#9c179e"
             ],
             [
              0.4444444444444444,
              "#bd3786"
             ],
             [
              0.5555555555555556,
              "#d8576b"
             ],
             [
              0.6666666666666666,
              "#ed7953"
             ],
             [
              0.7777777777777778,
              "#fb9f3a"
             ],
             [
              0.8888888888888888,
              "#fdca26"
             ],
             [
              1,
              "#f0f921"
             ]
            ],
            "type": "histogram2dcontour"
           }
          ],
          "mesh3d": [
           {
            "colorbar": {
             "outlinewidth": 0,
             "ticks": ""
            },
            "type": "mesh3d"
           }
          ],
          "parcoords": [
           {
            "line": {
             "colorbar": {
              "outlinewidth": 0,
              "ticks": ""
             }
            },
            "type": "parcoords"
           }
          ],
          "pie": [
           {
            "automargin": true,
            "type": "pie"
           }
          ],
          "scatter": [
           {
            "fillpattern": {
             "fillmode": "overlay",
             "size": 10,
             "solidity": 0.2
            },
            "type": "scatter"
           }
          ],
          "scatter3d": [
           {
            "line": {
             "colorbar": {
              "outlinewidth": 0,
              "ticks": ""
             }
            },
            "marker": {
             "colorbar": {
              "outlinewidth": 0,
              "ticks": ""
             }
            },
            "type": "scatter3d"
           }
          ],
          "scattercarpet": [
           {
            "marker": {
             "colorbar": {
              "outlinewidth": 0,
              "ticks": ""
             }
            },
            "type": "scattercarpet"
           }
          ],
          "scattergeo": [
           {
            "marker": {
             "colorbar": {
              "outlinewidth": 0,
              "ticks": ""
             }
            },
            "type": "scattergeo"
           }
          ],
          "scattergl": [
           {
            "marker": {
             "colorbar": {
              "outlinewidth": 0,
              "ticks": ""
             }
            },
            "type": "scattergl"
           }
          ],
          "scattermapbox": [
           {
            "marker": {
             "colorbar": {
              "outlinewidth": 0,
              "ticks": ""
             }
            },
            "type": "scattermapbox"
           }
          ],
          "scatterpolar": [
           {
            "marker": {
             "colorbar": {
              "outlinewidth": 0,
              "ticks": ""
             }
            },
            "type": "scatterpolar"
           }
          ],
          "scatterpolargl": [
           {
            "marker": {
             "colorbar": {
              "outlinewidth": 0,
              "ticks": ""
             }
            },
            "type": "scatterpolargl"
           }
          ],
          "scatterternary": [
           {
            "marker": {
             "colorbar": {
              "outlinewidth": 0,
              "ticks": ""
             }
            },
            "type": "scatterternary"
           }
          ],
          "surface": [
           {
            "colorbar": {
             "outlinewidth": 0,
             "ticks": ""
            },
            "colorscale": [
             [
              0,
              "#0d0887"
             ],
             [
              0.1111111111111111,
              "#46039f"
             ],
             [
              0.2222222222222222,
              "#7201a8"
             ],
             [
              0.3333333333333333,
              "#9c179e"
             ],
             [
              0.4444444444444444,
              "#bd3786"
             ],
             [
              0.5555555555555556,
              "#d8576b"
             ],
             [
              0.6666666666666666,
              "#ed7953"
             ],
             [
              0.7777777777777778,
              "#fb9f3a"
             ],
             [
              0.8888888888888888,
              "#fdca26"
             ],
             [
              1,
              "#f0f921"
             ]
            ],
            "type": "surface"
           }
          ],
          "table": [
           {
            "cells": {
             "fill": {
              "color": "#EBF0F8"
             },
             "line": {
              "color": "white"
             }
            },
            "header": {
             "fill": {
              "color": "#C8D4E3"
             },
             "line": {
              "color": "white"
             }
            },
            "type": "table"
           }
          ]
         },
         "layout": {
          "annotationdefaults": {
           "arrowcolor": "#2a3f5f",
           "arrowhead": 0,
           "arrowwidth": 1
          },
          "autotypenumbers": "strict",
          "coloraxis": {
           "colorbar": {
            "outlinewidth": 0,
            "ticks": ""
           }
          },
          "colorscale": {
           "diverging": [
            [
             0,
             "#8e0152"
            ],
            [
             0.1,
             "#c51b7d"
            ],
            [
             0.2,
             "#de77ae"
            ],
            [
             0.3,
             "#f1b6da"
            ],
            [
             0.4,
             "#fde0ef"
            ],
            [
             0.5,
             "#f7f7f7"
            ],
            [
             0.6,
             "#e6f5d0"
            ],
            [
             0.7,
             "#b8e186"
            ],
            [
             0.8,
             "#7fbc41"
            ],
            [
             0.9,
             "#4d9221"
            ],
            [
             1,
             "#276419"
            ]
           ],
           "sequential": [
            [
             0,
             "#0d0887"
            ],
            [
             0.1111111111111111,
             "#46039f"
            ],
            [
             0.2222222222222222,
             "#7201a8"
            ],
            [
             0.3333333333333333,
             "#9c179e"
            ],
            [
             0.4444444444444444,
             "#bd3786"
            ],
            [
             0.5555555555555556,
             "#d8576b"
            ],
            [
             0.6666666666666666,
             "#ed7953"
            ],
            [
             0.7777777777777778,
             "#fb9f3a"
            ],
            [
             0.8888888888888888,
             "#fdca26"
            ],
            [
             1,
             "#f0f921"
            ]
           ],
           "sequentialminus": [
            [
             0,
             "#0d0887"
            ],
            [
             0.1111111111111111,
             "#46039f"
            ],
            [
             0.2222222222222222,
             "#7201a8"
            ],
            [
             0.3333333333333333,
             "#9c179e"
            ],
            [
             0.4444444444444444,
             "#bd3786"
            ],
            [
             0.5555555555555556,
             "#d8576b"
            ],
            [
             0.6666666666666666,
             "#ed7953"
            ],
            [
             0.7777777777777778,
             "#fb9f3a"
            ],
            [
             0.8888888888888888,
             "#fdca26"
            ],
            [
             1,
             "#f0f921"
            ]
           ]
          },
          "colorway": [
           "#636efa",
           "#EF553B",
           "#00cc96",
           "#ab63fa",
           "#FFA15A",
           "#19d3f3",
           "#FF6692",
           "#B6E880",
           "#FF97FF",
           "#FECB52"
          ],
          "font": {
           "color": "#2a3f5f"
          },
          "geo": {
           "bgcolor": "white",
           "lakecolor": "white",
           "landcolor": "#E5ECF6",
           "showlakes": true,
           "showland": true,
           "subunitcolor": "white"
          },
          "hoverlabel": {
           "align": "left"
          },
          "hovermode": "closest",
          "mapbox": {
           "style": "light"
          },
          "paper_bgcolor": "white",
          "plot_bgcolor": "#E5ECF6",
          "polar": {
           "angularaxis": {
            "gridcolor": "white",
            "linecolor": "white",
            "ticks": ""
           },
           "bgcolor": "#E5ECF6",
           "radialaxis": {
            "gridcolor": "white",
            "linecolor": "white",
            "ticks": ""
           }
          },
          "scene": {
           "xaxis": {
            "backgroundcolor": "#E5ECF6",
            "gridcolor": "white",
            "gridwidth": 2,
            "linecolor": "white",
            "showbackground": true,
            "ticks": "",
            "zerolinecolor": "white"
           },
           "yaxis": {
            "backgroundcolor": "#E5ECF6",
            "gridcolor": "white",
            "gridwidth": 2,
            "linecolor": "white",
            "showbackground": true,
            "ticks": "",
            "zerolinecolor": "white"
           },
           "zaxis": {
            "backgroundcolor": "#E5ECF6",
            "gridcolor": "white",
            "gridwidth": 2,
            "linecolor": "white",
            "showbackground": true,
            "ticks": "",
            "zerolinecolor": "white"
           }
          },
          "shapedefaults": {
           "line": {
            "color": "#2a3f5f"
           }
          },
          "ternary": {
           "aaxis": {
            "gridcolor": "white",
            "linecolor": "white",
            "ticks": ""
           },
           "baxis": {
            "gridcolor": "white",
            "linecolor": "white",
            "ticks": ""
           },
           "bgcolor": "#E5ECF6",
           "caxis": {
            "gridcolor": "white",
            "linecolor": "white",
            "ticks": ""
           }
          },
          "title": {
           "x": 0.05
          },
          "xaxis": {
           "automargin": true,
           "gridcolor": "white",
           "linecolor": "white",
           "ticks": "",
           "title": {
            "standoff": 15
           },
           "zerolinecolor": "white",
           "zerolinewidth": 2
          },
          "yaxis": {
           "automargin": true,
           "gridcolor": "white",
           "linecolor": "white",
           "ticks": "",
           "title": {
            "standoff": 15
           },
           "zerolinecolor": "white",
           "zerolinewidth": 2
          }
         }
        },
        "xaxis": {
         "anchor": "y",
         "domain": [
          0,
          1
         ],
         "title": {
          "text": "연도구분"
         }
        },
        "yaxis": {
         "anchor": "x",
         "domain": [
          0,
          1
         ],
         "title": {
          "text": "금액합계"
         }
        }
       }
      }
     },
     "metadata": {},
     "output_type": "display_data"
    },
    {
     "data": {
      "text/plain": [
       "<Axes: xlabel='연도구분', ylabel='대장금액(원)'>"
      ]
     },
     "execution_count": 123,
     "metadata": {},
     "output_type": "execute_result"
    },
    {
     "data": {
      "image/png": "[encoded data removed]",
      "text/plain": [
       "<Figure size 640x480 with 1 Axes>"
      ]
     },
     "metadata": {},
     "output_type": "display_data"
    }
   ],
   "source": [
    "import matplotlib.pyplot as plt\n",
    "import matplotlib\n",
    "\n",
    "plt.rc('font', family='Malgun Gothic') #윈도우에서 한글 사용할 수 있게 해줌\n",
    "matplotlib.rcParams['axes.unicode_minus'] = False #마이너스 기호 오류 해결하기 (유니코드의 -기호를 사용하지 않겠다.)\n",
    "years_maegak_land_data = maegak_land_data.copy()\n",
    "years_grouped = years_maegak_land_data.groupby('연도구분')\n",
    "years_grouped_sum = years_grouped['대장금액(원)'].agg(['sum'])\n",
    "years_grouped_sum = years_grouped_sum.rename(columns={'sum':'금액합계'})\n",
    "print(years_grouped_sum)\n",
    "import seaborn as sns\n",
    "fig2 = px.line(years_grouped_sum,x=years_grouped_sum.index,y='금액합계')\n",
    "#fig2 = px.box(years_grouped_sum,x=years_grouped_sum.index,y=years_grouped_sum['sum'])\n",
    "fig2.show()\n",
    "\n",
    "\n",
    "sns.boxplot(maegak_land_data,x='연도구분',y='대장금액(원)')\n",
    "sns.stripplot(maegak_land_data,x='연도구분',y='대장금액(원)')"
   ]
  },
  {
   "cell_type": "markdown",
   "metadata": {},
   "source": [
    "- 상위 5개 지역별 매각면적"
   ]
  },
  {
   "cell_type": "code",
   "execution_count": 124,
   "metadata": {},
   "outputs": [
    {
     "name": "stdout",
     "output_type": "stream",
     "text": [
      "            면적합계\n",
      "지역구분            \n",
      "경기도      9275308\n",
      "강원도      9057538\n",
      "전라남도     6350718\n",
      "경상북도     5159113\n",
      "경상남도     4912821\n",
      "충청남도     4881987\n",
      "전라북도     4766021\n",
      "충청북도     2977810\n",
      "부산광역시    1521096\n",
      "인천광역시    1506017\n",
      "광주광역시    1295716\n",
      "강원특별자치도   755582\n",
      "서울특별시     691990\n",
      "울산광역시     671887\n",
      "대구광역시     461787\n",
      "대전광역시     438797\n",
      "제주특별자치도   379139\n",
      "전북특별자치도   374162\n",
      "세종특별자치시   251839\n"
     ]
    },
    {
     "data": {
      "application/vnd.plotly.v1+json": {
       "config": {
        "plotlyServerURL": "https://plot.ly"
       },
       "data": [
        {
         "domain": {
          "x": [
           0,
           1
          ],
          "y": [
           0,
           1
          ]
         },
         "hovertemplate": "지역구분=%{label}<br>면적합계=%{value}<extra></extra>",
         "labels": [
          "경기도",
          "강원도",
          "전라남도",
          "경상북도",
          "경상남도"
         ],
         "legendgroup": "",
         "name": "",
         "showlegend": true,
         "type": "pie",
         "values": [
          9275308,
          9057538,
          6350718,
          5159113,
          4912821
         ]
        }
       ],
       "layout": {
        "legend": {
         "tracegroupgap": 0
        },
        "margin": {
         "t": 60
        },
        "template": {
         "data": {
          "bar": [
           {
            "error_x": {
             "color": "#2a3f5f"
            },
            "error_y": {
             "color": "#2a3f5f"
            },
            "marker": {
             "line": {
              "color": "#E5ECF6",
              "width": 0.5
             },
             "pattern": {
              "fillmode": "overlay",
              "size": 10,
              "solidity": 0.2
             }
            },
            "type": "bar"
           }
          ],
          "barpolar": [
           {
            "marker": {
             "line": {
              "color": "#E5ECF6",
              "width": 0.5
             },
             "pattern": {
              "fillmode": "overlay",
              "size": 10,
              "solidity": 0.2
             }
            },
            "type": "barpolar"
           }
          ],
          "carpet": [
           {
            "aaxis": {
             "endlinecolor": "#2a3f5f",
             "gridcolor": "white",
             "linecolor": "white",
             "minorgridcolor": "white",
             "startlinecolor": "#2a3f5f"
            },
            "baxis": {
             "endlinecolor": "#2a3f5f",
             "gridcolor": "white",
             "linecolor": "white",
             "minorgridcolor": "white",
             "startlinecolor": "#2a3f5f"
            },
            "type": "carpet"
           }
          ],
          "choropleth": [
           {
            "colorbar": {
             "outlinewidth": 0,
             "ticks": ""
            },
            "type": "choropleth"
           }
          ],
          "contour": [
           {
            "colorbar": {
             "outlinewidth": 0,
             "ticks": ""
            },
            "colorscale": [
             [
              0,
              "#0d0887"
             ],
             [
              0.1111111111111111,
              "#46039f"
             ],
             [
              0.2222222222222222,
              "#7201a8"
             ],
             [
              0.3333333333333333,
              "#9c179e"
             ],
             [
              0.4444444444444444,
              "#bd3786"
             ],
             [
              0.5555555555555556,
              "#d8576b"
             ],
             [
              0.6666666666666666,
              "#ed7953"
             ],
             [
              0.7777777777777778,
              "#fb9f3a"
             ],
             [
              0.8888888888888888,
              "#fdca26"
             ],
             [
              1,
              "#f0f921"
             ]
            ],
            "type": "contour"
           }
          ],
          "contourcarpet": [
           {
            "colorbar": {
             "outlinewidth": 0,
             "ticks": ""
            },
            "type": "contourcarpet"
           }
          ],
          "heatmap": [
           {
            "colorbar": {
             "outlinewidth": 0,
             "ticks": ""
            },
            "colorscale": [
             [
              0,
              "#0d0887"
             ],
             [
              0.1111111111111111,
              "#46039f"
             ],
             [
              0.2222222222222222,
              "#7201a8"
             ],
             [
              0.3333333333333333,
              "#9c179e"
             ],
             [
              0.4444444444444444,
              "#bd3786"
             ],
             [
              0.5555555555555556,
              "#d8576b"
             ],
             [
              0.6666666666666666,
              "#ed7953"
             ],
             [
              0.7777777777777778,
              "#fb9f3a"
             ],
             [
              0.8888888888888888,
              "#fdca26"
             ],
             [
              1,
              "#f0f921"
             ]
            ],
            "type": "heatmap"
           }
          ],
          "heatmapgl": [
           {
            "colorbar": {
             "outlinewidth": 0,
             "ticks": ""
            },
            "colorscale": [
             [
              0,
              "#0d0887"
             ],
             [
              0.1111111111111111,
              "#46039f"
             ],
             [
              0.2222222222222222,
              "#7201a8"
             ],
             [
              0.3333333333333333,
              "#9c179e"
             ],
             [
              0.4444444444444444,
              "#bd3786"
             ],
             [
              0.5555555555555556,
              "#d8576b"
             ],
             [
              0.6666666666666666,
              "#ed7953"
             ],
             [
              0.7777777777777778,
              "#fb9f3a"
             ],
             [
              0.8888888888888888,
              "#fdca26"
             ],
             [
              1,
              "#f0f921"
             ]
            ],
            "type": "heatmapgl"
           }
          ],
          "histogram": [
           {
            "marker": {
             "pattern": {
              "fillmode": "overlay",
              "size": 10,
              "solidity": 0.2
             }
            },
            "type": "histogram"
           }
          ],
          "histogram2d": [
           {
            "colorbar": {
             "outlinewidth": 0,
             "ticks": ""
            },
            "colorscale": [
             [
              0,
              "#0d0887"
             ],
             [
              0.1111111111111111,
              "#46039f"
             ],
             [
              0.2222222222222222,
              "#7201a8"
             ],
             [
              0.3333333333333333,
              "#9c179e"
             ],
             [
              0.4444444444444444,
              "#bd3786"
             ],
             [
              0.5555555555555556,
              "#d8576b"
             ],
             [
              0.6666666666666666,
              "#ed7953"
             ],
             [
              0.7777777777777778,
              "#fb9f3a"
             ],
             [
              0.8888888888888888,
              "#fdca26"
             ],
             [
              1,
              "#f0f921"
             ]
            ],
            "type": "histogram2d"
           }
          ],
          "histogram2dcontour": [
           {
            "colorbar": {
             "outlinewidth": 0,
             "ticks": ""
            },
            "colorscale": [
             [
              0,
              "#0d0887"
             ],
             [
              0.1111111111111111,
              "#46039f"
             ],
             [
              0.2222222222222222,
              "#7201a8"
             ],
             [
              0.3333333333333333,
              "#9c179e"
             ],
             [
              0.4444444444444444,
              "#bd3786"
             ],
             [
              0.5555555555555556,
              "#d8576b"
             ],
             [
              0.6666666666666666,
              "#ed7953"
             ],
             [
              0.7777777777777778,
              "#fb9f3a"
             ],
             [
              0.8888888888888888,
              "#fdca26"
             ],
             [
              1,
              "#f0f921"
             ]
            ],
            "type": "histogram2dcontour"
           }
          ],
          "mesh3d": [
           {
            "colorbar": {
             "outlinewidth": 0,
             "ticks": ""
            },
            "type": "mesh3d"
           }
          ],
          "parcoords": [
           {
            "line": {
             "colorbar": {
              "outlinewidth": 0,
              "ticks": ""
             }
            },
            "type": "parcoords"
           }
          ],
          "pie": [
           {
            "automargin": true,
            "type": "pie"
           }
          ],
          "scatter": [
           {
            "fillpattern": {
             "fillmode": "overlay",
             "size": 10,
             "solidity": 0.2
            },
            "type": "scatter"
           }
          ],
          "scatter3d": [
           {
            "line": {
             "colorbar": {
              "outlinewidth": 0,
              "ticks": ""
             }
            },
            "marker": {
             "colorbar": {
              "outlinewidth": 0,
              "ticks": ""
             }
            },
            "type": "scatter3d"
           }
          ],
          "scattercarpet": [
           {
            "marker": {
             "colorbar": {
              "outlinewidth": 0,
              "ticks": ""
             }
            },
            "type": "scattercarpet"
           }
          ],
          "scattergeo": [
           {
            "marker": {
             "colorbar": {
              "outlinewidth": 0,
              "ticks": ""
             }
            },
            "type": "scattergeo"
           }
          ],
          "scattergl": [
           {
            "marker": {
             "colorbar": {
              "outlinewidth": 0,
              "ticks": ""
             }
            },
            "type": "scattergl"
           }
          ],
          "scattermapbox": [
           {
            "marker": {
             "colorbar": {
              "outlinewidth": 0,
              "ticks": ""
             }
            },
            "type": "scattermapbox"
           }
          ],
          "scatterpolar": [
           {
            "marker": {
             "colorbar": {
              "outlinewidth": 0,
              "ticks": ""
             }
            },
            "type": "scatterpolar"
           }
          ],
          "scatterpolargl": [
           {
            "marker": {
             "colorbar": {
              "outlinewidth": 0,
              "ticks": ""
             }
            },
            "type": "scatterpolargl"
           }
          ],
          "scatterternary": [
           {
            "marker": {
             "colorbar": {
              "outlinewidth": 0,
              "ticks": ""
             }
            },
            "type": "scatterternary"
           }
          ],
          "surface": [
           {
            "colorbar": {
             "outlinewidth": 0,
             "ticks": ""
            },
            "colorscale": [
             [
              0,
              "#0d0887"
             ],
             [
              0.1111111111111111,
              "#46039f"
             ],
             [
              0.2222222222222222,
              "#7201a8"
             ],
             [
              0.3333333333333333,
              "#9c179e"
             ],
             [
              0.4444444444444444,
              "#bd3786"
             ],
             [
              0.5555555555555556,
              "#d8576b"
             ],
             [
              0.6666666666666666,
              "#ed7953"
             ],
             [
              0.7777777777777778,
              "#fb9f3a"
             ],
             [
              0.8888888888888888,
              "#fdca26"
             ],
             [
              1,
              "#f0f921"
             ]
            ],
            "type": "surface"
           }
          ],
          "table": [
           {
            "cells": {
             "fill": {
              "color": "#EBF0F8"
             },
             "line": {
              "color": "white"
             }
            },
            "header": {
             "fill": {
              "color": "#C8D4E3"
             },
             "line": {
              "color": "white"
             }
            },
            "type": "table"
           }
          ]
         },
         "layout": {
          "annotationdefaults": {
           "arrowcolor": "#2a3f5f",
           "arrowhead": 0,
           "arrowwidth": 1
          },
          "autotypenumbers": "strict",
          "coloraxis": {
           "colorbar": {
            "outlinewidth": 0,
            "ticks": ""
           }
          },
          "colorscale": {
           "diverging": [
            [
             0,
             "#8e0152"
            ],
            [
             0.1,
             "#c51b7d"
            ],
            [
             0.2,
             "#de77ae"
            ],
            [
             0.3,
             "#f1b6da"
            ],
            [
             0.4,
             "#fde0ef"
            ],
            [
             0.5,
             "#f7f7f7"
            ],
            [
             0.6,
             "#e6f5d0"
            ],
            [
             0.7,
             "#b8e186"
            ],
            [
             0.8,
             "#7fbc41"
            ],
            [
             0.9,
             "#4d9221"
            ],
            [
             1,
             "#276419"
            ]
           ],
           "sequential": [
            [
             0,
             "#0d0887"
            ],
            [
             0.1111111111111111,
             "#46039f"
            ],
            [
             0.2222222222222222,
             "#7201a8"
            ],
            [
             0.3333333333333333,
             "#9c179e"
            ],
            [
             0.4444444444444444,
             "#bd3786"
            ],
            [
             0.5555555555555556,
             "#d8576b"
            ],
            [
             0.6666666666666666,
             "#ed7953"
            ],
            [
             0.7777777777777778,
             "#fb9f3a"
            ],
            [
             0.8888888888888888,
             "#fdca26"
            ],
            [
             1,
             "#f0f921"
            ]
           ],
           "sequentialminus": [
            [
             0,
             "#0d0887"
            ],
            [
             0.1111111111111111,
             "#46039f"
            ],
            [
             0.2222222222222222,
             "#7201a8"
            ],
            [
             0.3333333333333333,
             "#9c179e"
            ],
            [
             0.4444444444444444,
             "#bd3786"
            ],
            [
             0.5555555555555556,
             "#d8576b"
            ],
            [
             0.6666666666666666,
             "#ed7953"
            ],
            [
             0.7777777777777778,
             "#fb9f3a"
            ],
            [
             0.8888888888888888,
             "#fdca26"
            ],
            [
             1,
             "#f0f921"
            ]
           ]
          },
          "colorway": [
           "#636efa",
           "#EF553B",
           "#00cc96",
           "#ab63fa",
           "#FFA15A",
           "#19d3f3",
           "#FF6692",
           "#B6E880",
           "#FF97FF",
           "#FECB52"
          ],
          "font": {
           "color": "#2a3f5f"
          },
          "geo": {
           "bgcolor": "white",
           "lakecolor": "white",
           "landcolor": "#E5ECF6",
           "showlakes": true,
           "showland": true,
           "subunitcolor": "white"
          },
          "hoverlabel": {
           "align": "left"
          },
          "hovermode": "closest",
          "mapbox": {
           "style": "light"
          },
          "paper_bgcolor": "white",
          "plot_bgcolor": "#E5ECF6",
          "polar": {
           "angularaxis": {
            "gridcolor": "white",
            "linecolor": "white",
            "ticks": ""
           },
           "bgcolor": "#E5ECF6",
           "radialaxis": {
            "gridcolor": "white",
            "linecolor": "white",
            "ticks": ""
           }
          },
          "scene": {
           "xaxis": {
            "backgroundcolor": "#E5ECF6",
            "gridcolor": "white",
            "gridwidth": 2,
            "linecolor": "white",
            "showbackground": true,
            "ticks": "",
            "zerolinecolor": "white"
           },
           "yaxis": {
            "backgroundcolor": "#E5ECF6",
            "gridcolor": "white",
            "gridwidth": 2,
            "linecolor": "white",
            "showbackground": true,
            "ticks": "",
            "zerolinecolor": "white"
           },
           "zaxis": {
            "backgroundcolor": "#E5ECF6",
            "gridcolor": "white",
            "gridwidth": 2,
            "linecolor": "white",
            "showbackground": true,
            "ticks": "",
            "zerolinecolor": "white"
           }
          },
          "shapedefaults": {
           "line": {
            "color": "#2a3f5f"
           }
          },
          "ternary": {
           "aaxis": {
            "gridcolor": "white",
            "linecolor": "white",
            "ticks": ""
           },
           "baxis": {
            "gridcolor": "white",
            "linecolor": "white",
            "ticks": ""
           },
           "bgcolor": "#E5ECF6",
           "caxis": {
            "gridcolor": "white",
            "linecolor": "white",
            "ticks": ""
           }
          },
          "title": {
           "x": 0.05
          },
          "xaxis": {
           "automargin": true,
           "gridcolor": "white",
           "linecolor": "white",
           "ticks": "",
           "title": {
            "standoff": 15
           },
           "zerolinecolor": "white",
           "zerolinewidth": 2
          },
          "yaxis": {
           "automargin": true,
           "gridcolor": "white",
           "linecolor": "white",
           "ticks": "",
           "title": {
            "standoff": 15
           },
           "zerolinecolor": "white",
           "zerolinewidth": 2
          }
         }
        }
       }
      }
     },
     "metadata": {},
     "output_type": "display_data"
    },
    {
     "data": {
      "application/vnd.plotly.v1+json": {
       "config": {
        "plotlyServerURL": "https://plot.ly"
       },
       "data": [
        {
         "alignmentgroup": "True",
         "hovertemplate": "지역구분=%{x}<br>면적합계=%{y}<extra></extra>",
         "legendgroup": "",
         "marker": {
          "color": "#636efa",
          "pattern": {
           "shape": ""
          }
         },
         "name": "",
         "offsetgroup": "",
         "orientation": "v",
         "showlegend": false,
         "textposition": "auto",
         "type": "bar",
         "x": [
          "경기도",
          "강원도",
          "전라남도",
          "경상북도",
          "경상남도"
         ],
         "xaxis": "x",
         "y": [
          9275308,
          9057538,
          6350718,
          5159113,
          4912821
         ],
         "yaxis": "y"
        }
       ],
       "layout": {
        "barmode": "relative",
        "legend": {
         "tracegroupgap": 0
        },
        "margin": {
         "t": 60
        },
        "template": {
         "data": {
          "bar": [
           {
            "error_x": {
             "color": "#2a3f5f"
            },
            "error_y": {
             "color": "#2a3f5f"
            },
            "marker": {
             "line": {
              "color": "#E5ECF6",
              "width": 0.5
             },
             "pattern": {
              "fillmode": "overlay",
              "size": 10,
              "solidity": 0.2
             }
            },
            "type": "bar"
           }
          ],
          "barpolar": [
           {
            "marker": {
             "line": {
              "color": "#E5ECF6",
              "width": 0.5
             },
             "pattern": {
              "fillmode": "overlay",
              "size": 10,
              "solidity": 0.2
             }
            },
            "type": "barpolar"
           }
          ],
          "carpet": [
           {
            "aaxis": {
             "endlinecolor": "#2a3f5f",
             "gridcolor": "white",
             "linecolor": "white",
             "minorgridcolor": "white",
             "startlinecolor": "#2a3f5f"
            },
            "baxis": {
             "endlinecolor": "#2a3f5f",
             "gridcolor": "white",
             "linecolor": "white",
             "minorgridcolor": "white",
             "startlinecolor": "#2a3f5f"
            },
            "type": "carpet"
           }
          ],
          "choropleth": [
           {
            "colorbar": {
             "outlinewidth": 0,
             "ticks": ""
            },
            "type": "choropleth"
           }
          ],
          "contour": [
           {
            "colorbar": {
             "outlinewidth": 0,
             "ticks": ""
            },
            "colorscale": [
             [
              0,
              "#0d0887"
             ],
             [
              0.1111111111111111,
              "#46039f"
             ],
             [
              0.2222222222222222,
              "#7201a8"
             ],
             [
              0.3333333333333333,
              "#9c179e"
             ],
             [
              0.4444444444444444,
              "#bd3786"
             ],
             [
              0.5555555555555556,
              "#d8576b"
             ],
             [
              0.6666666666666666,
              "#ed7953"
             ],
             [
              0.7777777777777778,
              "#fb9f3a"
             ],
             [
              0.8888888888888888,
              "#fdca26"
             ],
             [
              1,
              "#f0f921"
             ]
            ],
            "type": "contour"
           }
          ],
          "contourcarpet": [
           {
            "colorbar": {
             "outlinewidth": 0,
             "ticks": ""
            },
            "type": "contourcarpet"
           }
          ],
          "heatmap": [
           {
            "colorbar": {
             "outlinewidth": 0,
             "ticks": ""
            },
            "colorscale": [
             [
              0,
              "#0d0887"
             ],
             [
              0.1111111111111111,
              "#46039f"
             ],
             [
              0.2222222222222222,
              "#7201a8"
             ],
             [
              0.3333333333333333,
              "#9c179e"
             ],
             [
              0.4444444444444444,
              "#bd3786"
             ],
             [
              0.5555555555555556,
              "#d8576b"
             ],
             [
              0.6666666666666666,
              "#ed7953"
             ],
             [
              0.7777777777777778,
              "#fb9f3a"
             ],
             [
              0.8888888888888888,
              "#fdca26"
             ],
             [
              1,
              "#f0f921"
             ]
            ],
            "type": "heatmap"
           }
          ],
          "heatmapgl": [
           {
            "colorbar": {
             "outlinewidth": 0,
             "ticks": ""
            },
            "colorscale": [
             [
              0,
              "#0d0887"
             ],
             [
              0.1111111111111111,
              "#46039f"
             ],
             [
              0.2222222222222222,
              "#7201a8"
             ],
             [
              0.3333333333333333,
              "#9c179e"
             ],
             [
              0.4444444444444444,
              "#bd3786"
             ],
             [
              0.5555555555555556,
              "#d8576b"
             ],
             [
              0.6666666666666666,
              "#ed7953"
             ],
             [
              0.7777777777777778,
              "#fb9f3a"
             ],
             [
              0.8888888888888888,
              "#fdca26"
             ],
             [
              1,
              "#f0f921"
             ]
            ],
            "type": "heatmapgl"
           }
          ],
          "histogram": [
           {
            "marker": {
             "pattern": {
              "fillmode": "overlay",
              "size": 10,
              "solidity": 0.2
             }
            },
            "type": "histogram"
           }
          ],
          "histogram2d": [
           {
            "colorbar": {
             "outlinewidth": 0,
             "ticks": ""
            },
            "colorscale": [
             [
              0,
              "#0d0887"
             ],
             [
              0.1111111111111111,
              "#46039f"
             ],
             [
              0.2222222222222222,
              "#7201a8"
             ],
             [
              0.3333333333333333,
              "#9c179e"
             ],
             [
              0.4444444444444444,
              "#bd3786"
             ],
             [
              0.5555555555555556,
              "#d8576b"
             ],
             [
              0.6666666666666666,
              "#ed7953"
             ],
             [
              0.7777777777777778,
              "#fb9f3a"
             ],
             [
              0.8888888888888888,
              "#fdca26"
             ],
             [
              1,
              "#f0f921"
             ]
            ],
            "type": "histogram2d"
           }
          ],
          "histogram2dcontour": [
           {
            "colorbar": {
             "outlinewidth": 0,
             "ticks": ""
            },
            "colorscale": [
             [
              0,
              "#0d0887"
             ],
             [
              0.1111111111111111,
              "#46039f"
             ],
             [
              0.2222222222222222,
              "#7201a8"
             ],
             [
              0.3333333333333333,
              "#9c179e"
             ],
             [
              0.4444444444444444,
              "#bd3786"
             ],
             [
              0.5555555555555556,
              "#d8576b"
             ],
             [
              0.6666666666666666,
              "#ed7953"
             ],
             [
              0.7777777777777778,
              "#fb9f3a"
             ],
             [
              0.8888888888888888,
              "#fdca26"
             ],
             [
              1,
              "#f0f921"
             ]
            ],
            "type": "histogram2dcontour"
           }
          ],
          "mesh3d": [
           {
            "colorbar": {
             "outlinewidth": 0,
             "ticks": ""
            },
            "type": "mesh3d"
           }
          ],
          "parcoords": [
           {
            "line": {
             "colorbar": {
              "outlinewidth": 0,
              "ticks": ""
             }
            },
            "type": "parcoords"
           }
          ],
          "pie": [
           {
            "automargin": true,
            "type": "pie"
           }
          ],
          "scatter": [
           {
            "fillpattern": {
             "fillmode": "overlay",
             "size": 10,
             "solidity": 0.2
            },
            "type": "scatter"
           }
          ],
          "scatter3d": [
           {
            "line": {
             "colorbar": {
              "outlinewidth": 0,
              "ticks": ""
             }
            },
            "marker": {
             "colorbar": {
              "outlinewidth": 0,
              "ticks": ""
             }
            },
            "type": "scatter3d"
           }
          ],
          "scattercarpet": [
           {
            "marker": {
             "colorbar": {
              "outlinewidth": 0,
              "ticks": ""
             }
            },
            "type": "scattercarpet"
           }
          ],
          "scattergeo": [
           {
            "marker": {
             "colorbar": {
              "outlinewidth": 0,
              "ticks": ""
             }
            },
            "type": "scattergeo"
           }
          ],
          "scattergl": [
           {
            "marker": {
             "colorbar": {
              "outlinewidth": 0,
              "ticks": ""
             }
            },
            "type": "scattergl"
           }
          ],
          "scattermapbox": [
           {
            "marker": {
             "colorbar": {
              "outlinewidth": 0,
              "ticks": ""
             }
            },
            "type": "scattermapbox"
           }
          ],
          "scatterpolar": [
           {
            "marker": {
             "colorbar": {
              "outlinewidth": 0,
              "ticks": ""
             }
            },
            "type": "scatterpolar"
           }
          ],
          "scatterpolargl": [
           {
            "marker": {
             "colorbar": {
              "outlinewidth": 0,
              "ticks": ""
             }
            },
            "type": "scatterpolargl"
           }
          ],
          "scatterternary": [
           {
            "marker": {
             "colorbar": {
              "outlinewidth": 0,
              "ticks": ""
             }
            },
            "type": "scatterternary"
           }
          ],
          "surface": [
           {
            "colorbar": {
             "outlinewidth": 0,
             "ticks": ""
            },
            "colorscale": [
             [
              0,
              "#0d0887"
             ],
             [
              0.1111111111111111,
              "#46039f"
             ],
             [
              0.2222222222222222,
              "#7201a8"
             ],
             [
              0.3333333333333333,
              "#9c179e"
             ],
             [
              0.4444444444444444,
              "#bd3786"
             ],
             [
              0.5555555555555556,
              "#d8576b"
             ],
             [
              0.6666666666666666,
              "#ed7953"
             ],
             [
              0.7777777777777778,
              "#fb9f3a"
             ],
             [
              0.8888888888888888,
              "#fdca26"
             ],
             [
              1,
              "#f0f921"
             ]
            ],
            "type": "surface"
           }
          ],
          "table": [
           {
            "cells": {
             "fill": {
              "color": "#EBF0F8"
             },
             "line": {
              "color": "white"
             }
            },
            "header": {
             "fill": {
              "color": "#C8D4E3"
             },
             "line": {
              "color": "white"
             }
            },
            "type": "table"
           }
          ]
         },
         "layout": {
          "annotationdefaults": {
           "arrowcolor": "#2a3f5f",
           "arrowhead": 0,
           "arrowwidth": 1
          },
          "autotypenumbers": "strict",
          "coloraxis": {
           "colorbar": {
            "outlinewidth": 0,
            "ticks": ""
           }
          },
          "colorscale": {
           "diverging": [
            [
             0,
             "#8e0152"
            ],
            [
             0.1,
             "#c51b7d"
            ],
            [
             0.2,
             "#de77ae"
            ],
            [
             0.3,
             "#f1b6da"
            ],
            [
             0.4,
             "#fde0ef"
            ],
            [
             0.5,
             "#f7f7f7"
            ],
            [
             0.6,
             "#e6f5d0"
            ],
            [
             0.7,
             "#b8e186"
            ],
            [
             0.8,
             "#7fbc41"
            ],
            [
             0.9,
             "#4d9221"
            ],
            [
             1,
             "#276419"
            ]
           ],
           "sequential": [
            [
             0,
             "#0d0887"
            ],
            [
             0.1111111111111111,
             "#46039f"
            ],
            [
             0.2222222222222222,
             "#7201a8"
            ],
            [
             0.3333333333333333,
             "#9c179e"
            ],
            [
             0.4444444444444444,
             "#bd3786"
            ],
            [
             0.5555555555555556,
             "#d8576b"
            ],
            [
             0.6666666666666666,
             "#ed7953"
            ],
            [
             0.7777777777777778,
             "#fb9f3a"
            ],
            [
             0.8888888888888888,
             "#fdca26"
            ],
            [
             1,
             "#f0f921"
            ]
           ],
           "sequentialminus": [
            [
             0,
             "#0d0887"
            ],
            [
             0.1111111111111111,
             "#46039f"
            ],
            [
             0.2222222222222222,
             "#7201a8"
            ],
            [
             0.3333333333333333,
             "#9c179e"
            ],
            [
             0.4444444444444444,
             "#bd3786"
            ],
            [
             0.5555555555555556,
             "#d8576b"
            ],
            [
             0.6666666666666666,
             "#ed7953"
            ],
            [
             0.7777777777777778,
             "#fb9f3a"
            ],
            [
             0.8888888888888888,
             "#fdca26"
            ],
            [
             1,
             "#f0f921"
            ]
           ]
          },
          "colorway": [
           "#636efa",
           "#EF553B",
           "#00cc96",
           "#ab63fa",
           "#FFA15A",
           "#19d3f3",
           "#FF6692",
           "#B6E880",
           "#FF97FF",
           "#FECB52"
          ],
          "font": {
           "color": "#2a3f5f"
          },
          "geo": {
           "bgcolor": "white",
           "lakecolor": "white",
           "landcolor": "#E5ECF6",
           "showlakes": true,
           "showland": true,
           "subunitcolor": "white"
          },
          "hoverlabel": {
           "align": "left"
          },
          "hovermode": "closest",
          "mapbox": {
           "style": "light"
          },
          "paper_bgcolor": "white",
          "plot_bgcolor": "#E5ECF6",
          "polar": {
           "angularaxis": {
            "gridcolor": "white",
            "linecolor": "white",
            "ticks": ""
           },
           "bgcolor": "#E5ECF6",
           "radialaxis": {
            "gridcolor": "white",
            "linecolor": "white",
            "ticks": ""
           }
          },
          "scene": {
           "xaxis": {
            "backgroundcolor": "#E5ECF6",
            "gridcolor": "white",
            "gridwidth": 2,
            "linecolor": "white",
            "showbackground": true,
            "ticks": "",
            "zerolinecolor": "white"
           },
           "yaxis": {
            "backgroundcolor": "#E5ECF6",
            "gridcolor": "white",
            "gridwidth": 2,
            "linecolor": "white",
            "showbackground": true,
            "ticks": "",
            "zerolinecolor": "white"
           },
           "zaxis": {
            "backgroundcolor": "#E5ECF6",
            "gridcolor": "white",
            "gridwidth": 2,
            "linecolor": "white",
            "showbackground": true,
            "ticks": "",
            "zerolinecolor": "white"
           }
          },
          "shapedefaults": {
           "line": {
            "color": "#2a3f5f"
           }
          },
          "ternary": {
           "aaxis": {
            "gridcolor": "white",
            "linecolor": "white",
            "ticks": ""
           },
           "baxis": {
            "gridcolor": "white",
            "linecolor": "white",
            "ticks": ""
           },
           "bgcolor": "#E5ECF6",
           "caxis": {
            "gridcolor": "white",
            "linecolor": "white",
            "ticks": ""
           }
          },
          "title": {
           "x": 0.05
          },
          "xaxis": {
           "automargin": true,
           "gridcolor": "white",
           "linecolor": "white",
           "ticks": "",
           "title": {
            "standoff": 15
           },
           "zerolinecolor": "white",
           "zerolinewidth": 2
          },
          "yaxis": {
           "automargin": true,
           "gridcolor": "white",
           "linecolor": "white",
           "ticks": "",
           "title": {
            "standoff": 15
           },
           "zerolinecolor": "white",
           "zerolinewidth": 2
          }
         }
        },
        "xaxis": {
         "anchor": "y",
         "domain": [
          0,
          1
         ],
         "title": {
          "text": "지역구분"
         }
        },
        "yaxis": {
         "anchor": "x",
         "domain": [
          0,
          1
         ],
         "title": {
          "text": "면적합계"
         }
        }
       }
      }
     },
     "metadata": {},
     "output_type": "display_data"
    }
   ],
   "source": [
    "maegak_land_data_myun = maegak_land_data.copy()\n",
    "grouped2 = maegak_land_data_myun.groupby('지역구분')\n",
    "myun = grouped2['대장면적(제곱미터)'].agg(['sum']).sort_values('sum',ascending=False)\n",
    "myun = myun.rename(columns={'sum':'면적합계'})\n",
    "print(myun)\n",
    "sel_myun_top5 = myun[:5]\n",
    "fig3 = px.pie(sel_myun_top5,sel_myun_top5.index,sel_myun_top5['면적합계'])\n",
    "fig3.show()\n",
    "fig4 = px.bar(sel_myun_top5,sel_myun_top5.index,sel_myun_top5['면적합계'])\n",
    "fig4.show()"
   ]
  },
  {
   "cell_type": "markdown",
   "metadata": {},
   "source": [
    "- 계약일자 정보 기준으로 매각이 많은 때의 특징 알아보기"
   ]
  },
  {
   "cell_type": "code",
   "execution_count": 125,
   "metadata": {},
   "outputs": [
    {
     "data": {
      "application/vnd.plotly.v1+json": {
       "config": {
        "plotlyServerURL": "https://plot.ly"
       },
       "data": [
        {
         "hovertemplate": "계약일자=%{x}<br>금액=%{y}<extra></extra>",
         "legendgroup": "",
         "line": {
          "color": "#636efa",
          "dash": "solid"
         },
         "marker": {
          "symbol": "circle"
         },
         "mode": "lines",
         "name": "",
         "showlegend": false,
         "type": "scattergl",
         "x": [
          "2014-01-01",
          "2014-01-02",
          "2014-01-03",
          "2014-01-04",
          "2014-01-05",
          "2014-01-06",
          "2014-01-07",
          "2014-01-08",
          "2014-01-09",
          "2014-01-10",
          "2014-01-11",
          "2014-01-13",
          "2014-01-14",
          "2014-01-15",
          "2014-01-16",
          "2014-01-17",
          "2014-01-18",
          "2014-01-19",
          "2014-01-20",
          "2014-01-21",
          "2014-01-22",
          "2014-01-23",
          "2014-01-24",
          "2014-01-27",
          "2014-01-28",
          "2014-01-29",
          "2014-01-31",
          "2014-02-03",
          "2014-02-04",
          "2014-02-05",
          "2014-02-06",
          "2014-02-07",
          "2014-02-08",
          "2014-02-10",
          "2014-02-11",
          "2014-02-12",
          "2014-02-13",
          "2014-02-14",
          "2014-02-17",
          "2014-02-18",
          "2014-02-19",
          "2014-02-20",
          "2014-02-21",
          "2014-02-23",
          "2014-02-24",
          "2014-02-25",
          "2014-02-26",
          "2014-02-27",
          "2014-02-28",
          "2014-03-01",
          "2014-03-02",
          "2014-03-03",
          "2014-03-04",
          "2014-03-05",
          "2014-03-06",
          "2014-03-07",
          "2014-03-10",
          "2014-03-11",
          "2014-03-12",
          "2014-03-13",
          "2014-03-14",
          "2014-03-16",
          "2014-03-17",
          "2014-03-18",
          "2014-03-19",
          "2014-03-20",
          "2014-03-21",
          "2014-03-22",
          "2014-03-24",
          "2014-03-25",
          "2014-03-26",
          "2014-03-27",
          "2014-03-28",
          "2014-03-31",
          "2014-04-01",
          "2014-04-02",
          "2014-04-03",
          "2014-04-04",
          "2014-04-05",
          "2014-04-06",
          "2014-04-07",
          "2014-04-08",
          "2014-04-09",
          "2014-04-10",
          "2014-04-11",
          "2014-04-14",
          "2014-04-15",
          "2014-04-16",
          "2014-04-17",
          "2014-04-18",
          "2014-04-19",
          "2014-04-20",
          "2014-04-21",
          "2014-04-22",
          "2014-04-23",
          "2014-04-24",
          "2014-04-25",
          "2014-04-26",
          "2014-04-28",
          "2014-04-29",
          "2014-04-30",
          "2014-05-01",
          "2014-05-02",
          "2014-05-07",
          "2014-05-08",
          "2014-05-09",
          "2014-05-11",
          "2014-05-12",
          "2014-05-13",
          "2014-05-14",
          "2014-05-15",
          "2014-05-16",
          "2014-05-18",
          "2014-05-19",
          "2014-05-20",
          "2014-05-21",
          "2014-05-22",
          "2014-05-23",
          "2014-05-25",
          "2014-05-26",
          "2014-05-27",
          "2014-05-28",
          "2014-05-29",
          "2014-05-30",
          "2014-05-31",
          "2014-06-02",
          "2014-06-03",
          "2014-06-04",
          "2014-06-05",
          "2014-06-06",
          "2014-06-07",
          "2014-06-09",
          "2014-06-10",
          "2014-06-11",
          "2014-06-12",
          "2014-06-13",
          "2014-06-15",
          "2014-06-16",
          "2014-06-17",
          "2014-06-18",
          "2014-06-19",
          "2014-06-20",
          "2014-06-21",
          "2014-06-22",
          "2014-06-23",
          "2014-06-24",
          "2014-06-25",
          "2014-06-26",
          "2014-06-27",
          "2014-06-29",
          "2014-06-30",
          "2014-07-01",
          "2014-07-02",
          "2014-07-03",
          "2014-07-04",
          "2014-07-05",
          "2014-07-07",
          "2014-07-08",
          "2014-07-09",
          "2014-07-10",
          "2014-07-11",
          "2014-07-14",
          "2014-07-15",
          "2014-07-16",
          "2014-07-17",
          "2014-07-18",
          "2014-07-19",
          "2014-07-21",
          "2014-07-22",
          "2014-07-23",
          "2014-07-24",
          "2014-07-25",
          "2014-07-27",
          "2014-07-28",
          "2014-07-29",
          "2014-07-30",
          "2014-07-31",
          "2014-08-01",
          "2014-08-04",
          "2014-08-05",
          "2014-08-06",
          "2014-08-07",
          "2014-08-08",
          "2014-08-11",
          "2014-08-12",
          "2014-08-13",
          "2014-08-14",
          "2014-08-15",
          "2014-08-17",
          "2014-08-18",
          "2014-08-19",
          "2014-08-20",
          "2014-08-21",
          "2014-08-22",
          "2014-08-23",
          "2014-08-25",
          "2014-08-26",
          "2014-08-27",
          "2014-08-28",
          "2014-08-29",
          "2014-08-30",
          "2014-08-31",
          "2014-09-01",
          "2014-09-02",
          "2014-09-03",
          "2014-09-04",
          "2014-09-05",
          "2014-09-06",
          "2014-09-07",
          "2014-09-10",
          "2014-09-11",
          "2014-09-12",
          "2014-09-14",
          "2014-09-15",
          "2014-09-16",
          "2014-09-17",
          "2014-09-18",
          "2014-09-19",
          "2014-09-20",
          "2014-09-22",
          "2014-09-23",
          "2014-09-24",
          "2014-09-25",
          "2014-09-26",
          "2014-09-27",
          "2014-09-29",
          "2014-09-30",
          "2014-10-01",
          "2014-10-02",
          "2014-10-03",
          "2014-10-06",
          "2014-10-07",
          "2014-10-08",
          "2014-10-10",
          "2014-10-11",
          "2014-10-13",
          "2014-10-14",
          "2014-10-15",
          "2014-10-16",
          "2014-10-17",
          "2014-10-20",
          "2014-10-21",
          "2014-10-22",
          "2014-10-23",
          "2014-10-24",
          "2014-10-26",
          "2014-10-27",
          "2014-10-28",
          "2014-10-29",
          "2014-10-30",
          "2014-10-31",
          "2014-11-01",
          "2014-11-02",
          "2014-11-03",
          "2014-11-04",
          "2014-11-05",
          "2014-11-06",
          "2014-11-07",
          "2014-11-08",
          "2014-11-09",
          "2014-11-10",
          "2014-11-11",
          "2014-11-12",
          "2014-11-13",
          "2014-11-14",
          "2014-11-15",
          "2014-11-17",
          "2014-11-18",
          "2014-11-19",
          "2014-11-20",
          "2014-11-21",
          "2014-11-23",
          "2014-11-24",
          "2014-11-25",
          "2014-11-26",
          "2014-11-27",
          "2014-11-28",
          "2014-11-29",
          "2014-12-01",
          "2014-12-02",
          "2014-12-03",
          "2014-12-04",
          "2014-12-05",
          "2014-12-08",
          "2014-12-09",
          "2014-12-10",
          "2014-12-11",
          "2014-12-12",
          "2014-12-13",
          "2014-12-15",
          "2014-12-16",
          "2014-12-17",
          "2014-12-18",
          "2014-12-19",
          "2014-12-20",
          "2014-12-21",
          "2014-12-22",
          "2014-12-23",
          "2014-12-24",
          "2014-12-25",
          "2014-12-26",
          "2014-12-29",
          "2014-12-30",
          "2014-12-31",
          "2015-01-01",
          "2015-01-02",
          "2015-01-05",
          "2015-01-06",
          "2015-01-07",
          "2015-01-08",
          "2015-01-09",
          "2015-01-12",
          "2015-01-13",
          "2015-01-14",
          "2015-01-15",
          "2015-01-16",
          "2015-01-17",
          "2015-01-19",
          "2015-01-20",
          "2015-01-21",
          "2015-01-22",
          "2015-01-23",
          "2015-01-25",
          "2015-01-26",
          "2015-01-27",
          "2015-01-28",
          "2015-01-29",
          "2015-01-30",
          "2015-01-31",
          "2015-02-02",
          "2015-02-03",
          "2015-02-04",
          "2015-02-05",
          "2015-02-06",
          "2015-02-07",
          "2015-02-08",
          "2015-02-09",
          "2015-02-10",
          "2015-02-11",
          "2015-02-12",
          "2015-02-13",
          "2015-02-16",
          "2015-02-17",
          "2015-02-23",
          "2015-02-24",
          "2015-02-25",
          "2015-02-26",
          "2015-02-27",
          "2015-02-28",
          "2015-03-01",
          "2015-03-02",
          "2015-03-03",
          "2015-03-04",
          "2015-03-05",
          "2015-03-06",
          "2015-03-08",
          "2015-03-09",
          "2015-03-10",
          "2015-03-11",
          "2015-03-12",
          "2015-03-13",
          "2015-03-16",
          "2015-03-17",
          "2015-03-18",
          "2015-03-19",
          "2015-03-20",
          "2015-03-23",
          "2015-03-24",
          "2015-03-25",
          "2015-03-26",
          "2015-03-27",
          "2015-03-30",
          "2015-03-31",
          "2015-04-01",
          "2015-04-02",
          "2015-04-03",
          "2015-04-04",
          "2015-04-05",
          "2015-04-06",
          "2015-04-07",
          "2015-04-08",
          "2015-04-09",
          "2015-04-10",
          "2015-04-11",
          "2015-04-12",
          "2015-04-13",
          "2015-04-14",
          "2015-04-15",
          "2015-04-16",
          "2015-04-17",
          "2015-04-18",
          "2015-04-20",
          "2015-04-21",
          "2015-04-22",
          "2015-04-23",
          "2015-04-24",
          "2015-04-26",
          "2015-04-27",
          "2015-04-28",
          "2015-04-29",
          "2015-04-30",
          "2015-05-01",
          "2015-05-04",
          "2015-05-05",
          "2015-05-06",
          "2015-05-07",
          "2015-05-08",
          "2015-05-09",
          "2015-05-11",
          "2015-05-12",
          "2015-05-13",
          "2015-05-14",
          "2015-05-15",
          "2015-05-17",
          "2015-05-18",
          "2015-05-19",
          "2015-05-20",
          "2015-05-21",
          "2015-05-22",
          "2015-05-23",
          "2015-05-24",
          "2015-05-26",
          "2015-05-27",
          "2015-05-28",
          "2015-05-29",
          "2015-05-30",
          "2015-05-31",
          "2015-06-01",
          "2015-06-02",
          "2015-06-03",
          "2015-06-04",
          "2015-06-05",
          "2015-06-06",
          "2015-06-08",
          "2015-06-09",
          "2015-06-10",
          "2015-06-11",
          "2015-06-12",
          "2015-06-15",
          "2015-06-16",
          "2015-06-17",
          "2015-06-18",
          "2015-06-19",
          "2015-06-20",
          "2015-06-22",
          "2015-06-23",
          "2015-06-24",
          "2015-06-25",
          "2015-06-26",
          "2015-06-28",
          "2015-06-29",
          "2015-06-30",
          "2015-07-01",
          "2015-07-02",
          "2015-07-03",
          "2015-07-06",
          "2015-07-07",
          "2015-07-08",
          "2015-07-09",
          "2015-07-10",
          "2015-07-12",
          "2015-07-13",
          "2015-07-14",
          "2015-07-15",
          "2015-07-16",
          "2015-07-17",
          "2015-07-19",
          "2015-07-20",
          "2015-07-21",
          "2015-07-22",
          "2015-07-23",
          "2015-07-24",
          "2015-07-26",
          "2015-07-27",
          "2015-07-28",
          "2015-07-29",
          "2015-07-30",
          "2015-07-31",
          "2015-08-01",
          "2015-08-03",
          "2015-08-04",
          "2015-08-05",
          "2015-08-06",
          "2015-08-07",
          "2015-08-08",
          "2015-08-09",
          "2015-08-10",
          "2015-08-11",
          "2015-08-12",
          "2015-08-13",
          "2015-08-14",
          "2015-08-16",
          "2015-08-17",
          "2015-08-18",
          "2015-08-19",
          "2015-08-20",
          "2015-08-21",
          "2015-08-24",
          "2015-08-25",
          "2015-08-26",
          "2015-08-27",
          "2015-08-28",
          "2015-08-29",
          "2015-08-30",
          "2015-08-31",
          "2015-09-01",
          "2015-09-02",
          "2015-09-03",
          "2015-09-04",
          "2015-09-05",
          "2015-09-07",
          "2015-09-08",
          "2015-09-09",
          "2015-09-10",
          "2015-09-11",
          "2015-09-12",
          "2015-09-14",
          "2015-09-15",
          "2015-09-16",
          "2015-09-17",
          "2015-09-18",
          "2015-09-19",
          "2015-09-20",
          "2015-09-21",
          "2015-09-22",
          "2015-09-23",
          "2015-09-24",
          "2015-09-25",
          "2015-09-26",
          "2015-09-29",
          "2015-09-30",
          "2015-10-01",
          "2015-10-02",
          "2015-10-03",
          "2015-10-05",
          "2015-10-06",
          "2015-10-07",
          "2015-10-08",
          "2015-10-09",
          "2015-10-12",
          "2015-10-13",
          "2015-10-14",
          "2015-10-15",
          "2015-10-16",
          "2015-10-19",
          "2015-10-20",
          "2015-10-21",
          "2015-10-22",
          "2015-10-23",
          "2015-10-24",
          "2015-10-25",
          "2015-10-26",
          "2015-10-27",
          "2015-10-28",
          "2015-10-29",
          "2015-10-30",
          "2015-11-01",
          "2015-11-02",
          "2015-11-03",
          "2015-11-04",
          "2015-11-05",
          "2015-11-06",
          "2015-11-08",
          "2015-11-09",
          "2015-11-10",
          "2015-11-11",
          "2015-11-12",
          "2015-11-13",
          "2015-11-16",
          "2015-11-17",
          "2015-11-18",
          "2015-11-19",
          "2015-11-20",
          "2015-11-21",
          "2015-11-23",
          "2015-11-24",
          "2015-11-25",
          "2015-11-26",
          "2015-11-27",
          "2015-11-30",
          "2015-12-01",
          "2015-12-02",
          "2015-12-03",
          "2015-12-04",
          "2015-12-06",
          "2015-12-07",
          "2015-12-08",
          "2015-12-09",
          "2015-12-10",
          "2015-12-11",
          "2015-12-12",
          "2015-12-14",
          "2015-12-15",
          "2015-12-16",
          "2015-12-17",
          "2015-12-18",
          "2015-12-20",
          "2015-12-21",
          "2015-12-22",
          "2015-12-23",
          "2015-12-24",
          "2015-12-25",
          "2015-12-28",
          "2015-12-29",
          "2015-12-30",
          "2015-12-31",
          "2016-01-01",
          "2016-01-02",
          "2016-01-04",
          "2016-01-05",
          "2016-01-06",
          "2016-01-07",
          "2016-01-08",
          "2016-01-10",
          "2016-01-11",
          "2016-01-12",
          "2016-01-13",
          "2016-01-14",
          "2016-01-15",
          "2016-01-16",
          "2016-01-18",
          "2016-01-19",
          "2016-01-20",
          "2016-01-21",
          "2016-01-22",
          "2016-01-24",
          "2016-01-25",
          "2016-01-26",
          "2016-01-27",
          "2016-01-28",
          "2016-01-29",
          "2016-01-30",
          "2016-02-01",
          "2016-02-02",
          "2016-02-03",
          "2016-02-04",
          "2016-02-05",
          "2016-02-11",
          "2016-02-12",
          "2016-02-15",
          "2016-02-16",
          "2016-02-17",
          "2016-02-18",
          "2016-02-19",
          "2016-02-20",
          "2016-02-22",
          "2016-02-23",
          "2016-02-24",
          "2016-02-25",
          "2016-02-26",
          "2016-02-27",
          "2016-02-28",
          "2016-02-29",
          "2016-03-02",
          "2016-03-03",
          "2016-03-04",
          "2016-03-05",
          "2016-03-06",
          "2016-03-07",
          "2016-03-08",
          "2016-03-09",
          "2016-03-10",
          "2016-03-11",
          "2016-03-14",
          "2016-03-15",
          "2016-03-16",
          "2016-03-17",
          "2016-03-18",
          "2016-03-19",
          "2016-03-21",
          "2016-03-22",
          "2016-03-23",
          "2016-03-24",
          "2016-03-25",
          "2016-03-26",
          "2016-03-27",
          "2016-03-28",
          "2016-03-29",
          "2016-03-30",
          "2016-03-31",
          "2016-04-01",
          "2016-04-02",
          "2016-04-03",
          "2016-04-04",
          "2016-04-05",
          "2016-04-06",
          "2016-04-07",
          "2016-04-08",
          "2016-04-09",
          "2016-04-11",
          "2016-04-12",
          "2016-04-13",
          "2016-04-14",
          "2016-04-15",
          "2016-04-16",
          "2016-04-18",
          "2016-04-19",
          "2016-04-20",
          "2016-04-21",
          "2016-04-22",
          "2016-04-23",
          "2016-04-25",
          "2016-04-26",
          "2016-04-27",
          "2016-04-28",
          "2016-04-29",
          "2016-04-30",
          "2016-05-02",
          "2016-05-03",
          "2016-05-04",
          "2016-05-06",
          "2016-05-07",
          "2016-05-08",
          "2016-05-09",
          "2016-05-10",
          "2016-05-11",
          "2016-05-12",
          "2016-05-13",
          "2016-05-14",
          "2016-05-16",
          "2016-05-17",
          "2016-05-18",
          "2016-05-19",
          "2016-05-20",
          "2016-05-21",
          "2016-05-22",
          "2016-05-23",
          "2016-05-24",
          "2016-05-25",
          "2016-05-26",
          "2016-05-27",
          "2016-05-29",
          "2016-05-30",
          "2016-05-31",
          "2016-06-01",
          "2016-06-02",
          "2016-06-03",
          "2016-06-04",
          "2016-06-07",
          "2016-06-08",
          "2016-06-09",
          "2016-06-10",
          "2016-06-11",
          "2016-06-12",
          "2016-06-13",
          "2016-06-14",
          "2016-06-15",
          "2016-06-16",
          "2016-06-17",
          "2016-06-18",
          "2016-06-19",
          "2016-06-20",
          "2016-06-21",
          "2016-06-22",
          "2016-06-23",
          "2016-06-24",
          "2016-06-25",
          "2016-06-26",
          "2016-06-27",
          "2016-06-28",
          "2016-06-29",
          "2016-06-30",
          "2016-07-01",
          "2016-07-04",
          "2016-07-05",
          "2016-07-06",
          "2016-07-07",
          "2016-07-08",
          "2016-07-09",
          "2016-07-10",
          "2016-07-11",
          "2016-07-12",
          "2016-07-13",
          "2016-07-14",
          "2016-07-15",
          "2016-07-17",
          "2016-07-18",
          "2016-07-19",
          "2016-07-20",
          "2016-07-21",
          "2016-07-22",
          "2016-07-24",
          "2016-07-25",
          "2016-07-26",
          "2016-07-27",
          "2016-07-28",
          "2016-07-29",
          "2016-08-01",
          "2016-08-02",
          "2016-08-03",
          "2016-08-04",
          "2016-08-05",
          "2016-08-06",
          "2016-08-07",
          "2016-08-08",
          "2016-08-09",
          "2016-08-10",
          "2016-08-11",
          "2016-08-12",
          "2016-08-16",
          "2016-08-17",
          "2016-08-18",
          "2016-08-19",
          "2016-08-21",
          "2016-08-22",
          "2016-08-23",
          "2016-08-24",
          "2016-08-25",
          "2016-08-26",
          "2016-08-27",
          "2016-08-29",
          "2016-08-30",
          "2016-08-31",
          "2016-09-01",
          "2016-09-02",
          "2016-09-03",
          "2016-09-05",
          "2016-09-06",
          "2016-09-07",
          "2016-09-08",
          "2016-09-09",
          "2016-09-11",
          "2016-09-12",
          "2016-09-13",
          "2016-09-14",
          "2016-09-16",
          "2016-09-17",
          "2016-09-18",
          "2016-09-19",
          "2016-09-20",
          "2016-09-21",
          "2016-09-22",
          "2016-09-23",
          "2016-09-26",
          "2016-09-27",
          "2016-09-28",
          "2016-09-29",
          "2016-09-30",
          "2016-10-03",
          "2016-10-04",
          "2016-10-05",
          "2016-10-06",
          "2016-10-07",
          "2016-10-08",
          "2016-10-09",
          "2016-10-10",
          "2016-10-11",
          "2016-10-12",
          "2016-10-13",
          "2016-10-14",
          "2016-10-16",
          "2016-10-17",
          "2016-10-18",
          "2016-10-19",
          "2016-10-20",
          "2016-10-21",
          "2016-10-22",
          "2016-10-24",
          "2016-10-25",
          "2016-10-26",
          "2016-10-27",
          "2016-10-28",
          "2016-10-30",
          "2016-10-31",
          "2016-11-01",
          "2016-11-02",
          "2016-11-03",
          "2016-11-04",
          "2016-11-06",
          "2016-11-07",
          "2016-11-08",
          "2016-11-09",
          "2016-11-10",
          "2016-11-11",
          "2016-11-12",
          "2016-11-14",
          "2016-11-15",
          "2016-11-16",
          "2016-11-17",
          "2016-11-18",
          "2016-11-20",
          "2016-11-21",
          "2016-11-22",
          "2016-11-23",
          "2016-11-24",
          "2016-11-25",
          "2016-11-26",
          "2016-11-27",
          "2016-11-28",
          "2016-11-29",
          "2016-11-30",
          "2016-12-01",
          "2016-12-02",
          "2016-12-05",
          "2016-12-06",
          "2016-12-07",
          "2016-12-08",
          "2016-12-09",
          "2016-12-10",
          "2016-12-11",
          "2016-12-12",
          "2016-12-13",
          "2016-12-14",
          "2016-12-15",
          "2016-12-16",
          "2016-12-19",
          "2016-12-20",
          "2016-12-21",
          "2016-12-22",
          "2016-12-23",
          "2016-12-24",
          "2016-12-25",
          "2016-12-26",
          "2016-12-27",
          "2016-12-28",
          "2016-12-29",
          "2016-12-30",
          "2016-12-31",
          "2017-01-01",
          "2017-01-02",
          "2017-01-03",
          "2017-01-04",
          "2017-01-05",
          "2017-01-06",
          "2017-01-08",
          "2017-01-09",
          "2017-01-10",
          "2017-01-11",
          "2017-01-12",
          "2017-01-13",
          "2017-01-15",
          "2017-01-16",
          "2017-01-17",
          "2017-01-18",
          "2017-01-19",
          "2017-01-20",
          "2017-01-23",
          "2017-01-24",
          "2017-01-25",
          "2017-01-26",
          "2017-01-27",
          "2017-01-31",
          "2017-02-01",
          "2017-02-02",
          "2017-02-03",
          "2017-02-04",
          "2017-02-05",
          "2017-02-06",
          "2017-02-07",
          "2017-02-08",
          "2017-02-09",
          "2017-02-10",
          "2017-02-11",
          "2017-02-12",
          "2017-02-13",
          "2017-02-14",
          "2017-02-15",
          "2017-02-16",
          "2017-02-17",
          "2017-02-18",
          "2017-02-20",
          "2017-02-21",
          "2017-02-22",
          "2017-02-23",
          "2017-02-24",
          "2017-02-27",
          "2017-02-28",
          "2017-03-01",
          "2017-03-02",
          "2017-03-03",
          "2017-03-04",
          "2017-03-05",
          "2017-03-06",
          "2017-03-07",
          "2017-03-08",
          "2017-03-09",
          "2017-03-10",
          "2017-03-13",
          "2017-03-14",
          "2017-03-15",
          "2017-03-16",
          "2017-03-17",
          "2017-03-18",
          "2017-03-20",
          "2017-03-21",
          "2017-03-22",
          "2017-03-23",
          "2017-03-24",
          "2017-03-25",
          "2017-03-27",
          "2017-03-28",
          "2017-03-29",
          "2017-03-30",
          "2017-03-31",
          "2017-04-01",
          "2017-04-02",
          "2017-04-03",
          "2017-04-04",
          "2017-04-05",
          "2017-04-06",
          "2017-04-07",
          "2017-04-08",
          "2017-04-09",
          "2017-04-10",
          "2017-04-11",
          "2017-04-12",
          "2017-04-13",
          "2017-04-14",
          "2017-04-15",
          "2017-04-16",
          "2017-04-17",
          "2017-04-18",
          "2017-04-19",
          "2017-04-20",
          "2017-04-21",
          "2017-04-22",
          "2017-04-23",
          "2017-04-24",
          "2017-04-25",
          "2017-04-26",
          "2017-04-27",
          "2017-04-28",
          "2017-04-29",
          "2017-04-30",
          "2017-05-01",
          "2017-05-02",
          "2017-05-03",
          "2017-05-04",
          "2017-05-06",
          "2017-05-07",
          "2017-05-08",
          "2017-05-09",
          "2017-05-10",
          "2017-05-11",
          "2017-05-12",
          "2017-05-13",
          "2017-05-14",
          "2017-05-15",
          "2017-05-16",
          "2017-05-17",
          "2017-05-18",
          "2017-05-19",
          "2017-05-20",
          "2017-05-21",
          "2017-05-22",
          "2017-05-23",
          "2017-05-24",
          "2017-05-25",
          "2017-05-26",
          "2017-05-27",
          "2017-05-29",
          "2017-05-30",
          "2017-05-31",
          "2017-06-01",
          "2017-06-02",
          "2017-06-03",
          "2017-06-04",
          "2017-06-05",
          "2017-06-06",
          "2017-06-07",
          "2017-06-08",
          "2017-06-09",
          "2017-06-10",
          "2017-06-12",
          "2017-06-13",
          "2017-06-14",
          "2017-06-15",
          "2017-06-16",
          "2017-06-17",
          "2017-06-18",
          "2017-06-19",
          "2017-06-20",
          "2017-06-21",
          "2017-06-22",
          "2017-06-23",
          "2017-06-24",
          "2017-06-25",
          "2017-06-26",
          "2017-06-27",
          "2017-06-28",
          "2017-06-29",
          "2017-06-30",
          "2017-07-01",
          "2017-07-02",
          "2017-07-03",
          "2017-07-04",
          "2017-07-05",
          "2017-07-06",
          "2017-07-07",
          "2017-07-08",
          "2017-07-09",
          "2017-07-10",
          "2017-07-11",
          "2017-07-12",
          "2017-07-13",
          "2017-07-14",
          "2017-07-15",
          "2017-07-16",
          "2017-07-17",
          "2017-07-18",
          "2017-07-19",
          "2017-07-20",
          "2017-07-21",
          "2017-07-22",
          "2017-07-24",
          "2017-07-25",
          "2017-07-26",
          "2017-07-27",
          "2017-07-28",
          "2017-07-29",
          "2017-07-31",
          "2017-08-01",
          "2017-08-02",
          "2017-08-03",
          "2017-08-04",
          "2017-08-05",
          "2017-08-06",
          "2017-08-07",
          "2017-08-08",
          "2017-08-09",
          "2017-08-10",
          "2017-08-11",
          "2017-08-12",
          "2017-08-14",
          "2017-08-15",
          "2017-08-16",
          "2017-08-17",
          "2017-08-18",
          "2017-08-19",
          "2017-08-20",
          "2017-08-21",
          "2017-08-22",
          "2017-08-23",
          "2017-08-24",
          "2017-08-25",
          "2017-08-26",
          "2017-08-27",
          "2017-08-28",
          "2017-08-29",
          "2017-08-30",
          "2017-08-31",
          "2017-09-01",
          "2017-09-03",
          "2017-09-04",
          "2017-09-05",
          "2017-09-06",
          "2017-09-07",
          "2017-09-08",
          "2017-09-09",
          "2017-09-10",
          "2017-09-11",
          "2017-09-12",
          "2017-09-13",
          "2017-09-14",
          "2017-09-15",
          "2017-09-16",
          "2017-09-18",
          "2017-09-19",
          "2017-09-20",
          "2017-09-21",
          "2017-09-22",
          "2017-09-23",
          "2017-09-24",
          "2017-09-25",
          "2017-09-26",
          "2017-09-27",
          "2017-09-28",
          "2017-09-29",
          "2017-09-30",
          "2017-10-02",
          "2017-10-05",
          "2017-10-06",
          "2017-10-07",
          "2017-10-09",
          "2017-10-10",
          "2017-10-11",
          "2017-10-12",
          "2017-10-13",
          "2017-10-14",
          "2017-10-15",
          "2017-10-16",
          "2017-10-17",
          "2017-10-18",
          "2017-10-19",
          "2017-10-20",
          "2017-10-21",
          "2017-10-22",
          "2017-10-23",
          "2017-10-24",
          "2017-10-25",
          "2017-10-26",
          "2017-10-27",
          "2017-10-28",
          "2017-10-29",
          "2017-10-30",
          "2017-10-31",
          "2017-11-01",
          "2017-11-02",
          "2017-11-03",
          "2017-11-04",
          "2017-11-05",
          "2017-11-06",
          "2017-11-07",
          "2017-11-08",
          "2017-11-09",
          "2017-11-10",
          "2017-11-11",
          "2017-11-12",
          "2017-11-13",
          "2017-11-14",
          "2017-11-15",
          "2017-11-16",
          "2017-11-17",
          "2017-11-18",
          "2017-11-19",
          "2017-11-20",
          "2017-11-21",
          "2017-11-22",
          "2017-11-23",
          "2017-11-24",
          "2017-11-25",
          "2017-11-26",
          "2017-11-27",
          "2017-11-28",
          "2017-11-29",
          "2017-11-30",
          "2017-12-01",
          "2017-12-02",
          "2017-12-03",
          "2017-12-04",
          "2017-12-05",
          "2017-12-06",
          "2017-12-07",
          "2017-12-08",
          "2017-12-09",
          "2017-12-10",
          "2017-12-11",
          "2017-12-12",
          "2017-12-13",
          "2017-12-14",
          "2017-12-15",
          "2017-12-16",
          "2017-12-17",
          "2017-12-18",
          "2017-12-19",
          "2017-12-20",
          "2017-12-21",
          "2017-12-22",
          "2017-12-23",
          "2017-12-24",
          "2017-12-25",
          "2017-12-26",
          "2017-12-27",
          "2017-12-28",
          "2017-12-29",
          "2017-12-31",
          "2018-01-01",
          "2018-01-02",
          "2018-01-03",
          "2018-01-04",
          "2018-01-05",
          "2018-01-06",
          "2018-01-08",
          "2018-01-09",
          "2018-01-10",
          "2018-01-11",
          "2018-01-12",
          "2018-01-15",
          "2018-01-16",
          "2018-01-17",
          "2018-01-18",
          "2018-01-19",
          "2018-01-22",
          "2018-01-23",
          "2018-01-24",
          "2018-01-25",
          "2018-01-26",
          "2018-01-27",
          "2018-01-28",
          "2018-01-29",
          "2018-01-30",
          "2018-01-31",
          "2018-02-01",
          "2018-02-02",
          "2018-02-03",
          "2018-02-04",
          "2018-02-05",
          "2018-02-06",
          "2018-02-07",
          "2018-02-08",
          "2018-02-09",
          "2018-02-10",
          "2018-02-11",
          "2018-02-12",
          "2018-02-13",
          "2018-02-14",
          "2018-02-15",
          "2018-02-19",
          "2018-02-20",
          "2018-02-21",
          "2018-02-22",
          "2018-02-23",
          "2018-02-24",
          "2018-02-25",
          "2018-02-26",
          "2018-02-27",
          "2018-02-28",
          "2018-03-02",
          "2018-03-03",
          "2018-03-05",
          "2018-03-06",
          "2018-03-07",
          "2018-03-08",
          "2018-03-09",
          "2018-03-10",
          "2018-03-11",
          "2018-03-12",
          "2018-03-13",
          "2018-03-14",
          "2018-03-15",
          "2018-03-16",
          "2018-03-17",
          "2018-03-18",
          "2018-03-19",
          "2018-03-20",
          "2018-03-21",
          "2018-03-22",
          "2018-03-23",
          "2018-03-24",
          "2018-03-25",
          "2018-03-26",
          "2018-03-27",
          "2018-03-28",
          "2018-03-29",
          "2018-03-30",
          "2018-03-31",
          "2018-04-02",
          "2018-04-03",
          "2018-04-04",
          "2018-04-05",
          "2018-04-06",
          "2018-04-09",
          "2018-04-10",
          "2018-04-11",
          "2018-04-12",
          "2018-04-13",
          "2018-04-16",
          "2018-04-17",
          "2018-04-18",
          "2018-04-19",
          "2018-04-20",
          "2018-04-23",
          "2018-04-24",
          "2018-04-25",
          "2018-04-26",
          "2018-04-27",
          "2018-04-28",
          "2018-04-29",
          "2018-04-30",
          "2018-05-01",
          "2018-05-02",
          "2018-05-03",
          "2018-05-04",
          "2018-05-05",
          "2018-05-07",
          "2018-05-08",
          "2018-05-09",
          "2018-05-10",
          "2018-05-11",
          "2018-05-12",
          "2018-05-13",
          "2018-05-14",
          "2018-05-15",
          "2018-05-16",
          "2018-05-17",
          "2018-05-18",
          "2018-05-19",
          "2018-05-21",
          "2018-05-22",
          "2018-05-23",
          "2018-05-24",
          "2018-05-25",
          "2018-05-26",
          "2018-05-27",
          "2018-05-28",
          "2018-05-29",
          "2018-05-30",
          "2018-05-31",
          "2018-06-01",
          "2018-06-04",
          "2018-06-05",
          "2018-06-06",
          "2018-06-07",
          "2018-06-08",
          "2018-06-09",
          "2018-06-10",
          "2018-06-11",
          "2018-06-12",
          "2018-06-13",
          "2018-06-14",
          "2018-06-15",
          "2018-06-16",
          "2018-06-18",
          "2018-06-19",
          "2018-06-20",
          "2018-06-21",
          "2018-06-22",
          "2018-06-23",
          "2018-06-24",
          "2018-06-25",
          "2018-06-26",
          "2018-06-27",
          "2018-06-28",
          "2018-06-29",
          "2018-07-01",
          "2018-07-02",
          "2018-07-03",
          "2018-07-04",
          "2018-07-05",
          "2018-07-06",
          "2018-07-07",
          "2018-07-08",
          "2018-07-09",
          "2018-07-10",
          "2018-07-11",
          "2018-07-12",
          "2018-07-13",
          "2018-07-16",
          "2018-07-17",
          "2018-07-18",
          "2018-07-19",
          "2018-07-20",
          "2018-07-22",
          "2018-07-23",
          "2018-07-24",
          "2018-07-25",
          "2018-07-26",
          "2018-07-27",
          "2018-07-29",
          "2018-07-30",
          "2018-07-31",
          "2018-08-01",
          "2018-08-02",
          "2018-08-03",
          "2018-08-06",
          "2018-08-07",
          "2018-08-08",
          "2018-08-09",
          "2018-08-10",
          "2018-08-11",
          "2018-08-13",
          "2018-08-14",
          "2018-08-15",
          "2018-08-16",
          "2018-08-17",
          "2018-08-18",
          "2018-08-19",
          "2018-08-20",
          "2018-08-21",
          "2018-08-22",
          "2018-08-23",
          "2018-08-24",
          "2018-08-26",
          "2018-08-27",
          "2018-08-28",
          "2018-08-29",
          "2018-08-30",
          "2018-08-31",
          "2018-09-01",
          "2018-09-03",
          "2018-09-04",
          "2018-09-05",
          "2018-09-06",
          "2018-09-07",
          "2018-09-08",
          "2018-09-10",
          "2018-09-11",
          "2018-09-12",
          "2018-09-13",
          "2018-09-14",
          "2018-09-15",
          "2018-09-16",
          "2018-09-17",
          "2018-09-18",
          "2018-09-19",
          "2018-09-20",
          "2018-09-21",
          "2018-09-22",
          "2018-09-23",
          "2018-09-26",
          "2018-09-27",
          "2018-09-28",
          "2018-09-29",
          "2018-09-30",
          "2018-10-01",
          "2018-10-02",
          "2018-10-04",
          "2018-10-05",
          "2018-10-06",
          "2018-10-07",
          "2018-10-08",
          "2018-10-09",
          "2018-10-10",
          "2018-10-11",
          "2018-10-12",
          "2018-10-13",
          "2018-10-14",
          "2018-10-15",
          "2018-10-16",
          "2018-10-17",
          "2018-10-18",
          "2018-10-19",
          "2018-10-20",
          "2018-10-21",
          "2018-10-22",
          "2018-10-23",
          "2018-10-24",
          "2018-10-25",
          "2018-10-26",
          "2018-10-29",
          "2018-10-30",
          "2018-10-31",
          "2018-11-01",
          "2018-11-02",
          "2018-11-05",
          "2018-11-06",
          "2018-11-07",
          "2018-11-08",
          "2018-11-09",
          "2018-11-11",
          "2018-11-12",
          "2018-11-13",
          "2018-11-14",
          "2018-11-15",
          "2018-11-16",
          "2018-11-19",
          "2018-11-20",
          "2018-11-21",
          "2018-11-22",
          "2018-11-23",
          "2018-11-26",
          "2018-11-27",
          "2018-11-28",
          "2018-11-29",
          "2018-11-30",
          "2018-12-03",
          "2018-12-04",
          "2018-12-05",
          "2018-12-06",
          "2018-12-07",
          "2018-12-10",
          "2018-12-11",
          "2018-12-12",
          "2018-12-13",
          "2018-12-14",
          "2018-12-17",
          "2018-12-18",
          "2018-12-19",
          "2018-12-20",
          "2018-12-21",
          "2018-12-24",
          "2018-12-26",
          "2018-12-27",
          "2018-12-28",
          "2018-12-29",
          "2018-12-31",
          "2019-01-01",
          "2019-01-02",
          "2019-01-03",
          "2019-01-04",
          "2019-01-05",
          "2019-01-06",
          "2019-01-07",
          "2019-01-08",
          "2019-01-09",
          "2019-01-10",
          "2019-01-11",
          "2019-01-12",
          "2019-01-14",
          "2019-01-15",
          "2019-01-16",
          "2019-01-17",
          "2019-01-18",
          "2019-01-19",
          "2019-01-21",
          "2019-01-22",
          "2019-01-23",
          "2019-01-24",
          "2019-01-25",
          "2019-01-28",
          "2019-01-29",
          "2019-01-30",
          "2019-01-31",
          "2019-02-01",
          "2019-02-02",
          "2019-02-04",
          "2019-02-07",
          "2019-02-08",
          "2019-02-09",
          "2019-02-11",
          "2019-02-12",
          "2019-02-13",
          "2019-02-14",
          "2019-02-15",
          "2019-02-16",
          "2019-02-17",
          "2019-02-18",
          "2019-02-19",
          "2019-02-20",
          "2019-02-21",
          "2019-02-22",
          "2019-02-24",
          "2019-02-25",
          "2019-02-26",
          "2019-02-27",
          "2019-02-28",
          "2019-03-01",
          "2019-03-03",
          "2019-03-04",
          "2019-03-05",
          "2019-03-06",
          "2019-03-07",
          "2019-03-08",
          "2019-03-09",
          "2019-03-11",
          "2019-03-12",
          "2019-03-13",
          "2019-03-14",
          "2019-03-15",
          "2019-03-16",
          "2019-03-17",
          "2019-03-18",
          "2019-03-19",
          "2019-03-20",
          "2019-03-21",
          "2019-03-22",
          "2019-03-25",
          "2019-03-26",
          "2019-03-27",
          "2019-03-28",
          "2019-03-29",
          "2019-03-30",
          "2019-04-01",
          "2019-04-02",
          "2019-04-03",
          "2019-04-04",
          "2019-04-05",
          "2019-04-06",
          "2019-04-07",
          "2019-04-08",
          "2019-04-09",
          "2019-04-10",
          "2019-04-11",
          "2019-04-12",
          "2019-04-14",
          "2019-04-15",
          "2019-04-16",
          "2019-04-17",
          "2019-04-18",
          "2019-04-19",
          "2019-04-20",
          "2019-04-22",
          "2019-04-23",
          "2019-04-24",
          "2019-04-25",
          "2019-04-26",
          "2019-04-27",
          "2019-04-29",
          "2019-04-30",
          "2019-05-01",
          "2019-05-02",
          "2019-05-03",
          "2019-05-04",
          "2019-05-07",
          "2019-05-08",
          "2019-05-09",
          "2019-05-10",
          "2019-05-11",
          "2019-05-12",
          "2019-05-13",
          "2019-05-14",
          "2019-05-15",
          "2019-05-16",
          "2019-05-17",
          "2019-05-18",
          "2019-05-19",
          "2019-05-20",
          "2019-05-21",
          "2019-05-22",
          "2019-05-23",
          "2019-05-24",
          "2019-05-25",
          "2019-05-27",
          "2019-05-28",
          "2019-05-29",
          "2019-05-30",
          "2019-05-31",
          "2019-06-01",
          "2019-06-02",
          "2019-06-03",
          "2019-06-04",
          "2019-06-05",
          "2019-06-06",
          "2019-06-07",
          "2019-06-08",
          "2019-06-09",
          "2019-06-10",
          "2019-06-11",
          "2019-06-12",
          "2019-06-13",
          "2019-06-14",
          "2019-06-15",
          "2019-06-16",
          "2019-06-17",
          "2019-06-18",
          "2019-06-19",
          "2019-06-20",
          "2019-06-21",
          "2019-06-22",
          "2019-06-24",
          "2019-06-25",
          "2019-06-26",
          "2019-06-27",
          "2019-06-28",
          "2019-06-29",
          "2019-06-30",
          "2019-07-01",
          "2019-07-02",
          "2019-07-03",
          "2019-07-04",
          "2019-07-05",
          "2019-07-08",
          "2019-07-09",
          "2019-07-10",
          "2019-07-11",
          "2019-07-12",
          "2019-07-15",
          "2019-07-16",
          "2019-07-17",
          "2019-07-18",
          "2019-07-19",
          "2019-07-22",
          "2019-07-23",
          "2019-07-24",
          "2019-07-25",
          "2019-07-26",
          "2019-07-28",
          "2019-07-29",
          "2019-07-30",
          "2019-07-31",
          "2019-08-01",
          "2019-08-02",
          "2019-08-03",
          "2019-08-05",
          "2019-08-06",
          "2019-08-07",
          "2019-08-08",
          "2019-08-09",
          "2019-08-10",
          "2019-08-11",
          "2019-08-12",
          "2019-08-13",
          "2019-08-14",
          "2019-08-16",
          "2019-08-17",
          "2019-08-19",
          "2019-08-20",
          "2019-08-21",
          "2019-08-22",
          "2019-08-23",
          "2019-08-25",
          "2019-08-26",
          "2019-08-27",
          "2019-08-28",
          "2019-08-29",
          "2019-08-30",
          "2019-08-31",
          "2019-09-02",
          "2019-09-03",
          "2019-09-04",
          "2019-09-05",
          "2019-09-06",
          "2019-09-07",
          "2019-09-09",
          "2019-09-10",
          "2019-09-11",
          "2019-09-12",
          "2019-09-15",
          "2019-09-16",
          "2019-09-17",
          "2019-09-18",
          "2019-09-19",
          "2019-09-20",
          "2019-09-21",
          "2019-09-23",
          "2019-09-24",
          "2019-09-25",
          "2019-09-26",
          "2019-09-27",
          "2019-09-29",
          "2019-09-30",
          "2019-10-01",
          "2019-10-02",
          "2019-10-03",
          "2019-10-04",
          "2019-10-06",
          "2019-10-07",
          "2019-10-08",
          "2019-10-10",
          "2019-10-11",
          "2019-10-14",
          "2019-10-15",
          "2019-10-16",
          "2019-10-17",
          "2019-10-18",
          "2019-10-20",
          "2019-10-21",
          "2019-10-22",
          "2019-10-23",
          "2019-10-24",
          "2019-10-25",
          "2019-10-26",
          "2019-10-28",
          "2019-10-29",
          "2019-10-30",
          "2019-10-31",
          "2019-11-01",
          "2019-11-04",
          "2019-11-05",
          "2019-11-06",
          "2019-11-07",
          "2019-11-08",
          "2019-11-11",
          "2019-11-12",
          "2019-11-13",
          "2019-11-14",
          "2019-11-15",
          "2019-11-18",
          "2019-11-19",
          "2019-11-20",
          "2019-11-21",
          "2019-11-22",
          "2019-11-25",
          "2019-11-26",
          "2019-11-27",
          "2019-11-28",
          "2019-11-29",
          "2019-12-02",
          "2019-12-03",
          "2019-12-04",
          "2019-12-05",
          "2019-12-06",
          "2019-12-07",
          "2019-12-08",
          "2019-12-09",
          "2019-12-10",
          "2019-12-11",
          "2019-12-12",
          "2019-12-13",
          "2019-12-16",
          "2019-12-17",
          "2019-12-18",
          "2019-12-19",
          "2019-12-20",
          "2019-12-21",
          "2019-12-23",
          "2019-12-24",
          "2019-12-26",
          "2019-12-27",
          "2019-12-28",
          "2019-12-30",
          "2019-12-31",
          "2020-01-01",
          "2020-01-02",
          "2020-01-03",
          "2020-01-04",
          "2020-01-06",
          "2020-01-07",
          "2020-01-08",
          "2020-01-09",
          "2020-01-10",
          "2020-01-12",
          "2020-01-13",
          "2020-01-14",
          "2020-01-15",
          "2020-01-16",
          "2020-01-17",
          "2020-01-20",
          "2020-01-21",
          "2020-01-22",
          "2020-01-23",
          "2020-01-26",
          "2020-01-28",
          "2020-01-29",
          "2020-01-30",
          "2020-01-31",
          "2020-02-03",
          "2020-02-04",
          "2020-02-05",
          "2020-02-06",
          "2020-02-07",
          "2020-02-08",
          "2020-02-09",
          "2020-02-10",
          "2020-02-11",
          "2020-02-12",
          "2020-02-13",
          "2020-02-14",
          "2020-02-15",
          "2020-02-17",
          "2020-02-18",
          "2020-02-19",
          "2020-02-20",
          "2020-02-21",
          "2020-02-24",
          "2020-02-25",
          "2020-02-26",
          "2020-02-27",
          "2020-02-28",
          "2020-03-02",
          "2020-03-03",
          "2020-03-04",
          "2020-03-05",
          "2020-03-06",
          "2020-03-08",
          "2020-03-09",
          "2020-03-10",
          "2020-03-11",
          "2020-03-12",
          "2020-03-13",
          "2020-03-16",
          "2020-03-17",
          "2020-03-18",
          "2020-03-19",
          "2020-03-20",
          "2020-03-22",
          "2020-03-23",
          "2020-03-24",
          "2020-03-25",
          "2020-03-26",
          "2020-03-27",
          "2020-03-28",
          "2020-03-29",
          "2020-03-30",
          "2020-03-31",
          "2020-04-01",
          "2020-04-02",
          "2020-04-03",
          "2020-04-04",
          "2020-04-06",
          "2020-04-07",
          "2020-04-08",
          "2020-04-09",
          "2020-04-10",
          "2020-04-12",
          "2020-04-13",
          "2020-04-14",
          "2020-04-15",
          "2020-04-16",
          "2020-04-17",
          "2020-04-18",
          "2020-04-20",
          "2020-04-21",
          "2020-04-22",
          "2020-04-23",
          "2020-04-24",
          "2020-04-27",
          "2020-04-28",
          "2020-04-29",
          "2020-04-30",
          "2020-05-04",
          "2020-05-05",
          "2020-05-06",
          "2020-05-07",
          "2020-05-08",
          "2020-05-09",
          "2020-05-11",
          "2020-05-12",
          "2020-05-13",
          "2020-05-14",
          "2020-05-15",
          "2020-05-16",
          "2020-05-17",
          "2020-05-18",
          "2020-05-19",
          "2020-05-20",
          "2020-05-21",
          "2020-05-22",
          "2020-05-23",
          "2020-05-24",
          "2020-05-25",
          "2020-05-26",
          "2020-05-27",
          "2020-05-28",
          "2020-05-29",
          "2020-05-31",
          "2020-06-01",
          "2020-06-02",
          "2020-06-03",
          "2020-06-04",
          "2020-06-05",
          "2020-06-06",
          "2020-06-08",
          "2020-06-09",
          "2020-06-10",
          "2020-06-11",
          "2020-06-12",
          "2020-06-13",
          "2020-06-14",
          "2020-06-15",
          "2020-06-16",
          "2020-06-17",
          "2020-06-18",
          "2020-06-19",
          "2020-06-20",
          "2020-06-21",
          "2020-06-22",
          "2020-06-23",
          "2020-06-24",
          "2020-06-25",
          "2020-06-26",
          "2020-06-27",
          "2020-06-28",
          "2020-06-29",
          "2020-06-30",
          "2020-07-01",
          "2020-07-02",
          "2020-07-03",
          "2020-07-05",
          "2020-07-06",
          "2020-07-07",
          "2020-07-08",
          "2020-07-09",
          "2020-07-10",
          "2020-07-13",
          "2020-07-14",
          "2020-07-15",
          "2020-07-16",
          "2020-07-17",
          "2020-07-20",
          "2020-07-21",
          "2020-07-22",
          "2020-07-23",
          "2020-07-24",
          "2020-07-27",
          "2020-07-28",
          "2020-07-29",
          "2020-07-30",
          "2020-07-31",
          "2020-08-03",
          "2020-08-04",
          "2020-08-05",
          "2020-08-06",
          "2020-08-07",
          "2020-08-08",
          "2020-08-10",
          "2020-08-11",
          "2020-08-12",
          "2020-08-13",
          "2020-08-14",
          "2020-08-18",
          "2020-08-19",
          "2020-08-20",
          "2020-08-21",
          "2020-08-22",
          "2020-08-23",
          "2020-08-24",
          "2020-08-25",
          "2020-08-26",
          "2020-08-27",
          "2020-08-28",
          "2020-08-31",
          "2020-09-01",
          "2020-09-02",
          "2020-09-03",
          "2020-09-04",
          "2020-09-06",
          "2020-09-07",
          "2020-09-08",
          "2020-09-09",
          "2020-09-10",
          "2020-09-11",
          "2020-09-14",
          "2020-09-15",
          "2020-09-16",
          "2020-09-17",
          "2020-09-18",
          "2020-09-20",
          "2020-09-21",
          "2020-09-22",
          "2020-09-23",
          "2020-09-24",
          "2020-09-25",
          "2020-09-28",
          "2020-09-29",
          "2020-10-01",
          "2020-10-05",
          "2020-10-06",
          "2020-10-07",
          "2020-10-08",
          "2020-10-09",
          "2020-10-12",
          "2020-10-13",
          "2020-10-14",
          "2020-10-15",
          "2020-10-16",
          "2020-10-17",
          "2020-10-19",
          "2020-10-20",
          "2020-10-21",
          "2020-10-22",
          "2020-10-23",
          "2020-10-25",
          "2020-10-26",
          "2020-10-27",
          "2020-10-28",
          "2020-10-29",
          "2020-10-30",
          "2020-10-31",
          "2020-11-02",
          "2020-11-03",
          "2020-11-04",
          "2020-11-05",
          "2020-11-06",
          "2020-11-08",
          "2020-11-09",
          "2020-11-10",
          "2020-11-11",
          "2020-11-12",
          "2020-11-13",
          "2020-11-16",
          "2020-11-17",
          "2020-11-18",
          "2020-11-19",
          "2020-11-20",
          "2020-11-21",
          "2020-11-22",
          "2020-11-23",
          "2020-11-24",
          "2020-11-25",
          "2020-11-26",
          "2020-11-27",
          "2020-11-30",
          "2020-12-01",
          "2020-12-02",
          "2020-12-03",
          "2020-12-04",
          "2020-12-07",
          "2020-12-08",
          "2020-12-09",
          "2020-12-10",
          "2020-12-11",
          "2020-12-12",
          "2020-12-13",
          "2020-12-14",
          "2020-12-15",
          "2020-12-16",
          "2020-12-17",
          "2020-12-18",
          "2020-12-21",
          "2020-12-22",
          "2020-12-23",
          "2020-12-24",
          "2020-12-28",
          "2020-12-29",
          "2020-12-30",
          "2020-12-31",
          "2021-01-01",
          "2021-01-04",
          "2021-01-05",
          "2021-01-06",
          "2021-01-07",
          "2021-01-08",
          "2021-01-10",
          "2021-01-11",
          "2021-01-12",
          "2021-01-13",
          "2021-01-14",
          "2021-01-15",
          "2021-01-18",
          "2021-01-19",
          "2021-01-20",
          "2021-01-21",
          "2021-01-22",
          "2021-01-25",
          "2021-01-26",
          "2021-01-27",
          "2021-01-28",
          "2021-01-29",
          "2021-01-30",
          "2021-02-01",
          "2021-02-02",
          "2021-02-03",
          "2021-02-04",
          "2021-02-05",
          "2021-02-06",
          "2021-02-08",
          "2021-02-09",
          "2021-02-10",
          "2021-02-15",
          "2021-02-16",
          "2021-02-17",
          "2021-02-18",
          "2021-02-19",
          "2021-02-20",
          "2021-02-22",
          "2021-02-23",
          "2021-02-24",
          "2021-02-25",
          "2021-02-26",
          "2021-02-27",
          "2021-03-02",
          "2021-03-03",
          "2021-03-04",
          "2021-03-05",
          "2021-03-07",
          "2021-03-08",
          "2021-03-09",
          "2021-03-10",
          "2021-03-11",
          "2021-03-12",
          "2021-03-14",
          "2021-03-15",
          "2021-03-16",
          "2021-03-17",
          "2021-03-18",
          "2021-03-19",
          "2021-03-22",
          "2021-03-23",
          "2021-03-24",
          "2021-03-25",
          "2021-03-26",
          "2021-03-27",
          "2021-03-28",
          "2021-03-29",
          "2021-03-30",
          "2021-03-31",
          "2021-04-01",
          "2021-04-02",
          "2021-04-04",
          "2021-04-05",
          "2021-04-06",
          "2021-04-07",
          "2021-04-08",
          "2021-04-09",
          "2021-04-11",
          "2021-04-12",
          "2021-04-13",
          "2021-04-14",
          "2021-04-15",
          "2021-04-16",
          "2021-04-19",
          "2021-04-20",
          "2021-04-21",
          "2021-04-22",
          "2021-04-23",
          "2021-04-26",
          "2021-04-27",
          "2021-04-28",
          "2021-04-29",
          "2021-04-30",
          "2021-05-03",
          "2021-05-04",
          "2021-05-05",
          "2021-05-06",
          "2021-05-07",
          "2021-05-09",
          "2021-05-10",
          "2021-05-11",
          "2021-05-12",
          "2021-05-13",
          "2021-05-14",
          "2021-05-15",
          "2021-05-17",
          "2021-05-18",
          "2021-05-20",
          "2021-05-21",
          "2021-05-22",
          "2021-05-24",
          "2021-05-25",
          "2021-05-26",
          "2021-05-27",
          "2021-05-28",
          "2021-05-31",
          "2021-06-01",
          "2021-06-02",
          "2021-06-03",
          "2021-06-04",
          "2021-06-07",
          "2021-06-08",
          "2021-06-09",
          "2021-06-10",
          "2021-06-11",
          "2021-06-12",
          "2021-06-14",
          "2021-06-15",
          "2021-06-16",
          "2021-06-17",
          "2021-06-18",
          "2021-06-20",
          "2021-06-21",
          "2021-06-22",
          "2021-06-23",
          "2021-06-24",
          "2021-06-25",
          "2021-06-27",
          "2021-06-28",
          "2021-06-29",
          "2021-06-30",
          "2021-07-01",
          "2021-07-02",
          "2021-07-03",
          "2021-07-05",
          "2021-07-06",
          "2021-07-07",
          "2021-07-08",
          "2021-07-09",
          "2021-07-11",
          "2021-07-12",
          "2021-07-13",
          "2021-07-14",
          "2021-07-15",
          "2021-07-16",
          "2021-07-19",
          "2021-07-20",
          "2021-07-21",
          "2021-07-22",
          "2021-07-23",
          "2021-07-26",
          "2021-07-27",
          "2021-07-28",
          "2021-07-29",
          "2021-07-30",
          "2021-08-02",
          "2021-08-03",
          "2021-08-04",
          "2021-08-05",
          "2021-08-06",
          "2021-08-09",
          "2021-08-10",
          "2021-08-11",
          "2021-08-12",
          "2021-08-13",
          "2021-08-17",
          "2021-08-18",
          "2021-08-19",
          "2021-08-20",
          "2021-08-23",
          "2021-08-24",
          "2021-08-25",
          "2021-08-26",
          "2021-08-27",
          "2021-08-30",
          "2021-08-31",
          "2021-09-01",
          "2021-09-02",
          "2021-09-03",
          "2021-09-06",
          "2021-09-07",
          "2021-09-08",
          "2021-09-09",
          "2021-09-10",
          "2021-09-13",
          "2021-09-14",
          "2021-09-15",
          "2021-09-16",
          "2021-09-17",
          "2021-09-20",
          "2021-09-23",
          "2021-09-24",
          "2021-09-25",
          "2021-09-27",
          "2021-09-28",
          "2021-09-29",
          "2021-09-30",
          "2021-10-01",
          "2021-10-05",
          "2021-10-06",
          "2021-10-07",
          "2021-10-08",
          "2021-10-09",
          "2021-10-12",
          "2021-10-13",
          "2021-10-14",
          "2021-10-15",
          "2021-10-16",
          "2021-10-18",
          "2021-10-19",
          "2021-10-20",
          "2021-10-21",
          "2021-10-22",
          "2021-10-25",
          "2021-10-26",
          "2021-10-27",
          "2021-10-28",
          "2021-10-29",
          "2021-11-01",
          "2021-11-02",
          "2021-11-03",
          "2021-11-04",
          "2021-11-05",
          "2021-11-08",
          "2021-11-09",
          "2021-11-10",
          "2021-11-11",
          "2021-11-12",
          "2021-11-13",
          "2021-11-14",
          "2021-11-15",
          "2021-11-16",
          "2021-11-17",
          "2021-11-18",
          "2021-11-19",
          "2021-11-21",
          "2021-11-22",
          "2021-11-23",
          "2021-11-24",
          "2021-11-25",
          "2021-11-26",
          "2021-11-28",
          "2021-11-29",
          "2021-11-30",
          "2021-12-01",
          "2021-12-02",
          "2021-12-03",
          "2021-12-04",
          "2021-12-06",
          "2021-12-07",
          "2021-12-08",
          "2021-12-09",
          "2021-12-10",
          "2021-12-12",
          "2021-12-13",
          "2021-12-14",
          "2021-12-15",
          "2021-12-16",
          "2021-12-17",
          "2021-12-20",
          "2021-12-21",
          "2021-12-22",
          "2021-12-23",
          "2021-12-24",
          "2021-12-25",
          "2021-12-26",
          "2021-12-27",
          "2021-12-28",
          "2021-12-29",
          "2021-12-30",
          "2021-12-31",
          "2022-01-03",
          "2022-01-04",
          "2022-01-05",
          "2022-01-06",
          "2022-01-07",
          "2022-01-08",
          "2022-01-09",
          "2022-01-10",
          "2022-01-11",
          "2022-01-12",
          "2022-01-13",
          "2022-01-14",
          "2022-01-15",
          "2022-01-17",
          "2022-01-18",
          "2022-01-19",
          "2022-01-20",
          "2022-01-21",
          "2022-01-23",
          "2022-01-24",
          "2022-01-25",
          "2022-01-26",
          "2022-01-27",
          "2022-01-28",
          "2022-01-30",
          "2022-02-01",
          "2022-02-03",
          "2022-02-04",
          "2022-02-06",
          "2022-02-07",
          "2022-02-08",
          "2022-02-09",
          "2022-02-10",
          "2022-02-11",
          "2022-02-13",
          "2022-02-14",
          "2022-02-15",
          "2022-02-16",
          "2022-02-17",
          "2022-02-18",
          "2022-02-21",
          "2022-02-22",
          "2022-02-23",
          "2022-02-24",
          "2022-02-25",
          "2022-02-28",
          "2022-03-01",
          "2022-03-02",
          "2022-03-03",
          "2022-03-04",
          "2022-03-06",
          "2022-03-07",
          "2022-03-08",
          "2022-03-09",
          "2022-03-10",
          "2022-03-11",
          "2022-03-12",
          "2022-03-13",
          "2022-03-14",
          "2022-03-15",
          "2022-03-16",
          "2022-03-17",
          "2022-03-18",
          "2022-03-21",
          "2022-03-22",
          "2022-03-23",
          "2022-03-24",
          "2022-03-25",
          "2022-03-27",
          "2022-03-28",
          "2022-03-29",
          "2022-03-30",
          "2022-03-31",
          "2022-04-01",
          "2022-04-04",
          "2022-04-05",
          "2022-04-06",
          "2022-04-07",
          "2022-04-08",
          "2022-04-09",
          "2022-04-11",
          "2022-04-12",
          "2022-04-13",
          "2022-04-14",
          "2022-04-15",
          "2022-04-17",
          "2022-04-18",
          "2022-04-19",
          "2022-04-20",
          "2022-04-21",
          "2022-04-22",
          "2022-04-25",
          "2022-04-26",
          "2022-04-27",
          "2022-04-28",
          "2022-04-29",
          "2022-04-30",
          "2022-05-02",
          "2022-05-03",
          "2022-05-04",
          "2022-05-05",
          "2022-05-06",
          "2022-05-09",
          "2022-05-10",
          "2022-05-11",
          "2022-05-12",
          "2022-05-13",
          "2022-05-15",
          "2022-05-16",
          "2022-05-17",
          "2022-05-18",
          "2022-05-19",
          "2022-05-20",
          "2022-05-22",
          "2022-05-23",
          "2022-05-24",
          "2022-05-25",
          "2022-05-26",
          "2022-05-27",
          "2022-05-28",
          "2022-05-30",
          "2022-05-31",
          "2022-06-02",
          "2022-06-03",
          "2022-06-05",
          "2022-06-07",
          "2022-06-08",
          "2022-06-09",
          "2022-06-10",
          "2022-06-12",
          "2022-06-13",
          "2022-06-14",
          "2022-06-15",
          "2022-06-16",
          "2022-06-17",
          "2022-06-18",
          "2022-06-19",
          "2022-06-20",
          "2022-06-21",
          "2022-06-22",
          "2022-06-23",
          "2022-06-24",
          "2022-06-27",
          "2022-06-28",
          "2022-06-29",
          "2022-06-30",
          "2022-07-01",
          "2022-07-02",
          "2022-07-04",
          "2022-07-05",
          "2022-07-06",
          "2022-07-07",
          "2022-07-08",
          "2022-07-09",
          "2022-07-11",
          "2022-07-12",
          "2022-07-13",
          "2022-07-14",
          "2022-07-15",
          "2022-07-16",
          "2022-07-17",
          "2022-07-18",
          "2022-07-19",
          "2022-07-20",
          "2022-07-21",
          "2022-07-22",
          "2022-07-24",
          "2022-07-25",
          "2022-07-26",
          "2022-07-27",
          "2022-07-28",
          "2022-07-29",
          "2022-08-01",
          "2022-08-02",
          "2022-08-03",
          "2022-08-04",
          "2022-08-05",
          "2022-08-06",
          "2022-08-07",
          "2022-08-08",
          "2022-08-09",
          "2022-08-10",
          "2022-08-11",
          "2022-08-12",
          "2022-08-13",
          "2022-08-16",
          "2022-08-17",
          "2022-08-18",
          "2022-08-19",
          "2022-08-22",
          "2022-08-23",
          "2022-08-24",
          "2022-08-25",
          "2022-08-26",
          "2022-08-27",
          "2022-08-28",
          "2022-08-29",
          "2022-08-30",
          "2022-08-31",
          "2022-09-01",
          "2022-09-02",
          "2022-09-04",
          "2022-09-05",
          "2022-09-06",
          "2022-09-07",
          "2022-09-08",
          "2022-09-09",
          "2022-09-13",
          "2022-09-14",
          "2022-09-15",
          "2022-09-16",
          "2022-09-19",
          "2022-09-20",
          "2022-09-21",
          "2022-09-22",
          "2022-09-23",
          "2022-09-24",
          "2022-09-25",
          "2022-09-26",
          "2022-09-27",
          "2022-09-28",
          "2022-09-29",
          "2022-09-30",
          "2022-10-01",
          "2022-10-04",
          "2022-10-05",
          "2022-10-06",
          "2022-10-07",
          "2022-10-08",
          "2022-10-11",
          "2022-10-12",
          "2022-10-13",
          "2022-10-14",
          "2022-10-17",
          "2022-10-18",
          "2022-10-19",
          "2022-10-20",
          "2022-10-21",
          "2022-10-24",
          "2022-10-25",
          "2022-10-26",
          "2022-10-27",
          "2022-10-28",
          "2022-10-29",
          "2022-10-31",
          "2022-11-01",
          "2022-11-02",
          "2022-11-03",
          "2022-11-04",
          "2022-11-05",
          "2022-11-06",
          "2022-11-07",
          "2022-11-08",
          "2022-11-09",
          "2022-11-10",
          "2022-11-11",
          "2022-11-12",
          "2022-11-14",
          "2022-11-15",
          "2022-11-16",
          "2022-11-17",
          "2022-11-18",
          "2022-11-21",
          "2022-11-22",
          "2022-11-23",
          "2022-11-24",
          "2022-11-25",
          "2022-11-27",
          "2022-11-28",
          "2022-11-29",
          "2022-11-30",
          "2022-12-01",
          "2022-12-02",
          "2022-12-05",
          "2022-12-06",
          "2022-12-07",
          "2022-12-08",
          "2022-12-09",
          "2022-12-10",
          "2022-12-12",
          "2022-12-13",
          "2022-12-14",
          "2022-12-15",
          "2022-12-16",
          "2022-12-17",
          "2022-12-19",
          "2022-12-20",
          "2022-12-21",
          "2022-12-22",
          "2022-12-23",
          "2022-12-24",
          "2022-12-25",
          "2022-12-26",
          "2022-12-27",
          "2022-12-28",
          "2022-12-29",
          "2022-12-30",
          "2022-12-31",
          "2023-01-01",
          "2023-01-02",
          "2023-01-03",
          "2023-01-04",
          "2023-01-05",
          "2023-01-06",
          "2023-01-07",
          "2023-01-08",
          "2023-01-09",
          "2023-01-10",
          "2023-01-11",
          "2023-01-12",
          "2023-01-13",
          "2023-01-14",
          "2023-01-16",
          "2023-01-17",
          "2023-01-18",
          "2023-01-19",
          "2023-01-20",
          "2023-01-24",
          "2023-01-25",
          "2023-01-26",
          "2023-01-27",
          "2023-01-28",
          "2023-01-30",
          "2023-01-31",
          "2023-02-01",
          "2023-02-02",
          "2023-02-03",
          "2023-02-06",
          "2023-02-07",
          "2023-02-08",
          "2023-02-09",
          "2023-02-10",
          "2023-02-11",
          "2023-02-13",
          "2023-02-14",
          "2023-02-15",
          "2023-02-16",
          "2023-02-17",
          "2023-02-20",
          "2023-02-21",
          "2023-02-22",
          "2023-02-23",
          "2023-02-24",
          "2023-02-27",
          "2023-02-28",
          "2023-03-01",
          "2023-03-02",
          "2023-03-03",
          "2023-03-04",
          "2023-03-06",
          "2023-03-07",
          "2023-03-08",
          "2023-03-09",
          "2023-03-10",
          "2023-03-12",
          "2023-03-13",
          "2023-03-14",
          "2023-03-15",
          "2023-03-16",
          "2023-03-17",
          "2023-03-18",
          "2023-03-20",
          "2023-03-21",
          "2023-03-22",
          "2023-03-23",
          "2023-03-24",
          "2023-03-26",
          "2023-03-27",
          "2023-03-28",
          "2023-03-29",
          "2023-03-30",
          "2023-03-31",
          "2023-04-01",
          "2023-04-02",
          "2023-04-03",
          "2023-04-04",
          "2023-04-05",
          "2023-04-06",
          "2023-04-07",
          "2023-04-08",
          "2023-04-09",
          "2023-04-10",
          "2023-04-11",
          "2023-04-12",
          "2023-04-13",
          "2023-04-14",
          "2023-04-15",
          "2023-04-16",
          "2023-04-17",
          "2023-04-18",
          "2023-04-19",
          "2023-04-20",
          "2023-04-21",
          "2023-04-22",
          "2023-04-24",
          "2023-04-25",
          "2023-04-26",
          "2023-04-27",
          "2023-04-28",
          "2023-04-29",
          "2023-04-30",
          "2023-05-01",
          "2023-05-02",
          "2023-05-03",
          "2023-05-04",
          "2023-05-05",
          "2023-05-06",
          "2023-05-08",
          "2023-05-09",
          "2023-05-10",
          "2023-05-11",
          "2023-05-12",
          "2023-05-13",
          "2023-05-14",
          "2023-05-15",
          "2023-05-16",
          "2023-05-17",
          "2023-05-18",
          "2023-05-19",
          "2023-05-22",
          "2023-05-23",
          "2023-05-24",
          "2023-05-25",
          "2023-05-26",
          "2023-05-27",
          "2023-05-28",
          "2023-05-29",
          "2023-05-30",
          "2023-05-31",
          "2023-06-01",
          "2023-06-02",
          "2023-06-03",
          "2023-06-04",
          "2023-06-05",
          "2023-06-06",
          "2023-06-07",
          "2023-06-08",
          "2023-06-09",
          "2023-06-10",
          "2023-06-11",
          "2023-06-12",
          "2023-06-13",
          "2023-06-14",
          "2023-06-15",
          "2023-06-16",
          "2023-06-17",
          "2023-06-19",
          "2023-06-20",
          "2023-06-21",
          "2023-06-22",
          "2023-06-23",
          "2023-06-25",
          "2023-06-26",
          "2023-06-27",
          "2023-06-28",
          "2023-06-29",
          "2023-06-30",
          "2023-07-01",
          "2023-07-02",
          "2023-07-03",
          "2023-07-04",
          "2023-07-05",
          "2023-07-06",
          "2023-07-07",
          "2023-07-08",
          "2023-07-09",
          "2023-07-10",
          "2023-07-11",
          "2023-07-12",
          "2023-07-13",
          "2023-07-14",
          "2023-07-17",
          "2023-07-18",
          "2023-07-19",
          "2023-07-20",
          "2023-07-21",
          "2023-07-22",
          "2023-07-23",
          "2023-07-24",
          "2023-07-25",
          "2023-07-26",
          "2023-07-27",
          "2023-07-28",
          "2023-07-29",
          "2023-07-30",
          "2023-07-31",
          "2023-08-01",
          "2023-08-02",
          "2023-08-03",
          "2023-08-04",
          "2023-08-05",
          "2023-08-06",
          "2023-08-07",
          "2023-08-08",
          "2023-08-09",
          "2023-08-10",
          "2023-08-11",
          "2023-08-12",
          "2023-08-14",
          "2023-08-15",
          "2023-08-16",
          "2023-08-17",
          "2023-08-18",
          "2023-08-19",
          "2023-08-20",
          "2023-08-21",
          "2023-08-22",
          "2023-08-23",
          "2023-08-24",
          "2023-08-25",
          "2023-08-26",
          "2023-08-27",
          "2023-08-28",
          "2023-08-29",
          "2023-08-30",
          "2023-08-31",
          "2023-09-01",
          "2023-09-02",
          "2023-09-03",
          "2023-09-04",
          "2023-09-05",
          "2023-09-06",
          "2023-09-07",
          "2023-09-08",
          "2023-09-09",
          "2023-09-11",
          "2023-09-12",
          "2023-09-13",
          "2023-09-14",
          "2023-09-15",
          "2023-09-16",
          "2023-09-17",
          "2023-09-18",
          "2023-09-19",
          "2023-09-20",
          "2023-09-21",
          "2023-09-22",
          "2023-09-23",
          "2023-09-24",
          "2023-09-25",
          "2023-09-26",
          "2023-09-27",
          "2023-09-28",
          "2023-09-29",
          "2023-10-01",
          "2023-10-02",
          "2023-10-03",
          "2023-10-04",
          "2023-10-05",
          "2023-10-06",
          "2023-10-07",
          "2023-10-08",
          "2023-10-09",
          "2023-10-10",
          "2023-10-11",
          "2023-10-12",
          "2023-10-13",
          "2023-10-14",
          "2023-10-15",
          "2023-10-16",
          "2023-10-17",
          "2023-10-18",
          "2023-10-19",
          "2023-10-20",
          "2023-10-21",
          "2023-10-22",
          "2023-10-23",
          "2023-10-24",
          "2023-10-25",
          "2023-10-26",
          "2023-10-27",
          "2023-10-29",
          "2023-10-30",
          "2023-10-31",
          "2023-11-01",
          "2023-11-02",
          "2023-11-03",
          "2023-11-05",
          "2023-11-06",
          "2023-11-07",
          "2023-11-08",
          "2023-11-09",
          "2023-11-10",
          "2023-11-13",
          "2023-11-14",
          "2023-11-15",
          "2023-11-16",
          "2023-11-17",
          "2023-11-19",
          "2023-11-20",
          "2023-11-21",
          "2023-11-22",
          "2023-11-23",
          "2023-11-24",
          "2023-11-25",
          "2023-11-27",
          "2023-11-28",
          "2023-11-29",
          "2023-11-30",
          "2023-12-01",
          "2023-12-02",
          "2023-12-03",
          "2023-12-04",
          "2023-12-05",
          "2023-12-06",
          "2023-12-07",
          "2023-12-08",
          "2023-12-09",
          "2023-12-11",
          "2023-12-12",
          "2023-12-13",
          "2023-12-14",
          "2023-12-15",
          "2023-12-16",
          "2023-12-18",
          "2023-12-19",
          "2023-12-20",
          "2023-12-21",
          "2023-12-22",
          "2023-12-23",
          "2023-12-25",
          "2023-12-26",
          "2023-12-27",
          "2023-12-28",
          "2023-12-29",
          "2023-12-31"
         ],
         "xaxis": "x",
         "y": [
          89734660,
          1505298364,
          1692648250,
          2049000,
          10726200,
          1363369190,
          2944243242,
          32432176045,
          3359095380,
          890769512,
          7730800,
          3369821108,
          2624052634,
          1741396400,
          1339963307,
          9578149990,
          65716040,
          5664200,
          15014547130,
          4480353426,
          1786192460,
          2697655216,
          11394883478,
          2888633130,
          580501520,
          536729707,
          954476000,
          1497370378,
          309465590,
          489847000,
          1333136287,
          933149820,
          4620000,
          531848430,
          219407280,
          1131070870,
          1720618240,
          1041662733,
          988600092,
          312965548,
          669198345,
          627400289,
          546287560,
          9675000,
          1513618090,
          655815840,
          1671835580,
          662968418,
          1918826562,
          10579800,
          396840,
          41353765752,
          616347460,
          1497385778,
          496700570,
          473393130,
          1058277830,
          234940770,
          564056715,
          3133213431,
          1895575711,
          2752640,
          1677581244,
          627937110,
          464658260,
          353777893,
          1552741422,
          3920000,
          546123850,
          1042074600,
          1877619184,
          1417120714,
          821190567,
          823692622,
          1587045440,
          621741673,
          1277987690,
          725202465,
          2079000,
          59295000,
          1080001000,
          1093392182,
          5370361392,
          1677063171,
          1384016870,
          2595122114,
          1654854890,
          2696674950,
          343845856,
          1567339860,
          3172000,
          15220800,
          1367256696,
          1668712620,
          7085333341,
          1212885846,
          1089813300,
          10219660,
          1650849470,
          764289940,
          4737685458,
          52868250,
          1813710130,
          3405511740,
          3451166960,
          643216580,
          1517250,
          1796029695,
          1160689798,
          4176996310,
          5819352011,
          352410230,
          3405780,
          1199189587,
          1489280390,
          3192369952,
          1031156900,
          15572995500,
          7143400,
          820845390,
          2167214970,
          4066526776,
          344291860,
          2553353806,
          2574500,
          1076801613,
          1413747859,
          9019110,
          5751072498,
          8740800,
          10660200,
          1827397692,
          1369259343,
          1769240290,
          2224728570,
          31188306448,
          7422750,
          6380015190,
          1152149530,
          15795292352,
          786586710,
          1116194966,
          920166,
          4316100,
          1032537580,
          700722241,
          3508668626,
          562943521,
          3457444880,
          28705840,
          4577269012,
          437251990,
          4676822430,
          1171475372,
          729654010,
          26707000,
          900961656,
          3201923895,
          2925907792,
          1641971595,
          657675290,
          1266431983,
          447761988,
          2563625759,
          22850773170,
          2013223359,
          642000,
          871497500,
          1080606730,
          2625904853,
          752271015,
          2937163710,
          13580000,
          1651165251,
          1430868918,
          3630986815,
          1326225025,
          1089337667,
          1207940670,
          2030495807,
          1354790784,
          1415328873,
          807498029,
          1080196430,
          1078755296,
          6256767543,
          5233279919,
          30011770,
          31609200,
          656822400,
          955224557,
          1646193100,
          8598355500,
          2279503915,
          10955460,
          1178326820,
          848601050,
          6393486060,
          1050417885,
          2487999050,
          3384000,
          2161500,
          5728440475,
          1149077831,
          3209322274,
          1163568440,
          10422250270,
          1555200,
          161130,
          5261300,
          1072300433,
          1748754226,
          5317600,
          1141208980,
          1282476110,
          16530668387,
          3900146709,
          131553863,
          244530,
          3312170449,
          1377464880,
          1693199201,
          2559828059,
          1530693186,
          11078880,
          4991486410,
          37382525360,
          2173089244,
          2391308502,
          20990950,
          1745276919,
          475197774,
          3716157734,
          648519413,
          7440000,
          1888740337,
          1287157105,
          7420015066,
          1312192624,
          2453893539,
          15857351340,
          1110493315,
          3926639507,
          13687350349,
          3086204664,
          6965430,
          1279164618,
          2724360511,
          12735470849,
          7295443153,
          23900987146,
          4604040,
          58080,
          1134763799,
          2671009152,
          5472839295,
          2084377090,
          1024436698,
          9981300,
          973500,
          6600841470,
          726569665,
          7457947562,
          2725137056,
          546042310,
          16492580,
          349263313,
          1738986921,
          7204055095,
          989591752,
          590803550,
          7363200,
          903593031,
          1637774352,
          4886410020,
          942127111,
          1295906150,
          3231000,
          509316780,
          2176038026,
          4555790301,
          377704509,
          331373568,
          1636288600,
          551042400,
          1360170741,
          728174180,
          968552495,
          2005080,
          1205662058,
          3856415922,
          2199332499,
          26822124252,
          9848782877,
          4953900,
          7722000,
          4880378132,
          426409906,
          4597765375,
          14728800,
          2639488863,
          4203520320,
          3750028660,
          9520397627,
          140164200,
          1830707129,
          3703291637,
          681206197,
          1939820572,
          6177722000,
          720759948,
          464984350,
          3292509692,
          1013462446,
          589176253,
          16331362510,
          6182100,
          1282959998,
          1345771806,
          327412960,
          2969186233,
          555642857,
          18559590,
          660922574,
          194368040,
          3689063529,
          525366427,
          953618565,
          912240,
          566621528,
          2617633900,
          534428810,
          1843455314,
          6594730003,
          173800,
          3036910,
          736637059,
          4096259960,
          24377540367,
          1595313383,
          1646398366,
          1138158648,
          766132160,
          804520997,
          1212901037,
          11775516747,
          4472637509,
          13898776124,
          27439460,
          17768500,
          1502267954,
          2775890513,
          1152858459,
          1210140607,
          626687510,
          209616,
          612860670,
          2887389777,
          4205293994,
          5858299285,
          1320777758,
          3649129107,
          1712351339,
          4016166527,
          391213030,
          4159074444,
          1280605275,
          1410928126,
          20629313922,
          1536185340,
          6085769666,
          2257375880,
          1425255804,
          1548305259,
          662657189,
          959932198,
          5469600,
          5376441,
          1803911589,
          2199801287,
          3913301548,
          956014402,
          35465625479,
          2392500,
          6163800,
          1027812042,
          9480110717,
          1513919037,
          1853797049,
          263179420,
          2855347,
          2565570586,
          667585746,
          5096841436,
          5335808675,
          1306435178,
          1629600,
          3181431308,
          438129075,
          1547600240,
          1350631407,
          59166150,
          1608237077,
          34177390,
          447852061,
          4265863085,
          7574305814,
          4452000,
          1935020068,
          882765473,
          972476698,
          2853354450,
          2503945286,
          1177000,
          1006574478,
          4409955634,
          2966346775,
          679891344,
          7814933848,
          27375000,
          13189800,
          1683044754,
          627143865,
          1426986624,
          3487736038,
          530400,
          498000,
          1297036098,
          3541892459,
          2810760915,
          868368612,
          391622947,
          20298100,
          954981884,
          257483157,
          1767540652,
          1398338874,
          2236990581,
          738909238,
          1322327992,
          1640907431,
          1977890179,
          1648901371,
          17533600,
          12384573351,
          2933079753,
          8699533508,
          2511526311,
          8794878777,
          8492700,
          7616956052,
          7143348564,
          20500380743,
          702846388,
          1918767713,
          408389182,
          903413845,
          3513136241,
          598294005,
          2177261310,
          37150000,
          861559480,
          2595475390,
          7714505641,
          1170872881,
          739593387,
          12177000,
          1016788745,
          1086368802,
          5150750999,
          747000623,
          2331389144,
          5366400,
          6678310752,
          3701268961,
          6850111833,
          6913345529,
          27802522564,
          22150000,
          4820088128,
          500167000,
          1476870633,
          735493230,
          2661525406,
          35465537,
          2696700,
          462322485,
          2182766990,
          33955361612,
          654797404,
          43600760,
          2692120,
          2252804823,
          2957586303,
          831051460,
          2140647346,
          241142446788,
          1414694332,
          753583437,
          1906433282,
          847401980,
          1061908959,
          2394600,
          31930800,
          14133590348,
          3874508847,
          570152752,
          626250473,
          372789091,
          1591242,
          3532010783,
          590462210,
          3027357684,
          445264452,
          2012942350,
          5500200,
          1285864114,
          728020527,
          2033575094,
          626031884,
          14316519171,
          1159200,
          86989080,
          1374795750,
          933192017,
          12029771312,
          4428216193,
          219720150,
          3791310,
          1454513033,
          877094908,
          634744720,
          1593591441,
          9054000,
          5369735845,
          2011413825,
          5754906428,
          547828695,
          31235880,
          1043036414,
          1106633418,
          2650196128,
          1388017205,
          927936073,
          1158143315,
          963859533,
          3933726710,
          2683161375,
          3382700718,
          1513550,
          2548000,
          1883388756,
          1375453749,
          1743832882,
          1010262103,
          1615910192,
          1370000,
          781006025,
          2276741353,
          777417291,
          1259489986,
          578123461,
          25046400,
          5740055106,
          16362444731,
          1409237156,
          1654520182,
          808990416,
          3944929164,
          1210936573,
          1151109695,
          1224459730,
          999188034,
          75756690,
          1355164083,
          12707346487,
          15717275258,
          1568938121,
          2176616814,
          107956421981,
          549548236,
          646559230,
          128726774317,
          2908020929,
          68404600,
          1210043596,
          738087683,
          5039911690,
          1814704050,
          345753833,
          2564500,
          3731404808,
          5424470473,
          1454619366,
          9489960050,
          2760651848,
          98560020,
          4215555963,
          945364526,
          2595738930,
          5296938279,
          542300,
          30806189337,
          2426333450,
          3448274689,
          3387611650,
          73204400,
          6185800,
          1588235036,
          2600575052,
          9189593663,
          1127380491,
          6016373656,
          586530,
          1521555490,
          1135030829,
          1665191260,
          584563960,
          2869354410,
          1897640,
          4662379676,
          2019399567,
          940890761,
          495586446,
          517530252,
          6955133,
          317201620,
          384404852,
          631204287,
          580316435,
          225589029,
          313470000,
          443317180,
          2241334191,
          2740115066,
          1235075593,
          678486701,
          875794511,
          78606697550,
          2761043515,
          983124277,
          374799680,
          3343553385,
          4286580530,
          2299050,
          520911558,
          952902460,
          2160162336,
          791786071,
          2543781569,
          25188726,
          166400,
          1142463756,
          1810536703,
          1538401646,
          782177102,
          6300000,
          2442000,
          2279662952,
          1136491614,
          1931994346,
          1780672243,
          1806696363,
          375054650,
          2775860618,
          4207594628,
          582464964,
          1347886666,
          46696000,
          1869143406,
          922761838,
          9227487645,
          1139887427,
          5495927634,
          22171940,
          357580,
          1091790745,
          1701189477,
          4926050059,
          5188569148,
          367076123,
          19831100,
          3692100,
          1679439560,
          667666851,
          1458205904,
          2465130792,
          3827860787,
          1813470,
          2871862645,
          458388974,
          460337820,
          3127243096,
          1640597374,
          1629860,
          1908699200,
          671733331,
          3485873430,
          2986915340,
          728491964,
          319200,
          952907781,
          571496730,
          3790876030,
          4586796221,
          889502118,
          38683215,
          828294857,
          2447900627,
          4095155326,
          35638330,
          99186305,
          2772000,
          2415873245,
          979972969,
          1060438850,
          3053684745,
          1607283030,
          625000,
          1501177265,
          903452840,
          3710659040,
          1266820898,
          1267094872,
          12639774,
          606800,
          1309978054,
          921032994,
          2197602011,
          1783833762,
          1082949620,
          1275630,
          2086375849,
          1808774606,
          6550603516,
          2157979873,
          465523993,
          37624220,
          1248923802,
          619233475,
          3102301423,
          1592943791,
          2326860,
          1451420,
          950704464,
          912370278,
          2248839076,
          1159497511,
          6472362620,
          139604140,
          9494357,
          5040575520,
          3641573692,
          6085131921,
          3111476306,
          895620164,
          2550600,
          284172300,
          2528162368,
          1422530777,
          9573016972,
          7589069940,
          397346611,
          852385430,
          6077430592,
          1399347530,
          2949076553,
          762209857,
          784000,
          117731940,
          3951379959,
          1507219016,
          18169128232,
          1148864937,
          4924900793,
          1963230,
          1818681198,
          692201700,
          1793187672,
          1459947810,
          1877002476,
          8456535,
          992827635,
          2445203259,
          5705379973,
          525417230,
          716278410,
          1000357045,
          870936396,
          640425030,
          6071534150,
          4498218338,
          4556700,
          1713180,
          766061422,
          545060290,
          594961826,
          3061879780,
          3703192972,
          777402576,
          657181155,
          1191699392,
          686019909,
          10295100,
          1921777428,
          1148734300,
          1371648739,
          6472518384,
          473450004,
          14446780,
          2195516923,
          1080621374,
          1632193491,
          10070573567,
          1275395038,
          5827560,
          2407185034,
          2325005611,
          502046254,
          3736658444,
          931200329,
          16043990,
          971216574,
          576034046,
          3467200,
          18550,
          372400,
          111630000,
          886200042,
          1450587290,
          754593384,
          7506679437,
          237947635,
          499290674,
          623039188,
          13245087672,
          4244035373,
          2067119722,
          260000,
          1052998958,
          1087221074,
          2082854258,
          608172000,
          5329400,
          12149740,
          1074265052,
          2906917384,
          533712917,
          2668139443,
          568820831,
          2906200,
          928925964,
          653209594,
          2153723821,
          2138932114,
          2638044702,
          8504918,
          620120021,
          1518112545,
          515800359,
          1929086210,
          2334673996,
          17978000,
          4389043572,
          1006359906,
          6577591873,
          5372633188,
          836883217,
          1531780,
          1381449984,
          1457461955,
          8673519155,
          9459972245,
          2367391670,
          20445000,
          1514159204,
          3025955236,
          4025636435,
          5835878230,
          3919024336,
          2398000,
          811596993,
          1573052262,
          1092035684,
          4673405589,
          2123299377,
          5996440,
          76213600,
          3386525887,
          2123242258,
          6968665687,
          1639625131,
          690165574,
          2374458910,
          2051863389,
          327250342,
          2141268614,
          864035066,
          14165750,
          21414800,
          568918800,
          269055892,
          1095190361,
          690995370,
          326077533,
          616479447,
          1874557534,
          1955038043,
          2794496661,
          1192575435,
          909000,
          3345400,
          2961760766,
          15548364792,
          10549767212,
          2553061246,
          11493360958,
          861300,
          248452660,
          1494037738,
          8878816523,
          1933317977,
          25555692836,
          450545054,
          8700000,
          1182681582,
          673860045,
          1065209355,
          504447964,
          1225118760,
          122400,
          1185675796,
          846577592,
          1148926825,
          138273780,
          317792064,
          1003634174,
          2132362221,
          872750040,
          1169898587,
          349046000,
          633527614,
          393609504,
          2916371471,
          1077450400,
          806400,
          2181800,
          368122851,
          1119093405,
          20559331385,
          805739389,
          1426543986,
          6470700,
          1352670,
          2810419579,
          905012879,
          695607580,
          1530874529,
          597870202,
          2475200,
          5179462990,
          3758731579,
          384612958,
          300315010,
          996114495,
          1557235187,
          3972773012,
          1404000,
          2965871513,
          1141760450,
          5010096,
          179256160,
          2807039333,
          664298350,
          1198132521,
          2560633416,
          897505543,
          927181653,
          387650133,
          1553593744,
          3845841789,
          1225072803,
          341220,
          1347066863,
          2224536180,
          594557460,
          9009396324,
          501880449,
          58813600,
          5673314313,
          372716757,
          754603684,
          950108730,
          1431217293,
          2871644000,
          313907132,
          6196437349,
          934937824,
          3228196992,
          1652734803,
          1421771951,
          13253630,
          1796840,
          3602539784,
          1770805351,
          1723788546,
          15936117090,
          4384382494,
          22998060,
          954360,
          1534276349,
          3197058479,
          2251521687,
          990592642,
          6189406945,
          9257600,
          1678375,
          1221470983,
          1181528362,
          1738595477,
          2011139128,
          2639358988,
          40847000,
          49221482,
          77333450,
          2931482163,
          40800000,
          288659690,
          12091050,
          1124000,
          972641258,
          7042600,
          4919975030,
          1825443319,
          6075108751,
          146050,
          21449990,
          2455445727,
          1569224047,
          2823187321,
          1125978863,
          1561421985,
          3749040,
          9171502,
          1861417370,
          2760964713,
          1183737436,
          2610307558,
          2659029997,
          1756800,
          1783990289,
          1942152660,
          1636002313,
          9120424564,
          3627238563,
          5057760,
          43690290,
          1779824590,
          63825200,
          1641876451,
          4233294072,
          4170925538,
          7487000,
          4985682082,
          787382462,
          836335913,
          1117464001,
          3562011522,
          454759800,
          6409000,
          1456196849,
          1901197560,
          3422616894,
          5018709266,
          1806924268,
          76769500,
          4400100,
          2756324480,
          2496606857,
          4497400714,
          12995313779,
          4328409314,
          51801000,
          43322000,
          1017966923,
          1966618519,
          1072695826,
          945609402,
          830530998,
          324720,
          78511400,
          1279129814,
          2124593806,
          10463418934,
          2874333071,
          1187505282,
          358738790,
          48661930,
          2325577847,
          3347093518,
          1107064944,
          6373734266,
          1469870582,
          236940,
          1843114697,
          2572766550,
          1303992740,
          2710360690,
          1460074355,
          11622580,
          1409765065,
          9049238504,
          2350922371,
          1043931177,
          3721278065,
          19734000,
          2730540,
          1059428036,
          1052131739,
          527082066,
          1308617345,
          2942718505,
          2526480,
          1874412288,
          105273930,
          1992258724,
          1672558795,
          549992756,
          16305678,
          8218000,
          2833830142,
          1559107496,
          3441083724,
          1871476943,
          5930204816,
          25753706,
          29807420,
          4384914269,
          10730812099,
          4644712988,
          1702389382,
          2175048130,
          7277400,
          1459543533,
          5324633613,
          515908014,
          1081544371,
          1216942262,
          3088800,
          4308960,
          2009360092,
          1816572863,
          718500669,
          1036676430,
          1055019535,
          5583582,
          2100243237,
          2416992200,
          1553615431,
          1030531522,
          1547655104,
          13355680,
          2890200,
          1343585374,
          3928934560,
          1838947247,
          3157945460,
          2271299134,
          16363370,
          60765450,
          40968920,
          5470182,
          1239500,
          5701950,
          3227768545,
          2300510537,
          1388848544,
          13083268086,
          178156427,
          5520800,
          2148138453,
          2817411385,
          1226119171,
          4569164925,
          769358368,
          1557000,
          5811000,
          1563154924,
          1061275279,
          7301223585,
          1677900728,
          8166775777,
          17688790,
          579200,
          3905373719,
          11024495645,
          1494788486,
          2578368674,
          801030928,
          22463430,
          42532310,
          1789954872,
          1207330434,
          1073999798,
          2183196370,
          2176021626,
          39809720,
          9746800,
          4786999931,
          1982372551,
          1882720019,
          2641877400,
          6078520875,
          1025480,
          42402900,
          2839258920,
          5441410025,
          1032979138,
          1615074987,
          2378587311,
          17661628,
          125171170,
          3234986863,
          2482699792,
          4626260507,
          2733972115,
          25631739842,
          21033960,
          77706000,
          3787304125,
          1912392485,
          1435785476,
          1390983454,
          2679570025,
          16476400,
          20650980,
          2439008029,
          1997601758,
          14856410218,
          2995606494,
          2613016711,
          26293004,
          516800,
          1593131635,
          3532340736,
          2924083610,
          3254139963,
          7981664807,
          178306140,
          8811000,
          17196300,
          12671392812,
          20930258037,
          5115672909,
          5138522220,
          42999200,
          59506200,
          2921113720,
          3261670243,
          1131139507,
          752430342,
          42343653,
          600803261,
          1237336313,
          3792537628,
          511543609,
          739141623,
          1274653170,
          1703335611,
          675380873,
          1907756845,
          1051162211,
          1900996320,
          420476689,
          1486093670,
          343029963,
          369601226,
          57250,
          16776000,
          900681169,
          969592581,
          4988779876,
          1943054332,
          1899058551,
          1384959,
          36224730,
          3100828922,
          7032882580,
          1005995202,
          293794915,
          360024298,
          939280,
          4335000,
          2579269915,
          1365359455,
          465331712,
          9077920,
          1569520480,
          1426868336,
          1192287702,
          1364967591,
          1218698670,
          7735332,
          469920,
          1738828320,
          1308048837,
          2175957943,
          511500796,
          6280950,
          4049080721,
          1123086326,
          538299745,
          6814955203,
          5617058658,
          20059320,
          2204460,
          657954140,
          679714866,
          10491271262,
          1981360415,
          497479635,
          10453182,
          6655500,
          3744678059,
          985149599,
          1696996239,
          1603406450,
          3189820680,
          8800800,
          6969200,
          2636758754,
          3706463272,
          339322035,
          1317961339,
          1561203297,
          394816530,
          762481801,
          364838359,
          912519360,
          2440320723,
          501741580,
          634924618,
          1864420307,
          680274202,
          1021773024,
          804861236,
          5525710108,
          205383450,
          2404453061,
          855563155,
          581583130,
          1344253062,
          2183153700,
          4957511997,
          634155277,
          734628874,
          13289200,
          3214080,
          1461218557,
          11556320,
          869358362,
          679978891,
          2241563978,
          539220,
          1142000,
          886167864,
          622543160,
          2327765312,
          2642484100,
          788467,
          1549600,
          860799356,
          2614454012,
          1307132565,
          806966967,
          11370095461,
          26369680,
          4810500577,
          16080340,
          2152395605,
          44845851653,
          721263516,
          2895660,
          176220,
          2878181963,
          22422227016,
          664912496,
          1228819679,
          1417877276,
          21030680477,
          2369108645,
          38544150,
          462063227,
          2059031607,
          248525730,
          14114497,
          1304925001,
          1957807360,
          61114630,
          4093829436,
          1442438862,
          2400840,
          1686096412,
          1345948852,
          926306513,
          3006177365,
          5642651590,
          1557600,
          21924300,
          3320798580,
          2883994103,
          1958629665,
          1921569532,
          2271386794,
          960310,
          6822570657,
          987117528,
          541000759,
          750775801,
          444346690,
          3417750,
          3442500,
          311213192,
          1634112919,
          8089481705,
          533451814,
          2608024048,
          4293522651,
          742351721,
          44530704547,
          568454219,
          636018740,
          9144480,
          1474242105,
          3294154290,
          15429085927,
          385461469,
          397551692,
          1250600,
          611785524,
          4254007760,
          5434555802,
          404363058,
          367446946,
          645800406,
          854430421,
          495693074,
          900748795,
          556782894,
          4044000,
          896148066,
          965461524,
          6169800,
          949007656,
          977958774,
          1418920,
          273960,
          565348358,
          767562075,
          4567206521,
          1241457602,
          2342610915,
          4492100,
          2700529514,
          1656112493,
          355098079,
          1053277267,
          1655721633,
          21069100,
          1458589147,
          365437220,
          269942416,
          1398850104,
          2643967177,
          5410920,
          533352185,
          372028312,
          351671962,
          978234607,
          342256858,
          25248400,
          288921500,
          531057103,
          628203226,
          3465092439,
          759928830,
          379442454,
          317228,
          1510470,
          527238,
          578535033,
          1064501618,
          23681680,
          151980,
          1943267942,
          1522452163,
          860567161,
          292257245,
          6659030,
          72240,
          606477355,
          1681700,
          691726557,
          281555771,
          5225537805,
          1014950,
          37149000,
          447264941,
          814418689,
          286983347,
          1322424415,
          112390667,
          936000,
          2568826,
          332359598,
          2963284046,
          563768591,
          153633382,
          1553480229,
          593479703,
          329560466,
          20905590,
          8040652701,
          154766530,
          311960641,
          309394750,
          155120613,
          403887486,
          1385323400,
          9180680,
          116620640,
          89445952,
          1887683610,
          76296800,
          197664508,
          257827990,
          139636100,
          694959300,
          196058667,
          213704490,
          38241200,
          308379250,
          28652200,
          160005627,
          575760482,
          273973152,
          136300698,
          466515938,
          321601490,
          232410500,
          6938048727,
          1134146900,
          1977641783,
          395856520,
          58726379,
          266659620,
          278047820,
          3364652154,
          5186899820,
          1062012190,
          942199822,
          1811221996,
          1367817020,
          874555230,
          3029400,
          1828671138,
          113553100,
          11338759073,
          447345146,
          629964928,
          39600,
          183841609,
          2115279908,
          216742504,
          148264391,
          333125323,
          843696619,
          119135410,
          727577652,
          33999787493,
          447867393,
          1669091057,
          12954790597,
          17482044,
          5340387669,
          352730165,
          1424107630,
          3019876753,
          562283407,
          564245143,
          1367097597,
          442153424,
          1076237383,
          587904074,
          1281300,
          20432425,
          880628714,
          633063098,
          25691880,
          306103565,
          219997013,
          300296190,
          533867764,
          137993548585,
          25608800,
          205721600,
          630703874,
          187049358,
          949026727,
          1058447647,
          3962322897,
          262800,
          2854075462,
          7116840724,
          458542032,
          1047152031,
          32015320,
          47482240,
          1093469717,
          1186786217,
          6648606198,
          1364846980,
          1145819059,
          10319730,
          223704907,
          414800043,
          622729723,
          918728210,
          932615041,
          49807000,
          164930,
          433562993,
          886086212,
          1130498519,
          290511625,
          1098147553,
          276378616,
          697771250,
          206123615,
          282527387,
          4622751861,
          730200,
          814820037,
          817819499,
          1031255104,
          852135185,
          872295348,
          6001600,
          4043432,
          610397948,
          237604780,
          458671820,
          648180144,
          1999550984,
          73194,
          306112247,
          399418626,
          578313005,
          1658483268,
          438118481,
          280840,
          307372513,
          736402409,
          871588783,
          1875430662,
          2153701635,
          4954140,
          2743728896,
          10620713241,
          2855166,
          911849550,
          561748788,
          11759000,
          482952366,
          452394253,
          159287435,
          1054962131,
          725,
          19864160,
          2202340389,
          716916461,
          439610945,
          1712811880,
          1902041418,
          13994640,
          840430,
          1129991727,
          882849110,
          830862861,
          1171578094,
          1073880341,
          4192491,
          259343744,
          592024029,
          251585100,
          522792668,
          1153003548,
          151630,
          2726000,
          1547274833,
          628111170,
          3394583753,
          1017726,
          2448670817,
          24615510,
          6136083,
          6798839333,
          345302847,
          640976107,
          1044798237,
          2225489139,
          891000,
          281200,
          24451321671,
          108115725,
          947051820,
          1270082714,
          1426538804,
          615230,
          2967282222,
          447966047,
          7857538582,
          5372060376,
          4694985590,
          2587000,
          6105863,
          407499314,
          83148474,
          190231110,
          685644122,
          362942039,
          5288958608,
          297954912,
          1591377379,
          161465194,
          254158608,
          340792475,
          309456394,
          16628770516,
          672188569,
          360699387,
          590743786,
          1896605685,
          1341529520,
          809627397,
          470877674,
          27172650,
          1067337370,
          771738365,
          621523455,
          74926729,
          210078614,
          3916870,
          1231838542,
          6242361214,
          8839221850,
          328287874,
          340022030,
          1246630,
          396804,
          1622910652,
          549142938,
          5833260555,
          1272201791,
          1265000,
          472284536,
          529898755,
          1764163984,
          390752367,
          388078219,
          344400,
          191280579,
          489993640,
          233718645,
          15640045773,
          1993980735,
          3996000,
          3836707432,
          663677446,
          3188079398,
          422295358,
          2965881035,
          4056100,
          643361159,
          217872338,
          1046618417,
          101370,
          4761400,
          1502904167,
          4983162285,
          1193124043,
          514000332,
          646042214,
          10527676,
          664390688,
          372146520,
          1111544418,
          3340297144,
          2970149054,
          6624000,
          1717315924,
          1313505422,
          1243073407,
          90990441,
          47963054,
          2738879,
          339316407,
          1914717565,
          1078616915,
          266933963,
          399374626,
          231466723,
          1086309102,
          679866814,
          377692437,
          730880,
          827458109,
          455394297,
          547177194,
          193215936,
          3281650968,
          5236930,
          1715824856,
          1051022733,
          6327564515,
          1373733809,
          7338560303,
          483888114,
          2066677886,
          284285532,
          1163940630,
          1093988927,
          1266210715,
          43340063,
          948183510,
          1451855570,
          404382440,
          195299374,
          780911414,
          2195121432,
          38568019,
          3041098784,
          1509119980,
          1700132338,
          565455642,
          151048410,
          12971712447,
          243966882,
          4653255338,
          1391013926,
          774754710,
          2524503431,
          289895,
          332605,
          9490297809,
          118862014,
          1589945478,
          826117652,
          1596311591,
          3410189814,
          3999848480,
          40142514830,
          24578332040,
          33792796128,
          25977460,
          1801170949,
          5091617664,
          2144165659,
          3142007061,
          190920,
          3488840516,
          25328623470,
          33185922,
          1513667862,
          16603006774,
          1944000,
          1046427053,
          335855510,
          766282401,
          348097330,
          3690832271,
          1234050,
          715305749,
          739896440,
          5133247542,
          9295961154,
          423911016,
          325591768,
          365131310,
          437803843,
          375089267,
          2992647,
          947337848,
          4384580276,
          1462234096,
          1565604047,
          9714320916,
          583303547,
          460689605,
          309346237,
          1040927986,
          4176000,
          2521210,
          310800760,
          1520857151,
          1261645701,
          1407811745,
          874847214,
          26987400,
          1200948342,
          422860465,
          1205161829,
          1228807497,
          363190545,
          1306348185,
          3173344776,
          2802318002,
          9665549195,
          478179667,
          515217611,
          602483588,
          622939154,
          577938157,
          47665508,
          6285360,
          7342808478,
          441417311,
          1933715204,
          1549844254,
          80124587,
          198425411,
          2520946062,
          26086502,
          9638181587,
          642896141,
          15372200,
          158588416,
          4230397257,
          586137695,
          1207139704,
          603955246,
          418500,
          4726890,
          6516513283,
          3296188860,
          701644453,
          2355530380,
          8762241670,
          109560,
          2709627168,
          1609505514,
          510689983,
          6712575039,
          28876245094,
          257520,
          2240816423,
          5259542241,
          7288580,
          2448268301,
          2157972232,
          967200,
          688388529,
          234408759,
          2021624718,
          1661882311,
          2756090372,
          687682474,
          3565306579,
          2190366791,
          70616000,
          1595101067,
          98090,
          450458786,
          777733005,
          1599288204,
          21669120,
          353221245,
          228224203,
          773834355,
          976172125,
          3132849567,
          1260000,
          398580,
          124134254905,
          63678975655,
          769101080,
          242774564,
          984242455,
          82550,
          2884000,
          3182280028,
          193616611,
          3863280480,
          6728462309,
          242583181,
          2838800,
          4840629248,
          311719513,
          491173631,
          45919674829,
          3775484496,
          39620000,
          1443178357,
          1716614249,
          1094212030,
          462666429,
          6834495788,
          2484440,
          1276200,
          375323413,
          1040023987,
          804436175,
          2396916711,
          414187980,
          45880000,
          243286800,
          3346862307,
          1057371433,
          1274946135,
          2249314968,
          2411847326,
          516364,
          7191000,
          2270507003,
          4752814496,
          2286240366,
          155400654,
          93760218,
          67590000,
          740361684,
          2575499819,
          5708886235,
          816449618,
          1532673725,
          345258352,
          366144629,
          2193906637,
          534616814,
          515557257,
          1134024381,
          120189489,
          301254869,
          729524005,
          370249527,
          2771407600,
          1174376410,
          1691615739,
          436359826,
          466856336,
          276983527,
          212965960,
          382412410,
          27141784153,
          709547733,
          1649640,
          994293731,
          1452201137,
          417965341,
          90515270,
          702935388,
          614225698,
          2582208130,
          1229152984,
          1063284239,
          490560,
          640668,
          179418417,
          241903669,
          229462960,
          3764774975,
          974588239,
          157933999,
          358485526,
          224487540,
          775608526,
          892134391,
          2300100,
          348029688,
          625630440,
          349754896,
          366538550,
          887244056,
          225804479,
          237788100,
          103079186,
          458866255,
          179585783,
          31724000,
          317121790,
          109058672,
          441861870,
          123310124,
          55430904,
          122023710,
          1429740417,
          2456470,
          118496210,
          529363600,
          237541388,
          1580483168,
          16207380,
          1059958377,
          4017619388,
          819453754,
          647200894,
          4177747728,
          16206000,
          3743506992,
          3990411230,
          304413309,
          903953065,
          728931743,
          67500,
          81918360,
          186720075,
          56210849,
          99608032,
          10803090764,
          1450000,
          422891292,
          152087454,
          687300196,
          40326664952,
          22921462373,
          144890391,
          12345957633,
          1849305898,
          470711339,
          329001389,
          1060550374,
          512062577,
          851786140,
          229838133,
          200759586,
          210970149,
          2163330,
          11408000,
          1809595105,
          7441582109,
          444007040,
          439041110,
          3740079361,
          2668981803,
          1040442380,
          755269915,
          1722264058,
          303015439,
          1167485870,
          329900917,
          12208662416,
          3709550731,
          68834086667,
          2523490,
          725164920,
          1157649316,
          1953571326,
          2916800128,
          6999152767,
          970536570,
          6898934988,
          1906445876,
          10503738888,
          4893160451,
          8105752450,
          6543382520,
          6961247072,
          10885655447,
          1795690,
          6286440036,
          505654981,
          2370829290,
          644822344,
          852050870,
          2393632,
          1137479463,
          599334066,
          648454235,
          1374997935,
          815154462,
          299300243,
          443771550,
          588017177,
          762900253,
          678754900,
          2583097818,
          1386072618,
          968059664,
          587470265,
          1351196029,
          9642140,
          5926622186,
          1709278668,
          5616853790,
          2615453386,
          509174045,
          1296290,
          308936825,
          689307369,
          3208987921,
          1549951485,
          796079792,
          131151216,
          851329022,
          980883758,
          147261767,
          675879551,
          1642662249,
          355817089,
          8969229260,
          2412246481,
          6732000,
          2178879882,
          404417703,
          396203169,
          4888647464,
          129204450,
          2799818836,
          1219691904,
          1441019645,
          679168932,
          485334739,
          17662400,
          476264273,
          485898579,
          174185608,
          208814905,
          421640700,
          5572361916,
          304190233,
          335638579,
          535508492,
          505265261,
          506744,
          4786100,
          461657871,
          1238566161,
          4861651680,
          886491779,
          270947322,
          635500,
          162420940,
          1631089730,
          2311600610,
          1540628635,
          808191085,
          2580874,
          1508383203,
          2475772669,
          1375719158,
          52154372,
          342496347,
          2208554245,
          154557460,
          13644970626,
          96915360,
          1637844593,
          6115441445,
          227856335,
          1579542730,
          25829391184,
          413575740,
          4882437344,
          1698388920,
          450625000,
          424070043,
          585523613,
          1386700,
          225125635,
          737133893,
          1583934591,
          1444935177,
          3523339200,
          1474740,
          516309613,
          144972917508,
          3072507410,
          2136724944,
          34575000,
          315302230,
          2050882435,
          416289266,
          1133754732,
          3624585194,
          485040699,
          653098926,
          1149228649,
          1691755950,
          962374821,
          1381715211,
          1594025320,
          2711397320,
          328918180,
          708001342,
          5750700,
          733271311,
          1389613629,
          2343532939,
          31831650,
          1196579417,
          2631900,
          62706980,
          901931279,
          694695480,
          196379339,
          1089189515,
          5835100,
          1081856475,
          1619510346,
          15030180084,
          371596015888,
          428696890,
          6230,
          1848227055,
          175617069,
          136878356,
          93588180,
          201986368010,
          2748200,
          1237446131,
          69922510,
          172785002,
          1063380500,
          138790825,
          2443910520,
          642762263,
          846478518,
          12049990440,
          283913990,
          537475660,
          309689623,
          147298872,
          415062647,
          37378293566,
          152969300,
          157802060,
          32412623,
          941811762,
          481007480,
          1347146324,
          286602881,
          34517300,
          1115537520,
          429290500,
          248560610,
          111248690,
          13766690,
          16714357975,
          212438928,
          138490400,
          14310971956,
          2011573160,
          8264605180,
          903950194,
          7694489503,
          64478035,
          621309422,
          280112941,
          874176333,
          3314394690,
          113780584,
          413758973,
          1700223633,
          779356290,
          1299823810,
          2955142180,
          2212177792,
          25728349190,
          2881200,
          528922745,
          378398890,
          298700,
          1980149360,
          184102424,
          992053440,
          2016600967,
          2001477388,
          257099736,
          431132130,
          2877163460,
          606420440,
          52122191,
          1001089733,
          6185001194,
          356082439,
          3711417619,
          121174600,
          1198356471,
          272378136,
          87234682,
          1362569691,
          433522993,
          364978944,
          86280763,
          146307713,
          5439903773,
          16685061726,
          1030445054,
          207453026,
          560406440,
          766916447,
          1366622134,
          12868443230,
          3468712828,
          2172576877,
          1715434731,
          2390840400,
          7884354,
          1779539,
          2233338557,
          192859494,
          883616473,
          190733760,
          660693497,
          204190,
          193739864,
          784817642,
          114397344,
          1111091450,
          1996015590,
          4388670,
          351163716,
          2824227390,
          12847364757,
          28963983468,
          6334751046,
          241995000,
          1310013956,
          6325383613,
          810948098,
          2288952060,
          1181290961,
          91000000,
          1285444038,
          1021014669,
          2154632412,
          1494101218,
          2031700348,
          1724068912,
          1449975114,
          4635232051,
          3985911047,
          861460141,
          2924313,
          154923550,
          7568088328,
          6546940946,
          10749410140,
          15051189508,
          10646959077,
          2201968513,
          44960060358,
          1804952926,
          1719262017,
          1576327096,
          6797930,
          687953940,
          3538595502,
          30168672239,
          31790933386,
          8532955513,
          2044536203,
          753617873,
          2998451783,
          1452335517,
          1583506625,
          5835018884,
          4500066549,
          572899,
          2141898420,
          2264612152,
          1240864183,
          3701928399,
          860963698,
          831600,
          79907880,
          5335250710,
          276124360,
          5751160,
          564546921,
          459534645,
          534847280,
          3222040800,
          1928602390,
          7585900,
          823103838,
          749882713,
          2843974830,
          543355070,
          1103022760,
          518700360,
          358351050,
          1771511610,
          1794219200,
          2045861050,
          1312193740,
          6510000,
          3405487330,
          354070550,
          6660184848,
          77469885,
          3155603790,
          5830392628,
          7655100,
          3986938237,
          1637520310,
          179200,
          7951400,
          4980866924,
          521569632,
          600339910,
          954613874,
          4198949560,
          3052031230,
          15655048679,
          16235840492,
          59060570198,
          12323831740,
          377200,
          984588648,
          9959013031,
          170609690,
          2422906850,
          5724814421,
          703736880,
          474809850,
          104387352741,
          1472409296,
          773761290,
          603000,
          3795178507,
          1996154840,
          2558957920,
          446379480,
          957192396,
          19217610,
          1166584460,
          7940245150,
          791545086,
          2621429210,
          640646205,
          2345469392,
          4566553358,
          185575590,
          435945410,
          386516550,
          3637800,
          2556388701,
          853038305,
          573466380,
          387500,
          340282320,
          612618110,
          6129777515,
          10098718805,
          1181113150,
          2080170680,
          4976400,
          2102914014,
          76432016140,
          2899847757,
          1947610680,
          477247706,
          15641920,
          491623960,
          533545740,
          4282768036,
          3947719340,
          1240498945,
          111412650,
          649237810,
          2702176212,
          1072795550,
          2164955408,
          1611600,
          3215501580,
          663468026,
          25373649261,
          197769380,
          2976000,
          3606571010,
          46386146170,
          1988058010,
          2728520325,
          676278580,
          405000,
          299400,
          4332732152,
          1201446474,
          169256005,
          3355173756,
          3032254699,
          890890239,
          15332190580,
          12525995298,
          7282444965,
          261752010,
          807800,
          780428386,
          900308930,
          1752087295,
          1490103998,
          330485998,
          2038400,
          593725470,
          1262723210,
          6990594697,
          836303076,
          2453020307,
          30302100,
          49728000,
          1242060910,
          320791100,
          1368987630,
          9677110294,
          2360766513,
          2025600,
          41691703024,
          1696559140,
          2399194205,
          788027882,
          3771593499,
          136719677,
          418302310,
          1725449638,
          18565604781,
          323051102,
          218960,
          12148000,
          11604107882,
          985035899,
          4191672264,
          784598952,
          3262835262,
          950600,
          1726925738,
          3323334776,
          548017734,
          1531823000,
          578691485,
          428441630,
          1337341667,
          2137071098,
          3126076500,
          1918620,
          81714323328,
          719803920,
          72677913563,
          10113833875,
          64308212399,
          384575166,
          19958200,
          6119414040,
          1198161037,
          208460800,
          173494300,
          2594700,
          3827397394,
          451335408,
          1139850739,
          2674136500,
          200858230,
          268972280,
          905436892,
          1180824141,
          2423917240,
          1742750,
          6115760,
          1574886521,
          1292401965,
          380738982,
          22692889604,
          4945868450,
          16261900,
          1935332386,
          8331977280,
          496084116,
          50627109424,
          148500,
          750667511,
          641563430,
          6959988240,
          766869274,
          5226515520,
          986938060,
          5551024110,
          1699307410,
          94228649,
          5257228223,
          4833714986,
          2449698710,
          553035507,
          2067892996,
          215266170,
          3500483998,
          384576069,
          9427277570,
          3394154136,
          209923580,
          17739020903,
          4865000,
          4917321132,
          1819823574,
          940353980,
          5088154710,
          4365119002,
          615600,
          486621824,
          1408636580,
          366560838,
          1052152634,
          904573826,
          802618230,
          1045442310,
          318547410,
          510525990,
          2806364129,
          14740670,
          513361440,
          1422968235,
          2901904679,
          592031370,
          1425394016,
          1523662384,
          1501574400,
          4356493531,
          635501857,
          472193920,
          4363920,
          971540210,
          5473637576,
          24374731713,
          6803403590,
          5941127088,
          5107560,
          5500302487,
          4455037230,
          55857247180,
          4744176788,
          4306384121,
          10251000,
          30072530,
          1161411712,
          2753568687,
          1128752650,
          4745175704,
          1603159670,
          5702400,
          55640000,
          568750719,
          151455950,
          264233190,
          505756550,
          3008101114,
          2623840,
          4054680,
          3261344580,
          4652436649,
          487790910,
          1082464730,
          697064120,
          65192000,
          1274737531,
          382430976,
          1149288989,
          2217631062,
          479922811,
          32515100,
          1650922003,
          9030630980,
          12764820061,
          1580000,
          1489729400,
          3678812493,
          27150213,
          194784424,
          1498128590,
          1958991448,
          1450441120,
          532793374,
          387507042,
          2802924585,
          8161583,
          1307259262,
          980743014,
          854347042,
          587632680,
          2481331704,
          541111127,
          912473334,
          867829970,
          547411466,
          3732603180,
          4957009182,
          817262487,
          6419900,
          1166571693,
          1428437203,
          23139000,
          377983730,
          5708416011,
          4939376635,
          430950846,
          1086217790,
          1949500,
          11610364650,
          2073321613,
          661602192,
          11212293289,
          2825414505,
          2194500,
          694933850,
          1168043322,
          2184985924,
          2044871657,
          1726071540,
          36444600,
          3305657617,
          1022170246,
          3434273140,
          4152627563,
          1895906323,
          11773097,
          17568300,
          2064177814,
          1525816943,
          1125727840,
          39087300728,
          1435673382,
          83736000,
          48260,
          871784697,
          1968164847,
          651331060,
          1594584835,
          1831635637,
          17317650,
          15213120,
          4720906680,
          2463976918,
          565633800,
          3101012780,
          2203025096,
          15352380,
          3750301352,
          893106251,
          848192193,
          1023044501,
          22576316763,
          22544700,
          4850980790,
          165625590,
          2632813240,
          2147711988,
          4661979867,
          8830500,
          245802980,
          5471794180,
          766050516,
          1816110417,
          4059976296,
          1169987727,
          239046975,
          82508850,
          3919000593,
          2260081430,
          6768915982,
          2095985670,
          2219516236,
          1825992241,
          10952164593,
          7290593044,
          3131269930,
          2382283275,
          22663200,
          790000,
          4197310,
          4102944035,
          5485396595,
          4546784680,
          1955492617,
          171880000,
          57564100,
          931385178,
          64144100,
          1810478423,
          4192219586,
          1089677060,
          18190620,
          9510512,
          770896120,
          2025126802,
          2721438766,
          3428629008,
          4130899804,
          7022680,
          1913678934,
          1313489012,
          3125280055,
          1745843552,
          1552348812,
          672400,
          9786966500,
          2073677482,
          934582524,
          2104652861,
          2923465666,
          303971700,
          9916200,
          1628757710,
          513320476,
          1157632834,
          1620732379,
          2544525883,
          17339730,
          5031040,
          3543581934,
          1551128921,
          1325800570,
          5475100840,
          841593814,
          1331990729,
          1175974266,
          3645013205,
          1089122985,
          733641780,
          801800,
          42546998,
          2450062264,
          16921552523,
          3586770874,
          1540704070,
          4705303483,
          1248000,
          28245000,
          9963137420,
          795375909,
          34137188005,
          899010931,
          3959745267,
          64542600,
          9852160,
          8796513744,
          4697313388,
          2656715775,
          1007564768,
          3310038212,
          16310000,
          2361935861,
          51615260,
          1166460529,
          12194142240,
          11795882488,
          4195200,
          1432200,
          3041857017,
          2389954351,
          68389344068,
          5643224556,
          2465435666,
          90340200,
          19756982,
          10539226524,
          4931192146,
          2798981314,
          36476933064,
          3785203202,
          76050000,
          4490631,
          8374928566,
          6527913857,
          2204963166,
          1139102056,
          4508114526,
          5284911,
          5088815870,
          1431289847,
          1143485633,
          2473018271,
          3607965632,
          54229762,
          37938300,
          3716472197,
          3418689316,
          6189341765,
          33363790755,
          3592438220,
          437312000,
          7791300,
          1533933860,
          82422500116,
          8758877473,
          122648230,
          21779885,
          2579200,
          1696032000,
          412720,
          4591164824,
          1662757584,
          2038525248,
          9301500,
          42294600,
          151808000,
          1693598095,
          1136845706,
          3458772110,
          2928561112,
          149269900,
          39288800,
          4772445706,
          7033975218,
          17984012580,
          2813250664,
          8388573534,
          351548883,
          30816000,
          10834518182,
          2699015270,
          11109917220,
          2920120153,
          16712117601,
          433840,
          5589750208,
          32025404863,
          2869608609,
          3185104343,
          3816203918,
          3397700,
          2223159434,
          1257002934,
          6371189081,
          3296963515,
          5873890355,
          1554792893,
          4370499470,
          19678298577,
          6651097996,
          2796513713,
          70303000,
          1027787796,
          3855790942,
          3068773317,
          1937906424,
          1806823920,
          394700000,
          2230973013,
          4032669304,
          2254557699,
          2998275643,
          3945854343,
          43939200,
          3366000,
          5422920773,
          5663511112,
          4340733611,
          10957787389,
          4415054868,
          40548000,
          4895961465,
          3704267113,
          6192871420,
          30045895276,
          9072144505,
          29557300,
          1363239640,
          122883007571,
          28207515058,
          3288902382,
          14670097700,
          31665250,
          27188000,
          9409521885,
          2268293190,
          6017294533,
          16737986244,
          2198700
         ],
         "yaxis": "y"
        }
       ],
       "layout": {
        "legend": {
         "tracegroupgap": 0
        },
        "margin": {
         "t": 60
        },
        "template": {
         "data": {
          "bar": [
           {
            "error_x": {
             "color": "#2a3f5f"
            },
            "error_y": {
             "color": "#2a3f5f"
            },
            "marker": {
             "line": {
              "color": "#E5ECF6",
              "width": 0.5
             },
             "pattern": {
              "fillmode": "overlay",
              "size": 10,
              "solidity": 0.2
             }
            },
            "type": "bar"
           }
          ],
          "barpolar": [
           {
            "marker": {
             "line": {
              "color": "#E5ECF6",
              "width": 0.5
             },
             "pattern": {
              "fillmode": "overlay",
              "size": 10,
              "solidity": 0.2
             }
            },
            "type": "barpolar"
           }
          ],
          "carpet": [
           {
            "aaxis": {
             "endlinecolor": "#2a3f5f",
             "gridcolor": "white",
             "linecolor": "white",
             "minorgridcolor": "white",
             "startlinecolor": "#2a3f5f"
            },
            "baxis": {
             "endlinecolor": "#2a3f5f",
             "gridcolor": "white",
             "linecolor": "white",
             "minorgridcolor": "white",
             "startlinecolor": "#2a3f5f"
            },
            "type": "carpet"
           }
          ],
          "choropleth": [
           {
            "colorbar": {
             "outlinewidth": 0,
             "ticks": ""
            },
            "type": "choropleth"
           }
          ],
          "contour": [
           {
            "colorbar": {
             "outlinewidth": 0,
             "ticks": ""
            },
            "colorscale": [
             [
              0,
              "#0d0887"
             ],
             [
              0.1111111111111111,
              "#46039f"
             ],
             [
              0.2222222222222222,
              "#7201a8"
             ],
             [
              0.3333333333333333,
              "#9c179e"
             ],
             [
              0.4444444444444444,
              "#bd3786"
             ],
             [
              0.5555555555555556,
              "#d8576b"
             ],
             [
              0.6666666666666666,
              "#ed7953"
             ],
             [
              0.7777777777777778,
              "#fb9f3a"
             ],
             [
              0.8888888888888888,
              "#fdca26"
             ],
             [
              1,
              "#f0f921"
             ]
            ],
            "type": "contour"
           }
          ],
          "contourcarpet": [
           {
            "colorbar": {
             "outlinewidth": 0,
             "ticks": ""
            },
            "type": "contourcarpet"
           }
          ],
          "heatmap": [
           {
            "colorbar": {
             "outlinewidth": 0,
             "ticks": ""
            },
            "colorscale": [
             [
              0,
              "#0d0887"
             ],
             [
              0.1111111111111111,
              "#46039f"
             ],
             [
              0.2222222222222222,
              "#7201a8"
             ],
             [
              0.3333333333333333,
              "#9c179e"
             ],
             [
              0.4444444444444444,
              "#bd3786"
             ],
             [
              0.5555555555555556,
              "#d8576b"
             ],
             [
              0.6666666666666666,
              "#ed7953"
             ],
             [
              0.7777777777777778,
              "#fb9f3a"
             ],
             [
              0.8888888888888888,
              "#fdca26"
             ],
             [
              1,
              "#f0f921"
             ]
            ],
            "type": "heatmap"
           }
          ],
          "heatmapgl": [
           {
            "colorbar": {
             "outlinewidth": 0,
             "ticks": ""
            },
            "colorscale": [
             [
              0,
              "#0d0887"
             ],
             [
              0.1111111111111111,
              "#46039f"
             ],
             [
              0.2222222222222222,
              "#7201a8"
             ],
             [
              0.3333333333333333,
              "#9c179e"
             ],
             [
              0.4444444444444444,
              "#bd3786"
             ],
             [
              0.5555555555555556,
              "#d8576b"
             ],
             [
              0.6666666666666666,
              "#ed7953"
             ],
             [
              0.7777777777777778,
              "#fb9f3a"
             ],
             [
              0.8888888888888888,
              "#fdca26"
             ],
             [
              1,
              "#f0f921"
             ]
            ],
            "type": "heatmapgl"
           }
          ],
          "histogram": [
           {
            "marker": {
             "pattern": {
              "fillmode": "overlay",
              "size": 10,
              "solidity": 0.2
             }
            },
            "type": "histogram"
           }
          ],
          "histogram2d": [
           {
            "colorbar": {
             "outlinewidth": 0,
             "ticks": ""
            },
            "colorscale": [
             [
              0,
              "#0d0887"
             ],
             [
              0.1111111111111111,
              "#46039f"
             ],
             [
              0.2222222222222222,
              "#7201a8"
             ],
             [
              0.3333333333333333,
              "#9c179e"
             ],
             [
              0.4444444444444444,
              "#bd3786"
             ],
             [
              0.5555555555555556,
              "#d8576b"
             ],
             [
              0.6666666666666666,
              "#ed7953"
             ],
             [
              0.7777777777777778,
              "#fb9f3a"
             ],
             [
              0.8888888888888888,
              "#fdca26"
             ],
             [
              1,
              "#f0f921"
             ]
            ],
            "type": "histogram2d"
           }
          ],
          "histogram2dcontour": [
           {
            "colorbar": {
             "outlinewidth": 0,
             "ticks": ""
            },
            "colorscale": [
             [
              0,
              "#0d0887"
             ],
             [
              0.1111111111111111,
              "#46039f"
             ],
             [
              0.2222222222222222,
              "#7201a8"
             ],
             [
              0.3333333333333333,
              "#9c179e"
             ],
             [
              0.4444444444444444,
              "#bd3786"
             ],
             [
              0.5555555555555556,
              "#d8576b"
             ],
             [
              0.6666666666666666,
              "#ed7953"
             ],
             [
              0.7777777777777778,
              "#fb9f3a"
             ],
             [
              0.8888888888888888,
              "#fdca26"
             ],
             [
              1,
              "#f0f921"
             ]
            ],
            "type": "histogram2dcontour"
           }
          ],
          "mesh3d": [
           {
            "colorbar": {
             "outlinewidth": 0,
             "ticks": ""
            },
            "type": "mesh3d"
           }
          ],
          "parcoords": [
           {
            "line": {
             "colorbar": {
              "outlinewidth": 0,
              "ticks": ""
             }
            },
            "type": "parcoords"
           }
          ],
          "pie": [
           {
            "automargin": true,
            "type": "pie"
           }
          ],
          "scatter": [
           {
            "fillpattern": {
             "fillmode": "overlay",
             "size": 10,
             "solidity": 0.2
            },
            "type": "scatter"
           }
          ],
          "scatter3d": [
           {
            "line": {
             "colorbar": {
              "outlinewidth": 0,
              "ticks": ""
             }
            },
            "marker": {
             "colorbar": {
              "outlinewidth": 0,
              "ticks": ""
             }
            },
            "type": "scatter3d"
           }
          ],
          "scattercarpet": [
           {
            "marker": {
             "colorbar": {
              "outlinewidth": 0,
              "ticks": ""
             }
            },
            "type": "scattercarpet"
           }
          ],
          "scattergeo": [
           {
            "marker": {
             "colorbar": {
              "outlinewidth": 0,
              "ticks": ""
             }
            },
            "type": "scattergeo"
           }
          ],
          "scattergl": [
           {
            "marker": {
             "colorbar": {
              "outlinewidth": 0,
              "ticks": ""
             }
            },
            "type": "scattergl"
           }
          ],
          "scattermapbox": [
           {
            "marker": {
             "colorbar": {
              "outlinewidth": 0,
              "ticks": ""
             }
            },
            "type": "scattermapbox"
           }
          ],
          "scatterpolar": [
           {
            "marker": {
             "colorbar": {
              "outlinewidth": 0,
              "ticks": ""
             }
            },
            "type": "scatterpolar"
           }
          ],
          "scatterpolargl": [
           {
            "marker": {
             "colorbar": {
              "outlinewidth": 0,
              "ticks": ""
             }
            },
            "type": "scatterpolargl"
           }
          ],
          "scatterternary": [
           {
            "marker": {
             "colorbar": {
              "outlinewidth": 0,
              "ticks": ""
             }
            },
            "type": "scatterternary"
           }
          ],
          "surface": [
           {
            "colorbar": {
             "outlinewidth": 0,
             "ticks": ""
            },
            "colorscale": [
             [
              0,
              "#0d0887"
             ],
             [
              0.1111111111111111,
              "#46039f"
             ],
             [
              0.2222222222222222,
              "#7201a8"
             ],
             [
              0.3333333333333333,
              "#9c179e"
             ],
             [
              0.4444444444444444,
              "#bd3786"
             ],
             [
              0.5555555555555556,
              "#d8576b"
             ],
             [
              0.6666666666666666,
              "#ed7953"
             ],
             [
              0.7777777777777778,
              "#fb9f3a"
             ],
             [
              0.8888888888888888,
              "#fdca26"
             ],
             [
              1,
              "#f0f921"
             ]
            ],
            "type": "surface"
           }
          ],
          "table": [
           {
            "cells": {
             "fill": {
              "color": "#EBF0F8"
             },
             "line": {
              "color": "white"
             }
            },
            "header": {
             "fill": {
              "color": "#C8D4E3"
             },
             "line": {
              "color": "white"
             }
            },
            "type": "table"
           }
          ]
         },
         "layout": {
          "annotationdefaults": {
           "arrowcolor": "#2a3f5f",
           "arrowhead": 0,
           "arrowwidth": 1
          },
          "autotypenumbers": "strict",
          "coloraxis": {
           "colorbar": {
            "outlinewidth": 0,
            "ticks": ""
           }
          },
          "colorscale": {
           "diverging": [
            [
             0,
             "#8e0152"
            ],
            [
             0.1,
             "#c51b7d"
            ],
            [
             0.2,
             "#de77ae"
            ],
            [
             0.3,
             "#f1b6da"
            ],
            [
             0.4,
             "#fde0ef"
            ],
            [
             0.5,
             "#f7f7f7"
            ],
            [
             0.6,
             "#e6f5d0"
            ],
            [
             0.7,
             "#b8e186"
            ],
            [
             0.8,
             "#7fbc41"
            ],
            [
             0.9,
             "#4d9221"
            ],
            [
             1,
             "#276419"
            ]
           ],
           "sequential": [
            [
             0,
             "#0d0887"
            ],
            [
             0.1111111111111111,
             "#46039f"
            ],
            [
             0.2222222222222222,
             "#7201a8"
            ],
            [
             0.3333333333333333,
             "#9c179e"
            ],
            [
             0.4444444444444444,
             "#bd3786"
            ],
            [
             0.5555555555555556,
             "#d8576b"
            ],
            [
             0.6666666666666666,
             "#ed7953"
            ],
            [
             0.7777777777777778,
             "#fb9f3a"
            ],
            [
             0.8888888888888888,
             "#fdca26"
            ],
            [
             1,
             "#f0f921"
            ]
           ],
           "sequentialminus": [
            [
             0,
             "#0d0887"
            ],
            [
             0.1111111111111111,
             "#46039f"
            ],
            [
             0.2222222222222222,
             "#7201a8"
            ],
            [
             0.3333333333333333,
             "#9c179e"
            ],
            [
             0.4444444444444444,
             "#bd3786"
            ],
            [
             0.5555555555555556,
             "#d8576b"
            ],
            [
             0.6666666666666666,
             "#ed7953"
            ],
            [
             0.7777777777777778,
             "#fb9f3a"
            ],
            [
             0.8888888888888888,
             "#fdca26"
            ],
            [
             1,
             "#f0f921"
            ]
           ]
          },
          "colorway": [
           "#636efa",
           "#EF553B",
           "#00cc96",
           "#ab63fa",
           "#FFA15A",
           "#19d3f3",
           "#FF6692",
           "#B6E880",
           "#FF97FF",
           "#FECB52"
          ],
          "font": {
           "color": "#2a3f5f"
          },
          "geo": {
           "bgcolor": "white",
           "lakecolor": "white",
           "landcolor": "#E5ECF6",
           "showlakes": true,
           "showland": true,
           "subunitcolor": "white"
          },
          "hoverlabel": {
           "align": "left"
          },
          "hovermode": "closest",
          "mapbox": {
           "style": "light"
          },
          "paper_bgcolor": "white",
          "plot_bgcolor": "#E5ECF6",
          "polar": {
           "angularaxis": {
            "gridcolor": "white",
            "linecolor": "white",
            "ticks": ""
           },
           "bgcolor": "#E5ECF6",
           "radialaxis": {
            "gridcolor": "white",
            "linecolor": "white",
            "ticks": ""
           }
          },
          "scene": {
           "xaxis": {
            "backgroundcolor": "#E5ECF6",
            "gridcolor": "white",
            "gridwidth": 2,
            "linecolor": "white",
            "showbackground": true,
            "ticks": "",
            "zerolinecolor": "white"
           },
           "yaxis": {
            "backgroundcolor": "#E5ECF6",
            "gridcolor": "white",
            "gridwidth": 2,
            "linecolor": "white",
            "showbackground": true,
            "ticks": "",
            "zerolinecolor": "white"
           },
           "zaxis": {
            "backgroundcolor": "#E5ECF6",
            "gridcolor": "white",
            "gridwidth": 2,
            "linecolor": "white",
            "showbackground": true,
            "ticks": "",
            "zerolinecolor": "white"
           }
          },
          "shapedefaults": {
           "line": {
            "color": "#2a3f5f"
           }
          },
          "ternary": {
           "aaxis": {
            "gridcolor": "white",
            "linecolor": "white",
            "ticks": ""
           },
           "baxis": {
            "gridcolor": "white",
            "linecolor": "white",
            "ticks": ""
           },
           "bgcolor": "#E5ECF6",
           "caxis": {
            "gridcolor": "white",
            "linecolor": "white",
            "ticks": ""
           }
          },
          "title": {
           "x": 0.05
          },
          "xaxis": {
           "automargin": true,
           "gridcolor": "white",
           "linecolor": "white",
           "ticks": "",
           "title": {
            "standoff": 15
           },
           "zerolinecolor": "white",
           "zerolinewidth": 2
          },
          "yaxis": {
           "automargin": true,
           "gridcolor": "white",
           "linecolor": "white",
           "ticks": "",
           "title": {
            "standoff": 15
           },
           "zerolinecolor": "white",
           "zerolinewidth": 2
          }
         }
        },
        "xaxis": {
         "anchor": "y",
         "domain": [
          0,
          1
         ],
         "title": {
          "text": "계약일자"
         }
        },
        "yaxis": {
         "anchor": "x",
         "domain": [
          0,
          1
         ],
         "title": {
          "text": "금액"
         }
        }
       }
      }
     },
     "metadata": {},
     "output_type": "display_data"
    },
    {
     "name": "stdout",
     "output_type": "stream",
     "text": [
      "                      금액\n",
      "계약일자                    \n",
      "2021-07-01  371596015888\n",
      "2015-08-21  241142446788\n",
      "2021-07-09  201986368010\n",
      "2021-05-18  144972917508\n",
      "2019-02-15  137993548585\n"
     ]
    }
   ],
   "source": [
    "date_info = land_data.copy()\n",
    "grouped_date = date_info.groupby(['계약일자'])\n",
    "grouped4 = grouped_date['대장금액(원)'].agg(['sum'])\n",
    "grouped4 = grouped4.rename(columns={'sum':'금액'})\n",
    "fig5 = px.line(grouped4,x=grouped4.index,y=grouped4['금액'])\n",
    "fig5.show()\n",
    "sort_v = grouped4.sort_values(['금액'],ascending=False)\n",
    "print(sort_v[:5])"
   ]
  },
  {
   "cell_type": "code",
   "execution_count": 126,
   "metadata": {},
   "outputs": [
    {
     "name": "stdout",
     "output_type": "stream",
     "text": [
      "['2021-07-01', '2015-08-21', '2021-07-09', '2021-05-18', '2019-02-15', '2015-12-03', '2020-05-18', '2023-12-19', '2015-11-30', '2022-04-06']\n",
      "        연도구분     지역구분                       소재지명 재산구분 공부지목  대장면적(제곱미터)  \\\n",
      "17113   2015    서울특별시       서울특별시 종로구 도렴동  128-5   토지   도로           4   \n",
      "17114   2015    서울특별시       서울특별시 종로구 도렴동  128-6   토지   도로           3   \n",
      "17115   2015    서울특별시         서울특별시 종로구 도렴동  137   토지   도로         410   \n",
      "17116   2015    서울특별시        서울특별시 종로구 세종로  81-3   토지    대        7937   \n",
      "17117   2015    서울특별시       서울특별시 종로구 세종로  81-13   토지   도로         101   \n",
      "...      ...      ...                        ...  ...  ...         ...   \n",
      "159225  2023  강원특별자치도     강원특별자치도 태백시 문곡동 114-13   토지  잡종지          37   \n",
      "159229  2023  강원특별자치도    강원특별자치도 태백시 동점동 498-121   토지  잡종지         345   \n",
      "160346  2023  강원특별자치도  강원특별자치도 양양군 양양읍 송암리 29-24   토지    답         216   \n",
      "160347  2023  강원특별자치도  강원특별자치도 양양군 양양읍 송암리 29-25   토지    답         454   \n",
      "160351  2023  강원특별자치도  강원특별자치도 양양군 양양읍 송암리 435-9   토지    답          30   \n",
      "\n",
      "             대장금액(원)     처분구분명        계약일자        부서       팀  \n",
      "17113        8330160  처분(매각수의)  2015-08-21  서울서부지역본부  국유재산1팀  \n",
      "17114        6872382  처분(매각수의)  2015-08-21  서울서부지역본부  국유재산1팀  \n",
      "17115     4095900000  처분(매각수의)  2015-08-21  서울서부지역본부  국유재산1팀  \n",
      "17116   220651380000  처분(매각수의)  2015-08-21  서울서부지역본부  국유재산1팀  \n",
      "17117      621936000  처분(매각수의)  2015-08-21  서울서부지역본부  국유재산1팀  \n",
      "...              ...       ...         ...       ...     ...  \n",
      "159225       2808300  처분(매각수의)  2023-12-19    강원지역본부    국유1팀  \n",
      "159229      10798500  처분(매각수의)  2023-12-19    강원지역본부    국유1팀  \n",
      "160346      14450400  처분(매각수의)  2023-12-19    강원지역본부    국유2팀  \n",
      "160347      30372600  처분(매각수의)  2023-12-19    강원지역본부    국유2팀  \n",
      "160351        782400  처분(매각수의)  2023-12-19    강원지역본부    국유2팀  \n",
      "\n",
      "[947 rows x 11 columns]\n"
     ]
    },
    {
     "data": {
      "application/vnd.plotly.v1+json": {
       "config": {
        "plotlyServerURL": "https://plot.ly"
       },
       "data": [
        {
         "domain": {
          "x": [
           0,
           1
          ],
          "y": [
           0,
           1
          ]
         },
         "hovertemplate": "지역구분=%{label}<br>대장금액(원)=%{value}<extra></extra>",
         "labels": [
          "서울특별시",
          "서울특별시",
          "서울특별시",
          "서울특별시",
          "서울특별시",
          "서울특별시",
          "서울특별시",
          "서울특별시",
          "서울특별시",
          "서울특별시",
          "서울특별시",
          "서울특별시",
          "서울특별시",
          "서울특별시",
          "서울특별시",
          "서울특별시",
          "서울특별시",
          "서울특별시",
          "서울특별시",
          "서울특별시",
          "서울특별시",
          "서울특별시",
          "서울특별시",
          "서울특별시",
          "서울특별시",
          "서울특별시",
          "서울특별시",
          "서울특별시",
          "서울특별시",
          "서울특별시",
          "서울특별시",
          "서울특별시",
          "서울특별시",
          "서울특별시",
          "서울특별시",
          "서울특별시",
          "서울특별시",
          "서울특별시",
          "서울특별시",
          "서울특별시",
          "서울특별시",
          "서울특별시",
          "서울특별시",
          "서울특별시",
          "서울특별시",
          "서울특별시",
          "서울특별시",
          "서울특별시",
          "서울특별시",
          "서울특별시",
          "서울특별시",
          "서울특별시",
          "서울특별시",
          "서울특별시",
          "서울특별시",
          "서울특별시",
          "서울특별시",
          "서울특별시",
          "서울특별시",
          "서울특별시",
          "서울특별시",
          "서울특별시",
          "서울특별시",
          "서울특별시",
          "서울특별시",
          "서울특별시",
          "서울특별시",
          "서울특별시",
          "서울특별시",
          "서울특별시",
          "서울특별시",
          "서울특별시",
          "서울특별시",
          "서울특별시",
          "서울특별시",
          "서울특별시",
          "서울특별시",
          "서울특별시",
          "서울특별시",
          "서울특별시",
          "서울특별시",
          "서울특별시",
          "서울특별시",
          "서울특별시",
          "서울특별시",
          "서울특별시",
          "서울특별시",
          "서울특별시",
          "서울특별시",
          "서울특별시",
          "서울특별시",
          "서울특별시",
          "서울특별시",
          "서울특별시",
          "서울특별시",
          "서울특별시",
          "서울특별시",
          "서울특별시",
          "서울특별시",
          "서울특별시",
          "서울특별시",
          "서울특별시",
          "서울특별시",
          "서울특별시",
          "서울특별시",
          "서울특별시",
          "서울특별시",
          "서울특별시",
          "서울특별시",
          "서울특별시",
          "서울특별시",
          "서울특별시",
          "서울특별시",
          "서울특별시",
          "서울특별시",
          "서울특별시",
          "서울특별시",
          "서울특별시",
          "서울특별시",
          "서울특별시",
          "서울특별시",
          "서울특별시",
          "서울특별시",
          "서울특별시",
          "서울특별시",
          "서울특별시",
          "서울특별시",
          "서울특별시",
          "서울특별시",
          "서울특별시",
          "서울특별시",
          "서울특별시",
          "서울특별시",
          "서울특별시",
          "서울특별시",
          "서울특별시",
          "서울특별시",
          "서울특별시",
          "서울특별시",
          "서울특별시",
          "서울특별시",
          "서울특별시",
          "서울특별시",
          "서울특별시",
          "서울특별시",
          "서울특별시",
          "서울특별시",
          "서울특별시",
          "서울특별시",
          "서울특별시",
          "서울특별시",
          "서울특별시",
          "서울특별시",
          "서울특별시",
          "서울특별시",
          "서울특별시",
          "서울특별시",
          "서울특별시",
          "서울특별시",
          "서울특별시",
          "서울특별시",
          "서울특별시",
          "서울특별시",
          "서울특별시",
          "서울특별시",
          "서울특별시",
          "서울특별시",
          "서울특별시",
          "서울특별시",
          "서울특별시",
          "서울특별시",
          "서울특별시",
          "서울특별시",
          "서울특별시",
          "서울특별시",
          "서울특별시",
          "서울특별시",
          "서울특별시",
          "서울특별시",
          "서울특별시",
          "서울특별시",
          "서울특별시",
          "서울특별시",
          "서울특별시",
          "서울특별시",
          "서울특별시",
          "서울특별시",
          "서울특별시",
          "서울특별시",
          "서울특별시",
          "서울특별시",
          "서울특별시",
          "서울특별시",
          "서울특별시",
          "서울특별시",
          "서울특별시",
          "서울특별시",
          "서울특별시",
          "서울특별시",
          "서울특별시",
          "서울특별시",
          "서울특별시",
          "서울특별시",
          "서울특별시",
          "서울특별시",
          "서울특별시",
          "서울특별시",
          "서울특별시",
          "서울특별시",
          "서울특별시",
          "서울특별시",
          "서울특별시",
          "서울특별시",
          "서울특별시",
          "서울특별시",
          "서울특별시",
          "서울특별시",
          "서울특별시",
          "서울특별시",
          "서울특별시",
          "서울특별시",
          "서울특별시",
          "서울특별시",
          "서울특별시",
          "서울특별시",
          "서울특별시",
          "서울특별시",
          "서울특별시",
          "서울특별시",
          "서울특별시",
          "서울특별시",
          "서울특별시",
          "서울특별시",
          "부산광역시",
          "부산광역시",
          "부산광역시",
          "부산광역시",
          "부산광역시",
          "부산광역시",
          "부산광역시",
          "부산광역시",
          "부산광역시",
          "부산광역시",
          "대구광역시",
          "대구광역시",
          "대구광역시",
          "대구광역시",
          "대구광역시",
          "대구광역시",
          "광주광역시",
          "대전광역시",
          "대전광역시",
          "대전광역시",
          "대전광역시",
          "대전광역시",
          "대전광역시",
          "울산광역시",
          "경기도",
          "경기도",
          "경기도",
          "경기도",
          "경기도",
          "경기도",
          "경기도",
          "경기도",
          "경기도",
          "경기도",
          "경기도",
          "경기도",
          "경기도",
          "경기도",
          "경기도",
          "경기도",
          "경기도",
          "경기도",
          "경기도",
          "경기도",
          "경기도",
          "경기도",
          "경기도",
          "경기도",
          "경기도",
          "경기도",
          "경기도",
          "경기도",
          "경기도",
          "경기도",
          "경기도",
          "경기도",
          "경기도",
          "경기도",
          "경기도",
          "경기도",
          "경기도",
          "경기도",
          "경기도",
          "경기도",
          "경기도",
          "경기도",
          "경기도",
          "경기도",
          "경기도",
          "경기도",
          "경기도",
          "경기도",
          "경기도",
          "경기도",
          "경기도",
          "경기도",
          "경기도",
          "경기도",
          "경기도",
          "경기도",
          "경기도",
          "경기도",
          "경기도",
          "경기도",
          "경기도",
          "경기도",
          "경기도",
          "경기도",
          "경기도",
          "강원도",
          "강원도",
          "강원도",
          "강원도",
          "강원도",
          "강원도",
          "강원도",
          "강원도",
          "강원도",
          "강원도",
          "강원도",
          "강원도",
          "강원도",
          "강원도",
          "강원도",
          "강원도",
          "강원도",
          "강원도",
          "강원도",
          "강원도",
          "강원도",
          "강원도",
          "강원도",
          "강원도",
          "강원도",
          "강원도",
          "강원도",
          "강원도",
          "강원도",
          "강원도",
          "강원도",
          "강원도",
          "강원도",
          "강원도",
          "강원도",
          "강원도",
          "강원도",
          "강원도",
          "강원도",
          "강원도",
          "강원도",
          "강원도",
          "강원도",
          "강원도",
          "강원도",
          "강원도",
          "강원도",
          "강원도",
          "강원도",
          "강원도",
          "강원도",
          "강원도",
          "강원도",
          "강원도",
          "강원도",
          "강원도",
          "강원도",
          "강원도",
          "강원도",
          "강원도",
          "강원도",
          "강원도",
          "강원도",
          "강원도",
          "강원도",
          "강원도",
          "강원도",
          "강원도",
          "강원도",
          "강원도",
          "강원도",
          "강원도",
          "강원도",
          "충청북도",
          "충청북도",
          "충청북도",
          "충청북도",
          "충청북도",
          "충청남도",
          "충청남도",
          "충청남도",
          "충청남도",
          "충청남도",
          "충청남도",
          "충청남도",
          "충청남도",
          "충청남도",
          "충청남도",
          "충청남도",
          "충청남도",
          "충청남도",
          "충청남도",
          "충청남도",
          "충청남도",
          "충청남도",
          "충청남도",
          "전라북도",
          "전라북도",
          "전라북도",
          "전라북도",
          "전라북도",
          "전라북도",
          "전라북도",
          "전라북도",
          "전라북도",
          "전라북도",
          "전라북도",
          "전라북도",
          "전라북도",
          "전라북도",
          "전라남도",
          "전라남도",
          "전라남도",
          "전라남도",
          "전라남도",
          "전라남도",
          "전라남도",
          "전라남도",
          "전라남도",
          "경상북도",
          "경상북도",
          "경상북도",
          "경상북도",
          "경상북도",
          "경상북도",
          "경상북도",
          "경상북도",
          "경상북도",
          "경상북도",
          "경상북도",
          "경상북도",
          "경상북도",
          "경상북도",
          "경상북도",
          "경상북도",
          "경상북도",
          "경상북도",
          "경상북도",
          "경상북도",
          "경상북도",
          "경상남도",
          "경상남도",
          "경상남도",
          "경상남도",
          "경상남도",
          "경상남도",
          "경상남도",
          "경상남도",
          "경상남도",
          "경상남도",
          "경상남도",
          "경상남도",
          "경상남도",
          "경상남도",
          "경상남도",
          "경상남도",
          "경상남도",
          "경상남도",
          "경상남도",
          "경상남도",
          "경상남도",
          "경상남도",
          "경상남도",
          "경상남도",
          "경상남도",
          "경상남도",
          "경상남도",
          "경상남도",
          "경상남도",
          "경상남도",
          "경상남도",
          "제주특별자치도",
          "제주특별자치도",
          "제주특별자치도",
          "서울특별시",
          "인천광역시",
          "광주광역시",
          "광주광역시",
          "광주광역시",
          "경기도",
          "경기도",
          "경기도",
          "경기도",
          "경기도",
          "경기도",
          "경기도",
          "경기도",
          "경기도",
          "강원도",
          "강원도",
          "강원도",
          "강원도",
          "강원도",
          "강원도",
          "강원도",
          "강원도",
          "강원도",
          "강원도",
          "충청북도",
          "충청남도",
          "충청남도",
          "전라북도",
          "전라북도",
          "전라남도",
          "전라남도",
          "전라남도",
          "전라남도",
          "전라남도",
          "전라남도",
          "전라남도",
          "전라남도",
          "전라남도",
          "전라남도",
          "전라남도",
          "전라남도",
          "경상북도",
          "경상북도",
          "경상북도",
          "경상북도",
          "경상북도",
          "경상북도",
          "경상남도",
          "경상남도",
          "경상남도",
          "경상남도",
          "경상남도",
          "경상남도",
          "경상남도",
          "경상남도",
          "경상남도",
          "경상남도",
          "경상남도",
          "경상남도",
          "경상남도",
          "경상남도",
          "제주특별자치도",
          "서울특별시",
          "서울특별시",
          "서울특별시",
          "대구광역시",
          "대구광역시",
          "대구광역시",
          "대전광역시",
          "울산광역시",
          "울산광역시",
          "울산광역시",
          "경기도",
          "경기도",
          "경기도",
          "경기도",
          "경기도",
          "경기도",
          "경기도",
          "경기도",
          "경기도",
          "경기도",
          "경기도",
          "경기도",
          "경기도",
          "경기도",
          "경기도",
          "경기도",
          "경기도",
          "경기도",
          "경기도",
          "경기도",
          "경기도",
          "경기도",
          "경기도",
          "경기도",
          "경기도",
          "경기도",
          "경기도",
          "경기도",
          "경기도",
          "경기도",
          "경기도",
          "경기도",
          "경기도",
          "경기도",
          "경기도",
          "경기도",
          "경기도",
          "경기도",
          "경기도",
          "경기도",
          "경기도",
          "경기도",
          "경기도",
          "경기도",
          "경기도",
          "경기도",
          "경기도",
          "경기도",
          "경기도",
          "경기도",
          "경기도",
          "경기도",
          "경기도",
          "경기도",
          "경기도",
          "경기도",
          "경기도",
          "경기도",
          "경기도",
          "충청북도",
          "충청북도",
          "충청북도",
          "충청북도",
          "충청북도",
          "충청북도",
          "충청북도",
          "충청북도",
          "충청북도",
          "충청북도",
          "충청북도",
          "충청북도",
          "충청남도",
          "충청남도",
          "충청남도",
          "충청남도",
          "충청남도",
          "충청남도",
          "충청남도",
          "충청남도",
          "충청남도",
          "충청남도",
          "충청남도",
          "충청남도",
          "충청남도",
          "충청남도",
          "충청남도",
          "충청남도",
          "충청남도",
          "충청남도",
          "충청남도",
          "충청남도",
          "충청남도",
          "충청남도",
          "충청남도",
          "충청남도",
          "충청남도",
          "충청남도",
          "충청남도",
          "충청남도",
          "충청남도",
          "충청남도",
          "충청남도",
          "충청남도",
          "충청남도",
          "충청남도",
          "충청남도",
          "충청남도",
          "충청남도",
          "충청남도",
          "충청남도",
          "충청남도",
          "충청남도",
          "충청남도",
          "충청남도",
          "충청남도",
          "충청남도",
          "충청남도",
          "충청남도",
          "충청남도",
          "충청남도",
          "충청남도",
          "충청남도",
          "충청남도",
          "충청남도",
          "충청남도",
          "충청남도",
          "충청남도",
          "충청남도",
          "충청남도",
          "충청남도",
          "충청남도",
          "충청남도",
          "충청남도",
          "충청남도",
          "충청남도",
          "충청남도",
          "충청남도",
          "충청남도",
          "충청남도",
          "충청남도",
          "충청남도",
          "충청남도",
          "충청남도",
          "충청남도",
          "충청남도",
          "충청남도",
          "충청남도",
          "충청남도",
          "충청남도",
          "충청남도",
          "충청남도",
          "충청남도",
          "충청남도",
          "충청남도",
          "충청남도",
          "충청남도",
          "충청남도",
          "충청남도",
          "전라북도",
          "전라북도",
          "전라북도",
          "전라북도",
          "전라북도",
          "전라북도",
          "전라북도",
          "전라북도",
          "전라남도",
          "경상북도",
          "경상남도",
          "경상남도",
          "경상남도",
          "경상남도",
          "경상남도",
          "경상남도",
          "경상남도",
          "경상남도",
          "경상남도",
          "경상남도",
          "경상남도",
          "경상남도",
          "경상남도",
          "경상남도",
          "경상남도",
          "경상남도",
          "경상남도",
          "경상남도",
          "경상남도",
          "경상남도",
          "경상남도",
          "경상남도",
          "경상남도",
          "경상남도",
          "경상남도",
          "경상남도",
          "경상남도",
          "경상남도",
          "경상남도",
          "경상남도",
          "경상남도",
          "경상남도",
          "경상남도",
          "경상남도",
          "서울특별시",
          "서울특별시",
          "서울특별시",
          "서울특별시",
          "서울특별시",
          "서울특별시",
          "서울특별시",
          "서울특별시",
          "서울특별시",
          "서울특별시",
          "서울특별시",
          "부산광역시",
          "인천광역시",
          "인천광역시",
          "인천광역시",
          "인천광역시",
          "인천광역시",
          "인천광역시",
          "인천광역시",
          "대전광역시",
          "대전광역시",
          "대전광역시",
          "대전광역시",
          "대전광역시",
          "대전광역시",
          "대전광역시",
          "경기도",
          "경기도",
          "경기도",
          "경기도",
          "경기도",
          "경기도",
          "경기도",
          "경기도",
          "경기도",
          "경기도",
          "경기도",
          "경기도",
          "경기도",
          "경기도",
          "경기도",
          "경기도",
          "경기도",
          "경기도",
          "경기도",
          "경기도",
          "경기도",
          "경기도",
          "경기도",
          "경기도",
          "경기도",
          "경기도",
          "경기도",
          "경기도",
          "경기도",
          "경기도",
          "경기도",
          "경기도",
          "경기도",
          "경기도",
          "경기도",
          "경기도",
          "경기도",
          "경기도",
          "경기도",
          "경기도",
          "경기도",
          "경기도",
          "경기도",
          "경기도",
          "강원도",
          "강원도",
          "강원도",
          "강원도",
          "강원도",
          "강원도",
          "충청남도",
          "충청남도",
          "전라북도",
          "전라북도",
          "전라북도",
          "전라북도",
          "전라남도",
          "전라남도",
          "경상북도",
          "경상북도",
          "경상북도",
          "경상북도",
          "경상북도",
          "경상북도",
          "경상북도",
          "경상남도",
          "서울특별시",
          "서울특별시",
          "서울특별시",
          "인천광역시",
          "경기도",
          "경기도",
          "경기도",
          "경기도",
          "경기도",
          "경기도",
          "경기도",
          "강원도",
          "충청남도",
          "충청남도",
          "충청남도",
          "전라남도",
          "전라남도",
          "경상북도",
          "경상북도",
          "경상북도",
          "경상북도",
          "서울특별시",
          "부산광역시",
          "인천광역시",
          "인천광역시",
          "광주광역시",
          "울산광역시",
          "울산광역시",
          "울산광역시",
          "경기도",
          "경기도",
          "경기도",
          "경기도",
          "경기도",
          "경기도",
          "경기도",
          "경기도",
          "경기도",
          "충청북도",
          "충청북도",
          "충청북도",
          "충청북도",
          "충청북도",
          "충청북도",
          "충청남도",
          "충청남도",
          "충청남도",
          "충청남도",
          "전라남도",
          "전라남도",
          "전라남도",
          "전라남도",
          "전라남도",
          "전라남도",
          "전라남도",
          "전라남도",
          "경상북도",
          "경상북도",
          "경상남도",
          "경상남도",
          "경상남도",
          "경상남도",
          "경상남도",
          "경상남도",
          "경상남도",
          "경상남도",
          "경상남도",
          "경상남도",
          "경상남도",
          "강원특별자치도",
          "강원특별자치도",
          "강원특별자치도",
          "강원특별자치도",
          "강원특별자치도",
          "강원특별자치도",
          "강원특별자치도",
          "강원특별자치도",
          "강원특별자치도",
          "강원특별자치도",
          "강원특별자치도",
          "강원특별자치도",
          "강원특별자치도",
          "강원특별자치도",
          "강원특별자치도",
          "강원특별자치도"
         ],
         "legendgroup": "",
         "name": "",
         "showlegend": true,
         "type": "pie",
         "values": [
          8330160,
          6872382,
          4095900000,
          220651380000,
          621936000,
          2239872000,
          1626484000,
          7306200,
          330617700,
          5586750,
          254280000,
          86506360,
          143149800,
          762750000,
          25155680,
          904791300,
          186846000,
          1640364000,
          837425000,
          1152789000,
          2135076000,
          133440000,
          2072229000,
          1188720000,
          843180000,
          1230060000,
          87360000,
          795892000,
          1040428900,
          3181075000,
          13602677,
          71814600,
          584281200,
          40768000,
          227772000,
          398547000,
          17038608700,
          341041600,
          387852800,
          130608000,
          719250000,
          957333600,
          1171600000,
          509976000,
          15454523400,
          12649000,
          764778000,
          234493000,
          12649000,
          36729000,
          42867000,
          284116000,
          792000,
          12510000,
          5310000,
          719037000,
          28915500,
          2616000,
          6960000,
          11904000,
          1953864000,
          7584000,
          342160000,
          2004166800,
          13410000,
          40770000,
          43785000,
          332830200,
          614088000,
          841910400,
          433200000,
          18480000,
          4608000,
          864000,
          3456000,
          397536000,
          87264000,
          355520000,
          64736000,
          30107000,
          566629000,
          141123500,
          21136500,
          93200000,
          272464400,
          219267100,
          790696400,
          246552800,
          4778400,
          21543000,
          10992800,
          319183800,
          428895200,
          288054000,
          52388800,
          686070,
          19085500,
          2425500,
          14414400,
          48562500,
          1700000,
          5037500,
          4304300,
          79285800,
          1468627640,
          19837500,
          6027750,
          17701580,
          4016250,
          16822450,
          495193200,
          11144460,
          142106300,
          2708195,
          23008600,
          37961000,
          10529357270,
          25529400,
          420146000,
          990350000,
          10008000,
          36696000,
          35867000,
          226875000,
          384000,
          4160000,
          569088000,
          2012000,
          337272000,
          267720000,
          1262923200,
          21598500,
          1937600,
          158043000,
          73412300,
          390000,
          472347700,
          2880400,
          5381800,
          12006200,
          10731000,
          17493000,
          13671000,
          163565280,
          1791612000,
          810394800,
          84724875,
          1898800,
          1300010400,
          35936310,
          306851000,
          45400992500,
          2119742500,
          519963400,
          285720900,
          612948600,
          195868000,
          571380000,
          56248000,
          50196000,
          11748000,
          389820000,
          216092000,
          324000,
          281100,
          612134000,
          2773003200,
          28389494,
          104027200,
          177160000,
          10020000,
          71832000,
          224475000,
          833976000,
          1875918600,
          832603200,
          3459600000,
          941780000,
          2844560000,
          189510000,
          552160000,
          509234000,
          759935400,
          2210000,
          449016000,
          2602184300,
          819000,
          859795200,
          218504400,
          15222000,
          14543500,
          4484000,
          18260500,
          50120500,
          239820000,
          8555000,
          11760000,
          69720000,
          17818000,
          5929500,
          23836000,
          14455000,
          926640000,
          870136800,
          24012000,
          2406591000,
          22765110,
          3833346000,
          268353200,
          701804000,
          567300000,
          30995316000,
          649202000,
          56034000,
          2437928000,
          3656190000,
          21169105,
          17996000,
          2255739500,
          247401000,
          418446000,
          3408804000,
          66924000,
          582153000,
          73788000,
          1488886600,
          1970100000,
          1411445000,
          998132700,
          2476890000,
          2810500000,
          414800000,
          601550000,
          8220000,
          1624400,
          4876000,
          102400,
          3388000,
          29273000,
          705000,
          8451120,
          327160000,
          8675040,
          16074000,
          17442000,
          364000,
          101924000,
          232000000,
          34048000,
          25280000,
          4428000,
          10405800,
          7380000,
          2214000,
          19800000,
          29104000,
          2806700,
          7449000,
          85320000,
          16051200,
          8318478880,
          682814590,
          74895690,
          12727960,
          7390400,
          22348200,
          35462000,
          3261149200,
          516205300,
          14469000,
          13542000,
          15847200,
          53328000,
          24594400,
          13385644,
          12464151,
          3887027,
          1170000,
          3045700,
          2207800,
          4601800,
          1660848,
          11844000,
          225600,
          18941,
          32643000,
          11856000,
          912000,
          173100,
          519300,
          9348000,
          15276000,
          1938000,
          912000,
          1140000,
          1557900,
          3584500,
          536428,
          2744988,
          1764635,
          483529,
          1924017,
          13230000,
          12480000,
          31171000,
          781050,
          549100,
          1227400,
          707000,
          12844400,
          10633800,
          13572000,
          22152000,
          37804000,
          4836000,
          12220000,
          6708000,
          2756000,
          8944000,
          29588000,
          16172000,
          11700000,
          9945980,
          173280000,
          8482500,
          864600,
          6679200,
          212181,
          11667120,
          12694740,
          4984000,
          44958200,
          6615000,
          36252600,
          2070000,
          509025,
          4368000,
          13494500,
          185130,
          1669910,
          10074000,
          353100,
          338800,
          731500,
          3864000,
          1168000,
          1208000,
          6268360,
          162260,
          427000,
          17256300,
          7148900,
          4617200,
          16517200,
          117810,
          7116200,
          1663200,
          7620720,
          1070400,
          276520,
          7135760,
          2194900,
          169540,
          3321860,
          753940,
          469455,
          580320,
          1334385,
          2841507,
          1252143,
          1596315,
          77319,
          464695,
          232738,
          704577,
          821790,
          405000,
          9632000,
          14071200,
          984000,
          10599500,
          15468950,
          23055000,
          5980000,
          8275240,
          4601000,
          85800,
          361665,
          310860,
          675100,
          39592700,
          20506200,
          2683200,
          841408,
          5902400,
          92040,
          37734000,
          1813000,
          4140000,
          9078480,
          13062000,
          11744000,
          2002020,
          4569600,
          3162000,
          17828910,
          34400000,
          3528720,
          23606400,
          20409600,
          1293750,
          347380,
          1197840,
          2928000,
          873116400,
          100,
          5811000,
          11492000,
          26023000,
          1239000,
          3009000,
          4353300,
          906240,
          1790460,
          1471320,
          1073600,
          8233928,
          1480680,
          7952240,
          2145990,
          5828328,
          470600,
          795940,
          3003000,
          994080,
          891780,
          57849770,
          7338240,
          103960,
          302680,
          203040,
          9477867,
          13049400,
          12987830,
          20225630,
          3524340,
          603710,
          4277040,
          1083434,
          10016700,
          39353600,
          88039600,
          15360000,
          11353800,
          35598000,
          5160000,
          287280,
          2584652,
          81681600,
          1588400,
          1102400,
          4804800,
          1692000,
          451200,
          37234,
          2616680,
          3775200,
          5906335,
          25740000,
          4078184,
          297350,
          1630200,
          2059200,
          9018000,
          31006800,
          17622000,
          2681400,
          35854000,
          20020000,
          7911800,
          26724600,
          2366660,
          6302940,
          583560,
          183918660,
          133440720,
          312500,
          448400,
          115830,
          211614,
          40522,
          3164700,
          9730200,
          59371637,
          7763000,
          21215952,
          121520000,
          221200,
          69224550,
          59793442,
          3168000,
          115588200,
          65245600,
          5882800,
          2956800,
          2689650,
          15038800,
          6877500,
          3594500,
          891000,
          12843950,
          720510,
          769860,
          1244100,
          106920,
          10355940,
          3923150,
          695300,
          4550000,
          12029200,
          10800000,
          137362000000,
          1111498,
          8702460,
          639830,
          504900,
          214000,
          54558,
          924700,
          8114200,
          101538,
          164892,
          2282000,
          21252,
          24288,
          264000,
          310200,
          802700,
          18571870,
          4323600,
          11634520,
          846877,
          11767600,
          71100,
          2512800,
          121000,
          418800,
          217800,
          266200,
          179920,
          1299634,
          7770,
          888000,
          99790,
          881250,
          7600,
          659166,
          21805300,
          13325000,
          88040000,
          47040000,
          39840000,
          240000,
          122661000,
          1938240880,
          18822500,
          257950,
          9312000,
          536630500,
          556871000,
          5584500,
          6095800,
          54176970170,
          33728000,
          18904000,
          18496000,
          11096000,
          6716000,
          49252200,
          41616200,
          16303000,
          11159092800,
          1126033370,
          117714787,
          9229355000,
          414422800,
          96000000,
          4346659200,
          63639880,
          1769059500,
          65251200,
          12924800,
          18060600,
          22527200,
          1003819800,
          106035200,
          175312500,
          11785519200,
          18123200,
          18277350,
          10966410,
          1186914000,
          35220000,
          369810000,
          641038000,
          373086000,
          140688000,
          3534960,
          964080,
          1875840000,
          25402000,
          1844400,
          3611000,
          94575000,
          1212500,
          38349000,
          14005320,
          1778450,
          1778450,
          61347000,
          279440000,
          5845400,
          6851100,
          1815665,
          20605000,
          3609600,
          5570600,
          201391500,
          2655000,
          17580700,
          41370560,
          39764440,
          13129000,
          34352000,
          897600,
          6415200,
          3663000,
          1474240,
          2029120,
          3860205300,
          4125420600,
          649836640,
          1013716267,
          36765643,
          23463900,
          1489060427,
          163548136,
          164178158,
          1253531294,
          332887791,
          940900,
          620800,
          308092,
          2414799,
          6410002,
          7450918,
          59915,
          132748,
          1242204,
          2272439,
          171570,
          448132,
          4978864,
          45355401,
          1977619,
          5063382,
          10669805,
          654365,
          17118,
          5284800,
          82094,
          3532536,
          25349540,
          30499461,
          7349634,
          915937,
          1705263,
          8537204,
          1068192,
          485571,
          2944725,
          576602,
          635556,
          1507341,
          485786,
          526900,
          5912548,
          649064,
          81853200,
          217035000,
          226336500,
          113968400,
          74692800,
          3930000,
          545792000,
          321040800,
          190780800,
          13238600,
          49416000,
          1398391200,
          10650000,
          14484000,
          2390000,
          11244000,
          45600000,
          41593200,
          5468120,
          862432500,
          9802870,
          8500000,
          30743720,
          800344800,
          96580,
          24289870,
          193552200,
          257300510,
          37762780,
          8623440,
          10216800,
          4539260,
          37878000,
          4986300,
          5154240,
          11398800,
          9468000,
          335400,
          417100,
          12463000,
          5904000,
          175760,
          2878400,
          43948800,
          10187480,
          1964286,
          1892300,
          1787919,
          477000,
          6874200,
          22144500,
          1179900,
          3078000,
          1727100,
          1487700,
          1795500,
          1915200,
          1436400,
          1094400,
          14603160,
          1346700,
          1507500,
          4124390,
          4543100,
          2081500,
          7022800,
          3475200,
          14027500,
          1733794,
          1676800,
          448000,
          33218060,
          1556600,
          1502300,
          3300000,
          800000,
          19618720,
          3232630,
          22349850,
          2052000,
          2781000,
          946301,
          138620012000,
          5074330794,
          198097920,
          125098397,
          88888010,
          37995747,
          196047395000,
          5367445585,
          551767125,
          194119200,
          367419198510,
          71359200,
          1113750,
          525690,
          882090,
          19277000,
          24825600,
          91767000,
          18824000,
          3293900,
          1685600,
          13939200,
          7311600,
          4935330,
          31125800,
          865840,
          37977600,
          506073600,
          1191452000,
          3071400,
          6375600,
          1436083200,
          4250400,
          617789200,
          7704840,
          4642660,
          30819360,
          889020,
          3259740,
          65194800,
          11853600,
          5630460,
          9878000,
          932230,
          142974300,
          2093280,
          1284140,
          44846120,
          15508460,
          6313500,
          976000,
          11254500,
          610000,
          274500,
          22818180,
          623000,
          3463880,
          11986520,
          2370720,
          7902400,
          15310900,
          15508460,
          691460,
          6519480,
          16397480,
          5751000,
          9009000,
          4281200,
          10886480,
          4663440,
          2439590,
          1565600,
          1176000,
          33000,
          12084040,
          237600,
          342300,
          1760400,
          35788320,
          8567650,
          4971120,
          1512960,
          1970100,
          12110400,
          5547200,
          7280000,
          26026600,
          17291400,
          24460800,
          4450088,
          2022240,
          59388000,
          53867078842,
          48159034000,
          679663189,
          1491615000,
          81378000,
          4810000,
          24126060,
          3273400,
          27480100,
          343840,
          1055880,
          1209020,
          1693600,
          12920000,
          12127200,
          6850800,
          3356310,
          273700,
          306800,
          5156900,
          3600100,
          113771790800,
          694800,
          59871000,
          421000000,
          43976500,
          2263800,
          10005080,
          256700,
          496951000,
          20790000,
          142560000,
          8172100,
          249410000,
          102464700,
          21073300,
          17081700,
          54210000,
          685000,
          3498300,
          309777,
          1766600,
          1328250,
          2097600,
          1488000,
          2699200,
          2441600,
          1064000,
          75240000,
          6545000,
          24928000,
          3260910,
          6132105,
          2166600,
          444500,
          5909760,
          19180800,
          9990000,
          4979207900,
          26759700,
          275726400,
          558291942,
          31701600,
          942890947,
          295042650,
          53631000,
          20230080,
          133280,
          2674100,
          12204450,
          20350000,
          166500,
          88800,
          301920,
          532800,
          473600,
          124320,
          1521440,
          328560,
          7665900,
          2808300,
          10798500,
          14450400,
          30372600,
          782400
         ]
        }
       ],
       "layout": {
        "legend": {
         "tracegroupgap": 0
        },
        "margin": {
         "t": 60
        },
        "template": {
         "data": {
          "bar": [
           {
            "error_x": {
             "color": "#2a3f5f"
            },
            "error_y": {
             "color": "#2a3f5f"
            },
            "marker": {
             "line": {
              "color": "#E5ECF6",
              "width": 0.5
             },
             "pattern": {
              "fillmode": "overlay",
              "size": 10,
              "solidity": 0.2
             }
            },
            "type": "bar"
           }
          ],
          "barpolar": [
           {
            "marker": {
             "line": {
              "color": "#E5ECF6",
              "width": 0.5
             },
             "pattern": {
              "fillmode": "overlay",
              "size": 10,
              "solidity": 0.2
             }
            },
            "type": "barpolar"
           }
          ],
          "carpet": [
           {
            "aaxis": {
             "endlinecolor": "#2a3f5f",
             "gridcolor": "white",
             "linecolor": "white",
             "minorgridcolor": "white",
             "startlinecolor": "#2a3f5f"
            },
            "baxis": {
             "endlinecolor": "#2a3f5f",
             "gridcolor": "white",
             "linecolor": "white",
             "minorgridcolor": "white",
             "startlinecolor": "#2a3f5f"
            },
            "type": "carpet"
           }
          ],
          "choropleth": [
           {
            "colorbar": {
             "outlinewidth": 0,
             "ticks": ""
            },
            "type": "choropleth"
           }
          ],
          "contour": [
           {
            "colorbar": {
             "outlinewidth": 0,
             "ticks": ""
            },
            "colorscale": [
             [
              0,
              "#0d0887"
             ],
             [
              0.1111111111111111,
              "#46039f"
             ],
             [
              0.2222222222222222,
              "#7201a8"
             ],
             [
              0.3333333333333333,
              "#9c179e"
             ],
             [
              0.4444444444444444,
              "#bd3786"
             ],
             [
              0.5555555555555556,
              "#d8576b"
             ],
             [
              0.6666666666666666,
              "#ed7953"
             ],
             [
              0.7777777777777778,
              "#fb9f3a"
             ],
             [
              0.8888888888888888,
              "#fdca26"
             ],
             [
              1,
              "#f0f921"
             ]
            ],
            "type": "contour"
           }
          ],
          "contourcarpet": [
           {
            "colorbar": {
             "outlinewidth": 0,
             "ticks": ""
            },
            "type": "contourcarpet"
           }
          ],
          "heatmap": [
           {
            "colorbar": {
             "outlinewidth": 0,
             "ticks": ""
            },
            "colorscale": [
             [
              0,
              "#0d0887"
             ],
             [
              0.1111111111111111,
              "#46039f"
             ],
             [
              0.2222222222222222,
              "#7201a8"
             ],
             [
              0.3333333333333333,
              "#9c179e"
             ],
             [
              0.4444444444444444,
              "#bd3786"
             ],
             [
              0.5555555555555556,
              "#d8576b"
             ],
             [
              0.6666666666666666,
              "#ed7953"
             ],
             [
              0.7777777777777778,
              "#fb9f3a"
             ],
             [
              0.8888888888888888,
              "#fdca26"
             ],
             [
              1,
              "#f0f921"
             ]
            ],
            "type": "heatmap"
           }
          ],
          "heatmapgl": [
           {
            "colorbar": {
             "outlinewidth": 0,
             "ticks": ""
            },
            "colorscale": [
             [
              0,
              "#0d0887"
             ],
             [
              0.1111111111111111,
              "#46039f"
             ],
             [
              0.2222222222222222,
              "#7201a8"
             ],
             [
              0.3333333333333333,
              "#9c179e"
             ],
             [
              0.4444444444444444,
              "#bd3786"
             ],
             [
              0.5555555555555556,
              "#d8576b"
             ],
             [
              0.6666666666666666,
              "#ed7953"
             ],
             [
              0.7777777777777778,
              "#fb9f3a"
             ],
             [
              0.8888888888888888,
              "#fdca26"
             ],
             [
              1,
              "#f0f921"
             ]
            ],
            "type": "heatmapgl"
           }
          ],
          "histogram": [
           {
            "marker": {
             "pattern": {
              "fillmode": "overlay",
              "size": 10,
              "solidity": 0.2
             }
            },
            "type": "histogram"
           }
          ],
          "histogram2d": [
           {
            "colorbar": {
             "outlinewidth": 0,
             "ticks": ""
            },
            "colorscale": [
             [
              0,
              "#0d0887"
             ],
             [
              0.1111111111111111,
              "#46039f"
             ],
             [
              0.2222222222222222,
              "#7201a8"
             ],
             [
              0.3333333333333333,
              "#9c179e"
             ],
             [
              0.4444444444444444,
              "#bd3786"
             ],
             [
              0.5555555555555556,
              "#d8576b"
             ],
             [
              0.6666666666666666,
              "#ed7953"
             ],
             [
              0.7777777777777778,
              "#fb9f3a"
             ],
             [
              0.8888888888888888,
              "#fdca26"
             ],
             [
              1,
              "#f0f921"
             ]
            ],
            "type": "histogram2d"
           }
          ],
          "histogram2dcontour": [
           {
            "colorbar": {
             "outlinewidth": 0,
             "ticks": ""
            },
            "colorscale": [
             [
              0,
              "#0d0887"
             ],
             [
              0.1111111111111111,
              "#46039f"
             ],
             [
              0.2222222222222222,
              "#7201a8"
             ],
             [
              0.3333333333333333,
              "#9c179e"
             ],
             [
              0.4444444444444444,
              "#bd3786"
             ],
             [
              0.5555555555555556,
              "#d8576b"
             ],
             [
              0.6666666666666666,
              "#ed7953"
             ],
             [
              0.7777777777777778,
              "#fb9f3a"
             ],
             [
              0.8888888888888888,
              "#fdca26"
             ],
             [
              1,
              "#f0f921"
             ]
            ],
            "type": "histogram2dcontour"
           }
          ],
          "mesh3d": [
           {
            "colorbar": {
             "outlinewidth": 0,
             "ticks": ""
            },
            "type": "mesh3d"
           }
          ],
          "parcoords": [
           {
            "line": {
             "colorbar": {
              "outlinewidth": 0,
              "ticks": ""
             }
            },
            "type": "parcoords"
           }
          ],
          "pie": [
           {
            "automargin": true,
            "type": "pie"
           }
          ],
          "scatter": [
           {
            "fillpattern": {
             "fillmode": "overlay",
             "size": 10,
             "solidity": 0.2
            },
            "type": "scatter"
           }
          ],
          "scatter3d": [
           {
            "line": {
             "colorbar": {
              "outlinewidth": 0,
              "ticks": ""
             }
            },
            "marker": {
             "colorbar": {
              "outlinewidth": 0,
              "ticks": ""
             }
            },
            "type": "scatter3d"
           }
          ],
          "scattercarpet": [
           {
            "marker": {
             "colorbar": {
              "outlinewidth": 0,
              "ticks": ""
             }
            },
            "type": "scattercarpet"
           }
          ],
          "scattergeo": [
           {
            "marker": {
             "colorbar": {
              "outlinewidth": 0,
              "ticks": ""
             }
            },
            "type": "scattergeo"
           }
          ],
          "scattergl": [
           {
            "marker": {
             "colorbar": {
              "outlinewidth": 0,
              "ticks": ""
             }
            },
            "type": "scattergl"
           }
          ],
          "scattermapbox": [
           {
            "marker": {
             "colorbar": {
              "outlinewidth": 0,
              "ticks": ""
             }
            },
            "type": "scattermapbox"
           }
          ],
          "scatterpolar": [
           {
            "marker": {
             "colorbar": {
              "outlinewidth": 0,
              "ticks": ""
             }
            },
            "type": "scatterpolar"
           }
          ],
          "scatterpolargl": [
           {
            "marker": {
             "colorbar": {
              "outlinewidth": 0,
              "ticks": ""
             }
            },
            "type": "scatterpolargl"
           }
          ],
          "scatterternary": [
           {
            "marker": {
             "colorbar": {
              "outlinewidth": 0,
              "ticks": ""
             }
            },
            "type": "scatterternary"
           }
          ],
          "surface": [
           {
            "colorbar": {
             "outlinewidth": 0,
             "ticks": ""
            },
            "colorscale": [
             [
              0,
              "#0d0887"
             ],
             [
              0.1111111111111111,
              "#46039f"
             ],
             [
              0.2222222222222222,
              "#7201a8"
             ],
             [
              0.3333333333333333,
              "#9c179e"
             ],
             [
              0.4444444444444444,
              "#bd3786"
             ],
             [
              0.5555555555555556,
              "#d8576b"
             ],
             [
              0.6666666666666666,
              "#ed7953"
             ],
             [
              0.7777777777777778,
              "#fb9f3a"
             ],
             [
              0.8888888888888888,
              "#fdca26"
             ],
             [
              1,
              "#f0f921"
             ]
            ],
            "type": "surface"
           }
          ],
          "table": [
           {
            "cells": {
             "fill": {
              "color": "#EBF0F8"
             },
             "line": {
              "color": "white"
             }
            },
            "header": {
             "fill": {
              "color": "#C8D4E3"
             },
             "line": {
              "color": "white"
             }
            },
            "type": "table"
           }
          ]
         },
         "layout": {
          "annotationdefaults": {
           "arrowcolor": "#2a3f5f",
           "arrowhead": 0,
           "arrowwidth": 1
          },
          "autotypenumbers": "strict",
          "coloraxis": {
           "colorbar": {
            "outlinewidth": 0,
            "ticks": ""
           }
          },
          "colorscale": {
           "diverging": [
            [
             0,
             "#8e0152"
            ],
            [
             0.1,
             "#c51b7d"
            ],
            [
             0.2,
             "#de77ae"
            ],
            [
             0.3,
             "#f1b6da"
            ],
            [
             0.4,
             "#fde0ef"
            ],
            [
             0.5,
             "#f7f7f7"
            ],
            [
             0.6,
             "#e6f5d0"
            ],
            [
             0.7,
             "#b8e186"
            ],
            [
             0.8,
             "#7fbc41"
            ],
            [
             0.9,
             "#4d9221"
            ],
            [
             1,
             "#276419"
            ]
           ],
           "sequential": [
            [
             0,
             "#0d0887"
            ],
            [
             0.1111111111111111,
             "#46039f"
            ],
            [
             0.2222222222222222,
             "#7201a8"
            ],
            [
             0.3333333333333333,
             "#9c179e"
            ],
            [
             0.4444444444444444,
             "#bd3786"
            ],
            [
             0.5555555555555556,
             "#d8576b"
            ],
            [
             0.6666666666666666,
             "#ed7953"
            ],
            [
             0.7777777777777778,
             "#fb9f3a"
            ],
            [
             0.8888888888888888,
             "#fdca26"
            ],
            [
             1,
             "#f0f921"
            ]
           ],
           "sequentialminus": [
            [
             0,
             "#0d0887"
            ],
            [
             0.1111111111111111,
             "#46039f"
            ],
            [
             0.2222222222222222,
             "#7201a8"
            ],
            [
             0.3333333333333333,
             "#9c179e"
            ],
            [
             0.4444444444444444,
             "#bd3786"
            ],
            [
             0.5555555555555556,
             "#d8576b"
            ],
            [
             0.6666666666666666,
             "#ed7953"
            ],
            [
             0.7777777777777778,
             "#fb9f3a"
            ],
            [
             0.8888888888888888,
             "#fdca26"
            ],
            [
             1,
             "#f0f921"
            ]
           ]
          },
          "colorway": [
           "#636efa",
           "#EF553B",
           "#00cc96",
           "#ab63fa",
           "#FFA15A",
           "#19d3f3",
           "#FF6692",
           "#B6E880",
           "#FF97FF",
           "#FECB52"
          ],
          "font": {
           "color": "#2a3f5f"
          },
          "geo": {
           "bgcolor": "white",
           "lakecolor": "white",
           "landcolor": "#E5ECF6",
           "showlakes": true,
           "showland": true,
           "subunitcolor": "white"
          },
          "hoverlabel": {
           "align": "left"
          },
          "hovermode": "closest",
          "mapbox": {
           "style": "light"
          },
          "paper_bgcolor": "white",
          "plot_bgcolor": "#E5ECF6",
          "polar": {
           "angularaxis": {
            "gridcolor": "white",
            "linecolor": "white",
            "ticks": ""
           },
           "bgcolor": "#E5ECF6",
           "radialaxis": {
            "gridcolor": "white",
            "linecolor": "white",
            "ticks": ""
           }
          },
          "scene": {
           "xaxis": {
            "backgroundcolor": "#E5ECF6",
            "gridcolor": "white",
            "gridwidth": 2,
            "linecolor": "white",
            "showbackground": true,
            "ticks": "",
            "zerolinecolor": "white"
           },
           "yaxis": {
            "backgroundcolor": "#E5ECF6",
            "gridcolor": "white",
            "gridwidth": 2,
            "linecolor": "white",
            "showbackground": true,
            "ticks": "",
            "zerolinecolor": "white"
           },
           "zaxis": {
            "backgroundcolor": "#E5ECF6",
            "gridcolor": "white",
            "gridwidth": 2,
            "linecolor": "white",
            "showbackground": true,
            "ticks": "",
            "zerolinecolor": "white"
           }
          },
          "shapedefaults": {
           "line": {
            "color": "#2a3f5f"
           }
          },
          "ternary": {
           "aaxis": {
            "gridcolor": "white",
            "linecolor": "white",
            "ticks": ""
           },
           "baxis": {
            "gridcolor": "white",
            "linecolor": "white",
            "ticks": ""
           },
           "bgcolor": "#E5ECF6",
           "caxis": {
            "gridcolor": "white",
            "linecolor": "white",
            "ticks": ""
           }
          },
          "title": {
           "x": 0.05
          },
          "xaxis": {
           "automargin": true,
           "gridcolor": "white",
           "linecolor": "white",
           "ticks": "",
           "title": {
            "standoff": 15
           },
           "zerolinecolor": "white",
           "zerolinewidth": 2
          },
          "yaxis": {
           "automargin": true,
           "gridcolor": "white",
           "linecolor": "white",
           "ticks": "",
           "title": {
            "standoff": 15
           },
           "zerolinecolor": "white",
           "zerolinewidth": 2
          }
         }
        }
       }
      }
     },
     "metadata": {},
     "output_type": "display_data"
    }
   ],
   "source": [
    "top_10_date = list(sort_v.index[:10])\n",
    "print(top_10_date)\n",
    "q_land = land_data.query(f\"계약일자 in {top_10_date}\")\n",
    "print(q_land)\n",
    "fig6 = px.pie(q_land,names=q_land['지역구분'],values=q_land['대장금액(원)'])\n",
    "fig6.show()"
   ]
  },
  {
   "cell_type": "code",
   "execution_count": 127,
   "metadata": {},
   "outputs": [
    {
     "data": {
      "application/vnd.plotly.v1+json": {
       "config": {
        "plotlyServerURL": "https://plot.ly"
       },
       "data": [
        {
         "alignmentgroup": "True",
         "hovertemplate": "지역구분=%{x}<br>대장금액(원)=%{y}<extra></extra>",
         "legendgroup": "",
         "marker": {
          "color": "#636efa"
         },
         "name": "",
         "notched": false,
         "offsetgroup": "",
         "orientation": "v",
         "showlegend": false,
         "type": "box",
         "x": [
          "서울특별시",
          "서울특별시",
          "서울특별시",
          "서울특별시",
          "서울특별시",
          "서울특별시",
          "서울특별시",
          "서울특별시",
          "서울특별시",
          "서울특별시",
          "서울특별시",
          "서울특별시",
          "서울특별시",
          "서울특별시",
          "서울특별시",
          "서울특별시",
          "서울특별시",
          "서울특별시",
          "서울특별시",
          "서울특별시",
          "서울특별시",
          "서울특별시",
          "서울특별시",
          "서울특별시",
          "서울특별시",
          "서울특별시",
          "서울특별시",
          "서울특별시",
          "서울특별시",
          "서울특별시",
          "서울특별시",
          "서울특별시",
          "서울특별시",
          "서울특별시",
          "서울특별시",
          "서울특별시",
          "서울특별시",
          "서울특별시",
          "서울특별시",
          "서울특별시",
          "서울특별시",
          "서울특별시",
          "서울특별시",
          "서울특별시",
          "서울특별시",
          "서울특별시",
          "서울특별시",
          "서울특별시",
          "서울특별시",
          "서울특별시",
          "서울특별시",
          "서울특별시",
          "서울특별시",
          "서울특별시",
          "서울특별시",
          "서울특별시",
          "서울특별시",
          "서울특별시",
          "서울특별시",
          "서울특별시",
          "서울특별시",
          "서울특별시",
          "서울특별시",
          "서울특별시",
          "서울특별시",
          "서울특별시",
          "서울특별시",
          "서울특별시",
          "서울특별시",
          "서울특별시",
          "서울특별시",
          "서울특별시",
          "서울특별시",
          "서울특별시",
          "서울특별시",
          "서울특별시",
          "서울특별시",
          "서울특별시",
          "서울특별시",
          "서울특별시",
          "서울특별시",
          "서울특별시",
          "서울특별시",
          "서울특별시",
          "서울특별시",
          "서울특별시",
          "서울특별시",
          "서울특별시",
          "서울특별시",
          "서울특별시",
          "서울특별시",
          "서울특별시",
          "서울특별시",
          "서울특별시",
          "서울특별시",
          "서울특별시",
          "서울특별시",
          "서울특별시",
          "서울특별시",
          "서울특별시",
          "서울특별시",
          "서울특별시",
          "서울특별시",
          "서울특별시",
          "서울특별시",
          "서울특별시",
          "서울특별시",
          "서울특별시",
          "서울특별시",
          "서울특별시",
          "서울특별시",
          "서울특별시",
          "서울특별시",
          "서울특별시",
          "서울특별시",
          "서울특별시",
          "서울특별시",
          "서울특별시",
          "서울특별시",
          "서울특별시",
          "서울특별시",
          "서울특별시",
          "서울특별시",
          "서울특별시",
          "서울특별시",
          "서울특별시",
          "서울특별시",
          "서울특별시",
          "서울특별시",
          "서울특별시",
          "서울특별시",
          "서울특별시",
          "서울특별시",
          "서울특별시",
          "서울특별시",
          "서울특별시",
          "서울특별시",
          "서울특별시",
          "서울특별시",
          "서울특별시",
          "서울특별시",
          "서울특별시",
          "서울특별시",
          "서울특별시",
          "서울특별시",
          "서울특별시",
          "서울특별시",
          "서울특별시",
          "서울특별시",
          "서울특별시",
          "서울특별시",
          "서울특별시",
          "서울특별시",
          "서울특별시",
          "서울특별시",
          "서울특별시",
          "서울특별시",
          "서울특별시",
          "서울특별시",
          "서울특별시",
          "서울특별시",
          "서울특별시",
          "서울특별시",
          "서울특별시",
          "서울특별시",
          "서울특별시",
          "서울특별시",
          "서울특별시",
          "서울특별시",
          "서울특별시",
          "서울특별시",
          "서울특별시",
          "서울특별시",
          "서울특별시",
          "서울특별시",
          "서울특별시",
          "서울특별시",
          "서울특별시",
          "서울특별시",
          "서울특별시",
          "서울특별시",
          "서울특별시",
          "서울특별시",
          "서울특별시",
          "서울특별시",
          "서울특별시",
          "서울특별시",
          "서울특별시",
          "서울특별시",
          "서울특별시",
          "서울특별시",
          "서울특별시",
          "서울특별시",
          "서울특별시",
          "서울특별시",
          "서울특별시",
          "서울특별시",
          "서울특별시",
          "서울특별시",
          "서울특별시",
          "서울특별시",
          "서울특별시",
          "서울특별시",
          "서울특별시",
          "서울특별시",
          "서울특별시",
          "서울특별시",
          "서울특별시",
          "서울특별시",
          "서울특별시",
          "서울특별시",
          "서울특별시",
          "서울특별시",
          "서울특별시",
          "서울특별시",
          "서울특별시",
          "서울특별시",
          "서울특별시",
          "서울특별시",
          "서울특별시",
          "서울특별시",
          "서울특별시",
          "서울특별시",
          "서울특별시",
          "서울특별시",
          "서울특별시",
          "서울특별시",
          "서울특별시",
          "서울특별시",
          "서울특별시",
          "서울특별시",
          "서울특별시",
          "서울특별시",
          "부산광역시",
          "부산광역시",
          "부산광역시",
          "부산광역시",
          "부산광역시",
          "부산광역시",
          "부산광역시",
          "부산광역시",
          "부산광역시",
          "부산광역시",
          "대구광역시",
          "대구광역시",
          "대구광역시",
          "대구광역시",
          "대구광역시",
          "대구광역시",
          "광주광역시",
          "대전광역시",
          "대전광역시",
          "대전광역시",
          "대전광역시",
          "대전광역시",
          "대전광역시",
          "울산광역시",
          "경기도",
          "경기도",
          "경기도",
          "경기도",
          "경기도",
          "경기도",
          "경기도",
          "경기도",
          "경기도",
          "경기도",
          "경기도",
          "경기도",
          "경기도",
          "경기도",
          "경기도",
          "경기도",
          "경기도",
          "경기도",
          "경기도",
          "경기도",
          "경기도",
          "경기도",
          "경기도",
          "경기도",
          "경기도",
          "경기도",
          "경기도",
          "경기도",
          "경기도",
          "경기도",
          "경기도",
          "경기도",
          "경기도",
          "경기도",
          "경기도",
          "경기도",
          "경기도",
          "경기도",
          "경기도",
          "경기도",
          "경기도",
          "경기도",
          "경기도",
          "경기도",
          "경기도",
          "경기도",
          "경기도",
          "경기도",
          "경기도",
          "경기도",
          "경기도",
          "경기도",
          "경기도",
          "경기도",
          "경기도",
          "경기도",
          "경기도",
          "경기도",
          "경기도",
          "경기도",
          "경기도",
          "경기도",
          "경기도",
          "경기도",
          "경기도",
          "강원도",
          "강원도",
          "강원도",
          "강원도",
          "강원도",
          "강원도",
          "강원도",
          "강원도",
          "강원도",
          "강원도",
          "강원도",
          "강원도",
          "강원도",
          "강원도",
          "강원도",
          "강원도",
          "강원도",
          "강원도",
          "강원도",
          "강원도",
          "강원도",
          "강원도",
          "강원도",
          "강원도",
          "강원도",
          "강원도",
          "강원도",
          "강원도",
          "강원도",
          "강원도",
          "강원도",
          "강원도",
          "강원도",
          "강원도",
          "강원도",
          "강원도",
          "강원도",
          "강원도",
          "강원도",
          "강원도",
          "강원도",
          "강원도",
          "강원도",
          "강원도",
          "강원도",
          "강원도",
          "강원도",
          "강원도",
          "강원도",
          "강원도",
          "강원도",
          "강원도",
          "강원도",
          "강원도",
          "강원도",
          "강원도",
          "강원도",
          "강원도",
          "강원도",
          "강원도",
          "강원도",
          "강원도",
          "강원도",
          "강원도",
          "강원도",
          "강원도",
          "강원도",
          "강원도",
          "강원도",
          "강원도",
          "강원도",
          "강원도",
          "강원도",
          "충청북도",
          "충청북도",
          "충청북도",
          "충청북도",
          "충청북도",
          "충청남도",
          "충청남도",
          "충청남도",
          "충청남도",
          "충청남도",
          "충청남도",
          "충청남도",
          "충청남도",
          "충청남도",
          "충청남도",
          "충청남도",
          "충청남도",
          "충청남도",
          "충청남도",
          "충청남도",
          "충청남도",
          "충청남도",
          "충청남도",
          "전라북도",
          "전라북도",
          "전라북도",
          "전라북도",
          "전라북도",
          "전라북도",
          "전라북도",
          "전라북도",
          "전라북도",
          "전라북도",
          "전라북도",
          "전라북도",
          "전라북도",
          "전라북도",
          "전라남도",
          "전라남도",
          "전라남도",
          "전라남도",
          "전라남도",
          "전라남도",
          "전라남도",
          "전라남도",
          "전라남도",
          "경상북도",
          "경상북도",
          "경상북도",
          "경상북도",
          "경상북도",
          "경상북도",
          "경상북도",
          "경상북도",
          "경상북도",
          "경상북도",
          "경상북도",
          "경상북도",
          "경상북도",
          "경상북도",
          "경상북도",
          "경상북도",
          "경상북도",
          "경상북도",
          "경상북도",
          "경상북도",
          "경상북도",
          "경상남도",
          "경상남도",
          "경상남도",
          "경상남도",
          "경상남도",
          "경상남도",
          "경상남도",
          "경상남도",
          "경상남도",
          "경상남도",
          "경상남도",
          "경상남도",
          "경상남도",
          "경상남도",
          "경상남도",
          "경상남도",
          "경상남도",
          "경상남도",
          "경상남도",
          "경상남도",
          "경상남도",
          "경상남도",
          "경상남도",
          "경상남도",
          "경상남도",
          "경상남도",
          "경상남도",
          "경상남도",
          "경상남도",
          "경상남도",
          "경상남도",
          "제주특별자치도",
          "제주특별자치도",
          "제주특별자치도",
          "서울특별시",
          "인천광역시",
          "광주광역시",
          "광주광역시",
          "광주광역시",
          "경기도",
          "경기도",
          "경기도",
          "경기도",
          "경기도",
          "경기도",
          "경기도",
          "경기도",
          "경기도",
          "강원도",
          "강원도",
          "강원도",
          "강원도",
          "강원도",
          "강원도",
          "강원도",
          "강원도",
          "강원도",
          "강원도",
          "충청북도",
          "충청남도",
          "충청남도",
          "전라북도",
          "전라북도",
          "전라남도",
          "전라남도",
          "전라남도",
          "전라남도",
          "전라남도",
          "전라남도",
          "전라남도",
          "전라남도",
          "전라남도",
          "전라남도",
          "전라남도",
          "전라남도",
          "경상북도",
          "경상북도",
          "경상북도",
          "경상북도",
          "경상북도",
          "경상북도",
          "경상남도",
          "경상남도",
          "경상남도",
          "경상남도",
          "경상남도",
          "경상남도",
          "경상남도",
          "경상남도",
          "경상남도",
          "경상남도",
          "경상남도",
          "경상남도",
          "경상남도",
          "경상남도",
          "제주특별자치도",
          "서울특별시",
          "서울특별시",
          "서울특별시",
          "대구광역시",
          "대구광역시",
          "대구광역시",
          "대전광역시",
          "울산광역시",
          "울산광역시",
          "울산광역시",
          "경기도",
          "경기도",
          "경기도",
          "경기도",
          "경기도",
          "경기도",
          "경기도",
          "경기도",
          "경기도",
          "경기도",
          "경기도",
          "경기도",
          "경기도",
          "경기도",
          "경기도",
          "경기도",
          "경기도",
          "경기도",
          "경기도",
          "경기도",
          "경기도",
          "경기도",
          "경기도",
          "경기도",
          "경기도",
          "경기도",
          "경기도",
          "경기도",
          "경기도",
          "경기도",
          "경기도",
          "경기도",
          "경기도",
          "경기도",
          "경기도",
          "경기도",
          "경기도",
          "경기도",
          "경기도",
          "경기도",
          "경기도",
          "경기도",
          "경기도",
          "경기도",
          "경기도",
          "경기도",
          "경기도",
          "경기도",
          "경기도",
          "경기도",
          "경기도",
          "경기도",
          "경기도",
          "경기도",
          "경기도",
          "경기도",
          "경기도",
          "경기도",
          "경기도",
          "충청북도",
          "충청북도",
          "충청북도",
          "충청북도",
          "충청북도",
          "충청북도",
          "충청북도",
          "충청북도",
          "충청북도",
          "충청북도",
          "충청북도",
          "충청북도",
          "충청남도",
          "충청남도",
          "충청남도",
          "충청남도",
          "충청남도",
          "충청남도",
          "충청남도",
          "충청남도",
          "충청남도",
          "충청남도",
          "충청남도",
          "충청남도",
          "충청남도",
          "충청남도",
          "충청남도",
          "충청남도",
          "충청남도",
          "충청남도",
          "충청남도",
          "충청남도",
          "충청남도",
          "충청남도",
          "충청남도",
          "충청남도",
          "충청남도",
          "충청남도",
          "충청남도",
          "충청남도",
          "충청남도",
          "충청남도",
          "충청남도",
          "충청남도",
          "충청남도",
          "충청남도",
          "충청남도",
          "충청남도",
          "충청남도",
          "충청남도",
          "충청남도",
          "충청남도",
          "충청남도",
          "충청남도",
          "충청남도",
          "충청남도",
          "충청남도",
          "충청남도",
          "충청남도",
          "충청남도",
          "충청남도",
          "충청남도",
          "충청남도",
          "충청남도",
          "충청남도",
          "충청남도",
          "충청남도",
          "충청남도",
          "충청남도",
          "충청남도",
          "충청남도",
          "충청남도",
          "충청남도",
          "충청남도",
          "충청남도",
          "충청남도",
          "충청남도",
          "충청남도",
          "충청남도",
          "충청남도",
          "충청남도",
          "충청남도",
          "충청남도",
          "충청남도",
          "충청남도",
          "충청남도",
          "충청남도",
          "충청남도",
          "충청남도",
          "충청남도",
          "충청남도",
          "충청남도",
          "충청남도",
          "충청남도",
          "충청남도",
          "충청남도",
          "충청남도",
          "충청남도",
          "충청남도",
          "전라북도",
          "전라북도",
          "전라북도",
          "전라북도",
          "전라북도",
          "전라북도",
          "전라북도",
          "전라북도",
          "전라남도",
          "경상북도",
          "경상남도",
          "경상남도",
          "경상남도",
          "경상남도",
          "경상남도",
          "경상남도",
          "경상남도",
          "경상남도",
          "경상남도",
          "경상남도",
          "경상남도",
          "경상남도",
          "경상남도",
          "경상남도",
          "경상남도",
          "경상남도",
          "경상남도",
          "경상남도",
          "경상남도",
          "경상남도",
          "경상남도",
          "경상남도",
          "경상남도",
          "경상남도",
          "경상남도",
          "경상남도",
          "경상남도",
          "경상남도",
          "경상남도",
          "경상남도",
          "경상남도",
          "경상남도",
          "경상남도",
          "경상남도",
          "서울특별시",
          "서울특별시",
          "서울특별시",
          "서울특별시",
          "서울특별시",
          "서울특별시",
          "서울특별시",
          "서울특별시",
          "서울특별시",
          "서울특별시",
          "서울특별시",
          "부산광역시",
          "인천광역시",
          "인천광역시",
          "인천광역시",
          "인천광역시",
          "인천광역시",
          "인천광역시",
          "인천광역시",
          "대전광역시",
          "대전광역시",
          "대전광역시",
          "대전광역시",
          "대전광역시",
          "대전광역시",
          "대전광역시",
          "경기도",
          "경기도",
          "경기도",
          "경기도",
          "경기도",
          "경기도",
          "경기도",
          "경기도",
          "경기도",
          "경기도",
          "경기도",
          "경기도",
          "경기도",
          "경기도",
          "경기도",
          "경기도",
          "경기도",
          "경기도",
          "경기도",
          "경기도",
          "경기도",
          "경기도",
          "경기도",
          "경기도",
          "경기도",
          "경기도",
          "경기도",
          "경기도",
          "경기도",
          "경기도",
          "경기도",
          "경기도",
          "경기도",
          "경기도",
          "경기도",
          "경기도",
          "경기도",
          "경기도",
          "경기도",
          "경기도",
          "경기도",
          "경기도",
          "경기도",
          "경기도",
          "강원도",
          "강원도",
          "강원도",
          "강원도",
          "강원도",
          "강원도",
          "충청남도",
          "충청남도",
          "전라북도",
          "전라북도",
          "전라북도",
          "전라북도",
          "전라남도",
          "전라남도",
          "경상북도",
          "경상북도",
          "경상북도",
          "경상북도",
          "경상북도",
          "경상북도",
          "경상북도",
          "경상남도",
          "서울특별시",
          "서울특별시",
          "서울특별시",
          "인천광역시",
          "경기도",
          "경기도",
          "경기도",
          "경기도",
          "경기도",
          "경기도",
          "경기도",
          "강원도",
          "충청남도",
          "충청남도",
          "충청남도",
          "전라남도",
          "전라남도",
          "경상북도",
          "경상북도",
          "경상북도",
          "경상북도",
          "서울특별시",
          "부산광역시",
          "인천광역시",
          "인천광역시",
          "광주광역시",
          "울산광역시",
          "울산광역시",
          "울산광역시",
          "경기도",
          "경기도",
          "경기도",
          "경기도",
          "경기도",
          "경기도",
          "경기도",
          "경기도",
          "경기도",
          "충청북도",
          "충청북도",
          "충청북도",
          "충청북도",
          "충청북도",
          "충청북도",
          "충청남도",
          "충청남도",
          "충청남도",
          "충청남도",
          "전라남도",
          "전라남도",
          "전라남도",
          "전라남도",
          "전라남도",
          "전라남도",
          "전라남도",
          "전라남도",
          "경상북도",
          "경상북도",
          "경상남도",
          "경상남도",
          "경상남도",
          "경상남도",
          "경상남도",
          "경상남도",
          "경상남도",
          "경상남도",
          "경상남도",
          "경상남도",
          "경상남도",
          "강원특별자치도",
          "강원특별자치도",
          "강원특별자치도",
          "강원특별자치도",
          "강원특별자치도",
          "강원특별자치도",
          "강원특별자치도",
          "강원특별자치도",
          "강원특별자치도",
          "강원특별자치도",
          "강원특별자치도",
          "강원특별자치도",
          "강원특별자치도",
          "강원특별자치도",
          "강원특별자치도",
          "강원특별자치도"
         ],
         "x0": " ",
         "xaxis": "x",
         "y": [
          8330160,
          6872382,
          4095900000,
          220651380000,
          621936000,
          2239872000,
          1626484000,
          7306200,
          330617700,
          5586750,
          254280000,
          86506360,
          143149800,
          762750000,
          25155680,
          904791300,
          186846000,
          1640364000,
          837425000,
          1152789000,
          2135076000,
          133440000,
          2072229000,
          1188720000,
          843180000,
          1230060000,
          87360000,
          795892000,
          1040428900,
          3181075000,
          13602677,
          71814600,
          584281200,
          40768000,
          227772000,
          398547000,
          17038608700,
          341041600,
          387852800,
          130608000,
          719250000,
          957333600,
          1171600000,
          509976000,
          15454523400,
          12649000,
          764778000,
          234493000,
          12649000,
          36729000,
          42867000,
          284116000,
          792000,
          12510000,
          5310000,
          719037000,
          28915500,
          2616000,
          6960000,
          11904000,
          1953864000,
          7584000,
          342160000,
          2004166800,
          13410000,
          40770000,
          43785000,
          332830200,
          614088000,
          841910400,
          433200000,
          18480000,
          4608000,
          864000,
          3456000,
          397536000,
          87264000,
          355520000,
          64736000,
          30107000,
          566629000,
          141123500,
          21136500,
          93200000,
          272464400,
          219267100,
          790696400,
          246552800,
          4778400,
          21543000,
          10992800,
          319183800,
          428895200,
          288054000,
          52388800,
          686070,
          19085500,
          2425500,
          14414400,
          48562500,
          1700000,
          5037500,
          4304300,
          79285800,
          1468627640,
          19837500,
          6027750,
          17701580,
          4016250,
          16822450,
          495193200,
          11144460,
          142106300,
          2708195,
          23008600,
          37961000,
          10529357270,
          25529400,
          420146000,
          990350000,
          10008000,
          36696000,
          35867000,
          226875000,
          384000,
          4160000,
          569088000,
          2012000,
          337272000,
          267720000,
          1262923200,
          21598500,
          1937600,
          158043000,
          73412300,
          390000,
          472347700,
          2880400,
          5381800,
          12006200,
          10731000,
          17493000,
          13671000,
          163565280,
          1791612000,
          810394800,
          84724875,
          1898800,
          1300010400,
          35936310,
          306851000,
          45400992500,
          2119742500,
          519963400,
          285720900,
          612948600,
          195868000,
          571380000,
          56248000,
          50196000,
          11748000,
          389820000,
          216092000,
          324000,
          281100,
          612134000,
          2773003200,
          28389494,
          104027200,
          177160000,
          10020000,
          71832000,
          224475000,
          833976000,
          1875918600,
          832603200,
          3459600000,
          941780000,
          2844560000,
          189510000,
          552160000,
          509234000,
          759935400,
          2210000,
          449016000,
          2602184300,
          819000,
          859795200,
          218504400,
          15222000,
          14543500,
          4484000,
          18260500,
          50120500,
          239820000,
          8555000,
          11760000,
          69720000,
          17818000,
          5929500,
          23836000,
          14455000,
          926640000,
          870136800,
          24012000,
          2406591000,
          22765110,
          3833346000,
          268353200,
          701804000,
          567300000,
          30995316000,
          649202000,
          56034000,
          2437928000,
          3656190000,
          21169105,
          17996000,
          2255739500,
          247401000,
          418446000,
          3408804000,
          66924000,
          582153000,
          73788000,
          1488886600,
          1970100000,
          1411445000,
          998132700,
          2476890000,
          2810500000,
          414800000,
          601550000,
          8220000,
          1624400,
          4876000,
          102400,
          3388000,
          29273000,
          705000,
          8451120,
          327160000,
          8675040,
          16074000,
          17442000,
          364000,
          101924000,
          232000000,
          34048000,
          25280000,
          4428000,
          10405800,
          7380000,
          2214000,
          19800000,
          29104000,
          2806700,
          7449000,
          85320000,
          16051200,
          8318478880,
          682814590,
          74895690,
          12727960,
          7390400,
          22348200,
          35462000,
          3261149200,
          516205300,
          14469000,
          13542000,
          15847200,
          53328000,
          24594400,
          13385644,
          12464151,
          3887027,
          1170000,
          3045700,
          2207800,
          4601800,
          1660848,
          11844000,
          225600,
          18941,
          32643000,
          11856000,
          912000,
          173100,
          519300,
          9348000,
          15276000,
          1938000,
          912000,
          1140000,
          1557900,
          3584500,
          536428,
          2744988,
          1764635,
          483529,
          1924017,
          13230000,
          12480000,
          31171000,
          781050,
          549100,
          1227400,
          707000,
          12844400,
          10633800,
          13572000,
          22152000,
          37804000,
          4836000,
          12220000,
          6708000,
          2756000,
          8944000,
          29588000,
          16172000,
          11700000,
          9945980,
          173280000,
          8482500,
          864600,
          6679200,
          212181,
          11667120,
          12694740,
          4984000,
          44958200,
          6615000,
          36252600,
          2070000,
          509025,
          4368000,
          13494500,
          185130,
          1669910,
          10074000,
          353100,
          338800,
          731500,
          3864000,
          1168000,
          1208000,
          6268360,
          162260,
          427000,
          17256300,
          7148900,
          4617200,
          16517200,
          117810,
          7116200,
          1663200,
          7620720,
          1070400,
          276520,
          7135760,
          2194900,
          169540,
          3321860,
          753940,
          469455,
          580320,
          1334385,
          2841507,
          1252143,
          1596315,
          77319,
          464695,
          232738,
          704577,
          821790,
          405000,
          9632000,
          14071200,
          984000,
          10599500,
          15468950,
          23055000,
          5980000,
          8275240,
          4601000,
          85800,
          361665,
          310860,
          675100,
          39592700,
          20506200,
          2683200,
          841408,
          5902400,
          92040,
          37734000,
          1813000,
          4140000,
          9078480,
          13062000,
          11744000,
          2002020,
          4569600,
          3162000,
          17828910,
          34400000,
          3528720,
          23606400,
          20409600,
          1293750,
          347380,
          1197840,
          2928000,
          873116400,
          100,
          5811000,
          11492000,
          26023000,
          1239000,
          3009000,
          4353300,
          906240,
          1790460,
          1471320,
          1073600,
          8233928,
          1480680,
          7952240,
          2145990,
          5828328,
          470600,
          795940,
          3003000,
          994080,
          891780,
          57849770,
          7338240,
          103960,
          302680,
          203040,
          9477867,
          13049400,
          12987830,
          20225630,
          3524340,
          603710,
          4277040,
          1083434,
          10016700,
          39353600,
          88039600,
          15360000,
          11353800,
          35598000,
          5160000,
          287280,
          2584652,
          81681600,
          1588400,
          1102400,
          4804800,
          1692000,
          451200,
          37234,
          2616680,
          3775200,
          5906335,
          25740000,
          4078184,
          297350,
          1630200,
          2059200,
          9018000,
          31006800,
          17622000,
          2681400,
          35854000,
          20020000,
          7911800,
          26724600,
          2366660,
          6302940,
          583560,
          183918660,
          133440720,
          312500,
          448400,
          115830,
          211614,
          40522,
          3164700,
          9730200,
          59371637,
          7763000,
          21215952,
          121520000,
          221200,
          69224550,
          59793442,
          3168000,
          115588200,
          65245600,
          5882800,
          2956800,
          2689650,
          15038800,
          6877500,
          3594500,
          891000,
          12843950,
          720510,
          769860,
          1244100,
          106920,
          10355940,
          3923150,
          695300,
          4550000,
          12029200,
          10800000,
          137362000000,
          1111498,
          8702460,
          639830,
          504900,
          214000,
          54558,
          924700,
          8114200,
          101538,
          164892,
          2282000,
          21252,
          24288,
          264000,
          310200,
          802700,
          18571870,
          4323600,
          11634520,
          846877,
          11767600,
          71100,
          2512800,
          121000,
          418800,
          217800,
          266200,
          179920,
          1299634,
          7770,
          888000,
          99790,
          881250,
          7600,
          659166,
          21805300,
          13325000,
          88040000,
          47040000,
          39840000,
          240000,
          122661000,
          1938240880,
          18822500,
          257950,
          9312000,
          536630500,
          556871000,
          5584500,
          6095800,
          54176970170,
          33728000,
          18904000,
          18496000,
          11096000,
          6716000,
          49252200,
          41616200,
          16303000,
          11159092800,
          1126033370,
          117714787,
          9229355000,
          414422800,
          96000000,
          4346659200,
          63639880,
          1769059500,
          65251200,
          12924800,
          18060600,
          22527200,
          1003819800,
          106035200,
          175312500,
          11785519200,
          18123200,
          18277350,
          10966410,
          1186914000,
          35220000,
          369810000,
          641038000,
          373086000,
          140688000,
          3534960,
          964080,
          1875840000,
          25402000,
          1844400,
          3611000,
          94575000,
          1212500,
          38349000,
          14005320,
          1778450,
          1778450,
          61347000,
          279440000,
          5845400,
          6851100,
          1815665,
          20605000,
          3609600,
          5570600,
          201391500,
          2655000,
          17580700,
          41370560,
          39764440,
          13129000,
          34352000,
          897600,
          6415200,
          3663000,
          1474240,
          2029120,
          3860205300,
          4125420600,
          649836640,
          1013716267,
          36765643,
          23463900,
          1489060427,
          163548136,
          164178158,
          1253531294,
          332887791,
          940900,
          620800,
          308092,
          2414799,
          6410002,
          7450918,
          59915,
          132748,
          1242204,
          2272439,
          171570,
          448132,
          4978864,
          45355401,
          1977619,
          5063382,
          10669805,
          654365,
          17118,
          5284800,
          82094,
          3532536,
          25349540,
          30499461,
          7349634,
          915937,
          1705263,
          8537204,
          1068192,
          485571,
          2944725,
          576602,
          635556,
          1507341,
          485786,
          526900,
          5912548,
          649064,
          81853200,
          217035000,
          226336500,
          113968400,
          74692800,
          3930000,
          545792000,
          321040800,
          190780800,
          13238600,
          49416000,
          1398391200,
          10650000,
          14484000,
          2390000,
          11244000,
          45600000,
          41593200,
          5468120,
          862432500,
          9802870,
          8500000,
          30743720,
          800344800,
          96580,
          24289870,
          193552200,
          257300510,
          37762780,
          8623440,
          10216800,
          4539260,
          37878000,
          4986300,
          5154240,
          11398800,
          9468000,
          335400,
          417100,
          12463000,
          5904000,
          175760,
          2878400,
          43948800,
          10187480,
          1964286,
          1892300,
          1787919,
          477000,
          6874200,
          22144500,
          1179900,
          3078000,
          1727100,
          1487700,
          1795500,
          1915200,
          1436400,
          1094400,
          14603160,
          1346700,
          1507500,
          4124390,
          4543100,
          2081500,
          7022800,
          3475200,
          14027500,
          1733794,
          1676800,
          448000,
          33218060,
          1556600,
          1502300,
          3300000,
          800000,
          19618720,
          3232630,
          22349850,
          2052000,
          2781000,
          946301,
          138620012000,
          5074330794,
          198097920,
          125098397,
          88888010,
          37995747,
          196047395000,
          5367445585,
          551767125,
          194119200,
          367419198510,
          71359200,
          1113750,
          525690,
          882090,
          19277000,
          24825600,
          91767000,
          18824000,
          3293900,
          1685600,
          13939200,
          7311600,
          4935330,
          31125800,
          865840,
          37977600,
          506073600,
          1191452000,
          3071400,
          6375600,
          1436083200,
          4250400,
          617789200,
          7704840,
          4642660,
          30819360,
          889020,
          3259740,
          65194800,
          11853600,
          5630460,
          9878000,
          932230,
          142974300,
          2093280,
          1284140,
          44846120,
          15508460,
          6313500,
          976000,
          11254500,
          610000,
          274500,
          22818180,
          623000,
          3463880,
          11986520,
          2370720,
          7902400,
          15310900,
          15508460,
          691460,
          6519480,
          16397480,
          5751000,
          9009000,
          4281200,
          10886480,
          4663440,
          2439590,
          1565600,
          1176000,
          33000,
          12084040,
          237600,
          342300,
          1760400,
          35788320,
          8567650,
          4971120,
          1512960,
          1970100,
          12110400,
          5547200,
          7280000,
          26026600,
          17291400,
          24460800,
          4450088,
          2022240,
          59388000,
          53867078842,
          48159034000,
          679663189,
          1491615000,
          81378000,
          4810000,
          24126060,
          3273400,
          27480100,
          343840,
          1055880,
          1209020,
          1693600,
          12920000,
          12127200,
          6850800,
          3356310,
          273700,
          306800,
          5156900,
          3600100,
          113771790800,
          694800,
          59871000,
          421000000,
          43976500,
          2263800,
          10005080,
          256700,
          496951000,
          20790000,
          142560000,
          8172100,
          249410000,
          102464700,
          21073300,
          17081700,
          54210000,
          685000,
          3498300,
          309777,
          1766600,
          1328250,
          2097600,
          1488000,
          2699200,
          2441600,
          1064000,
          75240000,
          6545000,
          24928000,
          3260910,
          6132105,
          2166600,
          444500,
          5909760,
          19180800,
          9990000,
          4979207900,
          26759700,
          275726400,
          558291942,
          31701600,
          942890947,
          295042650,
          53631000,
          20230080,
          133280,
          2674100,
          12204450,
          20350000,
          166500,
          88800,
          301920,
          532800,
          473600,
          124320,
          1521440,
          328560,
          7665900,
          2808300,
          10798500,
          14450400,
          30372600,
          782400
         ],
         "y0": " ",
         "yaxis": "y"
        }
       ],
       "layout": {
        "boxmode": "group",
        "legend": {
         "tracegroupgap": 0
        },
        "margin": {
         "t": 60
        },
        "template": {
         "data": {
          "bar": [
           {
            "error_x": {
             "color": "#2a3f5f"
            },
            "error_y": {
             "color": "#2a3f5f"
            },
            "marker": {
             "line": {
              "color": "#E5ECF6",
              "width": 0.5
             },
             "pattern": {
              "fillmode": "overlay",
              "size": 10,
              "solidity": 0.2
             }
            },
            "type": "bar"
           }
          ],
          "barpolar": [
           {
            "marker": {
             "line": {
              "color": "#E5ECF6",
              "width": 0.5
             },
             "pattern": {
              "fillmode": "overlay",
              "size": 10,
              "solidity": 0.2
             }
            },
            "type": "barpolar"
           }
          ],
          "carpet": [
           {
            "aaxis": {
             "endlinecolor": "#2a3f5f",
             "gridcolor": "white",
             "linecolor": "white",
             "minorgridcolor": "white",
             "startlinecolor": "#2a3f5f"
            },
            "baxis": {
             "endlinecolor": "#2a3f5f",
             "gridcolor": "white",
             "linecolor": "white",
             "minorgridcolor": "white",
             "startlinecolor": "#2a3f5f"
            },
            "type": "carpet"
           }
          ],
          "choropleth": [
           {
            "colorbar": {
             "outlinewidth": 0,
             "ticks": ""
            },
            "type": "choropleth"
           }
          ],
          "contour": [
           {
            "colorbar": {
             "outlinewidth": 0,
             "ticks": ""
            },
            "colorscale": [
             [
              0,
              "#0d0887"
             ],
             [
              0.1111111111111111,
              "#46039f"
             ],
             [
              0.2222222222222222,
              "#7201a8"
             ],
             [
              0.3333333333333333,
              "#9c179e"
             ],
             [
              0.4444444444444444,
              "#bd3786"
             ],
             [
              0.5555555555555556,
              "#d8576b"
             ],
             [
              0.6666666666666666,
              "#ed7953"
             ],
             [
              0.7777777777777778,
              "#fb9f3a"
             ],
             [
              0.8888888888888888,
              "#fdca26"
             ],
             [
              1,
              "#f0f921"
             ]
            ],
            "type": "contour"
           }
          ],
          "contourcarpet": [
           {
            "colorbar": {
             "outlinewidth": 0,
             "ticks": ""
            },
            "type": "contourcarpet"
           }
          ],
          "heatmap": [
           {
            "colorbar": {
             "outlinewidth": 0,
             "ticks": ""
            },
            "colorscale": [
             [
              0,
              "#0d0887"
             ],
             [
              0.1111111111111111,
              "#46039f"
             ],
             [
              0.2222222222222222,
              "#7201a8"
             ],
             [
              0.3333333333333333,
              "#9c179e"
             ],
             [
              0.4444444444444444,
              "#bd3786"
             ],
             [
              0.5555555555555556,
              "#d8576b"
             ],
             [
              0.6666666666666666,
              "#ed7953"
             ],
             [
              0.7777777777777778,
              "#fb9f3a"
             ],
             [
              0.8888888888888888,
              "#fdca26"
             ],
             [
              1,
              "#f0f921"
             ]
            ],
            "type": "heatmap"
           }
          ],
          "heatmapgl": [
           {
            "colorbar": {
             "outlinewidth": 0,
             "ticks": ""
            },
            "colorscale": [
             [
              0,
              "#0d0887"
             ],
             [
              0.1111111111111111,
              "#46039f"
             ],
             [
              0.2222222222222222,
              "#7201a8"
             ],
             [
              0.3333333333333333,
              "#9c179e"
             ],
             [
              0.4444444444444444,
              "#bd3786"
             ],
             [
              0.5555555555555556,
              "#d8576b"
             ],
             [
              0.6666666666666666,
              "#ed7953"
             ],
             [
              0.7777777777777778,
              "#fb9f3a"
             ],
             [
              0.8888888888888888,
              "#fdca26"
             ],
             [
              1,
              "#f0f921"
             ]
            ],
            "type": "heatmapgl"
           }
          ],
          "histogram": [
           {
            "marker": {
             "pattern": {
              "fillmode": "overlay",
              "size": 10,
              "solidity": 0.2
             }
            },
            "type": "histogram"
           }
          ],
          "histogram2d": [
           {
            "colorbar": {
             "outlinewidth": 0,
             "ticks": ""
            },
            "colorscale": [
             [
              0,
              "#0d0887"
             ],
             [
              0.1111111111111111,
              "#46039f"
             ],
             [
              0.2222222222222222,
              "#7201a8"
             ],
             [
              0.3333333333333333,
              "#9c179e"
             ],
             [
              0.4444444444444444,
              "#bd3786"
             ],
             [
              0.5555555555555556,
              "#d8576b"
             ],
             [
              0.6666666666666666,
              "#ed7953"
             ],
             [
              0.7777777777777778,
              "#fb9f3a"
             ],
             [
              0.8888888888888888,
              "#fdca26"
             ],
             [
              1,
              "#f0f921"
             ]
            ],
            "type": "histogram2d"
           }
          ],
          "histogram2dcontour": [
           {
            "colorbar": {
             "outlinewidth": 0,
             "ticks": ""
            },
            "colorscale": [
             [
              0,
              "#0d0887"
             ],
             [
              0.1111111111111111,
              "#46039f"
             ],
             [
              0.2222222222222222,
              "#7201a8"
             ],
             [
              0.3333333333333333,
              "#9c179e"
             ],
             [
              0.4444444444444444,
              "#bd3786"
             ],
             [
              0.5555555555555556,
              "#d8576b"
             ],
             [
              0.6666666666666666,
              "#ed7953"
             ],
             [
              0.7777777777777778,
              "#fb9f3a"
             ],
             [
              0.8888888888888888,
              "#fdca26"
             ],
             [
              1,
              "#f0f921"
             ]
            ],
            "type": "histogram2dcontour"
           }
          ],
          "mesh3d": [
           {
            "colorbar": {
             "outlinewidth": 0,
             "ticks": ""
            },
            "type": "mesh3d"
           }
          ],
          "parcoords": [
           {
            "line": {
             "colorbar": {
              "outlinewidth": 0,
              "ticks": ""
             }
            },
            "type": "parcoords"
           }
          ],
          "pie": [
           {
            "automargin": true,
            "type": "pie"
           }
          ],
          "scatter": [
           {
            "fillpattern": {
             "fillmode": "overlay",
             "size": 10,
             "solidity": 0.2
            },
            "type": "scatter"
           }
          ],
          "scatter3d": [
           {
            "line": {
             "colorbar": {
              "outlinewidth": 0,
              "ticks": ""
             }
            },
            "marker": {
             "colorbar": {
              "outlinewidth": 0,
              "ticks": ""
             }
            },
            "type": "scatter3d"
           }
          ],
          "scattercarpet": [
           {
            "marker": {
             "colorbar": {
              "outlinewidth": 0,
              "ticks": ""
             }
            },
            "type": "scattercarpet"
           }
          ],
          "scattergeo": [
           {
            "marker": {
             "colorbar": {
              "outlinewidth": 0,
              "ticks": ""
             }
            },
            "type": "scattergeo"
           }
          ],
          "scattergl": [
           {
            "marker": {
             "colorbar": {
              "outlinewidth": 0,
              "ticks": ""
             }
            },
            "type": "scattergl"
           }
          ],
          "scattermapbox": [
           {
            "marker": {
             "colorbar": {
              "outlinewidth": 0,
              "ticks": ""
             }
            },
            "type": "scattermapbox"
           }
          ],
          "scatterpolar": [
           {
            "marker": {
             "colorbar": {
              "outlinewidth": 0,
              "ticks": ""
             }
            },
            "type": "scatterpolar"
           }
          ],
          "scatterpolargl": [
           {
            "marker": {
             "colorbar": {
              "outlinewidth": 0,
              "ticks": ""
             }
            },
            "type": "scatterpolargl"
           }
          ],
          "scatterternary": [
           {
            "marker": {
             "colorbar": {
              "outlinewidth": 0,
              "ticks": ""
             }
            },
            "type": "scatterternary"
           }
          ],
          "surface": [
           {
            "colorbar": {
             "outlinewidth": 0,
             "ticks": ""
            },
            "colorscale": [
             [
              0,
              "#0d0887"
             ],
             [
              0.1111111111111111,
              "#46039f"
             ],
             [
              0.2222222222222222,
              "#7201a8"
             ],
             [
              0.3333333333333333,
              "#9c179e"
             ],
             [
              0.4444444444444444,
              "#bd3786"
             ],
             [
              0.5555555555555556,
              "#d8576b"
             ],
             [
              0.6666666666666666,
              "#ed7953"
             ],
             [
              0.7777777777777778,
              "#fb9f3a"
             ],
             [
              0.8888888888888888,
              "#fdca26"
             ],
             [
              1,
              "#f0f921"
             ]
            ],
            "type": "surface"
           }
          ],
          "table": [
           {
            "cells": {
             "fill": {
              "color": "#EBF0F8"
             },
             "line": {
              "color": "white"
             }
            },
            "header": {
             "fill": {
              "color": "#C8D4E3"
             },
             "line": {
              "color": "white"
             }
            },
            "type": "table"
           }
          ]
         },
         "layout": {
          "annotationdefaults": {
           "arrowcolor": "#2a3f5f",
           "arrowhead": 0,
           "arrowwidth": 1
          },
          "autotypenumbers": "strict",
          "coloraxis": {
           "colorbar": {
            "outlinewidth": 0,
            "ticks": ""
           }
          },
          "colorscale": {
           "diverging": [
            [
             0,
             "#8e0152"
            ],
            [
             0.1,
             "#c51b7d"
            ],
            [
             0.2,
             "#de77ae"
            ],
            [
             0.3,
             "#f1b6da"
            ],
            [
             0.4,
             "#fde0ef"
            ],
            [
             0.5,
             "#f7f7f7"
            ],
            [
             0.6,
             "#e6f5d0"
            ],
            [
             0.7,
             "#b8e186"
            ],
            [
             0.8,
             "#7fbc41"
            ],
            [
             0.9,
             "#4d9221"
            ],
            [
             1,
             "#276419"
            ]
           ],
           "sequential": [
            [
             0,
             "#0d0887"
            ],
            [
             0.1111111111111111,
             "#46039f"
            ],
            [
             0.2222222222222222,
             "#7201a8"
            ],
            [
             0.3333333333333333,
             "#9c179e"
            ],
            [
             0.4444444444444444,
             "#bd3786"
            ],
            [
             0.5555555555555556,
             "#d8576b"
            ],
            [
             0.6666666666666666,
             "#ed7953"
            ],
            [
             0.7777777777777778,
             "#fb9f3a"
            ],
            [
             0.8888888888888888,
             "#fdca26"
            ],
            [
             1,
             "#f0f921"
            ]
           ],
           "sequentialminus": [
            [
             0,
             "#0d0887"
            ],
            [
             0.1111111111111111,
             "#46039f"
            ],
            [
             0.2222222222222222,
             "#7201a8"
            ],
            [
             0.3333333333333333,
             "#9c179e"
            ],
            [
             0.4444444444444444,
             "#bd3786"
            ],
            [
             0.5555555555555556,
             "#d8576b"
            ],
            [
             0.6666666666666666,
             "#ed7953"
            ],
            [
             0.7777777777777778,
             "#fb9f3a"
            ],
            [
             0.8888888888888888,
             "#fdca26"
            ],
            [
             1,
             "#f0f921"
            ]
           ]
          },
          "colorway": [
           "#636efa",
           "#EF553B",
           "#00cc96",
           "#ab63fa",
           "#FFA15A",
           "#19d3f3",
           "#FF6692",
           "#B6E880",
           "#FF97FF",
           "#FECB52"
          ],
          "font": {
           "color": "#2a3f5f"
          },
          "geo": {
           "bgcolor": "white",
           "lakecolor": "white",
           "landcolor": "#E5ECF6",
           "showlakes": true,
           "showland": true,
           "subunitcolor": "white"
          },
          "hoverlabel": {
           "align": "left"
          },
          "hovermode": "closest",
          "mapbox": {
           "style": "light"
          },
          "paper_bgcolor": "white",
          "plot_bgcolor": "#E5ECF6",
          "polar": {
           "angularaxis": {
            "gridcolor": "white",
            "linecolor": "white",
            "ticks": ""
           },
           "bgcolor": "#E5ECF6",
           "radialaxis": {
            "gridcolor": "white",
            "linecolor": "white",
            "ticks": ""
           }
          },
          "scene": {
           "xaxis": {
            "backgroundcolor": "#E5ECF6",
            "gridcolor": "white",
            "gridwidth": 2,
            "linecolor": "white",
            "showbackground": true,
            "ticks": "",
            "zerolinecolor": "white"
           },
           "yaxis": {
            "backgroundcolor": "#E5ECF6",
            "gridcolor": "white",
            "gridwidth": 2,
            "linecolor": "white",
            "showbackground": true,
            "ticks": "",
            "zerolinecolor": "white"
           },
           "zaxis": {
            "backgroundcolor": "#E5ECF6",
            "gridcolor": "white",
            "gridwidth": 2,
            "linecolor": "white",
            "showbackground": true,
            "ticks": "",
            "zerolinecolor": "white"
           }
          },
          "shapedefaults": {
           "line": {
            "color": "#2a3f5f"
           }
          },
          "ternary": {
           "aaxis": {
            "gridcolor": "white",
            "linecolor": "white",
            "ticks": ""
           },
           "baxis": {
            "gridcolor": "white",
            "linecolor": "white",
            "ticks": ""
           },
           "bgcolor": "#E5ECF6",
           "caxis": {
            "gridcolor": "white",
            "linecolor": "white",
            "ticks": ""
           }
          },
          "title": {
           "x": 0.05
          },
          "xaxis": {
           "automargin": true,
           "gridcolor": "white",
           "linecolor": "white",
           "ticks": "",
           "title": {
            "standoff": 15
           },
           "zerolinecolor": "white",
           "zerolinewidth": 2
          },
          "yaxis": {
           "automargin": true,
           "gridcolor": "white",
           "linecolor": "white",
           "ticks": "",
           "title": {
            "standoff": 15
           },
           "zerolinecolor": "white",
           "zerolinewidth": 2
          }
         }
        },
        "xaxis": {
         "anchor": "y",
         "domain": [
          0,
          1
         ],
         "title": {
          "text": "지역구분"
         }
        },
        "yaxis": {
         "anchor": "x",
         "domain": [
          0,
          1
         ],
         "title": {
          "text": "대장금액(원)"
         }
        }
       }
      }
     },
     "metadata": {},
     "output_type": "display_data"
    }
   ],
   "source": [
    "fig6_1 = px.box(q_land,x=q_land['지역구분'],y=q_land['대장금액(원)'])\n",
    "fig6_1.show()"
   ]
  },
  {
   "cell_type": "code",
   "execution_count": 128,
   "metadata": {},
   "outputs": [
    {
     "data": {
      "application/vnd.plotly.v1+json": {
       "config": {
        "plotlyServerURL": "https://plot.ly"
       },
       "data": [
        {
         "domain": {
          "x": [
           0,
           1
          ],
          "y": [
           0,
           1
          ]
         },
         "hovertemplate": "지역구분=%{label}<br>대장면적(제곱미터)=%{value}<extra></extra>",
         "labels": [
          "서울특별시",
          "서울특별시",
          "서울특별시",
          "서울특별시",
          "서울특별시",
          "서울특별시",
          "서울특별시",
          "서울특별시",
          "서울특별시",
          "서울특별시",
          "서울특별시",
          "서울특별시",
          "서울특별시",
          "서울특별시",
          "서울특별시",
          "서울특별시",
          "서울특별시",
          "서울특별시",
          "서울특별시",
          "서울특별시",
          "서울특별시",
          "서울특별시",
          "서울특별시",
          "서울특별시",
          "서울특별시",
          "서울특별시",
          "서울특별시",
          "서울특별시",
          "서울특별시",
          "서울특별시",
          "서울특별시",
          "서울특별시",
          "서울특별시",
          "서울특별시",
          "서울특별시",
          "서울특별시",
          "서울특별시",
          "서울특별시",
          "서울특별시",
          "서울특별시",
          "서울특별시",
          "서울특별시",
          "서울특별시",
          "서울특별시",
          "서울특별시",
          "서울특별시",
          "서울특별시",
          "서울특별시",
          "서울특별시",
          "서울특별시",
          "서울특별시",
          "서울특별시",
          "서울특별시",
          "서울특별시",
          "서울특별시",
          "서울특별시",
          "서울특별시",
          "서울특별시",
          "서울특별시",
          "서울특별시",
          "서울특별시",
          "서울특별시",
          "서울특별시",
          "서울특별시",
          "서울특별시",
          "서울특별시",
          "서울특별시",
          "서울특별시",
          "서울특별시",
          "서울특별시",
          "서울특별시",
          "서울특별시",
          "서울특별시",
          "서울특별시",
          "서울특별시",
          "서울특별시",
          "서울특별시",
          "서울특별시",
          "서울특별시",
          "서울특별시",
          "서울특별시",
          "서울특별시",
          "서울특별시",
          "서울특별시",
          "서울특별시",
          "서울특별시",
          "서울특별시",
          "서울특별시",
          "서울특별시",
          "서울특별시",
          "서울특별시",
          "서울특별시",
          "서울특별시",
          "서울특별시",
          "서울특별시",
          "서울특별시",
          "서울특별시",
          "서울특별시",
          "서울특별시",
          "서울특별시",
          "서울특별시",
          "서울특별시",
          "서울특별시",
          "서울특별시",
          "서울특별시",
          "서울특별시",
          "서울특별시",
          "서울특별시",
          "서울특별시",
          "서울특별시",
          "서울특별시",
          "서울특별시",
          "서울특별시",
          "서울특별시",
          "서울특별시",
          "서울특별시",
          "서울특별시",
          "서울특별시",
          "서울특별시",
          "서울특별시",
          "서울특별시",
          "서울특별시",
          "서울특별시",
          "서울특별시",
          "서울특별시",
          "서울특별시",
          "서울특별시",
          "서울특별시",
          "서울특별시",
          "서울특별시",
          "서울특별시",
          "서울특별시",
          "서울특별시",
          "서울특별시",
          "서울특별시",
          "서울특별시",
          "서울특별시",
          "서울특별시",
          "서울특별시",
          "서울특별시",
          "서울특별시",
          "서울특별시",
          "서울특별시",
          "서울특별시",
          "서울특별시",
          "서울특별시",
          "서울특별시",
          "서울특별시",
          "서울특별시",
          "서울특별시",
          "서울특별시",
          "서울특별시",
          "서울특별시",
          "서울특별시",
          "서울특별시",
          "서울특별시",
          "서울특별시",
          "서울특별시",
          "서울특별시",
          "서울특별시",
          "서울특별시",
          "서울특별시",
          "서울특별시",
          "서울특별시",
          "서울특별시",
          "서울특별시",
          "서울특별시",
          "서울특별시",
          "서울특별시",
          "서울특별시",
          "서울특별시",
          "서울특별시",
          "서울특별시",
          "서울특별시",
          "서울특별시",
          "서울특별시",
          "서울특별시",
          "서울특별시",
          "서울특별시",
          "서울특별시",
          "서울특별시",
          "서울특별시",
          "서울특별시",
          "서울특별시",
          "서울특별시",
          "서울특별시",
          "서울특별시",
          "서울특별시",
          "서울특별시",
          "서울특별시",
          "서울특별시",
          "서울특별시",
          "서울특별시",
          "서울특별시",
          "서울특별시",
          "서울특별시",
          "서울특별시",
          "서울특별시",
          "서울특별시",
          "서울특별시",
          "서울특별시",
          "서울특별시",
          "서울특별시",
          "서울특별시",
          "서울특별시",
          "서울특별시",
          "서울특별시",
          "서울특별시",
          "서울특별시",
          "서울특별시",
          "서울특별시",
          "서울특별시",
          "서울특별시",
          "서울특별시",
          "서울특별시",
          "서울특별시",
          "서울특별시",
          "서울특별시",
          "서울특별시",
          "서울특별시",
          "서울특별시",
          "서울특별시",
          "서울특별시",
          "서울특별시",
          "서울특별시",
          "서울특별시",
          "서울특별시",
          "서울특별시",
          "서울특별시",
          "서울특별시",
          "서울특별시",
          "서울특별시",
          "서울특별시",
          "부산광역시",
          "부산광역시",
          "부산광역시",
          "부산광역시",
          "부산광역시",
          "부산광역시",
          "부산광역시",
          "부산광역시",
          "부산광역시",
          "부산광역시",
          "대구광역시",
          "대구광역시",
          "대구광역시",
          "대구광역시",
          "대구광역시",
          "대구광역시",
          "광주광역시",
          "대전광역시",
          "대전광역시",
          "대전광역시",
          "대전광역시",
          "대전광역시",
          "대전광역시",
          "울산광역시",
          "경기도",
          "경기도",
          "경기도",
          "경기도",
          "경기도",
          "경기도",
          "경기도",
          "경기도",
          "경기도",
          "경기도",
          "경기도",
          "경기도",
          "경기도",
          "경기도",
          "경기도",
          "경기도",
          "경기도",
          "경기도",
          "경기도",
          "경기도",
          "경기도",
          "경기도",
          "경기도",
          "경기도",
          "경기도",
          "경기도",
          "경기도",
          "경기도",
          "경기도",
          "경기도",
          "경기도",
          "경기도",
          "경기도",
          "경기도",
          "경기도",
          "경기도",
          "경기도",
          "경기도",
          "경기도",
          "경기도",
          "경기도",
          "경기도",
          "경기도",
          "경기도",
          "경기도",
          "경기도",
          "경기도",
          "경기도",
          "경기도",
          "경기도",
          "경기도",
          "경기도",
          "경기도",
          "경기도",
          "경기도",
          "경기도",
          "경기도",
          "경기도",
          "경기도",
          "경기도",
          "경기도",
          "경기도",
          "경기도",
          "경기도",
          "경기도",
          "강원도",
          "강원도",
          "강원도",
          "강원도",
          "강원도",
          "강원도",
          "강원도",
          "강원도",
          "강원도",
          "강원도",
          "강원도",
          "강원도",
          "강원도",
          "강원도",
          "강원도",
          "강원도",
          "강원도",
          "강원도",
          "강원도",
          "강원도",
          "강원도",
          "강원도",
          "강원도",
          "강원도",
          "강원도",
          "강원도",
          "강원도",
          "강원도",
          "강원도",
          "강원도",
          "강원도",
          "강원도",
          "강원도",
          "강원도",
          "강원도",
          "강원도",
          "강원도",
          "강원도",
          "강원도",
          "강원도",
          "강원도",
          "강원도",
          "강원도",
          "강원도",
          "강원도",
          "강원도",
          "강원도",
          "강원도",
          "강원도",
          "강원도",
          "강원도",
          "강원도",
          "강원도",
          "강원도",
          "강원도",
          "강원도",
          "강원도",
          "강원도",
          "강원도",
          "강원도",
          "강원도",
          "강원도",
          "강원도",
          "강원도",
          "강원도",
          "강원도",
          "강원도",
          "강원도",
          "강원도",
          "강원도",
          "강원도",
          "강원도",
          "강원도",
          "충청북도",
          "충청북도",
          "충청북도",
          "충청북도",
          "충청북도",
          "충청남도",
          "충청남도",
          "충청남도",
          "충청남도",
          "충청남도",
          "충청남도",
          "충청남도",
          "충청남도",
          "충청남도",
          "충청남도",
          "충청남도",
          "충청남도",
          "충청남도",
          "충청남도",
          "충청남도",
          "충청남도",
          "충청남도",
          "충청남도",
          "전라북도",
          "전라북도",
          "전라북도",
          "전라북도",
          "전라북도",
          "전라북도",
          "전라북도",
          "전라북도",
          "전라북도",
          "전라북도",
          "전라북도",
          "전라북도",
          "전라북도",
          "전라북도",
          "전라남도",
          "전라남도",
          "전라남도",
          "전라남도",
          "전라남도",
          "전라남도",
          "전라남도",
          "전라남도",
          "전라남도",
          "경상북도",
          "경상북도",
          "경상북도",
          "경상북도",
          "경상북도",
          "경상북도",
          "경상북도",
          "경상북도",
          "경상북도",
          "경상북도",
          "경상북도",
          "경상북도",
          "경상북도",
          "경상북도",
          "경상북도",
          "경상북도",
          "경상북도",
          "경상북도",
          "경상북도",
          "경상북도",
          "경상북도",
          "경상남도",
          "경상남도",
          "경상남도",
          "경상남도",
          "경상남도",
          "경상남도",
          "경상남도",
          "경상남도",
          "경상남도",
          "경상남도",
          "경상남도",
          "경상남도",
          "경상남도",
          "경상남도",
          "경상남도",
          "경상남도",
          "경상남도",
          "경상남도",
          "경상남도",
          "경상남도",
          "경상남도",
          "경상남도",
          "경상남도",
          "경상남도",
          "경상남도",
          "경상남도",
          "경상남도",
          "경상남도",
          "경상남도",
          "경상남도",
          "경상남도",
          "제주특별자치도",
          "제주특별자치도",
          "제주특별자치도",
          "서울특별시",
          "인천광역시",
          "광주광역시",
          "광주광역시",
          "광주광역시",
          "경기도",
          "경기도",
          "경기도",
          "경기도",
          "경기도",
          "경기도",
          "경기도",
          "경기도",
          "경기도",
          "강원도",
          "강원도",
          "강원도",
          "강원도",
          "강원도",
          "강원도",
          "강원도",
          "강원도",
          "강원도",
          "강원도",
          "충청북도",
          "충청남도",
          "충청남도",
          "전라북도",
          "전라북도",
          "전라남도",
          "전라남도",
          "전라남도",
          "전라남도",
          "전라남도",
          "전라남도",
          "전라남도",
          "전라남도",
          "전라남도",
          "전라남도",
          "전라남도",
          "전라남도",
          "경상북도",
          "경상북도",
          "경상북도",
          "경상북도",
          "경상북도",
          "경상북도",
          "경상남도",
          "경상남도",
          "경상남도",
          "경상남도",
          "경상남도",
          "경상남도",
          "경상남도",
          "경상남도",
          "경상남도",
          "경상남도",
          "경상남도",
          "경상남도",
          "경상남도",
          "경상남도",
          "제주특별자치도",
          "서울특별시",
          "서울특별시",
          "서울특별시",
          "대구광역시",
          "대구광역시",
          "대구광역시",
          "대전광역시",
          "울산광역시",
          "울산광역시",
          "울산광역시",
          "경기도",
          "경기도",
          "경기도",
          "경기도",
          "경기도",
          "경기도",
          "경기도",
          "경기도",
          "경기도",
          "경기도",
          "경기도",
          "경기도",
          "경기도",
          "경기도",
          "경기도",
          "경기도",
          "경기도",
          "경기도",
          "경기도",
          "경기도",
          "경기도",
          "경기도",
          "경기도",
          "경기도",
          "경기도",
          "경기도",
          "경기도",
          "경기도",
          "경기도",
          "경기도",
          "경기도",
          "경기도",
          "경기도",
          "경기도",
          "경기도",
          "경기도",
          "경기도",
          "경기도",
          "경기도",
          "경기도",
          "경기도",
          "경기도",
          "경기도",
          "경기도",
          "경기도",
          "경기도",
          "경기도",
          "경기도",
          "경기도",
          "경기도",
          "경기도",
          "경기도",
          "경기도",
          "경기도",
          "경기도",
          "경기도",
          "경기도",
          "경기도",
          "경기도",
          "충청북도",
          "충청북도",
          "충청북도",
          "충청북도",
          "충청북도",
          "충청북도",
          "충청북도",
          "충청북도",
          "충청북도",
          "충청북도",
          "충청북도",
          "충청북도",
          "충청남도",
          "충청남도",
          "충청남도",
          "충청남도",
          "충청남도",
          "충청남도",
          "충청남도",
          "충청남도",
          "충청남도",
          "충청남도",
          "충청남도",
          "충청남도",
          "충청남도",
          "충청남도",
          "충청남도",
          "충청남도",
          "충청남도",
          "충청남도",
          "충청남도",
          "충청남도",
          "충청남도",
          "충청남도",
          "충청남도",
          "충청남도",
          "충청남도",
          "충청남도",
          "충청남도",
          "충청남도",
          "충청남도",
          "충청남도",
          "충청남도",
          "충청남도",
          "충청남도",
          "충청남도",
          "충청남도",
          "충청남도",
          "충청남도",
          "충청남도",
          "충청남도",
          "충청남도",
          "충청남도",
          "충청남도",
          "충청남도",
          "충청남도",
          "충청남도",
          "충청남도",
          "충청남도",
          "충청남도",
          "충청남도",
          "충청남도",
          "충청남도",
          "충청남도",
          "충청남도",
          "충청남도",
          "충청남도",
          "충청남도",
          "충청남도",
          "충청남도",
          "충청남도",
          "충청남도",
          "충청남도",
          "충청남도",
          "충청남도",
          "충청남도",
          "충청남도",
          "충청남도",
          "충청남도",
          "충청남도",
          "충청남도",
          "충청남도",
          "충청남도",
          "충청남도",
          "충청남도",
          "충청남도",
          "충청남도",
          "충청남도",
          "충청남도",
          "충청남도",
          "충청남도",
          "충청남도",
          "충청남도",
          "충청남도",
          "충청남도",
          "충청남도",
          "충청남도",
          "충청남도",
          "충청남도",
          "전라북도",
          "전라북도",
          "전라북도",
          "전라북도",
          "전라북도",
          "전라북도",
          "전라북도",
          "전라북도",
          "전라남도",
          "경상북도",
          "경상남도",
          "경상남도",
          "경상남도",
          "경상남도",
          "경상남도",
          "경상남도",
          "경상남도",
          "경상남도",
          "경상남도",
          "경상남도",
          "경상남도",
          "경상남도",
          "경상남도",
          "경상남도",
          "경상남도",
          "경상남도",
          "경상남도",
          "경상남도",
          "경상남도",
          "경상남도",
          "경상남도",
          "경상남도",
          "경상남도",
          "경상남도",
          "경상남도",
          "경상남도",
          "경상남도",
          "경상남도",
          "경상남도",
          "경상남도",
          "경상남도",
          "경상남도",
          "경상남도",
          "경상남도",
          "서울특별시",
          "서울특별시",
          "서울특별시",
          "서울특별시",
          "서울특별시",
          "서울특별시",
          "서울특별시",
          "서울특별시",
          "서울특별시",
          "서울특별시",
          "서울특별시",
          "부산광역시",
          "인천광역시",
          "인천광역시",
          "인천광역시",
          "인천광역시",
          "인천광역시",
          "인천광역시",
          "인천광역시",
          "대전광역시",
          "대전광역시",
          "대전광역시",
          "대전광역시",
          "대전광역시",
          "대전광역시",
          "대전광역시",
          "경기도",
          "경기도",
          "경기도",
          "경기도",
          "경기도",
          "경기도",
          "경기도",
          "경기도",
          "경기도",
          "경기도",
          "경기도",
          "경기도",
          "경기도",
          "경기도",
          "경기도",
          "경기도",
          "경기도",
          "경기도",
          "경기도",
          "경기도",
          "경기도",
          "경기도",
          "경기도",
          "경기도",
          "경기도",
          "경기도",
          "경기도",
          "경기도",
          "경기도",
          "경기도",
          "경기도",
          "경기도",
          "경기도",
          "경기도",
          "경기도",
          "경기도",
          "경기도",
          "경기도",
          "경기도",
          "경기도",
          "경기도",
          "경기도",
          "경기도",
          "경기도",
          "강원도",
          "강원도",
          "강원도",
          "강원도",
          "강원도",
          "강원도",
          "충청남도",
          "충청남도",
          "전라북도",
          "전라북도",
          "전라북도",
          "전라북도",
          "전라남도",
          "전라남도",
          "경상북도",
          "경상북도",
          "경상북도",
          "경상북도",
          "경상북도",
          "경상북도",
          "경상북도",
          "경상남도",
          "서울특별시",
          "서울특별시",
          "서울특별시",
          "인천광역시",
          "경기도",
          "경기도",
          "경기도",
          "경기도",
          "경기도",
          "경기도",
          "경기도",
          "강원도",
          "충청남도",
          "충청남도",
          "충청남도",
          "전라남도",
          "전라남도",
          "경상북도",
          "경상북도",
          "경상북도",
          "경상북도",
          "서울특별시",
          "부산광역시",
          "인천광역시",
          "인천광역시",
          "광주광역시",
          "울산광역시",
          "울산광역시",
          "울산광역시",
          "경기도",
          "경기도",
          "경기도",
          "경기도",
          "경기도",
          "경기도",
          "경기도",
          "경기도",
          "경기도",
          "충청북도",
          "충청북도",
          "충청북도",
          "충청북도",
          "충청북도",
          "충청북도",
          "충청남도",
          "충청남도",
          "충청남도",
          "충청남도",
          "전라남도",
          "전라남도",
          "전라남도",
          "전라남도",
          "전라남도",
          "전라남도",
          "전라남도",
          "전라남도",
          "경상북도",
          "경상북도",
          "경상남도",
          "경상남도",
          "경상남도",
          "경상남도",
          "경상남도",
          "경상남도",
          "경상남도",
          "경상남도",
          "경상남도",
          "경상남도",
          "경상남도",
          "강원특별자치도",
          "강원특별자치도",
          "강원특별자치도",
          "강원특별자치도",
          "강원특별자치도",
          "강원특별자치도",
          "강원특별자치도",
          "강원특별자치도",
          "강원특별자치도",
          "강원특별자치도",
          "강원특별자치도",
          "강원특별자치도",
          "강원특별자치도",
          "강원특별자치도",
          "강원특별자치도",
          "강원특별자치도"
         ],
         "legendgroup": "",
         "name": "",
         "showlegend": true,
         "type": "pie",
         "values": [
          4,
          3,
          410,
          7937,
          101,
          456,
          596,
          2,
          57,
          86,
          163,
          26,
          165,
          3051,
          2,
          174,
          149,
          473,
          176,
          2123,
          3932,
          60,
          317,
          1524,
          1081,
          1577,
          112,
          82,
          202,
          463,
          55,
          93,
          132,
          7,
          81,
          153,
          4750,
          69,
          126,
          72,
          274,
          166,
          232,
          216,
          4869,
          13,
          786,
          241,
          13,
          371,
          433,
          292,
          33,
          278,
          118,
          7263,
          56,
          109,
          290,
          496,
          19736,
          96,
          8554,
          1750,
          298,
          906,
          973,
          9818,
          25587,
          331,
          18050,
          770,
          192,
          36,
          144,
          123,
          27,
          110,
          4760,
          595,
          2654,
          661,
          99,
          466,
          1388,
          1117,
          4028,
          1256,
          264,
          645,
          56,
          1626,
          776,
          22158,
          1912,
          99,
          1435,
          165,
          1144,
          3885,
          136,
          403,
          301,
          6446,
          244364,
          1587,
          893,
          2678,
          595,
          2545,
          43438,
          1686,
          15967,
          231,
          3967,
          6545,
          1612459,
          2182,
          166,
          6830,
          36,
          132,
          89,
          1815,
          3,
          13,
          222,
          2,
          78,
          23,
          337,
          60,
          6,
          114,
          194,
          3,
          1246,
          8,
          14,
          69,
          73,
          119,
          93,
          70,
          94,
          327,
          286,
          235,
          439,
          225,
          83,
          6556,
          306,
          140,
          119,
          182,
          2129,
          1605,
          158,
          141,
          33,
          1095,
          607,
          4,
          3,
          1454,
          510,
          125,
          253,
          103,
          6,
          80,
          250,
          343,
          323,
          121,
          180,
          49,
          148,
          30,
          99,
          79,
          150,
          13,
          127,
          372,
          3,
          101,
          21422,
          516,
          493,
          152,
          619,
          1699,
          1713,
          290,
          84,
          498,
          604,
          201,
          808,
          490,
          79,
          217,
          116,
          297,
          133,
          265,
          327,
          373,
          2325,
          2429,
          2294,
          198,
          163,
          321,
          128,
          11,
          240,
          833,
          25,
          200,
          156,
          1357,
          172,
          329,
          300,
          412,
          234,
          390,
          500,
          170,
          265,
          15,
          3,
          9,
          8,
          7,
          73,
          5,
          138,
          532,
          12,
          9,
          10,
          364,
          307,
          1856,
          266,
          16,
          6,
          12,
          10,
          3,
          132,
          214,
          127,
          195,
          711,
          192,
          953954,
          76463,
          8331,
          1388,
          496,
          2380,
          2380,
          373985,
          30976,
          53,
          61,
          186,
          528,
          284,
          68,
          109,
          18,
          9,
          23,
          17,
          35,
          8,
          63,
          1,
          34,
          93,
          104,
          8,
          3,
          9,
          82,
          134,
          17,
          8,
          10,
          27,
          107,
          3,
          28,
          18,
          4,
          29,
          27,
          52,
          61,
          3,
          17,
          38,
          7,
          652,
          222,
          261,
          426,
          727,
          93,
          235,
          129,
          53,
          172,
          569,
          311,
          225,
          1706,
          7220,
          585,
          660,
          552,
          321,
          3372,
          3669,
          28,
          1889,
          270,
          2627,
          150,
          617,
          364,
          985,
          99,
          893,
          876,
          107,
          44,
          95,
          483,
          146,
          151,
          734,
          19,
          50,
          1779,
          737,
          476,
          694,
          17,
          299,
          240,
          3372,
          480,
          124,
          764,
          235,
          49,
          2479,
          298,
          595,
          992,
          2281,
          4959,
          1587,
          1983,
          99,
          595,
          298,
          893,
          397,
          270,
          688,
          572,
          40,
          493,
          1603,
          1537,
          443,
          886,
          430,
          20,
          893,
          198,
          43,
          2429,
          239,
          258,
          76,
          238,
          130,
          331,
          49,
          36,
          1868,
          311,
          367,
          183,
          112,
          310,
          2871,
          400,
          377,
          2459,
          2126,
          115,
          22,
          168,
          183,
          2308,
          672,
          447,
          884,
          53,
          7,
          17,
          691,
          96,
          174,
          603,
          440,
          472,
          54,
          856,
          231,
          871,
          13,
          17,
          165,
          16,
          178,
          1111,
          637,
          113,
          329,
          94,
          370,
          717,
          323,
          503,
          453,
          73,
          568,
          30,
          193,
          3784,
          1177,
          300,
          762,
          2094,
          172,
          19,
          145,
          3927,
          76,
          104,
          462,
          30,
          8,
          14,
          44,
          44,
          42,
          300,
          29,
          5,
          19,
          24,
          27,
          594,
          66,
          41,
          788,
          700,
          221,
          707,
          73,
          698,
          18,
          5673,
          4116,
          50,
          76,
          27,
          47,
          9,
          137,
          1382,
          73,
          14,
          38,
          56,
          7,
          224,
          109,
          40,
          754,
          488,
          44,
          224,
          139,
          328,
          150,
          79,
          33,
          110,
          73,
          78,
          145,
          36,
          1118,
          385,
          71,
          125,
          493,
          9,
          679002,
          168,
          78,
          109,
          187,
          100,
          7,
          155,
          58,
          17,
          109,
          140,
          28,
          32,
          120,
          141,
          70,
          131,
          360,
          1217,
          105,
          73,
          3,
          36,
          5,
          6,
          9,
          11,
          52,
          112,
          46,
          185,
          17,
          75,
          8,
          69,
          86,
          5,
          40,
          16,
          166,
          1,
          177,
          5804,
          25,
          7,
          40,
          3451,
          3002,
          45,
          58,
          251527,
          248,
          139,
          136,
          76,
          46,
          258,
          218,
          119,
          19674,
          7439,
          68,
          47525,
          2134,
          125,
          7206,
          677,
          22945,
          336,
          224,
          93,
          116,
          5169,
          872,
          1275,
          53963,
          94,
          40,
          24,
          674,
          20,
          210,
          394,
          189,
          72,
          11,
          3,
          960,
          13,
          40,
          48,
          390,
          5,
          90,
          63,
          8,
          8,
          286,
          998,
          22,
          41,
          35,
          130,
          77,
          161,
          12993,
          225,
          487,
          8096,
          6964,
          691,
          1808,
          136,
          972,
          555,
          271,
          373,
          6783,
          6783,
          2801,
          1364,
          81,
          108,
          1760,
          785,
          2275,
          1363,
          485,
          1,
          1,
          2,
          1,
          1,
          1,
          1,
          1,
          2,
          1,
          1,
          3,
          1,
          31,
          1,
          1,
          1,
          1,
          1,
          1,
          1,
          1,
          1,
          1,
          1,
          1,
          1,
          1,
          1,
          1,
          1,
          1,
          1,
          1,
          1,
          1,
          1,
          1,
          132,
          350,
          365,
          182,
          432,
          30,
          1640,
          801,
          476,
          74,
          348,
          3489,
          75,
          102,
          50,
          24,
          152,
          274,
          199,
          3728,
          189,
          68,
          21,
          4833,
          2,
          430,
          1526,
          530,
          572,
          248,
          88,
          94,
          354,
          33,
          242,
          99,
          36,
          65,
          86,
          242,
          288,
          26,
          257,
          1308,
          1028,
          49,
          298,
          109,
          15,
          402,
          1295,
          69,
          180,
          101,
          87,
          105,
          112,
          84,
          64,
          3289,
          67,
          75,
          37,
          251,
          115,
          388,
          192,
          775,
          130,
          131,
          35,
          298,
          86,
          83,
          132,
          32,
          176,
          29,
          555,
          76,
          103,
          160,
          6723,
          777,
          22,
          28,
          22,
          9,
          59862,
          9121,
          765,
          228,
          80627,
          136,
          125,
          59,
          99,
          521,
          862,
          390,
          80,
          5,
          2,
          48,
          40,
          27,
          140,
          4,
          9,
          115,
          257,
          1,
          1,
          325,
          3,
          127,
          78,
          47,
          312,
          9,
          33,
          660,
          120,
          57,
          100,
          13,
          661,
          84,
          13,
          454,
          157,
          207,
          32,
          369,
          20,
          9,
          231,
          6,
          139,
          481,
          24,
          80,
          155,
          157,
          7,
          66,
          166,
          90,
          455,
          280,
          712,
          204,
          84,
          19,
          14,
          2,
          687,
          9,
          21,
          108,
          857,
          455,
          264,
          192,
          33,
          522,
          16,
          52,
          179,
          483,
          294,
          432,
          176,
          49,
          58384,
          8393,
          1167,
          122,
          132,
          50,
          62,
          13,
          97,
          12,
          38,
          12,
          73,
          152,
          372,
          519,
          51,
          10,
          2,
          53,
          37,
          42643,
          4,
          29,
          229,
          28,
          3,
          30,
          1,
          330,
          63,
          165,
          71,
          509,
          1833,
          359,
          291,
          1390,
          137,
          39,
          529,
          121,
          175,
          76,
          40,
          241,
          218,
          95,
          152,
          14,
          608,
          1015,
          1378,
          138,
          35,
          684,
          324,
          370,
          13789,
          525,
          523,
          2686,
          622,
          2775,
          1157,
          150,
          1621,
          119,
          143,
          185,
          407,
          15,
          8,
          102,
          180,
          160,
          42,
          514,
          111,
          101,
          37,
          345,
          216,
          454,
          30
         ]
        }
       ],
       "layout": {
        "legend": {
         "tracegroupgap": 0
        },
        "margin": {
         "t": 60
        },
        "template": {
         "data": {
          "bar": [
           {
            "error_x": {
             "color": "#2a3f5f"
            },
            "error_y": {
             "color": "#2a3f5f"
            },
            "marker": {
             "line": {
              "color": "#E5ECF6",
              "width": 0.5
             },
             "pattern": {
              "fillmode": "overlay",
              "size": 10,
              "solidity": 0.2
             }
            },
            "type": "bar"
           }
          ],
          "barpolar": [
           {
            "marker": {
             "line": {
              "color": "#E5ECF6",
              "width": 0.5
             },
             "pattern": {
              "fillmode": "overlay",
              "size": 10,
              "solidity": 0.2
             }
            },
            "type": "barpolar"
           }
          ],
          "carpet": [
           {
            "aaxis": {
             "endlinecolor": "#2a3f5f",
             "gridcolor": "white",
             "linecolor": "white",
             "minorgridcolor": "white",
             "startlinecolor": "#2a3f5f"
            },
            "baxis": {
             "endlinecolor": "#2a3f5f",
             "gridcolor": "white",
             "linecolor": "white",
             "minorgridcolor": "white",
             "startlinecolor": "#2a3f5f"
            },
            "type": "carpet"
           }
          ],
          "choropleth": [
           {
            "colorbar": {
             "outlinewidth": 0,
             "ticks": ""
            },
            "type": "choropleth"
           }
          ],
          "contour": [
           {
            "colorbar": {
             "outlinewidth": 0,
             "ticks": ""
            },
            "colorscale": [
             [
              0,
              "#0d0887"
             ],
             [
              0.1111111111111111,
              "#46039f"
             ],
             [
              0.2222222222222222,
              "#7201a8"
             ],
             [
              0.3333333333333333,
              "#9c179e"
             ],
             [
              0.4444444444444444,
              "#bd3786"
             ],
             [
              0.5555555555555556,
              "#d8576b"
             ],
             [
              0.6666666666666666,
              "#ed7953"
             ],
             [
              0.7777777777777778,
              "#fb9f3a"
             ],
             [
              0.8888888888888888,
              "#fdca26"
             ],
             [
              1,
              "#f0f921"
             ]
            ],
            "type": "contour"
           }
          ],
          "contourcarpet": [
           {
            "colorbar": {
             "outlinewidth": 0,
             "ticks": ""
            },
            "type": "contourcarpet"
           }
          ],
          "heatmap": [
           {
            "colorbar": {
             "outlinewidth": 0,
             "ticks": ""
            },
            "colorscale": [
             [
              0,
              "#0d0887"
             ],
             [
              0.1111111111111111,
              "#46039f"
             ],
             [
              0.2222222222222222,
              "#7201a8"
             ],
             [
              0.3333333333333333,
              "#9c179e"
             ],
             [
              0.4444444444444444,
              "#bd3786"
             ],
             [
              0.5555555555555556,
              "#d8576b"
             ],
             [
              0.6666666666666666,
              "#ed7953"
             ],
             [
              0.7777777777777778,
              "#fb9f3a"
             ],
             [
              0.8888888888888888,
              "#fdca26"
             ],
             [
              1,
              "#f0f921"
             ]
            ],
            "type": "heatmap"
           }
          ],
          "heatmapgl": [
           {
            "colorbar": {
             "outlinewidth": 0,
             "ticks": ""
            },
            "colorscale": [
             [
              0,
              "#0d0887"
             ],
             [
              0.1111111111111111,
              "#46039f"
             ],
             [
              0.2222222222222222,
              "#7201a8"
             ],
             [
              0.3333333333333333,
              "#9c179e"
             ],
             [
              0.4444444444444444,
              "#bd3786"
             ],
             [
              0.5555555555555556,
              "#d8576b"
             ],
             [
              0.6666666666666666,
              "#ed7953"
             ],
             [
              0.7777777777777778,
              "#fb9f3a"
             ],
             [
              0.8888888888888888,
              "#fdca26"
             ],
             [
              1,
              "#f0f921"
             ]
            ],
            "type": "heatmapgl"
           }
          ],
          "histogram": [
           {
            "marker": {
             "pattern": {
              "fillmode": "overlay",
              "size": 10,
              "solidity": 0.2
             }
            },
            "type": "histogram"
           }
          ],
          "histogram2d": [
           {
            "colorbar": {
             "outlinewidth": 0,
             "ticks": ""
            },
            "colorscale": [
             [
              0,
              "#0d0887"
             ],
             [
              0.1111111111111111,
              "#46039f"
             ],
             [
              0.2222222222222222,
              "#7201a8"
             ],
             [
              0.3333333333333333,
              "#9c179e"
             ],
             [
              0.4444444444444444,
              "#bd3786"
             ],
             [
              0.5555555555555556,
              "#d8576b"
             ],
             [
              0.6666666666666666,
              "#ed7953"
             ],
             [
              0.7777777777777778,
              "#fb9f3a"
             ],
             [
              0.8888888888888888,
              "#fdca26"
             ],
             [
              1,
              "#f0f921"
             ]
            ],
            "type": "histogram2d"
           }
          ],
          "histogram2dcontour": [
           {
            "colorbar": {
             "outlinewidth": 0,
             "ticks": ""
            },
            "colorscale": [
             [
              0,
              "#0d0887"
             ],
             [
              0.1111111111111111,
              "#46039f"
             ],
             [
              0.2222222222222222,
              "#7201a8"
             ],
             [
              0.3333333333333333,
              "#9c179e"
             ],
             [
              0.4444444444444444,
              "#bd3786"
             ],
             [
              0.5555555555555556,
              "#d8576b"
             ],
             [
              0.6666666666666666,
              "#ed7953"
             ],
             [
              0.7777777777777778,
              "#fb9f3a"
             ],
             [
              0.8888888888888888,
              "#fdca26"
             ],
             [
              1,
              "#f0f921"
             ]
            ],
            "type": "histogram2dcontour"
           }
          ],
          "mesh3d": [
           {
            "colorbar": {
             "outlinewidth": 0,
             "ticks": ""
            },
            "type": "mesh3d"
           }
          ],
          "parcoords": [
           {
            "line": {
             "colorbar": {
              "outlinewidth": 0,
              "ticks": ""
             }
            },
            "type": "parcoords"
           }
          ],
          "pie": [
           {
            "automargin": true,
            "type": "pie"
           }
          ],
          "scatter": [
           {
            "fillpattern": {
             "fillmode": "overlay",
             "size": 10,
             "solidity": 0.2
            },
            "type": "scatter"
           }
          ],
          "scatter3d": [
           {
            "line": {
             "colorbar": {
              "outlinewidth": 0,
              "ticks": ""
             }
            },
            "marker": {
             "colorbar": {
              "outlinewidth": 0,
              "ticks": ""
             }
            },
            "type": "scatter3d"
           }
          ],
          "scattercarpet": [
           {
            "marker": {
             "colorbar": {
              "outlinewidth": 0,
              "ticks": ""
             }
            },
            "type": "scattercarpet"
           }
          ],
          "scattergeo": [
           {
            "marker": {
             "colorbar": {
              "outlinewidth": 0,
              "ticks": ""
             }
            },
            "type": "scattergeo"
           }
          ],
          "scattergl": [
           {
            "marker": {
             "colorbar": {
              "outlinewidth": 0,
              "ticks": ""
             }
            },
            "type": "scattergl"
           }
          ],
          "scattermapbox": [
           {
            "marker": {
             "colorbar": {
              "outlinewidth": 0,
              "ticks": ""
             }
            },
            "type": "scattermapbox"
           }
          ],
          "scatterpolar": [
           {
            "marker": {
             "colorbar": {
              "outlinewidth": 0,
              "ticks": ""
             }
            },
            "type": "scatterpolar"
           }
          ],
          "scatterpolargl": [
           {
            "marker": {
             "colorbar": {
              "outlinewidth": 0,
              "ticks": ""
             }
            },
            "type": "scatterpolargl"
           }
          ],
          "scatterternary": [
           {
            "marker": {
             "colorbar": {
              "outlinewidth": 0,
              "ticks": ""
             }
            },
            "type": "scatterternary"
           }
          ],
          "surface": [
           {
            "colorbar": {
             "outlinewidth": 0,
             "ticks": ""
            },
            "colorscale": [
             [
              0,
              "#0d0887"
             ],
             [
              0.1111111111111111,
              "#46039f"
             ],
             [
              0.2222222222222222,
              "#7201a8"
             ],
             [
              0.3333333333333333,
              "#9c179e"
             ],
             [
              0.4444444444444444,
              "#bd3786"
             ],
             [
              0.5555555555555556,
              "#d8576b"
             ],
             [
              0.6666666666666666,
              "#ed7953"
             ],
             [
              0.7777777777777778,
              "#fb9f3a"
             ],
             [
              0.8888888888888888,
              "#fdca26"
             ],
             [
              1,
              "#f0f921"
             ]
            ],
            "type": "surface"
           }
          ],
          "table": [
           {
            "cells": {
             "fill": {
              "color": "#EBF0F8"
             },
             "line": {
              "color": "white"
             }
            },
            "header": {
             "fill": {
              "color": "#C8D4E3"
             },
             "line": {
              "color": "white"
             }
            },
            "type": "table"
           }
          ]
         },
         "layout": {
          "annotationdefaults": {
           "arrowcolor": "#2a3f5f",
           "arrowhead": 0,
           "arrowwidth": 1
          },
          "autotypenumbers": "strict",
          "coloraxis": {
           "colorbar": {
            "outlinewidth": 0,
            "ticks": ""
           }
          },
          "colorscale": {
           "diverging": [
            [
             0,
             "#8e0152"
            ],
            [
             0.1,
             "#c51b7d"
            ],
            [
             0.2,
             "#de77ae"
            ],
            [
             0.3,
             "#f1b6da"
            ],
            [
             0.4,
             "#fde0ef"
            ],
            [
             0.5,
             "#f7f7f7"
            ],
            [
             0.6,
             "#e6f5d0"
            ],
            [
             0.7,
             "#b8e186"
            ],
            [
             0.8,
             "#7fbc41"
            ],
            [
             0.9,
             "#4d9221"
            ],
            [
             1,
             "#276419"
            ]
           ],
           "sequential": [
            [
             0,
             "#0d0887"
            ],
            [
             0.1111111111111111,
             "#46039f"
            ],
            [
             0.2222222222222222,
             "#7201a8"
            ],
            [
             0.3333333333333333,
             "#9c179e"
            ],
            [
             0.4444444444444444,
             "#bd3786"
            ],
            [
             0.5555555555555556,
             "#d8576b"
            ],
            [
             0.6666666666666666,
             "#ed7953"
            ],
            [
             0.7777777777777778,
             "#fb9f3a"
            ],
            [
             0.8888888888888888,
             "#fdca26"
            ],
            [
             1,
             "#f0f921"
            ]
           ],
           "sequentialminus": [
            [
             0,
             "#0d0887"
            ],
            [
             0.1111111111111111,
             "#46039f"
            ],
            [
             0.2222222222222222,
             "#7201a8"
            ],
            [
             0.3333333333333333,
             "#9c179e"
            ],
            [
             0.4444444444444444,
             "#bd3786"
            ],
            [
             0.5555555555555556,
             "#d8576b"
            ],
            [
             0.6666666666666666,
             "#ed7953"
            ],
            [
             0.7777777777777778,
             "#fb9f3a"
            ],
            [
             0.8888888888888888,
             "#fdca26"
            ],
            [
             1,
             "#f0f921"
            ]
           ]
          },
          "colorway": [
           "#636efa",
           "#EF553B",
           "#00cc96",
           "#ab63fa",
           "#FFA15A",
           "#19d3f3",
           "#FF6692",
           "#B6E880",
           "#FF97FF",
           "#FECB52"
          ],
          "font": {
           "color": "#2a3f5f"
          },
          "geo": {
           "bgcolor": "white",
           "lakecolor": "white",
           "landcolor": "#E5ECF6",
           "showlakes": true,
           "showland": true,
           "subunitcolor": "white"
          },
          "hoverlabel": {
           "align": "left"
          },
          "hovermode": "closest",
          "mapbox": {
           "style": "light"
          },
          "paper_bgcolor": "white",
          "plot_bgcolor": "#E5ECF6",
          "polar": {
           "angularaxis": {
            "gridcolor": "white",
            "linecolor": "white",
            "ticks": ""
           },
           "bgcolor": "#E5ECF6",
           "radialaxis": {
            "gridcolor": "white",
            "linecolor": "white",
            "ticks": ""
           }
          },
          "scene": {
           "xaxis": {
            "backgroundcolor": "#E5ECF6",
            "gridcolor": "white",
            "gridwidth": 2,
            "linecolor": "white",
            "showbackground": true,
            "ticks": "",
            "zerolinecolor": "white"
           },
           "yaxis": {
            "backgroundcolor": "#E5ECF6",
            "gridcolor": "white",
            "gridwidth": 2,
            "linecolor": "white",
            "showbackground": true,
            "ticks": "",
            "zerolinecolor": "white"
           },
           "zaxis": {
            "backgroundcolor": "#E5ECF6",
            "gridcolor": "white",
            "gridwidth": 2,
            "linecolor": "white",
            "showbackground": true,
            "ticks": "",
            "zerolinecolor": "white"
           }
          },
          "shapedefaults": {
           "line": {
            "color": "#2a3f5f"
           }
          },
          "ternary": {
           "aaxis": {
            "gridcolor": "white",
            "linecolor": "white",
            "ticks": ""
           },
           "baxis": {
            "gridcolor": "white",
            "linecolor": "white",
            "ticks": ""
           },
           "bgcolor": "#E5ECF6",
           "caxis": {
            "gridcolor": "white",
            "linecolor": "white",
            "ticks": ""
           }
          },
          "title": {
           "x": 0.05
          },
          "xaxis": {
           "automargin": true,
           "gridcolor": "white",
           "linecolor": "white",
           "ticks": "",
           "title": {
            "standoff": 15
           },
           "zerolinecolor": "white",
           "zerolinewidth": 2
          },
          "yaxis": {
           "automargin": true,
           "gridcolor": "white",
           "linecolor": "white",
           "ticks": "",
           "title": {
            "standoff": 15
           },
           "zerolinecolor": "white",
           "zerolinewidth": 2
          }
         }
        }
       }
      }
     },
     "metadata": {},
     "output_type": "display_data"
    }
   ],
   "source": [
    "fig7 = px.pie(q_land,names=q_land['지역구분'],values=q_land['대장면적(제곱미터)'])\n",
    "fig7.show()"
   ]
  },
  {
   "cell_type": "markdown",
   "metadata": {},
   "source": [
    "- 거래 금액이 가장 많이 일어난 날짜에 거래된 금액의 흐름은 82.5%의 압도적인 흐름으로 서울에서 거래가 일어남\n",
    "- 하지만 면적은 서울시는 46.4%에 불과함, 다른 지역에 비해서 서울시의 집값이 비싸다는 것을 한눈에 볼 수 있음"
   ]
  },
  {
   "cell_type": "markdown",
   "metadata": {},
   "source": [
    "- 전국 거래 데이터를 통해서 거래면적대비 땅값 추이를 확인하자"
   ]
  },
  {
   "cell_type": "code",
   "execution_count": 129,
   "metadata": {},
   "outputs": [
    {
     "name": "stdout",
     "output_type": "stream",
     "text": [
      "230843934671\n",
      "9275308\n",
      "[24888.00745711086, 2594.8987551584105, 294126.42799696035, 61328.6999034524, 51768.832690830786, 51295.56621781254, 45202.676451488565, 33763.34740127812, 384762.3197911243, 1192909.2862789729, 13345.953167206393, 161440.6353526156, 612013.2189236839, 182441.72834122405, 244436.86751684218, 34240.67090476918, 94293.63416583365, 870465.5005559089, 462051.1005007167]\n",
      "              면적대비 가격\n",
      "경기도      2.488801e+04\n",
      "강원도      2.594899e+03\n",
      "전라남도     2.941264e+05\n",
      "경상북도     6.132870e+04\n",
      "경상남도     5.176883e+04\n",
      "충청남도     5.129557e+04\n",
      "전라북도     4.520268e+04\n",
      "충청북도     3.376335e+04\n",
      "부산광역시    3.847623e+05\n",
      "인천광역시    1.192909e+06\n",
      "광주광역시    1.334595e+04\n",
      "강원특별자치도  1.614406e+05\n",
      "서울특별시    6.120132e+05\n",
      "울산광역시    1.824417e+05\n",
      "대구광역시    2.444369e+05\n",
      "대전광역시    3.424067e+04\n",
      "제주특별자치도  9.429363e+04\n",
      "전북특별자치도  8.704655e+05\n",
      "세종특별자치시  4.620511e+05\n"
     ]
    },
    {
     "data": {
      "application/vnd.plotly.v1+json": {
       "config": {
        "plotlyServerURL": "https://plot.ly"
       },
       "data": [
        {
         "alignmentgroup": "True",
         "hovertemplate": "variable=면적대비 가격<br>index=%{x}<br>value=%{y}<extra></extra>",
         "legendgroup": "면적대비 가격",
         "marker": {
          "color": "#636efa",
          "pattern": {
           "shape": ""
          }
         },
         "name": "면적대비 가격",
         "offsetgroup": "면적대비 가격",
         "orientation": "v",
         "showlegend": true,
         "textposition": "auto",
         "type": "bar",
         "x": [
          "경기도",
          "강원도",
          "전라남도",
          "경상북도",
          "경상남도",
          "충청남도",
          "전라북도",
          "충청북도",
          "부산광역시",
          "인천광역시",
          "광주광역시",
          "강원특별자치도",
          "서울특별시",
          "울산광역시",
          "대구광역시",
          "대전광역시",
          "제주특별자치도",
          "전북특별자치도",
          "세종특별자치시"
         ],
         "xaxis": "x",
         "y": [
          24888.00745711086,
          2594.8987551584105,
          294126.42799696035,
          61328.6999034524,
          51768.832690830786,
          51295.56621781254,
          45202.676451488565,
          33763.34740127812,
          384762.3197911243,
          1192909.2862789729,
          13345.953167206393,
          161440.6353526156,
          612013.2189236839,
          182441.72834122405,
          244436.86751684218,
          34240.67090476918,
          94293.63416583365,
          870465.5005559089,
          462051.1005007167
         ],
         "yaxis": "y"
        }
       ],
       "layout": {
        "barmode": "relative",
        "legend": {
         "title": {
          "text": "variable"
         },
         "tracegroupgap": 0
        },
        "margin": {
         "t": 60
        },
        "template": {
         "data": {
          "bar": [
           {
            "error_x": {
             "color": "#2a3f5f"
            },
            "error_y": {
             "color": "#2a3f5f"
            },
            "marker": {
             "line": {
              "color": "#E5ECF6",
              "width": 0.5
             },
             "pattern": {
              "fillmode": "overlay",
              "size": 10,
              "solidity": 0.2
             }
            },
            "type": "bar"
           }
          ],
          "barpolar": [
           {
            "marker": {
             "line": {
              "color": "#E5ECF6",
              "width": 0.5
             },
             "pattern": {
              "fillmode": "overlay",
              "size": 10,
              "solidity": 0.2
             }
            },
            "type": "barpolar"
           }
          ],
          "carpet": [
           {
            "aaxis": {
             "endlinecolor": "#2a3f5f",
             "gridcolor": "white",
             "linecolor": "white",
             "minorgridcolor": "white",
             "startlinecolor": "#2a3f5f"
            },
            "baxis": {
             "endlinecolor": "#2a3f5f",
             "gridcolor": "white",
             "linecolor": "white",
             "minorgridcolor": "white",
             "startlinecolor": "#2a3f5f"
            },
            "type": "carpet"
           }
          ],
          "choropleth": [
           {
            "colorbar": {
             "outlinewidth": 0,
             "ticks": ""
            },
            "type": "choropleth"
           }
          ],
          "contour": [
           {
            "colorbar": {
             "outlinewidth": 0,
             "ticks": ""
            },
            "colorscale": [
             [
              0,
              "#0d0887"
             ],
             [
              0.1111111111111111,
              "#46039f"
             ],
             [
              0.2222222222222222,
              "#7201a8"
             ],
             [
              0.3333333333333333,
              "#9c179e"
             ],
             [
              0.4444444444444444,
              "#bd3786"
             ],
             [
              0.5555555555555556,
              "#d8576b"
             ],
             [
              0.6666666666666666,
              "#ed7953"
             ],
             [
              0.7777777777777778,
              "#fb9f3a"
             ],
             [
              0.8888888888888888,
              "#fdca26"
             ],
             [
              1,
              "#f0f921"
             ]
            ],
            "type": "contour"
           }
          ],
          "contourcarpet": [
           {
            "colorbar": {
             "outlinewidth": 0,
             "ticks": ""
            },
            "type": "contourcarpet"
           }
          ],
          "heatmap": [
           {
            "colorbar": {
             "outlinewidth": 0,
             "ticks": ""
            },
            "colorscale": [
             [
              0,
              "#0d0887"
             ],
             [
              0.1111111111111111,
              "#46039f"
             ],
             [
              0.2222222222222222,
              "#7201a8"
             ],
             [
              0.3333333333333333,
              "#9c179e"
             ],
             [
              0.4444444444444444,
              "#bd3786"
             ],
             [
              0.5555555555555556,
              "#d8576b"
             ],
             [
              0.6666666666666666,
              "#ed7953"
             ],
             [
              0.7777777777777778,
              "#fb9f3a"
             ],
             [
              0.8888888888888888,
              "#fdca26"
             ],
             [
              1,
              "#f0f921"
             ]
            ],
            "type": "heatmap"
           }
          ],
          "heatmapgl": [
           {
            "colorbar": {
             "outlinewidth": 0,
             "ticks": ""
            },
            "colorscale": [
             [
              0,
              "#0d0887"
             ],
             [
              0.1111111111111111,
              "#46039f"
             ],
             [
              0.2222222222222222,
              "#7201a8"
             ],
             [
              0.3333333333333333,
              "#9c179e"
             ],
             [
              0.4444444444444444,
              "#bd3786"
             ],
             [
              0.5555555555555556,
              "#d8576b"
             ],
             [
              0.6666666666666666,
              "#ed7953"
             ],
             [
              0.7777777777777778,
              "#fb9f3a"
             ],
             [
              0.8888888888888888,
              "#fdca26"
             ],
             [
              1,
              "#f0f921"
             ]
            ],
            "type": "heatmapgl"
           }
          ],
          "histogram": [
           {
            "marker": {
             "pattern": {
              "fillmode": "overlay",
              "size": 10,
              "solidity": 0.2
             }
            },
            "type": "histogram"
           }
          ],
          "histogram2d": [
           {
            "colorbar": {
             "outlinewidth": 0,
             "ticks": ""
            },
            "colorscale": [
             [
              0,
              "#0d0887"
             ],
             [
              0.1111111111111111,
              "#46039f"
             ],
             [
              0.2222222222222222,
              "#7201a8"
             ],
             [
              0.3333333333333333,
              "#9c179e"
             ],
             [
              0.4444444444444444,
              "#bd3786"
             ],
             [
              0.5555555555555556,
              "#d8576b"
             ],
             [
              0.6666666666666666,
              "#ed7953"
             ],
             [
              0.7777777777777778,
              "#fb9f3a"
             ],
             [
              0.8888888888888888,
              "#fdca26"
             ],
             [
              1,
              "#f0f921"
             ]
            ],
            "type": "histogram2d"
           }
          ],
          "histogram2dcontour": [
           {
            "colorbar": {
             "outlinewidth": 0,
             "ticks": ""
            },
            "colorscale": [
             [
              0,
              "#0d0887"
             ],
             [
              0.1111111111111111,
              "#46039f"
             ],
             [
              0.2222222222222222,
              "#7201a8"
             ],
             [
              0.3333333333333333,
              "#9c179e"
             ],
             [
              0.4444444444444444,
              "#bd3786"
             ],
             [
              0.5555555555555556,
              "#d8576b"
             ],
             [
              0.6666666666666666,
              "#ed7953"
             ],
             [
              0.7777777777777778,
              "#fb9f3a"
             ],
             [
              0.8888888888888888,
              "#fdca26"
             ],
             [
              1,
              "#f0f921"
             ]
            ],
            "type": "histogram2dcontour"
           }
          ],
          "mesh3d": [
           {
            "colorbar": {
             "outlinewidth": 0,
             "ticks": ""
            },
            "type": "mesh3d"
           }
          ],
          "parcoords": [
           {
            "line": {
             "colorbar": {
              "outlinewidth": 0,
              "ticks": ""
             }
            },
            "type": "parcoords"
           }
          ],
          "pie": [
           {
            "automargin": true,
            "type": "pie"
           }
          ],
          "scatter": [
           {
            "fillpattern": {
             "fillmode": "overlay",
             "size": 10,
             "solidity": 0.2
            },
            "type": "scatter"
           }
          ],
          "scatter3d": [
           {
            "line": {
             "colorbar": {
              "outlinewidth": 0,
              "ticks": ""
             }
            },
            "marker": {
             "colorbar": {
              "outlinewidth": 0,
              "ticks": ""
             }
            },
            "type": "scatter3d"
           }
          ],
          "scattercarpet": [
           {
            "marker": {
             "colorbar": {
              "outlinewidth": 0,
              "ticks": ""
             }
            },
            "type": "scattercarpet"
           }
          ],
          "scattergeo": [
           {
            "marker": {
             "colorbar": {
              "outlinewidth": 0,
              "ticks": ""
             }
            },
            "type": "scattergeo"
           }
          ],
          "scattergl": [
           {
            "marker": {
             "colorbar": {
              "outlinewidth": 0,
              "ticks": ""
             }
            },
            "type": "scattergl"
           }
          ],
          "scattermapbox": [
           {
            "marker": {
             "colorbar": {
              "outlinewidth": 0,
              "ticks": ""
             }
            },
            "type": "scattermapbox"
           }
          ],
          "scatterpolar": [
           {
            "marker": {
             "colorbar": {
              "outlinewidth": 0,
              "ticks": ""
             }
            },
            "type": "scatterpolar"
           }
          ],
          "scatterpolargl": [
           {
            "marker": {
             "colorbar": {
              "outlinewidth": 0,
              "ticks": ""
             }
            },
            "type": "scatterpolargl"
           }
          ],
          "scatterternary": [
           {
            "marker": {
             "colorbar": {
              "outlinewidth": 0,
              "ticks": ""
             }
            },
            "type": "scatterternary"
           }
          ],
          "surface": [
           {
            "colorbar": {
             "outlinewidth": 0,
             "ticks": ""
            },
            "colorscale": [
             [
              0,
              "#0d0887"
             ],
             [
              0.1111111111111111,
              "#46039f"
             ],
             [
              0.2222222222222222,
              "#7201a8"
             ],
             [
              0.3333333333333333,
              "#9c179e"
             ],
             [
              0.4444444444444444,
              "#bd3786"
             ],
             [
              0.5555555555555556,
              "#d8576b"
             ],
             [
              0.6666666666666666,
              "#ed7953"
             ],
             [
              0.7777777777777778,
              "#fb9f3a"
             ],
             [
              0.8888888888888888,
              "#fdca26"
             ],
             [
              1,
              "#f0f921"
             ]
            ],
            "type": "surface"
           }
          ],
          "table": [
           {
            "cells": {
             "fill": {
              "color": "#EBF0F8"
             },
             "line": {
              "color": "white"
             }
            },
            "header": {
             "fill": {
              "color": "#C8D4E3"
             },
             "line": {
              "color": "white"
             }
            },
            "type": "table"
           }
          ]
         },
         "layout": {
          "annotationdefaults": {
           "arrowcolor": "#2a3f5f",
           "arrowhead": 0,
           "arrowwidth": 1
          },
          "autotypenumbers": "strict",
          "coloraxis": {
           "colorbar": {
            "outlinewidth": 0,
            "ticks": ""
           }
          },
          "colorscale": {
           "diverging": [
            [
             0,
             "#8e0152"
            ],
            [
             0.1,
             "#c51b7d"
            ],
            [
             0.2,
             "#de77ae"
            ],
            [
             0.3,
             "#f1b6da"
            ],
            [
             0.4,
             "#fde0ef"
            ],
            [
             0.5,
             "#f7f7f7"
            ],
            [
             0.6,
             "#e6f5d0"
            ],
            [
             0.7,
             "#b8e186"
            ],
            [
             0.8,
             "#7fbc41"
            ],
            [
             0.9,
             "#4d9221"
            ],
            [
             1,
             "#276419"
            ]
           ],
           "sequential": [
            [
             0,
             "#0d0887"
            ],
            [
             0.1111111111111111,
             "#46039f"
            ],
            [
             0.2222222222222222,
             "#7201a8"
            ],
            [
             0.3333333333333333,
             "#9c179e"
            ],
            [
             0.4444444444444444,
             "#bd3786"
            ],
            [
             0.5555555555555556,
             "#d8576b"
            ],
            [
             0.6666666666666666,
             "#ed7953"
            ],
            [
             0.7777777777777778,
             "#fb9f3a"
            ],
            [
             0.8888888888888888,
             "#fdca26"
            ],
            [
             1,
             "#f0f921"
            ]
           ],
           "sequentialminus": [
            [
             0,
             "#0d0887"
            ],
            [
             0.1111111111111111,
             "#46039f"
            ],
            [
             0.2222222222222222,
             "#7201a8"
            ],
            [
             0.3333333333333333,
             "#9c179e"
            ],
            [
             0.4444444444444444,
             "#bd3786"
            ],
            [
             0.5555555555555556,
             "#d8576b"
            ],
            [
             0.6666666666666666,
             "#ed7953"
            ],
            [
             0.7777777777777778,
             "#fb9f3a"
            ],
            [
             0.8888888888888888,
             "#fdca26"
            ],
            [
             1,
             "#f0f921"
            ]
           ]
          },
          "colorway": [
           "#636efa",
           "#EF553B",
           "#00cc96",
           "#ab63fa",
           "#FFA15A",
           "#19d3f3",
           "#FF6692",
           "#B6E880",
           "#FF97FF",
           "#FECB52"
          ],
          "font": {
           "color": "#2a3f5f"
          },
          "geo": {
           "bgcolor": "white",
           "lakecolor": "white",
           "landcolor": "#E5ECF6",
           "showlakes": true,
           "showland": true,
           "subunitcolor": "white"
          },
          "hoverlabel": {
           "align": "left"
          },
          "hovermode": "closest",
          "mapbox": {
           "style": "light"
          },
          "paper_bgcolor": "white",
          "plot_bgcolor": "#E5ECF6",
          "polar": {
           "angularaxis": {
            "gridcolor": "white",
            "linecolor": "white",
            "ticks": ""
           },
           "bgcolor": "#E5ECF6",
           "radialaxis": {
            "gridcolor": "white",
            "linecolor": "white",
            "ticks": ""
           }
          },
          "scene": {
           "xaxis": {
            "backgroundcolor": "#E5ECF6",
            "gridcolor": "white",
            "gridwidth": 2,
            "linecolor": "white",
            "showbackground": true,
            "ticks": "",
            "zerolinecolor": "white"
           },
           "yaxis": {
            "backgroundcolor": "#E5ECF6",
            "gridcolor": "white",
            "gridwidth": 2,
            "linecolor": "white",
            "showbackground": true,
            "ticks": "",
            "zerolinecolor": "white"
           },
           "zaxis": {
            "backgroundcolor": "#E5ECF6",
            "gridcolor": "white",
            "gridwidth": 2,
            "linecolor": "white",
            "showbackground": true,
            "ticks": "",
            "zerolinecolor": "white"
           }
          },
          "shapedefaults": {
           "line": {
            "color": "#2a3f5f"
           }
          },
          "ternary": {
           "aaxis": {
            "gridcolor": "white",
            "linecolor": "white",
            "ticks": ""
           },
           "baxis": {
            "gridcolor": "white",
            "linecolor": "white",
            "ticks": ""
           },
           "bgcolor": "#E5ECF6",
           "caxis": {
            "gridcolor": "white",
            "linecolor": "white",
            "ticks": ""
           }
          },
          "title": {
           "x": 0.05
          },
          "xaxis": {
           "automargin": true,
           "gridcolor": "white",
           "linecolor": "white",
           "ticks": "",
           "title": {
            "standoff": 15
           },
           "zerolinecolor": "white",
           "zerolinewidth": 2
          },
          "yaxis": {
           "automargin": true,
           "gridcolor": "white",
           "linecolor": "white",
           "ticks": "",
           "title": {
            "standoff": 15
           },
           "zerolinecolor": "white",
           "zerolinewidth": 2
          }
         }
        },
        "xaxis": {
         "anchor": "y",
         "domain": [
          0,
          1
         ],
         "title": {
          "text": "index"
         }
        },
        "yaxis": {
         "anchor": "x",
         "domain": [
          0,
          1
         ],
         "title": {
          "text": "value"
         }
        }
       }
      }
     },
     "metadata": {},
     "output_type": "display_data"
    }
   ],
   "source": [
    "#myun #면적 합\n",
    "locate_maegak_land_data = maegak_land_data.copy()\n",
    "locate_grouped = locate_maegak_land_data.groupby('지역구분')\n",
    "locate_grouped_sum = locate_grouped['대장금액(원)'].agg(['sum'])\n",
    "locate_grouped_sum = locate_grouped_sum.rename(columns={'sum':'금액합계'})\n",
    "print(locate_grouped_sum.iloc[0][0])\n",
    "print(myun.iloc[0][0])\n",
    "result_list = []\n",
    "for i in range(len(myun)):\n",
    "    result_list.append(locate_grouped_sum.iloc[i][0] / myun.iloc[i][0])\n",
    "print(result_list)\n",
    "result_df = pd.DataFrame(result_list,index= list(myun.index))\n",
    "result_df = result_df.rename(columns={0:'면적대비 가격'})\n",
    "print(result_df)\n",
    "fig_9 = px.bar(result_df,)\n",
    "fig_9.show()"
   ]
  },
  {
   "cell_type": "code",
   "execution_count": null,
   "metadata": {},
   "outputs": [],
   "source": []
  }
 ],
 "metadata": {
  "kernelspec": {
   "display_name": "base",
   "language": "python",
   "name": "python3"
  },
  "language_info": {
   "codemirror_mode": {
    "name": "ipython",
    "version": 3
   },
   "file_extension": ".py",
   "mimetype": "text/x-python",
   "name": "python",
   "nbconvert_exporter": "python",
   "pygments_lexer": "ipython3",
   "version": "3.11.5"
  }
 },
 "nbformat": 4,
 "nbformat_minor": 2
}
