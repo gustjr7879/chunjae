{
  "nbformat": 4,
  "nbformat_minor": 0,
  "metadata": {
    "colab": {
      "provenance": [],
      "gpuType": "T4"
    },
    "kernelspec": {
      "name": "python3",
      "display_name": "Python 3"
    },
    "language_info": {
      "name": "python"
    },
    "accelerator": "GPU"
  },
  "cells": [
    {
      "cell_type": "code",
      "execution_count": 2,
      "metadata": {
        "colab": {
          "base_uri": "https://localhost:8080/"
        },
        "id": "PFpPblH6qrG-",
        "outputId": "aeae1e11-ea9d-4fdf-a448-2658f40c48e0"
      },
      "outputs": [
        {
          "output_type": "stream",
          "name": "stdout",
          "text": [
            "Collecting datasets\n",
            "  Downloading datasets-2.18.0-py3-none-any.whl (510 kB)\n",
            "\u001b[2K     \u001b[90m━━━━━━━━━━━━━━━━━━━━━━━━━━━━━━━━━━━━━━━━\u001b[0m \u001b[32m510.5/510.5 kB\u001b[0m \u001b[31m4.8 MB/s\u001b[0m eta \u001b[36m0:00:00\u001b[0m\n",
            "\u001b[?25hRequirement already satisfied: filelock in /usr/local/lib/python3.10/dist-packages (from datasets) (3.13.4)\n",
            "Requirement already satisfied: numpy>=1.17 in /usr/local/lib/python3.10/dist-packages (from datasets) (1.25.2)\n",
            "Requirement already satisfied: pyarrow>=12.0.0 in /usr/local/lib/python3.10/dist-packages (from datasets) (14.0.2)\n",
            "Requirement already satisfied: pyarrow-hotfix in /usr/local/lib/python3.10/dist-packages (from datasets) (0.6)\n",
            "Collecting dill<0.3.9,>=0.3.0 (from datasets)\n",
            "  Downloading dill-0.3.8-py3-none-any.whl (116 kB)\n",
            "\u001b[2K     \u001b[90m━━━━━━━━━━━━━━━━━━━━━━━━━━━━━━━━━━━━━━━━\u001b[0m \u001b[32m116.3/116.3 kB\u001b[0m \u001b[31m7.3 MB/s\u001b[0m eta \u001b[36m0:00:00\u001b[0m\n",
            "\u001b[?25hRequirement already satisfied: pandas in /usr/local/lib/python3.10/dist-packages (from datasets) (2.0.3)\n",
            "Requirement already satisfied: requests>=2.19.0 in /usr/local/lib/python3.10/dist-packages (from datasets) (2.31.0)\n",
            "Requirement already satisfied: tqdm>=4.62.1 in /usr/local/lib/python3.10/dist-packages (from datasets) (4.66.2)\n",
            "Collecting xxhash (from datasets)\n",
            "  Downloading xxhash-3.4.1-cp310-cp310-manylinux_2_17_x86_64.manylinux2014_x86_64.whl (194 kB)\n",
            "\u001b[2K     \u001b[90m━━━━━━━━━━━━━━━━━━━━━━━━━━━━━━━━━━━━━━━━\u001b[0m \u001b[32m194.1/194.1 kB\u001b[0m \u001b[31m2.3 MB/s\u001b[0m eta \u001b[36m0:00:00\u001b[0m\n",
            "\u001b[?25hCollecting multiprocess (from datasets)\n",
            "  Downloading multiprocess-0.70.16-py310-none-any.whl (134 kB)\n",
            "\u001b[2K     \u001b[90m━━━━━━━━━━━━━━━━━━━━━━━━━━━━━━━━━━━━━━━━\u001b[0m \u001b[32m134.8/134.8 kB\u001b[0m \u001b[31m9.3 MB/s\u001b[0m eta \u001b[36m0:00:00\u001b[0m\n",
            "\u001b[?25hRequirement already satisfied: fsspec[http]<=2024.2.0,>=2023.1.0 in /usr/local/lib/python3.10/dist-packages (from datasets) (2023.6.0)\n",
            "Requirement already satisfied: aiohttp in /usr/local/lib/python3.10/dist-packages (from datasets) (3.9.3)\n",
            "Requirement already satisfied: huggingface-hub>=0.19.4 in /usr/local/lib/python3.10/dist-packages (from datasets) (0.20.3)\n",
            "Requirement already satisfied: packaging in /usr/local/lib/python3.10/dist-packages (from datasets) (24.0)\n",
            "Requirement already satisfied: pyyaml>=5.1 in /usr/local/lib/python3.10/dist-packages (from datasets) (6.0.1)\n",
            "Requirement already satisfied: aiosignal>=1.1.2 in /usr/local/lib/python3.10/dist-packages (from aiohttp->datasets) (1.3.1)\n",
            "Requirement already satisfied: attrs>=17.3.0 in /usr/local/lib/python3.10/dist-packages (from aiohttp->datasets) (23.2.0)\n",
            "Requirement already satisfied: frozenlist>=1.1.1 in /usr/local/lib/python3.10/dist-packages (from aiohttp->datasets) (1.4.1)\n",
            "Requirement already satisfied: multidict<7.0,>=4.5 in /usr/local/lib/python3.10/dist-packages (from aiohttp->datasets) (6.0.5)\n",
            "Requirement already satisfied: yarl<2.0,>=1.0 in /usr/local/lib/python3.10/dist-packages (from aiohttp->datasets) (1.9.4)\n",
            "Requirement already satisfied: async-timeout<5.0,>=4.0 in /usr/local/lib/python3.10/dist-packages (from aiohttp->datasets) (4.0.3)\n",
            "Requirement already satisfied: typing-extensions>=3.7.4.3 in /usr/local/lib/python3.10/dist-packages (from huggingface-hub>=0.19.4->datasets) (4.11.0)\n",
            "Requirement already satisfied: charset-normalizer<4,>=2 in /usr/local/lib/python3.10/dist-packages (from requests>=2.19.0->datasets) (3.3.2)\n",
            "Requirement already satisfied: idna<4,>=2.5 in /usr/local/lib/python3.10/dist-packages (from requests>=2.19.0->datasets) (3.6)\n",
            "Requirement already satisfied: urllib3<3,>=1.21.1 in /usr/local/lib/python3.10/dist-packages (from requests>=2.19.0->datasets) (2.0.7)\n",
            "Requirement already satisfied: certifi>=2017.4.17 in /usr/local/lib/python3.10/dist-packages (from requests>=2.19.0->datasets) (2024.2.2)\n",
            "Requirement already satisfied: python-dateutil>=2.8.2 in /usr/local/lib/python3.10/dist-packages (from pandas->datasets) (2.8.2)\n",
            "Requirement already satisfied: pytz>=2020.1 in /usr/local/lib/python3.10/dist-packages (from pandas->datasets) (2023.4)\n",
            "Requirement already satisfied: tzdata>=2022.1 in /usr/local/lib/python3.10/dist-packages (from pandas->datasets) (2024.1)\n",
            "Requirement already satisfied: six>=1.5 in /usr/local/lib/python3.10/dist-packages (from python-dateutil>=2.8.2->pandas->datasets) (1.16.0)\n",
            "Installing collected packages: xxhash, dill, multiprocess, datasets\n",
            "Successfully installed datasets-2.18.0 dill-0.3.8 multiprocess-0.70.16 xxhash-3.4.1\n"
          ]
        }
      ],
      "source": [
        "!pip install datasets\n",
        "\n"
      ]
    },
    {
      "cell_type": "code",
      "source": [
        "from datasets import load_dataset\n",
        "dataset = load_dataset('Bingsu/KSS_Dataset')"
      ],
      "metadata": {
        "colab": {
          "base_uri": "https://localhost:8080/"
        },
        "id": "Zt-MSsJcqzB_",
        "outputId": "e1642e53-2bb6-411c-b5cf-2562ce430fbc"
      },
      "execution_count": 1,
      "outputs": [
        {
          "output_type": "stream",
          "name": "stderr",
          "text": [
            "/usr/local/lib/python3.10/dist-packages/huggingface_hub/utils/_token.py:88: UserWarning: \n",
            "The secret `HF_TOKEN` does not exist in your Colab secrets.\n",
            "To authenticate with the Hugging Face Hub, create a token in your settings tab (https://huggingface.co/settings/tokens), set it as secret in your Google Colab and restart your session.\n",
            "You will be able to reuse this secret in all of your notebooks.\n",
            "Please note that authentication is recommended but still optional to access public models or datasets.\n",
            "  warnings.warn(\n"
          ]
        }
      ]
    },
    {
      "cell_type": "code",
      "source": [
        "print(dataset)\n",
        "train_dataset = dataset['train'][:100]"
      ],
      "metadata": {
        "colab": {
          "base_uri": "https://localhost:8080/"
        },
        "id": "nnIbI0x5q6tE",
        "outputId": "8b819cb5-84d8-4d98-c2fd-5e7fc7c30cc3"
      },
      "execution_count": 2,
      "outputs": [
        {
          "output_type": "stream",
          "name": "stdout",
          "text": [
            "DatasetDict({\n",
            "    train: Dataset({\n",
            "        features: ['audio', 'original_script', 'expanded_script', 'decomposed_script', 'duration', 'english_translation'],\n",
            "        num_rows: 12854\n",
            "    })\n",
            "})\n"
          ]
        }
      ]
    },
    {
      "cell_type": "code",
      "source": [
        "!pip install librosa\n",
        "import numpy as np\n",
        "import torch\n",
        "from torch.utils.data import Dataset,DataLoader\n",
        "from sklearn.model_selection import train_test_split\n",
        "from torch.nn.utils.rnn import pad_sequence"
      ],
      "metadata": {
        "colab": {
          "base_uri": "https://localhost:8080/"
        },
        "id": "aP9TXPwltjhd",
        "outputId": "b86912f8-3d74-4fea-b0e1-d1b73fcfae89"
      },
      "execution_count": 3,
      "outputs": [
        {
          "output_type": "stream",
          "name": "stdout",
          "text": [
            "Requirement already satisfied: librosa in /usr/local/lib/python3.10/dist-packages (0.10.1)\n",
            "Requirement already satisfied: audioread>=2.1.9 in /usr/local/lib/python3.10/dist-packages (from librosa) (3.0.1)\n",
            "Requirement already satisfied: numpy!=1.22.0,!=1.22.1,!=1.22.2,>=1.20.3 in /usr/local/lib/python3.10/dist-packages (from librosa) (1.25.2)\n",
            "Requirement already satisfied: scipy>=1.2.0 in /usr/local/lib/python3.10/dist-packages (from librosa) (1.11.4)\n",
            "Requirement already satisfied: scikit-learn>=0.20.0 in /usr/local/lib/python3.10/dist-packages (from librosa) (1.2.2)\n",
            "Requirement already satisfied: joblib>=0.14 in /usr/local/lib/python3.10/dist-packages (from librosa) (1.4.0)\n",
            "Requirement already satisfied: decorator>=4.3.0 in /usr/local/lib/python3.10/dist-packages (from librosa) (4.4.2)\n",
            "Requirement already satisfied: numba>=0.51.0 in /usr/local/lib/python3.10/dist-packages (from librosa) (0.58.1)\n",
            "Requirement already satisfied: soundfile>=0.12.1 in /usr/local/lib/python3.10/dist-packages (from librosa) (0.12.1)\n",
            "Requirement already satisfied: pooch>=1.0 in /usr/local/lib/python3.10/dist-packages (from librosa) (1.8.1)\n",
            "Requirement already satisfied: soxr>=0.3.2 in /usr/local/lib/python3.10/dist-packages (from librosa) (0.3.7)\n",
            "Requirement already satisfied: typing-extensions>=4.1.1 in /usr/local/lib/python3.10/dist-packages (from librosa) (4.11.0)\n",
            "Requirement already satisfied: lazy-loader>=0.1 in /usr/local/lib/python3.10/dist-packages (from librosa) (0.4)\n",
            "Requirement already satisfied: msgpack>=1.0 in /usr/local/lib/python3.10/dist-packages (from librosa) (1.0.8)\n",
            "Requirement already satisfied: packaging in /usr/local/lib/python3.10/dist-packages (from lazy-loader>=0.1->librosa) (24.0)\n",
            "Requirement already satisfied: llvmlite<0.42,>=0.41.0dev0 in /usr/local/lib/python3.10/dist-packages (from numba>=0.51.0->librosa) (0.41.1)\n",
            "Requirement already satisfied: platformdirs>=2.5.0 in /usr/local/lib/python3.10/dist-packages (from pooch>=1.0->librosa) (4.2.0)\n",
            "Requirement already satisfied: requests>=2.19.0 in /usr/local/lib/python3.10/dist-packages (from pooch>=1.0->librosa) (2.31.0)\n",
            "Requirement already satisfied: threadpoolctl>=2.0.0 in /usr/local/lib/python3.10/dist-packages (from scikit-learn>=0.20.0->librosa) (3.4.0)\n",
            "Requirement already satisfied: cffi>=1.0 in /usr/local/lib/python3.10/dist-packages (from soundfile>=0.12.1->librosa) (1.16.0)\n",
            "Requirement already satisfied: pycparser in /usr/local/lib/python3.10/dist-packages (from cffi>=1.0->soundfile>=0.12.1->librosa) (2.22)\n",
            "Requirement already satisfied: charset-normalizer<4,>=2 in /usr/local/lib/python3.10/dist-packages (from requests>=2.19.0->pooch>=1.0->librosa) (3.3.2)\n",
            "Requirement already satisfied: idna<4,>=2.5 in /usr/local/lib/python3.10/dist-packages (from requests>=2.19.0->pooch>=1.0->librosa) (3.6)\n",
            "Requirement already satisfied: urllib3<3,>=1.21.1 in /usr/local/lib/python3.10/dist-packages (from requests>=2.19.0->pooch>=1.0->librosa) (2.0.7)\n",
            "Requirement already satisfied: certifi>=2017.4.17 in /usr/local/lib/python3.10/dist-packages (from requests>=2.19.0->pooch>=1.0->librosa) (2024.2.2)\n"
          ]
        }
      ]
    },
    {
      "cell_type": "code",
      "source": [
        "\n"
      ],
      "metadata": {
        "id": "_ZkQNsu8x-Z9"
      },
      "execution_count": 3,
      "outputs": []
    },
    {
      "cell_type": "code",
      "source": [],
      "metadata": {
        "id": "PysoTF1mDThU"
      },
      "execution_count": 3,
      "outputs": []
    },
    {
      "cell_type": "code",
      "source": [],
      "metadata": {
        "id": "dag5zEZIDofM"
      },
      "execution_count": 3,
      "outputs": []
    },
    {
      "cell_type": "code",
      "source": [
        "import pandas as pd\n",
        "import numpy as np\n",
        "import os, librosa, re, glob, scipy\n",
        "from tqdm import tqdm\n",
        "\n",
        "\n",
        "filters = '([.,!?])'\n",
        "\n",
        "wavs = train_dataset['audio']\n",
        "text = train_dataset['original_script']\n",
        "\n",
        "print(wavs[0])\n",
        "\n",
        "\n"
      ],
      "metadata": {
        "colab": {
          "base_uri": "https://localhost:8080/"
        },
        "id": "eRs2azbgDcjJ",
        "outputId": "0a60c084-1ea2-4d28-8ccf-6aadc8e968b4"
      },
      "execution_count": 4,
      "outputs": [
        {
          "output_type": "stream",
          "name": "stdout",
          "text": [
            "{'path': None, 'array': array([ 0.00000000e+00,  3.05175781e-05, -4.57763672e-05, ...,\n",
            "        0.00000000e+00, -3.05175781e-05, -3.05175781e-05]), 'sampling_rate': 44100}\n"
          ]
        }
      ]
    },
    {
      "cell_type": "code",
      "source": [],
      "metadata": {
        "id": "JZWaXYsfJLSK"
      },
      "execution_count": 4,
      "outputs": []
    },
    {
      "cell_type": "code",
      "source": [
        "import re\n",
        "import unicodedata\n",
        "\n",
        "CHOSUNGS = \"\".join([chr(_) for _ in range(0x1100, 0x1113)])\n",
        "JOONGSUNGS = \"\".join([chr(_) for _ in range(0x1161, 0x1176)])\n",
        "JONGSUNGS = \"\".join([chr(_) for _ in range(0x11A8, 0x11C3)])\n",
        "ALPHABETS = \"ABCDEFGHIJKLMNOPQRSTUVWXYZ\"\n",
        "NUMBERS = \"0123456789\"\n",
        "SPECIALS = \" ?!\"\n",
        "\n",
        "ALL_VOCABS = \"\".join([\n",
        "    CHOSUNGS,\n",
        "    JOONGSUNGS,\n",
        "    JONGSUNGS,\n",
        "    ALPHABETS,\n",
        "    NUMBERS,\n",
        "    SPECIALS\n",
        "])\n",
        "VOCAB_DICT = {\n",
        "    \"_\": 0,\n",
        "    \"~\": 1,\n",
        "}\n",
        "\n",
        "for idx, v in enumerate(ALL_VOCABS):\n",
        "    VOCAB_DICT[v] = idx + 2\n",
        "\n",
        "\n",
        "def normalize(text):\n",
        "    text = unicodedata.normalize('NFKD', text)\n",
        "    text = text.upper()\n",
        "    text = text.replace('%', unicodedata.normalize('NFKD', '퍼센트'))\n",
        "    regex = unicodedata.normalize('NFKD', r\"[^ \\u11A8-\\u11FF\\u1100-\\u115E\\u1161-\\u11A70-9A-Z?!]\")\n",
        "    text = re.sub(regex, '', text)\n",
        "    text = re.sub(' +', ' ', text)\n",
        "    text = text.strip()\n",
        "    return text\n",
        "\n",
        "\n",
        "def tokenize(text, encoding: bool = True):\n",
        "    tokens = list()\n",
        "\n",
        "    for t in text:\n",
        "        if encoding:\n",
        "            tokens.append(VOCAB_DICT[t])\n",
        "        else:\n",
        "            tokens.append(t)\n",
        "\n",
        "    if encoding:\n",
        "        tokens.append(VOCAB_DICT['~'])\n",
        "    else:\n",
        "        tokens.append('~')\n",
        "\n",
        "    return tokens\n",
        "\n",
        "\n",
        "def text_to_sequence(text):\n",
        "    text = normalize(text)\n",
        "    print(text)\n",
        "    tokens = tokenize(text, encoding=True)\n",
        "    return tokens"
      ],
      "metadata": {
        "id": "sZL8mBLWKI4r"
      },
      "execution_count": 5,
      "outputs": []
    },
    {
      "cell_type": "code",
      "source": [
        "encoded_text = [text_to_sequence(t) for t in text]"
      ],
      "metadata": {
        "colab": {
          "base_uri": "https://localhost:8080/"
        },
        "id": "HcMRol_5LwOy",
        "outputId": "25f75eee-8d00-4a40-ad27-a3e9bbb45f7d"
      },
      "execution_count": 6,
      "outputs": [
        {
          "output_type": "stream",
          "name": "stdout",
          "text": [
            "그는 괜찮은 척하려고 애쓰는 것 같았다\n",
            "그녀의 사랑을 얻기 위해 애썼지만 헛수고였다\n",
            "용돈을 아껴 써라\n",
            "그는 아내를 많이 아낀다\n",
            "그 애 전화번호 알아?\n",
            "차에 대해 잘 아세요?\n",
            "거기 도착하면 나한테 알려 줘\n",
            "그들은 내가 시험에 떨어졌다고 알려 왔다\n",
            "나는 살아오면서 감기를 앓은 적이 한 번도 없다\n",
            "사흘 동안 심하게 몸살을 앓았어요\n",
            "요즘 공부가 안돼요\n",
            "장사가 잘 안돼서 우울해\n",
            "아무 것도 먹지 않으면 죽게 되어 있다\n",
            "그녀는 이유를 묻지 않고 돈을 빌려 주었다\n",
            "내가 아기를 안고 있을게\n",
            "엄마는 말없이 나를 꼭 안아 주셨다\n",
            "자리에 앉으세요\n",
            "한 여자가 내 옆에 앉았다\n",
            "114에 전화를 해서 번호를 알아보시지 그러세요?\n",
            "내가 누군지 알아보겠니?\n",
            "그는 절대 다른 사람의 의견을 받아들이지 않는다\n",
            "아이들도 언젠가는 그녀를 엄마로 받아들일 거야\n",
            "어디에서 영어를 배우셨어요?\n",
            "동료에게서 수화를 배우고 있습니다\n",
            "이거 다른 걸로 바꿀 수 있을까요?\n",
            "색깔을 바꾸는 게 나을 거 같아\n",
            "소영이 좀 바꿔 주세요\n",
            "눈이 얼음으로 바뀌었어\n",
            "핸드폰이 네 거랑 바뀐 거 같아\n",
            "그 차는 들판에 버려진 채 발견됐다\n",
            "이번 달 초에 상어떼가 해안가에서 발견됐다\n",
            "오타를 발견하시는 분께 사례하겠습니다\n",
            "결국 그의 개가 그의 시신을 발견했다\n",
            "정신분석학은 20세기에 급격히 발전했다\n",
            "한국어 실력이 날이 갈수록 발전하는 것을 보니 기쁩니다\n",
            "죄송하지만 제 이름을 밝힐 수는 없어요\n",
            "정전이 되어 촛불을 밝혔다\n",
            "모두가 시험에 통과했음을 발표하게 되어 기쁘게 생각합니다\n",
            "그 밴드는 첫 음반을 발표한 직후에 해체했다\n",
            "화재가 발생하지 않도록 조심해라\n",
            "어제 일본에서 태풍이 발생했다\n",
            "돌고래는 지능이 발달했다\n",
            "이 지역에는 농업이 발달했어요\n",
            "그녀는 내 제안에 반대했다\n",
            "저는 무력 사용을 반대합니다\n",
            "밤늦게 남의 집을 방문하는 것은 실례다\n",
            "저희 회사에 방문해 주셔서 감사드립니다\n",
            "너는 브레이크를 너무 세게 밟아\n",
            "어떤 남자가 지하철에서 내 발을 밟고 모른 척했다\n",
            "그녀는 호기심으로 가득찬 눈으로 나를 바라보았다\n",
            "이 문제는 제3자의 시각에서 바라볼 필요가 있어\n",
            "저한테 너무 많은 걸 바라지 마세요\n",
            "빨리 나으시길 바랍니다\n",
            "입술에 침이나 바르고 말해\n",
            "선크림을 발랐어야지\n",
            "나는 생일 선물로 책을 받았다\n",
            "신용 카드를 받나요?\n",
            "스트레스 받는 일 있어?\n",
            "어떻게 그렇게 돈을 버셨어요?\n",
            "한 달에 300만 원을 법니다\n",
            "입을 벌려 보세요\n",
            "지하철에서 다리를 벌리고 앉지 마라\n",
            "벽 사이에 벌어진 틈이 있어\n",
            "그 법안을 놓고 말다툼이 벌어졌어\n",
            "담배 꽁초를 여기에 버리지 마세요\n",
            "돈을 다 써 버렸어요\n",
            "내년 아버지 환갑 때 잔치를 벌일 거야\n",
            "오늘 아침 아내랑 말다툼을 벌였어\n",
            "가난에서 벗어나려면 습관부터 바꿔라\n",
            "복잡한 도시 지역을 벗어나니 참 좋군요\n",
            "외투 벗으실래요?\n",
            "신발이 너무 꽉 껴서 벗을 수가 없어요\n",
            "아침 햇빛이 비치는 걸 보니 상쾌하군\n",
            "커튼 너머에 누군가의 그림자가 비쳤다\n",
            "램프가 그의 작품을 비추게 배치되어 있었다\n",
            "아침마다 내 얼굴을 거울에 비춰 봐요\n",
            "금고는 이미 비어 있었다\n",
            "이 자리는 비었습니까?\n",
            "우리는 서로 답을 비교해 보았다\n",
            "부모가 저지르는 큰 실수 중 하나는 자기 아이를 다른 집 아이와 비교하는 것이다\n",
            "이틀 동안 차를 빌리고 싶은데요\n",
            "아내에게서 돈을 빌린다는 것은 좀 이상해요\n",
            "다이아몬드가 눈부시게 빛나고 있었다\n",
            "모든 창에서 촛불이 반짝반짝 빛나고 있었다\n",
            "영화 보러 갈까?\n",
            "오늘 우연히 길에서 그 여자를 봤어요\n",
            "제가 해 볼게요\n",
            "어디선가 뵌 분 같아요\n",
            "지난번에 뵌 후 오랜만에 뵙습니다\n",
            "그거 맛있어 보이네\n",
            "그는 나이에 비해 정말 젊어 보인다\n",
            "그녀가 나에게 사진 몇 장을 보여 주었다\n",
            "주민등록증을 보여 주시겠어요?\n",
            "김치가 맛이 없어서 볶았어\n",
            "고기를 기름에 볶지 마라\n",
            "이 소포를 뉴욕으로 보내고 싶은데요\n",
            "선생님께 한 부 보내 드리겠습니다\n",
            "휴가 잘 보내세요\n",
            "그녀는 짐 하나하나에 이름표를 붙였다\n",
            "침으로 편지 봉투에 우표를 붙이지 마세요\n"
          ]
        }
      ]
    },
    {
      "cell_type": "code",
      "source": [
        "print(encoded_text)"
      ],
      "metadata": {
        "colab": {
          "base_uri": "https://localhost:8080/"
        },
        "id": "Wyy0Gyf8L32p",
        "outputId": "b69e5517-66ad-48a8-8cda-935709ee6d66"
      },
      "execution_count": 7,
      "outputs": [
        {
          "output_type": "stream",
          "name": "stdout",
          "text": [
            "[[2, 39, 4, 39, 45, 105, 2, 31, 45, 16, 21, 47, 13, 39, 45, 105, 16, 25, 42, 20, 21, 7, 27, 2, 29, 105, 13, 22, 12, 39, 4, 39, 45, 105, 2, 25, 60, 105, 2, 21, 66, 13, 21, 61, 5, 21, 1], [2, 39, 4, 27, 13, 40, 105, 11, 21, 7, 21, 62, 13, 39, 49, 105, 13, 25, 48, 2, 41, 105, 13, 37, 20, 22, 105, 13, 22, 12, 25, 61, 14, 41, 8, 21, 45, 105, 20, 25, 60, 11, 34, 2, 29, 13, 27, 61, 5, 21, 1], [13, 33, 62, 5, 29, 45, 13, 39, 49, 105, 13, 21, 3, 27, 105, 12, 25, 7, 21, 1], [2, 39, 4, 39, 45, 105, 13, 21, 4, 22, 7, 39, 49, 105, 8, 21, 47, 13, 41, 105, 13, 21, 3, 41, 45, 5, 21, 1], [2, 39, 105, 13, 22, 105, 14, 25, 45, 20, 30, 9, 25, 45, 20, 29, 105, 13, 21, 49, 13, 21, 106, 1], [16, 21, 13, 26, 105, 5, 22, 20, 22, 105, 14, 21, 49, 105, 13, 21, 11, 26, 13, 33, 106, 1], [2, 25, 2, 41, 105, 5, 29, 16, 21, 42, 20, 21, 8, 27, 45, 105, 4, 21, 20, 21, 45, 18, 26, 105, 13, 21, 49, 7, 27, 105, 14, 35, 1], [2, 39, 5, 39, 49, 13, 39, 45, 105, 4, 22, 2, 21, 105, 11, 41, 20, 25, 57, 13, 26, 105, 6, 25, 49, 13, 25, 14, 27, 61, 5, 21, 2, 29, 105, 13, 21, 49, 7, 27, 105, 13, 30, 61, 5, 21, 1], [4, 21, 4, 39, 45, 105, 11, 21, 49, 13, 21, 13, 29, 8, 27, 45, 11, 25, 105, 2, 21, 57, 2, 41, 7, 39, 49, 105, 13, 21, 56, 13, 39, 45, 105, 14, 25, 42, 13, 41, 105, 20, 21, 45, 105, 9, 25, 45, 5, 29, 105, 13, 25, 59, 5, 21, 1], [11, 21, 20, 39, 49, 105, 5, 29, 62, 13, 21, 45, 105, 11, 41, 57, 20, 21, 2, 26, 105, 8, 29, 57, 11, 21, 49, 13, 39, 49, 105, 13, 21, 56, 13, 21, 61, 13, 25, 13, 33, 1], [13, 33, 14, 39, 57, 105, 2, 29, 62, 9, 34, 2, 21, 105, 13, 21, 45, 5, 31, 13, 33, 1], [14, 21, 62, 11, 21, 2, 21, 105, 14, 21, 49, 105, 13, 21, 45, 5, 31, 11, 25, 105, 13, 34, 13, 34, 49, 20, 22, 1], [13, 21, 8, 34, 105, 2, 25, 60, 5, 29, 105, 8, 25, 42, 14, 41, 105, 13, 21, 47, 13, 39, 8, 27, 45, 105, 14, 34, 42, 2, 26, 105, 5, 32, 13, 25, 105, 13, 41, 61, 5, 21, 1], [2, 39, 4, 27, 4, 39, 45, 105, 13, 41, 13, 38, 7, 39, 49, 105, 8, 34, 48, 14, 41, 105, 13, 21, 47, 2, 29, 105, 5, 29, 45, 13, 39, 49, 105, 9, 41, 49, 7, 27, 105, 14, 34, 13, 25, 61, 5, 21, 1], [4, 22, 2, 21, 105, 13, 21, 2, 41, 7, 39, 49, 105, 13, 21, 45, 2, 29, 105, 13, 41, 61, 13, 39, 49, 2, 26, 1], [13, 25, 57, 8, 21, 4, 39, 45, 105, 8, 21, 49, 13, 25, 59, 13, 41, 105, 4, 21, 7, 39, 49, 105, 3, 29, 42, 105, 13, 21, 45, 13, 21, 105, 14, 34, 11, 27, 61, 5, 21, 1], [14, 21, 7, 41, 13, 26, 105, 13, 21, 46, 13, 39, 11, 26, 13, 33, 1], [20, 21, 45, 105, 13, 27, 14, 21, 2, 21, 105, 4, 22, 105, 13, 27, 67, 13, 26, 105, 13, 21, 46, 13, 21, 61, 5, 21, 1], [96, 96, 99, 13, 26, 105, 14, 25, 45, 20, 30, 7, 39, 49, 105, 20, 22, 11, 25, 105, 9, 25, 45, 20, 29, 7, 39, 49, 105, 13, 21, 49, 13, 21, 9, 29, 11, 41, 14, 41, 105, 2, 39, 7, 25, 11, 26, 13, 33, 106, 1], [4, 22, 2, 21, 105, 4, 34, 2, 34, 45, 14, 41, 105, 13, 21, 49, 13, 21, 9, 29, 2, 26, 61, 4, 41, 106, 1], [2, 39, 4, 39, 45, 105, 14, 25, 49, 5, 22, 105, 5, 21, 7, 39, 45, 105, 11, 21, 7, 21, 57, 13, 40, 105, 13, 40, 2, 27, 45, 13, 39, 49, 105, 9, 21, 48, 13, 21, 5, 39, 49, 13, 41, 14, 41, 105, 13, 21, 47, 4, 39, 45, 5, 21, 1], [13, 21, 13, 41, 5, 39, 49, 5, 29, 105, 13, 25, 45, 14, 26, 45, 2, 21, 4, 39, 45, 105, 2, 39, 4, 27, 7, 39, 49, 105, 13, 25, 57, 8, 21, 7, 29, 105, 9, 21, 48, 13, 21, 5, 39, 49, 13, 41, 49, 105, 2, 25, 13, 23, 1], [13, 25, 5, 41, 13, 26, 11, 25, 105, 13, 27, 62, 13, 25, 7, 39, 49, 105, 9, 22, 13, 34, 11, 27, 61, 13, 25, 13, 33, 106, 1], [5, 29, 62, 7, 33, 13, 26, 2, 26, 11, 25, 105, 11, 34, 20, 30, 7, 39, 49, 105, 9, 22, 13, 34, 2, 29, 105, 13, 41, 61, 11, 39, 58, 4, 41, 5, 21, 1], [13, 41, 2, 25, 105, 5, 21, 7, 39, 45, 105, 2, 25, 49, 7, 29, 105, 9, 21, 3, 34, 49, 105, 11, 34, 105, 13, 41, 61, 13, 39, 49, 3, 21, 13, 33, 106, 1], [11, 22, 42, 3, 21, 49, 13, 39, 49, 105, 9, 21, 3, 34, 4, 39, 45, 105, 2, 26, 105, 4, 21, 13, 39, 49, 105, 2, 25, 105, 2, 21, 66, 13, 21, 1], [11, 29, 13, 27, 62, 13, 41, 105, 14, 29, 57, 105, 9, 21, 3, 35, 105, 14, 34, 11, 26, 13, 33, 1], [4, 34, 45, 13, 41, 105, 13, 25, 49, 13, 39, 57, 13, 39, 7, 29, 105, 9, 21, 3, 37, 13, 25, 61, 13, 25, 1], [20, 22, 45, 5, 39, 19, 29, 45, 13, 41, 105, 4, 26, 105, 2, 25, 7, 21, 62, 105, 9, 21, 3, 37, 45, 105, 2, 25, 105, 2, 21, 66, 13, 21, 1], [2, 39, 105, 16, 21, 4, 39, 45, 105, 5, 39, 49, 19, 21, 45, 13, 26, 105, 9, 25, 7, 27, 14, 41, 45, 105, 16, 22, 105, 9, 21, 49, 2, 27, 45, 5, 31, 61, 5, 21, 1], [13, 41, 9, 25, 45, 105, 5, 21, 49, 105, 16, 29, 13, 26, 105, 11, 21, 62, 13, 25, 6, 26, 2, 21, 105, 20, 22, 13, 21, 45, 2, 21, 13, 26, 11, 25, 105, 9, 21, 49, 2, 27, 45, 5, 31, 61, 5, 21, 1], [13, 29, 18, 21, 7, 39, 49, 105, 9, 21, 49, 2, 27, 45, 20, 21, 11, 41, 4, 39, 45, 105, 9, 34, 45, 3, 26, 105, 11, 21, 7, 28, 20, 21, 2, 26, 61, 11, 39, 58, 4, 41, 5, 21, 1], [2, 27, 49, 2, 34, 42, 105, 2, 39, 13, 40, 105, 2, 22, 2, 21, 105, 2, 39, 13, 40, 105, 11, 41, 11, 41, 45, 13, 39, 49, 105, 9, 21, 49, 2, 27, 45, 20, 22, 61, 5, 21, 1], [14, 25, 62, 11, 41, 45, 9, 34, 45, 11, 25, 42, 20, 21, 42, 13, 39, 45, 105, 97, 95, 11, 26, 2, 41, 13, 26, 105, 2, 39, 58, 2, 27, 42, 20, 41, 105, 9, 21, 49, 14, 25, 45, 20, 22, 61, 5, 21, 1], [20, 21, 45, 2, 34, 42, 13, 25, 105, 11, 41, 49, 7, 27, 42, 13, 41, 105, 4, 21, 49, 13, 41, 105, 2, 21, 49, 11, 34, 7, 29, 42, 105, 9, 21, 49, 14, 25, 45, 20, 21, 4, 39, 45, 105, 2, 25, 60, 13, 39, 49, 105, 9, 29, 4, 41, 105, 2, 41, 10, 39, 58, 4, 41, 5, 21, 1], [14, 32, 11, 29, 62, 20, 21, 14, 41, 8, 21, 45, 105, 14, 26, 105, 13, 41, 7, 39, 57, 13, 39, 49, 105, 9, 21, 50, 20, 41, 49, 105, 11, 34, 4, 39, 45, 105, 13, 25, 59, 13, 25, 13, 33, 1], [14, 25, 62, 14, 25, 45, 13, 41, 105, 5, 32, 13, 25, 105, 16, 29, 60, 9, 34, 49, 13, 39, 49, 105, 9, 21, 50, 20, 27, 61, 5, 21, 1], [8, 29, 5, 34, 2, 21, 105, 11, 41, 20, 25, 57, 13, 26, 105, 18, 29, 62, 2, 30, 20, 22, 61, 13, 39, 57, 13, 39, 49, 105, 9, 21, 49, 19, 33, 20, 21, 2, 26, 105, 5, 32, 13, 25, 105, 2, 41, 10, 39, 2, 26, 105, 11, 22, 62, 2, 21, 42, 20, 21, 58, 4, 41, 5, 21, 1], [2, 39, 105, 9, 22, 45, 5, 39, 4, 39, 45, 105, 16, 25, 60, 105, 13, 39, 57, 9, 21, 45, 13, 39, 49, 105, 9, 21, 49, 19, 33, 20, 21, 45, 105, 14, 41, 42, 20, 34, 13, 26, 105, 20, 22, 16, 26, 20, 22, 61, 5, 21, 1], [20, 30, 14, 22, 2, 21, 105, 9, 21, 49, 11, 22, 62, 20, 21, 14, 41, 105, 13, 21, 47, 5, 29, 7, 29, 42, 105, 14, 29, 11, 41, 57, 20, 22, 7, 21, 1], [13, 25, 14, 26, 105, 13, 41, 49, 9, 29, 45, 13, 26, 11, 25, 105, 18, 22, 19, 34, 62, 13, 41, 105, 9, 21, 49, 11, 22, 62, 20, 22, 61, 5, 21, 1], [5, 29, 49, 2, 29, 7, 22, 4, 39, 45, 105, 14, 41, 4, 39, 62, 13, 41, 105, 9, 21, 49, 5, 21, 49, 20, 22, 61, 5, 21, 1], [13, 41, 105, 14, 41, 13, 27, 42, 13, 26, 4, 39, 45, 105, 4, 29, 62, 13, 25, 58, 13, 41, 105, 9, 21, 49, 5, 21, 49, 20, 22, 61, 13, 25, 13, 33, 1], [2, 39, 4, 27, 4, 39, 45, 105, 4, 22, 105, 14, 26, 13, 21, 45, 13, 26, 105, 9, 21, 45, 5, 22, 20, 22, 61, 5, 21, 1], [14, 25, 4, 39, 45, 105, 8, 34, 7, 27, 42, 105, 11, 21, 13, 33, 62, 13, 39, 49, 105, 9, 21, 45, 5, 22, 20, 21, 58, 4, 41, 5, 21, 1], [9, 21, 57, 4, 39, 63, 2, 26, 105, 4, 21, 57, 13, 40, 105, 14, 41, 58, 13, 39, 49, 105, 9, 21, 62, 8, 34, 45, 20, 21, 4, 39, 45, 105, 2, 25, 60, 13, 39, 45, 105, 11, 41, 49, 7, 28, 5, 21, 1], [14, 25, 20, 40, 105, 20, 32, 11, 21, 13, 26, 105, 9, 21, 62, 8, 34, 45, 20, 22, 105, 14, 34, 11, 27, 11, 25, 105, 2, 21, 57, 11, 21, 5, 39, 7, 41, 58, 4, 41, 5, 21, 1], [4, 25, 4, 39, 45, 105, 9, 39, 7, 26, 13, 41, 17, 39, 7, 39, 49, 105, 4, 25, 8, 34, 105, 11, 26, 2, 26, 105, 9, 21, 52, 13, 21, 1], [13, 25, 6, 25, 45, 105, 4, 21, 57, 14, 21, 2, 21, 105, 14, 41, 20, 21, 16, 25, 49, 13, 26, 11, 25, 105, 4, 22, 105, 9, 21, 49, 13, 39, 49, 105, 9, 21, 52, 2, 29, 105, 8, 29, 7, 39, 45, 105, 16, 25, 42, 20, 22, 61, 5, 21, 1], [2, 39, 4, 27, 4, 39, 45, 105, 20, 29, 2, 41, 11, 41, 57, 13, 39, 7, 29, 105, 2, 21, 5, 39, 42, 16, 21, 45, 105, 4, 34, 45, 13, 39, 7, 29, 105, 4, 21, 7, 39, 49, 105, 9, 21, 7, 21, 9, 29, 13, 21, 61, 5, 21, 1], [13, 41, 105, 8, 34, 45, 14, 26, 4, 39, 45, 105, 14, 26, 98, 14, 21, 13, 40, 105, 11, 41, 2, 21, 42, 13, 26, 11, 25, 105, 9, 21, 7, 21, 9, 29, 49, 105, 19, 41, 49, 13, 33, 2, 21, 105, 13, 41, 61, 13, 25, 1], [14, 25, 20, 21, 45, 18, 26, 105, 4, 25, 8, 34, 105, 8, 21, 47, 13, 39, 45, 105, 2, 25, 49, 105, 9, 21, 7, 21, 14, 41, 105, 8, 21, 11, 26, 13, 33, 1], [10, 21, 49, 7, 41, 105, 4, 21, 13, 39, 11, 41, 2, 41, 49, 105, 9, 21, 7, 21, 58, 4, 41, 5, 21, 1], [13, 41, 58, 11, 34, 49, 13, 26, 105, 16, 41, 57, 13, 41, 4, 21, 105, 9, 21, 7, 39, 2, 29, 105, 8, 21, 49, 20, 22, 1], [11, 25, 45, 17, 39, 7, 41, 57, 13, 39, 49, 105, 9, 21, 49, 7, 21, 61, 13, 25, 13, 23, 14, 41, 1], [4, 21, 4, 39, 45, 105, 11, 22, 62, 13, 41, 49, 105, 11, 25, 45, 8, 34, 49, 7, 29, 105, 16, 22, 42, 13, 39, 49, 105, 9, 21, 48, 13, 21, 61, 5, 21, 1], [11, 41, 45, 13, 33, 62, 105, 17, 21, 5, 39, 7, 39, 49, 105, 9, 21, 48, 4, 21, 13, 33, 106, 1], [11, 39, 18, 39, 7, 26, 11, 39, 105, 9, 21, 48, 4, 39, 45, 105, 13, 41, 49, 105, 13, 41, 61, 13, 25, 106, 1], [13, 25, 6, 25, 68, 2, 26, 105, 2, 39, 7, 25, 68, 2, 26, 105, 5, 29, 45, 13, 39, 49, 105, 9, 25, 11, 27, 61, 13, 25, 13, 33, 106, 1], [20, 21, 45, 105, 5, 21, 49, 13, 26, 105, 98, 95, 95, 8, 21, 45, 105, 13, 35, 45, 13, 39, 49, 105, 9, 25, 58, 4, 41, 5, 21, 1], [13, 41, 58, 13, 39, 49, 105, 9, 25, 49, 7, 27, 105, 9, 29, 11, 26, 13, 33, 1], [14, 41, 20, 21, 16, 25, 49, 13, 26, 11, 25, 105, 5, 21, 7, 41, 7, 39, 49, 105, 9, 25, 49, 7, 41, 2, 29, 105, 13, 21, 46, 14, 41, 105, 8, 21, 7, 21, 1], [9, 27, 42, 105, 11, 21, 13, 41, 13, 26, 105, 9, 25, 49, 13, 25, 14, 41, 45, 105, 18, 39, 57, 13, 41, 105, 13, 41, 61, 13, 25, 1], [2, 39, 105, 9, 25, 58, 13, 21, 45, 13, 39, 49, 105, 4, 29, 68, 2, 29, 105, 8, 21, 49, 5, 21, 18, 34, 57, 13, 41, 105, 9, 25, 49, 13, 25, 14, 27, 61, 13, 25, 1], [5, 21, 57, 9, 22, 105, 3, 29, 62, 16, 29, 7, 39, 49, 105, 13, 27, 2, 41, 13, 26, 105, 9, 25, 7, 41, 14, 41, 105, 8, 21, 11, 26, 13, 33, 1], [5, 29, 45, 13, 39, 49, 105, 5, 21, 105, 12, 25, 105, 9, 25, 7, 27, 61, 13, 25, 13, 33, 1], [4, 22, 4, 27, 45, 105, 13, 21, 9, 25, 14, 41, 105, 20, 30, 45, 2, 21, 58, 105, 6, 22, 105, 14, 21, 45, 16, 41, 7, 39, 49, 105, 9, 25, 49, 13, 41, 49, 105, 2, 25, 13, 23, 1], [13, 29, 4, 39, 49, 105, 13, 21, 16, 41, 57, 105, 13, 21, 4, 22, 7, 21, 62, 105, 8, 21, 49, 5, 21, 18, 34, 57, 13, 39, 49, 105, 9, 25, 49, 13, 27, 61, 13, 25, 1], [2, 21, 4, 21, 45, 13, 26, 11, 25, 105, 9, 25, 60, 13, 25, 4, 21, 7, 27, 8, 27, 45, 105, 11, 39, 58, 2, 30, 45, 9, 34, 18, 25, 105, 9, 21, 3, 35, 7, 21, 1], [9, 29, 42, 14, 21, 58, 20, 21, 45, 105, 5, 29, 11, 41, 105, 14, 41, 13, 27, 42, 13, 39, 49, 105, 9, 25, 60, 13, 25, 4, 21, 4, 41, 105, 16, 21, 57, 105, 14, 29, 68, 2, 34, 45, 13, 33, 1], [13, 32, 18, 34, 105, 9, 25, 60, 13, 39, 11, 41, 49, 7, 22, 13, 33, 106, 1], [11, 41, 45, 9, 21, 49, 13, 41, 105, 4, 25, 8, 34, 105, 3, 30, 42, 105, 3, 27, 11, 25, 105, 9, 25, 60, 13, 39, 49, 105, 11, 34, 2, 21, 105, 13, 25, 59, 13, 25, 13, 33, 1], [13, 21, 16, 41, 57, 105, 20, 22, 60, 9, 41, 64, 13, 41, 105, 9, 41, 16, 41, 4, 39, 45, 105, 2, 25, 49, 105, 9, 29, 4, 41, 105, 11, 21, 62, 17, 31, 20, 21, 2, 34, 45, 1], [17, 25, 18, 39, 45, 105, 4, 25, 8, 25, 13, 26, 105, 4, 34, 2, 34, 45, 2, 21, 13, 40, 105, 2, 39, 7, 41, 57, 14, 21, 2, 21, 105, 9, 41, 16, 27, 61, 5, 21, 1], [7, 22, 57, 19, 39, 2, 21, 105, 2, 39, 13, 40, 105, 14, 21, 42, 19, 34, 57, 13, 39, 49, 105, 9, 41, 16, 34, 2, 26, 105, 9, 22, 16, 41, 5, 32, 13, 25, 105, 13, 41, 61, 13, 25, 61, 5, 21, 1], [13, 21, 16, 41, 57, 8, 21, 5, 21, 105, 4, 22, 105, 13, 25, 49, 2, 34, 49, 13, 39, 49, 105, 2, 25, 13, 34, 49, 13, 26, 105, 9, 41, 16, 35, 105, 9, 30, 13, 33, 1], [2, 39, 57, 2, 29, 4, 39, 45, 105, 13, 41, 8, 41, 105, 9, 41, 13, 25, 105, 13, 41, 61, 13, 25, 61, 5, 21, 1], [13, 41, 105, 14, 21, 7, 41, 4, 39, 45, 105, 9, 41, 13, 25, 61, 11, 39, 58, 4, 41, 3, 21, 106, 1], [13, 34, 7, 41, 4, 39, 45, 105, 11, 25, 7, 29, 105, 5, 21, 58, 13, 39, 49, 105, 9, 41, 2, 33, 20, 22, 105, 9, 29, 13, 21, 61, 5, 21, 1], [9, 34, 8, 29, 2, 21, 105, 14, 25, 14, 41, 7, 39, 4, 39, 45, 105, 17, 39, 45, 105, 11, 41, 49, 11, 34, 105, 14, 34, 62, 105, 20, 21, 4, 21, 4, 39, 45, 105, 14, 21, 2, 41, 105, 13, 21, 13, 41, 7, 39, 49, 105, 5, 21, 7, 39, 45, 105, 14, 41, 58, 105, 13, 21, 13, 41, 13, 30, 105, 9, 41, 2, 33, 20, 21, 4, 39, 45, 105, 2, 25, 60, 13, 41, 5, 21, 1], [13, 41, 18, 39, 49, 105, 5, 29, 62, 13, 21, 45, 105, 16, 21, 7, 39, 49, 105, 9, 41, 49, 7, 41, 2, 29, 105, 11, 41, 67, 13, 39, 45, 5, 26, 13, 33, 1], [13, 21, 4, 22, 13, 26, 2, 26, 11, 25, 105, 5, 29, 45, 13, 39, 49, 105, 9, 41, 49, 7, 41, 45, 5, 21, 4, 39, 45, 105, 2, 25, 60, 13, 39, 45, 105, 14, 29, 57, 105, 13, 41, 11, 21, 62, 20, 22, 13, 33, 1], [5, 21, 13, 41, 13, 21, 8, 29, 45, 5, 39, 2, 21, 105, 4, 34, 45, 9, 34, 11, 41, 2, 26, 105, 9, 41, 64, 4, 21, 2, 29, 105, 13, 41, 61, 13, 25, 61, 5, 21, 1], [8, 29, 5, 39, 45, 105, 16, 21, 62, 13, 26, 11, 25, 105, 16, 29, 60, 9, 34, 49, 13, 41, 105, 9, 21, 45, 15, 21, 42, 9, 21, 45, 15, 21, 42, 105, 9, 41, 64, 4, 21, 2, 29, 105, 13, 41, 61, 13, 25, 61, 5, 21, 1], [13, 27, 62, 20, 30, 105, 9, 29, 7, 25, 105, 2, 21, 49, 3, 21, 106, 1], [13, 29, 4, 39, 49, 105, 13, 34, 13, 27, 45, 20, 41, 105, 2, 41, 49, 13, 26, 11, 25, 105, 2, 39, 105, 13, 27, 14, 21, 7, 39, 49, 105, 9, 30, 61, 13, 25, 13, 33, 1], [14, 26, 2, 21, 105, 20, 22, 105, 9, 29, 49, 2, 26, 13, 33, 1], [13, 25, 5, 41, 11, 25, 45, 2, 21, 105, 9, 32, 45, 105, 9, 34, 45, 105, 2, 21, 66, 13, 21, 13, 33, 1], [14, 41, 4, 21, 45, 9, 25, 45, 13, 26, 105, 9, 32, 45, 105, 20, 34, 105, 13, 29, 7, 22, 45, 8, 21, 45, 13, 26, 105, 9, 32, 58, 11, 39, 58, 4, 41, 5, 21, 1], [2, 39, 2, 25, 105, 8, 21, 60, 13, 41, 61, 13, 25, 105, 9, 29, 13, 41, 4, 26, 1], [2, 39, 4, 39, 45, 105, 4, 21, 13, 41, 13, 26, 105, 9, 41, 20, 22, 105, 14, 25, 62, 8, 21, 49, 105, 14, 25, 51, 13, 25, 105, 9, 29, 13, 41, 45, 5, 21, 1], [2, 39, 4, 27, 2, 21, 105, 4, 21, 13, 26, 2, 26, 105, 11, 21, 14, 41, 45, 105, 8, 27, 64, 105, 14, 21, 62, 13, 39, 49, 105, 9, 29, 13, 27, 105, 14, 34, 13, 25, 61, 5, 21, 1], [14, 34, 8, 41, 45, 5, 39, 62, 7, 29, 42, 14, 39, 62, 13, 39, 49, 105, 9, 29, 13, 27, 105, 14, 34, 11, 41, 2, 26, 61, 13, 25, 13, 33, 106, 1], [2, 41, 57, 16, 41, 2, 21, 105, 8, 21, 60, 13, 41, 105, 13, 25, 59, 13, 25, 11, 25, 105, 9, 29, 43, 13, 21, 61, 13, 25, 1], [2, 29, 2, 41, 7, 39, 49, 105, 2, 41, 7, 39, 57, 13, 26, 105, 9, 29, 43, 14, 41, 105, 8, 21, 7, 21, 1], [13, 41, 105, 11, 29, 19, 29, 7, 39, 49, 105, 4, 38, 13, 33, 42, 13, 39, 7, 29, 105, 9, 29, 4, 22, 2, 29, 105, 11, 41, 67, 13, 39, 45, 5, 26, 13, 33, 1], [11, 25, 45, 11, 22, 62, 4, 41, 57, 3, 26, 105, 20, 21, 45, 105, 9, 34, 105, 9, 29, 4, 22, 105, 5, 39, 7, 41, 2, 26, 61, 11, 39, 58, 4, 41, 5, 21, 1], [20, 38, 2, 21, 105, 14, 21, 49, 105, 9, 29, 4, 22, 11, 26, 13, 33, 1], [2, 39, 4, 27, 4, 39, 45, 105, 14, 41, 57, 105, 20, 21, 4, 21, 20, 21, 4, 21, 13, 26, 105, 13, 41, 7, 39, 57, 19, 33, 7, 39, 49, 105, 9, 34, 66, 13, 27, 61, 5, 21, 1], [16, 41, 57, 13, 39, 7, 29, 105, 19, 27, 45, 14, 41, 105, 9, 29, 62, 18, 34, 13, 26, 105, 13, 34, 19, 33, 7, 39, 49, 105, 9, 34, 66, 13, 41, 14, 41, 105, 8, 21, 11, 26, 13, 33, 1]]\n"
          ]
        }
      ]
    },
    {
      "cell_type": "code",
      "source": [
        "max_text_len = max(len(i) for i in encoded_text)\n",
        "print(max_text_len)\n",
        "max_sound_len = max(len(i['array']) for i in wavs)\n",
        "print(max_sound_len)"
      ],
      "metadata": {
        "colab": {
          "base_uri": "https://localhost:8080/"
        },
        "id": "MFhFYkg6MTHS",
        "outputId": "587432c0-396c-4d91-e524-127ab72579e1"
      },
      "execution_count": 8,
      "outputs": [
        {
          "output_type": "stream",
          "name": "stdout",
          "text": [
            "87\n",
            "292297\n"
          ]
        }
      ]
    },
    {
      "cell_type": "markdown",
      "source": [],
      "metadata": {
        "id": "h7Ju1sn4ZGuI"
      }
    },
    {
      "cell_type": "code",
      "source": [
        "sr = 44100"
      ],
      "metadata": {
        "id": "28WZqQVdXWaI"
      },
      "execution_count": 9,
      "outputs": []
    },
    {
      "cell_type": "code",
      "source": [
        "def spectogram(sig):\n",
        "  # STFT -> spectrogram\n",
        "  hop_length = 512  # 전체 frame 수\n",
        "  n_fft = 2048  # frame 하나당 sample 수\n",
        "\n",
        "  # calculate duration hop length and window in seconds\n",
        "  hop_length_duration = float(hop_length)/sr\n",
        "  n_fft_duration = float(n_fft)/sr\n",
        "  # STFT\n",
        "  stft = librosa.stft(sig, n_fft=n_fft, hop_length=hop_length)\n",
        "\n",
        "  # 복소공간 값 절댓값 취하기\n",
        "  magnitude = np.abs(stft)\n",
        "  # magnitude > Decibels\n",
        "  log_spectrogram = librosa.amplitude_to_db(magnitude)\n",
        "  return log_spectrogram\n",
        "# 스펙트로그램 길이를 일정하게 맞추는 함수\n",
        "max_spec_length = 400\n",
        "\n",
        "def pad_or_truncate(spec, max_length):\n",
        "    if spec.shape[1] < max_length:  # 스펙트로그램이 짧을 때\n",
        "        padded_spec = np.pad(spec, ((0, 0), (0, max_length - spec.shape[1])), mode='constant')\n",
        "        return padded_spec\n",
        "    elif spec.shape[1] > max_length:  # 스펙트로그램이 길 때\n",
        "        truncated_spec = spec[:, :max_length]\n",
        "        return truncated_spec\n",
        "    else:  # 스펙트로그램이 정확히 원하는 길이일 때\n",
        "        return spec\n",
        "\n",
        "spec_wavs = [pad_or_truncate(spectogram(i['array']),max_spec_length) for i in wavs]\n",
        "\n",
        "\n"
      ],
      "metadata": {
        "id": "9ysnXQh9Onpy"
      },
      "execution_count": 10,
      "outputs": []
    },
    {
      "cell_type": "code",
      "source": [
        "print(spec_wavs[11].shape) #1025 * 1000의 오디오 벡터 생성"
      ],
      "metadata": {
        "colab": {
          "base_uri": "https://localhost:8080/"
        },
        "id": "Kybtw5h7Uycx",
        "outputId": "0d52a4bb-44d0-4b35-9a08-03dfc6678929"
      },
      "execution_count": 11,
      "outputs": [
        {
          "output_type": "stream",
          "name": "stdout",
          "text": [
            "(1025, 400)\n"
          ]
        }
      ]
    },
    {
      "cell_type": "code",
      "source": [
        "max_text_length = 87\n",
        "def pad_or_truncate(spec, max_length):\n",
        "    if len(spec) < max_length:  # 스펙트로그램이 짧을 때\n",
        "        for i in range(max_length - len(spec)):\n",
        "          spec.append(0)\n",
        "        return spec\n",
        "    elif len(spec) > max_length:  # 스펙트로그램이 길 때\n",
        "        truncated_spec = spec[:, :max_length]\n",
        "        return truncated_spec\n",
        "    else:  # 스펙트로그램이 정확히 원하는 길이일 때\n",
        "        return spec\n",
        "encoded_text = [pad_or_truncate(i,max_text_length) for i in encoded_text]"
      ],
      "metadata": {
        "id": "OI3c0maNZ1NI"
      },
      "execution_count": 12,
      "outputs": []
    },
    {
      "cell_type": "code",
      "source": [
        "#GAN으로 noise data에 encoded text를 넣는것\n",
        "#real data에 audio vector를 넣는 것\n",
        "#따라서 text가 들어갈 때 원본과 가까운 data를 생성하는 것이 목적\n",
        "print(spec_wavs[0])"
      ],
      "metadata": {
        "colab": {
          "base_uri": "https://localhost:8080/"
        },
        "id": "xGLA8DmEXxxR",
        "outputId": "832fca7d-b843-456a-d744-a61572a3cc25"
      },
      "execution_count": 13,
      "outputs": [
        {
          "output_type": "stream",
          "name": "stdout",
          "text": [
            "[[-32.25624517 -32.25624517 -27.18824153 ...   0.           0.\n",
            "    0.        ]\n",
            " [-32.25624517 -32.25624517 -22.67655793 ...   0.           0.\n",
            "    0.        ]\n",
            " [-32.25624517 -32.25624517 -17.09062775 ...   0.           0.\n",
            "    0.        ]\n",
            " ...\n",
            " [-32.25624517 -32.25624517 -32.25624517 ...   0.           0.\n",
            "    0.        ]\n",
            " [-32.25624517 -32.25624517 -32.25624517 ...   0.           0.\n",
            "    0.        ]\n",
            " [-32.25624517 -32.25624517 -32.25624517 ...   0.           0.\n",
            "    0.        ]]\n"
          ]
        }
      ]
    },
    {
      "cell_type": "code",
      "source": [
        "import torch\n",
        "import torch.nn as nn\n",
        "import torch.optim as optim\n",
        "import numpy as np\n",
        "from torch.utils.data import Dataset, DataLoader\n",
        "\n",
        "# 생성자 클래스 정의\n",
        "class Generator(nn.Module):\n",
        "    def __init__(self, input_size, output_shape):\n",
        "        super(Generator, self).__init__()\n",
        "        self.input_size = input_size\n",
        "        self.output_shape = output_shape\n",
        "\n",
        "        self.fc = nn.Linear(input_size, 256)\n",
        "        self.fc2 = nn.Linear(256, 512)\n",
        "        self.fc3 = nn.Linear(512, np.prod(output_shape))\n",
        "        self.relu = nn.ReLU()\n",
        "        self.tanh = nn.Tanh()\n",
        "\n",
        "    def forward(self, x):\n",
        "        x = self.relu(self.fc(x))\n",
        "        x = self.relu(self.fc2(x))\n",
        "        x = self.tanh(self.fc3(x))\n",
        "        x = x.view(-1, *self.output_shape)\n",
        "        return x\n",
        "\n",
        "# 판별자 클래스 정의\n",
        "class Discriminator(nn.Module):\n",
        "    def __init__(self, input_shape):\n",
        "        super(Discriminator, self).__init__()\n",
        "        self.input_shape = input_shape\n",
        "\n",
        "        self.conv1 = nn.Conv2d(1, 64, kernel_size=4, stride=2, padding=1)\n",
        "        self.conv2 = nn.Conv2d(64, 128, kernel_size=4, stride=2, padding=1)\n",
        "        self.fc = nn.Linear(128 * (input_shape[0] // 4) * (input_shape[1] // 4), 1)\n",
        "        self.leaky_relu = nn.LeakyReLU(0.2)\n",
        "        self.sigmoid = nn.Sigmoid()\n",
        "\n",
        "    def forward(self, x):\n",
        "        x = x.view(-1, 1, *self.input_shape)\n",
        "        x = self.leaky_relu(self.conv1(x))\n",
        "        x = self.leaky_relu(self.conv2(x))\n",
        "        x = x.view(-1, 128 * (self.input_shape[0] // 4) * (self.input_shape[1] // 4))\n",
        "        x = self.sigmoid(self.fc(x))\n",
        "        return x"
      ],
      "metadata": {
        "id": "wKWKl3X3ad8p"
      },
      "execution_count": 14,
      "outputs": []
    },
    {
      "cell_type": "code",
      "source": [
        "# 텍스트와 오디오 데이터셋 클래스 정의\n",
        "class CustomDataset(Dataset):\n",
        "    def __init__(self, texts, audio_data):\n",
        "        self.texts = texts\n",
        "        self.audio_data = audio_data\n",
        "\n",
        "    def __len__(self):\n",
        "        return len(self.texts)\n",
        "\n",
        "    def __getitem__(self, idx):\n",
        "        text = self.texts[idx]\n",
        "        audio = self.audio_data[idx]\n",
        "        return torch.tensor(text, dtype=torch.float32), torch.tensor(audio, dtype=torch.float32)\n",
        "\n"
      ],
      "metadata": {
        "id": "LbRlwPlPbBbp"
      },
      "execution_count": 15,
      "outputs": []
    },
    {
      "cell_type": "code",
      "source": [
        "input_size = 87  # 텍스트 입력 차원\n",
        "audio_output_shape = (1025, 400)  # 오디오 출력 모양\n",
        "batch_size = 32\n",
        "num_epochs = 10\n",
        "learning_rate = 0.002\n"
      ],
      "metadata": {
        "id": "Kbp_O8izbJOI"
      },
      "execution_count": 16,
      "outputs": []
    },
    {
      "cell_type": "code",
      "source": [
        "# 생성자, 판별자, 손실 함수, 최적화 함수 초기화\n",
        "device = 'cuda:0'\n",
        "generator = Generator(input_size, audio_output_shape).to(device)\n",
        "discriminator = Discriminator(audio_output_shape).to(device)\n",
        "criterion = nn.BCELoss()\n",
        "optimizer_G = optim.Adam(generator.parameters(), lr=learning_rate, betas=(0.5, 0.999))\n",
        "optimizer_D = optim.Adam(discriminator.parameters(), lr=learning_rate, betas=(0.5, 0.999))\n",
        "\n",
        "# 데이터셋 및 데이터로더 생성\n",
        "print(len(encoded_text[0]))\n",
        "encoded_text= torch.tensor(encoded_text, dtype=torch.float32).to(device)\n",
        "spec_wavs =  torch.tensor(spec_wavs, dtype=torch.float32).to(device)\n",
        "\n",
        "\n",
        "# 모델 학습\n",
        "for epoch in range(num_epochs):\n",
        "    for i in range(len(encoded_text)):\n",
        "        # 진짜 데이터와 가짜 데이터 레이블 생성\n",
        "        real_labels = torch.ones(1).to(device)\n",
        "        fake_labels = torch.zeros(1).to(device)\n",
        "        # 판별자를 학습시키기 위해 진짜 데이터로부터 손실을 계산하여 역전파\n",
        "        optimizer_D.zero_grad()\n",
        "        real_outputs = discriminator(spec_wavs[i])\n",
        "        real_loss = criterion(real_outputs[0], real_labels)\n",
        "        real_loss.backward()\n",
        "\n",
        "        # 생성자로부터 가짜 데이터 생성하여 판별자의 손실 계산\n",
        "        fake_audios = generator(encoded_text[i])\n",
        "        fake_outputs = discriminator(fake_audios.detach())\n",
        "        fake_loss = criterion(fake_outputs[0], fake_labels)\n",
        "        fake_loss.backward()\n",
        "        optimizer_D.step()\n",
        "        # 생성자를 학습시키기 위해 생성된 가짜 데이터로부터 손실을 계산하여 역전파\n",
        "        optimizer_G.zero_grad()\n",
        "        outputs = discriminator(fake_audios)\n",
        "        gen_loss = criterion(outputs[0], real_labels)\n",
        "        gen_loss.backward()\n",
        "        optimizer_G.step()\n",
        "        # 학습 과정 출력\n",
        "        if (i+1) % 100 == 0:\n",
        "            print(f'Epoch [{epoch+1}/{num_epochs}], '\n",
        "                  f'Discriminator Loss: {real_loss.item() + fake_loss.item()}, '\n",
        "                  f'Generator Loss: {gen_loss.item()}')\n"
      ],
      "metadata": {
        "colab": {
          "base_uri": "https://localhost:8080/"
        },
        "id": "pOOZwXsbbJ3J",
        "outputId": "c96d78ad-f1ba-4b3e-e2a3-e991543b3841"
      },
      "execution_count": 17,
      "outputs": [
        {
          "output_type": "stream",
          "name": "stdout",
          "text": [
            "87\n"
          ]
        },
        {
          "output_type": "stream",
          "name": "stderr",
          "text": [
            "<ipython-input-17-8ed6918af6d4>:12: UserWarning: Creating a tensor from a list of numpy.ndarrays is extremely slow. Please consider converting the list to a single numpy.ndarray with numpy.array() before converting to a tensor. (Triggered internally at ../torch/csrc/utils/tensor_new.cpp:275.)\n",
            "  spec_wavs =  torch.tensor(spec_wavs, dtype=torch.float32).to(device)\n"
          ]
        },
        {
          "output_type": "stream",
          "name": "stdout",
          "text": [
            "Epoch [1/10], Discriminator Loss: 100.0, Generator Loss: 0.0\n",
            "Epoch [2/10], Discriminator Loss: 100.0, Generator Loss: 0.0\n",
            "Epoch [3/10], Discriminator Loss: 100.0, Generator Loss: 0.0\n",
            "Epoch [4/10], Discriminator Loss: 100.0, Generator Loss: 0.0\n",
            "Epoch [5/10], Discriminator Loss: 100.0, Generator Loss: 0.0\n",
            "Epoch [6/10], Discriminator Loss: 100.0, Generator Loss: 0.0\n",
            "Epoch [7/10], Discriminator Loss: 100.0, Generator Loss: 0.0\n",
            "Epoch [8/10], Discriminator Loss: 100.0, Generator Loss: 0.0\n",
            "Epoch [9/10], Discriminator Loss: 100.0, Generator Loss: 0.0\n",
            "Epoch [10/10], Discriminator Loss: 100.0, Generator Loss: 0.0\n"
          ]
        }
      ]
    },
    {
      "cell_type": "code",
      "source": [],
      "metadata": {
        "id": "LprUdDfR-OEu"
      },
      "execution_count": 17,
      "outputs": []
    },
    {
      "cell_type": "code",
      "source": [
        "test = generator(encoded_text[1])\n",
        "print(test.shape)\n",
        "print(train_dataset['original_script'][1])\n"
      ],
      "metadata": {
        "colab": {
          "base_uri": "https://localhost:8080/"
        },
        "id": "BXU00yVDbRmB",
        "outputId": "51277e8d-501d-4c03-cc35-95413b0ddf2d"
      },
      "execution_count": 18,
      "outputs": [
        {
          "output_type": "stream",
          "name": "stdout",
          "text": [
            "torch.Size([1, 1025, 400])\n",
            "그녀의 사랑을 얻기 위해 애썼지만 헛수고였다.\n"
          ]
        }
      ]
    },
    {
      "cell_type": "code",
      "source": [
        "audio_data = librosa.istft(test[0].detach().cpu().numpy(), hop_length=512)\n"
      ],
      "metadata": {
        "id": "mbprt9kPobtI"
      },
      "execution_count": 19,
      "outputs": []
    },
    {
      "cell_type": "code",
      "source": [
        "import soundfile as sf"
      ],
      "metadata": {
        "id": "UndMglmqpyMH"
      },
      "execution_count": 20,
      "outputs": []
    },
    {
      "cell_type": "code",
      "source": [
        "print(audio_data.shape)"
      ],
      "metadata": {
        "colab": {
          "base_uri": "https://localhost:8080/"
        },
        "id": "R_BSKzEgqOZP",
        "outputId": "07093708-5760-44e1-d6a5-32c40afd57ef"
      },
      "execution_count": 21,
      "outputs": [
        {
          "output_type": "stream",
          "name": "stdout",
          "text": [
            "(204288,)\n"
          ]
        }
      ]
    },
    {
      "cell_type": "code",
      "source": [
        "from google.colab import drive\n",
        "drive.mount('/content/drive')\n",
        "\n"
      ],
      "metadata": {
        "colab": {
          "base_uri": "https://localhost:8080/"
        },
        "id": "ICUi0AQIqfme",
        "outputId": "24ebaa93-3ab3-499f-e819-9609c3ff41ff"
      },
      "execution_count": 22,
      "outputs": [
        {
          "output_type": "stream",
          "name": "stdout",
          "text": [
            "Drive already mounted at /content/drive; to attempt to forcibly remount, call drive.mount(\"/content/drive\", force_remount=True).\n"
          ]
        }
      ]
    },
    {
      "cell_type": "code",
      "source": [
        "%cd /content/drive/"
      ],
      "metadata": {
        "colab": {
          "base_uri": "https://localhost:8080/"
        },
        "id": "v2aXBhX1qo92",
        "outputId": "510e71c8-80c5-416e-9aeb-4668084e845f"
      },
      "execution_count": 23,
      "outputs": [
        {
          "output_type": "stream",
          "name": "stdout",
          "text": [
            "/content/drive\n"
          ]
        }
      ]
    },
    {
      "cell_type": "code",
      "source": [
        "print(test[0].shape)"
      ],
      "metadata": {
        "colab": {
          "base_uri": "https://localhost:8080/"
        },
        "id": "P6nmg8lNs904",
        "outputId": "0f07b7dd-aa46-4cd8-cca9-8493919bb32a"
      },
      "execution_count": 24,
      "outputs": [
        {
          "output_type": "stream",
          "name": "stdout",
          "text": [
            "torch.Size([1025, 400])\n"
          ]
        }
      ]
    },
    {
      "cell_type": "code",
      "source": [
        "import torchaudio\n",
        "print(audio_data.shape)\n",
        "sf.write('/content/drive/My Drive/generated_audio.wav',audio_data,samplerate = 44100)\n"
      ],
      "metadata": {
        "colab": {
          "base_uri": "https://localhost:8080/"
        },
        "id": "CwqZ3xDnsIg3",
        "outputId": "b82393f3-010f-4d13-9d07-e1f6db77951f"
      },
      "execution_count": 25,
      "outputs": [
        {
          "output_type": "stream",
          "name": "stdout",
          "text": [
            "(204288,)\n"
          ]
        }
      ]
    },
    {
      "cell_type": "code",
      "source": [
        "print(spec_wavs[0].shape)\n",
        "print(test[0].shape)\n",
        "\n"
      ],
      "metadata": {
        "colab": {
          "base_uri": "https://localhost:8080/"
        },
        "id": "PKXVVLPHrTkn",
        "outputId": "262ebe80-bd89-4749-c396-87ed738ba8c6"
      },
      "execution_count": 28,
      "outputs": [
        {
          "output_type": "stream",
          "name": "stdout",
          "text": [
            "torch.Size([1025, 400])\n",
            "torch.Size([1025, 400])\n"
          ]
        }
      ]
    },
    {
      "cell_type": "code",
      "source": [
        "import matplotlib.pyplot as plt\n",
        "spec_wavs2 = spec_wavs.detach().cpu().numpy()\n",
        "plt.scatter(spec_wavs2[0][0],spec_wavs2[0][1])\n",
        "plt.show()"
      ],
      "metadata": {
        "colab": {
          "base_uri": "https://localhost:8080/",
          "height": 430
        },
        "id": "qeXHLJmhrLve",
        "outputId": "10116582-7c7c-4d67-aff1-a1bb47740361"
      },
      "execution_count": 46,
      "outputs": [
        {
          "output_type": "display_data",
          "data": {
            "text/plain": [
              "<Figure size 640x480 with 1 Axes>"
            ],
            "image/png": "[encoded data removed]"
          },
          "metadata": {}
        }
      ]
    },
    {
      "cell_type": "code",
      "source": [
        "test2 = test.detach().cpu().numpy()\n",
        "print(test2[0].shape)\n",
        "plt.scatter(test2[0][0],test2[0][1])\n",
        "plt.show()"
      ],
      "metadata": {
        "colab": {
          "base_uri": "https://localhost:8080/",
          "height": 448
        },
        "id": "rU7GZWDrpFUB",
        "outputId": "fa1da63b-77ba-443c-e8f6-3e5e36150447"
      },
      "execution_count": 49,
      "outputs": [
        {
          "output_type": "stream",
          "name": "stdout",
          "text": [
            "(1025, 400)\n"
          ]
        },
        {
          "output_type": "display_data",
          "data": {
            "text/plain": [
              "<Figure size 640x480 with 1 Axes>"
            ],
            "image/png": "[encoded data removed]"
          },
          "metadata": {}
        }
      ]
    },
    {
      "cell_type": "code",
      "source": [],
      "metadata": {
        "id": "6g3_koi2p4Gf"
      },
      "execution_count": null,
      "outputs": []
    }
  ]
}