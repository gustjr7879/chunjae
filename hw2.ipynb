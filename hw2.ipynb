{
 "cells": [
  {
   "cell_type": "markdown",
   "metadata": {},
   "source": [
    "1. one-sample t-test 검정"
   ]
  },
  {
   "cell_type": "code",
   "execution_count": 1,
   "metadata": {},
   "outputs": [
    {
     "name": "stdout",
     "output_type": "stream",
     "text": [
      "   fixed acidity  volatile acidity  citric acid  residual sugar  chlorides  \\\n",
      "0            7.4              0.70         0.00             1.9      0.076   \n",
      "1            7.8              0.88         0.00             2.6      0.098   \n",
      "2            7.8              0.76         0.04             2.3      0.092   \n",
      "3           11.2              0.28         0.56             1.9      0.075   \n",
      "4            7.4              0.70         0.00             1.9      0.076   \n",
      "\n",
      "   free sulfur dioxide  total sulfur dioxide  density    pH  sulphates  \\\n",
      "0                 11.0                  34.0   0.9978  3.51       0.56   \n",
      "1                 25.0                  67.0   0.9968  3.20       0.68   \n",
      "2                 15.0                  54.0   0.9970  3.26       0.65   \n",
      "3                 17.0                  60.0   0.9980  3.16       0.58   \n",
      "4                 11.0                  34.0   0.9978  3.51       0.56   \n",
      "\n",
      "   alcohol  quality  \n",
      "0      9.4        5  \n",
      "1      9.8        5  \n",
      "2      9.8        5  \n",
      "3      9.8        6  \n",
      "4      9.4        5  \n",
      "   fixed acidity  volatile acidity  citric acid  residual sugar  chlorides  \\\n",
      "0            7.0              0.27         0.36            20.7      0.045   \n",
      "1            6.3              0.30         0.34             1.6      0.049   \n",
      "2            8.1              0.28         0.40             6.9      0.050   \n",
      "3            7.2              0.23         0.32             8.5      0.058   \n",
      "4            7.2              0.23         0.32             8.5      0.058   \n",
      "\n",
      "   free sulfur dioxide  total sulfur dioxide  density    pH  sulphates  \\\n",
      "0                 45.0                 170.0   1.0010  3.00       0.45   \n",
      "1                 14.0                 132.0   0.9940  3.30       0.49   \n",
      "2                 30.0                  97.0   0.9951  3.26       0.44   \n",
      "3                 47.0                 186.0   0.9956  3.19       0.40   \n",
      "4                 47.0                 186.0   0.9956  3.19       0.40   \n",
      "\n",
      "   alcohol  quality  \n",
      "0      8.8        6  \n",
      "1      9.5        6  \n",
      "2     10.1        6  \n",
      "3      9.9        6  \n",
      "4      9.9        6  \n"
     ]
    }
   ],
   "source": [
    "import pandas as pd\n",
    "\n",
    "url_red_wine = \"https://archive.ics.uci.edu/ml/machine-learning-databases/wine-quality/winequality-red.csv\"\n",
    "url_white_wine = \"https://archive.ics.uci.edu/ml/machine-learning-databases/wine-quality/winequality-white.csv\"\n",
    "\n",
    "red_wine_data = pd.read_csv(url_red_wine, sep=';')\n",
    "white_wine_data = pd.read_csv(url_white_wine, sep=';')\n",
    "\n",
    "print(red_wine_data.head())\n",
    "print(white_wine_data.head())"
   ]
  },
  {
   "cell_type": "code",
   "execution_count": 2,
   "metadata": {},
   "outputs": [
    {
     "name": "stdout",
     "output_type": "stream",
     "text": [
      "0       0.00\n",
      "1       0.00\n",
      "2       0.04\n",
      "3       0.56\n",
      "4       0.00\n",
      "        ... \n",
      "1594    0.08\n",
      "1595    0.10\n",
      "1596    0.13\n",
      "1597    0.12\n",
      "1598    0.47\n",
      "Name: citric acid, Length: 1599, dtype: float64\n",
      "t_statistic -970.7430669265271\n",
      "p-value 0.0\n",
      "귀무가설 기각. 통계적으로 유의미한 차이 존재\n"
     ]
    }
   ],
   "source": [
    "# 귀무가설 red_wine_data의 citric acid 변수의 평균이 귀무 가설 평균(5)와 통계적으로 유의미한 차이가 없다.\n",
    "# 대립가설 통계적으로 차이가 없다.\n",
    "\n",
    "# 1. 라이브러리 불러오기 (1sample)\n",
    "from scipy.stats import ttest_1samp\n",
    "import scipy.stats as stats\n",
    "\n",
    "# 2. 검정할 변수 설정\n",
    "var_red = red_wine_data['citric acid']\n",
    "print(red_wine_data['citric acid'])\n",
    "# 3. alpha 95%\n",
    "alpha = 0.05\n",
    "test_mean = 5\n",
    "\n",
    "#4. one-sample ttest 구하고 프린트하기\n",
    "t_statistic,p_val = ttest_1samp(var_red,test_mean)\n",
    "print('t_statistic',t_statistic)\n",
    "print('p-value',p_val)\n",
    "\n",
    "#아래 완성하기\n",
    "if p_val < alpha:\n",
    "    print('귀무가설 기각. 통계적으로 유의미한 차이 존재')\n",
    "else:\n",
    "    print('귀무가설 기각 불가. 통계적으로 유의미한 차이 없음')"
   ]
  },
  {
   "cell_type": "markdown",
   "metadata": {},
   "source": [
    "2. two-sample ttest 검정"
   ]
  },
  {
   "cell_type": "code",
   "execution_count": 3,
   "metadata": {},
   "outputs": [
    {
     "name": "stdout",
     "output_type": "stream",
     "text": [
      "t_statistic -12.228986494710666\n",
      "p-value 3.172970027090653e-33\n",
      "귀무가설 기각. 두 변수 간 통계적으로 유의미한 차이 존재\n"
     ]
    }
   ],
   "source": [
    "# 귀무가설: red_wine의 'citric acid' 변수와 white_wine의 'citric acid' 변수의 평균이 통계적으로 유의미한 차이가 없다. \n",
    "# 대립가설: 통계적으로 유의미한 차이가 있다. \n",
    "# 1. 라이브러리 import\n",
    "from scipy.stats import ttest_ind\n",
    "# 2. 검정하기 위한 변수 지정\n",
    "var_red = red_wine_data['citric acid']\n",
    "var_whie = white_wine_data['citric acid']\n",
    "# 3. two-sample ttest 및 출력\n",
    "t_statistic, p_val = ttest_ind(var_red,var_whie,equal_var=False)\n",
    "print('t_statistic',t_statistic)\n",
    "print('p-value',p_val)\n",
    "# 4. alpha는 99%신뢰도\n",
    "alpha = 0.01\n",
    "\n",
    "if p_val < alpha:\n",
    "    print('귀무가설 기각. 두 변수 간 통계적으로 유의미한 차이 존재')\n",
    "else:\n",
    "    print('귀무가설 기각 불가. 두 변수 간 통계적으로 유의미한 차이 없음')"
   ]
  },
  {
   "cell_type": "markdown",
   "metadata": {},
   "source": [
    "3. chi-square 검정"
   ]
  },
  {
   "cell_type": "code",
   "execution_count": 4,
   "metadata": {},
   "outputs": [
    {
     "name": "stdout",
     "output_type": "stream",
     "text": [
      "chi2 1047.7077577887574\n",
      "p_val 7.665800628415621e-230\n",
      "귀무가설 기각. 통계적으로 유의미한 연관성이 있다.\n"
     ]
    }
   ],
   "source": [
    "import pandas as pd \n",
    "insurance_df = pd.read_csv('../train.csv')\n",
    "insurance_df.head()\n",
    "\n",
    "# 귀무가설: Gender와 Response 사이는 연관성이 없다. \n",
    "# 대립가설: Gender와 Response 사이는 연관성이 있다.\n",
    "\n",
    "#1. 카이제곱 test를 수행하기 위한 라이브러리 불러오기\n",
    "from scipy.stats import chi2_contingency\n",
    "#2. pd.crosstab을 사용해서 contingency_table에 넣기\n",
    "contingency_table = pd.crosstab(insurance_df['Gender'],insurance_df['Response'])\n",
    "#3. 카이제곱 검정을 구현해서 값 구하고 출력\n",
    "chi2, p_val,_,_ = chi2_contingency(contingency_table)\n",
    "print('chi2',chi2)\n",
    "print('p_val',p_val)\n",
    "#4. alpha 신뢰도 90%\n",
    "alpha = 0.1\n",
    "if p_val < alpha:\n",
    "    print(\"귀무가설 기각. 통계적으로 유의미한 연관성이 있다.\")\n",
    "else:\n",
    "    print(\"귀무가설 기각 불가. 통계적으로 유의미한 연관성이 없다.\")"
   ]
  },
  {
   "cell_type": "markdown",
   "metadata": {},
   "source": [
    "4. 주어진 상황에 적합한 가설 검정 방법과 가설을 설정하고 검정하세요      \n",
    "상황1:      \n",
    "레드 와인 회사에서는 보유한 와인의 fixed acidity 가 기준 미달 수치(5)보다 통계적으로 유의미한 차이로 높다는 것을 확인하고자 합니다.       \n",
    "레드 와인 데이터 분석 담당으로서 위 가설을 통계적으로 검증하세요."
   ]
  },
  {
   "cell_type": "code",
   "execution_count": 5,
   "metadata": {},
   "outputs": [
    {
     "name": "stdout",
     "output_type": "stream",
     "text": [
      "8.31963727329581\n",
      "76.24161144799285\n",
      "0.0\n",
      "유의미한 차이 있음\n"
     ]
    }
   ],
   "source": [
    "# 기준 미달 수치 5 설정\n",
    "# one-sampling t-test를 사용해서 기준치 대비 높고 낮음을 검정한다\n",
    "#귀무가설 : 기준 미달 수치보다 유의미하게 낮다.\n",
    "#대립가설 : 기준 미달 수치보다 유의미하게 높다.\n",
    "test_data = red_wine_data['fixed acidity']\n",
    "print(red_wine_data['fixed acidity'].mean())\n",
    "t_sta,p_val = ttest_1samp(test_data,5)\n",
    "alpha = 0.05 #신뢰도 95 설정\n",
    "print(t_sta)\n",
    "print(p_val)\n",
    "if p_val < alpha:\n",
    "    print('유의미한 차이 있음')\n",
    "else:\n",
    "    print('유의미한 차이 없음')\n"
   ]
  },
  {
   "cell_type": "markdown",
   "metadata": {},
   "source": [
    "5. 주어진 상황에 적합한 가설 검정 방법과 가설을 설정하고, 검정하세요.     \n",
    "상황2:      \n",
    "한 보험 회사에서는 기존에 자동차 보험을 보유한 변수(previously insured)가 신규 자동차 보험에 대한 긍정적인 관심 여부를 파악한 변수(Response)와 연관성이 있는지 확인하고자 한다.        \n",
    "위 질문에 대한 적합한 가설을 설정하고 통계적으로 검정하세요.      "
   ]
  },
  {
   "cell_type": "code",
   "execution_count": 6,
   "metadata": {},
   "outputs": [
    {
     "name": "stdout",
     "output_type": "stream",
     "text": [
      "Index(['id', 'Gender', 'Age', 'Driving_License', 'Region_Code',\n",
      "       'Previously_Insured', 'Vehicle_Age', 'Vehicle_Damage', 'Annual_Premium',\n",
      "       'Policy_Sales_Channel', 'Vintage', 'Response'],\n",
      "      dtype='object')\n",
      "0         0\n",
      "1         0\n",
      "2         0\n",
      "3         1\n",
      "4         1\n",
      "         ..\n",
      "381104    1\n",
      "381105    1\n",
      "381106    1\n",
      "381107    0\n",
      "381108    0\n",
      "Name: Previously_Insured, Length: 381109, dtype: int64\n",
      "0         1\n",
      "1         0\n",
      "2         1\n",
      "3         0\n",
      "4         0\n",
      "         ..\n",
      "381104    0\n",
      "381105    0\n",
      "381106    0\n",
      "381107    0\n",
      "381108    0\n",
      "Name: Response, Length: 381109, dtype: int64\n"
     ]
    }
   ],
   "source": [
    "insurance_df = pd.read_csv('../train.csv')\n",
    "print(insurance_df.columns)\n",
    "\n",
    "print(insurance_df['Previously_Insured'])\n",
    "print(insurance_df['Response'])"
   ]
  },
  {
   "cell_type": "code",
   "execution_count": 7,
   "metadata": {},
   "outputs": [
    {
     "name": "stdout",
     "output_type": "stream",
     "text": [
      "0.0\n",
      "연관성이 있다.\n",
      "-0.34117046261352474\n"
     ]
    }
   ],
   "source": [
    "#위의 두가지 데이터 모두 범주형데이터임을 확인\n",
    "#범주형 데이터이므로 카이제곱검정 사용\n",
    "cross = pd.crosstab(insurance_df['Previously_Insured'],insurance_df['Response'])\n",
    "\n",
    "#귀무가설 : previously insured와 response 변수 간에는 연관성이 없다.\n",
    "#대립가설 : 있다.\n",
    "t_sta,p_val,_,_ = chi2_contingency(cross)\n",
    "#신뢰도 95%\n",
    "alpha = 0.05\n",
    "print(p_val)\n",
    "if p_val < alpha:\n",
    "    print('연관성이 있다.')\n",
    "else:\n",
    "    print('연관성이 없다.')\n",
    "\n",
    "print(insurance_df['Previously_Insured'].corr(insurance_df['Response']))\n",
    "#뚜렷한 음적 상관관계를 보이고있다.\n",
    "#corr을 사용해서 분석하면 편한데 왜 사용하지 않을까? 라는 생각이 듬 \n",
    "#정답은 피어슨 corr을 사용해서 상관관계를 분석하면 연속형 데이터의 경우 사용하지만 범주형 데이터의 경우 사용하지 않는다.\n",
    "#따라서 범주형 데이터의 경우 카이제곱 검정을 통해서 연관성 여부를 판단하는 것이 옳다.\n",
    "#만약에 범주형 데이터인데 순서형 변수(수우미양가, ABCDE, 소중대)로 표현된다면 스피어만 상관계수나 켄달타우계수를 확인하는 것이 좋다. "
   ]
  },
  {
   "cell_type": "markdown",
   "metadata": {},
   "source": [
    "6. 주어진 상황에 적합한 가설 검정 방법과 가설을 설정하고, 검정하세요.     \n",
    "A 은행에서는 고객들의 직업(job)과 신용 불량(default) 변수 간의 연관성을 확인하고자 한다.     \n",
    "적합한 통계적 검정방법을 선택하고 결과를 도출하세요.      "
   ]
  },
  {
   "cell_type": "code",
   "execution_count": 8,
   "metadata": {},
   "outputs": [
    {
     "name": "stdout",
     "output_type": "stream",
     "text": [
      "   age          job  marital  education default  balance housing loan  \\\n",
      "0   30   unemployed  married    primary      no     1787      no   no   \n",
      "1   33     services  married  secondary      no     4789     yes  yes   \n",
      "2   35   management   single   tertiary      no     1350     yes   no   \n",
      "3   30   management  married   tertiary      no     1476     yes  yes   \n",
      "4   59  blue-collar  married  secondary      no        0     yes   no   \n",
      "\n",
      "    contact  day month  duration  campaign  pdays  previous poutcome   y  \n",
      "0  cellular   19   oct        79         1     -1         0  unknown  no  \n",
      "1  cellular   11   may       220         1    339         4  failure  no  \n",
      "2  cellular   16   apr       185         1    330         1  failure  no  \n",
      "3   unknown    3   jun       199         4     -1         0  unknown  no  \n",
      "4   unknown    5   may       226         1     -1         0  unknown  no  \n"
     ]
    }
   ],
   "source": [
    "\n",
    "bank = pd.read_csv('../bank.csv',sep=';')\n",
    "print(bank.head())"
   ]
  },
  {
   "cell_type": "code",
   "execution_count": 9,
   "metadata": {},
   "outputs": [
    {
     "name": "stdout",
     "output_type": "stream",
     "text": [
      "0.5936373952315377\n",
      "연관성이 없다.\n",
      "0.009633799691551504\n"
     ]
    }
   ],
   "source": [
    "#직업, 신용불량 -> 비연속성 -> 카이제곱\n",
    "cross = pd.crosstab(bank['job'],bank['default'])\n",
    "#귀무가설 : 직업과 신용불량 변수 간에는 연관성이 없다.\n",
    "#대립가설 : 있다.\n",
    "t_sta,p_val,_,_ = chi2_contingency(cross)\n",
    "#신뢰도 95%\n",
    "alpha = 0.05\n",
    "print(p_val)\n",
    "if p_val < alpha:\n",
    "    print('연관성이 있다.')\n",
    "else:\n",
    "    print('연관성이 없다.')\n",
    "\n",
    "print(bank['job'].corr(bank['default'],method='spearman')) #spearman 상관계수로 연관성이 없는것 확인 !"
   ]
  },
  {
   "cell_type": "markdown",
   "metadata": {},
   "source": [
    "7. 주어진 상황에 적합한 가설 검정 방법과 가설을 설정하고, 검정하세요.    \n",
    "A은행에서는 결혼한 고객과 싱글인 고객그룹의 연평균 은행잔고(balance) 평균에 차이가 있는지, 있다면 얼만큼 차이가 있는지 확인하고자 한다.      \n",
    "적합한 통계적 검정방법을 선택하고 결과를 도출하세요.       "
   ]
  },
  {
   "cell_type": "code",
   "execution_count": 10,
   "metadata": {},
   "outputs": [
    {
     "name": "stdout",
     "output_type": "stream",
     "text": [
      "['married' 'single' 'divorced']\n",
      "['married' 'single']\n"
     ]
    }
   ],
   "source": [
    "print(bank['marital'].unique())\n",
    "#divorced를 single로 합치자\n",
    "def change_v(x):\n",
    "    if x == 'divorced':\n",
    "        x = 'single'\n",
    "    else:\n",
    "        pass\n",
    "    return x\n",
    "bank2 = bank.copy()\n",
    "bank2['marital'] = bank['marital'].apply(lambda x : change_v(x))\n",
    "print(bank2['marital'].unique())"
   ]
  },
  {
   "cell_type": "code",
   "execution_count": 11,
   "metadata": {},
   "outputs": [
    {
     "name": "stdout",
     "output_type": "stream",
     "text": [
      "marital\n",
      "married    1463.195567\n",
      "single     1356.889791\n",
      "Name: balance, dtype: float64\n",
      "0.24872430063147963\n",
      "차이가 없다.\n"
     ]
    }
   ],
   "source": [
    "#범주형 / 연속형 / 평균의 차이 카이제곱\n",
    "married = bank2[bank2['marital']=='married']\n",
    "singled = bank2[bank2['marital']=='single']\n",
    "#귀무가설 : 결혼과 은행잔고 평균에 차이가 없다.\n",
    "#대립가설 : 있다.\n",
    "print(bank2.groupby('marital')['balance'].mean())\n",
    "t_sta,p_val = ttest_ind(married['balance'],singled['balance'],equal_var='False')\n",
    "#신뢰도 95%\n",
    "alpha = 0.05\n",
    "print(p_val)\n",
    "if p_val < alpha:\n",
    "    print('차이가 있다.')\n",
    "else:\n",
    "    print('차이가 없다.')"
   ]
  },
  {
   "cell_type": "code",
   "execution_count": null,
   "metadata": {},
   "outputs": [],
   "source": []
  }
 ],
 "metadata": {
  "kernelspec": {
   "display_name": "base",
   "language": "python",
   "name": "python3"
  },
  "language_info": {
   "codemirror_mode": {
    "name": "ipython",
    "version": 3
   },
   "file_extension": ".py",
   "mimetype": "text/x-python",
   "name": "python",
   "nbconvert_exporter": "python",
   "pygments_lexer": "ipython3",
   "version": "3.11.5"
  }
 },
 "nbformat": 4,
 "nbformat_minor": 2
}
